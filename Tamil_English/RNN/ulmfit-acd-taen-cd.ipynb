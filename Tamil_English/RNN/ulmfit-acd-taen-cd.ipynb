{
 "cells": [
  {
   "cell_type": "code",
   "execution_count": 1,
   "id": "32470280",
   "metadata": {
    "_cell_guid": "b1076dfc-b9ad-4769-8c92-a6c4dae69d19",
    "_uuid": "8f2839f25d086af736a60e9eeb907d3b93b6e0e5",
    "execution": {
     "iopub.execute_input": "2022-03-03T18:50:05.472343Z",
     "iopub.status.busy": "2022-03-03T18:50:05.471558Z",
     "iopub.status.idle": "2022-03-03T18:51:57.031115Z",
     "shell.execute_reply": "2022-03-03T18:51:57.031759Z",
     "shell.execute_reply.started": "2022-03-02T16:31:31.755845Z"
    },
    "papermill": {
     "duration": 111.620288,
     "end_time": "2022-03-03T18:51:57.032270",
     "exception": false,
     "start_time": "2022-03-03T18:50:05.411982",
     "status": "completed"
    },
    "tags": []
   },
   "outputs": [
    {
     "name": "stdout",
     "output_type": "stream",
     "text": [
      "Collecting fastai==1.0.61\r\n",
      "  Downloading fastai-1.0.61-py3-none-any.whl (239 kB)\r\n",
      "     |████████████████████████████████| 239 kB 524 kB/s            \r\n",
      "\u001b[?25hRequirement already satisfied: packaging in /opt/conda/lib/python3.7/site-packages (from fastai==1.0.61) (21.3)\r\n",
      "Requirement already satisfied: beautifulsoup4 in /opt/conda/lib/python3.7/site-packages (from fastai==1.0.61) (4.10.0)\r\n",
      "Requirement already satisfied: spacy>=2.0.18 in /opt/conda/lib/python3.7/site-packages (from fastai==1.0.61) (3.2.1)\r\n",
      "Requirement already satisfied: matplotlib in /opt/conda/lib/python3.7/site-packages (from fastai==1.0.61) (3.5.1)\r\n",
      "Requirement already satisfied: requests in /opt/conda/lib/python3.7/site-packages (from fastai==1.0.61) (2.26.0)\r\n",
      "Requirement already satisfied: numpy>=1.15 in /opt/conda/lib/python3.7/site-packages (from fastai==1.0.61) (1.20.3)\r\n",
      "Requirement already satisfied: Pillow in /opt/conda/lib/python3.7/site-packages (from fastai==1.0.61) (8.2.0)\r\n",
      "Collecting nvidia-ml-py3\r\n",
      "  Downloading nvidia-ml-py3-7.352.0.tar.gz (19 kB)\r\n",
      "  Preparing metadata (setup.py) ... \u001b[?25l-\b \bdone\r\n",
      "\u001b[?25hRequirement already satisfied: scipy in /opt/conda/lib/python3.7/site-packages (from fastai==1.0.61) (1.7.3)\r\n",
      "Requirement already satisfied: pandas in /opt/conda/lib/python3.7/site-packages (from fastai==1.0.61) (1.3.5)\r\n",
      "Requirement already satisfied: torch>=1.0.0 in /opt/conda/lib/python3.7/site-packages (from fastai==1.0.61) (1.9.1)\r\n",
      "Requirement already satisfied: torchvision in /opt/conda/lib/python3.7/site-packages (from fastai==1.0.61) (0.10.1)\r\n",
      "Requirement already satisfied: fastprogress>=0.2.1 in /opt/conda/lib/python3.7/site-packages (from fastai==1.0.61) (1.0.0)\r\n",
      "Requirement already satisfied: bottleneck in /opt/conda/lib/python3.7/site-packages (from fastai==1.0.61) (1.3.2)\r\n",
      "Requirement already satisfied: numexpr in /opt/conda/lib/python3.7/site-packages (from fastai==1.0.61) (2.8.1)\r\n",
      "Requirement already satisfied: pyyaml in /opt/conda/lib/python3.7/site-packages (from fastai==1.0.61) (6.0)\r\n",
      "Requirement already satisfied: typer<0.5.0,>=0.3.0 in /opt/conda/lib/python3.7/site-packages (from spacy>=2.0.18->fastai==1.0.61) (0.4.0)\r\n",
      "Requirement already satisfied: preshed<3.1.0,>=3.0.2 in /opt/conda/lib/python3.7/site-packages (from spacy>=2.0.18->fastai==1.0.61) (3.0.6)\r\n",
      "Requirement already satisfied: jinja2 in /opt/conda/lib/python3.7/site-packages (from spacy>=2.0.18->fastai==1.0.61) (3.0.3)\r\n",
      "Requirement already satisfied: catalogue<2.1.0,>=2.0.6 in /opt/conda/lib/python3.7/site-packages (from spacy>=2.0.18->fastai==1.0.61) (2.0.6)\r\n",
      "Requirement already satisfied: langcodes<4.0.0,>=3.2.0 in /opt/conda/lib/python3.7/site-packages (from spacy>=2.0.18->fastai==1.0.61) (3.3.0)\r\n",
      "Requirement already satisfied: wasabi<1.1.0,>=0.8.1 in /opt/conda/lib/python3.7/site-packages (from spacy>=2.0.18->fastai==1.0.61) (0.9.0)\r\n",
      "Requirement already satisfied: thinc<8.1.0,>=8.0.12 in /opt/conda/lib/python3.7/site-packages (from spacy>=2.0.18->fastai==1.0.61) (8.0.13)\r\n",
      "Requirement already satisfied: blis<0.8.0,>=0.4.0 in /opt/conda/lib/python3.7/site-packages (from spacy>=2.0.18->fastai==1.0.61) (0.7.5)\r\n",
      "Requirement already satisfied: srsly<3.0.0,>=2.4.1 in /opt/conda/lib/python3.7/site-packages (from spacy>=2.0.18->fastai==1.0.61) (2.4.2)\r\n",
      "Collecting typing-extensions<4.0.0.0,>=3.7.4\r\n",
      "  Downloading typing_extensions-3.10.0.2-py3-none-any.whl (26 kB)\r\n",
      "Requirement already satisfied: setuptools in /opt/conda/lib/python3.7/site-packages (from spacy>=2.0.18->fastai==1.0.61) (59.5.0)\r\n",
      "Requirement already satisfied: murmurhash<1.1.0,>=0.28.0 in /opt/conda/lib/python3.7/site-packages (from spacy>=2.0.18->fastai==1.0.61) (1.0.6)\r\n",
      "Requirement already satisfied: pydantic!=1.8,!=1.8.1,<1.9.0,>=1.7.4 in /opt/conda/lib/python3.7/site-packages (from spacy>=2.0.18->fastai==1.0.61) (1.8.2)\r\n",
      "Requirement already satisfied: pathy>=0.3.5 in /opt/conda/lib/python3.7/site-packages (from spacy>=2.0.18->fastai==1.0.61) (0.6.1)\r\n",
      "Requirement already satisfied: spacy-loggers<2.0.0,>=1.0.0 in /opt/conda/lib/python3.7/site-packages (from spacy>=2.0.18->fastai==1.0.61) (1.0.1)\r\n",
      "Requirement already satisfied: spacy-legacy<3.1.0,>=3.0.8 in /opt/conda/lib/python3.7/site-packages (from spacy>=2.0.18->fastai==1.0.61) (3.0.8)\r\n",
      "Requirement already satisfied: tqdm<5.0.0,>=4.38.0 in /opt/conda/lib/python3.7/site-packages (from spacy>=2.0.18->fastai==1.0.61) (4.62.3)\r\n",
      "Requirement already satisfied: cymem<2.1.0,>=2.0.2 in /opt/conda/lib/python3.7/site-packages (from spacy>=2.0.18->fastai==1.0.61) (2.0.6)\r\n",
      "Requirement already satisfied: pyparsing!=3.0.5,>=2.0.2 in /opt/conda/lib/python3.7/site-packages (from packaging->fastai==1.0.61) (3.0.6)\r\n",
      "Requirement already satisfied: urllib3<1.27,>=1.21.1 in /opt/conda/lib/python3.7/site-packages (from requests->fastai==1.0.61) (1.26.7)\r\n",
      "Requirement already satisfied: certifi>=2017.4.17 in /opt/conda/lib/python3.7/site-packages (from requests->fastai==1.0.61) (2021.10.8)\r\n",
      "Requirement already satisfied: idna<4,>=2.5 in /opt/conda/lib/python3.7/site-packages (from requests->fastai==1.0.61) (3.1)\r\n",
      "Requirement already satisfied: charset-normalizer~=2.0.0 in /opt/conda/lib/python3.7/site-packages (from requests->fastai==1.0.61) (2.0.9)\r\n",
      "Requirement already satisfied: soupsieve>1.2 in /opt/conda/lib/python3.7/site-packages (from beautifulsoup4->fastai==1.0.61) (2.3.1)\r\n",
      "Requirement already satisfied: fonttools>=4.22.0 in /opt/conda/lib/python3.7/site-packages (from matplotlib->fastai==1.0.61) (4.28.4)\r\n",
      "Requirement already satisfied: kiwisolver>=1.0.1 in /opt/conda/lib/python3.7/site-packages (from matplotlib->fastai==1.0.61) (1.3.2)\r\n",
      "Requirement already satisfied: cycler>=0.10 in /opt/conda/lib/python3.7/site-packages (from matplotlib->fastai==1.0.61) (0.11.0)\r\n",
      "Requirement already satisfied: python-dateutil>=2.7 in /opt/conda/lib/python3.7/site-packages (from matplotlib->fastai==1.0.61) (2.8.2)\r\n",
      "Requirement already satisfied: pytz>=2017.3 in /opt/conda/lib/python3.7/site-packages (from pandas->fastai==1.0.61) (2021.3)\r\n",
      "Requirement already satisfied: zipp>=0.5 in /opt/conda/lib/python3.7/site-packages (from catalogue<2.1.0,>=2.0.6->spacy>=2.0.18->fastai==1.0.61) (3.6.0)\r\n",
      "Requirement already satisfied: smart-open<6.0.0,>=5.0.0 in /opt/conda/lib/python3.7/site-packages (from pathy>=0.3.5->spacy>=2.0.18->fastai==1.0.61) (5.2.1)\r\n",
      "Requirement already satisfied: six>=1.5 in /opt/conda/lib/python3.7/site-packages (from python-dateutil>=2.7->matplotlib->fastai==1.0.61) (1.16.0)\r\n",
      "Requirement already satisfied: click<9.0.0,>=7.1.1 in /opt/conda/lib/python3.7/site-packages (from typer<0.5.0,>=0.3.0->spacy>=2.0.18->fastai==1.0.61) (8.0.3)\r\n",
      "Requirement already satisfied: MarkupSafe>=2.0 in /opt/conda/lib/python3.7/site-packages (from jinja2->spacy>=2.0.18->fastai==1.0.61) (2.0.1)\r\n",
      "Requirement already satisfied: importlib-metadata in /opt/conda/lib/python3.7/site-packages (from click<9.0.0,>=7.1.1->typer<0.5.0,>=0.3.0->spacy>=2.0.18->fastai==1.0.61) (4.10.1)\r\n",
      "Building wheels for collected packages: nvidia-ml-py3\r\n",
      "  Building wheel for nvidia-ml-py3 (setup.py) ... \u001b[?25l-\b \b\\\b \bdone\r\n",
      "\u001b[?25h  Created wheel for nvidia-ml-py3: filename=nvidia_ml_py3-7.352.0-py3-none-any.whl size=19191 sha256=90cfdeeb1cf4bf1a41542ab3707c405649aa56bccc293813f1646543d692a209\r\n",
      "  Stored in directory: /root/.cache/pip/wheels/df/99/da/c34f202dc8fd1dffd35e0ecf1a7d7f8374ca05fbcbaf974b83\r\n",
      "Successfully built nvidia-ml-py3\r\n",
      "Installing collected packages: typing-extensions, nvidia-ml-py3, fastai\r\n",
      "  Attempting uninstall: typing-extensions\r\n",
      "    Found existing installation: typing-extensions 4.0.1\r\n",
      "    Uninstalling typing-extensions-4.0.1:\r\n",
      "      Successfully uninstalled typing-extensions-4.0.1\r\n",
      "  Attempting uninstall: fastai\r\n",
      "    Found existing installation: fastai 2.5.3\r\n",
      "    Uninstalling fastai-2.5.3:\r\n",
      "      Successfully uninstalled fastai-2.5.3\r\n",
      "\u001b[31mERROR: pip's dependency resolver does not currently take into account all the packages that are installed. This behaviour is the source of the following dependency conflicts.\r\n",
      "tensorflow-io 0.21.0 requires tensorflow-io-gcs-filesystem==0.21.0, which is not installed.\r\n",
      "explainable-ai-sdk 1.3.2 requires xai-image-widget, which is not installed.\r\n",
      "tensorflow 2.6.2 requires numpy~=1.19.2, but you have numpy 1.20.3 which is incompatible.\r\n",
      "tensorflow 2.6.2 requires six~=1.15.0, but you have six 1.16.0 which is incompatible.\r\n",
      "tensorflow 2.6.2 requires typing-extensions~=3.7.4, but you have typing-extensions 3.10.0.2 which is incompatible.\r\n",
      "tensorflow 2.6.2 requires wrapt~=1.12.1, but you have wrapt 1.13.3 which is incompatible.\r\n",
      "tensorflow-transform 1.5.0 requires absl-py<0.13,>=0.9, but you have absl-py 0.15.0 which is incompatible.\r\n",
      "tensorflow-transform 1.5.0 requires numpy<1.20,>=1.16, but you have numpy 1.20.3 which is incompatible.\r\n",
      "tensorflow-transform 1.5.0 requires pyarrow<6,>=1, but you have pyarrow 6.0.1 which is incompatible.\r\n",
      "tensorflow-transform 1.5.0 requires tensorflow!=2.0.*,!=2.1.*,!=2.2.*,!=2.3.*,!=2.4.*,!=2.5.*,!=2.6.*,<2.8,>=1.15.2, but you have tensorflow 2.6.2 which is incompatible.\r\n",
      "tensorflow-serving-api 2.7.0 requires tensorflow<3,>=2.7.0, but you have tensorflow 2.6.2 which is incompatible.\r\n",
      "flake8 4.0.1 requires importlib-metadata<4.3; python_version < \"3.8\", but you have importlib-metadata 4.10.1 which is incompatible.\r\n",
      "apache-beam 2.34.0 requires dill<0.3.2,>=0.3.1.1, but you have dill 0.3.4 which is incompatible.\r\n",
      "apache-beam 2.34.0 requires httplib2<0.20.0,>=0.8, but you have httplib2 0.20.2 which is incompatible.\r\n",
      "apache-beam 2.34.0 requires pyarrow<6.0.0,>=0.15.1, but you have pyarrow 6.0.1 which is incompatible.\r\n",
      "aioitertools 0.9.0 requires typing_extensions>=4.0; python_version < \"3.10\", but you have typing-extensions 3.10.0.2 which is incompatible.\r\n",
      "aiobotocore 2.1.0 requires botocore<1.23.25,>=1.23.24, but you have botocore 1.23.51 which is incompatible.\u001b[0m\r\n",
      "Successfully installed fastai-1.0.61 nvidia-ml-py3-7.352.0 typing-extensions-3.10.0.2\r\n",
      "\u001b[33mWARNING: Running pip as the 'root' user can result in broken permissions and conflicting behaviour with the system package manager. It is recommended to use a virtual environment instead: https://pip.pypa.io/warnings/venv\u001b[0m\r\n",
      "Looking in links: https://download.pytorch.org/whl/torch_stable.html\r\n",
      "Collecting torch==1.9.0+cu102\r\n",
      "  Downloading https://download.pytorch.org/whl/cu102/torch-1.9.0%2Bcu102-cp37-cp37m-linux_x86_64.whl (831.4 MB)\r\n",
      "     |████████████████████████████████| 831.4 MB 2.3 kB/s             \r\n",
      "\u001b[?25hRequirement already satisfied: typing-extensions in /opt/conda/lib/python3.7/site-packages (from torch==1.9.0+cu102) (3.10.0.2)\r\n",
      "Installing collected packages: torch\r\n",
      "  Attempting uninstall: torch\r\n",
      "    Found existing installation: torch 1.9.1\r\n",
      "    Uninstalling torch-1.9.1:\r\n",
      "      Successfully uninstalled torch-1.9.1\r\n",
      "Successfully installed torch-1.9.0+cu102\r\n",
      "\u001b[33mWARNING: Running pip as the 'root' user can result in broken permissions and conflicting behaviour with the system package manager. It is recommended to use a virtual environment instead: https://pip.pypa.io/warnings/venv\u001b[0m\r\n"
     ]
    }
   ],
   "source": [
    "#!pip3 install http://download.pytorch.org/whl/cpu/torch-1.0.0-cp36-cp36m-linux_x86_64.whl\n",
    "\n",
    "!pip install fastai==1.0.61\n",
    "!pip install torch==1.9.0+cu102 -f https://download.pytorch.org/whl/torch_stable.html"
   ]
  },
  {
   "cell_type": "code",
   "execution_count": 2,
   "id": "a0ba1890",
   "metadata": {
    "execution": {
     "iopub.execute_input": "2022-03-03T18:51:58.146478Z",
     "iopub.status.busy": "2022-03-03T18:51:58.145322Z",
     "iopub.status.idle": "2022-03-03T18:52:05.326193Z",
     "shell.execute_reply": "2022-03-03T18:52:05.325710Z",
     "shell.execute_reply.started": "2022-03-02T16:31:46.902201Z"
    },
    "papermill": {
     "duration": 7.819733,
     "end_time": "2022-03-03T18:52:05.326324",
     "exception": false,
     "start_time": "2022-03-03T18:51:57.506591",
     "status": "completed"
    },
    "tags": []
   },
   "outputs": [
    {
     "name": "stdout",
     "output_type": "stream",
     "text": [
      "Requirement already satisfied: sentencepiece in /opt/conda/lib/python3.7/site-packages (0.1.96)\r\n",
      "\u001b[33mWARNING: Running pip as the 'root' user can result in broken permissions and conflicting behaviour with the system package manager. It is recommended to use a virtual environment instead: https://pip.pypa.io/warnings/venv\u001b[0m\r\n"
     ]
    }
   ],
   "source": [
    "!pip install sentencepiece"
   ]
  },
  {
   "cell_type": "code",
   "execution_count": 3,
   "id": "cd03b952",
   "metadata": {
    "execution": {
     "iopub.execute_input": "2022-03-03T18:52:06.283758Z",
     "iopub.status.busy": "2022-03-03T18:52:06.282938Z",
     "iopub.status.idle": "2022-03-03T18:52:16.327487Z",
     "shell.execute_reply": "2022-03-03T18:52:16.327913Z",
     "shell.execute_reply.started": "2022-03-02T16:31:54.504616Z"
    },
    "papermill": {
     "duration": 10.525604,
     "end_time": "2022-03-03T18:52:16.328061",
     "exception": false,
     "start_time": "2022-03-03T18:52:05.802457",
     "status": "completed"
    },
    "tags": []
   },
   "outputs": [
    {
     "name": "stdout",
     "output_type": "stream",
     "text": [
      "[nltk_data] Downloading package words to /usr/share/nltk_data...\n",
      "[nltk_data]   Package words is already up-to-date!\n",
      "[nltk_data] Downloading package punkt to /usr/share/nltk_data...\n",
      "[nltk_data]   Package punkt is already up-to-date!\n"
     ]
    }
   ],
   "source": [
    "from fastai.text import *\n",
    "import numpy as np\n",
    "#import demoji\n",
    "import pandas as pd\n",
    "from sklearn.model_selection import train_test_split\n",
    "import pickle\n",
    "import sentencepiece as spm\n",
    "import re\n",
    "import pdb\n",
    "from sklearn.utils import shuffle\n",
    "from nltk.corpus import words\n",
    "from bs4 import BeautifulSoup\n",
    "import nltk\n",
    "nltk.download('words')\n",
    "import nltk, string, re, spacy,unicodedata, random\n",
    "nltk.download('punkt')\n",
    "from nltk.corpus import stopwords\n",
    "from nltk.tokenize import word_tokenize\n",
    "from nltk.tokenize import ToktokTokenizer\n",
    "import nltk, string, re, spacy,unicodedata, random\n",
    "from sklearn.metrics import classification_report\n",
    "from sklearn.metrics import f1_score"
   ]
  },
  {
   "cell_type": "code",
   "execution_count": 4,
   "id": "32b99dea",
   "metadata": {
    "execution": {
     "iopub.execute_input": "2022-03-03T18:52:17.278340Z",
     "iopub.status.busy": "2022-03-03T18:52:17.276680Z",
     "iopub.status.idle": "2022-03-03T18:52:17.280910Z",
     "shell.execute_reply": "2022-03-03T18:52:17.280423Z",
     "shell.execute_reply.started": "2022-03-02T16:31:54.520034Z"
    },
    "papermill": {
     "duration": 0.487701,
     "end_time": "2022-03-03T18:52:17.281025",
     "exception": false,
     "start_time": "2022-03-03T18:52:16.793324",
     "status": "completed"
    },
    "tags": []
   },
   "outputs": [
    {
     "data": {
      "text/plain": [
       "('1.0.61', '1.9.0+cu102')"
      ]
     },
     "execution_count": 4,
     "metadata": {},
     "output_type": "execute_result"
    }
   ],
   "source": [
    "import fastai, torch\n",
    "fastai.__version__ , torch.__version__"
   ]
  },
  {
   "cell_type": "code",
   "execution_count": 5,
   "id": "6ecc635f",
   "metadata": {
    "execution": {
     "iopub.execute_input": "2022-03-03T18:52:18.230661Z",
     "iopub.status.busy": "2022-03-03T18:52:18.229871Z",
     "iopub.status.idle": "2022-03-03T18:52:18.231723Z",
     "shell.execute_reply": "2022-03-03T18:52:18.231236Z",
     "shell.execute_reply.started": "2022-03-02T16:31:54.531477Z"
    },
    "papermill": {
     "duration": 0.485259,
     "end_time": "2022-03-03T18:52:18.231848",
     "exception": false,
     "start_time": "2022-03-03T18:52:17.746589",
     "status": "completed"
    },
    "tags": []
   },
   "outputs": [],
   "source": [
    "torch.cuda.set_device(0)"
   ]
  },
  {
   "cell_type": "code",
   "execution_count": 6,
   "id": "37e58b96",
   "metadata": {
    "execution": {
     "iopub.execute_input": "2022-03-03T18:52:19.179302Z",
     "iopub.status.busy": "2022-03-03T18:52:19.178363Z",
     "iopub.status.idle": "2022-03-03T18:52:19.179981Z",
     "shell.execute_reply": "2022-03-03T18:52:19.180385Z",
     "shell.execute_reply.started": "2022-03-02T16:31:54.540174Z"
    },
    "papermill": {
     "duration": 0.481533,
     "end_time": "2022-03-03T18:52:19.180541",
     "exception": false,
     "start_time": "2022-03-03T18:52:18.699008",
     "status": "completed"
    },
    "tags": []
   },
   "outputs": [],
   "source": [
    "def random_seed(seed_value, use_cuda):\n",
    "    np.random.seed(seed_value)  \n",
    "    torch.manual_seed(seed_value)  \n",
    "    random.seed(seed_value)\n",
    "    if use_cuda:\n",
    "        torch.cuda.manual_seed(seed_value)\n",
    "        torch.cuda.manual_seed_all(seed_value)  \n",
    "        torch.backends.cudnn.deterministic = True\n",
    "        torch.backends.cudnn.benchmark = False"
   ]
  },
  {
   "cell_type": "code",
   "execution_count": 7,
   "id": "5d9276a2",
   "metadata": {
    "execution": {
     "iopub.execute_input": "2022-03-03T18:52:20.515540Z",
     "iopub.status.busy": "2022-03-03T18:52:20.514841Z",
     "iopub.status.idle": "2022-03-03T18:52:20.516486Z",
     "shell.execute_reply": "2022-03-03T18:52:20.516046Z",
     "shell.execute_reply.started": "2022-03-02T16:31:54.54815Z"
    },
    "papermill": {
     "duration": 0.836594,
     "end_time": "2022-03-03T18:52:20.516600",
     "exception": false,
     "start_time": "2022-03-03T18:52:19.680006",
     "status": "completed"
    },
    "tags": []
   },
   "outputs": [],
   "source": [
    "random_seed(42, True)"
   ]
  },
  {
   "cell_type": "code",
   "execution_count": 8,
   "id": "8c1d7e1b",
   "metadata": {
    "execution": {
     "iopub.execute_input": "2022-03-03T18:52:21.486121Z",
     "iopub.status.busy": "2022-03-03T18:52:21.485538Z",
     "iopub.status.idle": "2022-03-03T18:52:21.631225Z",
     "shell.execute_reply": "2022-03-03T18:52:21.630753Z",
     "shell.execute_reply.started": "2022-03-02T16:31:54.557414Z"
    },
    "papermill": {
     "duration": 0.624035,
     "end_time": "2022-03-03T18:52:21.631366",
     "exception": false,
     "start_time": "2022-03-03T18:52:21.007331",
     "status": "completed"
    },
    "tags": []
   },
   "outputs": [],
   "source": [
    "# Train Data\n",
    "df_train_en = pd.read_csv('../input/tamilmisodatanew/ta-en-misogyny-train.csv', sep='\\t', header=None)\n",
    "df_train_ta = pd.read_csv('../input/tamilmisodatanew/ta-misogyny-train.csv', sep='\\t', header=None)\n",
    "\n",
    "# Dev Data\n",
    "df_dev_en = pd.read_csv('../input/tamilmisodatanew/ta-en-misogyny-dev.csv', sep='\\t', header=None)\n",
    "df_dev_ta = pd.read_csv('../input/tamilmisodatanew/ta-misogyny-dev.csv', sep='\\t', header=None)\n",
    "\n",
    "# Test Data\n",
    "df_test_en = pd.read_csv('../input/tamilmisodatanew/ta-en-misogyny-test.csv', sep='\\t', header=None)\n",
    "df_test_ta = pd.read_csv('../input/tamilmisodatanew/ta-misogyny-test.csv', sep='\\t', header=None)"
   ]
  },
  {
   "cell_type": "code",
   "execution_count": 9,
   "id": "6d1767c8",
   "metadata": {
    "execution": {
     "iopub.execute_input": "2022-03-03T18:52:22.616082Z",
     "iopub.status.busy": "2022-03-03T18:52:22.615388Z",
     "iopub.status.idle": "2022-03-03T18:52:22.617084Z",
     "shell.execute_reply": "2022-03-03T18:52:22.616627Z",
     "shell.execute_reply.started": "2022-03-02T16:31:54.638353Z"
    },
    "papermill": {
     "duration": 0.507369,
     "end_time": "2022-03-03T18:52:22.617199",
     "exception": false,
     "start_time": "2022-03-03T18:52:22.109830",
     "status": "completed"
    },
    "tags": []
   },
   "outputs": [],
   "source": [
    "path = Path('./')"
   ]
  },
  {
   "cell_type": "code",
   "execution_count": 10,
   "id": "c1158faf",
   "metadata": {
    "execution": {
     "iopub.execute_input": "2022-03-03T18:52:23.573364Z",
     "iopub.status.busy": "2022-03-03T18:52:23.572398Z",
     "iopub.status.idle": "2022-03-03T18:52:24.224961Z",
     "shell.execute_reply": "2022-03-03T18:52:24.224326Z",
     "shell.execute_reply.started": "2022-03-02T16:31:54.646885Z"
    },
    "papermill": {
     "duration": 1.140383,
     "end_time": "2022-03-03T18:52:24.225096",
     "exception": false,
     "start_time": "2022-03-03T18:52:23.084713",
     "status": "completed"
    },
    "tags": []
   },
   "outputs": [
    {
     "name": "stdout",
     "output_type": "stream",
     "text": [
      "/kaggle/working\r\n"
     ]
    }
   ],
   "source": [
    "!pwd"
   ]
  },
  {
   "cell_type": "code",
   "execution_count": 11,
   "id": "20f91c56",
   "metadata": {
    "execution": {
     "iopub.execute_input": "2022-03-03T18:52:25.183696Z",
     "iopub.status.busy": "2022-03-03T18:52:25.182814Z",
     "iopub.status.idle": "2022-03-03T18:52:25.184845Z",
     "shell.execute_reply": "2022-03-03T18:52:25.185248Z",
     "shell.execute_reply.started": "2022-03-02T16:31:55.367625Z"
    },
    "papermill": {
     "duration": 0.492021,
     "end_time": "2022-03-03T18:52:25.185392",
     "exception": false,
     "start_time": "2022-03-03T18:52:24.693371",
     "status": "completed"
    },
    "tags": []
   },
   "outputs": [],
   "source": [
    "cat2ind = {'None-of-the-above': 0,\n",
    " 'Transphobic': 1,\n",
    " 'Counter-speech': 2,\n",
    " 'Misandry': 3,\n",
    " 'Homophobia': 4,\n",
    " 'Hope-Speech': 5,\n",
    " 'Xenophobia': 6,\n",
    " 'Misogyny': 7,\n",
    " 'Not-Tamil': 8}\n",
    "\n",
    "ind2cat = dict()\n",
    "for i in cat2ind:\n",
    "    ind2cat[cat2ind[i]] = i\n",
    "\n",
    "def restructure_df(df):\n",
    "    txts = df[1].tolist()\n",
    "    labs = df[0].tolist()\n",
    "    labs_new = []\n",
    "    for i in labs:\n",
    "        labs_new.append(ind2cat[i])\n",
    "    return pd.DataFrame({0:labs_new, 1:txts})\n",
    "\n",
    "def over_under_sample(df, shuffle = True):\n",
    "    def sample(rows, req_len):\n",
    "        return [rows[i%len(rows)] for i in range(req_len)]\n",
    "\n",
    "    if shuffle:\n",
    "        df.sample(frac=1).reset_index(drop=True)\n",
    "    data_dict = {'Misandry': [], 'Misogyny': [], 'Xenophobia': [], 'None-of-the-above': [], 'Hope-Speech': [], 'Counter-speech': [], 'Transphobic': [], 'Homophobia': [], 'Not-Tamil': []}\n",
    "\n",
    "    for i in range(len(df)):\n",
    "        data_dict[df[0][i]].append(list(df.iloc[i]))\n",
    "    \n",
    "    req_len = len(df)//len(data_dict)\n",
    "\n",
    "    for lab in data_dict:\n",
    "        data_dict[lab] = sample(data_dict[lab], req_len)\n",
    "    df_rows = []\n",
    "    for lab in data_dict:\n",
    "        df_rows += data_dict[lab]\n",
    "    df_new = pd.DataFrame(df_rows, columns = list(df.columns))\n",
    "    if shuffle:\n",
    "        df_new = df_new.sample(frac=1).reset_index(drop=True)\n",
    "    return df_new"
   ]
  },
  {
   "cell_type": "code",
   "execution_count": 12,
   "id": "7d3fde9d",
   "metadata": {
    "execution": {
     "iopub.execute_input": "2022-03-03T18:52:26.171101Z",
     "iopub.status.busy": "2022-03-03T18:52:26.170359Z",
     "iopub.status.idle": "2022-03-03T18:52:26.172014Z",
     "shell.execute_reply": "2022-03-03T18:52:26.171587Z",
     "shell.execute_reply.started": "2022-03-02T16:31:55.384358Z"
    },
    "papermill": {
     "duration": 0.495751,
     "end_time": "2022-03-03T18:52:26.172122",
     "exception": false,
     "start_time": "2022-03-03T18:52:25.676371",
     "status": "completed"
    },
    "tags": []
   },
   "outputs": [],
   "source": [
    "# df_train.shape, df_valid.shape, df_test.shape"
   ]
  },
  {
   "cell_type": "code",
   "execution_count": 13,
   "id": "67709d36",
   "metadata": {
    "execution": {
     "iopub.execute_input": "2022-03-03T18:52:27.135205Z",
     "iopub.status.busy": "2022-03-03T18:52:27.134313Z",
     "iopub.status.idle": "2022-03-03T18:52:27.138488Z",
     "shell.execute_reply": "2022-03-03T18:52:27.138060Z",
     "shell.execute_reply.started": "2022-03-02T16:31:55.394591Z"
    },
    "papermill": {
     "duration": 0.493732,
     "end_time": "2022-03-03T18:52:27.138612",
     "exception": false,
     "start_time": "2022-03-03T18:52:26.644880",
     "status": "completed"
    },
    "tags": []
   },
   "outputs": [],
   "source": [
    "df_train = pd.DataFrame({0: df_train_ta[0].tolist() +df_train_en[0].tolist(), 1: df_train_ta[1].tolist() +df_train_en[1].tolist()})\n",
    "df_valid = df_dev_ta\n",
    "df_test = df_test_ta"
   ]
  },
  {
   "cell_type": "code",
   "execution_count": 14,
   "id": "2fffb330",
   "metadata": {
    "execution": {
     "iopub.execute_input": "2022-03-03T18:52:28.369961Z",
     "iopub.status.busy": "2022-03-03T18:52:28.369251Z",
     "iopub.status.idle": "2022-03-03T18:52:28.384884Z",
     "shell.execute_reply": "2022-03-03T18:52:28.385462Z",
     "shell.execute_reply.started": "2022-03-02T16:31:55.404595Z"
    },
    "papermill": {
     "duration": 0.75933,
     "end_time": "2022-03-03T18:52:28.385662",
     "exception": false,
     "start_time": "2022-03-03T18:52:27.626332",
     "status": "completed"
    },
    "tags": []
   },
   "outputs": [
    {
     "data": {
      "text/html": [
       "<div>\n",
       "<style scoped>\n",
       "    .dataframe tbody tr th:only-of-type {\n",
       "        vertical-align: middle;\n",
       "    }\n",
       "\n",
       "    .dataframe tbody tr th {\n",
       "        vertical-align: top;\n",
       "    }\n",
       "\n",
       "    .dataframe thead th {\n",
       "        text-align: right;\n",
       "    }\n",
       "</style>\n",
       "<table border=\"1\" class=\"dataframe\">\n",
       "  <thead>\n",
       "    <tr style=\"text-align: right;\">\n",
       "      <th></th>\n",
       "      <th>0</th>\n",
       "      <th>1</th>\n",
       "    </tr>\n",
       "  </thead>\n",
       "  <tbody>\n",
       "    <tr>\n",
       "      <th>0</th>\n",
       "      <td>Hope-Speech</td>\n",
       "      <td>உங்கள் பேச்சை எதிர்பார்த்தேன். நல்ல விளக்கம்  ...</td>\n",
       "    </tr>\n",
       "    <tr>\n",
       "      <th>1</th>\n",
       "      <td>None-of-the-above</td>\n",
       "      <td>எச். ராசாவால் இராமருக்கே  இழிவு. இவர் எல்லாம் ...</td>\n",
       "    </tr>\n",
       "    <tr>\n",
       "      <th>2</th>\n",
       "      <td>None-of-the-above</td>\n",
       "      <td>கல்யாணம்னு  வரும்போது தான் சாதி முக்கியம் எங்க...</td>\n",
       "    </tr>\n",
       "    <tr>\n",
       "      <th>3</th>\n",
       "      <td>None-of-the-above</td>\n",
       "      <td>Tentu Kottai ஐயா நான் தமிழ் இந்து.</td>\n",
       "    </tr>\n",
       "    <tr>\n",
       "      <th>4</th>\n",
       "      <td>Homophobia</td>\n",
       "      <td>Tamil selvan  அடே தேவடியாவுக்கு பிரந்தவனே பச்ச...</td>\n",
       "    </tr>\n",
       "    <tr>\n",
       "      <th>...</th>\n",
       "      <td>...</td>\n",
       "      <td>...</td>\n",
       "    </tr>\n",
       "    <tr>\n",
       "      <th>8183</th>\n",
       "      <td>None-of-the-above</td>\n",
       "      <td>Noq day having no caste no religious certificate</td>\n",
       "    </tr>\n",
       "    <tr>\n",
       "      <th>8184</th>\n",
       "      <td>None-of-the-above</td>\n",
       "      <td>Mimicry escape aitaru bro. 😂</td>\n",
       "    </tr>\n",
       "    <tr>\n",
       "      <th>8185</th>\n",
       "      <td>None-of-the-above</td>\n",
       "      <td>Rajesh R  u age u from</td>\n",
       "    </tr>\n",
       "    <tr>\n",
       "      <th>8186</th>\n",
       "      <td>Counter-speech</td>\n",
       "      <td>Bro unga videos nallarukku but don't do prank ...</td>\n",
       "    </tr>\n",
       "    <tr>\n",
       "      <th>8187</th>\n",
       "      <td>None-of-the-above</td>\n",
       "      <td>avaga...eaduthu kili kilinu...kilichitalum...p...</td>\n",
       "    </tr>\n",
       "  </tbody>\n",
       "</table>\n",
       "<p>8188 rows × 2 columns</p>\n",
       "</div>"
      ],
      "text/plain": [
       "                      0                                                  1\n",
       "0           Hope-Speech  உங்கள் பேச்சை எதிர்பார்த்தேன். நல்ல விளக்கம்  ...\n",
       "1     None-of-the-above  எச். ராசாவால் இராமருக்கே  இழிவு. இவர் எல்லாம் ...\n",
       "2     None-of-the-above  கல்யாணம்னு  வரும்போது தான் சாதி முக்கியம் எங்க...\n",
       "3     None-of-the-above                 Tentu Kottai ஐயா நான் தமிழ் இந்து.\n",
       "4            Homophobia  Tamil selvan  அடே தேவடியாவுக்கு பிரந்தவனே பச்ச...\n",
       "...                 ...                                                ...\n",
       "8183  None-of-the-above   Noq day having no caste no religious certificate\n",
       "8184  None-of-the-above                       Mimicry escape aitaru bro. 😂\n",
       "8185  None-of-the-above                             Rajesh R  u age u from\n",
       "8186     Counter-speech  Bro unga videos nallarukku but don't do prank ...\n",
       "8187  None-of-the-above  avaga...eaduthu kili kilinu...kilichitalum...p...\n",
       "\n",
       "[8188 rows x 2 columns]"
      ]
     },
     "execution_count": 14,
     "metadata": {},
     "output_type": "execute_result"
    }
   ],
   "source": [
    "df_train"
   ]
  },
  {
   "cell_type": "code",
   "execution_count": 15,
   "id": "d8edb10b",
   "metadata": {
    "execution": {
     "iopub.execute_input": "2022-03-03T18:52:29.587769Z",
     "iopub.status.busy": "2022-03-03T18:52:29.587208Z",
     "iopub.status.idle": "2022-03-03T18:52:29.597994Z",
     "shell.execute_reply": "2022-03-03T18:52:29.598368Z",
     "shell.execute_reply.started": "2022-03-02T16:31:55.421035Z"
    },
    "papermill": {
     "duration": 0.506976,
     "end_time": "2022-03-03T18:52:29.598579",
     "exception": false,
     "start_time": "2022-03-03T18:52:29.091603",
     "status": "completed"
    },
    "tags": []
   },
   "outputs": [],
   "source": [
    "df_train = shuffle(df_train, random_state = 10).reset_index(drop=True)\n",
    "df_valid = shuffle(df_valid, random_state = 10).reset_index(drop=True)\n",
    "df_test = shuffle(df_test, random_state = 10).reset_index(drop=True)\n",
    "\n",
    "df_train[1] = df_train[1].apply(str)\n",
    "df_valid[1] = df_valid[1].apply(str)\n",
    "df_test[1] = df_test[1].apply(str)"
   ]
  },
  {
   "cell_type": "code",
   "execution_count": 16,
   "id": "27c44b9a",
   "metadata": {
    "execution": {
     "iopub.execute_input": "2022-03-03T18:52:30.751284Z",
     "iopub.status.busy": "2022-03-03T18:52:30.750364Z",
     "iopub.status.idle": "2022-03-03T18:52:33.179158Z",
     "shell.execute_reply": "2022-03-03T18:52:33.178678Z",
     "shell.execute_reply.started": "2022-03-02T16:31:55.439601Z"
    },
    "papermill": {
     "duration": 3.088936,
     "end_time": "2022-03-03T18:52:33.179293",
     "exception": false,
     "start_time": "2022-03-03T18:52:30.090357",
     "status": "completed"
    },
    "tags": []
   },
   "outputs": [],
   "source": [
    "def deEmojify(string):\n",
    "    emoji_pattern = re.compile(\"[\"\n",
    "                              u\"\\U0001F600-\\U0001F64F\"  # emoticons\n",
    "                              u\"\\U0001F300-\\U0001F5FF\"  # symbols & pictographs\n",
    "                              u\"\\U0001F680-\\U0001F6FF\"  # transport & map symbols\n",
    "                              u\"\\U0001F1E0-\\U0001F1FF\"  # flags (iOS)\n",
    "                              u\"\\U00002500-\\U00002BEF\"  # chinese char\n",
    "                              u\"\\U00002702-\\U000027B0\"\n",
    "                              u\"\\U00002702-\\U000027B0\"\n",
    "                              u\"\\U000024C2-\\U0001F251\"\n",
    "                              u\"\\U0001f926-\\U0001f937\"\n",
    "                              u\"\\U00010000-\\U0010ffff\"\n",
    "                              u\"\\u2640-\\u2642\"\n",
    "                              u\"\\u2600-\\u2B55\"\n",
    "                              u\"\\u200d\"\n",
    "                              u\"\\u23cf\"\n",
    "                              u\"\\u23e9\"\n",
    "                              u\"\\u231a\"\n",
    "                              u\"\\ufe0f\"  # dingbats\n",
    "                              u\"\\u3030\"\n",
    "                              \"]+\", flags=re.UNICODE)\n",
    "    return emoji_pattern.sub(r'', string)\n",
    "\n",
    "def preprocess(text):\n",
    "    text = deEmojify(text) #convert emojis to their defns in words, they might be useful\n",
    "    text = re.sub(r'([\\.\\'\\\"\\/\\-\\_\\--])',' ', text) # remove punctuations , removes @USER / some abbreviatins\n",
    "    to_remove_url = ('http[s]?://(?:[a-zA-Z]|[0-9]|[$-_@.&+]|'\n",
    "      '[!*\\(\\),]|(?:%[0-9a-fA-F][0-9a-fA-F]))+')\n",
    "    text = re.sub(to_remove_url,'',text)  # remove url patterns\n",
    "    text = re.sub(\" \\d+\", \" \", text)\n",
    "    text = text.replace(\",\",\" \")\n",
    "    text = re.sub(r'(?:^| )\\w(?:$| )', ' ', text).strip()\n",
    "    punctuation='!!\"$%&()*+-/:;<=>?[\\\\]^_{|}~.'\n",
    "    text = ''.join(ch for ch in text if ch not in set(punctuation))\n",
    "    # text = text.translate(str.maketrans('', '', string.punctuation))\n",
    "    text = BeautifulSoup(text, 'html.parser').get_text()\n",
    "    # Stopword Removing\n",
    "    tokenizer = ToktokTokenizer()\n",
    "    # convert sentence into token of words\n",
    "    tokens = tokenizer.tokenize(text)\n",
    "    tokens = [token.strip() for token in tokens]\n",
    "    text = ' '.join(ch for ch in tokens)\n",
    "    return text \n",
    "\n",
    "def clean(df):\n",
    "    df[1] = df[1].apply(lambda x: preprocess(x))\n",
    "\n",
    "clean(df_train)\n",
    "clean(df_valid)\n",
    "clean(df_test)"
   ]
  },
  {
   "cell_type": "code",
   "execution_count": 17,
   "id": "d718bb72",
   "metadata": {
    "execution": {
     "iopub.execute_input": "2022-03-03T18:52:34.172664Z",
     "iopub.status.busy": "2022-03-03T18:52:34.172081Z",
     "iopub.status.idle": "2022-03-03T18:52:34.177746Z",
     "shell.execute_reply": "2022-03-03T18:52:34.177205Z",
     "shell.execute_reply.started": "2022-03-02T16:31:57.794008Z"
    },
    "papermill": {
     "duration": 0.508647,
     "end_time": "2022-03-03T18:52:34.177863",
     "exception": false,
     "start_time": "2022-03-03T18:52:33.669216",
     "status": "completed"
    },
    "tags": []
   },
   "outputs": [
    {
     "data": {
      "text/plain": [
       "((0, 2), (0, 2), (0, 2))"
      ]
     },
     "execution_count": 17,
     "metadata": {},
     "output_type": "execute_result"
    }
   ],
   "source": [
    "df_train[df_train[0].isnull()].shape, df_valid[df_valid[0].isnull()].shape, df_test[df_test[0].isnull()].shape"
   ]
  },
  {
   "cell_type": "code",
   "execution_count": 18,
   "id": "63616781",
   "metadata": {
    "execution": {
     "iopub.execute_input": "2022-03-03T18:52:35.169609Z",
     "iopub.status.busy": "2022-03-03T18:52:35.167992Z",
     "iopub.status.idle": "2022-03-03T18:52:35.170205Z",
     "shell.execute_reply": "2022-03-03T18:52:35.170667Z",
     "shell.execute_reply.started": "2022-03-02T16:31:57.80597Z"
    },
    "papermill": {
     "duration": 0.502954,
     "end_time": "2022-03-03T18:52:35.170813",
     "exception": false,
     "start_time": "2022-03-03T18:52:34.667859",
     "status": "completed"
    },
    "tags": []
   },
   "outputs": [],
   "source": [
    "class TamilTokenizer(BaseTokenizer):\n",
    "    def __init__(self, lang:str):\n",
    "        self.lang = lang\n",
    "        self.sp = spm.SentencePieceProcessor()\n",
    "        self.sp.Load(str('../input/spm-sota-models/tamil_spm_8k.model'))\n",
    "        \n",
    "    def tokenizer(self, t:str) -> List[str]:\n",
    "        return self.sp.EncodeAsPieces(t)"
   ]
  },
  {
   "cell_type": "code",
   "execution_count": 19,
   "id": "f3e46919",
   "metadata": {
    "execution": {
     "iopub.execute_input": "2022-03-03T18:52:36.235381Z",
     "iopub.status.busy": "2022-03-03T18:52:36.220256Z",
     "iopub.status.idle": "2022-03-03T18:52:36.237533Z",
     "shell.execute_reply": "2022-03-03T18:52:36.237931Z",
     "shell.execute_reply.started": "2022-03-02T16:31:57.818188Z"
    },
    "papermill": {
     "duration": 0.576816,
     "end_time": "2022-03-03T18:52:36.238080",
     "exception": false,
     "start_time": "2022-03-03T18:52:35.661264",
     "status": "completed"
    },
    "tags": []
   },
   "outputs": [],
   "source": [
    "sp = spm.SentencePieceProcessor()\n",
    "sp.Load(str('../input/spm-sota-models/tamil_spm_8k.model'))\n",
    "itos = [sp.IdToPiece(int(i)) for i in range(8000)]"
   ]
  },
  {
   "cell_type": "code",
   "execution_count": 20,
   "id": "7791668a",
   "metadata": {
    "execution": {
     "iopub.execute_input": "2022-03-03T18:52:37.225240Z",
     "iopub.status.busy": "2022-03-03T18:52:37.224405Z",
     "iopub.status.idle": "2022-03-03T18:52:37.226475Z",
     "shell.execute_reply": "2022-03-03T18:52:37.226867Z",
     "shell.execute_reply.started": "2022-03-02T16:31:57.866699Z"
    },
    "papermill": {
     "duration": 0.501362,
     "end_time": "2022-03-03T18:52:37.227003",
     "exception": false,
     "start_time": "2022-03-03T18:52:36.725641",
     "status": "completed"
    },
    "tags": []
   },
   "outputs": [],
   "source": [
    "tamil_vocab = Vocab(itos)"
   ]
  },
  {
   "cell_type": "code",
   "execution_count": 21,
   "id": "512a81f9",
   "metadata": {
    "execution": {
     "iopub.execute_input": "2022-03-03T18:52:38.212537Z",
     "iopub.status.busy": "2022-03-03T18:52:38.211061Z",
     "iopub.status.idle": "2022-03-03T18:52:38.213185Z",
     "shell.execute_reply": "2022-03-03T18:52:38.213750Z",
     "shell.execute_reply.started": "2022-03-02T16:31:57.876625Z"
    },
    "papermill": {
     "duration": 0.501138,
     "end_time": "2022-03-03T18:52:38.213908",
     "exception": false,
     "start_time": "2022-03-03T18:52:37.712770",
     "status": "completed"
    },
    "tags": []
   },
   "outputs": [],
   "source": [
    "tokenizer = Tokenizer(tok_func=TamilTokenizer, lang='ta')"
   ]
  },
  {
   "cell_type": "code",
   "execution_count": 22,
   "id": "fc44ab72",
   "metadata": {
    "execution": {
     "iopub.execute_input": "2022-03-03T18:52:39.233529Z",
     "iopub.status.busy": "2022-03-03T18:52:39.232491Z",
     "iopub.status.idle": "2022-03-03T18:52:39.234100Z",
     "shell.execute_reply": "2022-03-03T18:52:39.234522Z",
     "shell.execute_reply.started": "2022-03-02T16:31:57.885519Z"
    },
    "papermill": {
     "duration": 0.524063,
     "end_time": "2022-03-03T18:52:39.234661",
     "exception": false,
     "start_time": "2022-03-03T18:52:38.710598",
     "status": "completed"
    },
    "tags": []
   },
   "outputs": [],
   "source": [
    "label_cols = [0]"
   ]
  },
  {
   "cell_type": "code",
   "execution_count": 23,
   "id": "f08a0782",
   "metadata": {
    "execution": {
     "iopub.execute_input": "2022-03-03T18:52:40.232393Z",
     "iopub.status.busy": "2022-03-03T18:52:40.231836Z",
     "iopub.status.idle": "2022-03-03T18:52:41.726134Z",
     "shell.execute_reply": "2022-03-03T18:52:41.726806Z",
     "shell.execute_reply.started": "2022-03-02T16:31:57.893508Z"
    },
    "papermill": {
     "duration": 1.997064,
     "end_time": "2022-03-03T18:52:41.726972",
     "exception": false,
     "start_time": "2022-03-03T18:52:39.729908",
     "status": "completed"
    },
    "tags": []
   },
   "outputs": [
    {
     "data": {
      "text/html": [],
      "text/plain": [
       "<IPython.core.display.HTML object>"
      ]
     },
     "metadata": {},
     "output_type": "display_data"
    },
    {
     "name": "stderr",
     "output_type": "stream",
     "text": [
      "/opt/conda/lib/python3.7/site-packages/fastai/core.py:302: VisibleDeprecationWarning: Creating an ndarray from ragged nested sequences (which is a list-or-tuple of lists-or-tuples-or ndarrays with different lengths or shapes) is deprecated. If you meant to do this, you must specify 'dtype=object' when creating the ndarray.\n",
      "  return np.array(a, dtype=dtype, **kwargs)\n"
     ]
    },
    {
     "data": {
      "text/html": [],
      "text/plain": [
       "<IPython.core.display.HTML object>"
      ]
     },
     "metadata": {},
     "output_type": "display_data"
    },
    {
     "data": {
      "text/html": [],
      "text/plain": [
       "<IPython.core.display.HTML object>"
      ]
     },
     "metadata": {},
     "output_type": "display_data"
    }
   ],
   "source": [
    "data_lm = TextLMDataBunch.from_df(path=path, train_df=df_train, valid_df=df_valid, test_df=df_test, tokenizer=tokenizer, vocab=tamil_vocab)"
   ]
  },
  {
   "cell_type": "code",
   "execution_count": 24,
   "id": "377712c3",
   "metadata": {
    "execution": {
     "iopub.execute_input": "2022-03-03T18:52:42.989119Z",
     "iopub.status.busy": "2022-03-03T18:52:42.988299Z",
     "iopub.status.idle": "2022-03-03T18:52:45.678682Z",
     "shell.execute_reply": "2022-03-03T18:52:45.678171Z",
     "shell.execute_reply.started": "2022-03-02T16:31:59.604577Z"
    },
    "papermill": {
     "duration": 3.194168,
     "end_time": "2022-03-03T18:52:45.678805",
     "exception": false,
     "start_time": "2022-03-03T18:52:42.484637",
     "status": "completed"
    },
    "tags": []
   },
   "outputs": [
    {
     "data": {
      "text/html": [
       "<table border=\"1\" class=\"dataframe\">\n",
       "  <thead>\n",
       "    <tr style=\"text-align: right;\">\n",
       "      <th>idx</th>\n",
       "      <th>text</th>\n",
       "    </tr>\n",
       "  </thead>\n",
       "  <tbody>\n",
       "    <tr>\n",
       "      <td>0</td>\n",
       "      <td>a ▁ vi t tu ▁ va ik a ▁ ma at ing a ▁ d a ▁ x x b os ▁ li ke ▁ v j ▁ an na ▁ x x b os ▁உண்மை ▁சொன்ன தற்கு ▁நன் றி ▁ x x b os ▁ஏ ண்டா ▁உ ங்களுக்கு ▁பேச ▁வேற ▁மத மே ▁இல்லை யா ▁இந்துக் கள் ▁என்ன ▁ஏ மா ளி யா ▁ராஜா ▁பேச ியது ▁சரி யே ▁ x</td>\n",
       "    </tr>\n",
       "    <tr>\n",
       "      <td>1</td>\n",
       "      <td>tu ▁ han d s ome ▁ ah ▁ ir uk ing a ▁ x x b os ▁வீட்டில் ▁பெண்கள் ▁இல்லை ▁என்ன ▁செய்வது ▁ x x b os ▁சாதி ▁வெ றி ▁காட்டு மி ரா ண்டி ▁நா யே ▁உ ன க்கு ▁சாதி ▁தவிர ▁வேற ▁என்ன ▁இரு க்கு ▁டா ▁பொ ட்ட ▁பு ண்டை ▁ x x b os ▁அ ய்யா ▁நீ ங்கள் ▁பேச ியது ▁நல்ல ▁மணி த த்துவம் ▁ x x b</td>\n",
       "    </tr>\n",
       "    <tr>\n",
       "      <td>2</td>\n",
       "      <td>an p adu ▁ ka la ach ar am ▁p al ak av al ak am ▁ sa ap ad a ▁ ma ath un ath u ▁ ma ath i ri ▁ el ath ai y um ▁ ma ath ir ath ing a ▁ d a ▁ ma at uk u ▁ ep di ▁ ka la ach ara ma ▁p a ak ur ing al a ▁</td>\n",
       "    </tr>\n",
       "    <tr>\n",
       "      <td>3</td>\n",
       "      <td>ai ▁ y a ▁p or ag al an u ▁ x x b os ▁ &lt;unk&gt; se en u &lt;unk&gt; &lt;unk&gt; ow th am &lt;unk&gt; ▁a ma ▁a ma ▁n an b a &lt;unk&gt; &lt;unk&gt; van ung a ▁ va z n th u ▁ an ub a vi ch ut u ▁ na ma la ▁ va z ha ▁ vi d am a ▁p and ran ga</td>\n",
       "    </tr>\n",
       "    <tr>\n",
       "      <td>4</td>\n",
       "      <td>முத்து ▁பேச லாம் ▁என்ன ங்க ▁சீ மான் ▁இப் டி ▁பண ் ற ீ ங்க ▁போய் ▁வைர முத்து ▁கி ட்ட ▁கேட்டு டு வா ங்க ▁அ ப்புற ம் ▁பேச ிக்க லாம் ▁ x x b os ▁ la ▁p es ur a ▁ g ir l ▁ k u &lt;unk&gt; ▁c or on a ▁ ir uk u ▁ po la ▁ x x b os &lt;unk&gt; &lt;unk&gt; ir sh &lt;unk&gt; &lt;unk&gt;</td>\n",
       "    </tr>\n",
       "  </tbody>\n",
       "</table>"
      ],
      "text/plain": [
       "<IPython.core.display.HTML object>"
      ]
     },
     "metadata": {},
     "output_type": "display_data"
    }
   ],
   "source": [
    "data_lm.show_batch()"
   ]
  },
  {
   "cell_type": "code",
   "execution_count": 25,
   "id": "e7b45540",
   "metadata": {
    "execution": {
     "iopub.execute_input": "2022-03-03T18:52:46.698510Z",
     "iopub.status.busy": "2022-03-03T18:52:46.697702Z",
     "iopub.status.idle": "2022-03-03T18:52:46.973746Z",
     "shell.execute_reply": "2022-03-03T18:52:46.973218Z",
     "shell.execute_reply.started": "2022-03-02T16:31:59.623379Z"
    },
    "papermill": {
     "duration": 0.780726,
     "end_time": "2022-03-03T18:52:46.973890",
     "exception": false,
     "start_time": "2022-03-03T18:52:46.193164",
     "status": "completed"
    },
    "tags": []
   },
   "outputs": [],
   "source": [
    "awd_lstm_config = awd_lstm_lm_config.copy()\n",
    "awd_lstm_config['n_hid'] = 1150\n",
    "learn = language_model_learner(data_lm, arch=AWD_LSTM, drop_mult=0.3, config=awd_lstm_config, pretrained=False)"
   ]
  },
  {
   "cell_type": "code",
   "execution_count": 26,
   "id": "d49399fc",
   "metadata": {
    "execution": {
     "iopub.execute_input": "2022-03-03T18:52:47.981262Z",
     "iopub.status.busy": "2022-03-03T18:52:47.980584Z",
     "iopub.status.idle": "2022-03-03T18:52:54.033665Z",
     "shell.execute_reply": "2022-03-03T18:52:54.033214Z",
     "shell.execute_reply.started": "2022-03-02T16:31:59.882597Z"
    },
    "papermill": {
     "duration": 6.55498,
     "end_time": "2022-03-03T18:52:54.033802",
     "exception": false,
     "start_time": "2022-03-03T18:52:47.478822",
     "status": "completed"
    },
    "tags": []
   },
   "outputs": [
    {
     "data": {
      "text/plain": [
       "LanguageLearner(data=TextLMDataBunch;\n",
       "\n",
       "Train: LabelList (8188 items)\n",
       "x: LMTextList\n",
       "▁ x x b os <unk> ▁m a y i z h <unk> <unk> e l a n ▁p on ▁n am er ▁s ent ▁ me,▁ x x b os ▁ x m s r k s ▁ j i ▁ ent ha ▁ ch ur ch ▁n u ▁s ol l ung a,▁ x x b os ▁ ed ha y um ▁ e van ung a ▁ vi t tu ▁ va ik a ▁ ma at ing a ▁ d a,▁ x x b os ▁ li ke ▁ v j ▁ an na,▁ x x b os ▁உண்மை ▁சொன்ன தற்கு ▁நன் றி\n",
       "y: LMLabelList\n",
       ",,,,\n",
       "Path: .;\n",
       "\n",
       "Valid: LabelList (560 items)\n",
       "x: LMTextList\n",
       "▁ x x b os ▁சோ ம் பே றி கள் ▁விரும்பி ▁வர த ட் ச ணை,▁ x x b os ▁சி மான் ▁கே வள மான ▁ஒ று ▁மனிதன் ▁ப ச் சோ ந்த ▁நாய் ▁வைர முத்து ▁ஒ று ▁கட்டு ▁பன்றி,▁ x x b os ▁சம த்துவம் ▁பேசும் ▁ஆன ந் சீ னி வா சன் ▁சா ருக்கு ▁நன் றி,▁ x x b os ▁p r iya ▁p r iya ▁அர வாணி ▁பு ண்ட ▁எ ங்க டா ▁ ங் ங ோ த்தா ▁கூ தி ▁கி ழி யு தா,▁ x x b os ▁பெ சி க்கொ ன் டி று க்கும் பொ து ▁பின்ன ால ▁இறுக்க ிற வ ங்க ல ▁பார்த்து ▁பார்த்து ▁பேச ுகிறார் ▁அ ப்போ ▁முன் னா டி ▁ஆட் களே ▁இல்ல யா\n",
       "y: LMLabelList\n",
       ",,,,\n",
       "Path: .;\n",
       "\n",
       "Test: LabelList (700 items)\n",
       "x: LMTextList\n",
       "▁ x x b os <unk> ▁a b ir am i <unk> <unk> i ja y ak um ar ▁என் ▁தலைவி தி ▁என்று ▁தான் ▁நா னும் ▁நினைத்த ு க்கொண்டு ▁வாழ் கிற ேன்,▁ x x b os ▁மா மனித ர் ▁அ ண்ண ன் ▁நீ ங்கள் ▁நீ டூ ழி ▁வாழ வேண்டும் உ ங்கள் பே ச்சு உ ண்மை சூ ப்பர்,▁ x x b os ▁ச ரியா ▁சோ லி ங்கா ▁சார்,▁ x x b os ▁ஆ மை க்க றி ▁அ ண்ண ன் ▁சீ மான்,▁ x x b os ▁ஆனந்த ▁சார் ▁நியாய மான ▁பேச்சு\n",
       "y: EmptyLabelList\n",
       ",,,,\n",
       "Path: ., model=SequentialRNN(\n",
       "  (0): AWD_LSTM(\n",
       "    (encoder): Embedding(8000, 400, padding_idx=1)\n",
       "    (encoder_dp): EmbeddingDropout(\n",
       "      (emb): Embedding(8000, 400, padding_idx=1)\n",
       "    )\n",
       "    (rnns): ModuleList(\n",
       "      (0): WeightDropout(\n",
       "        (module): LSTM(400, 1150, batch_first=True)\n",
       "      )\n",
       "      (1): WeightDropout(\n",
       "        (module): LSTM(1150, 1150, batch_first=True)\n",
       "      )\n",
       "      (2): WeightDropout(\n",
       "        (module): LSTM(1150, 400, batch_first=True)\n",
       "      )\n",
       "    )\n",
       "    (input_dp): RNNDropout()\n",
       "    (hidden_dps): ModuleList(\n",
       "      (0): RNNDropout()\n",
       "      (1): RNNDropout()\n",
       "      (2): RNNDropout()\n",
       "    )\n",
       "  )\n",
       "  (1): LinearDecoder(\n",
       "    (decoder): Linear(in_features=400, out_features=8000, bias=True)\n",
       "    (output_dp): RNNDropout()\n",
       "  )\n",
       "), opt_func=functools.partial(<class 'torch.optim.adam.Adam'>, betas=(0.9, 0.99)), loss_func=FlattenedLoss of CrossEntropyLoss(), metrics=[<function accuracy at 0x7fb91b9f3e60>], true_wd=True, bn_wd=True, wd=0.01, train_bn=True, path=PosixPath('.'), model_dir='models', callback_fns=[functools.partial(<class 'fastai.basic_train.Recorder'>, add_time=True, silent=False)], callbacks=[RNNTrainer\n",
       "learn: ...\n",
       "alpha: 2.0\n",
       "beta: 1.0], layer_groups=[Sequential(\n",
       "  (0): WeightDropout(\n",
       "    (module): LSTM(400, 1150, batch_first=True)\n",
       "  )\n",
       "  (1): RNNDropout()\n",
       "), Sequential(\n",
       "  (0): WeightDropout(\n",
       "    (module): LSTM(1150, 1150, batch_first=True)\n",
       "  )\n",
       "  (1): RNNDropout()\n",
       "), Sequential(\n",
       "  (0): WeightDropout(\n",
       "    (module): LSTM(1150, 400, batch_first=True)\n",
       "  )\n",
       "  (1): RNNDropout()\n",
       "), Sequential(\n",
       "  (0): Embedding(8000, 400, padding_idx=1)\n",
       "  (1): EmbeddingDropout(\n",
       "    (emb): Embedding(8000, 400, padding_idx=1)\n",
       "  )\n",
       "  (2): LinearDecoder(\n",
       "    (decoder): Linear(in_features=400, out_features=8000, bias=True)\n",
       "    (output_dp): RNNDropout()\n",
       "  )\n",
       ")], add_time=True, silent=False)"
      ]
     },
     "execution_count": 26,
     "metadata": {},
     "output_type": "execute_result"
    }
   ],
   "source": [
    "learn.load('/kaggle/input/pretrained-sota-models/wikitalm_8k_447_third')"
   ]
  },
  {
   "cell_type": "code",
   "execution_count": 27,
   "id": "7dc2477f",
   "metadata": {
    "execution": {
     "iopub.execute_input": "2022-03-03T18:52:55.039234Z",
     "iopub.status.busy": "2022-03-03T18:52:55.038473Z",
     "iopub.status.idle": "2022-03-03T18:52:55.048855Z",
     "shell.execute_reply": "2022-03-03T18:52:55.049266Z",
     "shell.execute_reply.started": "2022-03-02T16:32:00.346375Z"
    },
    "papermill": {
     "duration": 0.517367,
     "end_time": "2022-03-03T18:52:55.049404",
     "exception": false,
     "start_time": "2022-03-03T18:52:54.532037",
     "status": "completed"
    },
    "tags": []
   },
   "outputs": [
    {
     "data": {
      "text/plain": [
       "None-of-the-above    5015\n",
       "Misandry             1276\n",
       "Counter-speech        497\n",
       "Xenophobia            392\n",
       "Misogyny              336\n",
       "Hope-Speech           299\n",
       "Homophobia            207\n",
       "Transphobic           163\n",
       "Not-Tamil               2\n",
       "Name: 0, dtype: int64"
      ]
     },
     "execution_count": 27,
     "metadata": {},
     "output_type": "execute_result"
    }
   ],
   "source": [
    "df_train = df_train.drop([0]).reset_index().drop([\"index\"], axis=1)\n",
    "df_train[0].value_counts()"
   ]
  },
  {
   "cell_type": "code",
   "execution_count": 28,
   "id": "d5866780",
   "metadata": {
    "execution": {
     "iopub.execute_input": "2022-03-03T18:52:56.073435Z",
     "iopub.status.busy": "2022-03-03T18:52:56.072814Z",
     "iopub.status.idle": "2022-03-03T18:52:56.075662Z",
     "shell.execute_reply": "2022-03-03T18:52:56.076085Z",
     "shell.execute_reply.started": "2022-03-02T16:32:00.364691Z"
    },
    "papermill": {
     "duration": 0.536597,
     "end_time": "2022-03-03T18:52:56.076221",
     "exception": false,
     "start_time": "2022-03-03T18:52:55.539624",
     "status": "completed"
    },
    "tags": []
   },
   "outputs": [
    {
     "data": {
      "text/plain": [
       "None-of-the-above    346\n",
       "Misandry             104\n",
       "Counter-speech        36\n",
       "Xenophobia            29\n",
       "Misogyny              24\n",
       "Hope-Speech           11\n",
       "Homophobia             8\n",
       "Transphobic            2\n",
       "Name: 0, dtype: int64"
      ]
     },
     "execution_count": 28,
     "metadata": {},
     "output_type": "execute_result"
    }
   ],
   "source": [
    "df_valid[0].value_counts()"
   ]
  },
  {
   "cell_type": "code",
   "execution_count": 29,
   "id": "c945745b",
   "metadata": {
    "execution": {
     "iopub.execute_input": "2022-03-03T18:52:57.119405Z",
     "iopub.status.busy": "2022-03-03T18:52:57.114343Z",
     "iopub.status.idle": "2022-03-03T18:52:57.122147Z",
     "shell.execute_reply": "2022-03-03T18:52:57.122584Z",
     "shell.execute_reply.started": "2022-03-02T16:32:00.37395Z"
    },
    "papermill": {
     "duration": 0.50564,
     "end_time": "2022-03-03T18:52:57.122724",
     "exception": false,
     "start_time": "2022-03-03T18:52:56.617084",
     "status": "completed"
    },
    "tags": []
   },
   "outputs": [
    {
     "data": {
      "text/plain": [
       "None-of-the-above    417\n",
       "Misandry             127\n",
       "Misogyny              48\n",
       "Counter-speech        47\n",
       "Hope-Speech           26\n",
       "Xenophobia            25\n",
       "Homophobia             8\n",
       "Transphobic            2\n",
       "Name: 0, dtype: int64"
      ]
     },
     "execution_count": 29,
     "metadata": {},
     "output_type": "execute_result"
    }
   ],
   "source": [
    "df_test[0].value_counts()"
   ]
  },
  {
   "cell_type": "code",
   "execution_count": 30,
   "id": "f90c813e",
   "metadata": {
    "execution": {
     "iopub.execute_input": "2022-03-03T18:52:58.120515Z",
     "iopub.status.busy": "2022-03-03T18:52:58.119871Z",
     "iopub.status.idle": "2022-03-03T18:52:58.122753Z",
     "shell.execute_reply": "2022-03-03T18:52:58.122280Z",
     "shell.execute_reply.started": "2022-03-02T16:32:00.386895Z"
    },
    "papermill": {
     "duration": 0.50795,
     "end_time": "2022-03-03T18:52:58.122884",
     "exception": false,
     "start_time": "2022-03-03T18:52:57.614934",
     "status": "completed"
    },
    "tags": []
   },
   "outputs": [],
   "source": [
    "learn.freeze()"
   ]
  },
  {
   "cell_type": "code",
   "execution_count": 31,
   "id": "dadbfc5d",
   "metadata": {
    "execution": {
     "iopub.execute_input": "2022-03-03T18:52:59.123626Z",
     "iopub.status.busy": "2022-03-03T18:52:59.122731Z",
     "iopub.status.idle": "2022-03-03T18:53:08.680160Z",
     "shell.execute_reply": "2022-03-03T18:53:08.680621Z",
     "shell.execute_reply.started": "2022-03-02T16:32:00.393744Z"
    },
    "papermill": {
     "duration": 10.064914,
     "end_time": "2022-03-03T18:53:08.680785",
     "exception": false,
     "start_time": "2022-03-03T18:52:58.615871",
     "status": "completed"
    },
    "tags": []
   },
   "outputs": [
    {
     "data": {
      "text/html": [
       "<table border=\"1\" class=\"dataframe\">\n",
       "  <thead>\n",
       "    <tr style=\"text-align: left;\">\n",
       "      <th>epoch</th>\n",
       "      <th>train_loss</th>\n",
       "      <th>valid_loss</th>\n",
       "      <th>accuracy</th>\n",
       "      <th>time</th>\n",
       "    </tr>\n",
       "  </thead>\n",
       "  <tbody>\n",
       "    <tr>\n",
       "      <td>0</td>\n",
       "      <td>3.718938</td>\n",
       "      <td>4.569289</td>\n",
       "      <td>0.278181</td>\n",
       "      <td>00:09</td>\n",
       "    </tr>\n",
       "  </tbody>\n",
       "</table>"
      ],
      "text/plain": [
       "<IPython.core.display.HTML object>"
      ]
     },
     "metadata": {},
     "output_type": "display_data"
    }
   ],
   "source": [
    "learn.fit_one_cycle(1, 1e-2)"
   ]
  },
  {
   "cell_type": "code",
   "execution_count": 32,
   "id": "16d59ec2",
   "metadata": {
    "execution": {
     "iopub.execute_input": "2022-03-03T18:53:09.687103Z",
     "iopub.status.busy": "2022-03-03T18:53:09.686162Z",
     "iopub.status.idle": "2022-03-03T18:53:09.688882Z",
     "shell.execute_reply": "2022-03-03T18:53:09.688398Z",
     "shell.execute_reply.started": "2022-03-02T16:32:09.070696Z"
    },
    "papermill": {
     "duration": 0.506825,
     "end_time": "2022-03-03T18:53:09.689004",
     "exception": false,
     "start_time": "2022-03-03T18:53:09.182179",
     "status": "completed"
    },
    "tags": []
   },
   "outputs": [],
   "source": [
    "learn.unfreeze()"
   ]
  },
  {
   "cell_type": "code",
   "execution_count": 33,
   "id": "a435f42e",
   "metadata": {
    "execution": {
     "iopub.execute_input": "2022-03-03T18:53:10.695053Z",
     "iopub.status.busy": "2022-03-03T18:53:10.694203Z",
     "iopub.status.idle": "2022-03-03T18:54:10.642719Z",
     "shell.execute_reply": "2022-03-03T18:54:10.641962Z",
     "shell.execute_reply.started": "2022-03-02T16:32:09.079298Z"
    },
    "papermill": {
     "duration": 60.450056,
     "end_time": "2022-03-03T18:54:10.642862",
     "exception": false,
     "start_time": "2022-03-03T18:53:10.192806",
     "status": "completed"
    },
    "tags": []
   },
   "outputs": [
    {
     "data": {
      "text/html": [
       "<table border=\"1\" class=\"dataframe\">\n",
       "  <thead>\n",
       "    <tr style=\"text-align: left;\">\n",
       "      <th>epoch</th>\n",
       "      <th>train_loss</th>\n",
       "      <th>valid_loss</th>\n",
       "      <th>accuracy</th>\n",
       "      <th>time</th>\n",
       "    </tr>\n",
       "  </thead>\n",
       "  <tbody>\n",
       "    <tr>\n",
       "      <td>0</td>\n",
       "      <td>3.395640</td>\n",
       "      <td>4.412742</td>\n",
       "      <td>0.293248</td>\n",
       "      <td>00:11</td>\n",
       "    </tr>\n",
       "    <tr>\n",
       "      <td>1</td>\n",
       "      <td>3.192381</td>\n",
       "      <td>4.244159</td>\n",
       "      <td>0.316741</td>\n",
       "      <td>00:11</td>\n",
       "    </tr>\n",
       "    <tr>\n",
       "      <td>2</td>\n",
       "      <td>3.030974</td>\n",
       "      <td>4.181168</td>\n",
       "      <td>0.323605</td>\n",
       "      <td>00:11</td>\n",
       "    </tr>\n",
       "    <tr>\n",
       "      <td>3</td>\n",
       "      <td>2.924587</td>\n",
       "      <td>4.170158</td>\n",
       "      <td>0.328237</td>\n",
       "      <td>00:11</td>\n",
       "    </tr>\n",
       "    <tr>\n",
       "      <td>4</td>\n",
       "      <td>2.881798</td>\n",
       "      <td>4.167700</td>\n",
       "      <td>0.328571</td>\n",
       "      <td>00:12</td>\n",
       "    </tr>\n",
       "  </tbody>\n",
       "</table>"
      ],
      "text/plain": [
       "<IPython.core.display.HTML object>"
      ]
     },
     "metadata": {},
     "output_type": "display_data"
    }
   ],
   "source": [
    "learn.fit_one_cycle(5, 1e-3)"
   ]
  },
  {
   "cell_type": "code",
   "execution_count": 34,
   "id": "4250c587",
   "metadata": {
    "execution": {
     "iopub.execute_input": "2022-03-03T18:54:11.638933Z",
     "iopub.status.busy": "2022-03-03T18:54:11.638115Z",
     "iopub.status.idle": "2022-03-03T18:54:11.689988Z",
     "shell.execute_reply": "2022-03-03T18:54:11.690430Z",
     "shell.execute_reply.started": "2022-03-02T16:33:02.775592Z"
    },
    "papermill": {
     "duration": 0.550576,
     "end_time": "2022-03-03T18:54:11.690602",
     "exception": false,
     "start_time": "2022-03-03T18:54:11.140026",
     "status": "completed"
    },
    "tags": []
   },
   "outputs": [
    {
     "data": {
      "text/plain": [
       "'▁தனது ▁சொந்த ▁அனுபவ ம் ▁அ சிங்க மான து ▁ x x b'"
      ]
     },
     "execution_count": 34,
     "metadata": {},
     "output_type": "execute_result"
    }
   ],
   "source": [
    "learn.predict('▁தனது ▁சொந்த',n_words=10)"
   ]
  },
  {
   "cell_type": "code",
   "execution_count": 35,
   "id": "c8a484fc",
   "metadata": {
    "execution": {
     "iopub.execute_input": "2022-03-03T18:54:12.685549Z",
     "iopub.status.busy": "2022-03-03T18:54:12.684673Z",
     "iopub.status.idle": "2022-03-03T18:54:12.821863Z",
     "shell.execute_reply": "2022-03-03T18:54:12.821174Z",
     "shell.execute_reply.started": "2022-03-02T16:33:02.864396Z"
    },
    "papermill": {
     "duration": 0.636278,
     "end_time": "2022-03-03T18:54:12.822029",
     "exception": false,
     "start_time": "2022-03-03T18:54:12.185751",
     "status": "completed"
    },
    "tags": []
   },
   "outputs": [],
   "source": [
    "learn.save_encoder('fine_tuned_enc')"
   ]
  },
  {
   "cell_type": "code",
   "execution_count": 36,
   "id": "29a0dc63",
   "metadata": {
    "execution": {
     "iopub.execute_input": "2022-03-03T18:54:13.855022Z",
     "iopub.status.busy": "2022-03-03T18:54:13.853246Z",
     "iopub.status.idle": "2022-03-03T18:54:15.931408Z",
     "shell.execute_reply": "2022-03-03T18:54:15.931905Z",
     "shell.execute_reply.started": "2022-03-02T16:33:03.194513Z"
    },
    "papermill": {
     "duration": 2.602416,
     "end_time": "2022-03-03T18:54:15.932063",
     "exception": false,
     "start_time": "2022-03-03T18:54:13.329647",
     "status": "completed"
    },
    "tags": []
   },
   "outputs": [
    {
     "data": {
      "text/html": [],
      "text/plain": [
       "<IPython.core.display.HTML object>"
      ]
     },
     "metadata": {},
     "output_type": "display_data"
    },
    {
     "name": "stderr",
     "output_type": "stream",
     "text": [
      "/opt/conda/lib/python3.7/site-packages/fastai/core.py:302: VisibleDeprecationWarning: Creating an ndarray from ragged nested sequences (which is a list-or-tuple of lists-or-tuples-or ndarrays with different lengths or shapes) is deprecated. If you meant to do this, you must specify 'dtype=object' when creating the ndarray.\n",
      "  return np.array(a, dtype=dtype, **kwargs)\n"
     ]
    },
    {
     "data": {
      "text/html": [],
      "text/plain": [
       "<IPython.core.display.HTML object>"
      ]
     },
     "metadata": {},
     "output_type": "display_data"
    },
    {
     "data": {
      "text/html": [],
      "text/plain": [
       "<IPython.core.display.HTML object>"
      ]
     },
     "metadata": {},
     "output_type": "display_data"
    },
    {
     "name": "stderr",
     "output_type": "stream",
     "text": [
      "/opt/conda/lib/python3.7/site-packages/numpy/core/_asarray.py:102: VisibleDeprecationWarning: Creating an ndarray from ragged nested sequences (which is a list-or-tuple of lists-or-tuples-or ndarrays with different lengths or shapes) is deprecated. If you meant to do this, you must specify 'dtype=object' when creating the ndarray.\n",
      "  return array(a, dtype, copy=False, order=order)\n",
      "<string>:6: VisibleDeprecationWarning: Creating an ndarray from ragged nested sequences (which is a list-or-tuple of lists-or-tuples-or ndarrays with different lengths or shapes) is deprecated. If you meant to do this, you must specify 'dtype=object' when creating the ndarray.\n"
     ]
    }
   ],
   "source": [
    "data_clas = TextClasDataBunch.from_df(path=path, train_df=df_train, valid_df=df_valid, test_df=df_test, tokenizer=tokenizer, vocab=tamil_vocab, label_cols=label_cols, bs=64)"
   ]
  },
  {
   "cell_type": "code",
   "execution_count": 37,
   "id": "71c08ec0",
   "metadata": {
    "execution": {
     "iopub.execute_input": "2022-03-03T18:54:16.991207Z",
     "iopub.status.busy": "2022-03-03T18:54:16.990400Z",
     "iopub.status.idle": "2022-03-03T18:54:17.268180Z",
     "shell.execute_reply": "2022-03-03T18:54:17.268581Z",
     "shell.execute_reply.started": "2022-03-02T16:33:05.251787Z"
    },
    "papermill": {
     "duration": 0.785339,
     "end_time": "2022-03-03T18:54:17.268731",
     "exception": false,
     "start_time": "2022-03-03T18:54:16.483392",
     "status": "completed"
    },
    "tags": []
   },
   "outputs": [
    {
     "data": {
      "text/html": [
       "<table border=\"1\" class=\"dataframe\">\n",
       "  <thead>\n",
       "    <tr style=\"text-align: right;\">\n",
       "      <th>text</th>\n",
       "      <th>target</th>\n",
       "    </tr>\n",
       "  </thead>\n",
       "  <tbody>\n",
       "    <tr>\n",
       "      <td>▁ x x b os &lt;unk&gt; ▁s w ath i &lt;unk&gt; ▁s ank ar ra j ▁c ore ect ▁ ip o ▁ ne en ga le y ▁ o th uk ut ing a ▁p ud h u ▁ ed ath uk u ▁ po na ▁ ka ka ▁b ay am a ▁ er uk um ▁n u ▁ ad he y ▁ min d s et ▁</td>\n",
       "      <td>Counter-speech</td>\n",
       "    </tr>\n",
       "    <tr>\n",
       "      <td>▁ x x b os &lt;unk&gt; &lt;unk&gt; van ga la &lt;unk&gt; &lt;unk&gt; id a ▁the li va ▁ y a ara al ay um ▁ cl ear ▁ ex p lan ation ▁ k ud uk ka ▁m id iya ad h u &lt;unk&gt; &lt;unk&gt; r uth an ▁in n or uth ana ▁ adi ch u ▁ k ol ran &lt;unk&gt; &lt;unk&gt; d ha &lt;unk&gt; &lt;unk&gt; id a ▁</td>\n",
       "      <td>Misandry</td>\n",
       "    </tr>\n",
       "    <tr>\n",
       "      <td>▁ x x b os &lt;unk&gt; &lt;unk&gt; aj a ▁ mo ha me d ▁ ne en ga ▁m ad ha ▁ sa ar b a ▁ pe y s ur e en ga ▁n an ▁ ad ha ▁m ad hi k ir en &lt;unk&gt; &lt;unk&gt; n ag al uk u ▁ or u ▁a an um ▁a an um ▁s er ur ad h u ▁ ep di</td>\n",
       "      <td>Counter-speech</td>\n",
       "    </tr>\n",
       "    <tr>\n",
       "      <td>▁ x x b os &lt;unk&gt; ▁s ex ▁ va ch ik ur ath uk u ▁m att um ▁ d han ▁ or u ▁p on n um ▁ or u ▁p ai y an um ▁ on n u ▁ se ran um a ▁ ap ram ▁in ga ▁ lo ve ▁ en ga ▁ ir uk u ▁ pl s ▁p pl ▁ g r ow</td>\n",
       "      <td>None-of-the-above</td>\n",
       "    </tr>\n",
       "    <tr>\n",
       "      <td>▁ x x b os &lt;unk&gt; ▁p o ▁ di ▁ lo os u ▁ k ood hi ▁s ug an y a ▁ y en d ra ▁m ot ta i ▁s un ni ▁ om b od h u ▁ th ay vi d y a a ▁p ay al ay &lt;unk&gt; ▁m o ot hi ra ▁s att i ▁ k an na d a ▁ th</td>\n",
       "      <td>Misogyny</td>\n",
       "    </tr>\n",
       "  </tbody>\n",
       "</table>"
      ],
      "text/plain": [
       "<IPython.core.display.HTML object>"
      ]
     },
     "metadata": {},
     "output_type": "display_data"
    }
   ],
   "source": [
    "data_clas.show_batch()"
   ]
  },
  {
   "cell_type": "code",
   "execution_count": 38,
   "id": "ac6f3c17",
   "metadata": {
    "execution": {
     "iopub.execute_input": "2022-03-03T18:54:18.269863Z",
     "iopub.status.busy": "2022-03-03T18:54:18.268918Z",
     "iopub.status.idle": "2022-03-03T18:54:18.270787Z",
     "shell.execute_reply": "2022-03-03T18:54:18.271216Z",
     "shell.execute_reply.started": "2022-03-02T16:33:05.575352Z"
    },
    "papermill": {
     "duration": 0.508383,
     "end_time": "2022-03-03T18:54:18.271369",
     "exception": false,
     "start_time": "2022-03-03T18:54:17.762986",
     "status": "completed"
    },
    "tags": []
   },
   "outputs": [],
   "source": [
    "del awd_lstm_config['tie_weights']\n",
    "del awd_lstm_config['out_bias']"
   ]
  },
  {
   "cell_type": "code",
   "execution_count": 39,
   "id": "5a70efbe",
   "metadata": {
    "execution": {
     "iopub.execute_input": "2022-03-03T18:54:19.268972Z",
     "iopub.status.busy": "2022-03-03T18:54:19.268206Z",
     "iopub.status.idle": "2022-03-03T18:54:25.502026Z",
     "shell.execute_reply": "2022-03-03T18:54:25.501544Z",
     "shell.execute_reply.started": "2022-03-02T16:33:05.581275Z"
    },
    "papermill": {
     "duration": 6.736462,
     "end_time": "2022-03-03T18:54:25.502156",
     "exception": false,
     "start_time": "2022-03-03T18:54:18.765694",
     "status": "completed"
    },
    "tags": []
   },
   "outputs": [
    {
     "name": "stdout",
     "output_type": "stream",
     "text": [
      "Downloading https://s3.amazonaws.com/fast-ai-modelzoo/wt103-fwd.tgz\n"
     ]
    },
    {
     "data": {
      "text/html": [],
      "text/plain": [
       "<IPython.core.display.HTML object>"
      ]
     },
     "metadata": {},
     "output_type": "display_data"
    }
   ],
   "source": [
    "learn = text_classifier_learner(data_clas, arch=AWD_LSTM, drop_mult=0.5, config=awd_lstm_config)"
   ]
  },
  {
   "cell_type": "code",
   "execution_count": 40,
   "id": "a16424c2",
   "metadata": {
    "execution": {
     "iopub.execute_input": "2022-03-03T18:54:26.588003Z",
     "iopub.status.busy": "2022-03-03T18:54:26.586939Z",
     "iopub.status.idle": "2022-03-03T18:54:26.638384Z",
     "shell.execute_reply": "2022-03-03T18:54:26.638885Z",
     "shell.execute_reply.started": "2022-03-02T16:33:05.991279Z"
    },
    "papermill": {
     "duration": 0.624486,
     "end_time": "2022-03-03T18:54:26.639047",
     "exception": false,
     "start_time": "2022-03-03T18:54:26.014561",
     "status": "completed"
    },
    "tags": []
   },
   "outputs": [
    {
     "data": {
      "text/plain": [
       "RNNLearner(data=TextClasDataBunch;\n",
       "\n",
       "Train: LabelList (8187 items)\n",
       "x: TextList\n",
       "▁ x x b os ▁ x m s r k s ▁ j i ▁ ent ha ▁ ch ur ch ▁n u ▁s ol l ung a,▁ x x b os ▁ ed ha y um ▁ e van ung a ▁ vi t tu ▁ va ik a ▁ ma at ing a ▁ d a,▁ x x b os ▁ li ke ▁ v j ▁ an na,▁ x x b os ▁உண்மை ▁சொன்ன தற்கு ▁நன் றி,▁ x x b os ▁ஏ ண்டா ▁உ ங்களுக்கு ▁பேச ▁வேற ▁மத மே ▁இல்லை யா ▁இந்துக் கள் ▁என்ன ▁ஏ மா ளி யா ▁ராஜா ▁பேச ியது ▁சரி யே\n",
       "y: CategoryList\n",
       "None-of-the-above,None-of-the-above,None-of-the-above,None-of-the-above,None-of-the-above\n",
       "Path: .;\n",
       "\n",
       "Valid: LabelList (560 items)\n",
       "x: TextList\n",
       "▁ x x b os ▁சோ ம் பே றி கள் ▁விரும்பி ▁வர த ட் ச ணை,▁ x x b os ▁சி மான் ▁கே வள மான ▁ஒ று ▁மனிதன் ▁ப ச் சோ ந்த ▁நாய் ▁வைர முத்து ▁ஒ று ▁கட்டு ▁பன்றி,▁ x x b os ▁சம த்துவம் ▁பேசும் ▁ஆன ந் சீ னி வா சன் ▁சா ருக்கு ▁நன் றி,▁ x x b os ▁p r iya ▁p r iya ▁அர வாணி ▁பு ண்ட ▁எ ங்க டா ▁ ங் ங ோ த்தா ▁கூ தி ▁கி ழி யு தா,▁ x x b os ▁பெ சி க்கொ ன் டி று க்கும் பொ து ▁பின்ன ால ▁இறுக்க ிற வ ங்க ல ▁பார்த்து ▁பார்த்து ▁பேச ுகிறார் ▁அ ப்போ ▁முன் னா டி ▁ஆட் களே ▁இல்ல யா\n",
       "y: CategoryList\n",
       "None-of-the-above,Misandry,None-of-the-above,Transphobic,None-of-the-above\n",
       "Path: .;\n",
       "\n",
       "Test: LabelList (700 items)\n",
       "x: TextList\n",
       "▁ x x b os <unk> ▁a b ir am i <unk> <unk> i ja y ak um ar ▁என் ▁தலைவி தி ▁என்று ▁தான் ▁நா னும் ▁நினைத்த ு க்கொண்டு ▁வாழ் கிற ேன்,▁ x x b os ▁மா மனித ர் ▁அ ண்ண ன் ▁நீ ங்கள் ▁நீ டூ ழி ▁வாழ வேண்டும் உ ங்கள் பே ச்சு உ ண்மை சூ ப்பர்,▁ x x b os ▁ச ரியா ▁சோ லி ங்கா ▁சார்,▁ x x b os ▁ஆ மை க்க றி ▁அ ண்ண ன் ▁சீ மான்,▁ x x b os ▁ஆனந்த ▁சார் ▁நியாய மான ▁பேச்சு\n",
       "y: EmptyLabelList\n",
       ",,,,\n",
       "Path: ., model=SequentialRNN(\n",
       "  (0): MultiBatchEncoder(\n",
       "    (module): AWD_LSTM(\n",
       "      (encoder): Embedding(8000, 400, padding_idx=1)\n",
       "      (encoder_dp): EmbeddingDropout(\n",
       "        (emb): Embedding(8000, 400, padding_idx=1)\n",
       "      )\n",
       "      (rnns): ModuleList(\n",
       "        (0): WeightDropout(\n",
       "          (module): LSTM(400, 1150, batch_first=True)\n",
       "        )\n",
       "        (1): WeightDropout(\n",
       "          (module): LSTM(1150, 1150, batch_first=True)\n",
       "        )\n",
       "        (2): WeightDropout(\n",
       "          (module): LSTM(1150, 400, batch_first=True)\n",
       "        )\n",
       "      )\n",
       "      (input_dp): RNNDropout()\n",
       "      (hidden_dps): ModuleList(\n",
       "        (0): RNNDropout()\n",
       "        (1): RNNDropout()\n",
       "        (2): RNNDropout()\n",
       "      )\n",
       "    )\n",
       "  )\n",
       "  (1): PoolingLinearClassifier(\n",
       "    (layers): Sequential(\n",
       "      (0): BatchNorm1d(1200, eps=1e-05, momentum=0.1, affine=True, track_running_stats=True)\n",
       "      (1): Dropout(p=0.05, inplace=False)\n",
       "      (2): Linear(in_features=1200, out_features=50, bias=True)\n",
       "      (3): ReLU(inplace=True)\n",
       "      (4): BatchNorm1d(50, eps=1e-05, momentum=0.1, affine=True, track_running_stats=True)\n",
       "      (5): Dropout(p=0.1, inplace=False)\n",
       "      (6): Linear(in_features=50, out_features=9, bias=True)\n",
       "    )\n",
       "  )\n",
       "), opt_func=functools.partial(<class 'torch.optim.adam.Adam'>, betas=(0.9, 0.99)), loss_func=FlattenedLoss of CrossEntropyLoss(), metrics=[<function accuracy at 0x7fb91b9f3e60>], true_wd=True, bn_wd=True, wd=0.01, train_bn=True, path=PosixPath('.'), model_dir='models', callback_fns=[functools.partial(<class 'fastai.basic_train.Recorder'>, add_time=True, silent=False)], callbacks=[RNNTrainer\n",
       "learn: ...\n",
       "alpha: 2.0\n",
       "beta: 1.0], layer_groups=[Sequential(\n",
       "  (0): Embedding(8000, 400, padding_idx=1)\n",
       "  (1): EmbeddingDropout(\n",
       "    (emb): Embedding(8000, 400, padding_idx=1)\n",
       "  )\n",
       "), Sequential(\n",
       "  (0): WeightDropout(\n",
       "    (module): LSTM(400, 1150, batch_first=True)\n",
       "  )\n",
       "  (1): RNNDropout()\n",
       "), Sequential(\n",
       "  (0): WeightDropout(\n",
       "    (module): LSTM(1150, 1150, batch_first=True)\n",
       "  )\n",
       "  (1): RNNDropout()\n",
       "), Sequential(\n",
       "  (0): WeightDropout(\n",
       "    (module): LSTM(1150, 400, batch_first=True)\n",
       "  )\n",
       "  (1): RNNDropout()\n",
       "), Sequential(\n",
       "  (0): PoolingLinearClassifier(\n",
       "    (layers): Sequential(\n",
       "      (0): BatchNorm1d(1200, eps=1e-05, momentum=0.1, affine=True, track_running_stats=True)\n",
       "      (1): Dropout(p=0.05, inplace=False)\n",
       "      (2): Linear(in_features=1200, out_features=50, bias=True)\n",
       "      (3): ReLU(inplace=True)\n",
       "      (4): BatchNorm1d(50, eps=1e-05, momentum=0.1, affine=True, track_running_stats=True)\n",
       "      (5): Dropout(p=0.1, inplace=False)\n",
       "      (6): Linear(in_features=50, out_features=9, bias=True)\n",
       "    )\n",
       "  )\n",
       ")], add_time=True, silent=False)"
      ]
     },
     "execution_count": 40,
     "metadata": {},
     "output_type": "execute_result"
    }
   ],
   "source": [
    "learn.load_encoder('fine_tuned_enc')"
   ]
  },
  {
   "cell_type": "code",
   "execution_count": 41,
   "id": "e7712934",
   "metadata": {
    "execution": {
     "iopub.execute_input": "2022-03-03T18:54:27.642492Z",
     "iopub.status.busy": "2022-03-03T18:54:27.640697Z",
     "iopub.status.idle": "2022-03-03T18:54:27.643074Z",
     "shell.execute_reply": "2022-03-03T18:54:27.643506Z",
     "shell.execute_reply.started": "2022-03-02T16:33:06.048186Z"
    },
    "papermill": {
     "duration": 0.508549,
     "end_time": "2022-03-03T18:54:27.643648",
     "exception": false,
     "start_time": "2022-03-03T18:54:27.135099",
     "status": "completed"
    },
    "tags": []
   },
   "outputs": [],
   "source": [
    "learn.freeze()"
   ]
  },
  {
   "cell_type": "code",
   "execution_count": 42,
   "id": "aa0e558b",
   "metadata": {
    "execution": {
     "iopub.execute_input": "2022-03-03T18:54:28.666071Z",
     "iopub.status.busy": "2022-03-03T18:54:28.665326Z",
     "iopub.status.idle": "2022-03-03T18:54:28.668294Z",
     "shell.execute_reply": "2022-03-03T18:54:28.668714Z",
     "shell.execute_reply.started": "2022-03-02T16:33:06.05698Z"
    },
    "papermill": {
     "duration": 0.525636,
     "end_time": "2022-03-03T18:54:28.668846",
     "exception": false,
     "start_time": "2022-03-03T18:54:28.143210",
     "status": "completed"
    },
    "tags": []
   },
   "outputs": [
    {
     "data": {
      "text/plain": [
       "CrossEntropyLoss()"
      ]
     },
     "execution_count": 42,
     "metadata": {},
     "output_type": "execute_result"
    }
   ],
   "source": [
    "learn.loss_func.func"
   ]
  },
  {
   "cell_type": "code",
   "execution_count": 43,
   "id": "b70abf9b",
   "metadata": {
    "execution": {
     "iopub.execute_input": "2022-03-03T18:54:29.671373Z",
     "iopub.status.busy": "2022-03-03T18:54:29.670501Z",
     "iopub.status.idle": "2022-03-03T18:54:29.672937Z",
     "shell.execute_reply": "2022-03-03T18:54:29.672522Z",
     "shell.execute_reply.started": "2022-03-02T16:33:06.064938Z"
    },
    "papermill": {
     "duration": 0.505345,
     "end_time": "2022-03-03T18:54:29.673054",
     "exception": false,
     "start_time": "2022-03-03T18:54:29.167709",
     "status": "completed"
    },
    "tags": []
   },
   "outputs": [],
   "source": [
    "mcc = MatthewsCorreff()"
   ]
  },
  {
   "cell_type": "code",
   "execution_count": 44,
   "id": "f92045a7",
   "metadata": {
    "execution": {
     "iopub.execute_input": "2022-03-03T18:54:30.679876Z",
     "iopub.status.busy": "2022-03-03T18:54:30.678807Z",
     "iopub.status.idle": "2022-03-03T18:54:30.680499Z",
     "shell.execute_reply": "2022-03-03T18:54:30.680956Z"
    },
    "papermill": {
     "duration": 0.511834,
     "end_time": "2022-03-03T18:54:30.681135",
     "exception": false,
     "start_time": "2022-03-03T18:54:30.169301",
     "status": "completed"
    },
    "tags": []
   },
   "outputs": [],
   "source": [
    "f1 = FBeta(beta = 1,average = 'weighted')"
   ]
  },
  {
   "cell_type": "code",
   "execution_count": 45,
   "id": "19e476e4",
   "metadata": {
    "execution": {
     "iopub.execute_input": "2022-03-03T18:54:31.837992Z",
     "iopub.status.busy": "2022-03-03T18:54:31.837024Z",
     "iopub.status.idle": "2022-03-03T18:54:31.840297Z",
     "shell.execute_reply": "2022-03-03T18:54:31.839082Z",
     "shell.execute_reply.started": "2022-03-02T16:33:06.07257Z"
    },
    "papermill": {
     "duration": 0.61579,
     "end_time": "2022-03-03T18:54:31.840478",
     "exception": false,
     "start_time": "2022-03-03T18:54:31.224688",
     "status": "completed"
    },
    "tags": []
   },
   "outputs": [],
   "source": [
    "learn.metrics = [f1]"
   ]
  },
  {
   "cell_type": "code",
   "execution_count": 46,
   "id": "b6c9eb02",
   "metadata": {
    "execution": {
     "iopub.execute_input": "2022-03-03T18:54:33.391328Z",
     "iopub.status.busy": "2022-03-03T18:54:33.390492Z",
     "iopub.status.idle": "2022-03-03T18:54:38.981963Z",
     "shell.execute_reply": "2022-03-03T18:54:38.982382Z",
     "shell.execute_reply.started": "2022-03-02T16:33:06.080895Z"
    },
    "papermill": {
     "duration": 6.145061,
     "end_time": "2022-03-03T18:54:38.982571",
     "exception": false,
     "start_time": "2022-03-03T18:54:32.837510",
     "status": "completed"
    },
    "tags": []
   },
   "outputs": [
    {
     "data": {
      "text/html": [
       "<table border=\"1\" class=\"dataframe\">\n",
       "  <thead>\n",
       "    <tr style=\"text-align: left;\">\n",
       "      <th>epoch</th>\n",
       "      <th>train_loss</th>\n",
       "      <th>valid_loss</th>\n",
       "      <th>f_beta</th>\n",
       "      <th>time</th>\n",
       "    </tr>\n",
       "  </thead>\n",
       "  <tbody>\n",
       "    <tr>\n",
       "      <td>0</td>\n",
       "      <td>1.232277</td>\n",
       "      <td>1.114377</td>\n",
       "      <td>0.580403</td>\n",
       "      <td>00:05</td>\n",
       "    </tr>\n",
       "  </tbody>\n",
       "</table>"
      ],
      "text/plain": [
       "<IPython.core.display.HTML object>"
      ]
     },
     "metadata": {},
     "output_type": "display_data"
    },
    {
     "name": "stderr",
     "output_type": "stream",
     "text": [
      "/opt/conda/lib/python3.7/site-packages/numpy/core/_asarray.py:102: VisibleDeprecationWarning: Creating an ndarray from ragged nested sequences (which is a list-or-tuple of lists-or-tuples-or ndarrays with different lengths or shapes) is deprecated. If you meant to do this, you must specify 'dtype=object' when creating the ndarray.\n",
      "  return array(a, dtype, copy=False, order=order)\n",
      "<string>:6: VisibleDeprecationWarning: Creating an ndarray from ragged nested sequences (which is a list-or-tuple of lists-or-tuples-or ndarrays with different lengths or shapes) is deprecated. If you meant to do this, you must specify 'dtype=object' when creating the ndarray.\n",
      "[W pthreadpool-cpp.cc:90] Warning: Leaking Caffe2 thread-pool after fork. (function pthreadpool)\n",
      "[W pthreadpool-cpp.cc:90] Warning: Leaking Caffe2 thread-pool after fork. (function pthreadpool)\n"
     ]
    }
   ],
   "source": [
    "learn.fit_one_cycle(1, 1e-2)"
   ]
  },
  {
   "cell_type": "code",
   "execution_count": 47,
   "id": "7f5a44e8",
   "metadata": {
    "execution": {
     "iopub.execute_input": "2022-03-03T18:54:40.474608Z",
     "iopub.status.busy": "2022-03-03T18:54:40.473485Z",
     "iopub.status.idle": "2022-03-03T18:54:48.001167Z",
     "shell.execute_reply": "2022-03-03T18:54:48.001618Z",
     "shell.execute_reply.started": "2022-03-02T16:33:12.277856Z"
    },
    "papermill": {
     "duration": 8.276002,
     "end_time": "2022-03-03T18:54:48.001787",
     "exception": false,
     "start_time": "2022-03-03T18:54:39.725785",
     "status": "completed"
    },
    "tags": []
   },
   "outputs": [
    {
     "data": {
      "text/html": [
       "<table border=\"1\" class=\"dataframe\">\n",
       "  <thead>\n",
       "    <tr style=\"text-align: left;\">\n",
       "      <th>epoch</th>\n",
       "      <th>train_loss</th>\n",
       "      <th>valid_loss</th>\n",
       "      <th>f_beta</th>\n",
       "      <th>time</th>\n",
       "    </tr>\n",
       "  </thead>\n",
       "  <tbody>\n",
       "    <tr>\n",
       "      <td>0</td>\n",
       "      <td>1.070057</td>\n",
       "      <td>0.997211</td>\n",
       "      <td>0.634806</td>\n",
       "      <td>00:07</td>\n",
       "    </tr>\n",
       "  </tbody>\n",
       "</table>"
      ],
      "text/plain": [
       "<IPython.core.display.HTML object>"
      ]
     },
     "metadata": {},
     "output_type": "display_data"
    },
    {
     "name": "stderr",
     "output_type": "stream",
     "text": [
      "[W pthreadpool-cpp.cc:90] Warning: Leaking Caffe2 thread-pool after fork. (function pthreadpool)\n",
      "[W pthreadpool-cpp.cc:90] Warning: Leaking Caffe2 thread-pool after fork. (function pthreadpool)\n",
      "/opt/conda/lib/python3.7/site-packages/numpy/core/_asarray.py:102: VisibleDeprecationWarning: Creating an ndarray from ragged nested sequences (which is a list-or-tuple of lists-or-tuples-or ndarrays with different lengths or shapes) is deprecated. If you meant to do this, you must specify 'dtype=object' when creating the ndarray.\n",
      "  return array(a, dtype, copy=False, order=order)\n",
      "<string>:6: VisibleDeprecationWarning: Creating an ndarray from ragged nested sequences (which is a list-or-tuple of lists-or-tuples-or ndarrays with different lengths or shapes) is deprecated. If you meant to do this, you must specify 'dtype=object' when creating the ndarray.\n",
      "[W pthreadpool-cpp.cc:90] Warning: Leaking Caffe2 thread-pool after fork. (function pthreadpool)\n",
      "[W pthreadpool-cpp.cc:90] Warning: Leaking Caffe2 thread-pool after fork. (function pthreadpool)\n"
     ]
    }
   ],
   "source": [
    "learn.freeze_to(-2)\n",
    "learn.fit_one_cycle(1, 1e-2)"
   ]
  },
  {
   "cell_type": "code",
   "execution_count": 48,
   "id": "02376fcc",
   "metadata": {
    "execution": {
     "iopub.execute_input": "2022-03-03T18:54:49.018776Z",
     "iopub.status.busy": "2022-03-03T18:54:49.017957Z",
     "iopub.status.idle": "2022-03-03T18:57:02.161238Z",
     "shell.execute_reply": "2022-03-03T18:57:02.160754Z",
     "shell.execute_reply.started": "2022-03-02T16:33:18.81695Z"
    },
    "papermill": {
     "duration": 133.656602,
     "end_time": "2022-03-03T18:57:02.161392",
     "exception": false,
     "start_time": "2022-03-03T18:54:48.504790",
     "status": "completed"
    },
    "tags": []
   },
   "outputs": [
    {
     "data": {
      "text/html": [
       "<table border=\"1\" class=\"dataframe\">\n",
       "  <thead>\n",
       "    <tr style=\"text-align: left;\">\n",
       "      <th>epoch</th>\n",
       "      <th>train_loss</th>\n",
       "      <th>valid_loss</th>\n",
       "      <th>f_beta</th>\n",
       "      <th>time</th>\n",
       "    </tr>\n",
       "  </thead>\n",
       "  <tbody>\n",
       "    <tr>\n",
       "      <td>0</td>\n",
       "      <td>0.902292</td>\n",
       "      <td>1.019348</td>\n",
       "      <td>0.619089</td>\n",
       "      <td>00:18</td>\n",
       "    </tr>\n",
       "    <tr>\n",
       "      <td>1</td>\n",
       "      <td>0.873637</td>\n",
       "      <td>1.026243</td>\n",
       "      <td>0.626823</td>\n",
       "      <td>00:14</td>\n",
       "    </tr>\n",
       "    <tr>\n",
       "      <td>2</td>\n",
       "      <td>0.856329</td>\n",
       "      <td>1.232639</td>\n",
       "      <td>0.607085</td>\n",
       "      <td>00:14</td>\n",
       "    </tr>\n",
       "    <tr>\n",
       "      <td>3</td>\n",
       "      <td>0.779987</td>\n",
       "      <td>1.080215</td>\n",
       "      <td>0.649932</td>\n",
       "      <td>00:15</td>\n",
       "    </tr>\n",
       "    <tr>\n",
       "      <td>4</td>\n",
       "      <td>0.701850</td>\n",
       "      <td>1.113537</td>\n",
       "      <td>0.638601</td>\n",
       "      <td>00:18</td>\n",
       "    </tr>\n",
       "    <tr>\n",
       "      <td>5</td>\n",
       "      <td>0.644573</td>\n",
       "      <td>1.176700</td>\n",
       "      <td>0.649337</td>\n",
       "      <td>00:18</td>\n",
       "    </tr>\n",
       "    <tr>\n",
       "      <td>6</td>\n",
       "      <td>0.619053</td>\n",
       "      <td>1.227636</td>\n",
       "      <td>0.645681</td>\n",
       "      <td>00:14</td>\n",
       "    </tr>\n",
       "    <tr>\n",
       "      <td>7</td>\n",
       "      <td>0.631276</td>\n",
       "      <td>1.252194</td>\n",
       "      <td>0.637481</td>\n",
       "      <td>00:17</td>\n",
       "    </tr>\n",
       "  </tbody>\n",
       "</table>"
      ],
      "text/plain": [
       "<IPython.core.display.HTML object>"
      ]
     },
     "metadata": {},
     "output_type": "display_data"
    },
    {
     "name": "stderr",
     "output_type": "stream",
     "text": [
      "[W pthreadpool-cpp.cc:90] Warning: Leaking Caffe2 thread-pool after fork. (function pthreadpool)\n",
      "[W pthreadpool-cpp.cc:90] Warning: Leaking Caffe2 thread-pool after fork. (function pthreadpool)\n",
      "/opt/conda/lib/python3.7/site-packages/numpy/core/_asarray.py:102: VisibleDeprecationWarning: Creating an ndarray from ragged nested sequences (which is a list-or-tuple of lists-or-tuples-or ndarrays with different lengths or shapes) is deprecated. If you meant to do this, you must specify 'dtype=object' when creating the ndarray.\n",
      "  return array(a, dtype, copy=False, order=order)\n",
      "<string>:6: VisibleDeprecationWarning: Creating an ndarray from ragged nested sequences (which is a list-or-tuple of lists-or-tuples-or ndarrays with different lengths or shapes) is deprecated. If you meant to do this, you must specify 'dtype=object' when creating the ndarray.\n",
      "[W pthreadpool-cpp.cc:90] Warning: Leaking Caffe2 thread-pool after fork. (function pthreadpool)\n",
      "[W pthreadpool-cpp.cc:90] Warning: Leaking Caffe2 thread-pool after fork. (function pthreadpool)\n"
     ]
    },
    {
     "name": "stdout",
     "output_type": "stream",
     "text": [
      "Better model found at epoch 0 with f_beta value: 0.6190888285636902.\n"
     ]
    },
    {
     "name": "stderr",
     "output_type": "stream",
     "text": [
      "[W pthreadpool-cpp.cc:90] Warning: Leaking Caffe2 thread-pool after fork. (function pthreadpool)\n",
      "[W pthreadpool-cpp.cc:90] Warning: Leaking Caffe2 thread-pool after fork. (function pthreadpool)\n",
      "/opt/conda/lib/python3.7/site-packages/numpy/core/_asarray.py:102: VisibleDeprecationWarning: Creating an ndarray from ragged nested sequences (which is a list-or-tuple of lists-or-tuples-or ndarrays with different lengths or shapes) is deprecated. If you meant to do this, you must specify 'dtype=object' when creating the ndarray.\n",
      "  return array(a, dtype, copy=False, order=order)\n",
      "<string>:6: VisibleDeprecationWarning: Creating an ndarray from ragged nested sequences (which is a list-or-tuple of lists-or-tuples-or ndarrays with different lengths or shapes) is deprecated. If you meant to do this, you must specify 'dtype=object' when creating the ndarray.\n",
      "[W pthreadpool-cpp.cc:90] Warning: Leaking Caffe2 thread-pool after fork. (function pthreadpool)\n",
      "[W pthreadpool-cpp.cc:90] Warning: Leaking Caffe2 thread-pool after fork. (function pthreadpool)\n"
     ]
    },
    {
     "name": "stdout",
     "output_type": "stream",
     "text": [
      "Better model found at epoch 1 with f_beta value: 0.6268231272697449.\n"
     ]
    },
    {
     "name": "stderr",
     "output_type": "stream",
     "text": [
      "[W pthreadpool-cpp.cc:90] Warning: Leaking Caffe2 thread-pool after fork. (function pthreadpool)\n",
      "[W pthreadpool-cpp.cc:90] Warning: Leaking Caffe2 thread-pool after fork. (function pthreadpool)\n",
      "/opt/conda/lib/python3.7/site-packages/numpy/core/_asarray.py:102: VisibleDeprecationWarning: Creating an ndarray from ragged nested sequences (which is a list-or-tuple of lists-or-tuples-or ndarrays with different lengths or shapes) is deprecated. If you meant to do this, you must specify 'dtype=object' when creating the ndarray.\n",
      "  return array(a, dtype, copy=False, order=order)\n",
      "<string>:6: VisibleDeprecationWarning: Creating an ndarray from ragged nested sequences (which is a list-or-tuple of lists-or-tuples-or ndarrays with different lengths or shapes) is deprecated. If you meant to do this, you must specify 'dtype=object' when creating the ndarray.\n",
      "[W pthreadpool-cpp.cc:90] Warning: Leaking Caffe2 thread-pool after fork. (function pthreadpool)\n",
      "[W pthreadpool-cpp.cc:90] Warning: Leaking Caffe2 thread-pool after fork. (function pthreadpool)\n",
      "[W pthreadpool-cpp.cc:90] Warning: Leaking Caffe2 thread-pool after fork. (function pthreadpool)\n",
      "[W pthreadpool-cpp.cc:90] Warning: Leaking Caffe2 thread-pool after fork. (function pthreadpool)\n",
      "/opt/conda/lib/python3.7/site-packages/numpy/core/_asarray.py:102: VisibleDeprecationWarning: Creating an ndarray from ragged nested sequences (which is a list-or-tuple of lists-or-tuples-or ndarrays with different lengths or shapes) is deprecated. If you meant to do this, you must specify 'dtype=object' when creating the ndarray.\n",
      "  return array(a, dtype, copy=False, order=order)\n",
      "<string>:6: VisibleDeprecationWarning: Creating an ndarray from ragged nested sequences (which is a list-or-tuple of lists-or-tuples-or ndarrays with different lengths or shapes) is deprecated. If you meant to do this, you must specify 'dtype=object' when creating the ndarray.\n",
      "[W pthreadpool-cpp.cc:90] Warning: Leaking Caffe2 thread-pool after fork. (function pthreadpool)\n",
      "[W pthreadpool-cpp.cc:90] Warning: Leaking Caffe2 thread-pool after fork. (function pthreadpool)\n"
     ]
    },
    {
     "name": "stdout",
     "output_type": "stream",
     "text": [
      "Better model found at epoch 3 with f_beta value: 0.6499319076538086.\n"
     ]
    },
    {
     "name": "stderr",
     "output_type": "stream",
     "text": [
      "[W pthreadpool-cpp.cc:90] Warning: Leaking Caffe2 thread-pool after fork. (function pthreadpool)\n",
      "[W pthreadpool-cpp.cc:90] Warning: Leaking Caffe2 thread-pool after fork. (function pthreadpool)\n",
      "/opt/conda/lib/python3.7/site-packages/numpy/core/_asarray.py:102: VisibleDeprecationWarning: Creating an ndarray from ragged nested sequences (which is a list-or-tuple of lists-or-tuples-or ndarrays with different lengths or shapes) is deprecated. If you meant to do this, you must specify 'dtype=object' when creating the ndarray.\n",
      "  return array(a, dtype, copy=False, order=order)\n",
      "<string>:6: VisibleDeprecationWarning: Creating an ndarray from ragged nested sequences (which is a list-or-tuple of lists-or-tuples-or ndarrays with different lengths or shapes) is deprecated. If you meant to do this, you must specify 'dtype=object' when creating the ndarray.\n",
      "[W pthreadpool-cpp.cc:90] Warning: Leaking Caffe2 thread-pool after fork. (function pthreadpool)\n",
      "[W pthreadpool-cpp.cc:90] Warning: Leaking Caffe2 thread-pool after fork. (function pthreadpool)\n",
      "[W pthreadpool-cpp.cc:90] Warning: Leaking Caffe2 thread-pool after fork. (function pthreadpool)\n",
      "[W pthreadpool-cpp.cc:90] Warning: Leaking Caffe2 thread-pool after fork. (function pthreadpool)\n",
      "/opt/conda/lib/python3.7/site-packages/numpy/core/_asarray.py:102: VisibleDeprecationWarning: Creating an ndarray from ragged nested sequences (which is a list-or-tuple of lists-or-tuples-or ndarrays with different lengths or shapes) is deprecated. If you meant to do this, you must specify 'dtype=object' when creating the ndarray.\n",
      "  return array(a, dtype, copy=False, order=order)\n",
      "<string>:6: VisibleDeprecationWarning: Creating an ndarray from ragged nested sequences (which is a list-or-tuple of lists-or-tuples-or ndarrays with different lengths or shapes) is deprecated. If you meant to do this, you must specify 'dtype=object' when creating the ndarray.\n",
      "[W pthreadpool-cpp.cc:90] Warning: Leaking Caffe2 thread-pool after fork. (function pthreadpool)\n",
      "[W pthreadpool-cpp.cc:90] Warning: Leaking Caffe2 thread-pool after fork. (function pthreadpool)\n",
      "[W pthreadpool-cpp.cc:90] Warning: Leaking Caffe2 thread-pool after fork. (function pthreadpool)\n",
      "[W pthreadpool-cpp.cc:90] Warning: Leaking Caffe2 thread-pool after fork. (function pthreadpool)\n",
      "/opt/conda/lib/python3.7/site-packages/numpy/core/_asarray.py:102: VisibleDeprecationWarning: Creating an ndarray from ragged nested sequences (which is a list-or-tuple of lists-or-tuples-or ndarrays with different lengths or shapes) is deprecated. If you meant to do this, you must specify 'dtype=object' when creating the ndarray.\n",
      "  return array(a, dtype, copy=False, order=order)\n",
      "<string>:6: VisibleDeprecationWarning: Creating an ndarray from ragged nested sequences (which is a list-or-tuple of lists-or-tuples-or ndarrays with different lengths or shapes) is deprecated. If you meant to do this, you must specify 'dtype=object' when creating the ndarray.\n",
      "[W pthreadpool-cpp.cc:90] Warning: Leaking Caffe2 thread-pool after fork. (function pthreadpool)\n",
      "[W pthreadpool-cpp.cc:90] Warning: Leaking Caffe2 thread-pool after fork. (function pthreadpool)\n",
      "[W pthreadpool-cpp.cc:90] Warning: Leaking Caffe2 thread-pool after fork. (function pthreadpool)\n",
      "[W pthreadpool-cpp.cc:90] Warning: Leaking Caffe2 thread-pool after fork. (function pthreadpool)\n",
      "/opt/conda/lib/python3.7/site-packages/numpy/core/_asarray.py:102: VisibleDeprecationWarning: Creating an ndarray from ragged nested sequences (which is a list-or-tuple of lists-or-tuples-or ndarrays with different lengths or shapes) is deprecated. If you meant to do this, you must specify 'dtype=object' when creating the ndarray.\n",
      "  return array(a, dtype, copy=False, order=order)\n",
      "<string>:6: VisibleDeprecationWarning: Creating an ndarray from ragged nested sequences (which is a list-or-tuple of lists-or-tuples-or ndarrays with different lengths or shapes) is deprecated. If you meant to do this, you must specify 'dtype=object' when creating the ndarray.\n",
      "[W pthreadpool-cpp.cc:90] Warning: Leaking Caffe2 thread-pool after fork. (function pthreadpool)\n",
      "[W pthreadpool-cpp.cc:90] Warning: Leaking Caffe2 thread-pool after fork. (function pthreadpool)\n"
     ]
    }
   ],
   "source": [
    "learn.unfreeze()\n",
    "learn.fit_one_cycle(8, 1e-3, callbacks=[callbacks.SaveModelCallback(learn, every='improvement', monitor='f_beta', name='final')])"
   ]
  },
  {
   "cell_type": "code",
   "execution_count": 49,
   "id": "caa82c8a",
   "metadata": {
    "execution": {
     "iopub.execute_input": "2022-03-03T18:57:03.234025Z",
     "iopub.status.busy": "2022-03-03T18:57:03.232200Z",
     "iopub.status.idle": "2022-03-03T18:57:03.901105Z",
     "shell.execute_reply": "2022-03-03T18:57:03.901523Z",
     "shell.execute_reply.started": "2022-03-02T16:35:16.86378Z"
    },
    "papermill": {
     "duration": 1.22551,
     "end_time": "2022-03-03T18:57:03.901682",
     "exception": false,
     "start_time": "2022-03-03T18:57:02.676172",
     "status": "completed"
    },
    "tags": []
   },
   "outputs": [
    {
     "data": {
      "text/html": [],
      "text/plain": [
       "<IPython.core.display.HTML object>"
      ]
     },
     "metadata": {},
     "output_type": "display_data"
    },
    {
     "name": "stderr",
     "output_type": "stream",
     "text": [
      "[W pthreadpool-cpp.cc:90] Warning: Leaking Caffe2 thread-pool after fork. (function pthreadpool)\n",
      "[W pthreadpool-cpp.cc:90] Warning: Leaking Caffe2 thread-pool after fork. (function pthreadpool)\n"
     ]
    },
    {
     "data": {
      "text/html": [
       "<div>\n",
       "<style scoped>\n",
       "    .dataframe tbody tr th:only-of-type {\n",
       "        vertical-align: middle;\n",
       "    }\n",
       "\n",
       "    .dataframe tbody tr th {\n",
       "        vertical-align: top;\n",
       "    }\n",
       "\n",
       "    .dataframe thead th {\n",
       "        text-align: right;\n",
       "    }\n",
       "</style>\n",
       "<table border=\"1\" class=\"dataframe\">\n",
       "  <thead>\n",
       "    <tr style=\"text-align: right;\">\n",
       "      <th></th>\n",
       "      <th>query</th>\n",
       "      <th>actual_label</th>\n",
       "      <th>predicted_label</th>\n",
       "      <th>Misogyny</th>\n",
       "      <th>Misandry</th>\n",
       "      <th>Xenophobia</th>\n",
       "      <th>None-of-the-above</th>\n",
       "      <th>Hope-Speech</th>\n",
       "      <th>Transphobic</th>\n",
       "      <th>Not-Tamil</th>\n",
       "      <th>Counter-speech</th>\n",
       "      <th>Homophobia</th>\n",
       "    </tr>\n",
       "  </thead>\n",
       "  <tbody>\n",
       "    <tr>\n",
       "      <th>0</th>\n",
       "      <td>Abirami Vijayakumar என் தலைவிதி என்று தான் நான...</td>\n",
       "      <td>None-of-the-above</td>\n",
       "      <td>None-of-the-above</td>\n",
       "      <td>0.003367</td>\n",
       "      <td>0.00255</td>\n",
       "      <td>0.010785</td>\n",
       "      <td>0.677732</td>\n",
       "      <td>0.250946</td>\n",
       "      <td>0.000536</td>\n",
       "      <td>0.000125</td>\n",
       "      <td>0.05348</td>\n",
       "      <td>0.00048</td>\n",
       "    </tr>\n",
       "    <tr>\n",
       "      <th>1</th>\n",
       "      <td>மாமனிதர் அண்ணன் நீங்கள் நீடூழி வாழவேண்டும்உங்க...</td>\n",
       "      <td>None-of-the-above</td>\n",
       "      <td>None-of-the-above</td>\n",
       "      <td>0.017506</td>\n",
       "      <td>0.029532</td>\n",
       "      <td>0.004924</td>\n",
       "      <td>0.835591</td>\n",
       "      <td>0.04261</td>\n",
       "      <td>0.001215</td>\n",
       "      <td>0.000019</td>\n",
       "      <td>0.06653</td>\n",
       "      <td>0.002072</td>\n",
       "    </tr>\n",
       "    <tr>\n",
       "      <th>2</th>\n",
       "      <td>சரியா சோலிங்கா சார்</td>\n",
       "      <td>None-of-the-above</td>\n",
       "      <td>None-of-the-above</td>\n",
       "      <td>0.017379</td>\n",
       "      <td>0.037679</td>\n",
       "      <td>0.008256</td>\n",
       "      <td>0.903365</td>\n",
       "      <td>0.002758</td>\n",
       "      <td>0.003207</td>\n",
       "      <td>0.000004</td>\n",
       "      <td>0.015977</td>\n",
       "      <td>0.011375</td>\n",
       "    </tr>\n",
       "    <tr>\n",
       "      <th>3</th>\n",
       "      <td>ஆமைக்கறி அண்ணன் சீமான்</td>\n",
       "      <td>None-of-the-above</td>\n",
       "      <td>None-of-the-above</td>\n",
       "      <td>0.025087</td>\n",
       "      <td>0.20183</td>\n",
       "      <td>0.015035</td>\n",
       "      <td>0.703507</td>\n",
       "      <td>0.008729</td>\n",
       "      <td>0.002877</td>\n",
       "      <td>0.000013</td>\n",
       "      <td>0.03389</td>\n",
       "      <td>0.009032</td>\n",
       "    </tr>\n",
       "    <tr>\n",
       "      <th>4</th>\n",
       "      <td>ஆனந்த சார் நியாயமான பேச்சு</td>\n",
       "      <td>None-of-the-above</td>\n",
       "      <td>None-of-the-above</td>\n",
       "      <td>0.005037</td>\n",
       "      <td>0.005389</td>\n",
       "      <td>0.011637</td>\n",
       "      <td>0.580042</td>\n",
       "      <td>0.342007</td>\n",
       "      <td>0.003388</td>\n",
       "      <td>0.000354</td>\n",
       "      <td>0.042541</td>\n",
       "      <td>0.009606</td>\n",
       "    </tr>\n",
       "  </tbody>\n",
       "</table>\n",
       "</div>"
      ],
      "text/plain": [
       "                                               query       actual_label  \\\n",
       "0  Abirami Vijayakumar என் தலைவிதி என்று தான் நான...  None-of-the-above   \n",
       "1  மாமனிதர் அண்ணன் நீங்கள் நீடூழி வாழவேண்டும்உங்க...  None-of-the-above   \n",
       "2                                சரியா சோலிங்கா சார்  None-of-the-above   \n",
       "3                             ஆமைக்கறி அண்ணன் சீமான்  None-of-the-above   \n",
       "4                         ஆனந்த சார் நியாயமான பேச்சு  None-of-the-above   \n",
       "\n",
       "     predicted_label  Misogyny  Misandry Xenophobia None-of-the-above  \\\n",
       "0  None-of-the-above  0.003367   0.00255   0.010785          0.677732   \n",
       "1  None-of-the-above  0.017506  0.029532   0.004924          0.835591   \n",
       "2  None-of-the-above  0.017379  0.037679   0.008256          0.903365   \n",
       "3  None-of-the-above  0.025087   0.20183   0.015035          0.703507   \n",
       "4  None-of-the-above  0.005037  0.005389   0.011637          0.580042   \n",
       "\n",
       "  Hope-Speech Transphobic Not-Tamil Counter-speech Homophobia  \n",
       "0    0.250946    0.000536  0.000125        0.05348    0.00048  \n",
       "1     0.04261    0.001215  0.000019        0.06653   0.002072  \n",
       "2    0.002758    0.003207  0.000004       0.015977   0.011375  \n",
       "3    0.008729    0.002877  0.000013        0.03389   0.009032  \n",
       "4    0.342007    0.003388  0.000354       0.042541   0.009606  "
      ]
     },
     "execution_count": 49,
     "metadata": {},
     "output_type": "execute_result"
    }
   ],
   "source": [
    "from sklearn.metrics import accuracy_score, matthews_corrcoef\n",
    "df_dict = {'query': list(df_test[1]), 'actual_label': list(df_test[0]), 'predicted_label': ['']*df_test.shape[0]}\n",
    "all_nodes = list(set(df_train[0]))\n",
    "for node in all_nodes:\n",
    "    df_dict[node] = ['']*df_test.shape[0]\n",
    "\n",
    "i2c = {}\n",
    "for key, value in learn.data.c2i.items():\n",
    "    i2c[value] = key\n",
    "\n",
    "df_result = pd.DataFrame(df_dict)\n",
    "preds = learn.get_preds(ds_type=DatasetType.Test, ordered=True)\n",
    "for index, row in df_result.iterrows():\n",
    "    for node in all_nodes:\n",
    "        row[node] = preds[0][index][learn.data.c2i[node]].item()\n",
    "    row['predicted_label'] = i2c[np.argmax(preds[0][index]).data.item()]\n",
    "df_result.head()"
   ]
  },
  {
   "cell_type": "code",
   "execution_count": 50,
   "id": "1374d8a1",
   "metadata": {
    "execution": {
     "iopub.execute_input": "2022-03-03T18:57:04.961153Z",
     "iopub.status.busy": "2022-03-03T18:57:04.959612Z",
     "iopub.status.idle": "2022-03-03T18:57:04.963367Z",
     "shell.execute_reply": "2022-03-03T18:57:04.962894Z",
     "shell.execute_reply.started": "2022-03-02T16:35:18.645885Z"
    },
    "papermill": {
     "duration": 0.533653,
     "end_time": "2022-03-03T18:57:04.963513",
     "exception": false,
     "start_time": "2022-03-03T18:57:04.429860",
     "status": "completed"
    },
    "tags": []
   },
   "outputs": [
    {
     "data": {
      "text/plain": [
       "0.6457142857142857"
      ]
     },
     "execution_count": 50,
     "metadata": {},
     "output_type": "execute_result"
    }
   ],
   "source": [
    "accuracy_score(df_result['actual_label'], df_result['predicted_label'])"
   ]
  },
  {
   "cell_type": "code",
   "execution_count": 51,
   "id": "460858cf",
   "metadata": {
    "execution": {
     "iopub.execute_input": "2022-03-03T18:57:06.169302Z",
     "iopub.status.busy": "2022-03-03T18:57:06.168492Z",
     "iopub.status.idle": "2022-03-03T18:57:06.178896Z",
     "shell.execute_reply": "2022-03-03T18:57:06.179635Z",
     "shell.execute_reply.started": "2022-03-02T16:35:18.657767Z"
    },
    "papermill": {
     "duration": 0.702349,
     "end_time": "2022-03-03T18:57:06.179834",
     "exception": false,
     "start_time": "2022-03-03T18:57:05.477485",
     "status": "completed"
    },
    "tags": []
   },
   "outputs": [
    {
     "data": {
      "text/plain": [
       "0.3633268776107061"
      ]
     },
     "execution_count": 51,
     "metadata": {},
     "output_type": "execute_result"
    }
   ],
   "source": [
    "matthews_corrcoef(df_result['actual_label'], df_result['predicted_label'])"
   ]
  },
  {
   "cell_type": "code",
   "execution_count": 52,
   "id": "195aea06",
   "metadata": {
    "execution": {
     "iopub.execute_input": "2022-03-03T18:57:07.337920Z",
     "iopub.status.busy": "2022-03-03T18:57:07.332818Z",
     "iopub.status.idle": "2022-03-03T18:57:07.361213Z",
     "shell.execute_reply": "2022-03-03T18:57:07.360548Z",
     "shell.execute_reply.started": "2022-03-02T16:35:18.674503Z"
    },
    "papermill": {
     "duration": 0.569879,
     "end_time": "2022-03-03T18:57:07.361389",
     "exception": false,
     "start_time": "2022-03-03T18:57:06.791510",
     "status": "completed"
    },
    "tags": []
   },
   "outputs": [
    {
     "name": "stderr",
     "output_type": "stream",
     "text": [
      "/opt/conda/lib/python3.7/site-packages/sklearn/metrics/_classification.py:1221: UndefinedMetricWarning: Precision and F-score are ill-defined and being set to 0.0 in labels with no predicted samples. Use `zero_division` parameter to control this behavior.\n",
      "  _warn_prf(average, modifier, msg_start, len(result))\n"
     ]
    }
   ],
   "source": [
    "report = classification_report(df_result['actual_label'], df_result['predicted_label'],output_dict=True)"
   ]
  },
  {
   "cell_type": "code",
   "execution_count": 53,
   "id": "1f386375",
   "metadata": {
    "execution": {
     "iopub.execute_input": "2022-03-03T18:57:08.436226Z",
     "iopub.status.busy": "2022-03-03T18:57:08.435258Z",
     "iopub.status.idle": "2022-03-03T18:57:08.439064Z",
     "shell.execute_reply": "2022-03-03T18:57:08.439433Z",
     "shell.execute_reply.started": "2022-03-02T16:35:18.747045Z"
    },
    "papermill": {
     "duration": 0.551158,
     "end_time": "2022-03-03T18:57:08.439662",
     "exception": false,
     "start_time": "2022-03-03T18:57:07.888504",
     "status": "completed"
    },
    "tags": []
   },
   "outputs": [
    {
     "data": {
      "text/html": [
       "<div>\n",
       "<style scoped>\n",
       "    .dataframe tbody tr th:only-of-type {\n",
       "        vertical-align: middle;\n",
       "    }\n",
       "\n",
       "    .dataframe tbody tr th {\n",
       "        vertical-align: top;\n",
       "    }\n",
       "\n",
       "    .dataframe thead th {\n",
       "        text-align: right;\n",
       "    }\n",
       "</style>\n",
       "<table border=\"1\" class=\"dataframe\">\n",
       "  <thead>\n",
       "    <tr style=\"text-align: right;\">\n",
       "      <th></th>\n",
       "      <th>precision</th>\n",
       "      <th>recall</th>\n",
       "      <th>f1-score</th>\n",
       "      <th>support</th>\n",
       "    </tr>\n",
       "  </thead>\n",
       "  <tbody>\n",
       "    <tr>\n",
       "      <th>Counter-speech</th>\n",
       "      <td>0.333333</td>\n",
       "      <td>0.191489</td>\n",
       "      <td>0.243243</td>\n",
       "      <td>47.000000</td>\n",
       "    </tr>\n",
       "    <tr>\n",
       "      <th>Homophobia</th>\n",
       "      <td>0.714286</td>\n",
       "      <td>0.625000</td>\n",
       "      <td>0.666667</td>\n",
       "      <td>8.000000</td>\n",
       "    </tr>\n",
       "    <tr>\n",
       "      <th>Hope-Speech</th>\n",
       "      <td>0.357143</td>\n",
       "      <td>0.384615</td>\n",
       "      <td>0.370370</td>\n",
       "      <td>26.000000</td>\n",
       "    </tr>\n",
       "    <tr>\n",
       "      <th>Misandry</th>\n",
       "      <td>0.563492</td>\n",
       "      <td>0.559055</td>\n",
       "      <td>0.561265</td>\n",
       "      <td>127.000000</td>\n",
       "    </tr>\n",
       "    <tr>\n",
       "      <th>Misogyny</th>\n",
       "      <td>0.625000</td>\n",
       "      <td>0.312500</td>\n",
       "      <td>0.416667</td>\n",
       "      <td>48.000000</td>\n",
       "    </tr>\n",
       "    <tr>\n",
       "      <th>None-of-the-above</th>\n",
       "      <td>0.712500</td>\n",
       "      <td>0.820144</td>\n",
       "      <td>0.762542</td>\n",
       "      <td>417.000000</td>\n",
       "    </tr>\n",
       "    <tr>\n",
       "      <th>Transphobic</th>\n",
       "      <td>0.000000</td>\n",
       "      <td>0.000000</td>\n",
       "      <td>0.000000</td>\n",
       "      <td>2.000000</td>\n",
       "    </tr>\n",
       "    <tr>\n",
       "      <th>Xenophobia</th>\n",
       "      <td>0.000000</td>\n",
       "      <td>0.000000</td>\n",
       "      <td>0.000000</td>\n",
       "      <td>25.000000</td>\n",
       "    </tr>\n",
       "    <tr>\n",
       "      <th>accuracy</th>\n",
       "      <td>0.645714</td>\n",
       "      <td>0.645714</td>\n",
       "      <td>0.645714</td>\n",
       "      <td>0.645714</td>\n",
       "    </tr>\n",
       "    <tr>\n",
       "      <th>macro avg</th>\n",
       "      <td>0.413219</td>\n",
       "      <td>0.361600</td>\n",
       "      <td>0.377594</td>\n",
       "      <td>700.000000</td>\n",
       "    </tr>\n",
       "    <tr>\n",
       "      <th>weighted avg</th>\n",
       "      <td>0.613347</td>\n",
       "      <td>0.645714</td>\n",
       "      <td>0.622366</td>\n",
       "      <td>700.000000</td>\n",
       "    </tr>\n",
       "  </tbody>\n",
       "</table>\n",
       "</div>"
      ],
      "text/plain": [
       "                   precision    recall  f1-score     support\n",
       "Counter-speech      0.333333  0.191489  0.243243   47.000000\n",
       "Homophobia          0.714286  0.625000  0.666667    8.000000\n",
       "Hope-Speech         0.357143  0.384615  0.370370   26.000000\n",
       "Misandry            0.563492  0.559055  0.561265  127.000000\n",
       "Misogyny            0.625000  0.312500  0.416667   48.000000\n",
       "None-of-the-above   0.712500  0.820144  0.762542  417.000000\n",
       "Transphobic         0.000000  0.000000  0.000000    2.000000\n",
       "Xenophobia          0.000000  0.000000  0.000000   25.000000\n",
       "accuracy            0.645714  0.645714  0.645714    0.645714\n",
       "macro avg           0.413219  0.361600  0.377594  700.000000\n",
       "weighted avg        0.613347  0.645714  0.622366  700.000000"
      ]
     },
     "execution_count": 53,
     "metadata": {},
     "output_type": "execute_result"
    }
   ],
   "source": [
    "pd.DataFrame(report).transpose()"
   ]
  },
  {
   "cell_type": "code",
   "execution_count": 54,
   "id": "c776490f",
   "metadata": {
    "execution": {
     "iopub.execute_input": "2022-03-03T18:57:09.477008Z",
     "iopub.status.busy": "2022-03-03T18:57:09.476280Z",
     "iopub.status.idle": "2022-03-03T18:57:09.498542Z",
     "shell.execute_reply": "2022-03-03T18:57:09.498106Z",
     "shell.execute_reply.started": "2022-03-02T16:35:18.762332Z"
    },
    "papermill": {
     "duration": 0.54032,
     "end_time": "2022-03-03T18:57:09.498667",
     "exception": false,
     "start_time": "2022-03-03T18:57:08.958347",
     "status": "completed"
    },
    "tags": []
   },
   "outputs": [],
   "source": [
    "df_result.to_csv('ULMFiT_ACD_TaEn_CD.csv', index=False)"
   ]
  },
  {
   "cell_type": "code",
   "execution_count": 55,
   "id": "33d0f448",
   "metadata": {
    "execution": {
     "iopub.execute_input": "2022-03-03T18:57:10.536112Z",
     "iopub.status.busy": "2022-03-03T18:57:10.535304Z",
     "iopub.status.idle": "2022-03-03T18:57:10.538112Z",
     "shell.execute_reply": "2022-03-03T18:57:10.538530Z",
     "shell.execute_reply.started": "2022-03-02T16:35:18.806614Z"
    },
    "papermill": {
     "duration": 0.523456,
     "end_time": "2022-03-03T18:57:10.538668",
     "exception": false,
     "start_time": "2022-03-03T18:57:10.015212",
     "status": "completed"
    },
    "tags": []
   },
   "outputs": [
    {
     "data": {
      "text/html": [
       "<a href='ULMFiT_ACD_TaEn_CD.csv' target='_blank'>ULMFiT_ACD_TaEn_CD.csv</a><br>"
      ],
      "text/plain": [
       "/kaggle/working/ULMFiT_ACD_TaEn_CD.csv"
      ]
     },
     "execution_count": 55,
     "metadata": {},
     "output_type": "execute_result"
    }
   ],
   "source": [
    "import os\n",
    "os.chdir(r'../working')\n",
    "from IPython.display import FileLink\n",
    "FileLink(r'ULMFiT_ACD_TaEn_CD.csv')"
   ]
  }
 ],
 "metadata": {
  "kernelspec": {
   "display_name": "Python 3",
   "language": "python",
   "name": "python3"
  },
  "language_info": {
   "codemirror_mode": {
    "name": "ipython",
    "version": 3
   },
   "file_extension": ".py",
   "mimetype": "text/x-python",
   "name": "python",
   "nbconvert_exporter": "python",
   "pygments_lexer": "ipython3",
   "version": "3.7.12"
  },
  "papermill": {
   "default_parameters": {},
   "duration": 436.361891,
   "end_time": "2022-03-03T18:57:13.773205",
   "environment_variables": {},
   "exception": null,
   "input_path": "__notebook__.ipynb",
   "output_path": "__notebook__.ipynb",
   "parameters": {},
   "start_time": "2022-03-03T18:49:57.411314",
   "version": "2.3.3"
  }
 },
 "nbformat": 4,
 "nbformat_minor": 5
}
