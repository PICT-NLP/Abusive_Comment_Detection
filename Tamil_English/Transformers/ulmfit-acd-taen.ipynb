{
 "cells": [
  {
   "cell_type": "code",
   "execution_count": 1,
   "id": "c2999c61",
   "metadata": {
    "_cell_guid": "b1076dfc-b9ad-4769-8c92-a6c4dae69d19",
    "_uuid": "8f2839f25d086af736a60e9eeb907d3b93b6e0e5",
    "execution": {
     "iopub.execute_input": "2022-03-03T06:25:24.903533Z",
     "iopub.status.busy": "2022-03-03T06:25:24.902722Z",
     "iopub.status.idle": "2022-03-03T06:26:56.027353Z",
     "shell.execute_reply": "2022-03-03T06:26:56.026690Z",
     "shell.execute_reply.started": "2022-03-02T16:31:31.755845Z"
    },
    "papermill": {
     "duration": 91.183746,
     "end_time": "2022-03-03T06:26:56.027513",
     "exception": false,
     "start_time": "2022-03-03T06:25:24.843767",
     "status": "completed"
    },
    "tags": []
   },
   "outputs": [
    {
     "name": "stdout",
     "output_type": "stream",
     "text": [
      "Collecting fastai==1.0.61\r\n",
      "  Downloading fastai-1.0.61-py3-none-any.whl (239 kB)\r\n",
      "     |████████████████████████████████| 239 kB 890 kB/s            \r\n",
      "\u001b[?25hRequirement already satisfied: pyyaml in /opt/conda/lib/python3.7/site-packages (from fastai==1.0.61) (6.0)\r\n",
      "Requirement already satisfied: beautifulsoup4 in /opt/conda/lib/python3.7/site-packages (from fastai==1.0.61) (4.10.0)\r\n",
      "Requirement already satisfied: numexpr in /opt/conda/lib/python3.7/site-packages (from fastai==1.0.61) (2.8.1)\r\n",
      "Requirement already satisfied: pandas in /opt/conda/lib/python3.7/site-packages (from fastai==1.0.61) (1.3.5)\r\n",
      "Requirement already satisfied: Pillow in /opt/conda/lib/python3.7/site-packages (from fastai==1.0.61) (8.2.0)\r\n",
      "Requirement already satisfied: numpy>=1.15 in /opt/conda/lib/python3.7/site-packages (from fastai==1.0.61) (1.20.3)\r\n",
      "Requirement already satisfied: torch>=1.0.0 in /opt/conda/lib/python3.7/site-packages (from fastai==1.0.61) (1.9.1)\r\n",
      "Requirement already satisfied: bottleneck in /opt/conda/lib/python3.7/site-packages (from fastai==1.0.61) (1.3.2)\r\n",
      "Requirement already satisfied: fastprogress>=0.2.1 in /opt/conda/lib/python3.7/site-packages (from fastai==1.0.61) (1.0.0)\r\n",
      "Requirement already satisfied: matplotlib in /opt/conda/lib/python3.7/site-packages (from fastai==1.0.61) (3.5.1)\r\n",
      "Requirement already satisfied: scipy in /opt/conda/lib/python3.7/site-packages (from fastai==1.0.61) (1.7.3)\r\n",
      "Requirement already satisfied: packaging in /opt/conda/lib/python3.7/site-packages (from fastai==1.0.61) (21.3)\r\n",
      "Requirement already satisfied: spacy>=2.0.18 in /opt/conda/lib/python3.7/site-packages (from fastai==1.0.61) (3.2.1)\r\n",
      "Requirement already satisfied: requests in /opt/conda/lib/python3.7/site-packages (from fastai==1.0.61) (2.26.0)\r\n",
      "Collecting nvidia-ml-py3\r\n",
      "  Downloading nvidia-ml-py3-7.352.0.tar.gz (19 kB)\r\n",
      "  Preparing metadata (setup.py) ... \u001b[?25l-\b \bdone\r\n",
      "\u001b[?25hRequirement already satisfied: torchvision in /opt/conda/lib/python3.7/site-packages (from fastai==1.0.61) (0.10.1)\r\n",
      "Requirement already satisfied: spacy-loggers<2.0.0,>=1.0.0 in /opt/conda/lib/python3.7/site-packages (from spacy>=2.0.18->fastai==1.0.61) (1.0.1)\r\n",
      "Requirement already satisfied: tqdm<5.0.0,>=4.38.0 in /opt/conda/lib/python3.7/site-packages (from spacy>=2.0.18->fastai==1.0.61) (4.62.3)\r\n",
      "Requirement already satisfied: pydantic!=1.8,!=1.8.1,<1.9.0,>=1.7.4 in /opt/conda/lib/python3.7/site-packages (from spacy>=2.0.18->fastai==1.0.61) (1.8.2)\r\n",
      "Requirement already satisfied: cymem<2.1.0,>=2.0.2 in /opt/conda/lib/python3.7/site-packages (from spacy>=2.0.18->fastai==1.0.61) (2.0.6)\r\n",
      "Requirement already satisfied: thinc<8.1.0,>=8.0.12 in /opt/conda/lib/python3.7/site-packages (from spacy>=2.0.18->fastai==1.0.61) (8.0.13)\r\n",
      "Requirement already satisfied: srsly<3.0.0,>=2.4.1 in /opt/conda/lib/python3.7/site-packages (from spacy>=2.0.18->fastai==1.0.61) (2.4.2)\r\n",
      "Requirement already satisfied: setuptools in /opt/conda/lib/python3.7/site-packages (from spacy>=2.0.18->fastai==1.0.61) (59.5.0)\r\n",
      "Requirement already satisfied: catalogue<2.1.0,>=2.0.6 in /opt/conda/lib/python3.7/site-packages (from spacy>=2.0.18->fastai==1.0.61) (2.0.6)\r\n",
      "Requirement already satisfied: jinja2 in /opt/conda/lib/python3.7/site-packages (from spacy>=2.0.18->fastai==1.0.61) (3.0.3)\r\n",
      "Requirement already satisfied: spacy-legacy<3.1.0,>=3.0.8 in /opt/conda/lib/python3.7/site-packages (from spacy>=2.0.18->fastai==1.0.61) (3.0.8)\r\n",
      "Requirement already satisfied: blis<0.8.0,>=0.4.0 in /opt/conda/lib/python3.7/site-packages (from spacy>=2.0.18->fastai==1.0.61) (0.7.5)\r\n",
      "Collecting typing-extensions<4.0.0.0,>=3.7.4\r\n",
      "  Downloading typing_extensions-3.10.0.2-py3-none-any.whl (26 kB)\r\n",
      "Requirement already satisfied: typer<0.5.0,>=0.3.0 in /opt/conda/lib/python3.7/site-packages (from spacy>=2.0.18->fastai==1.0.61) (0.4.0)\r\n",
      "Requirement already satisfied: preshed<3.1.0,>=3.0.2 in /opt/conda/lib/python3.7/site-packages (from spacy>=2.0.18->fastai==1.0.61) (3.0.6)\r\n",
      "Requirement already satisfied: langcodes<4.0.0,>=3.2.0 in /opt/conda/lib/python3.7/site-packages (from spacy>=2.0.18->fastai==1.0.61) (3.3.0)\r\n",
      "Requirement already satisfied: murmurhash<1.1.0,>=0.28.0 in /opt/conda/lib/python3.7/site-packages (from spacy>=2.0.18->fastai==1.0.61) (1.0.6)\r\n",
      "Requirement already satisfied: pathy>=0.3.5 in /opt/conda/lib/python3.7/site-packages (from spacy>=2.0.18->fastai==1.0.61) (0.6.1)\r\n",
      "Requirement already satisfied: wasabi<1.1.0,>=0.8.1 in /opt/conda/lib/python3.7/site-packages (from spacy>=2.0.18->fastai==1.0.61) (0.9.0)\r\n",
      "Requirement already satisfied: pyparsing!=3.0.5,>=2.0.2 in /opt/conda/lib/python3.7/site-packages (from packaging->fastai==1.0.61) (3.0.6)\r\n",
      "Requirement already satisfied: urllib3<1.27,>=1.21.1 in /opt/conda/lib/python3.7/site-packages (from requests->fastai==1.0.61) (1.26.7)\r\n",
      "Requirement already satisfied: charset-normalizer~=2.0.0 in /opt/conda/lib/python3.7/site-packages (from requests->fastai==1.0.61) (2.0.9)\r\n",
      "Requirement already satisfied: idna<4,>=2.5 in /opt/conda/lib/python3.7/site-packages (from requests->fastai==1.0.61) (3.1)\r\n",
      "Requirement already satisfied: certifi>=2017.4.17 in /opt/conda/lib/python3.7/site-packages (from requests->fastai==1.0.61) (2021.10.8)\r\n",
      "Requirement already satisfied: soupsieve>1.2 in /opt/conda/lib/python3.7/site-packages (from beautifulsoup4->fastai==1.0.61) (2.3.1)\r\n",
      "Requirement already satisfied: fonttools>=4.22.0 in /opt/conda/lib/python3.7/site-packages (from matplotlib->fastai==1.0.61) (4.28.4)\r\n",
      "Requirement already satisfied: kiwisolver>=1.0.1 in /opt/conda/lib/python3.7/site-packages (from matplotlib->fastai==1.0.61) (1.3.2)\r\n",
      "Requirement already satisfied: python-dateutil>=2.7 in /opt/conda/lib/python3.7/site-packages (from matplotlib->fastai==1.0.61) (2.8.2)\r\n",
      "Requirement already satisfied: cycler>=0.10 in /opt/conda/lib/python3.7/site-packages (from matplotlib->fastai==1.0.61) (0.11.0)\r\n",
      "Requirement already satisfied: pytz>=2017.3 in /opt/conda/lib/python3.7/site-packages (from pandas->fastai==1.0.61) (2021.3)\r\n",
      "Requirement already satisfied: zipp>=0.5 in /opt/conda/lib/python3.7/site-packages (from catalogue<2.1.0,>=2.0.6->spacy>=2.0.18->fastai==1.0.61) (3.6.0)\r\n",
      "Requirement already satisfied: smart-open<6.0.0,>=5.0.0 in /opt/conda/lib/python3.7/site-packages (from pathy>=0.3.5->spacy>=2.0.18->fastai==1.0.61) (5.2.1)\r\n",
      "Requirement already satisfied: six>=1.5 in /opt/conda/lib/python3.7/site-packages (from python-dateutil>=2.7->matplotlib->fastai==1.0.61) (1.16.0)\r\n",
      "Requirement already satisfied: click<9.0.0,>=7.1.1 in /opt/conda/lib/python3.7/site-packages (from typer<0.5.0,>=0.3.0->spacy>=2.0.18->fastai==1.0.61) (8.0.3)\r\n",
      "Requirement already satisfied: MarkupSafe>=2.0 in /opt/conda/lib/python3.7/site-packages (from jinja2->spacy>=2.0.18->fastai==1.0.61) (2.0.1)\r\n",
      "Requirement already satisfied: importlib-metadata in /opt/conda/lib/python3.7/site-packages (from click<9.0.0,>=7.1.1->typer<0.5.0,>=0.3.0->spacy>=2.0.18->fastai==1.0.61) (4.10.1)\r\n",
      "Building wheels for collected packages: nvidia-ml-py3\r\n",
      "  Building wheel for nvidia-ml-py3 (setup.py) ... \u001b[?25l-\b \b\\\b \bdone\r\n",
      "\u001b[?25h  Created wheel for nvidia-ml-py3: filename=nvidia_ml_py3-7.352.0-py3-none-any.whl size=19191 sha256=b9b9788f355df71cad9b5b5eabdb11f98bcde844b5d94320123282f3baaf8a05\r\n",
      "  Stored in directory: /root/.cache/pip/wheels/df/99/da/c34f202dc8fd1dffd35e0ecf1a7d7f8374ca05fbcbaf974b83\r\n",
      "Successfully built nvidia-ml-py3\r\n",
      "Installing collected packages: typing-extensions, nvidia-ml-py3, fastai\r\n",
      "  Attempting uninstall: typing-extensions\r\n",
      "    Found existing installation: typing-extensions 4.0.1\r\n",
      "    Uninstalling typing-extensions-4.0.1:\r\n",
      "      Successfully uninstalled typing-extensions-4.0.1\r\n",
      "  Attempting uninstall: fastai\r\n",
      "    Found existing installation: fastai 2.5.3\r\n",
      "    Uninstalling fastai-2.5.3:\r\n",
      "      Successfully uninstalled fastai-2.5.3\r\n",
      "\u001b[31mERROR: pip's dependency resolver does not currently take into account all the packages that are installed. This behaviour is the source of the following dependency conflicts.\r\n",
      "tensorflow-io 0.21.0 requires tensorflow-io-gcs-filesystem==0.21.0, which is not installed.\r\n",
      "explainable-ai-sdk 1.3.2 requires xai-image-widget, which is not installed.\r\n",
      "tensorflow 2.6.2 requires numpy~=1.19.2, but you have numpy 1.20.3 which is incompatible.\r\n",
      "tensorflow 2.6.2 requires six~=1.15.0, but you have six 1.16.0 which is incompatible.\r\n",
      "tensorflow 2.6.2 requires typing-extensions~=3.7.4, but you have typing-extensions 3.10.0.2 which is incompatible.\r\n",
      "tensorflow 2.6.2 requires wrapt~=1.12.1, but you have wrapt 1.13.3 which is incompatible.\r\n",
      "tensorflow-transform 1.5.0 requires absl-py<0.13,>=0.9, but you have absl-py 0.15.0 which is incompatible.\r\n",
      "tensorflow-transform 1.5.0 requires numpy<1.20,>=1.16, but you have numpy 1.20.3 which is incompatible.\r\n",
      "tensorflow-transform 1.5.0 requires pyarrow<6,>=1, but you have pyarrow 6.0.1 which is incompatible.\r\n",
      "tensorflow-transform 1.5.0 requires tensorflow!=2.0.*,!=2.1.*,!=2.2.*,!=2.3.*,!=2.4.*,!=2.5.*,!=2.6.*,<2.8,>=1.15.2, but you have tensorflow 2.6.2 which is incompatible.\r\n",
      "tensorflow-serving-api 2.7.0 requires tensorflow<3,>=2.7.0, but you have tensorflow 2.6.2 which is incompatible.\r\n",
      "flake8 4.0.1 requires importlib-metadata<4.3; python_version < \"3.8\", but you have importlib-metadata 4.10.1 which is incompatible.\r\n",
      "apache-beam 2.34.0 requires dill<0.3.2,>=0.3.1.1, but you have dill 0.3.4 which is incompatible.\r\n",
      "apache-beam 2.34.0 requires httplib2<0.20.0,>=0.8, but you have httplib2 0.20.2 which is incompatible.\r\n",
      "apache-beam 2.34.0 requires pyarrow<6.0.0,>=0.15.1, but you have pyarrow 6.0.1 which is incompatible.\r\n",
      "aioitertools 0.9.0 requires typing_extensions>=4.0; python_version < \"3.10\", but you have typing-extensions 3.10.0.2 which is incompatible.\r\n",
      "aiobotocore 2.1.0 requires botocore<1.23.25,>=1.23.24, but you have botocore 1.23.51 which is incompatible.\u001b[0m\r\n",
      "Successfully installed fastai-1.0.61 nvidia-ml-py3-7.352.0 typing-extensions-3.10.0.2\r\n",
      "\u001b[33mWARNING: Running pip as the 'root' user can result in broken permissions and conflicting behaviour with the system package manager. It is recommended to use a virtual environment instead: https://pip.pypa.io/warnings/venv\u001b[0m\r\n",
      "Looking in links: https://download.pytorch.org/whl/torch_stable.html\r\n",
      "Collecting torch==1.9.0+cu102\r\n",
      "  Downloading https://download.pytorch.org/whl/cu102/torch-1.9.0%2Bcu102-cp37-cp37m-linux_x86_64.whl (831.4 MB)\r\n",
      "     |████████████████████████████████| 831.4 MB 2.1 kB/s             \r\n",
      "\u001b[?25hRequirement already satisfied: typing-extensions in /opt/conda/lib/python3.7/site-packages (from torch==1.9.0+cu102) (3.10.0.2)\r\n",
      "Installing collected packages: torch\r\n",
      "  Attempting uninstall: torch\r\n",
      "    Found existing installation: torch 1.9.1\r\n",
      "    Uninstalling torch-1.9.1:\r\n",
      "      Successfully uninstalled torch-1.9.1\r\n",
      "Successfully installed torch-1.9.0+cu102\r\n",
      "\u001b[33mWARNING: Running pip as the 'root' user can result in broken permissions and conflicting behaviour with the system package manager. It is recommended to use a virtual environment instead: https://pip.pypa.io/warnings/venv\u001b[0m\r\n"
     ]
    }
   ],
   "source": [
    "#!pip3 install http://download.pytorch.org/whl/cpu/torch-1.0.0-cp36-cp36m-linux_x86_64.whl\n",
    "\n",
    "!pip install fastai==1.0.61\n",
    "!pip install torch==1.9.0+cu102 -f https://download.pytorch.org/whl/torch_stable.html"
   ]
  },
  {
   "cell_type": "code",
   "execution_count": 2,
   "id": "e042055c",
   "metadata": {
    "execution": {
     "iopub.execute_input": "2022-03-03T06:26:56.787241Z",
     "iopub.status.busy": "2022-03-03T06:26:56.786475Z",
     "iopub.status.idle": "2022-03-03T06:27:05.663115Z",
     "shell.execute_reply": "2022-03-03T06:27:05.664569Z",
     "shell.execute_reply.started": "2022-03-02T16:31:46.902201Z"
    },
    "papermill": {
     "duration": 9.266013,
     "end_time": "2022-03-03T06:27:05.664806",
     "exception": false,
     "start_time": "2022-03-03T06:26:56.398793",
     "status": "completed"
    },
    "tags": []
   },
   "outputs": [
    {
     "name": "stdout",
     "output_type": "stream",
     "text": [
      "Requirement already satisfied: sentencepiece in /opt/conda/lib/python3.7/site-packages (0.1.96)\r\n",
      "\u001b[33mWARNING: Running pip as the 'root' user can result in broken permissions and conflicting behaviour with the system package manager. It is recommended to use a virtual environment instead: https://pip.pypa.io/warnings/venv\u001b[0m\r\n"
     ]
    }
   ],
   "source": [
    "!pip install sentencepiece"
   ]
  },
  {
   "cell_type": "code",
   "execution_count": 3,
   "id": "97427741",
   "metadata": {
    "execution": {
     "iopub.execute_input": "2022-03-03T06:27:06.540721Z",
     "iopub.status.busy": "2022-03-03T06:27:06.540120Z",
     "iopub.status.idle": "2022-03-03T06:27:16.631227Z",
     "shell.execute_reply": "2022-03-03T06:27:16.633388Z",
     "shell.execute_reply.started": "2022-03-02T16:31:54.504616Z"
    },
    "papermill": {
     "duration": 10.486948,
     "end_time": "2022-03-03T06:27:16.633603",
     "exception": false,
     "start_time": "2022-03-03T06:27:06.146655",
     "status": "completed"
    },
    "tags": []
   },
   "outputs": [
    {
     "name": "stdout",
     "output_type": "stream",
     "text": [
      "[nltk_data] Downloading package words to /usr/share/nltk_data...\n",
      "[nltk_data]   Package words is already up-to-date!\n",
      "[nltk_data] Downloading package punkt to /usr/share/nltk_data...\n",
      "[nltk_data]   Package punkt is already up-to-date!\n"
     ]
    }
   ],
   "source": [
    "from fastai.text import *\n",
    "import numpy as np\n",
    "#import demoji\n",
    "import pandas as pd\n",
    "from sklearn.model_selection import train_test_split\n",
    "import pickle\n",
    "import sentencepiece as spm\n",
    "import re\n",
    "import pdb\n",
    "from sklearn.utils import shuffle\n",
    "from nltk.corpus import words\n",
    "from bs4 import BeautifulSoup\n",
    "import nltk\n",
    "nltk.download('words')\n",
    "import nltk, string, re, spacy,unicodedata, random\n",
    "nltk.download('punkt')\n",
    "from nltk.corpus import stopwords\n",
    "from nltk.tokenize import word_tokenize\n",
    "from nltk.tokenize import ToktokTokenizer\n",
    "import nltk, string, re, spacy,unicodedata, random\n",
    "from sklearn.metrics import classification_report"
   ]
  },
  {
   "cell_type": "code",
   "execution_count": 4,
   "id": "2cc47015",
   "metadata": {
    "execution": {
     "iopub.execute_input": "2022-03-03T06:27:17.486272Z",
     "iopub.status.busy": "2022-03-03T06:27:17.485640Z",
     "iopub.status.idle": "2022-03-03T06:27:17.488812Z",
     "shell.execute_reply": "2022-03-03T06:27:17.489215Z",
     "shell.execute_reply.started": "2022-03-02T16:31:54.520034Z"
    },
    "papermill": {
     "duration": 0.37351,
     "end_time": "2022-03-03T06:27:17.489364",
     "exception": false,
     "start_time": "2022-03-03T06:27:17.115854",
     "status": "completed"
    },
    "tags": []
   },
   "outputs": [
    {
     "data": {
      "text/plain": [
       "('1.0.61', '1.9.0+cu102')"
      ]
     },
     "execution_count": 4,
     "metadata": {},
     "output_type": "execute_result"
    }
   ],
   "source": [
    "import fastai, torch\n",
    "fastai.__version__ , torch.__version__"
   ]
  },
  {
   "cell_type": "code",
   "execution_count": 5,
   "id": "beec8635",
   "metadata": {
    "execution": {
     "iopub.execute_input": "2022-03-03T06:27:18.216538Z",
     "iopub.status.busy": "2022-03-03T06:27:18.215753Z",
     "iopub.status.idle": "2022-03-03T06:27:18.217512Z",
     "shell.execute_reply": "2022-03-03T06:27:18.217043Z",
     "shell.execute_reply.started": "2022-03-02T16:31:54.531477Z"
    },
    "papermill": {
     "duration": 0.372676,
     "end_time": "2022-03-03T06:27:18.217632",
     "exception": false,
     "start_time": "2022-03-03T06:27:17.844956",
     "status": "completed"
    },
    "tags": []
   },
   "outputs": [],
   "source": [
    "torch.cuda.set_device(0)"
   ]
  },
  {
   "cell_type": "code",
   "execution_count": 6,
   "id": "734e7209",
   "metadata": {
    "execution": {
     "iopub.execute_input": "2022-03-03T06:27:18.938664Z",
     "iopub.status.busy": "2022-03-03T06:27:18.937830Z",
     "iopub.status.idle": "2022-03-03T06:27:18.940700Z",
     "shell.execute_reply": "2022-03-03T06:27:18.940082Z",
     "shell.execute_reply.started": "2022-03-02T16:31:54.540174Z"
    },
    "papermill": {
     "duration": 0.367748,
     "end_time": "2022-03-03T06:27:18.940829",
     "exception": false,
     "start_time": "2022-03-03T06:27:18.573081",
     "status": "completed"
    },
    "tags": []
   },
   "outputs": [],
   "source": [
    "def random_seed(seed_value, use_cuda):\n",
    "    np.random.seed(seed_value)  \n",
    "    torch.manual_seed(seed_value)  \n",
    "    random.seed(seed_value)\n",
    "    if use_cuda:\n",
    "        torch.cuda.manual_seed(seed_value)\n",
    "        torch.cuda.manual_seed_all(seed_value)  \n",
    "        torch.backends.cudnn.deterministic = True\n",
    "        torch.backends.cudnn.benchmark = False"
   ]
  },
  {
   "cell_type": "code",
   "execution_count": 7,
   "id": "e04d6149",
   "metadata": {
    "execution": {
     "iopub.execute_input": "2022-03-03T06:27:19.666274Z",
     "iopub.status.busy": "2022-03-03T06:27:19.665500Z",
     "iopub.status.idle": "2022-03-03T06:27:19.667203Z",
     "shell.execute_reply": "2022-03-03T06:27:19.666774Z",
     "shell.execute_reply.started": "2022-03-02T16:31:54.548150Z"
    },
    "papermill": {
     "duration": 0.369634,
     "end_time": "2022-03-03T06:27:19.667334",
     "exception": false,
     "start_time": "2022-03-03T06:27:19.297700",
     "status": "completed"
    },
    "tags": []
   },
   "outputs": [],
   "source": [
    "random_seed(42, True)"
   ]
  },
  {
   "cell_type": "code",
   "execution_count": 8,
   "id": "53b210f7",
   "metadata": {
    "execution": {
     "iopub.execute_input": "2022-03-03T06:27:20.388850Z",
     "iopub.status.busy": "2022-03-03T06:27:20.388208Z",
     "iopub.status.idle": "2022-03-03T06:27:20.502247Z",
     "shell.execute_reply": "2022-03-03T06:27:20.501379Z",
     "shell.execute_reply.started": "2022-03-02T16:31:54.557414Z"
    },
    "papermill": {
     "duration": 0.482094,
     "end_time": "2022-03-03T06:27:20.502425",
     "exception": false,
     "start_time": "2022-03-03T06:27:20.020331",
     "status": "completed"
    },
    "tags": []
   },
   "outputs": [],
   "source": [
    "# Train Data\n",
    "df_train_en = pd.read_csv('../input/tamilmisodatanew/ta-en-misogyny-train.csv', sep='\\t', header=None)\n",
    "df_train_ta = pd.read_csv('../input/tamilmisodatanew/ta-misogyny-train.csv', sep='\\t', header=None)\n",
    "\n",
    "# Dev Data\n",
    "df_dev_en = pd.read_csv('../input/tamilmisodatanew/ta-en-misogyny-dev.csv', sep='\\t', header=None)\n",
    "df_dev_ta = pd.read_csv('../input/tamilmisodatanew/ta-misogyny-dev.csv', sep='\\t', header=None)\n",
    "\n",
    "# Test Data\n",
    "df_test_en = pd.read_csv('../input/tamilmisodatanew/ta-en-misogyny-test.csv', sep='\\t', header=None)\n",
    "df_test_ta = pd.read_csv('../input/tamilmisodatanew/ta-misogyny-test.csv', sep='\\t', header=None)"
   ]
  },
  {
   "cell_type": "code",
   "execution_count": 9,
   "id": "611378dc",
   "metadata": {
    "execution": {
     "iopub.execute_input": "2022-03-03T06:27:21.266841Z",
     "iopub.status.busy": "2022-03-03T06:27:21.266172Z",
     "iopub.status.idle": "2022-03-03T06:27:21.267753Z",
     "shell.execute_reply": "2022-03-03T06:27:21.267319Z",
     "shell.execute_reply.started": "2022-03-02T16:31:54.638353Z"
    },
    "papermill": {
     "duration": 0.411965,
     "end_time": "2022-03-03T06:27:21.267863",
     "exception": false,
     "start_time": "2022-03-03T06:27:20.855898",
     "status": "completed"
    },
    "tags": []
   },
   "outputs": [],
   "source": [
    "path = Path('./')"
   ]
  },
  {
   "cell_type": "code",
   "execution_count": 10,
   "id": "9c99881d",
   "metadata": {
    "execution": {
     "iopub.execute_input": "2022-03-03T06:27:21.985091Z",
     "iopub.status.busy": "2022-03-03T06:27:21.984107Z",
     "iopub.status.idle": "2022-03-03T06:27:22.645820Z",
     "shell.execute_reply": "2022-03-03T06:27:22.645138Z",
     "shell.execute_reply.started": "2022-03-02T16:31:54.646885Z"
    },
    "papermill": {
     "duration": 1.023504,
     "end_time": "2022-03-03T06:27:22.645974",
     "exception": false,
     "start_time": "2022-03-03T06:27:21.622470",
     "status": "completed"
    },
    "tags": []
   },
   "outputs": [
    {
     "name": "stdout",
     "output_type": "stream",
     "text": [
      "/kaggle/working\r\n"
     ]
    }
   ],
   "source": [
    "!pwd"
   ]
  },
  {
   "cell_type": "code",
   "execution_count": 11,
   "id": "c1547d2b",
   "metadata": {
    "execution": {
     "iopub.execute_input": "2022-03-03T06:27:23.433638Z",
     "iopub.status.busy": "2022-03-03T06:27:23.432461Z",
     "iopub.status.idle": "2022-03-03T06:27:23.436316Z",
     "shell.execute_reply": "2022-03-03T06:27:23.435563Z",
     "shell.execute_reply.started": "2022-03-02T16:31:55.367625Z"
    },
    "papermill": {
     "duration": 0.433453,
     "end_time": "2022-03-03T06:27:23.436442",
     "exception": false,
     "start_time": "2022-03-03T06:27:23.002989",
     "status": "completed"
    },
    "tags": []
   },
   "outputs": [],
   "source": [
    "cat2ind = {'None-of-the-above': 0,\n",
    " 'Transphobic': 1,\n",
    " 'Counter-speech': 2,\n",
    " 'Misandry': 3,\n",
    " 'Homophobia': 4,\n",
    " 'Hope-Speech': 5,\n",
    " 'Xenophobia': 6,\n",
    " 'Misogyny': 7,\n",
    " 'Not-Tamil': 8}\n",
    "\n",
    "ind2cat = dict()\n",
    "for i in cat2ind:\n",
    "    ind2cat[cat2ind[i]] = i\n",
    "\n",
    "def restructure_df(df):\n",
    "    txts = df[1].tolist()\n",
    "    labs = df[0].tolist()\n",
    "    labs_new = []\n",
    "    for i in labs:\n",
    "        labs_new.append(ind2cat[i])\n",
    "    return pd.DataFrame({0:labs_new, 1:txts})\n",
    "\n",
    "def over_under_sample(df, shuffle = True):\n",
    "    def sample(rows, req_len):\n",
    "        return [rows[i%len(rows)] for i in range(req_len)]\n",
    "\n",
    "    if shuffle:\n",
    "        df.sample(frac=1).reset_index(drop=True)\n",
    "    data_dict = {'Misandry': [], 'Misogyny': [], 'Xenophobia': [], 'None-of-the-above': [], 'Hope-Speech': [], 'Counter-speech': [], 'Transphobic': [], 'Homophobia': [], 'Not-Tamil': []}\n",
    "\n",
    "    for i in range(len(df)):\n",
    "        data_dict[df[0][i]].append(list(df.iloc[i]))\n",
    "    \n",
    "    req_len = len(df)//len(data_dict)\n",
    "\n",
    "    for lab in data_dict:\n",
    "        data_dict[lab] = sample(data_dict[lab], req_len)\n",
    "    df_rows = []\n",
    "    for lab in data_dict:\n",
    "        df_rows += data_dict[lab]\n",
    "    df_new = pd.DataFrame(df_rows, columns = list(df.columns))\n",
    "    if shuffle:\n",
    "        df_new = df_new.sample(frac=1).reset_index(drop=True)\n",
    "    return df_new"
   ]
  },
  {
   "cell_type": "code",
   "execution_count": 12,
   "id": "3b4465e0",
   "metadata": {
    "execution": {
     "iopub.execute_input": "2022-03-03T06:27:24.155002Z",
     "iopub.status.busy": "2022-03-03T06:27:24.154385Z",
     "iopub.status.idle": "2022-03-03T06:27:24.155938Z",
     "shell.execute_reply": "2022-03-03T06:27:24.155507Z",
     "shell.execute_reply.started": "2022-03-02T16:31:55.384358Z"
    },
    "papermill": {
     "duration": 0.365941,
     "end_time": "2022-03-03T06:27:24.156047",
     "exception": false,
     "start_time": "2022-03-03T06:27:23.790106",
     "status": "completed"
    },
    "tags": []
   },
   "outputs": [],
   "source": [
    "# df_train.shape, df_valid.shape, df_test.shape"
   ]
  },
  {
   "cell_type": "code",
   "execution_count": 13,
   "id": "7bf84449",
   "metadata": {
    "execution": {
     "iopub.execute_input": "2022-03-03T06:27:24.883364Z",
     "iopub.status.busy": "2022-03-03T06:27:24.882736Z",
     "iopub.status.idle": "2022-03-03T06:27:24.884242Z",
     "shell.execute_reply": "2022-03-03T06:27:24.883823Z",
     "shell.execute_reply.started": "2022-03-02T16:31:55.394591Z"
    },
    "papermill": {
     "duration": 0.363915,
     "end_time": "2022-03-03T06:27:24.884394",
     "exception": false,
     "start_time": "2022-03-03T06:27:24.520479",
     "status": "completed"
    },
    "tags": []
   },
   "outputs": [],
   "source": [
    "df_train = df_train_en\n",
    "df_valid = df_dev_en\n",
    "df_test = df_test_en"
   ]
  },
  {
   "cell_type": "code",
   "execution_count": 14,
   "id": "5f547491",
   "metadata": {
    "execution": {
     "iopub.execute_input": "2022-03-03T06:27:25.607413Z",
     "iopub.status.busy": "2022-03-03T06:27:25.606412Z",
     "iopub.status.idle": "2022-03-03T06:27:25.627340Z",
     "shell.execute_reply": "2022-03-03T06:27:25.626903Z",
     "shell.execute_reply.started": "2022-03-02T16:31:55.404595Z"
    },
    "papermill": {
     "duration": 0.387288,
     "end_time": "2022-03-03T06:27:25.627525",
     "exception": false,
     "start_time": "2022-03-03T06:27:25.240237",
     "status": "completed"
    },
    "tags": []
   },
   "outputs": [
    {
     "data": {
      "text/html": [
       "<div>\n",
       "<style scoped>\n",
       "    .dataframe tbody tr th:only-of-type {\n",
       "        vertical-align: middle;\n",
       "    }\n",
       "\n",
       "    .dataframe tbody tr th {\n",
       "        vertical-align: top;\n",
       "    }\n",
       "\n",
       "    .dataframe thead th {\n",
       "        text-align: right;\n",
       "    }\n",
       "</style>\n",
       "<table border=\"1\" class=\"dataframe\">\n",
       "  <thead>\n",
       "    <tr style=\"text-align: right;\">\n",
       "      <th></th>\n",
       "      <th>0</th>\n",
       "      <th>1</th>\n",
       "    </tr>\n",
       "  </thead>\n",
       "  <tbody>\n",
       "    <tr>\n",
       "      <th>0</th>\n",
       "      <td>None-of-the-above</td>\n",
       "      <td>enaku unmaikum aluha wantu thirunangaigal thei...</td>\n",
       "    </tr>\n",
       "    <tr>\n",
       "      <th>1</th>\n",
       "      <td>Transphobic</td>\n",
       "      <td>SUPERSTAR VIJAY dai arivuketta polu ithu thapp...</td>\n",
       "    </tr>\n",
       "    <tr>\n",
       "      <th>2</th>\n",
       "      <td>None-of-the-above</td>\n",
       "      <td>Ugka smile cute a iruku😊😊...</td>\n",
       "    </tr>\n",
       "    <tr>\n",
       "      <th>3</th>\n",
       "      <td>None-of-the-above</td>\n",
       "      <td>Anna i am waiting na 🥰🥰🥰</td>\n",
       "    </tr>\n",
       "    <tr>\n",
       "      <th>4</th>\n",
       "      <td>None-of-the-above</td>\n",
       "      <td>Yanda tamilnadu la evvalavo pirachana iruku at...</td>\n",
       "    </tr>\n",
       "    <tr>\n",
       "      <th>...</th>\n",
       "      <td>...</td>\n",
       "      <td>...</td>\n",
       "    </tr>\n",
       "    <tr>\n",
       "      <th>5943</th>\n",
       "      <td>None-of-the-above</td>\n",
       "      <td>Noq day having no caste no religious certificate</td>\n",
       "    </tr>\n",
       "    <tr>\n",
       "      <th>5944</th>\n",
       "      <td>None-of-the-above</td>\n",
       "      <td>Mimicry escape aitaru bro. 😂</td>\n",
       "    </tr>\n",
       "    <tr>\n",
       "      <th>5945</th>\n",
       "      <td>None-of-the-above</td>\n",
       "      <td>Rajesh R  u age u from</td>\n",
       "    </tr>\n",
       "    <tr>\n",
       "      <th>5946</th>\n",
       "      <td>Counter-speech</td>\n",
       "      <td>Bro unga videos nallarukku but don't do prank ...</td>\n",
       "    </tr>\n",
       "    <tr>\n",
       "      <th>5947</th>\n",
       "      <td>None-of-the-above</td>\n",
       "      <td>avaga...eaduthu kili kilinu...kilichitalum...p...</td>\n",
       "    </tr>\n",
       "  </tbody>\n",
       "</table>\n",
       "<p>5948 rows × 2 columns</p>\n",
       "</div>"
      ],
      "text/plain": [
       "                      0                                                  1\n",
       "0     None-of-the-above  enaku unmaikum aluha wantu thirunangaigal thei...\n",
       "1           Transphobic  SUPERSTAR VIJAY dai arivuketta polu ithu thapp...\n",
       "2     None-of-the-above                       Ugka smile cute a iruku😊😊...\n",
       "3     None-of-the-above                           Anna i am waiting na 🥰🥰🥰\n",
       "4     None-of-the-above  Yanda tamilnadu la evvalavo pirachana iruku at...\n",
       "...                 ...                                                ...\n",
       "5943  None-of-the-above   Noq day having no caste no religious certificate\n",
       "5944  None-of-the-above                       Mimicry escape aitaru bro. 😂\n",
       "5945  None-of-the-above                             Rajesh R  u age u from\n",
       "5946     Counter-speech  Bro unga videos nallarukku but don't do prank ...\n",
       "5947  None-of-the-above  avaga...eaduthu kili kilinu...kilichitalum...p...\n",
       "\n",
       "[5948 rows x 2 columns]"
      ]
     },
     "execution_count": 14,
     "metadata": {},
     "output_type": "execute_result"
    }
   ],
   "source": [
    "df_train"
   ]
  },
  {
   "cell_type": "code",
   "execution_count": 15,
   "id": "c8bbabe8",
   "metadata": {
    "execution": {
     "iopub.execute_input": "2022-03-03T06:27:26.489110Z",
     "iopub.status.busy": "2022-03-03T06:27:26.488260Z",
     "iopub.status.idle": "2022-03-03T06:27:26.502210Z",
     "shell.execute_reply": "2022-03-03T06:27:26.501753Z",
     "shell.execute_reply.started": "2022-03-02T16:31:55.421035Z"
    },
    "papermill": {
     "duration": 0.499324,
     "end_time": "2022-03-03T06:27:26.502364",
     "exception": false,
     "start_time": "2022-03-03T06:27:26.003040",
     "status": "completed"
    },
    "tags": []
   },
   "outputs": [],
   "source": [
    "df_train = shuffle(df_train, random_state = 10).reset_index(drop=True)\n",
    "df_valid = shuffle(df_valid, random_state = 10).reset_index(drop=True)\n",
    "df_test = shuffle(df_test, random_state = 10).reset_index(drop=True)\n",
    "\n",
    "df_train[1] = df_train[1].apply(str)\n",
    "df_valid[1] = df_valid[1].apply(str)\n",
    "df_test[1] = df_test[1].apply(str)"
   ]
  },
  {
   "cell_type": "code",
   "execution_count": 16,
   "id": "9d5f03a7",
   "metadata": {
    "execution": {
     "iopub.execute_input": "2022-03-03T06:27:27.399836Z",
     "iopub.status.busy": "2022-03-03T06:27:27.397897Z",
     "iopub.status.idle": "2022-03-03T06:27:29.671994Z",
     "shell.execute_reply": "2022-03-03T06:27:29.671481Z",
     "shell.execute_reply.started": "2022-03-02T16:31:55.439601Z"
    },
    "papermill": {
     "duration": 2.792627,
     "end_time": "2022-03-03T06:27:29.672117",
     "exception": false,
     "start_time": "2022-03-03T06:27:26.879490",
     "status": "completed"
    },
    "tags": []
   },
   "outputs": [],
   "source": [
    "def deEmojify(string):\n",
    "    emoji_pattern = re.compile(\"[\"\n",
    "                              u\"\\U0001F600-\\U0001F64F\"  # emoticons\n",
    "                              u\"\\U0001F300-\\U0001F5FF\"  # symbols & pictographs\n",
    "                              u\"\\U0001F680-\\U0001F6FF\"  # transport & map symbols\n",
    "                              u\"\\U0001F1E0-\\U0001F1FF\"  # flags (iOS)\n",
    "                              u\"\\U00002500-\\U00002BEF\"  # chinese char\n",
    "                              u\"\\U00002702-\\U000027B0\"\n",
    "                              u\"\\U00002702-\\U000027B0\"\n",
    "                              u\"\\U000024C2-\\U0001F251\"\n",
    "                              u\"\\U0001f926-\\U0001f937\"\n",
    "                              u\"\\U00010000-\\U0010ffff\"\n",
    "                              u\"\\u2640-\\u2642\"\n",
    "                              u\"\\u2600-\\u2B55\"\n",
    "                              u\"\\u200d\"\n",
    "                              u\"\\u23cf\"\n",
    "                              u\"\\u23e9\"\n",
    "                              u\"\\u231a\"\n",
    "                              u\"\\ufe0f\"  # dingbats\n",
    "                              u\"\\u3030\"\n",
    "                              \"]+\", flags=re.UNICODE)\n",
    "    return emoji_pattern.sub(r'', string)\n",
    "\n",
    "def preprocess(text):\n",
    "    text = deEmojify(text) #convert emojis to their defns in words, they might be useful\n",
    "    text = re.sub(r'([\\.\\'\\\"\\/\\-\\_\\--])',' ', text) # remove punctuations , removes @USER / some abbreviatins\n",
    "    to_remove_url = ('http[s]?://(?:[a-zA-Z]|[0-9]|[$-_@.&+]|'\n",
    "      '[!*\\(\\),]|(?:%[0-9a-fA-F][0-9a-fA-F]))+')\n",
    "    text = re.sub(to_remove_url,'',text)  # remove url patterns\n",
    "    text = re.sub(\" \\d+\", \" \", text)\n",
    "    text = text.replace(\",\",\" \")\n",
    "    text = re.sub(r'(?:^| )\\w(?:$| )', ' ', text).strip()\n",
    "    punctuation='!!\"$%&()*+-/:;<=>?[\\\\]^_{|}~.'\n",
    "    text = ''.join(ch for ch in text if ch not in set(punctuation))\n",
    "    # text = text.translate(str.maketrans('', '', string.punctuation))\n",
    "    text = BeautifulSoup(text, 'html.parser').get_text()\n",
    "    # Stopword Removing\n",
    "    tokenizer = ToktokTokenizer()\n",
    "    # convert sentence into token of words\n",
    "    tokens = tokenizer.tokenize(text)\n",
    "    tokens = [token.strip() for token in tokens]\n",
    "    text = ' '.join(ch for ch in tokens)\n",
    "    return text \n",
    "\n",
    "def clean(df):\n",
    "    df[1] = df[1].apply(lambda x: preprocess(x))\n",
    "\n",
    "clean(df_train)\n",
    "clean(df_valid)\n",
    "clean(df_test)"
   ]
  },
  {
   "cell_type": "code",
   "execution_count": 17,
   "id": "1e840ecd",
   "metadata": {
    "execution": {
     "iopub.execute_input": "2022-03-03T06:27:30.736104Z",
     "iopub.status.busy": "2022-03-03T06:27:30.735482Z",
     "iopub.status.idle": "2022-03-03T06:27:30.738186Z",
     "shell.execute_reply": "2022-03-03T06:27:30.738814Z",
     "shell.execute_reply.started": "2022-03-02T16:31:57.794008Z"
    },
    "papermill": {
     "duration": 0.675772,
     "end_time": "2022-03-03T06:27:30.739006",
     "exception": false,
     "start_time": "2022-03-03T06:27:30.063234",
     "status": "completed"
    },
    "tags": []
   },
   "outputs": [
    {
     "data": {
      "text/plain": [
       "((0, 2), (0, 2), (0, 2))"
      ]
     },
     "execution_count": 17,
     "metadata": {},
     "output_type": "execute_result"
    }
   ],
   "source": [
    "df_train[df_train[0].isnull()].shape, df_valid[df_valid[0].isnull()].shape, df_test[df_test[0].isnull()].shape"
   ]
  },
  {
   "cell_type": "code",
   "execution_count": 18,
   "id": "8d27ebfc",
   "metadata": {
    "execution": {
     "iopub.execute_input": "2022-03-03T06:27:31.706816Z",
     "iopub.status.busy": "2022-03-03T06:27:31.705221Z",
     "iopub.status.idle": "2022-03-03T06:27:31.707403Z",
     "shell.execute_reply": "2022-03-03T06:27:31.707816Z",
     "shell.execute_reply.started": "2022-03-02T16:31:57.805970Z"
    },
    "papermill": {
     "duration": 0.40114,
     "end_time": "2022-03-03T06:27:31.707952",
     "exception": false,
     "start_time": "2022-03-03T06:27:31.306812",
     "status": "completed"
    },
    "tags": []
   },
   "outputs": [],
   "source": [
    "class TamilTokenizer(BaseTokenizer):\n",
    "    def __init__(self, lang:str):\n",
    "        self.lang = lang\n",
    "        self.sp = spm.SentencePieceProcessor()\n",
    "        self.sp.Load(str('../input/spm-sota-models/tamil_spm_8k.model'))\n",
    "        \n",
    "    def tokenizer(self, t:str) -> List[str]:\n",
    "        return self.sp.EncodeAsPieces(t)"
   ]
  },
  {
   "cell_type": "code",
   "execution_count": 19,
   "id": "894f7126",
   "metadata": {
    "execution": {
     "iopub.execute_input": "2022-03-03T06:27:32.550004Z",
     "iopub.status.busy": "2022-03-03T06:27:32.549149Z",
     "iopub.status.idle": "2022-03-03T06:27:32.551137Z",
     "shell.execute_reply": "2022-03-03T06:27:32.551777Z",
     "shell.execute_reply.started": "2022-03-02T16:31:57.818188Z"
    },
    "papermill": {
     "duration": 0.446366,
     "end_time": "2022-03-03T06:27:32.551926",
     "exception": false,
     "start_time": "2022-03-03T06:27:32.105560",
     "status": "completed"
    },
    "tags": []
   },
   "outputs": [],
   "source": [
    "sp = spm.SentencePieceProcessor()\n",
    "sp.Load(str('../input/spm-sota-models/tamil_spm_8k.model'))\n",
    "itos = [sp.IdToPiece(int(i)) for i in range(8000)]"
   ]
  },
  {
   "cell_type": "code",
   "execution_count": 20,
   "id": "ef57324d",
   "metadata": {
    "execution": {
     "iopub.execute_input": "2022-03-03T06:27:33.322008Z",
     "iopub.status.busy": "2022-03-03T06:27:33.321349Z",
     "iopub.status.idle": "2022-03-03T06:27:33.324563Z",
     "shell.execute_reply": "2022-03-03T06:27:33.324067Z",
     "shell.execute_reply.started": "2022-03-02T16:31:57.866699Z"
    },
    "papermill": {
     "duration": 0.390839,
     "end_time": "2022-03-03T06:27:33.324680",
     "exception": false,
     "start_time": "2022-03-03T06:27:32.933841",
     "status": "completed"
    },
    "tags": []
   },
   "outputs": [],
   "source": [
    "tamil_vocab = Vocab(itos)"
   ]
  },
  {
   "cell_type": "code",
   "execution_count": 21,
   "id": "5d5863ac",
   "metadata": {
    "execution": {
     "iopub.execute_input": "2022-03-03T06:27:34.090914Z",
     "iopub.status.busy": "2022-03-03T06:27:34.089700Z",
     "iopub.status.idle": "2022-03-03T06:27:34.092324Z",
     "shell.execute_reply": "2022-03-03T06:27:34.091887Z",
     "shell.execute_reply.started": "2022-03-02T16:31:57.876625Z"
    },
    "papermill": {
     "duration": 0.386845,
     "end_time": "2022-03-03T06:27:34.092451",
     "exception": false,
     "start_time": "2022-03-03T06:27:33.705606",
     "status": "completed"
    },
    "tags": []
   },
   "outputs": [],
   "source": [
    "tokenizer = Tokenizer(tok_func=TamilTokenizer, lang='ta')"
   ]
  },
  {
   "cell_type": "code",
   "execution_count": 22,
   "id": "8edd6a1b",
   "metadata": {
    "execution": {
     "iopub.execute_input": "2022-03-03T06:27:34.863124Z",
     "iopub.status.busy": "2022-03-03T06:27:34.862321Z",
     "iopub.status.idle": "2022-03-03T06:27:34.865774Z",
     "shell.execute_reply": "2022-03-03T06:27:34.865302Z",
     "shell.execute_reply.started": "2022-03-02T16:31:57.885519Z"
    },
    "papermill": {
     "duration": 0.386254,
     "end_time": "2022-03-03T06:27:34.865887",
     "exception": false,
     "start_time": "2022-03-03T06:27:34.479633",
     "status": "completed"
    },
    "tags": []
   },
   "outputs": [],
   "source": [
    "label_cols = [0]"
   ]
  },
  {
   "cell_type": "code",
   "execution_count": 23,
   "id": "af689bd7",
   "metadata": {
    "execution": {
     "iopub.execute_input": "2022-03-03T06:27:35.660898Z",
     "iopub.status.busy": "2022-03-03T06:27:35.650951Z",
     "iopub.status.idle": "2022-03-03T06:27:37.095497Z",
     "shell.execute_reply": "2022-03-03T06:27:37.095892Z",
     "shell.execute_reply.started": "2022-03-02T16:31:57.893508Z"
    },
    "papermill": {
     "duration": 1.85283,
     "end_time": "2022-03-03T06:27:37.096045",
     "exception": false,
     "start_time": "2022-03-03T06:27:35.243215",
     "status": "completed"
    },
    "tags": []
   },
   "outputs": [
    {
     "data": {
      "text/html": [],
      "text/plain": [
       "<IPython.core.display.HTML object>"
      ]
     },
     "metadata": {},
     "output_type": "display_data"
    },
    {
     "name": "stderr",
     "output_type": "stream",
     "text": [
      "/opt/conda/lib/python3.7/site-packages/fastai/core.py:302: VisibleDeprecationWarning: Creating an ndarray from ragged nested sequences (which is a list-or-tuple of lists-or-tuples-or ndarrays with different lengths or shapes) is deprecated. If you meant to do this, you must specify 'dtype=object' when creating the ndarray.\n",
      "  return np.array(a, dtype=dtype, **kwargs)\n"
     ]
    },
    {
     "data": {
      "text/html": [],
      "text/plain": [
       "<IPython.core.display.HTML object>"
      ]
     },
     "metadata": {},
     "output_type": "display_data"
    },
    {
     "data": {
      "text/html": [],
      "text/plain": [
       "<IPython.core.display.HTML object>"
      ]
     },
     "metadata": {},
     "output_type": "display_data"
    }
   ],
   "source": [
    "data_lm = TextLMDataBunch.from_df(path=path, train_df=df_train, valid_df=df_valid, test_df=df_test, tokenizer=tokenizer, vocab=tamil_vocab)"
   ]
  },
  {
   "cell_type": "code",
   "execution_count": 24,
   "id": "4670b249",
   "metadata": {
    "execution": {
     "iopub.execute_input": "2022-03-03T06:27:37.865863Z",
     "iopub.status.busy": "2022-03-03T06:27:37.865085Z",
     "iopub.status.idle": "2022-03-03T06:27:40.766689Z",
     "shell.execute_reply": "2022-03-03T06:27:40.767065Z",
     "shell.execute_reply.started": "2022-03-02T16:31:59.604577Z"
    },
    "papermill": {
     "duration": 3.289307,
     "end_time": "2022-03-03T06:27:40.767214",
     "exception": false,
     "start_time": "2022-03-03T06:27:37.477907",
     "status": "completed"
    },
    "tags": []
   },
   "outputs": [
    {
     "data": {
      "text/html": [
       "<table border=\"1\" class=\"dataframe\">\n",
       "  <thead>\n",
       "    <tr style=\"text-align: right;\">\n",
       "      <th>idx</th>\n",
       "      <th>text</th>\n",
       "    </tr>\n",
       "  </thead>\n",
       "  <tbody>\n",
       "    <tr>\n",
       "      <td>0</td>\n",
       "      <td>ay a ▁ k il ic hi ▁ an up ir en ▁ un ▁p on d att i ▁ y a ▁ an up p i &lt;unk&gt; &lt;unk&gt; ai ▁the vi d iya ▁p ay al e ▁ x x b os &lt;unk&gt; &lt;unk&gt; th u ▁p ran k ▁ ill a ▁ en na iya ▁a al u h ava ik k um ▁ sh or t ▁f</td>\n",
       "    </tr>\n",
       "    <tr>\n",
       "      <td>1</td>\n",
       "      <td>ud a ▁ e an ak u ▁m att um th an ▁ app udi y on u ▁n en ach an ▁ x x b os &lt;unk&gt; d th u van th i ▁ y g ▁ ev ang al al a ▁a van ga ▁ com m un it ti k ke y ▁ ava man am ▁ x x b os &lt;unk&gt; &lt;unk&gt; ay ▁ na ▁</td>\n",
       "    </tr>\n",
       "    <tr>\n",
       "      <td>2</td>\n",
       "      <td>y ath a vi ra ▁ y ell am ▁p es uth u ▁ lo os u ▁ lo os u ▁m uth ▁ x x re p ▁4 ▁ i ▁p oc hi ▁ k ov am ▁ th an ▁ v ar uth u ▁ x x b os &lt;unk&gt; ▁a van ga ▁ iya l p av e &lt;unk&gt; &lt;unk&gt; om p a ▁ az ha ha</td>\n",
       "    </tr>\n",
       "    <tr>\n",
       "      <td>3</td>\n",
       "      <td>va ay an ▁m al ay al i ▁ van d her i &lt;unk&gt; ▁s im on ai y um ▁ u z h z ha ▁ th al li ▁n ung ed uk k an um ▁ x x b os &lt;unk&gt; &lt;unk&gt; n ▁ k an av ar ▁ th im ir u ▁ e ch u ▁p ud uc ha a ▁ all l ▁ x x</td>\n",
       "    </tr>\n",
       "    <tr>\n",
       "      <td>4</td>\n",
       "      <td>uk um ▁ ent ha ▁ th ap a ▁ se iya th a ▁ av ang al uk u ▁n ara ga ma ▁ il a ▁s org am an u ▁ j es us ▁ ka e ▁ ter ium ▁ com ment ▁p od a ▁ van ta n ung a ▁ x x b os ▁in th a ▁ g op in ath ▁ v en</td>\n",
       "    </tr>\n",
       "  </tbody>\n",
       "</table>"
      ],
      "text/plain": [
       "<IPython.core.display.HTML object>"
      ]
     },
     "metadata": {},
     "output_type": "display_data"
    }
   ],
   "source": [
    "data_lm.show_batch()"
   ]
  },
  {
   "cell_type": "code",
   "execution_count": 25,
   "id": "af56ef66",
   "metadata": {
    "execution": {
     "iopub.execute_input": "2022-03-03T06:27:41.537913Z",
     "iopub.status.busy": "2022-03-03T06:27:41.537150Z",
     "iopub.status.idle": "2022-03-03T06:27:41.809545Z",
     "shell.execute_reply": "2022-03-03T06:27:41.809047Z",
     "shell.execute_reply.started": "2022-03-02T16:31:59.623379Z"
    },
    "papermill": {
     "duration": 0.657432,
     "end_time": "2022-03-03T06:27:41.809686",
     "exception": false,
     "start_time": "2022-03-03T06:27:41.152254",
     "status": "completed"
    },
    "tags": []
   },
   "outputs": [],
   "source": [
    "awd_lstm_config = awd_lstm_lm_config.copy()\n",
    "awd_lstm_config['n_hid'] = 1150\n",
    "learn = language_model_learner(data_lm, arch=AWD_LSTM, drop_mult=0.3, config=awd_lstm_config, pretrained=False)"
   ]
  },
  {
   "cell_type": "code",
   "execution_count": 26,
   "id": "9641f9e0",
   "metadata": {
    "execution": {
     "iopub.execute_input": "2022-03-03T06:27:42.591542Z",
     "iopub.status.busy": "2022-03-03T06:27:42.590934Z",
     "iopub.status.idle": "2022-03-03T06:27:47.075156Z",
     "shell.execute_reply": "2022-03-03T06:27:47.075637Z",
     "shell.execute_reply.started": "2022-03-02T16:31:59.882597Z"
    },
    "papermill": {
     "duration": 4.879407,
     "end_time": "2022-03-03T06:27:47.075805",
     "exception": false,
     "start_time": "2022-03-03T06:27:42.196398",
     "status": "completed"
    },
    "tags": []
   },
   "outputs": [
    {
     "data": {
      "text/plain": [
       "LanguageLearner(data=TextLMDataBunch;\n",
       "\n",
       "Train: LabelList (5948 items)\n",
       "x: LMTextList\n",
       "▁ x x b os <unk> <unk> ▁ vi r un th al ik k u ▁p or ant ha ▁the vi d iya ▁p ay al e ▁ un na ▁ ung om ma ▁ ev ank u u ▁p ad uth u ▁ pe th u ▁ un na ▁ ung om ma ▁ ev ank u u ▁p ad uth u <unk> ▁a va ▁p un d ay a ▁ k il ic hi ▁ an up ir en ▁ un ▁p on d att i ▁ y a ▁ an up p i <unk> <unk> ai ▁the vi d iya ▁p ay al e,▁ x x b os <unk> <unk> th u ▁p ran k ▁ ill a ▁ en na iya ▁a al u h ava ik k um ▁ sh or t ▁f li m,▁ x x b os <unk> ▁n ee ▁m att um ▁m ad h am ▁ vi t tu ▁m ad h am ▁ ma ar u va ▁a van ga ▁ ma ara ▁ k ood ad ha,▁ x x b os <unk> <unk> o o d <unk> <unk> a m i l <unk> <unk> a n n e l ▁ d han as e k ar ▁p on n ung a ▁p un d ai ▁s up er ▁p un d a is um ma a ▁ g um m un u ▁ y er ud h u ▁ y en <unk> ▁s un ni,▁ x x b os <unk> ▁s a ad hi ▁ th a ▁ per us un u ▁p es ur a ▁ na a ing al a ▁ <unk> el l am ▁ se ru pp a ▁ ka la ti ▁ adi k an um\n",
       "y: LMLabelList\n",
       ",,,,\n",
       "Path: .;\n",
       "\n",
       "Valid: LabelList (1488 items)\n",
       "x: LMTextList\n",
       "▁ x x b os ▁ ta mi lan ▁ en ga ▁p on al um ▁m un er a ▁m ad ing al ▁ ip p adi y e ▁p es i ▁p es i ▁ ta m il ▁m akk al a ▁m ud al ▁ ak ung a,▁ x x b os <unk> ▁a d a ▁p od a ▁ y ach a ▁p adu ▁ ra ▁ ja,▁ x x b os <unk> ▁m ay ▁ be ▁p art ▁ la ▁p ro bl em ▁ van d h u ▁ un d a ▁ va ang u van ga,▁ x x b os ▁ <unk> el lor um ▁c hi na ▁ me la ▁ po or th ud uk ir om ▁ van ga,▁ x x b os <unk> <unk> na <unk> ▁s har ia ▁l aw <unk> <unk> po ▁p on n ug al am ▁s amb ar ik a ▁a ara mi ch ta n ga <unk> <unk> la ▁ ed uth uk um ▁ van ta n ga <unk> <unk> d h u ▁ ill a ▁ ma ▁ d iv or ce ▁a ana ▁ h us b and ▁ d ha an ▁ j ee van am s am ▁ k od uk an um <unk> ▁a d h u ▁ d ha an ▁n ad a im ur ai la ▁ ad hi ga ma ▁ ir uk u ▁ vi d ha ▁ va i <unk> ▁p en g al uk u ▁ ud ha vi ▁ th og ai ▁ la <unk> <unk> ov ern ment ▁s ide ▁ u h m ▁s up port ▁ ir uk u ▁ <unk> an d ha ▁ k al ath ul a ▁p en g al uk u ▁s o th ur im ai ▁ k id a iya d h u <unk> ▁a ana ▁ av ang al a ▁ na la ▁p ad iya ▁p ath uk an um <unk> ▁n ag a ▁ po tu ▁ ka ly an am ▁p an i ▁ k od up ang a <unk> ▁a ana ▁ ip o ▁p en g al uk u ▁ sa ma ▁ ur im ai ▁ un d u ▁ ad h uk ag a ▁ po or vi ga ▁ v 2 la ▁ th amb i ▁ an n an ▁ v al um ▁p od h u ▁ ad ha ▁ vi th ut u ▁p ang u ▁ k od u ▁n u ▁ ke k am ud iya d h u ▁ or u ▁f am il y ▁ la ▁p ai y an ▁p on n u ▁ ir un d ha ▁ per c ent ▁ la ▁and ha ▁p on n u ▁ k ana ▁ per ▁ v ang it u ▁in or u ▁ v 2 k u ▁p ol am <unk> ▁a van ga ▁ am ma ▁ app a ▁ od a ▁p ang u ▁ av ang al a ▁ ka d as i ▁p ath uk ara ▁and ha ▁p ai y an uk k u ▁s er um <unk> <unk> la ▁ am ma ▁ app a ▁ y a ar ▁ na me ▁ la ▁ el ud hi ▁ va ik ir ang al o ▁a van ga ▁l uk u ▁p og um ▁id h u ▁ en ▁ k ar uth u <unk> ▁p on n ung al uk u ▁p or and ha ▁ v 2 le n d h u ▁ va ra ▁s har e ▁m at um ▁ ill am a ▁p ug and ha ▁ v 2 la ▁ h us b and ▁ ap ar am ▁a van ga ▁a van ga ▁p as ang a ▁ d ha an ▁s er um\n",
       "y: LMLabelList\n",
       ",,,,\n",
       "Path: .;\n",
       "\n",
       "Test: LabelList (1859 items)\n",
       "x: LMTextList\n",
       "▁ x x b os <unk> <unk> ood ▁ per c ent ▁c or r ect ▁ all ag a ▁s un ne ga ▁s ir ▁ ep p adi ▁ th an ▁ or u ▁ th ar ▁ en k it ta ▁p ant ha ▁p an ne k it tu ▁ ir uk ar u ▁p es um po th u ▁ or u ▁ ak ath ot u ▁p es ur ar u ▁m amp al ▁ k on j am ▁f re e y a ▁p al am an u ▁ ka ta ▁ ve la i ▁ ir uk un u ▁ po i ▁s ol it u ▁s i ri ch ut u ▁p or ar u ▁ man as u ▁ ne er ay a ▁a as ai ▁ ir un th al um ▁p ant ha ▁ ve d ha ▁m at en g ud h u ▁p ap o om ▁b ab u,▁ x x b os <unk> ▁s ar iya ga ▁ th an ▁s ol li ▁ ir uk k ar ▁ vi r un th al ik k u ▁p or ant ha van <unk> <unk> han e ▁s ee man,▁ x x b os <unk> <unk> as i <unk> <unk> a vi ▁ he y ▁in ▁ ve la iya ▁p a ar u ▁ d a a ▁n ed an ▁ d a ▁ po ta e ▁ k ▁ x x re p ▁4 ▁ o,▁ x x b os ▁ ra ja ▁ va i ▁ ad akk a ▁ v en d um,▁ x x b os <unk> ut ti ▁p ay y an ▁s am ▁ ver y ▁ g ood ▁m or n ing\n",
       "y: EmptyLabelList\n",
       ",,,,\n",
       "Path: ., model=SequentialRNN(\n",
       "  (0): AWD_LSTM(\n",
       "    (encoder): Embedding(8000, 400, padding_idx=1)\n",
       "    (encoder_dp): EmbeddingDropout(\n",
       "      (emb): Embedding(8000, 400, padding_idx=1)\n",
       "    )\n",
       "    (rnns): ModuleList(\n",
       "      (0): WeightDropout(\n",
       "        (module): LSTM(400, 1150, batch_first=True)\n",
       "      )\n",
       "      (1): WeightDropout(\n",
       "        (module): LSTM(1150, 1150, batch_first=True)\n",
       "      )\n",
       "      (2): WeightDropout(\n",
       "        (module): LSTM(1150, 400, batch_first=True)\n",
       "      )\n",
       "    )\n",
       "    (input_dp): RNNDropout()\n",
       "    (hidden_dps): ModuleList(\n",
       "      (0): RNNDropout()\n",
       "      (1): RNNDropout()\n",
       "      (2): RNNDropout()\n",
       "    )\n",
       "  )\n",
       "  (1): LinearDecoder(\n",
       "    (decoder): Linear(in_features=400, out_features=8000, bias=True)\n",
       "    (output_dp): RNNDropout()\n",
       "  )\n",
       "), opt_func=functools.partial(<class 'torch.optim.adam.Adam'>, betas=(0.9, 0.99)), loss_func=FlattenedLoss of CrossEntropyLoss(), metrics=[<function accuracy at 0x7f2a892c0e60>], true_wd=True, bn_wd=True, wd=0.01, train_bn=True, path=PosixPath('.'), model_dir='models', callback_fns=[functools.partial(<class 'fastai.basic_train.Recorder'>, add_time=True, silent=False)], callbacks=[RNNTrainer\n",
       "learn: ...\n",
       "alpha: 2.0\n",
       "beta: 1.0], layer_groups=[Sequential(\n",
       "  (0): WeightDropout(\n",
       "    (module): LSTM(400, 1150, batch_first=True)\n",
       "  )\n",
       "  (1): RNNDropout()\n",
       "), Sequential(\n",
       "  (0): WeightDropout(\n",
       "    (module): LSTM(1150, 1150, batch_first=True)\n",
       "  )\n",
       "  (1): RNNDropout()\n",
       "), Sequential(\n",
       "  (0): WeightDropout(\n",
       "    (module): LSTM(1150, 400, batch_first=True)\n",
       "  )\n",
       "  (1): RNNDropout()\n",
       "), Sequential(\n",
       "  (0): Embedding(8000, 400, padding_idx=1)\n",
       "  (1): EmbeddingDropout(\n",
       "    (emb): Embedding(8000, 400, padding_idx=1)\n",
       "  )\n",
       "  (2): LinearDecoder(\n",
       "    (decoder): Linear(in_features=400, out_features=8000, bias=True)\n",
       "    (output_dp): RNNDropout()\n",
       "  )\n",
       ")], add_time=True, silent=False)"
      ]
     },
     "execution_count": 26,
     "metadata": {},
     "output_type": "execute_result"
    }
   ],
   "source": [
    "learn.load('/kaggle/input/pretrained-sota-models/wikitalm_8k_447_third')"
   ]
  },
  {
   "cell_type": "code",
   "execution_count": 27,
   "id": "4a1a59fa",
   "metadata": {
    "execution": {
     "iopub.execute_input": "2022-03-03T06:27:47.844132Z",
     "iopub.status.busy": "2022-03-03T06:27:47.843274Z",
     "iopub.status.idle": "2022-03-03T06:27:47.853358Z",
     "shell.execute_reply": "2022-03-03T06:27:47.853784Z",
     "shell.execute_reply.started": "2022-03-02T16:32:00.346375Z"
    },
    "papermill": {
     "duration": 0.394364,
     "end_time": "2022-03-03T06:27:47.853917",
     "exception": false,
     "start_time": "2022-03-03T06:27:47.459553",
     "status": "completed"
    },
    "tags": []
   },
   "outputs": [
    {
     "data": {
      "text/plain": [
       "None-of-the-above    3720\n",
       "Misandry              829\n",
       "Counter-speech        348\n",
       "Xenophobia            297\n",
       "Hope-Speech           213\n",
       "Misogyny              211\n",
       "Homophobia            172\n",
       "Transphobic           157\n",
       "Name: 0, dtype: int64"
      ]
     },
     "execution_count": 27,
     "metadata": {},
     "output_type": "execute_result"
    }
   ],
   "source": [
    "df_train = df_train.drop([0]).reset_index().drop([\"index\"], axis=1)\n",
    "df_train[0].value_counts()"
   ]
  },
  {
   "cell_type": "code",
   "execution_count": 28,
   "id": "7671e749",
   "metadata": {
    "execution": {
     "iopub.execute_input": "2022-03-03T06:27:48.625794Z",
     "iopub.status.busy": "2022-03-03T06:27:48.625116Z",
     "iopub.status.idle": "2022-03-03T06:27:48.627928Z",
     "shell.execute_reply": "2022-03-03T06:27:48.628336Z",
     "shell.execute_reply.started": "2022-03-02T16:32:00.364691Z"
    },
    "papermill": {
     "duration": 0.394404,
     "end_time": "2022-03-03T06:27:48.628477",
     "exception": false,
     "start_time": "2022-03-03T06:27:48.234073",
     "status": "completed"
    },
    "tags": []
   },
   "outputs": [
    {
     "data": {
      "text/plain": [
       "None-of-the-above    919\n",
       "Misandry             218\n",
       "Counter-speech        95\n",
       "Xenophobia            70\n",
       "Hope-Speech           53\n",
       "Misogyny              50\n",
       "Homophobia            43\n",
       "Transphobic           40\n",
       "Name: 0, dtype: int64"
      ]
     },
     "execution_count": 28,
     "metadata": {},
     "output_type": "execute_result"
    }
   ],
   "source": [
    "df_valid[0].value_counts()"
   ]
  },
  {
   "cell_type": "code",
   "execution_count": 29,
   "id": "fc034959",
   "metadata": {
    "execution": {
     "iopub.execute_input": "2022-03-03T06:27:49.398485Z",
     "iopub.status.busy": "2022-03-03T06:27:49.393402Z",
     "iopub.status.idle": "2022-03-03T06:27:49.407556Z",
     "shell.execute_reply": "2022-03-03T06:27:49.408597Z",
     "shell.execute_reply.started": "2022-03-02T16:32:00.373950Z"
    },
    "papermill": {
     "duration": 0.403245,
     "end_time": "2022-03-03T06:27:49.408801",
     "exception": false,
     "start_time": "2022-03-03T06:27:49.005556",
     "status": "completed"
    },
    "tags": []
   },
   "outputs": [
    {
     "data": {
      "text/plain": [
       "None-of-the-above    1143\n",
       "Misandry              292\n",
       "Xenophobia             95\n",
       "Counter-speech         88\n",
       "Hope-Speech            70\n",
       "Transphobic            58\n",
       "Misogyny               57\n",
       "Homophobia             56\n",
       "Name: 0, dtype: int64"
      ]
     },
     "execution_count": 29,
     "metadata": {},
     "output_type": "execute_result"
    }
   ],
   "source": [
    "df_test[0].value_counts()"
   ]
  },
  {
   "cell_type": "code",
   "execution_count": 30,
   "id": "ba86e545",
   "metadata": {
    "execution": {
     "iopub.execute_input": "2022-03-03T06:27:50.427025Z",
     "iopub.status.busy": "2022-03-03T06:27:50.426406Z",
     "iopub.status.idle": "2022-03-03T06:27:50.429328Z",
     "shell.execute_reply": "2022-03-03T06:27:50.428883Z",
     "shell.execute_reply.started": "2022-03-02T16:32:00.386895Z"
    },
    "papermill": {
     "duration": 0.403756,
     "end_time": "2022-03-03T06:27:50.429447",
     "exception": false,
     "start_time": "2022-03-03T06:27:50.025691",
     "status": "completed"
    },
    "tags": []
   },
   "outputs": [],
   "source": [
    "learn.freeze()"
   ]
  },
  {
   "cell_type": "code",
   "execution_count": 31,
   "id": "2f0fe41d",
   "metadata": {
    "execution": {
     "iopub.execute_input": "2022-03-03T06:27:51.198170Z",
     "iopub.status.busy": "2022-03-03T06:27:51.197364Z",
     "iopub.status.idle": "2022-03-03T06:27:59.695352Z",
     "shell.execute_reply": "2022-03-03T06:27:59.694912Z",
     "shell.execute_reply.started": "2022-03-02T16:32:00.393744Z"
    },
    "papermill": {
     "duration": 8.886848,
     "end_time": "2022-03-03T06:27:59.695494",
     "exception": false,
     "start_time": "2022-03-03T06:27:50.808646",
     "status": "completed"
    },
    "tags": []
   },
   "outputs": [
    {
     "data": {
      "text/html": [
       "<table border=\"1\" class=\"dataframe\">\n",
       "  <thead>\n",
       "    <tr style=\"text-align: left;\">\n",
       "      <th>epoch</th>\n",
       "      <th>train_loss</th>\n",
       "      <th>valid_loss</th>\n",
       "      <th>accuracy</th>\n",
       "      <th>time</th>\n",
       "    </tr>\n",
       "  </thead>\n",
       "  <tbody>\n",
       "    <tr>\n",
       "      <td>0</td>\n",
       "      <td>3.529577</td>\n",
       "      <td>3.267153</td>\n",
       "      <td>0.309834</td>\n",
       "      <td>00:08</td>\n",
       "    </tr>\n",
       "  </tbody>\n",
       "</table>"
      ],
      "text/plain": [
       "<IPython.core.display.HTML object>"
      ]
     },
     "metadata": {},
     "output_type": "display_data"
    }
   ],
   "source": [
    "learn.fit_one_cycle(1, 1e-2)"
   ]
  },
  {
   "cell_type": "code",
   "execution_count": 32,
   "id": "8a88bd3e",
   "metadata": {
    "execution": {
     "iopub.execute_input": "2022-03-03T06:28:00.546011Z",
     "iopub.status.busy": "2022-03-03T06:28:00.545178Z",
     "iopub.status.idle": "2022-03-03T06:28:00.548460Z",
     "shell.execute_reply": "2022-03-03T06:28:00.549072Z",
     "shell.execute_reply.started": "2022-03-02T16:32:09.070696Z"
    },
    "papermill": {
     "duration": 0.461574,
     "end_time": "2022-03-03T06:28:00.549272",
     "exception": false,
     "start_time": "2022-03-03T06:28:00.087698",
     "status": "completed"
    },
    "tags": []
   },
   "outputs": [],
   "source": [
    "learn.unfreeze()"
   ]
  },
  {
   "cell_type": "code",
   "execution_count": 33,
   "id": "4deff244",
   "metadata": {
    "execution": {
     "iopub.execute_input": "2022-03-03T06:28:01.500624Z",
     "iopub.status.busy": "2022-03-03T06:28:01.499651Z",
     "iopub.status.idle": "2022-03-03T06:28:54.369818Z",
     "shell.execute_reply": "2022-03-03T06:28:54.370194Z",
     "shell.execute_reply.started": "2022-03-02T16:32:09.079298Z"
    },
    "papermill": {
     "duration": 53.256902,
     "end_time": "2022-03-03T06:28:54.370391",
     "exception": false,
     "start_time": "2022-03-03T06:28:01.113489",
     "status": "completed"
    },
    "tags": []
   },
   "outputs": [
    {
     "data": {
      "text/html": [
       "<table border=\"1\" class=\"dataframe\">\n",
       "  <thead>\n",
       "    <tr style=\"text-align: left;\">\n",
       "      <th>epoch</th>\n",
       "      <th>train_loss</th>\n",
       "      <th>valid_loss</th>\n",
       "      <th>accuracy</th>\n",
       "      <th>time</th>\n",
       "    </tr>\n",
       "  </thead>\n",
       "  <tbody>\n",
       "    <tr>\n",
       "      <td>0</td>\n",
       "      <td>3.218440</td>\n",
       "      <td>3.038661</td>\n",
       "      <td>0.348958</td>\n",
       "      <td>00:10</td>\n",
       "    </tr>\n",
       "    <tr>\n",
       "      <td>1</td>\n",
       "      <td>3.008652</td>\n",
       "      <td>2.826774</td>\n",
       "      <td>0.380518</td>\n",
       "      <td>00:10</td>\n",
       "    </tr>\n",
       "    <tr>\n",
       "      <td>2</td>\n",
       "      <td>2.840297</td>\n",
       "      <td>2.731074</td>\n",
       "      <td>0.395126</td>\n",
       "      <td>00:10</td>\n",
       "    </tr>\n",
       "    <tr>\n",
       "      <td>3</td>\n",
       "      <td>2.738980</td>\n",
       "      <td>2.693304</td>\n",
       "      <td>0.400632</td>\n",
       "      <td>00:10</td>\n",
       "    </tr>\n",
       "    <tr>\n",
       "      <td>4</td>\n",
       "      <td>2.693410</td>\n",
       "      <td>2.687332</td>\n",
       "      <td>0.402282</td>\n",
       "      <td>00:10</td>\n",
       "    </tr>\n",
       "  </tbody>\n",
       "</table>"
      ],
      "text/plain": [
       "<IPython.core.display.HTML object>"
      ]
     },
     "metadata": {},
     "output_type": "display_data"
    }
   ],
   "source": [
    "learn.fit_one_cycle(5, 1e-3)"
   ]
  },
  {
   "cell_type": "code",
   "execution_count": 34,
   "id": "81f4d4bf",
   "metadata": {
    "execution": {
     "iopub.execute_input": "2022-03-03T06:28:55.152750Z",
     "iopub.status.busy": "2022-03-03T06:28:55.151850Z",
     "iopub.status.idle": "2022-03-03T06:28:55.201148Z",
     "shell.execute_reply": "2022-03-03T06:28:55.201541Z",
     "shell.execute_reply.started": "2022-03-02T16:33:02.775592Z"
    },
    "papermill": {
     "duration": 0.433945,
     "end_time": "2022-03-03T06:28:55.201685",
     "exception": false,
     "start_time": "2022-03-03T06:28:54.767740",
     "status": "completed"
    },
    "tags": []
   },
   "outputs": [
    {
     "data": {
      "text/plain": [
       "'▁தனது ▁சொந்த 9 , ▁அ க்குள் , ▁நியூட்டன ் , ▁மற்றும் ▁நி'"
      ]
     },
     "execution_count": 34,
     "metadata": {},
     "output_type": "execute_result"
    }
   ],
   "source": [
    "learn.predict('▁தனது ▁சொந்த',n_words=10)"
   ]
  },
  {
   "cell_type": "code",
   "execution_count": 35,
   "id": "9ce5606f",
   "metadata": {
    "execution": {
     "iopub.execute_input": "2022-03-03T06:28:56.219884Z",
     "iopub.status.busy": "2022-03-03T06:28:56.219203Z",
     "iopub.status.idle": "2022-03-03T06:28:56.359022Z",
     "shell.execute_reply": "2022-03-03T06:28:56.358456Z",
     "shell.execute_reply.started": "2022-03-02T16:33:02.864396Z"
    },
    "papermill": {
     "duration": 0.643705,
     "end_time": "2022-03-03T06:28:56.359157",
     "exception": false,
     "start_time": "2022-03-03T06:28:55.715452",
     "status": "completed"
    },
    "tags": []
   },
   "outputs": [],
   "source": [
    "learn.save_encoder('fine_tuned_enc')"
   ]
  },
  {
   "cell_type": "code",
   "execution_count": 36,
   "id": "fa01a9ab",
   "metadata": {
    "execution": {
     "iopub.execute_input": "2022-03-03T06:28:57.140047Z",
     "iopub.status.busy": "2022-03-03T06:28:57.139158Z",
     "iopub.status.idle": "2022-03-03T06:28:59.001606Z",
     "shell.execute_reply": "2022-03-03T06:28:59.002117Z",
     "shell.execute_reply.started": "2022-03-02T16:33:03.194513Z"
    },
    "papermill": {
     "duration": 2.256271,
     "end_time": "2022-03-03T06:28:59.002265",
     "exception": false,
     "start_time": "2022-03-03T06:28:56.745994",
     "status": "completed"
    },
    "tags": []
   },
   "outputs": [
    {
     "data": {
      "text/html": [],
      "text/plain": [
       "<IPython.core.display.HTML object>"
      ]
     },
     "metadata": {},
     "output_type": "display_data"
    },
    {
     "name": "stderr",
     "output_type": "stream",
     "text": [
      "/opt/conda/lib/python3.7/site-packages/fastai/core.py:302: VisibleDeprecationWarning: Creating an ndarray from ragged nested sequences (which is a list-or-tuple of lists-or-tuples-or ndarrays with different lengths or shapes) is deprecated. If you meant to do this, you must specify 'dtype=object' when creating the ndarray.\n",
      "  return np.array(a, dtype=dtype, **kwargs)\n"
     ]
    },
    {
     "data": {
      "text/html": [],
      "text/plain": [
       "<IPython.core.display.HTML object>"
      ]
     },
     "metadata": {},
     "output_type": "display_data"
    },
    {
     "data": {
      "text/html": [],
      "text/plain": [
       "<IPython.core.display.HTML object>"
      ]
     },
     "metadata": {},
     "output_type": "display_data"
    },
    {
     "name": "stderr",
     "output_type": "stream",
     "text": [
      "/opt/conda/lib/python3.7/site-packages/numpy/core/_asarray.py:102: VisibleDeprecationWarning: Creating an ndarray from ragged nested sequences (which is a list-or-tuple of lists-or-tuples-or ndarrays with different lengths or shapes) is deprecated. If you meant to do this, you must specify 'dtype=object' when creating the ndarray.\n",
      "  return array(a, dtype, copy=False, order=order)\n",
      "<string>:6: VisibleDeprecationWarning: Creating an ndarray from ragged nested sequences (which is a list-or-tuple of lists-or-tuples-or ndarrays with different lengths or shapes) is deprecated. If you meant to do this, you must specify 'dtype=object' when creating the ndarray.\n"
     ]
    }
   ],
   "source": [
    "data_clas = TextClasDataBunch.from_df(path=path, train_df=df_train, valid_df=df_valid, test_df=df_test, tokenizer=tokenizer, vocab=tamil_vocab, label_cols=label_cols, bs=64)"
   ]
  },
  {
   "cell_type": "code",
   "execution_count": 37,
   "id": "e78dd06e",
   "metadata": {
    "execution": {
     "iopub.execute_input": "2022-03-03T06:28:59.775916Z",
     "iopub.status.busy": "2022-03-03T06:28:59.775080Z",
     "iopub.status.idle": "2022-03-03T06:28:59.995702Z",
     "shell.execute_reply": "2022-03-03T06:28:59.995219Z",
     "shell.execute_reply.started": "2022-03-02T16:33:05.251787Z"
    },
    "papermill": {
     "duration": 0.611425,
     "end_time": "2022-03-03T06:28:59.995830",
     "exception": false,
     "start_time": "2022-03-03T06:28:59.384405",
     "status": "completed"
    },
    "tags": []
   },
   "outputs": [
    {
     "data": {
      "text/html": [
       "<table border=\"1\" class=\"dataframe\">\n",
       "  <thead>\n",
       "    <tr style=\"text-align: right;\">\n",
       "      <th>text</th>\n",
       "      <th>target</th>\n",
       "    </tr>\n",
       "  </thead>\n",
       "  <tbody>\n",
       "    <tr>\n",
       "      <td>▁ x x b os &lt;unk&gt; ▁s w ath i &lt;unk&gt; ▁s ank ar ra j ▁c ore ect ▁ ip o ▁ ne en ga le y ▁ o th uk ut ing a ▁p ud h u ▁ ed ath uk u ▁ po na ▁ ka ka ▁b ay am a ▁ er uk um ▁n u ▁ ad he y ▁ min d s et ▁</td>\n",
       "      <td>Counter-speech</td>\n",
       "    </tr>\n",
       "    <tr>\n",
       "      <td>▁ x x b os ▁ k att up a adu ▁p ir ak ra d h ul a ▁ en na ▁ th app u ▁ ir uk u ▁ ung la ▁ or u ▁ k att up a at uk ul la ▁ o z h uk am a ▁ v al ar ka ad ha d h u ▁ th a ▁ ip a ▁ ne</td>\n",
       "      <td>Homophobia</td>\n",
       "    </tr>\n",
       "    <tr>\n",
       "      <td>▁ x x b os ▁ &lt;unk&gt; man as at ch i ▁ or uk k ur a ▁ man ith ar ▁ th an ▁ ch ro mo s ome ▁p ro bl em s ▁ la a ▁p ill a in per ur ang al ▁ ath uk k u ▁ ar ov u ▁ ir uk ka ▁a ga in ▁ ra h ▁s ol lu ra</td>\n",
       "      <td>Counter-speech</td>\n",
       "    </tr>\n",
       "    <tr>\n",
       "      <td>▁ x x b os &lt;unk&gt; &lt;unk&gt; har an &lt;unk&gt; &lt;unk&gt; am il and a ▁ y and a &lt;unk&gt; ▁s om b u ▁ e th u ik k u ▁m un n adi &lt;unk&gt; &lt;unk&gt; ay al al ith a &lt;unk&gt; &lt;unk&gt; ar un an ith i ▁ se th app a ▁ y ell a ▁c han n el ▁p ot tu ▁ ka att un a</td>\n",
       "      <td>Counter-speech</td>\n",
       "    </tr>\n",
       "    <tr>\n",
       "      <td>▁ x x b os &lt;unk&gt; li ni ▁ pl s ▁ ne ▁ per a ▁m ath ik o ▁the v y a ▁n u ▁ 53 ▁ he y ▁n ay e ▁ un ak u ▁ av lo ▁ akk ara ▁ ir un th a ▁ &lt;unk&gt; an ad ha &lt;unk&gt; ▁a as ar am am ▁ ve ch i ▁ k ol and ha ing</td>\n",
       "      <td>Misogyny</td>\n",
       "    </tr>\n",
       "  </tbody>\n",
       "</table>"
      ],
      "text/plain": [
       "<IPython.core.display.HTML object>"
      ]
     },
     "metadata": {},
     "output_type": "display_data"
    }
   ],
   "source": [
    "data_clas.show_batch()"
   ]
  },
  {
   "cell_type": "code",
   "execution_count": 38,
   "id": "26511970",
   "metadata": {
    "execution": {
     "iopub.execute_input": "2022-03-03T06:29:00.768678Z",
     "iopub.status.busy": "2022-03-03T06:29:00.767744Z",
     "iopub.status.idle": "2022-03-03T06:29:00.769546Z",
     "shell.execute_reply": "2022-03-03T06:29:00.769949Z",
     "shell.execute_reply.started": "2022-03-02T16:33:05.575352Z"
    },
    "papermill": {
     "duration": 0.390835,
     "end_time": "2022-03-03T06:29:00.770083",
     "exception": false,
     "start_time": "2022-03-03T06:29:00.379248",
     "status": "completed"
    },
    "tags": []
   },
   "outputs": [],
   "source": [
    "del awd_lstm_config['tie_weights']\n",
    "del awd_lstm_config['out_bias']"
   ]
  },
  {
   "cell_type": "code",
   "execution_count": 39,
   "id": "cd738d6a",
   "metadata": {
    "execution": {
     "iopub.execute_input": "2022-03-03T06:29:01.539895Z",
     "iopub.status.busy": "2022-03-03T06:29:01.539092Z",
     "iopub.status.idle": "2022-03-03T06:29:07.161899Z",
     "shell.execute_reply": "2022-03-03T06:29:07.160993Z",
     "shell.execute_reply.started": "2022-03-02T16:33:05.581275Z"
    },
    "papermill": {
     "duration": 6.011383,
     "end_time": "2022-03-03T06:29:07.162075",
     "exception": false,
     "start_time": "2022-03-03T06:29:01.150692",
     "status": "completed"
    },
    "tags": []
   },
   "outputs": [
    {
     "name": "stdout",
     "output_type": "stream",
     "text": [
      "Downloading https://s3.amazonaws.com/fast-ai-modelzoo/wt103-fwd.tgz\n"
     ]
    },
    {
     "data": {
      "text/html": [],
      "text/plain": [
       "<IPython.core.display.HTML object>"
      ]
     },
     "metadata": {},
     "output_type": "display_data"
    }
   ],
   "source": [
    "learn = text_classifier_learner(data_clas, arch=AWD_LSTM, drop_mult=0.5, config=awd_lstm_config)"
   ]
  },
  {
   "cell_type": "code",
   "execution_count": 40,
   "id": "e6354dc6",
   "metadata": {
    "execution": {
     "iopub.execute_input": "2022-03-03T06:29:07.941472Z",
     "iopub.status.busy": "2022-03-03T06:29:07.940196Z",
     "iopub.status.idle": "2022-03-03T06:29:07.993064Z",
     "shell.execute_reply": "2022-03-03T06:29:07.993517Z",
     "shell.execute_reply.started": "2022-03-02T16:33:05.991279Z"
    },
    "papermill": {
     "duration": 0.444329,
     "end_time": "2022-03-03T06:29:07.993735",
     "exception": false,
     "start_time": "2022-03-03T06:29:07.549406",
     "status": "completed"
    },
    "tags": []
   },
   "outputs": [
    {
     "data": {
      "text/plain": [
       "RNNLearner(data=TextClasDataBunch;\n",
       "\n",
       "Train: LabelList (5947 items)\n",
       "x: TextList\n",
       "▁ x x b os <unk> <unk> th u ▁p ran k ▁ ill a ▁ en na iya ▁a al u h ava ik k um ▁ sh or t ▁f li m,▁ x x b os <unk> ▁n ee ▁m att um ▁m ad h am ▁ vi t tu ▁m ad h am ▁ ma ar u va ▁a van ga ▁ ma ara ▁ k ood ad ha,▁ x x b os <unk> <unk> o o d <unk> <unk> a m i l <unk> <unk> a n n e l ▁ d han as e k ar ▁p on n ung a ▁p un d ai ▁s up er ▁p un d a is um ma a ▁ g um m un u ▁ y er ud h u ▁ y en <unk> ▁s un ni,▁ x x b os <unk> ▁s a ad hi ▁ th a ▁ per us un u ▁p es ur a ▁ na a ing al a ▁ <unk> el l am ▁ se ru pp a ▁ ka la ti ▁ adi k an um,▁ x x b os <unk> <unk> n ak u ▁ ung al a ▁ ro m b a ▁p id ik um ▁ an na ▁b ut ▁n u ▁the ri y ath u ▁ am ▁ al s o ▁s ta ff ▁n ur se\n",
       "y: CategoryList\n",
       "None-of-the-above,None-of-the-above,Misogyny,None-of-the-above,None-of-the-above\n",
       "Path: .;\n",
       "\n",
       "Valid: LabelList (1488 items)\n",
       "x: TextList\n",
       "▁ x x b os ▁ ta mi lan ▁ en ga ▁p on al um ▁m un er a ▁m ad ing al ▁ ip p adi y e ▁p es i ▁p es i ▁ ta m il ▁m akk al a ▁m ud al ▁ ak ung a,▁ x x b os <unk> ▁a d a ▁p od a ▁ y ach a ▁p adu ▁ ra ▁ ja,▁ x x b os <unk> ▁m ay ▁ be ▁p art ▁ la ▁p ro bl em ▁ van d h u ▁ un d a ▁ va ang u van ga,▁ x x b os ▁ <unk> el lor um ▁c hi na ▁ me la ▁ po or th ud uk ir om ▁ van ga,▁ x x b os <unk> <unk> na <unk> ▁s har ia ▁l aw <unk> <unk> po ▁p on n ug al am ▁s amb ar ik a ▁a ara mi ch ta n ga <unk> <unk> la ▁ ed uth uk um ▁ van ta n ga <unk> <unk> d h u ▁ ill a ▁ ma ▁ d iv or ce ▁a ana ▁ h us b and ▁ d ha an ▁ j ee van am s am ▁ k od uk an um <unk> ▁a d h u ▁ d ha an ▁n ad a im ur ai la ▁ ad hi ga ma ▁ ir uk u ▁ vi d ha ▁ va i <unk> ▁p en g al uk u ▁ ud ha vi ▁ th og ai ▁ la <unk> <unk> ov ern ment ▁s ide ▁ u h m ▁s up port ▁ ir uk u ▁ <unk> an d ha ▁ k al ath ul a ▁p en g al uk u ▁s o th ur im ai ▁ k id a iya d h u <unk> ▁a ana ▁ av ang al a ▁ na la ▁p ad iya ▁p ath uk an um <unk> ▁n ag a ▁ po tu ▁ ka ly an am ▁p an i ▁ k od up ang a <unk> ▁a ana ▁ ip o ▁p en g al uk u ▁ sa ma ▁ ur im ai ▁ un d u ▁ ad h uk ag a ▁ po or vi ga ▁ v 2 la ▁ th amb i ▁ an n an ▁ v al um ▁p od h u ▁ ad ha ▁ vi th ut u ▁p ang u ▁ k od u ▁n u ▁ ke k am ud iya d h u ▁ or u ▁f am il y ▁ la ▁p ai y an ▁p on n u ▁ ir un d ha ▁ per c ent ▁ la ▁and ha ▁p on n u ▁ k ana ▁ per ▁ v ang it u ▁in or u ▁ v 2 k u ▁p ol am <unk> ▁a van ga ▁ am ma ▁ app a ▁ od a ▁p ang u ▁ av ang al a ▁ ka d as i ▁p ath uk ara ▁and ha ▁p ai y an uk k u ▁s er um <unk> <unk> la ▁ am ma ▁ app a ▁ y a ar ▁ na me ▁ la ▁ el ud hi ▁ va ik ir ang al o ▁a van ga ▁l uk u ▁p og um ▁id h u ▁ en ▁ k ar uth u <unk> ▁p on n ung al uk u ▁p or and ha ▁ v 2 le n d h u ▁ va ra ▁s har e ▁m at um ▁ ill am a ▁p ug and ha ▁ v 2 la ▁ h us b and ▁ ap ar am ▁a van ga ▁a van ga ▁p as ang a ▁ d ha an ▁s er um\n",
       "y: CategoryList\n",
       "None-of-the-above,Misandry,None-of-the-above,Xenophobia,Counter-speech\n",
       "Path: .;\n",
       "\n",
       "Test: LabelList (1859 items)\n",
       "x: TextList\n",
       "▁ x x b os <unk> <unk> ood ▁ per c ent ▁c or r ect ▁ all ag a ▁s un ne ga ▁s ir ▁ ep p adi ▁ th an ▁ or u ▁ th ar ▁ en k it ta ▁p ant ha ▁p an ne k it tu ▁ ir uk ar u ▁p es um po th u ▁ or u ▁ ak ath ot u ▁p es ur ar u ▁m amp al ▁ k on j am ▁f re e y a ▁p al am an u ▁ ka ta ▁ ve la i ▁ ir uk un u ▁ po i ▁s ol it u ▁s i ri ch ut u ▁p or ar u ▁ man as u ▁ ne er ay a ▁a as ai ▁ ir un th al um ▁p ant ha ▁ ve d ha ▁m at en g ud h u ▁p ap o om ▁b ab u,▁ x x b os <unk> ▁s ar iya ga ▁ th an ▁s ol li ▁ ir uk k ar ▁ vi r un th al ik k u ▁p or ant ha van <unk> <unk> han e ▁s ee man,▁ x x b os <unk> <unk> as i <unk> <unk> a vi ▁ he y ▁in ▁ ve la iya ▁p a ar u ▁ d a a ▁n ed an ▁ d a ▁ po ta e ▁ k ▁ x x re p ▁4 ▁ o,▁ x x b os ▁ ra ja ▁ va i ▁ ad akk a ▁ v en d um,▁ x x b os <unk> ut ti ▁p ay y an ▁s am ▁ ver y ▁ g ood ▁m or n ing\n",
       "y: EmptyLabelList\n",
       ",,,,\n",
       "Path: ., model=SequentialRNN(\n",
       "  (0): MultiBatchEncoder(\n",
       "    (module): AWD_LSTM(\n",
       "      (encoder): Embedding(8000, 400, padding_idx=1)\n",
       "      (encoder_dp): EmbeddingDropout(\n",
       "        (emb): Embedding(8000, 400, padding_idx=1)\n",
       "      )\n",
       "      (rnns): ModuleList(\n",
       "        (0): WeightDropout(\n",
       "          (module): LSTM(400, 1150, batch_first=True)\n",
       "        )\n",
       "        (1): WeightDropout(\n",
       "          (module): LSTM(1150, 1150, batch_first=True)\n",
       "        )\n",
       "        (2): WeightDropout(\n",
       "          (module): LSTM(1150, 400, batch_first=True)\n",
       "        )\n",
       "      )\n",
       "      (input_dp): RNNDropout()\n",
       "      (hidden_dps): ModuleList(\n",
       "        (0): RNNDropout()\n",
       "        (1): RNNDropout()\n",
       "        (2): RNNDropout()\n",
       "      )\n",
       "    )\n",
       "  )\n",
       "  (1): PoolingLinearClassifier(\n",
       "    (layers): Sequential(\n",
       "      (0): BatchNorm1d(1200, eps=1e-05, momentum=0.1, affine=True, track_running_stats=True)\n",
       "      (1): Dropout(p=0.05, inplace=False)\n",
       "      (2): Linear(in_features=1200, out_features=50, bias=True)\n",
       "      (3): ReLU(inplace=True)\n",
       "      (4): BatchNorm1d(50, eps=1e-05, momentum=0.1, affine=True, track_running_stats=True)\n",
       "      (5): Dropout(p=0.1, inplace=False)\n",
       "      (6): Linear(in_features=50, out_features=8, bias=True)\n",
       "    )\n",
       "  )\n",
       "), opt_func=functools.partial(<class 'torch.optim.adam.Adam'>, betas=(0.9, 0.99)), loss_func=FlattenedLoss of CrossEntropyLoss(), metrics=[<function accuracy at 0x7f2a892c0e60>], true_wd=True, bn_wd=True, wd=0.01, train_bn=True, path=PosixPath('.'), model_dir='models', callback_fns=[functools.partial(<class 'fastai.basic_train.Recorder'>, add_time=True, silent=False)], callbacks=[RNNTrainer\n",
       "learn: ...\n",
       "alpha: 2.0\n",
       "beta: 1.0], layer_groups=[Sequential(\n",
       "  (0): Embedding(8000, 400, padding_idx=1)\n",
       "  (1): EmbeddingDropout(\n",
       "    (emb): Embedding(8000, 400, padding_idx=1)\n",
       "  )\n",
       "), Sequential(\n",
       "  (0): WeightDropout(\n",
       "    (module): LSTM(400, 1150, batch_first=True)\n",
       "  )\n",
       "  (1): RNNDropout()\n",
       "), Sequential(\n",
       "  (0): WeightDropout(\n",
       "    (module): LSTM(1150, 1150, batch_first=True)\n",
       "  )\n",
       "  (1): RNNDropout()\n",
       "), Sequential(\n",
       "  (0): WeightDropout(\n",
       "    (module): LSTM(1150, 400, batch_first=True)\n",
       "  )\n",
       "  (1): RNNDropout()\n",
       "), Sequential(\n",
       "  (0): PoolingLinearClassifier(\n",
       "    (layers): Sequential(\n",
       "      (0): BatchNorm1d(1200, eps=1e-05, momentum=0.1, affine=True, track_running_stats=True)\n",
       "      (1): Dropout(p=0.05, inplace=False)\n",
       "      (2): Linear(in_features=1200, out_features=50, bias=True)\n",
       "      (3): ReLU(inplace=True)\n",
       "      (4): BatchNorm1d(50, eps=1e-05, momentum=0.1, affine=True, track_running_stats=True)\n",
       "      (5): Dropout(p=0.1, inplace=False)\n",
       "      (6): Linear(in_features=50, out_features=8, bias=True)\n",
       "    )\n",
       "  )\n",
       ")], add_time=True, silent=False)"
      ]
     },
     "execution_count": 40,
     "metadata": {},
     "output_type": "execute_result"
    }
   ],
   "source": [
    "learn.load_encoder('fine_tuned_enc')"
   ]
  },
  {
   "cell_type": "code",
   "execution_count": 41,
   "id": "c874140a",
   "metadata": {
    "execution": {
     "iopub.execute_input": "2022-03-03T06:29:08.769272Z",
     "iopub.status.busy": "2022-03-03T06:29:08.768164Z",
     "iopub.status.idle": "2022-03-03T06:29:08.771232Z",
     "shell.execute_reply": "2022-03-03T06:29:08.771649Z",
     "shell.execute_reply.started": "2022-03-02T16:33:06.048186Z"
    },
    "papermill": {
     "duration": 0.394106,
     "end_time": "2022-03-03T06:29:08.771793",
     "exception": false,
     "start_time": "2022-03-03T06:29:08.377687",
     "status": "completed"
    },
    "tags": []
   },
   "outputs": [],
   "source": [
    "learn.freeze()"
   ]
  },
  {
   "cell_type": "code",
   "execution_count": 42,
   "id": "ea325cf0",
   "metadata": {
    "execution": {
     "iopub.execute_input": "2022-03-03T06:29:09.982426Z",
     "iopub.status.busy": "2022-03-03T06:29:09.981026Z",
     "iopub.status.idle": "2022-03-03T06:29:09.986637Z",
     "shell.execute_reply": "2022-03-03T06:29:09.985930Z",
     "shell.execute_reply.started": "2022-03-02T16:33:06.056980Z"
    },
    "papermill": {
     "duration": 0.667765,
     "end_time": "2022-03-03T06:29:09.986792",
     "exception": false,
     "start_time": "2022-03-03T06:29:09.319027",
     "status": "completed"
    },
    "tags": []
   },
   "outputs": [
    {
     "data": {
      "text/plain": [
       "CrossEntropyLoss()"
      ]
     },
     "execution_count": 42,
     "metadata": {},
     "output_type": "execute_result"
    }
   ],
   "source": [
    "learn.loss_func.func"
   ]
  },
  {
   "cell_type": "code",
   "execution_count": 43,
   "id": "c1fc97ab",
   "metadata": {
    "execution": {
     "iopub.execute_input": "2022-03-03T06:29:10.804304Z",
     "iopub.status.busy": "2022-03-03T06:29:10.803408Z",
     "iopub.status.idle": "2022-03-03T06:29:10.805777Z",
     "shell.execute_reply": "2022-03-03T06:29:10.805239Z",
     "shell.execute_reply.started": "2022-03-02T16:33:06.064938Z"
    },
    "papermill": {
     "duration": 0.395679,
     "end_time": "2022-03-03T06:29:10.805889",
     "exception": false,
     "start_time": "2022-03-03T06:29:10.410210",
     "status": "completed"
    },
    "tags": []
   },
   "outputs": [],
   "source": [
    "mcc = MatthewsCorreff()"
   ]
  },
  {
   "cell_type": "code",
   "execution_count": 44,
   "id": "3f74ddbb",
   "metadata": {
    "execution": {
     "iopub.execute_input": "2022-03-03T06:29:11.582077Z",
     "iopub.status.busy": "2022-03-03T06:29:11.581226Z",
     "iopub.status.idle": "2022-03-03T06:29:11.583702Z",
     "shell.execute_reply": "2022-03-03T06:29:11.583268Z",
     "shell.execute_reply.started": "2022-03-02T16:33:06.072570Z"
    },
    "papermill": {
     "duration": 0.39453,
     "end_time": "2022-03-03T06:29:11.583819",
     "exception": false,
     "start_time": "2022-03-03T06:29:11.189289",
     "status": "completed"
    },
    "tags": []
   },
   "outputs": [],
   "source": [
    "learn.metrics = [mcc, accuracy]"
   ]
  },
  {
   "cell_type": "code",
   "execution_count": 45,
   "id": "36f48202",
   "metadata": {
    "execution": {
     "iopub.execute_input": "2022-03-03T06:29:12.357560Z",
     "iopub.status.busy": "2022-03-03T06:29:12.356899Z",
     "iopub.status.idle": "2022-03-03T06:29:18.573129Z",
     "shell.execute_reply": "2022-03-03T06:29:18.573601Z",
     "shell.execute_reply.started": "2022-03-02T16:33:06.080895Z"
    },
    "papermill": {
     "duration": 6.606599,
     "end_time": "2022-03-03T06:29:18.573764",
     "exception": false,
     "start_time": "2022-03-03T06:29:11.967165",
     "status": "completed"
    },
    "tags": []
   },
   "outputs": [
    {
     "data": {
      "text/html": [
       "<table border=\"1\" class=\"dataframe\">\n",
       "  <thead>\n",
       "    <tr style=\"text-align: left;\">\n",
       "      <th>epoch</th>\n",
       "      <th>train_loss</th>\n",
       "      <th>valid_loss</th>\n",
       "      <th>matthews_correff</th>\n",
       "      <th>accuracy</th>\n",
       "      <th>time</th>\n",
       "    </tr>\n",
       "  </thead>\n",
       "  <tbody>\n",
       "    <tr>\n",
       "      <td>0</td>\n",
       "      <td>1.383821</td>\n",
       "      <td>1.111634</td>\n",
       "      <td>0.304831</td>\n",
       "      <td>0.666667</td>\n",
       "      <td>00:06</td>\n",
       "    </tr>\n",
       "  </tbody>\n",
       "</table>"
      ],
      "text/plain": [
       "<IPython.core.display.HTML object>"
      ]
     },
     "metadata": {},
     "output_type": "display_data"
    },
    {
     "name": "stderr",
     "output_type": "stream",
     "text": [
      "/opt/conda/lib/python3.7/site-packages/numpy/core/_asarray.py:102: VisibleDeprecationWarning: Creating an ndarray from ragged nested sequences (which is a list-or-tuple of lists-or-tuples-or ndarrays with different lengths or shapes) is deprecated. If you meant to do this, you must specify 'dtype=object' when creating the ndarray.\n",
      "  return array(a, dtype, copy=False, order=order)\n",
      "<string>:6: VisibleDeprecationWarning: Creating an ndarray from ragged nested sequences (which is a list-or-tuple of lists-or-tuples-or ndarrays with different lengths or shapes) is deprecated. If you meant to do this, you must specify 'dtype=object' when creating the ndarray.\n",
      "[W pthreadpool-cpp.cc:90] Warning: Leaking Caffe2 thread-pool after fork. (function pthreadpool)\n",
      "[W pthreadpool-cpp.cc:90] Warning: Leaking Caffe2 thread-pool after fork. (function pthreadpool)\n"
     ]
    }
   ],
   "source": [
    "learn.fit_one_cycle(1, 1e-2)"
   ]
  },
  {
   "cell_type": "code",
   "execution_count": 46,
   "id": "2543ebeb",
   "metadata": {
    "execution": {
     "iopub.execute_input": "2022-03-03T06:29:19.363731Z",
     "iopub.status.busy": "2022-03-03T06:29:19.362814Z",
     "iopub.status.idle": "2022-03-03T06:29:25.669756Z",
     "shell.execute_reply": "2022-03-03T06:29:25.670128Z",
     "shell.execute_reply.started": "2022-03-02T16:33:12.277856Z"
    },
    "papermill": {
     "duration": 6.705114,
     "end_time": "2022-03-03T06:29:25.670302",
     "exception": false,
     "start_time": "2022-03-03T06:29:18.965188",
     "status": "completed"
    },
    "tags": []
   },
   "outputs": [
    {
     "data": {
      "text/html": [
       "<table border=\"1\" class=\"dataframe\">\n",
       "  <thead>\n",
       "    <tr style=\"text-align: left;\">\n",
       "      <th>epoch</th>\n",
       "      <th>train_loss</th>\n",
       "      <th>valid_loss</th>\n",
       "      <th>matthews_correff</th>\n",
       "      <th>accuracy</th>\n",
       "      <th>time</th>\n",
       "    </tr>\n",
       "  </thead>\n",
       "  <tbody>\n",
       "    <tr>\n",
       "      <td>0</td>\n",
       "      <td>1.132208</td>\n",
       "      <td>1.003623</td>\n",
       "      <td>0.404080</td>\n",
       "      <td>0.699597</td>\n",
       "      <td>00:06</td>\n",
       "    </tr>\n",
       "  </tbody>\n",
       "</table>"
      ],
      "text/plain": [
       "<IPython.core.display.HTML object>"
      ]
     },
     "metadata": {},
     "output_type": "display_data"
    },
    {
     "name": "stderr",
     "output_type": "stream",
     "text": [
      "[W pthreadpool-cpp.cc:90] Warning: Leaking Caffe2 thread-pool after fork. (function pthreadpool)\n",
      "[W pthreadpool-cpp.cc:90] Warning: Leaking Caffe2 thread-pool after fork. (function pthreadpool)\n",
      "/opt/conda/lib/python3.7/site-packages/numpy/core/_asarray.py:102: VisibleDeprecationWarning: Creating an ndarray from ragged nested sequences (which is a list-or-tuple of lists-or-tuples-or ndarrays with different lengths or shapes) is deprecated. If you meant to do this, you must specify 'dtype=object' when creating the ndarray.\n",
      "  return array(a, dtype, copy=False, order=order)\n",
      "<string>:6: VisibleDeprecationWarning: Creating an ndarray from ragged nested sequences (which is a list-or-tuple of lists-or-tuples-or ndarrays with different lengths or shapes) is deprecated. If you meant to do this, you must specify 'dtype=object' when creating the ndarray.\n",
      "[W pthreadpool-cpp.cc:90] Warning: Leaking Caffe2 thread-pool after fork. (function pthreadpool)\n",
      "[W pthreadpool-cpp.cc:90] Warning: Leaking Caffe2 thread-pool after fork. (function pthreadpool)\n"
     ]
    }
   ],
   "source": [
    "learn.freeze_to(-2)\n",
    "learn.fit_one_cycle(1, 1e-2)"
   ]
  },
  {
   "cell_type": "code",
   "execution_count": 47,
   "id": "282be8da",
   "metadata": {
    "execution": {
     "iopub.execute_input": "2022-03-03T06:29:26.459500Z",
     "iopub.status.busy": "2022-03-03T06:29:26.458697Z",
     "iopub.status.idle": "2022-03-03T06:31:21.928442Z",
     "shell.execute_reply": "2022-03-03T06:31:21.929614Z",
     "shell.execute_reply.started": "2022-03-02T16:33:18.816950Z"
    },
    "papermill": {
     "duration": 115.866241,
     "end_time": "2022-03-03T06:31:21.929848",
     "exception": false,
     "start_time": "2022-03-03T06:29:26.063607",
     "status": "completed"
    },
    "tags": []
   },
   "outputs": [
    {
     "data": {
      "text/html": [
       "<table border=\"1\" class=\"dataframe\">\n",
       "  <thead>\n",
       "    <tr style=\"text-align: left;\">\n",
       "      <th>epoch</th>\n",
       "      <th>train_loss</th>\n",
       "      <th>valid_loss</th>\n",
       "      <th>matthews_correff</th>\n",
       "      <th>accuracy</th>\n",
       "      <th>time</th>\n",
       "    </tr>\n",
       "  </thead>\n",
       "  <tbody>\n",
       "    <tr>\n",
       "      <td>0</td>\n",
       "      <td>0.983383</td>\n",
       "      <td>0.976530</td>\n",
       "      <td>0.416414</td>\n",
       "      <td>0.705645</td>\n",
       "      <td>00:14</td>\n",
       "    </tr>\n",
       "    <tr>\n",
       "      <td>1</td>\n",
       "      <td>0.998329</td>\n",
       "      <td>0.946730</td>\n",
       "      <td>0.454905</td>\n",
       "      <td>0.714382</td>\n",
       "      <td>00:14</td>\n",
       "    </tr>\n",
       "    <tr>\n",
       "      <td>2</td>\n",
       "      <td>0.949423</td>\n",
       "      <td>0.895451</td>\n",
       "      <td>0.485285</td>\n",
       "      <td>0.729167</td>\n",
       "      <td>00:14</td>\n",
       "    </tr>\n",
       "    <tr>\n",
       "      <td>3</td>\n",
       "      <td>0.892631</td>\n",
       "      <td>0.901028</td>\n",
       "      <td>0.495061</td>\n",
       "      <td>0.731183</td>\n",
       "      <td>00:13</td>\n",
       "    </tr>\n",
       "    <tr>\n",
       "      <td>4</td>\n",
       "      <td>0.845476</td>\n",
       "      <td>0.884043</td>\n",
       "      <td>0.502734</td>\n",
       "      <td>0.731855</td>\n",
       "      <td>00:13</td>\n",
       "    </tr>\n",
       "    <tr>\n",
       "      <td>5</td>\n",
       "      <td>0.783543</td>\n",
       "      <td>0.892045</td>\n",
       "      <td>0.482495</td>\n",
       "      <td>0.723790</td>\n",
       "      <td>00:13</td>\n",
       "    </tr>\n",
       "    <tr>\n",
       "      <td>6</td>\n",
       "      <td>0.737612</td>\n",
       "      <td>0.905518</td>\n",
       "      <td>0.499313</td>\n",
       "      <td>0.723118</td>\n",
       "      <td>00:13</td>\n",
       "    </tr>\n",
       "    <tr>\n",
       "      <td>7</td>\n",
       "      <td>0.717013</td>\n",
       "      <td>0.896348</td>\n",
       "      <td>0.492454</td>\n",
       "      <td>0.723118</td>\n",
       "      <td>00:14</td>\n",
       "    </tr>\n",
       "  </tbody>\n",
       "</table>"
      ],
      "text/plain": [
       "<IPython.core.display.HTML object>"
      ]
     },
     "metadata": {},
     "output_type": "display_data"
    },
    {
     "name": "stderr",
     "output_type": "stream",
     "text": [
      "[W pthreadpool-cpp.cc:90] Warning: Leaking Caffe2 thread-pool after fork. (function pthreadpool)\n",
      "[W pthreadpool-cpp.cc:90] Warning: Leaking Caffe2 thread-pool after fork. (function pthreadpool)\n",
      "/opt/conda/lib/python3.7/site-packages/numpy/core/_asarray.py:102: VisibleDeprecationWarning: Creating an ndarray from ragged nested sequences (which is a list-or-tuple of lists-or-tuples-or ndarrays with different lengths or shapes) is deprecated. If you meant to do this, you must specify 'dtype=object' when creating the ndarray.\n",
      "  return array(a, dtype, copy=False, order=order)\n",
      "<string>:6: VisibleDeprecationWarning: Creating an ndarray from ragged nested sequences (which is a list-or-tuple of lists-or-tuples-or ndarrays with different lengths or shapes) is deprecated. If you meant to do this, you must specify 'dtype=object' when creating the ndarray.\n",
      "[W pthreadpool-cpp.cc:90] Warning: Leaking Caffe2 thread-pool after fork. (function pthreadpool)\n",
      "[W pthreadpool-cpp.cc:90] Warning: Leaking Caffe2 thread-pool after fork. (function pthreadpool)\n"
     ]
    },
    {
     "name": "stdout",
     "output_type": "stream",
     "text": [
      "Better model found at epoch 0 with accuracy value: 0.7056451439857483.\n"
     ]
    },
    {
     "name": "stderr",
     "output_type": "stream",
     "text": [
      "[W pthreadpool-cpp.cc:90] Warning: Leaking Caffe2 thread-pool after fork. (function pthreadpool)\n",
      "[W pthreadpool-cpp.cc:90] Warning: Leaking Caffe2 thread-pool after fork. (function pthreadpool)\n",
      "/opt/conda/lib/python3.7/site-packages/numpy/core/_asarray.py:102: VisibleDeprecationWarning: Creating an ndarray from ragged nested sequences (which is a list-or-tuple of lists-or-tuples-or ndarrays with different lengths or shapes) is deprecated. If you meant to do this, you must specify 'dtype=object' when creating the ndarray.\n",
      "  return array(a, dtype, copy=False, order=order)\n",
      "<string>:6: VisibleDeprecationWarning: Creating an ndarray from ragged nested sequences (which is a list-or-tuple of lists-or-tuples-or ndarrays with different lengths or shapes) is deprecated. If you meant to do this, you must specify 'dtype=object' when creating the ndarray.\n",
      "[W pthreadpool-cpp.cc:90] Warning: Leaking Caffe2 thread-pool after fork. (function pthreadpool)\n",
      "[W pthreadpool-cpp.cc:90] Warning: Leaking Caffe2 thread-pool after fork. (function pthreadpool)\n"
     ]
    },
    {
     "name": "stdout",
     "output_type": "stream",
     "text": [
      "Better model found at epoch 1 with accuracy value: 0.7143816947937012.\n"
     ]
    },
    {
     "name": "stderr",
     "output_type": "stream",
     "text": [
      "[W pthreadpool-cpp.cc:90] Warning: Leaking Caffe2 thread-pool after fork. (function pthreadpool)\n",
      "[W pthreadpool-cpp.cc:90] Warning: Leaking Caffe2 thread-pool after fork. (function pthreadpool)\n",
      "/opt/conda/lib/python3.7/site-packages/numpy/core/_asarray.py:102: VisibleDeprecationWarning: Creating an ndarray from ragged nested sequences (which is a list-or-tuple of lists-or-tuples-or ndarrays with different lengths or shapes) is deprecated. If you meant to do this, you must specify 'dtype=object' when creating the ndarray.\n",
      "  return array(a, dtype, copy=False, order=order)\n",
      "<string>:6: VisibleDeprecationWarning: Creating an ndarray from ragged nested sequences (which is a list-or-tuple of lists-or-tuples-or ndarrays with different lengths or shapes) is deprecated. If you meant to do this, you must specify 'dtype=object' when creating the ndarray.\n",
      "[W pthreadpool-cpp.cc:90] Warning: Leaking Caffe2 thread-pool after fork. (function pthreadpool)\n",
      "[W pthreadpool-cpp.cc:90] Warning: Leaking Caffe2 thread-pool after fork. (function pthreadpool)\n"
     ]
    },
    {
     "name": "stdout",
     "output_type": "stream",
     "text": [
      "Better model found at epoch 2 with accuracy value: 0.7291666865348816.\n"
     ]
    },
    {
     "name": "stderr",
     "output_type": "stream",
     "text": [
      "[W pthreadpool-cpp.cc:90] Warning: Leaking Caffe2 thread-pool after fork. (function pthreadpool)\n",
      "[W pthreadpool-cpp.cc:90] Warning: Leaking Caffe2 thread-pool after fork. (function pthreadpool)\n",
      "/opt/conda/lib/python3.7/site-packages/numpy/core/_asarray.py:102: VisibleDeprecationWarning: Creating an ndarray from ragged nested sequences (which is a list-or-tuple of lists-or-tuples-or ndarrays with different lengths or shapes) is deprecated. If you meant to do this, you must specify 'dtype=object' when creating the ndarray.\n",
      "  return array(a, dtype, copy=False, order=order)\n",
      "<string>:6: VisibleDeprecationWarning: Creating an ndarray from ragged nested sequences (which is a list-or-tuple of lists-or-tuples-or ndarrays with different lengths or shapes) is deprecated. If you meant to do this, you must specify 'dtype=object' when creating the ndarray.\n",
      "[W pthreadpool-cpp.cc:90] Warning: Leaking Caffe2 thread-pool after fork. (function pthreadpool)\n",
      "[W pthreadpool-cpp.cc:90] Warning: Leaking Caffe2 thread-pool after fork. (function pthreadpool)\n"
     ]
    },
    {
     "name": "stdout",
     "output_type": "stream",
     "text": [
      "Better model found at epoch 3 with accuracy value: 0.7311828136444092.\n"
     ]
    },
    {
     "name": "stderr",
     "output_type": "stream",
     "text": [
      "[W pthreadpool-cpp.cc:90] Warning: Leaking Caffe2 thread-pool after fork. (function pthreadpool)\n",
      "[W pthreadpool-cpp.cc:90] Warning: Leaking Caffe2 thread-pool after fork. (function pthreadpool)\n",
      "/opt/conda/lib/python3.7/site-packages/numpy/core/_asarray.py:102: VisibleDeprecationWarning: Creating an ndarray from ragged nested sequences (which is a list-or-tuple of lists-or-tuples-or ndarrays with different lengths or shapes) is deprecated. If you meant to do this, you must specify 'dtype=object' when creating the ndarray.\n",
      "  return array(a, dtype, copy=False, order=order)\n",
      "<string>:6: VisibleDeprecationWarning: Creating an ndarray from ragged nested sequences (which is a list-or-tuple of lists-or-tuples-or ndarrays with different lengths or shapes) is deprecated. If you meant to do this, you must specify 'dtype=object' when creating the ndarray.\n",
      "[W pthreadpool-cpp.cc:90] Warning: Leaking Caffe2 thread-pool after fork. (function pthreadpool)\n",
      "[W pthreadpool-cpp.cc:90] Warning: Leaking Caffe2 thread-pool after fork. (function pthreadpool)\n"
     ]
    },
    {
     "name": "stdout",
     "output_type": "stream",
     "text": [
      "Better model found at epoch 4 with accuracy value: 0.7318548560142517.\n"
     ]
    },
    {
     "name": "stderr",
     "output_type": "stream",
     "text": [
      "[W pthreadpool-cpp.cc:90] Warning: Leaking Caffe2 thread-pool after fork. (function pthreadpool)\n",
      "[W pthreadpool-cpp.cc:90] Warning: Leaking Caffe2 thread-pool after fork. (function pthreadpool)\n",
      "/opt/conda/lib/python3.7/site-packages/numpy/core/_asarray.py:102: VisibleDeprecationWarning: Creating an ndarray from ragged nested sequences (which is a list-or-tuple of lists-or-tuples-or ndarrays with different lengths or shapes) is deprecated. If you meant to do this, you must specify 'dtype=object' when creating the ndarray.\n",
      "  return array(a, dtype, copy=False, order=order)\n",
      "<string>:6: VisibleDeprecationWarning: Creating an ndarray from ragged nested sequences (which is a list-or-tuple of lists-or-tuples-or ndarrays with different lengths or shapes) is deprecated. If you meant to do this, you must specify 'dtype=object' when creating the ndarray.\n",
      "[W pthreadpool-cpp.cc:90] Warning: Leaking Caffe2 thread-pool after fork. (function pthreadpool)\n",
      "[W pthreadpool-cpp.cc:90] Warning: Leaking Caffe2 thread-pool after fork. (function pthreadpool)\n",
      "[W pthreadpool-cpp.cc:90] Warning: Leaking Caffe2 thread-pool after fork. (function pthreadpool)\n",
      "[W pthreadpool-cpp.cc:90] Warning: Leaking Caffe2 thread-pool after fork. (function pthreadpool)\n",
      "/opt/conda/lib/python3.7/site-packages/numpy/core/_asarray.py:102: VisibleDeprecationWarning: Creating an ndarray from ragged nested sequences (which is a list-or-tuple of lists-or-tuples-or ndarrays with different lengths or shapes) is deprecated. If you meant to do this, you must specify 'dtype=object' when creating the ndarray.\n",
      "  return array(a, dtype, copy=False, order=order)\n",
      "<string>:6: VisibleDeprecationWarning: Creating an ndarray from ragged nested sequences (which is a list-or-tuple of lists-or-tuples-or ndarrays with different lengths or shapes) is deprecated. If you meant to do this, you must specify 'dtype=object' when creating the ndarray.\n",
      "[W pthreadpool-cpp.cc:90] Warning: Leaking Caffe2 thread-pool after fork. (function pthreadpool)\n",
      "[W pthreadpool-cpp.cc:90] Warning: Leaking Caffe2 thread-pool after fork. (function pthreadpool)\n",
      "[W pthreadpool-cpp.cc:90] Warning: Leaking Caffe2 thread-pool after fork. (function pthreadpool)\n",
      "[W pthreadpool-cpp.cc:90] Warning: Leaking Caffe2 thread-pool after fork. (function pthreadpool)\n",
      "/opt/conda/lib/python3.7/site-packages/numpy/core/_asarray.py:102: VisibleDeprecationWarning: Creating an ndarray from ragged nested sequences (which is a list-or-tuple of lists-or-tuples-or ndarrays with different lengths or shapes) is deprecated. If you meant to do this, you must specify 'dtype=object' when creating the ndarray.\n",
      "  return array(a, dtype, copy=False, order=order)\n",
      "<string>:6: VisibleDeprecationWarning: Creating an ndarray from ragged nested sequences (which is a list-or-tuple of lists-or-tuples-or ndarrays with different lengths or shapes) is deprecated. If you meant to do this, you must specify 'dtype=object' when creating the ndarray.\n",
      "[W pthreadpool-cpp.cc:90] Warning: Leaking Caffe2 thread-pool after fork. (function pthreadpool)\n",
      "[W pthreadpool-cpp.cc:90] Warning: Leaking Caffe2 thread-pool after fork. (function pthreadpool)\n"
     ]
    }
   ],
   "source": [
    "learn.unfreeze()\n",
    "learn.fit_one_cycle(8, 1e-3, callbacks=[callbacks.SaveModelCallback(learn, every='improvement', monitor='accuracy', name='final')])"
   ]
  },
  {
   "cell_type": "code",
   "execution_count": 48,
   "id": "6d1b58e3",
   "metadata": {
    "execution": {
     "iopub.execute_input": "2022-03-03T06:31:22.803418Z",
     "iopub.status.busy": "2022-03-03T06:31:22.801839Z",
     "iopub.status.idle": "2022-03-03T06:31:24.576705Z",
     "shell.execute_reply": "2022-03-03T06:31:24.576232Z",
     "shell.execute_reply.started": "2022-03-02T16:35:16.863780Z"
    },
    "papermill": {
     "duration": 2.190429,
     "end_time": "2022-03-03T06:31:24.576829",
     "exception": false,
     "start_time": "2022-03-03T06:31:22.386400",
     "status": "completed"
    },
    "tags": []
   },
   "outputs": [
    {
     "data": {
      "text/html": [],
      "text/plain": [
       "<IPython.core.display.HTML object>"
      ]
     },
     "metadata": {},
     "output_type": "display_data"
    },
    {
     "name": "stderr",
     "output_type": "stream",
     "text": [
      "[W pthreadpool-cpp.cc:90] Warning: Leaking Caffe2 thread-pool after fork. (function pthreadpool)\n",
      "[W pthreadpool-cpp.cc:90] Warning: Leaking Caffe2 thread-pool after fork. (function pthreadpool)\n"
     ]
    },
    {
     "data": {
      "text/html": [
       "<div>\n",
       "<style scoped>\n",
       "    .dataframe tbody tr th:only-of-type {\n",
       "        vertical-align: middle;\n",
       "    }\n",
       "\n",
       "    .dataframe tbody tr th {\n",
       "        vertical-align: top;\n",
       "    }\n",
       "\n",
       "    .dataframe thead th {\n",
       "        text-align: right;\n",
       "    }\n",
       "</style>\n",
       "<table border=\"1\" class=\"dataframe\">\n",
       "  <thead>\n",
       "    <tr style=\"text-align: right;\">\n",
       "      <th></th>\n",
       "      <th>query</th>\n",
       "      <th>actual_label</th>\n",
       "      <th>predicted_label</th>\n",
       "      <th>Homophobia</th>\n",
       "      <th>None-of-the-above</th>\n",
       "      <th>Misogyny</th>\n",
       "      <th>Transphobic</th>\n",
       "      <th>Hope-Speech</th>\n",
       "      <th>Misandry</th>\n",
       "      <th>Xenophobia</th>\n",
       "      <th>Counter-speech</th>\n",
       "    </tr>\n",
       "  </thead>\n",
       "  <tbody>\n",
       "    <tr>\n",
       "      <th>0</th>\n",
       "      <td>Good percent correct allaga sunnega sir eppadi...</td>\n",
       "      <td>None-of-the-above</td>\n",
       "      <td>None-of-the-above</td>\n",
       "      <td>0.047014</td>\n",
       "      <td>0.658602</td>\n",
       "      <td>0.019722</td>\n",
       "      <td>0.01421</td>\n",
       "      <td>0.008899</td>\n",
       "      <td>0.038531</td>\n",
       "      <td>0.000861</td>\n",
       "      <td>0.21216</td>\n",
       "    </tr>\n",
       "    <tr>\n",
       "      <th>1</th>\n",
       "      <td>Sariyaga than solli irukkar virunthalikku pora...</td>\n",
       "      <td>Misandry</td>\n",
       "      <td>None-of-the-above</td>\n",
       "      <td>0.022858</td>\n",
       "      <td>0.670576</td>\n",
       "      <td>0.010712</td>\n",
       "      <td>0.026238</td>\n",
       "      <td>0.00595</td>\n",
       "      <td>0.142176</td>\n",
       "      <td>0.094326</td>\n",
       "      <td>0.027164</td>\n",
       "    </tr>\n",
       "    <tr>\n",
       "      <th>2</th>\n",
       "      <td>Kasi Ravi hey in velaiya paaru daa nedan da po...</td>\n",
       "      <td>Misandry</td>\n",
       "      <td>Misandry</td>\n",
       "      <td>0.006452</td>\n",
       "      <td>0.215612</td>\n",
       "      <td>0.036928</td>\n",
       "      <td>0.007829</td>\n",
       "      <td>0.001715</td>\n",
       "      <td>0.720401</td>\n",
       "      <td>0.009399</td>\n",
       "      <td>0.001665</td>\n",
       "    </tr>\n",
       "    <tr>\n",
       "      <th>3</th>\n",
       "      <td>raja vai adakka vendum</td>\n",
       "      <td>Misandry</td>\n",
       "      <td>Misandry</td>\n",
       "      <td>0.010959</td>\n",
       "      <td>0.345798</td>\n",
       "      <td>0.01227</td>\n",
       "      <td>0.007738</td>\n",
       "      <td>0.005284</td>\n",
       "      <td>0.44418</td>\n",
       "      <td>0.167828</td>\n",
       "      <td>0.005943</td>\n",
       "    </tr>\n",
       "    <tr>\n",
       "      <th>4</th>\n",
       "      <td>Chutti payyan sam very good morning</td>\n",
       "      <td>None-of-the-above</td>\n",
       "      <td>None-of-the-above</td>\n",
       "      <td>0.011098</td>\n",
       "      <td>0.916322</td>\n",
       "      <td>0.003903</td>\n",
       "      <td>0.003345</td>\n",
       "      <td>0.00443</td>\n",
       "      <td>0.04223</td>\n",
       "      <td>0.012966</td>\n",
       "      <td>0.005705</td>\n",
       "    </tr>\n",
       "  </tbody>\n",
       "</table>\n",
       "</div>"
      ],
      "text/plain": [
       "                                               query       actual_label  \\\n",
       "0  Good percent correct allaga sunnega sir eppadi...  None-of-the-above   \n",
       "1  Sariyaga than solli irukkar virunthalikku pora...           Misandry   \n",
       "2  Kasi Ravi hey in velaiya paaru daa nedan da po...           Misandry   \n",
       "3                             raja vai adakka vendum           Misandry   \n",
       "4                Chutti payyan sam very good morning  None-of-the-above   \n",
       "\n",
       "     predicted_label Homophobia None-of-the-above  Misogyny Transphobic  \\\n",
       "0  None-of-the-above   0.047014          0.658602  0.019722     0.01421   \n",
       "1  None-of-the-above   0.022858          0.670576  0.010712    0.026238   \n",
       "2           Misandry   0.006452          0.215612  0.036928    0.007829   \n",
       "3           Misandry   0.010959          0.345798   0.01227    0.007738   \n",
       "4  None-of-the-above   0.011098          0.916322  0.003903    0.003345   \n",
       "\n",
       "  Hope-Speech  Misandry Xenophobia Counter-speech  \n",
       "0    0.008899  0.038531   0.000861        0.21216  \n",
       "1     0.00595  0.142176   0.094326       0.027164  \n",
       "2    0.001715  0.720401   0.009399       0.001665  \n",
       "3    0.005284   0.44418   0.167828       0.005943  \n",
       "4     0.00443   0.04223   0.012966       0.005705  "
      ]
     },
     "execution_count": 48,
     "metadata": {},
     "output_type": "execute_result"
    }
   ],
   "source": [
    "from sklearn.metrics import accuracy_score, matthews_corrcoef\n",
    "df_dict = {'query': list(df_test[1]), 'actual_label': list(df_test[0]), 'predicted_label': ['']*df_test.shape[0]}\n",
    "all_nodes = list(set(df_train[0]))\n",
    "for node in all_nodes:\n",
    "    df_dict[node] = ['']*df_test.shape[0]\n",
    "\n",
    "i2c = {}\n",
    "for key, value in learn.data.c2i.items():\n",
    "    i2c[value] = key\n",
    "\n",
    "df_result = pd.DataFrame(df_dict)\n",
    "preds = learn.get_preds(ds_type=DatasetType.Test, ordered=True)\n",
    "for index, row in df_result.iterrows():\n",
    "    for node in all_nodes:\n",
    "        row[node] = preds[0][index][learn.data.c2i[node]].item()\n",
    "    row['predicted_label'] = i2c[np.argmax(preds[0][index]).data.item()]\n",
    "df_result.head()"
   ]
  },
  {
   "cell_type": "code",
   "execution_count": 49,
   "id": "32d2cac7",
   "metadata": {
    "execution": {
     "iopub.execute_input": "2022-03-03T06:31:25.394561Z",
     "iopub.status.busy": "2022-03-03T06:31:25.393905Z",
     "iopub.status.idle": "2022-03-03T06:31:25.396788Z",
     "shell.execute_reply": "2022-03-03T06:31:25.397314Z",
     "shell.execute_reply.started": "2022-03-02T16:35:18.645885Z"
    },
    "papermill": {
     "duration": 0.415538,
     "end_time": "2022-03-03T06:31:25.397505",
     "exception": false,
     "start_time": "2022-03-03T06:31:24.981967",
     "status": "completed"
    },
    "tags": []
   },
   "outputs": [
    {
     "data": {
      "text/plain": [
       "0.7105970952124798"
      ]
     },
     "execution_count": 49,
     "metadata": {},
     "output_type": "execute_result"
    }
   ],
   "source": [
    "accuracy_score(df_result['actual_label'], df_result['predicted_label'])"
   ]
  },
  {
   "cell_type": "code",
   "execution_count": 50,
   "id": "ac34b950",
   "metadata": {
    "execution": {
     "iopub.execute_input": "2022-03-03T06:31:26.214768Z",
     "iopub.status.busy": "2022-03-03T06:31:26.214039Z",
     "iopub.status.idle": "2022-03-03T06:31:26.223878Z",
     "shell.execute_reply": "2022-03-03T06:31:26.224308Z",
     "shell.execute_reply.started": "2022-03-02T16:35:18.657767Z"
    },
    "papermill": {
     "duration": 0.420116,
     "end_time": "2022-03-03T06:31:26.224454",
     "exception": false,
     "start_time": "2022-03-03T06:31:25.804338",
     "status": "completed"
    },
    "tags": []
   },
   "outputs": [
    {
     "data": {
      "text/plain": [
       "0.46559313105691985"
      ]
     },
     "execution_count": 50,
     "metadata": {},
     "output_type": "execute_result"
    }
   ],
   "source": [
    "matthews_corrcoef(df_result['actual_label'], df_result['predicted_label'])"
   ]
  },
  {
   "cell_type": "code",
   "execution_count": 51,
   "id": "ad37eaae",
   "metadata": {
    "execution": {
     "iopub.execute_input": "2022-03-03T06:31:27.072990Z",
     "iopub.status.busy": "2022-03-03T06:31:27.045863Z",
     "iopub.status.idle": "2022-03-03T06:31:27.108739Z",
     "shell.execute_reply": "2022-03-03T06:31:27.108255Z",
     "shell.execute_reply.started": "2022-03-02T16:35:18.674503Z"
    },
    "papermill": {
     "duration": 0.486358,
     "end_time": "2022-03-03T06:31:27.108863",
     "exception": false,
     "start_time": "2022-03-03T06:31:26.622505",
     "status": "completed"
    },
    "tags": []
   },
   "outputs": [],
   "source": [
    "report = classification_report(df_result['actual_label'], df_result['predicted_label'],output_dict=True)"
   ]
  },
  {
   "cell_type": "code",
   "execution_count": 52,
   "id": "9cf976c2",
   "metadata": {
    "execution": {
     "iopub.execute_input": "2022-03-03T06:31:27.922395Z",
     "iopub.status.busy": "2022-03-03T06:31:27.921722Z",
     "iopub.status.idle": "2022-03-03T06:31:27.924685Z",
     "shell.execute_reply": "2022-03-03T06:31:27.925088Z",
     "shell.execute_reply.started": "2022-03-02T16:35:18.747045Z"
    },
    "papermill": {
     "duration": 0.417674,
     "end_time": "2022-03-03T06:31:27.925225",
     "exception": false,
     "start_time": "2022-03-03T06:31:27.507551",
     "status": "completed"
    },
    "tags": []
   },
   "outputs": [
    {
     "data": {
      "text/html": [
       "<div>\n",
       "<style scoped>\n",
       "    .dataframe tbody tr th:only-of-type {\n",
       "        vertical-align: middle;\n",
       "    }\n",
       "\n",
       "    .dataframe tbody tr th {\n",
       "        vertical-align: top;\n",
       "    }\n",
       "\n",
       "    .dataframe thead th {\n",
       "        text-align: right;\n",
       "    }\n",
       "</style>\n",
       "<table border=\"1\" class=\"dataframe\">\n",
       "  <thead>\n",
       "    <tr style=\"text-align: right;\">\n",
       "      <th></th>\n",
       "      <th>precision</th>\n",
       "      <th>recall</th>\n",
       "      <th>f1-score</th>\n",
       "      <th>support</th>\n",
       "    </tr>\n",
       "  </thead>\n",
       "  <tbody>\n",
       "    <tr>\n",
       "      <th>Counter-speech</th>\n",
       "      <td>0.388889</td>\n",
       "      <td>0.318182</td>\n",
       "      <td>0.350000</td>\n",
       "      <td>88.000000</td>\n",
       "    </tr>\n",
       "    <tr>\n",
       "      <th>Homophobia</th>\n",
       "      <td>0.520000</td>\n",
       "      <td>0.232143</td>\n",
       "      <td>0.320988</td>\n",
       "      <td>56.000000</td>\n",
       "    </tr>\n",
       "    <tr>\n",
       "      <th>Hope-Speech</th>\n",
       "      <td>0.327273</td>\n",
       "      <td>0.257143</td>\n",
       "      <td>0.288000</td>\n",
       "      <td>70.000000</td>\n",
       "    </tr>\n",
       "    <tr>\n",
       "      <th>Misandry</th>\n",
       "      <td>0.664260</td>\n",
       "      <td>0.630137</td>\n",
       "      <td>0.646749</td>\n",
       "      <td>292.000000</td>\n",
       "    </tr>\n",
       "    <tr>\n",
       "      <th>Misogyny</th>\n",
       "      <td>0.266667</td>\n",
       "      <td>0.070175</td>\n",
       "      <td>0.111111</td>\n",
       "      <td>57.000000</td>\n",
       "    </tr>\n",
       "    <tr>\n",
       "      <th>None-of-the-above</th>\n",
       "      <td>0.775758</td>\n",
       "      <td>0.895888</td>\n",
       "      <td>0.831506</td>\n",
       "      <td>1143.000000</td>\n",
       "    </tr>\n",
       "    <tr>\n",
       "      <th>Transphobic</th>\n",
       "      <td>0.363636</td>\n",
       "      <td>0.068966</td>\n",
       "      <td>0.115942</td>\n",
       "      <td>58.000000</td>\n",
       "    </tr>\n",
       "    <tr>\n",
       "      <th>Xenophobia</th>\n",
       "      <td>0.547619</td>\n",
       "      <td>0.484211</td>\n",
       "      <td>0.513966</td>\n",
       "      <td>95.000000</td>\n",
       "    </tr>\n",
       "    <tr>\n",
       "      <th>accuracy</th>\n",
       "      <td>0.710597</td>\n",
       "      <td>0.710597</td>\n",
       "      <td>0.710597</td>\n",
       "      <td>0.710597</td>\n",
       "    </tr>\n",
       "    <tr>\n",
       "      <th>macro avg</th>\n",
       "      <td>0.481763</td>\n",
       "      <td>0.369606</td>\n",
       "      <td>0.397283</td>\n",
       "      <td>1859.000000</td>\n",
       "    </tr>\n",
       "    <tr>\n",
       "      <th>weighted avg</th>\n",
       "      <td>0.675213</td>\n",
       "      <td>0.710597</td>\n",
       "      <td>0.683207</td>\n",
       "      <td>1859.000000</td>\n",
       "    </tr>\n",
       "  </tbody>\n",
       "</table>\n",
       "</div>"
      ],
      "text/plain": [
       "                   precision    recall  f1-score      support\n",
       "Counter-speech      0.388889  0.318182  0.350000    88.000000\n",
       "Homophobia          0.520000  0.232143  0.320988    56.000000\n",
       "Hope-Speech         0.327273  0.257143  0.288000    70.000000\n",
       "Misandry            0.664260  0.630137  0.646749   292.000000\n",
       "Misogyny            0.266667  0.070175  0.111111    57.000000\n",
       "None-of-the-above   0.775758  0.895888  0.831506  1143.000000\n",
       "Transphobic         0.363636  0.068966  0.115942    58.000000\n",
       "Xenophobia          0.547619  0.484211  0.513966    95.000000\n",
       "accuracy            0.710597  0.710597  0.710597     0.710597\n",
       "macro avg           0.481763  0.369606  0.397283  1859.000000\n",
       "weighted avg        0.675213  0.710597  0.683207  1859.000000"
      ]
     },
     "execution_count": 52,
     "metadata": {},
     "output_type": "execute_result"
    }
   ],
   "source": [
    "pd.DataFrame(report).transpose()"
   ]
  },
  {
   "cell_type": "code",
   "execution_count": 53,
   "id": "3bae470d",
   "metadata": {
    "execution": {
     "iopub.execute_input": "2022-03-03T06:31:28.733609Z",
     "iopub.status.busy": "2022-03-03T06:31:28.732773Z",
     "iopub.status.idle": "2022-03-03T06:31:28.771067Z",
     "shell.execute_reply": "2022-03-03T06:31:28.770636Z",
     "shell.execute_reply.started": "2022-03-02T16:35:18.762332Z"
    },
    "papermill": {
     "duration": 0.447977,
     "end_time": "2022-03-03T06:31:28.771182",
     "exception": false,
     "start_time": "2022-03-03T06:31:28.323205",
     "status": "completed"
    },
    "tags": []
   },
   "outputs": [],
   "source": [
    "df_result.to_csv('ULMFiT_ACD_TaEn_CD.csv', index=False)"
   ]
  },
  {
   "cell_type": "code",
   "execution_count": 54,
   "id": "374f81f9",
   "metadata": {
    "execution": {
     "iopub.execute_input": "2022-03-03T06:31:29.796589Z",
     "iopub.status.busy": "2022-03-03T06:31:29.795753Z",
     "iopub.status.idle": "2022-03-03T06:31:29.800677Z",
     "shell.execute_reply": "2022-03-03T06:31:29.801333Z",
     "shell.execute_reply.started": "2022-03-02T16:35:18.806614Z"
    },
    "papermill": {
     "duration": 0.605999,
     "end_time": "2022-03-03T06:31:29.801541",
     "exception": false,
     "start_time": "2022-03-03T06:31:29.195542",
     "status": "completed"
    },
    "tags": []
   },
   "outputs": [
    {
     "data": {
      "text/html": [
       "<a href='ULMFiT_ACD_TaEn_CD.csv' target='_blank'>ULMFiT_ACD_TaEn_CD.csv</a><br>"
      ],
      "text/plain": [
       "/kaggle/working/ULMFiT_ACD_TaEn_CD.csv"
      ]
     },
     "execution_count": 54,
     "metadata": {},
     "output_type": "execute_result"
    }
   ],
   "source": [
    "import os\n",
    "os.chdir(r'../working')\n",
    "from IPython.display import FileLink\n",
    "FileLink(r'ULMFiT_ACD_TaEn_CD.csv')"
   ]
  }
 ],
 "metadata": {
  "kernelspec": {
   "display_name": "Python 3",
   "language": "python",
   "name": "python3"
  },
  "language_info": {
   "codemirror_mode": {
    "name": "ipython",
    "version": 3
   },
   "file_extension": ".py",
   "mimetype": "text/x-python",
   "name": "python",
   "nbconvert_exporter": "python",
   "pygments_lexer": "ipython3",
   "version": "3.7.12"
  },
  "papermill": {
   "default_parameters": {},
   "duration": 377.384821,
   "end_time": "2022-03-03T06:31:33.909260",
   "environment_variables": {},
   "exception": null,
   "input_path": "__notebook__.ipynb",
   "output_path": "__notebook__.ipynb",
   "parameters": {},
   "start_time": "2022-03-03T06:25:16.524439",
   "version": "2.3.3"
  }
 },
 "nbformat": 4,
 "nbformat_minor": 5
}
