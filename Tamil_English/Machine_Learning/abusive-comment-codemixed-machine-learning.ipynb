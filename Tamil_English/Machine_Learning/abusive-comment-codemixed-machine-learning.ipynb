{
 "cells": [
  {
   "cell_type": "markdown",
   "id": "c7bd3d50",
   "metadata": {
    "execution": {
     "iopub.execute_input": "2022-01-30T07:26:42.684138Z",
     "iopub.status.busy": "2022-01-30T07:26:42.683591Z",
     "iopub.status.idle": "2022-01-30T07:26:44.012599Z",
     "shell.execute_reply": "2022-01-30T07:26:44.011984Z",
     "shell.execute_reply.started": "2022-01-30T07:26:18.25528Z"
    },
    "papermill": {
     "duration": 0.059056,
     "end_time": "2022-03-06T16:58:32.291079",
     "exception": false,
     "start_time": "2022-03-06T16:58:32.232023",
     "status": "completed"
    },
    "tags": []
   },
   "source": [
    "# Importing Libraries"
   ]
  },
  {
   "cell_type": "code",
   "execution_count": 1,
   "id": "6c0352ee",
   "metadata": {
    "execution": {
     "iopub.execute_input": "2022-03-06T16:58:32.378666Z",
     "iopub.status.busy": "2022-03-06T16:58:32.377913Z",
     "iopub.status.idle": "2022-03-06T16:58:58.680441Z",
     "shell.execute_reply": "2022-03-06T16:58:58.680895Z"
    },
    "papermill": {
     "duration": 26.351604,
     "end_time": "2022-03-06T16:58:58.681171",
     "exception": false,
     "start_time": "2022-03-06T16:58:32.329567",
     "status": "completed"
    },
    "tags": []
   },
   "outputs": [
    {
     "name": "stdout",
     "output_type": "stream",
     "text": [
      "\u001b[33mWARNING: Running pip as the 'root' user can result in broken permissions and conflicting behaviour with the system package manager. It is recommended to use a virtual environment instead: https://pip.pypa.io/warnings/venv\u001b[0m\r\n",
      "\u001b[33mWARNING: Running pip as the 'root' user can result in broken permissions and conflicting behaviour with the system package manager. It is recommended to use a virtual environment instead: https://pip.pypa.io/warnings/venv\u001b[0m\r\n"
     ]
    }
   ],
   "source": [
    "!pip -q install simpletransformers\n",
    "!pip -q install xgboost"
   ]
  },
  {
   "cell_type": "code",
   "execution_count": 2,
   "id": "c1749c9d",
   "metadata": {
    "execution": {
     "iopub.execute_input": "2022-03-06T16:58:58.766701Z",
     "iopub.status.busy": "2022-03-06T16:58:58.765858Z",
     "iopub.status.idle": "2022-03-06T16:59:02.203368Z",
     "shell.execute_reply": "2022-03-06T16:59:02.203833Z"
    },
    "papermill": {
     "duration": 3.483504,
     "end_time": "2022-03-06T16:59:02.203992",
     "exception": false,
     "start_time": "2022-03-06T16:58:58.720488",
     "status": "completed"
    },
    "tags": []
   },
   "outputs": [],
   "source": [
    "import pandas as pd\n",
    "import torch\n",
    "from simpletransformers.language_representation import RepresentationModel\n",
    "from sklearn.linear_model import LogisticRegression\n",
    "from sklearn.utils.class_weight import compute_class_weight\n",
    "from sklearn.model_selection import GridSearchCV\n",
    "import numpy as np\n",
    "from sklearn.tree import DecisionTreeClassifier\n",
    "from sklearn.metrics import classification_report\n",
    "from sklearn.metrics import f1_score\n",
    "from sklearn.svm import SVC\n",
    "from sklearn.ensemble import RandomForestClassifier\n",
    "from xgboost import XGBClassifier\n",
    "from sklearn.neural_network import MLPClassifier"
   ]
  },
  {
   "cell_type": "markdown",
   "id": "7582be1e",
   "metadata": {
    "papermill": {
     "duration": 0.037605,
     "end_time": "2022-03-06T16:59:02.279729",
     "exception": false,
     "start_time": "2022-03-06T16:59:02.242124",
     "status": "completed"
    },
    "tags": []
   },
   "source": [
    "# Loading the datasets"
   ]
  },
  {
   "cell_type": "code",
   "execution_count": 3,
   "id": "4f952691",
   "metadata": {
    "execution": {
     "iopub.execute_input": "2022-03-06T16:59:02.367669Z",
     "iopub.status.busy": "2022-03-06T16:59:02.367018Z",
     "iopub.status.idle": "2022-03-06T16:59:02.449915Z",
     "shell.execute_reply": "2022-03-06T16:59:02.449444Z"
    },
    "papermill": {
     "duration": 0.131214,
     "end_time": "2022-03-06T16:59:02.450053",
     "exception": false,
     "start_time": "2022-03-06T16:59:02.318839",
     "status": "completed"
    },
    "tags": []
   },
   "outputs": [],
   "source": [
    "df = pd.read_csv('../input/abusive-comment-detection/Abusive_Comment_Codemixed_train.csv',sep='\\t',header=None)\n",
    "df_test = pd.read_csv('../input/abusive-comment-detection/Abusive_Comment_Codemixed_test.csv',sep='\\t',header=None)\n",
    "df_eval = pd.read_csv('../input/abusive-comment-detection/Abusive_Comment_Codemixed_dev.csv',sep='\\t',header=None)"
   ]
  },
  {
   "cell_type": "code",
   "execution_count": 4,
   "id": "c03954a5",
   "metadata": {
    "execution": {
     "iopub.execute_input": "2022-03-06T16:59:02.543319Z",
     "iopub.status.busy": "2022-03-06T16:59:02.542779Z",
     "iopub.status.idle": "2022-03-06T16:59:02.546355Z",
     "shell.execute_reply": "2022-03-06T16:59:02.545882Z"
    },
    "papermill": {
     "duration": 0.056827,
     "end_time": "2022-03-06T16:59:02.546466",
     "exception": false,
     "start_time": "2022-03-06T16:59:02.489639",
     "status": "completed"
    },
    "tags": []
   },
   "outputs": [],
   "source": [
    "df.rename(columns={0:'Labels',1:'Text'},inplace=True)\n",
    "df_test.rename(columns={0:'Labels',1:'Text'},inplace=True)\n",
    "df_test = df_test[['Text','Labels']]\n",
    "df_eval.rename(columns={0:'Labels',1:'Text'},inplace=True)\n",
    "df_eval = df_eval[['Text','Labels']]"
   ]
  },
  {
   "cell_type": "code",
   "execution_count": 5,
   "id": "37c9cd87",
   "metadata": {
    "execution": {
     "iopub.execute_input": "2022-03-06T16:59:02.633350Z",
     "iopub.status.busy": "2022-03-06T16:59:02.632496Z",
     "iopub.status.idle": "2022-03-06T16:59:02.648781Z",
     "shell.execute_reply": "2022-03-06T16:59:02.649250Z"
    },
    "papermill": {
     "duration": 0.06377,
     "end_time": "2022-03-06T16:59:02.649413",
     "exception": false,
     "start_time": "2022-03-06T16:59:02.585643",
     "status": "completed"
    },
    "tags": []
   },
   "outputs": [
    {
     "data": {
      "text/plain": [
       "8"
      ]
     },
     "execution_count": 5,
     "metadata": {},
     "output_type": "execute_result"
    }
   ],
   "source": [
    "num_labels = len(df['Labels'].unique())\n",
    "keys = list(df['Labels'].unique())\n",
    "values = list(range(0, num_labels))\n",
    "label_dict = dict(zip(keys,values))\n",
    "df['Labels'] = df['Labels'].apply(lambda x:label_dict[x])\n",
    "df_test['Labels'] = df_test['Labels'].apply(lambda x:label_dict[x])\n",
    "df_eval['Labels'] = df_eval['Labels'].apply(lambda x:label_dict[x])\n",
    "num_labels"
   ]
  },
  {
   "cell_type": "code",
   "execution_count": 6,
   "id": "25290dc3",
   "metadata": {
    "execution": {
     "iopub.execute_input": "2022-03-06T16:59:02.737154Z",
     "iopub.status.busy": "2022-03-06T16:59:02.736588Z",
     "iopub.status.idle": "2022-03-06T16:59:02.743718Z",
     "shell.execute_reply": "2022-03-06T16:59:02.743194Z"
    },
    "papermill": {
     "duration": 0.053875,
     "end_time": "2022-03-06T16:59:02.743855",
     "exception": false,
     "start_time": "2022-03-06T16:59:02.689980",
     "status": "completed"
    },
    "tags": []
   },
   "outputs": [],
   "source": [
    "df_test = df_test.dropna()\n",
    "df_test = df_test.reset_index().drop(['index'],axis=1)"
   ]
  },
  {
   "cell_type": "code",
   "execution_count": 7,
   "id": "50bb8a6e",
   "metadata": {
    "execution": {
     "iopub.execute_input": "2022-03-06T16:59:02.832972Z",
     "iopub.status.busy": "2022-03-06T16:59:02.832167Z",
     "iopub.status.idle": "2022-03-06T16:59:02.837894Z",
     "shell.execute_reply": "2022-03-06T16:59:02.838267Z"
    },
    "papermill": {
     "duration": 0.053453,
     "end_time": "2022-03-06T16:59:02.838398",
     "exception": false,
     "start_time": "2022-03-06T16:59:02.784945",
     "status": "completed"
    },
    "tags": []
   },
   "outputs": [],
   "source": [
    "df = df.dropna()\n",
    "df = df.reset_index().drop(['index'],axis=1)"
   ]
  },
  {
   "cell_type": "code",
   "execution_count": 8,
   "id": "1094ac74",
   "metadata": {
    "execution": {
     "iopub.execute_input": "2022-03-06T16:59:02.924071Z",
     "iopub.status.busy": "2022-03-06T16:59:02.918850Z",
     "iopub.status.idle": "2022-03-06T16:59:02.926958Z",
     "shell.execute_reply": "2022-03-06T16:59:02.927366Z"
    },
    "papermill": {
     "duration": 0.050199,
     "end_time": "2022-03-06T16:59:02.927494",
     "exception": false,
     "start_time": "2022-03-06T16:59:02.877295",
     "status": "completed"
    },
    "tags": []
   },
   "outputs": [],
   "source": [
    "df_eval = df_eval.dropna()\n",
    "df_eval = df_eval.reset_index().drop(['index'],axis=1)"
   ]
  },
  {
   "cell_type": "markdown",
   "id": "ea308140",
   "metadata": {
    "papermill": {
     "duration": 0.038824,
     "end_time": "2022-03-06T16:59:03.004956",
     "exception": false,
     "start_time": "2022-03-06T16:59:02.966132",
     "status": "completed"
    },
    "tags": []
   },
   "source": [
    "# Getting Sentence Encodings with Context using Bert"
   ]
  },
  {
   "cell_type": "code",
   "execution_count": 9,
   "id": "8d723ff0",
   "metadata": {
    "execution": {
     "iopub.execute_input": "2022-03-06T16:59:03.088037Z",
     "iopub.status.busy": "2022-03-06T16:59:03.087251Z",
     "iopub.status.idle": "2022-03-06T16:59:29.869338Z",
     "shell.execute_reply": "2022-03-06T16:59:29.868782Z"
    },
    "papermill": {
     "duration": 26.825845,
     "end_time": "2022-03-06T16:59:29.869461",
     "exception": false,
     "start_time": "2022-03-06T16:59:03.043616",
     "status": "completed"
    },
    "tags": []
   },
   "outputs": [
    {
     "data": {
      "application/vnd.jupyter.widget-view+json": {
       "model_id": "eaa196fefb61432b96ae24de1618c4f3",
       "version_major": 2,
       "version_minor": 0
      },
      "text/plain": [
       "Downloading:   0%|          | 0.00/625 [00:00<?, ?B/s]"
      ]
     },
     "metadata": {},
     "output_type": "display_data"
    },
    {
     "data": {
      "application/vnd.jupyter.widget-view+json": {
       "model_id": "0b633ab9537943a89d47eaa89645f38a",
       "version_major": 2,
       "version_minor": 0
      },
      "text/plain": [
       "Downloading:   0%|          | 0.00/681M [00:00<?, ?B/s]"
      ]
     },
     "metadata": {},
     "output_type": "display_data"
    },
    {
     "name": "stderr",
     "output_type": "stream",
     "text": [
      "Some weights of the model checkpoint at bert-base-multilingual-cased were not used when initializing BertForTextRepresentation: ['cls.predictions.decoder.weight', 'cls.predictions.transform.LayerNorm.weight', 'cls.seq_relationship.weight', 'cls.predictions.transform.LayerNorm.bias', 'cls.predictions.transform.dense.bias', 'cls.predictions.bias', 'cls.seq_relationship.bias', 'cls.predictions.transform.dense.weight']\n",
      "- This IS expected if you are initializing BertForTextRepresentation from the checkpoint of a model trained on another task or with another architecture (e.g. initializing a BertForSequenceClassification model from a BertForPreTraining model).\n",
      "- This IS NOT expected if you are initializing BertForTextRepresentation from the checkpoint of a model that you expect to be exactly identical (initializing a BertForSequenceClassification model from a BertForSequenceClassification model).\n"
     ]
    },
    {
     "data": {
      "application/vnd.jupyter.widget-view+json": {
       "model_id": "bb0384edd6c14a9ba54b13f30641cc64",
       "version_major": 2,
       "version_minor": 0
      },
      "text/plain": [
       "Downloading:   0%|          | 0.00/972k [00:00<?, ?B/s]"
      ]
     },
     "metadata": {},
     "output_type": "display_data"
    },
    {
     "data": {
      "application/vnd.jupyter.widget-view+json": {
       "model_id": "321cc9466b0f43c1a2e9729973d4f20a",
       "version_major": 2,
       "version_minor": 0
      },
      "text/plain": [
       "Downloading:   0%|          | 0.00/29.0 [00:00<?, ?B/s]"
      ]
     },
     "metadata": {},
     "output_type": "display_data"
    },
    {
     "data": {
      "application/vnd.jupyter.widget-view+json": {
       "model_id": "87b7874a8d1c4b8d827649a36d10d9e0",
       "version_major": 2,
       "version_minor": 0
      },
      "text/plain": [
       "Downloading:   0%|          | 0.00/1.87M [00:00<?, ?B/s]"
      ]
     },
     "metadata": {},
     "output_type": "display_data"
    }
   ],
   "source": [
    "model = RepresentationModel(\n",
    "        model_type=\"bert\",\n",
    "        model_name=\"bert-base-multilingual-cased\",\n",
    "        use_cuda=True\n",
    "    )"
   ]
  },
  {
   "cell_type": "code",
   "execution_count": 10,
   "id": "14d54393",
   "metadata": {
    "execution": {
     "iopub.execute_input": "2022-03-06T16:59:29.961629Z",
     "iopub.status.busy": "2022-03-06T16:59:29.961086Z",
     "iopub.status.idle": "2022-03-06T16:59:56.096908Z",
     "shell.execute_reply": "2022-03-06T16:59:56.096426Z"
    },
    "papermill": {
     "duration": 26.184964,
     "end_time": "2022-03-06T16:59:56.097052",
     "exception": false,
     "start_time": "2022-03-06T16:59:29.912088",
     "status": "completed"
    },
    "tags": []
   },
   "outputs": [],
   "source": [
    "train_sentence_vectors = model.encode_sentences(df['Text'].to_list(), combine_strategy=\"mean\")"
   ]
  },
  {
   "cell_type": "code",
   "execution_count": 11,
   "id": "16731a50",
   "metadata": {
    "execution": {
     "iopub.execute_input": "2022-03-06T16:59:56.196872Z",
     "iopub.status.busy": "2022-03-06T16:59:56.196050Z",
     "iopub.status.idle": "2022-03-06T17:00:02.038682Z",
     "shell.execute_reply": "2022-03-06T17:00:02.037237Z"
    },
    "papermill": {
     "duration": 5.894502,
     "end_time": "2022-03-06T17:00:02.039043",
     "exception": false,
     "start_time": "2022-03-06T16:59:56.144541",
     "status": "completed"
    },
    "tags": []
   },
   "outputs": [],
   "source": [
    "eval_sentences = df_eval['Text'].to_list()\n",
    "eval_sentence_vectors = model.encode_sentences(eval_sentences, combine_strategy=\"mean\")"
   ]
  },
  {
   "cell_type": "code",
   "execution_count": 12,
   "id": "771b791a",
   "metadata": {
    "execution": {
     "iopub.execute_input": "2022-03-06T17:00:02.192757Z",
     "iopub.status.busy": "2022-03-06T17:00:02.191985Z",
     "iopub.status.idle": "2022-03-06T17:00:09.499794Z",
     "shell.execute_reply": "2022-03-06T17:00:09.499339Z"
    },
    "papermill": {
     "duration": 7.38821,
     "end_time": "2022-03-06T17:00:09.499955",
     "exception": false,
     "start_time": "2022-03-06T17:00:02.111745",
     "status": "completed"
    },
    "tags": []
   },
   "outputs": [],
   "source": [
    "test_sentences = df_test['Text'].to_list()\n",
    "test_sentence_vectors = model.encode_sentences(test_sentences, combine_strategy=\"mean\")"
   ]
  },
  {
   "cell_type": "code",
   "execution_count": 13,
   "id": "2bd2c601",
   "metadata": {
    "execution": {
     "iopub.execute_input": "2022-03-06T17:00:09.591982Z",
     "iopub.status.busy": "2022-03-06T17:00:09.591290Z",
     "iopub.status.idle": "2022-03-06T17:00:09.594045Z",
     "shell.execute_reply": "2022-03-06T17:00:09.594454Z"
    },
    "papermill": {
     "duration": 0.051618,
     "end_time": "2022-03-06T17:00:09.594590",
     "exception": false,
     "start_time": "2022-03-06T17:00:09.542972",
     "status": "completed"
    },
    "tags": []
   },
   "outputs": [
    {
     "data": {
      "text/plain": [
       "(5943, 768)"
      ]
     },
     "execution_count": 13,
     "metadata": {},
     "output_type": "execute_result"
    }
   ],
   "source": [
    "train_sentence_vectors.shape"
   ]
  },
  {
   "cell_type": "markdown",
   "id": "d22d5779",
   "metadata": {
    "papermill": {
     "duration": 0.044293,
     "end_time": "2022-03-06T17:00:09.682035",
     "exception": false,
     "start_time": "2022-03-06T17:00:09.637742",
     "status": "completed"
    },
    "tags": []
   },
   "source": [
    "# Model Training"
   ]
  },
  {
   "cell_type": "markdown",
   "id": "54c155eb",
   "metadata": {
    "execution": {
     "iopub.execute_input": "2022-01-29T07:39:37.230723Z",
     "iopub.status.busy": "2022-01-29T07:39:37.229738Z",
     "iopub.status.idle": "2022-01-29T07:39:37.236298Z",
     "shell.execute_reply": "2022-01-29T07:39:37.235567Z",
     "shell.execute_reply.started": "2022-01-29T07:39:37.230671Z"
    },
    "papermill": {
     "duration": 0.043069,
     "end_time": "2022-03-06T17:00:09.768415",
     "exception": false,
     "start_time": "2022-03-06T17:00:09.725346",
     "status": "completed"
    },
    "tags": []
   },
   "source": [
    "## Logistic Regression"
   ]
  },
  {
   "cell_type": "code",
   "execution_count": 14,
   "id": "92e20ec1",
   "metadata": {
    "execution": {
     "iopub.execute_input": "2022-03-06T17:00:09.859498Z",
     "iopub.status.busy": "2022-03-06T17:00:09.858680Z",
     "iopub.status.idle": "2022-03-06T17:00:09.861154Z",
     "shell.execute_reply": "2022-03-06T17:00:09.860701Z"
    },
    "papermill": {
     "duration": 0.049505,
     "end_time": "2022-03-06T17:00:09.861264",
     "exception": false,
     "start_time": "2022-03-06T17:00:09.811759",
     "status": "completed"
    },
    "tags": []
   },
   "outputs": [],
   "source": [
    "import warnings\n",
    "warnings.simplefilter(action='ignore', category=FutureWarning)"
   ]
  },
  {
   "cell_type": "markdown",
   "id": "14ce8af3",
   "metadata": {
    "papermill": {
     "duration": 0.043572,
     "end_time": "2022-03-06T17:00:09.947919",
     "exception": false,
     "start_time": "2022-03-06T17:00:09.904347",
     "status": "completed"
    },
    "tags": []
   },
   "source": [
    "#### Grid Search CV"
   ]
  },
  {
   "cell_type": "code",
   "execution_count": 15,
   "id": "a5fb8493",
   "metadata": {
    "execution": {
     "iopub.execute_input": "2022-03-06T17:00:10.039756Z",
     "iopub.status.busy": "2022-03-06T17:00:10.038962Z",
     "iopub.status.idle": "2022-03-06T17:00:10.040946Z",
     "shell.execute_reply": "2022-03-06T17:00:10.041363Z"
    },
    "papermill": {
     "duration": 0.05061,
     "end_time": "2022-03-06T17:00:10.041516",
     "exception": false,
     "start_time": "2022-03-06T17:00:09.990906",
     "status": "completed"
    },
    "tags": []
   },
   "outputs": [],
   "source": [
    "combined_df = pd.concat([df,df_eval],ignore_index=True)"
   ]
  },
  {
   "cell_type": "code",
   "execution_count": 16,
   "id": "a59adf6b",
   "metadata": {
    "execution": {
     "iopub.execute_input": "2022-03-06T17:00:10.131547Z",
     "iopub.status.busy": "2022-03-06T17:00:10.130411Z",
     "iopub.status.idle": "2022-03-06T17:00:10.142096Z",
     "shell.execute_reply": "2022-03-06T17:00:10.141612Z"
    },
    "papermill": {
     "duration": 0.057902,
     "end_time": "2022-03-06T17:00:10.142206",
     "exception": false,
     "start_time": "2022-03-06T17:00:10.084304",
     "status": "completed"
    },
    "tags": []
   },
   "outputs": [
    {
     "data": {
      "text/plain": [
       "(7429, 768)"
      ]
     },
     "execution_count": 16,
     "metadata": {},
     "output_type": "execute_result"
    }
   ],
   "source": [
    "combined_encodings = np.concatenate((train_sentence_vectors, eval_sentence_vectors))\n",
    "combined_encodings.shape"
   ]
  },
  {
   "cell_type": "code",
   "execution_count": 17,
   "id": "f433241c",
   "metadata": {
    "execution": {
     "iopub.execute_input": "2022-03-06T17:00:10.235018Z",
     "iopub.status.busy": "2022-03-06T17:00:10.234119Z",
     "iopub.status.idle": "2022-03-06T17:00:10.235940Z",
     "shell.execute_reply": "2022-03-06T17:00:10.236372Z"
    },
    "papermill": {
     "duration": 0.050153,
     "end_time": "2022-03-06T17:00:10.236512",
     "exception": false,
     "start_time": "2022-03-06T17:00:10.186359",
     "status": "completed"
    },
    "tags": []
   },
   "outputs": [],
   "source": [
    "# warnings.filterwarnings('ignore')\n",
    "# parameters = {\n",
    "#     'penalty' : ['l1','l2'], \n",
    "#     'C'       : [0.01,0.1,1,10,100],\n",
    "#     'solver'  : ['newton-cg', 'lbfgs', 'liblinear']\n",
    "# }\n",
    "\n",
    "# logreg = LogisticRegression()\n",
    "# clf = GridSearchCV(logreg,                    \n",
    "#                    param_grid = parameters,   \n",
    "#                    scoring='f1_weighted',        \n",
    "#                    cv=10)\n",
    "# clf.fit(combined_encodings,combined_df['Labels'].to_list())\n",
    "# print(\"Tuned Hyperparameters :\", clf.best_params_)\n",
    "# print(\"Weighted f1_score :\",clf.best_score_)"
   ]
  },
  {
   "cell_type": "markdown",
   "id": "b9aa73e7",
   "metadata": {
    "papermill": {
     "duration": 0.043424,
     "end_time": "2022-03-06T17:00:10.323772",
     "exception": false,
     "start_time": "2022-03-06T17:00:10.280348",
     "status": "completed"
    },
    "tags": []
   },
   "source": [
    "#### Model Training"
   ]
  },
  {
   "cell_type": "code",
   "execution_count": 18,
   "id": "85d5c484",
   "metadata": {
    "execution": {
     "iopub.execute_input": "2022-03-06T17:00:10.417195Z",
     "iopub.status.busy": "2022-03-06T17:00:10.416354Z",
     "iopub.status.idle": "2022-03-06T17:00:31.243700Z",
     "shell.execute_reply": "2022-03-06T17:00:31.243166Z"
    },
    "papermill": {
     "duration": 20.876258,
     "end_time": "2022-03-06T17:00:31.243849",
     "exception": false,
     "start_time": "2022-03-06T17:00:10.367591",
     "status": "completed"
    },
    "tags": []
   },
   "outputs": [
    {
     "data": {
      "text/plain": [
       "LogisticRegression(multi_class='ovr', penalty='l1', solver='liblinear')"
      ]
     },
     "execution_count": 18,
     "metadata": {},
     "output_type": "execute_result"
    }
   ],
   "source": [
    "lm = LogisticRegression(C=1.0,multi_class='ovr', solver='liblinear',penalty='l1')\n",
    "lm.fit(train_sentence_vectors, df['Labels'].to_list())"
   ]
  },
  {
   "cell_type": "code",
   "execution_count": 19,
   "id": "8d2be4ff",
   "metadata": {
    "execution": {
     "iopub.execute_input": "2022-03-06T17:00:31.337409Z",
     "iopub.status.busy": "2022-03-06T17:00:31.336432Z",
     "iopub.status.idle": "2022-03-06T17:00:31.349778Z",
     "shell.execute_reply": "2022-03-06T17:00:31.350944Z"
    },
    "papermill": {
     "duration": 0.062718,
     "end_time": "2022-03-06T17:00:31.351173",
     "exception": false,
     "start_time": "2022-03-06T17:00:31.288455",
     "status": "completed"
    },
    "tags": []
   },
   "outputs": [],
   "source": [
    "log_test_preds = lm.predict(test_sentence_vectors)"
   ]
  },
  {
   "cell_type": "code",
   "execution_count": 20,
   "id": "4439aeee",
   "metadata": {
    "execution": {
     "iopub.execute_input": "2022-03-06T17:00:31.505160Z",
     "iopub.status.busy": "2022-03-06T17:00:31.504311Z",
     "iopub.status.idle": "2022-03-06T17:00:31.513262Z",
     "shell.execute_reply": "2022-03-06T17:00:31.512792Z"
    },
    "papermill": {
     "duration": 0.079877,
     "end_time": "2022-03-06T17:00:31.513383",
     "exception": false,
     "start_time": "2022-03-06T17:00:31.433506",
     "status": "completed"
    },
    "tags": []
   },
   "outputs": [],
   "source": [
    "report_log = classification_report(df_test['Labels'].to_list(),log_test_preds,output_dict=True)"
   ]
  },
  {
   "cell_type": "code",
   "execution_count": 21,
   "id": "185df216",
   "metadata": {
    "execution": {
     "iopub.execute_input": "2022-03-06T17:00:31.608845Z",
     "iopub.status.busy": "2022-03-06T17:00:31.608096Z",
     "iopub.status.idle": "2022-03-06T17:00:31.621287Z",
     "shell.execute_reply": "2022-03-06T17:00:31.620876Z"
    },
    "papermill": {
     "duration": 0.063839,
     "end_time": "2022-03-06T17:00:31.621396",
     "exception": false,
     "start_time": "2022-03-06T17:00:31.557557",
     "status": "completed"
    },
    "tags": []
   },
   "outputs": [
    {
     "data": {
      "text/html": [
       "<div>\n",
       "<style scoped>\n",
       "    .dataframe tbody tr th:only-of-type {\n",
       "        vertical-align: middle;\n",
       "    }\n",
       "\n",
       "    .dataframe tbody tr th {\n",
       "        vertical-align: top;\n",
       "    }\n",
       "\n",
       "    .dataframe thead th {\n",
       "        text-align: right;\n",
       "    }\n",
       "</style>\n",
       "<table border=\"1\" class=\"dataframe\">\n",
       "  <thead>\n",
       "    <tr style=\"text-align: right;\">\n",
       "      <th></th>\n",
       "      <th>precision</th>\n",
       "      <th>recall</th>\n",
       "      <th>f1-score</th>\n",
       "      <th>support</th>\n",
       "    </tr>\n",
       "  </thead>\n",
       "  <tbody>\n",
       "    <tr>\n",
       "      <th>0</th>\n",
       "      <td>0.743972</td>\n",
       "      <td>0.919369</td>\n",
       "      <td>0.822423</td>\n",
       "      <td>1141.000000</td>\n",
       "    </tr>\n",
       "    <tr>\n",
       "      <th>1</th>\n",
       "      <td>0.222222</td>\n",
       "      <td>0.034483</td>\n",
       "      <td>0.059701</td>\n",
       "      <td>58.000000</td>\n",
       "    </tr>\n",
       "    <tr>\n",
       "      <th>2</th>\n",
       "      <td>0.322581</td>\n",
       "      <td>0.340909</td>\n",
       "      <td>0.331492</td>\n",
       "      <td>88.000000</td>\n",
       "    </tr>\n",
       "    <tr>\n",
       "      <th>3</th>\n",
       "      <td>0.566116</td>\n",
       "      <td>0.469178</td>\n",
       "      <td>0.513109</td>\n",
       "      <td>292.000000</td>\n",
       "    </tr>\n",
       "    <tr>\n",
       "      <th>4</th>\n",
       "      <td>0.357143</td>\n",
       "      <td>0.089286</td>\n",
       "      <td>0.142857</td>\n",
       "      <td>56.000000</td>\n",
       "    </tr>\n",
       "    <tr>\n",
       "      <th>5</th>\n",
       "      <td>0.333333</td>\n",
       "      <td>0.085714</td>\n",
       "      <td>0.136364</td>\n",
       "      <td>70.000000</td>\n",
       "    </tr>\n",
       "    <tr>\n",
       "      <th>6</th>\n",
       "      <td>0.728814</td>\n",
       "      <td>0.452632</td>\n",
       "      <td>0.558442</td>\n",
       "      <td>95.000000</td>\n",
       "    </tr>\n",
       "    <tr>\n",
       "      <th>7</th>\n",
       "      <td>0.250000</td>\n",
       "      <td>0.052632</td>\n",
       "      <td>0.086957</td>\n",
       "      <td>57.000000</td>\n",
       "    </tr>\n",
       "    <tr>\n",
       "      <th>accuracy</th>\n",
       "      <td>0.686591</td>\n",
       "      <td>0.686591</td>\n",
       "      <td>0.686591</td>\n",
       "      <td>0.686591</td>\n",
       "    </tr>\n",
       "    <tr>\n",
       "      <th>macro avg</th>\n",
       "      <td>0.440522</td>\n",
       "      <td>0.305525</td>\n",
       "      <td>0.331418</td>\n",
       "      <td>1857.000000</td>\n",
       "    </tr>\n",
       "    <tr>\n",
       "      <th>weighted avg</th>\n",
       "      <td>0.636658</td>\n",
       "      <td>0.686591</td>\n",
       "      <td>0.644265</td>\n",
       "      <td>1857.000000</td>\n",
       "    </tr>\n",
       "  </tbody>\n",
       "</table>\n",
       "</div>"
      ],
      "text/plain": [
       "              precision    recall  f1-score      support\n",
       "0              0.743972  0.919369  0.822423  1141.000000\n",
       "1              0.222222  0.034483  0.059701    58.000000\n",
       "2              0.322581  0.340909  0.331492    88.000000\n",
       "3              0.566116  0.469178  0.513109   292.000000\n",
       "4              0.357143  0.089286  0.142857    56.000000\n",
       "5              0.333333  0.085714  0.136364    70.000000\n",
       "6              0.728814  0.452632  0.558442    95.000000\n",
       "7              0.250000  0.052632  0.086957    57.000000\n",
       "accuracy       0.686591  0.686591  0.686591     0.686591\n",
       "macro avg      0.440522  0.305525  0.331418  1857.000000\n",
       "weighted avg   0.636658  0.686591  0.644265  1857.000000"
      ]
     },
     "execution_count": 21,
     "metadata": {},
     "output_type": "execute_result"
    }
   ],
   "source": [
    "df_log = pd.DataFrame(report_log).transpose()\n",
    "df_log"
   ]
  },
  {
   "cell_type": "markdown",
   "id": "27565296",
   "metadata": {
    "papermill": {
     "duration": 0.044888,
     "end_time": "2022-03-06T17:00:31.711163",
     "exception": false,
     "start_time": "2022-03-06T17:00:31.666275",
     "status": "completed"
    },
    "tags": []
   },
   "source": [
    "## Decision Trees"
   ]
  },
  {
   "cell_type": "markdown",
   "id": "c4f5e09c",
   "metadata": {
    "papermill": {
     "duration": 0.045655,
     "end_time": "2022-03-06T17:00:31.802139",
     "exception": false,
     "start_time": "2022-03-06T17:00:31.756484",
     "status": "completed"
    },
    "tags": []
   },
   "source": [
    "#### Grid Search CV"
   ]
  },
  {
   "cell_type": "code",
   "execution_count": 22,
   "id": "0354fe25",
   "metadata": {
    "execution": {
     "iopub.execute_input": "2022-03-06T17:00:31.896839Z",
     "iopub.status.busy": "2022-03-06T17:00:31.896153Z",
     "iopub.status.idle": "2022-03-06T17:00:31.898308Z",
     "shell.execute_reply": "2022-03-06T17:00:31.898738Z"
    },
    "papermill": {
     "duration": 0.051734,
     "end_time": "2022-03-06T17:00:31.898881",
     "exception": false,
     "start_time": "2022-03-06T17:00:31.847147",
     "status": "completed"
    },
    "tags": []
   },
   "outputs": [],
   "source": [
    "# warnings.filterwarnings('ignore')\n",
    "# params = {'max_leaf_nodes': list(range(2, 100)), 'min_samples_split': [2, 3, 4]}\n",
    "# grid_search_cv = GridSearchCV(DecisionTreeClassifier(random_state=42), params, scoring='f1_weighted',verbose=1, cv=5)\n",
    "# grid_search_cv.fit(combined_encodings,combined_df['Labels'].to_list())\n",
    "# print(\"Tuned Hyperparameters :\", grid_search_cv.best_params_)\n",
    "# print(\"Weighted f1_score :\",grid_search_cv.best_score_)"
   ]
  },
  {
   "cell_type": "markdown",
   "id": "3e365435",
   "metadata": {
    "papermill": {
     "duration": 0.045215,
     "end_time": "2022-03-06T17:00:31.998288",
     "exception": false,
     "start_time": "2022-03-06T17:00:31.953073",
     "status": "completed"
    },
    "tags": []
   },
   "source": [
    "Tuned Hyperparameters : {'max_leaf_nodes': 42, 'min_samples_split': 2}\n",
    "Weighted f1_score : 0.5224775860387323"
   ]
  },
  {
   "cell_type": "markdown",
   "id": "2d1c4cc6",
   "metadata": {
    "papermill": {
     "duration": 0.044953,
     "end_time": "2022-03-06T17:00:32.088158",
     "exception": false,
     "start_time": "2022-03-06T17:00:32.043205",
     "status": "completed"
    },
    "tags": []
   },
   "source": [
    "#### Model Training"
   ]
  },
  {
   "cell_type": "code",
   "execution_count": 23,
   "id": "86f0d6c4",
   "metadata": {
    "execution": {
     "iopub.execute_input": "2022-03-06T17:00:32.184311Z",
     "iopub.status.busy": "2022-03-06T17:00:32.183436Z",
     "iopub.status.idle": "2022-03-06T17:00:35.460390Z",
     "shell.execute_reply": "2022-03-06T17:00:35.461511Z"
    },
    "papermill": {
     "duration": 3.32825,
     "end_time": "2022-03-06T17:00:35.461713",
     "exception": false,
     "start_time": "2022-03-06T17:00:32.133463",
     "status": "completed"
    },
    "tags": []
   },
   "outputs": [],
   "source": [
    "dtree_model = DecisionTreeClassifier(max_leaf_nodes=42,min_samples_split=2).fit(train_sentence_vectors, df['Labels'].to_list())"
   ]
  },
  {
   "cell_type": "code",
   "execution_count": 24,
   "id": "423a25a9",
   "metadata": {
    "execution": {
     "iopub.execute_input": "2022-03-06T17:00:35.572523Z",
     "iopub.status.busy": "2022-03-06T17:00:35.571724Z",
     "iopub.status.idle": "2022-03-06T17:00:35.595726Z",
     "shell.execute_reply": "2022-03-06T17:00:35.595131Z"
    },
    "papermill": {
     "duration": 0.073845,
     "end_time": "2022-03-06T17:00:35.595883",
     "exception": false,
     "start_time": "2022-03-06T17:00:35.522038",
     "status": "completed"
    },
    "tags": []
   },
   "outputs": [
    {
     "name": "stderr",
     "output_type": "stream",
     "text": [
      "/opt/conda/lib/python3.7/site-packages/sklearn/metrics/_classification.py:1308: UndefinedMetricWarning: Precision and F-score are ill-defined and being set to 0.0 in labels with no predicted samples. Use `zero_division` parameter to control this behavior.\n",
      "  _warn_prf(average, modifier, msg_start, len(result))\n",
      "/opt/conda/lib/python3.7/site-packages/sklearn/metrics/_classification.py:1308: UndefinedMetricWarning: Precision and F-score are ill-defined and being set to 0.0 in labels with no predicted samples. Use `zero_division` parameter to control this behavior.\n",
      "  _warn_prf(average, modifier, msg_start, len(result))\n",
      "/opt/conda/lib/python3.7/site-packages/sklearn/metrics/_classification.py:1308: UndefinedMetricWarning: Precision and F-score are ill-defined and being set to 0.0 in labels with no predicted samples. Use `zero_division` parameter to control this behavior.\n",
      "  _warn_prf(average, modifier, msg_start, len(result))\n"
     ]
    },
    {
     "data": {
      "text/html": [
       "<div>\n",
       "<style scoped>\n",
       "    .dataframe tbody tr th:only-of-type {\n",
       "        vertical-align: middle;\n",
       "    }\n",
       "\n",
       "    .dataframe tbody tr th {\n",
       "        vertical-align: top;\n",
       "    }\n",
       "\n",
       "    .dataframe thead th {\n",
       "        text-align: right;\n",
       "    }\n",
       "</style>\n",
       "<table border=\"1\" class=\"dataframe\">\n",
       "  <thead>\n",
       "    <tr style=\"text-align: right;\">\n",
       "      <th></th>\n",
       "      <th>precision</th>\n",
       "      <th>recall</th>\n",
       "      <th>f1-score</th>\n",
       "      <th>support</th>\n",
       "    </tr>\n",
       "  </thead>\n",
       "  <tbody>\n",
       "    <tr>\n",
       "      <th>0</th>\n",
       "      <td>0.650179</td>\n",
       "      <td>0.956179</td>\n",
       "      <td>0.774033</td>\n",
       "      <td>1141.000000</td>\n",
       "    </tr>\n",
       "    <tr>\n",
       "      <th>1</th>\n",
       "      <td>0.000000</td>\n",
       "      <td>0.000000</td>\n",
       "      <td>0.000000</td>\n",
       "      <td>58.000000</td>\n",
       "    </tr>\n",
       "    <tr>\n",
       "      <th>2</th>\n",
       "      <td>0.242424</td>\n",
       "      <td>0.181818</td>\n",
       "      <td>0.207792</td>\n",
       "      <td>88.000000</td>\n",
       "    </tr>\n",
       "    <tr>\n",
       "      <th>3</th>\n",
       "      <td>0.469027</td>\n",
       "      <td>0.181507</td>\n",
       "      <td>0.261728</td>\n",
       "      <td>292.000000</td>\n",
       "    </tr>\n",
       "    <tr>\n",
       "      <th>4</th>\n",
       "      <td>0.000000</td>\n",
       "      <td>0.000000</td>\n",
       "      <td>0.000000</td>\n",
       "      <td>56.000000</td>\n",
       "    </tr>\n",
       "    <tr>\n",
       "      <th>5</th>\n",
       "      <td>0.000000</td>\n",
       "      <td>0.000000</td>\n",
       "      <td>0.000000</td>\n",
       "      <td>70.000000</td>\n",
       "    </tr>\n",
       "    <tr>\n",
       "      <th>6</th>\n",
       "      <td>0.000000</td>\n",
       "      <td>0.000000</td>\n",
       "      <td>0.000000</td>\n",
       "      <td>95.000000</td>\n",
       "    </tr>\n",
       "    <tr>\n",
       "      <th>7</th>\n",
       "      <td>0.000000</td>\n",
       "      <td>0.000000</td>\n",
       "      <td>0.000000</td>\n",
       "      <td>57.000000</td>\n",
       "    </tr>\n",
       "    <tr>\n",
       "      <th>accuracy</th>\n",
       "      <td>0.624663</td>\n",
       "      <td>0.624663</td>\n",
       "      <td>0.624663</td>\n",
       "      <td>0.624663</td>\n",
       "    </tr>\n",
       "    <tr>\n",
       "      <th>macro avg</th>\n",
       "      <td>0.170204</td>\n",
       "      <td>0.164938</td>\n",
       "      <td>0.155444</td>\n",
       "      <td>1857.000000</td>\n",
       "    </tr>\n",
       "    <tr>\n",
       "      <th>weighted avg</th>\n",
       "      <td>0.484730</td>\n",
       "      <td>0.624663</td>\n",
       "      <td>0.526593</td>\n",
       "      <td>1857.000000</td>\n",
       "    </tr>\n",
       "  </tbody>\n",
       "</table>\n",
       "</div>"
      ],
      "text/plain": [
       "              precision    recall  f1-score      support\n",
       "0              0.650179  0.956179  0.774033  1141.000000\n",
       "1              0.000000  0.000000  0.000000    58.000000\n",
       "2              0.242424  0.181818  0.207792    88.000000\n",
       "3              0.469027  0.181507  0.261728   292.000000\n",
       "4              0.000000  0.000000  0.000000    56.000000\n",
       "5              0.000000  0.000000  0.000000    70.000000\n",
       "6              0.000000  0.000000  0.000000    95.000000\n",
       "7              0.000000  0.000000  0.000000    57.000000\n",
       "accuracy       0.624663  0.624663  0.624663     0.624663\n",
       "macro avg      0.170204  0.164938  0.155444  1857.000000\n",
       "weighted avg   0.484730  0.624663  0.526593  1857.000000"
      ]
     },
     "execution_count": 24,
     "metadata": {},
     "output_type": "execute_result"
    }
   ],
   "source": [
    "tree_preds = dtree_model.predict(test_sentence_vectors)\n",
    "report = classification_report(df_test['Labels'].to_list(),tree_preds,output_dict=True)\n",
    "final_report = pd.DataFrame(report).transpose()\n",
    "final_report"
   ]
  },
  {
   "cell_type": "markdown",
   "id": "3f858bc1",
   "metadata": {
    "papermill": {
     "duration": 0.045892,
     "end_time": "2022-03-06T17:00:35.690287",
     "exception": false,
     "start_time": "2022-03-06T17:00:35.644395",
     "status": "completed"
    },
    "tags": []
   },
   "source": [
    "## SVC"
   ]
  },
  {
   "cell_type": "markdown",
   "id": "f9bb96f9",
   "metadata": {
    "papermill": {
     "duration": 0.046263,
     "end_time": "2022-03-06T17:00:35.782935",
     "exception": false,
     "start_time": "2022-03-06T17:00:35.736672",
     "status": "completed"
    },
    "tags": []
   },
   "source": [
    "#### Grid Search CV"
   ]
  },
  {
   "cell_type": "code",
   "execution_count": 25,
   "id": "fb81a643",
   "metadata": {
    "execution": {
     "iopub.execute_input": "2022-03-06T17:00:35.881746Z",
     "iopub.status.busy": "2022-03-06T17:00:35.880858Z",
     "iopub.status.idle": "2022-03-06T17:00:35.883230Z",
     "shell.execute_reply": "2022-03-06T17:00:35.882684Z"
    },
    "papermill": {
     "duration": 0.053014,
     "end_time": "2022-03-06T17:00:35.883351",
     "exception": false,
     "start_time": "2022-03-06T17:00:35.830337",
     "status": "completed"
    },
    "tags": []
   },
   "outputs": [],
   "source": [
    "# param_grid = {'C': [0.1, 1, 10, 100, 1000],\n",
    "#               'gamma': [1, 0.1, 0.01, 0.001, 0.0001],\n",
    "#               'kernel': ['rbf','linear','poly','sigmoid']}\n",
    "# grid = GridSearchCV(SVC(), param_grid, scoring='f1_weighted',cv=5)\n",
    "# grid.fit(combined_encodings,combined_df['Labels'].to_list())\n",
    "# print(\"Tuned Hyperparameters :\", grid.best_params_)\n",
    "# print(\"Weighted f1_score :\",grid.best_score_)"
   ]
  },
  {
   "cell_type": "markdown",
   "id": "b201416c",
   "metadata": {
    "papermill": {
     "duration": 0.048282,
     "end_time": "2022-03-06T17:00:35.978496",
     "exception": false,
     "start_time": "2022-03-06T17:00:35.930214",
     "status": "completed"
    },
    "tags": []
   },
   "source": [
    "Tuned Hyperparameters : {'C': 10, 'gamma': 0.01, 'kernel': 'rbf'}\n",
    "Weighted f1_score : 0.615556790854965"
   ]
  },
  {
   "cell_type": "markdown",
   "id": "ab6764fe",
   "metadata": {
    "papermill": {
     "duration": 0.04646,
     "end_time": "2022-03-06T17:00:36.074752",
     "exception": false,
     "start_time": "2022-03-06T17:00:36.028292",
     "status": "completed"
    },
    "tags": []
   },
   "source": [
    "#### Model Training"
   ]
  },
  {
   "cell_type": "code",
   "execution_count": 26,
   "id": "e76cd7b5",
   "metadata": {
    "execution": {
     "iopub.execute_input": "2022-03-06T17:00:36.174112Z",
     "iopub.status.busy": "2022-03-06T17:00:36.172980Z",
     "iopub.status.idle": "2022-03-06T17:00:48.683112Z",
     "shell.execute_reply": "2022-03-06T17:00:48.682606Z"
    },
    "papermill": {
     "duration": 12.561901,
     "end_time": "2022-03-06T17:00:48.683255",
     "exception": false,
     "start_time": "2022-03-06T17:00:36.121354",
     "status": "completed"
    },
    "tags": []
   },
   "outputs": [],
   "source": [
    "svm = SVC(C=10,gamma=0.01,kernel='rbf').fit(train_sentence_vectors,df['Labels'].to_list())"
   ]
  },
  {
   "cell_type": "code",
   "execution_count": 27,
   "id": "55d30894",
   "metadata": {
    "execution": {
     "iopub.execute_input": "2022-03-06T17:00:48.783129Z",
     "iopub.status.busy": "2022-03-06T17:00:48.782256Z",
     "iopub.status.idle": "2022-03-06T17:00:53.671523Z",
     "shell.execute_reply": "2022-03-06T17:00:53.671080Z"
    },
    "papermill": {
     "duration": 4.941305,
     "end_time": "2022-03-06T17:00:53.671651",
     "exception": false,
     "start_time": "2022-03-06T17:00:48.730346",
     "status": "completed"
    },
    "tags": []
   },
   "outputs": [
    {
     "data": {
      "text/html": [
       "<div>\n",
       "<style scoped>\n",
       "    .dataframe tbody tr th:only-of-type {\n",
       "        vertical-align: middle;\n",
       "    }\n",
       "\n",
       "    .dataframe tbody tr th {\n",
       "        vertical-align: top;\n",
       "    }\n",
       "\n",
       "    .dataframe thead th {\n",
       "        text-align: right;\n",
       "    }\n",
       "</style>\n",
       "<table border=\"1\" class=\"dataframe\">\n",
       "  <thead>\n",
       "    <tr style=\"text-align: right;\">\n",
       "      <th></th>\n",
       "      <th>precision</th>\n",
       "      <th>recall</th>\n",
       "      <th>f1-score</th>\n",
       "      <th>support</th>\n",
       "    </tr>\n",
       "  </thead>\n",
       "  <tbody>\n",
       "    <tr>\n",
       "      <th>0</th>\n",
       "      <td>0.739649</td>\n",
       "      <td>0.923751</td>\n",
       "      <td>0.821512</td>\n",
       "      <td>1141.000000</td>\n",
       "    </tr>\n",
       "    <tr>\n",
       "      <th>1</th>\n",
       "      <td>0.400000</td>\n",
       "      <td>0.034483</td>\n",
       "      <td>0.063492</td>\n",
       "      <td>58.000000</td>\n",
       "    </tr>\n",
       "    <tr>\n",
       "      <th>2</th>\n",
       "      <td>0.312500</td>\n",
       "      <td>0.340909</td>\n",
       "      <td>0.326087</td>\n",
       "      <td>88.000000</td>\n",
       "    </tr>\n",
       "    <tr>\n",
       "      <th>3</th>\n",
       "      <td>0.598291</td>\n",
       "      <td>0.479452</td>\n",
       "      <td>0.532319</td>\n",
       "      <td>292.000000</td>\n",
       "    </tr>\n",
       "    <tr>\n",
       "      <th>4</th>\n",
       "      <td>0.461538</td>\n",
       "      <td>0.107143</td>\n",
       "      <td>0.173913</td>\n",
       "      <td>56.000000</td>\n",
       "    </tr>\n",
       "    <tr>\n",
       "      <th>5</th>\n",
       "      <td>0.166667</td>\n",
       "      <td>0.042857</td>\n",
       "      <td>0.068182</td>\n",
       "      <td>70.000000</td>\n",
       "    </tr>\n",
       "    <tr>\n",
       "      <th>6</th>\n",
       "      <td>0.754717</td>\n",
       "      <td>0.421053</td>\n",
       "      <td>0.540541</td>\n",
       "      <td>95.000000</td>\n",
       "    </tr>\n",
       "    <tr>\n",
       "      <th>7</th>\n",
       "      <td>0.230769</td>\n",
       "      <td>0.052632</td>\n",
       "      <td>0.085714</td>\n",
       "      <td>57.000000</td>\n",
       "    </tr>\n",
       "    <tr>\n",
       "      <th>accuracy</th>\n",
       "      <td>0.688207</td>\n",
       "      <td>0.688207</td>\n",
       "      <td>0.688207</td>\n",
       "      <td>0.688207</td>\n",
       "    </tr>\n",
       "    <tr>\n",
       "      <th>macro avg</th>\n",
       "      <td>0.458016</td>\n",
       "      <td>0.300285</td>\n",
       "      <td>0.326470</td>\n",
       "      <td>1857.000000</td>\n",
       "    </tr>\n",
       "    <tr>\n",
       "      <th>weighted avg</th>\n",
       "      <td>0.641737</td>\n",
       "      <td>0.688207</td>\n",
       "      <td>0.644001</td>\n",
       "      <td>1857.000000</td>\n",
       "    </tr>\n",
       "  </tbody>\n",
       "</table>\n",
       "</div>"
      ],
      "text/plain": [
       "              precision    recall  f1-score      support\n",
       "0              0.739649  0.923751  0.821512  1141.000000\n",
       "1              0.400000  0.034483  0.063492    58.000000\n",
       "2              0.312500  0.340909  0.326087    88.000000\n",
       "3              0.598291  0.479452  0.532319   292.000000\n",
       "4              0.461538  0.107143  0.173913    56.000000\n",
       "5              0.166667  0.042857  0.068182    70.000000\n",
       "6              0.754717  0.421053  0.540541    95.000000\n",
       "7              0.230769  0.052632  0.085714    57.000000\n",
       "accuracy       0.688207  0.688207  0.688207     0.688207\n",
       "macro avg      0.458016  0.300285  0.326470  1857.000000\n",
       "weighted avg   0.641737  0.688207  0.644001  1857.000000"
      ]
     },
     "execution_count": 27,
     "metadata": {},
     "output_type": "execute_result"
    }
   ],
   "source": [
    "svm_preds = svm.predict(test_sentence_vectors)\n",
    "svm_report = classification_report(df_test['Labels'].to_list(),svm_preds,output_dict=True)\n",
    "svm_report = pd.DataFrame(svm_report).transpose()\n",
    "svm_report"
   ]
  },
  {
   "cell_type": "markdown",
   "id": "10a51986",
   "metadata": {
    "papermill": {
     "duration": 0.048364,
     "end_time": "2022-03-06T17:00:53.767513",
     "exception": false,
     "start_time": "2022-03-06T17:00:53.719149",
     "status": "completed"
    },
    "tags": []
   },
   "source": [
    "## Random Forest"
   ]
  },
  {
   "cell_type": "markdown",
   "id": "1a6fe5fa",
   "metadata": {
    "papermill": {
     "duration": 0.047023,
     "end_time": "2022-03-06T17:00:53.862873",
     "exception": false,
     "start_time": "2022-03-06T17:00:53.815850",
     "status": "completed"
    },
    "tags": []
   },
   "source": [
    "####  Grid Search CV"
   ]
  },
  {
   "cell_type": "code",
   "execution_count": 28,
   "id": "8409cf9d",
   "metadata": {
    "execution": {
     "iopub.execute_input": "2022-03-06T17:00:53.961722Z",
     "iopub.status.busy": "2022-03-06T17:00:53.960860Z",
     "iopub.status.idle": "2022-03-06T17:00:53.962699Z",
     "shell.execute_reply": "2022-03-06T17:00:53.963171Z"
    },
    "papermill": {
     "duration": 0.053232,
     "end_time": "2022-03-06T17:00:53.963303",
     "exception": false,
     "start_time": "2022-03-06T17:00:53.910071",
     "status": "completed"
    },
    "tags": []
   },
   "outputs": [],
   "source": [
    "# # Number of trees in random forest\n",
    "# n_estimators = [10,100,200,500,1000]\n",
    "# # Number of features to consider at every split\n",
    "# max_features = ['auto', 'sqrt']\n",
    "# bootstrap = [True, False]\n",
    "\n",
    "# param_grid = {'n_estimators': n_estimators,\n",
    "#                'max_features': max_features,\n",
    "#                'bootstrap': bootstrap}\n",
    "# grid = GridSearchCV(RandomForestClassifier(), param_grid, scoring='f1_weighted',cv=2)\n",
    "# grid.fit(combined_encodings,combined_df['Labels'].to_list())\n",
    "# print(\"Tuned Hyperparameters :\", grid.best_params_)\n",
    "# print(\"Weighted f1_score :\",grid.best_score_)"
   ]
  },
  {
   "cell_type": "markdown",
   "id": "a221c27c",
   "metadata": {
    "papermill": {
     "duration": 0.047758,
     "end_time": "2022-03-06T17:00:54.058121",
     "exception": false,
     "start_time": "2022-03-06T17:00:54.010363",
     "status": "completed"
    },
    "tags": []
   },
   "source": [
    "Tuned Hyperparameters obtained from GridSearchCV: {'bootstrap': False, 'max_features': 'sqrt', 'n_estimators': 100}"
   ]
  },
  {
   "cell_type": "markdown",
   "id": "ed5e15f0",
   "metadata": {
    "papermill": {
     "duration": 0.049547,
     "end_time": "2022-03-06T17:00:54.155771",
     "exception": false,
     "start_time": "2022-03-06T17:00:54.106224",
     "status": "completed"
    },
    "tags": []
   },
   "source": [
    "#### Model Training"
   ]
  },
  {
   "cell_type": "code",
   "execution_count": 29,
   "id": "c412fee7",
   "metadata": {
    "execution": {
     "iopub.execute_input": "2022-03-06T17:00:54.269852Z",
     "iopub.status.busy": "2022-03-06T17:00:54.268784Z",
     "iopub.status.idle": "2022-03-06T17:01:18.699769Z",
     "shell.execute_reply": "2022-03-06T17:01:18.698848Z"
    },
    "papermill": {
     "duration": 24.492677,
     "end_time": "2022-03-06T17:01:18.699945",
     "exception": false,
     "start_time": "2022-03-06T17:00:54.207268",
     "status": "completed"
    },
    "tags": []
   },
   "outputs": [],
   "source": [
    "rf_params = {'bootstrap': False, 'max_features': 'sqrt', 'n_estimators': 100}\n",
    "random_clf = RandomForestClassifier(n_estimators=rf_params['n_estimators'],max_features=rf_params['max_features'],bootstrap=rf_params['bootstrap']).fit(train_sentence_vectors, df['Labels'].to_list())"
   ]
  },
  {
   "cell_type": "code",
   "execution_count": 30,
   "id": "eecc3fb5",
   "metadata": {
    "execution": {
     "iopub.execute_input": "2022-03-06T17:01:18.800376Z",
     "iopub.status.busy": "2022-03-06T17:01:18.799563Z",
     "iopub.status.idle": "2022-03-06T17:01:18.886018Z",
     "shell.execute_reply": "2022-03-06T17:01:18.885378Z"
    },
    "papermill": {
     "duration": 0.138184,
     "end_time": "2022-03-06T17:01:18.886178",
     "exception": false,
     "start_time": "2022-03-06T17:01:18.747994",
     "status": "completed"
    },
    "tags": []
   },
   "outputs": [
    {
     "name": "stderr",
     "output_type": "stream",
     "text": [
      "/opt/conda/lib/python3.7/site-packages/sklearn/metrics/_classification.py:1308: UndefinedMetricWarning: Precision and F-score are ill-defined and being set to 0.0 in labels with no predicted samples. Use `zero_division` parameter to control this behavior.\n",
      "  _warn_prf(average, modifier, msg_start, len(result))\n",
      "/opt/conda/lib/python3.7/site-packages/sklearn/metrics/_classification.py:1308: UndefinedMetricWarning: Precision and F-score are ill-defined and being set to 0.0 in labels with no predicted samples. Use `zero_division` parameter to control this behavior.\n",
      "  _warn_prf(average, modifier, msg_start, len(result))\n",
      "/opt/conda/lib/python3.7/site-packages/sklearn/metrics/_classification.py:1308: UndefinedMetricWarning: Precision and F-score are ill-defined and being set to 0.0 in labels with no predicted samples. Use `zero_division` parameter to control this behavior.\n",
      "  _warn_prf(average, modifier, msg_start, len(result))\n"
     ]
    },
    {
     "data": {
      "text/html": [
       "<div>\n",
       "<style scoped>\n",
       "    .dataframe tbody tr th:only-of-type {\n",
       "        vertical-align: middle;\n",
       "    }\n",
       "\n",
       "    .dataframe tbody tr th {\n",
       "        vertical-align: top;\n",
       "    }\n",
       "\n",
       "    .dataframe thead th {\n",
       "        text-align: right;\n",
       "    }\n",
       "</style>\n",
       "<table border=\"1\" class=\"dataframe\">\n",
       "  <thead>\n",
       "    <tr style=\"text-align: right;\">\n",
       "      <th></th>\n",
       "      <th>precision</th>\n",
       "      <th>recall</th>\n",
       "      <th>f1-score</th>\n",
       "      <th>support</th>\n",
       "    </tr>\n",
       "  </thead>\n",
       "  <tbody>\n",
       "    <tr>\n",
       "      <th>0</th>\n",
       "      <td>0.645533</td>\n",
       "      <td>0.981595</td>\n",
       "      <td>0.778860</td>\n",
       "      <td>1141.000000</td>\n",
       "    </tr>\n",
       "    <tr>\n",
       "      <th>1</th>\n",
       "      <td>0.000000</td>\n",
       "      <td>0.000000</td>\n",
       "      <td>0.000000</td>\n",
       "      <td>58.000000</td>\n",
       "    </tr>\n",
       "    <tr>\n",
       "      <th>2</th>\n",
       "      <td>0.333333</td>\n",
       "      <td>0.238636</td>\n",
       "      <td>0.278146</td>\n",
       "      <td>88.000000</td>\n",
       "    </tr>\n",
       "    <tr>\n",
       "      <th>3</th>\n",
       "      <td>0.677966</td>\n",
       "      <td>0.136986</td>\n",
       "      <td>0.227920</td>\n",
       "      <td>292.000000</td>\n",
       "    </tr>\n",
       "    <tr>\n",
       "      <th>4</th>\n",
       "      <td>0.000000</td>\n",
       "      <td>0.000000</td>\n",
       "      <td>0.000000</td>\n",
       "      <td>56.000000</td>\n",
       "    </tr>\n",
       "    <tr>\n",
       "      <th>5</th>\n",
       "      <td>0.000000</td>\n",
       "      <td>0.000000</td>\n",
       "      <td>0.000000</td>\n",
       "      <td>70.000000</td>\n",
       "    </tr>\n",
       "    <tr>\n",
       "      <th>6</th>\n",
       "      <td>0.000000</td>\n",
       "      <td>0.000000</td>\n",
       "      <td>0.000000</td>\n",
       "      <td>95.000000</td>\n",
       "    </tr>\n",
       "    <tr>\n",
       "      <th>7</th>\n",
       "      <td>0.000000</td>\n",
       "      <td>0.000000</td>\n",
       "      <td>0.000000</td>\n",
       "      <td>57.000000</td>\n",
       "    </tr>\n",
       "    <tr>\n",
       "      <th>accuracy</th>\n",
       "      <td>0.635972</td>\n",
       "      <td>0.635972</td>\n",
       "      <td>0.635972</td>\n",
       "      <td>0.635972</td>\n",
       "    </tr>\n",
       "    <tr>\n",
       "      <th>macro avg</th>\n",
       "      <td>0.207104</td>\n",
       "      <td>0.169652</td>\n",
       "      <td>0.160616</td>\n",
       "      <td>1857.000000</td>\n",
       "    </tr>\n",
       "    <tr>\n",
       "      <th>weighted avg</th>\n",
       "      <td>0.519038</td>\n",
       "      <td>0.635972</td>\n",
       "      <td>0.527576</td>\n",
       "      <td>1857.000000</td>\n",
       "    </tr>\n",
       "  </tbody>\n",
       "</table>\n",
       "</div>"
      ],
      "text/plain": [
       "              precision    recall  f1-score      support\n",
       "0              0.645533  0.981595  0.778860  1141.000000\n",
       "1              0.000000  0.000000  0.000000    58.000000\n",
       "2              0.333333  0.238636  0.278146    88.000000\n",
       "3              0.677966  0.136986  0.227920   292.000000\n",
       "4              0.000000  0.000000  0.000000    56.000000\n",
       "5              0.000000  0.000000  0.000000    70.000000\n",
       "6              0.000000  0.000000  0.000000    95.000000\n",
       "7              0.000000  0.000000  0.000000    57.000000\n",
       "accuracy       0.635972  0.635972  0.635972     0.635972\n",
       "macro avg      0.207104  0.169652  0.160616  1857.000000\n",
       "weighted avg   0.519038  0.635972  0.527576  1857.000000"
      ]
     },
     "execution_count": 30,
     "metadata": {},
     "output_type": "execute_result"
    }
   ],
   "source": [
    "random_pred = random_clf.predict(test_sentence_vectors)\n",
    "report_random = classification_report(df_test['Labels'].to_list(),random_pred,output_dict=True)\n",
    "df_random = pd.DataFrame(report_random).transpose()\n",
    "df_random"
   ]
  },
  {
   "cell_type": "markdown",
   "id": "58082bc2",
   "metadata": {
    "papermill": {
     "duration": 0.101953,
     "end_time": "2022-03-06T17:01:19.055885",
     "exception": false,
     "start_time": "2022-03-06T17:01:18.953932",
     "status": "completed"
    },
    "tags": []
   },
   "source": [
    "## XG Boost\n"
   ]
  },
  {
   "cell_type": "markdown",
   "id": "3c0e4d63",
   "metadata": {
    "papermill": {
     "duration": 0.090159,
     "end_time": "2022-03-06T17:01:19.236848",
     "exception": false,
     "start_time": "2022-03-06T17:01:19.146689",
     "status": "completed"
    },
    "tags": []
   },
   "source": [
    "#### Grid SearchCV"
   ]
  },
  {
   "cell_type": "code",
   "execution_count": 31,
   "id": "5f96df91",
   "metadata": {
    "execution": {
     "iopub.execute_input": "2022-03-06T17:01:19.416122Z",
     "iopub.status.busy": "2022-03-06T17:01:19.415339Z",
     "iopub.status.idle": "2022-03-06T17:01:19.417688Z",
     "shell.execute_reply": "2022-03-06T17:01:19.418471Z"
    },
    "papermill": {
     "duration": 0.094994,
     "end_time": "2022-03-06T17:01:19.418653",
     "exception": false,
     "start_time": "2022-03-06T17:01:19.323659",
     "status": "completed"
    },
    "tags": []
   },
   "outputs": [],
   "source": [
    "# xg_grid_params = {\n",
    "#     'gamma': range(0,100,20),\n",
    "#     'max_depth': [1,5,10],\n",
    "#     'lambda':[0.01,0.1,1,10,100],\n",
    "#     'alpha':[0.001,0.01,0.1,1,10],\n",
    "#     'learning_rate':[0.01,0.1,1,10]\n",
    "# }\n",
    "# warnings.filterwarnings('ignore')\n",
    "# grid_xg = grid = GridSearchCV(XGBClassifier(), xg_grid_params, scoring='f1_weighted')\n",
    "# grid_xg.fit(combined_encodings,combined_df['Labels'].to_list())\n",
    "# print(\"Tuned Hyperparameters :\", grid_xg.best_params_)\n",
    "# print(\"Weighted f1_score :\",grid_xg.best_score_)"
   ]
  },
  {
   "cell_type": "markdown",
   "id": "ad573ce8",
   "metadata": {
    "papermill": {
     "duration": 0.07156,
     "end_time": "2022-03-06T17:01:19.571586",
     "exception": false,
     "start_time": "2022-03-06T17:01:19.500026",
     "status": "completed"
    },
    "tags": []
   },
   "source": [
    "#### Model Training"
   ]
  },
  {
   "cell_type": "code",
   "execution_count": 32,
   "id": "9abe0ce0",
   "metadata": {
    "execution": {
     "iopub.execute_input": "2022-03-06T17:01:19.675055Z",
     "iopub.status.busy": "2022-03-06T17:01:19.674299Z",
     "iopub.status.idle": "2022-03-06T17:10:03.308585Z",
     "shell.execute_reply": "2022-03-06T17:10:03.308039Z"
    },
    "papermill": {
     "duration": 523.688485,
     "end_time": "2022-03-06T17:10:03.308737",
     "exception": false,
     "start_time": "2022-03-06T17:01:19.620252",
     "status": "completed"
    },
    "tags": []
   },
   "outputs": [
    {
     "name": "stderr",
     "output_type": "stream",
     "text": [
      "/opt/conda/lib/python3.7/site-packages/xgboost/sklearn.py:1224: UserWarning: The use of label encoder in XGBClassifier is deprecated and will be removed in a future release. To remove this warning, do the following: 1) Pass option use_label_encoder=False when constructing XGBClassifier object; and 2) Encode your labels (y) as integers starting with 0, i.e. 0, 1, 2, ..., [num_class - 1].\n",
      "  warnings.warn(label_encoder_deprecation_msg, UserWarning)\n"
     ]
    },
    {
     "name": "stdout",
     "output_type": "stream",
     "text": [
      "[17:01:28] WARNING: ../src/learner.cc:1115: Starting in XGBoost 1.3.0, the default evaluation metric used with the objective 'multi:softprob' was changed from 'merror' to 'mlogloss'. Explicitly set eval_metric if you'd like to restore the old behavior.\n"
     ]
    }
   ],
   "source": [
    "model_xg = XGBClassifier().fit(train_sentence_vectors, df['Labels'].to_list())"
   ]
  },
  {
   "cell_type": "code",
   "execution_count": 33,
   "id": "71462f4a",
   "metadata": {
    "execution": {
     "iopub.execute_input": "2022-03-06T17:10:03.429065Z",
     "iopub.status.busy": "2022-03-06T17:10:03.428147Z",
     "iopub.status.idle": "2022-03-06T17:10:03.499603Z",
     "shell.execute_reply": "2022-03-06T17:10:03.500012Z"
    },
    "papermill": {
     "duration": 0.13597,
     "end_time": "2022-03-06T17:10:03.500162",
     "exception": false,
     "start_time": "2022-03-06T17:10:03.364192",
     "status": "completed"
    },
    "tags": []
   },
   "outputs": [
    {
     "data": {
      "text/html": [
       "<div>\n",
       "<style scoped>\n",
       "    .dataframe tbody tr th:only-of-type {\n",
       "        vertical-align: middle;\n",
       "    }\n",
       "\n",
       "    .dataframe tbody tr th {\n",
       "        vertical-align: top;\n",
       "    }\n",
       "\n",
       "    .dataframe thead th {\n",
       "        text-align: right;\n",
       "    }\n",
       "</style>\n",
       "<table border=\"1\" class=\"dataframe\">\n",
       "  <thead>\n",
       "    <tr style=\"text-align: right;\">\n",
       "      <th></th>\n",
       "      <th>precision</th>\n",
       "      <th>recall</th>\n",
       "      <th>f1-score</th>\n",
       "      <th>support</th>\n",
       "    </tr>\n",
       "  </thead>\n",
       "  <tbody>\n",
       "    <tr>\n",
       "      <th>0</th>\n",
       "      <td>0.693088</td>\n",
       "      <td>0.957932</td>\n",
       "      <td>0.804268</td>\n",
       "      <td>1141.000000</td>\n",
       "    </tr>\n",
       "    <tr>\n",
       "      <th>1</th>\n",
       "      <td>0.666667</td>\n",
       "      <td>0.034483</td>\n",
       "      <td>0.065574</td>\n",
       "      <td>58.000000</td>\n",
       "    </tr>\n",
       "    <tr>\n",
       "      <th>2</th>\n",
       "      <td>0.321429</td>\n",
       "      <td>0.306818</td>\n",
       "      <td>0.313953</td>\n",
       "      <td>88.000000</td>\n",
       "    </tr>\n",
       "    <tr>\n",
       "      <th>3</th>\n",
       "      <td>0.587500</td>\n",
       "      <td>0.321918</td>\n",
       "      <td>0.415929</td>\n",
       "      <td>292.000000</td>\n",
       "    </tr>\n",
       "    <tr>\n",
       "      <th>4</th>\n",
       "      <td>0.500000</td>\n",
       "      <td>0.035714</td>\n",
       "      <td>0.066667</td>\n",
       "      <td>56.000000</td>\n",
       "    </tr>\n",
       "    <tr>\n",
       "      <th>5</th>\n",
       "      <td>0.333333</td>\n",
       "      <td>0.014286</td>\n",
       "      <td>0.027397</td>\n",
       "      <td>70.000000</td>\n",
       "    </tr>\n",
       "    <tr>\n",
       "      <th>6</th>\n",
       "      <td>0.739130</td>\n",
       "      <td>0.178947</td>\n",
       "      <td>0.288136</td>\n",
       "      <td>95.000000</td>\n",
       "    </tr>\n",
       "    <tr>\n",
       "      <th>7</th>\n",
       "      <td>0.666667</td>\n",
       "      <td>0.035088</td>\n",
       "      <td>0.066667</td>\n",
       "      <td>57.000000</td>\n",
       "    </tr>\n",
       "    <tr>\n",
       "      <th>accuracy</th>\n",
       "      <td>0.666667</td>\n",
       "      <td>0.666667</td>\n",
       "      <td>0.666667</td>\n",
       "      <td>0.666667</td>\n",
       "    </tr>\n",
       "    <tr>\n",
       "      <th>macro avg</th>\n",
       "      <td>0.563477</td>\n",
       "      <td>0.235648</td>\n",
       "      <td>0.256074</td>\n",
       "      <td>1857.000000</td>\n",
       "    </tr>\n",
       "    <tr>\n",
       "      <th>weighted avg</th>\n",
       "      <td>0.640208</td>\n",
       "      <td>0.666667</td>\n",
       "      <td>0.596325</td>\n",
       "      <td>1857.000000</td>\n",
       "    </tr>\n",
       "  </tbody>\n",
       "</table>\n",
       "</div>"
      ],
      "text/plain": [
       "              precision    recall  f1-score      support\n",
       "0              0.693088  0.957932  0.804268  1141.000000\n",
       "1              0.666667  0.034483  0.065574    58.000000\n",
       "2              0.321429  0.306818  0.313953    88.000000\n",
       "3              0.587500  0.321918  0.415929   292.000000\n",
       "4              0.500000  0.035714  0.066667    56.000000\n",
       "5              0.333333  0.014286  0.027397    70.000000\n",
       "6              0.739130  0.178947  0.288136    95.000000\n",
       "7              0.666667  0.035088  0.066667    57.000000\n",
       "accuracy       0.666667  0.666667  0.666667     0.666667\n",
       "macro avg      0.563477  0.235648  0.256074  1857.000000\n",
       "weighted avg   0.640208  0.666667  0.596325  1857.000000"
      ]
     },
     "execution_count": 33,
     "metadata": {},
     "output_type": "execute_result"
    }
   ],
   "source": [
    "y_preds_xg = model_xg.predict(test_sentence_vectors)\n",
    "report_xg = classification_report(df_test['Labels'].to_list(),y_preds_xg,output_dict=True)\n",
    "df_xg = pd.DataFrame(report_xg).transpose()\n",
    "df_xg"
   ]
  },
  {
   "cell_type": "markdown",
   "id": "5ee8aaac",
   "metadata": {
    "papermill": {
     "duration": 0.050986,
     "end_time": "2022-03-06T17:10:03.604351",
     "exception": false,
     "start_time": "2022-03-06T17:10:03.553365",
     "status": "completed"
    },
    "tags": []
   },
   "source": [
    "## Multi Layer Perceptron"
   ]
  },
  {
   "cell_type": "markdown",
   "id": "b11c13f3",
   "metadata": {
    "execution": {
     "iopub.execute_input": "2022-03-06T13:03:41.560247Z",
     "iopub.status.busy": "2022-03-06T13:03:41.559969Z",
     "iopub.status.idle": "2022-03-06T13:03:41.564734Z",
     "shell.execute_reply": "2022-03-06T13:03:41.563917Z",
     "shell.execute_reply.started": "2022-03-06T13:03:41.560218Z"
    },
    "papermill": {
     "duration": 0.050284,
     "end_time": "2022-03-06T17:10:03.705748",
     "exception": false,
     "start_time": "2022-03-06T17:10:03.655464",
     "status": "completed"
    },
    "tags": []
   },
   "source": [
    "#### Grid SearchCV"
   ]
  },
  {
   "cell_type": "code",
   "execution_count": 34,
   "id": "7602a03e",
   "metadata": {
    "execution": {
     "iopub.execute_input": "2022-03-06T17:10:03.812215Z",
     "iopub.status.busy": "2022-03-06T17:10:03.811226Z",
     "iopub.status.idle": "2022-03-06T17:10:03.813220Z",
     "shell.execute_reply": "2022-03-06T17:10:03.813643Z"
    },
    "papermill": {
     "duration": 0.056882,
     "end_time": "2022-03-06T17:10:03.813775",
     "exception": false,
     "start_time": "2022-03-06T17:10:03.756893",
     "status": "completed"
    },
    "tags": []
   },
   "outputs": [],
   "source": [
    "# mlp_params = {\n",
    "#     'activation':['identity', 'logistic', 'tanh', 'relu'],\n",
    "#     'solver':['lbfgs', 'sgd', 'adam'],\n",
    "#     'alpha':[0.0001,0.001,0.01,0.1],\n",
    "# }\n",
    "# warnings.filterwarnings('ignore')\n",
    "# mlp_grid = GridSearchCV(MLPClassifier(), mlp_params, scoring='f1_weighted')\n",
    "# mlp_grid.fit(combined_encodings,combined_df['Labels'].to_list())\n",
    "# print(\"Tuned Hyperparameters :\", mlp_grid.best_params_)\n",
    "# print(\"Weighted f1_score :\",mlp_grid.best_score_)"
   ]
  },
  {
   "cell_type": "markdown",
   "id": "2fac1c88",
   "metadata": {
    "papermill": {
     "duration": 0.050346,
     "end_time": "2022-03-06T17:10:03.915834",
     "exception": false,
     "start_time": "2022-03-06T17:10:03.865488",
     "status": "completed"
    },
    "tags": []
   },
   "source": [
    "Tuned Hyperparameters obtained from grid search : {'activation': 'logistic', 'alpha': 0.1, 'solver': 'adam'}"
   ]
  },
  {
   "cell_type": "markdown",
   "id": "e71b8995",
   "metadata": {
    "papermill": {
     "duration": 0.05113,
     "end_time": "2022-03-06T17:10:04.017537",
     "exception": false,
     "start_time": "2022-03-06T17:10:03.966407",
     "status": "completed"
    },
    "tags": []
   },
   "source": [
    "#### Model Training"
   ]
  },
  {
   "cell_type": "code",
   "execution_count": 35,
   "id": "9ef8a6f6",
   "metadata": {
    "execution": {
     "iopub.execute_input": "2022-03-06T17:10:04.124853Z",
     "iopub.status.busy": "2022-03-06T17:10:04.122686Z",
     "iopub.status.idle": "2022-03-06T17:10:19.287179Z",
     "shell.execute_reply": "2022-03-06T17:10:19.286370Z"
    },
    "papermill": {
     "duration": 15.218663,
     "end_time": "2022-03-06T17:10:19.287396",
     "exception": false,
     "start_time": "2022-03-06T17:10:04.068733",
     "status": "completed"
    },
    "tags": []
   },
   "outputs": [],
   "source": [
    "clf = MLPClassifier(activation='logistic',alpha=0.1,solver='adam').fit(train_sentence_vectors, df['Labels'].to_list())\n",
    "mlp_predictions = clf.predict(test_sentence_vectors)"
   ]
  },
  {
   "cell_type": "code",
   "execution_count": 36,
   "id": "bf1ea6f0",
   "metadata": {
    "execution": {
     "iopub.execute_input": "2022-03-06T17:10:19.458522Z",
     "iopub.status.busy": "2022-03-06T17:10:19.457672Z",
     "iopub.status.idle": "2022-03-06T17:10:19.470687Z",
     "shell.execute_reply": "2022-03-06T17:10:19.471211Z"
    },
    "papermill": {
     "duration": 0.08866,
     "end_time": "2022-03-06T17:10:19.471367",
     "exception": false,
     "start_time": "2022-03-06T17:10:19.382707",
     "status": "completed"
    },
    "tags": []
   },
   "outputs": [
    {
     "data": {
      "text/html": [
       "<div>\n",
       "<style scoped>\n",
       "    .dataframe tbody tr th:only-of-type {\n",
       "        vertical-align: middle;\n",
       "    }\n",
       "\n",
       "    .dataframe tbody tr th {\n",
       "        vertical-align: top;\n",
       "    }\n",
       "\n",
       "    .dataframe thead th {\n",
       "        text-align: right;\n",
       "    }\n",
       "</style>\n",
       "<table border=\"1\" class=\"dataframe\">\n",
       "  <thead>\n",
       "    <tr style=\"text-align: right;\">\n",
       "      <th></th>\n",
       "      <th>precision</th>\n",
       "      <th>recall</th>\n",
       "      <th>f1-score</th>\n",
       "      <th>support</th>\n",
       "    </tr>\n",
       "  </thead>\n",
       "  <tbody>\n",
       "    <tr>\n",
       "      <th>0</th>\n",
       "      <td>0.731405</td>\n",
       "      <td>0.930762</td>\n",
       "      <td>0.819128</td>\n",
       "      <td>1141.000000</td>\n",
       "    </tr>\n",
       "    <tr>\n",
       "      <th>1</th>\n",
       "      <td>0.250000</td>\n",
       "      <td>0.017241</td>\n",
       "      <td>0.032258</td>\n",
       "      <td>58.000000</td>\n",
       "    </tr>\n",
       "    <tr>\n",
       "      <th>2</th>\n",
       "      <td>0.333333</td>\n",
       "      <td>0.284091</td>\n",
       "      <td>0.306748</td>\n",
       "      <td>88.000000</td>\n",
       "    </tr>\n",
       "    <tr>\n",
       "      <th>3</th>\n",
       "      <td>0.611399</td>\n",
       "      <td>0.404110</td>\n",
       "      <td>0.486598</td>\n",
       "      <td>292.000000</td>\n",
       "    </tr>\n",
       "    <tr>\n",
       "      <th>4</th>\n",
       "      <td>0.411765</td>\n",
       "      <td>0.125000</td>\n",
       "      <td>0.191781</td>\n",
       "      <td>56.000000</td>\n",
       "    </tr>\n",
       "    <tr>\n",
       "      <th>5</th>\n",
       "      <td>0.300000</td>\n",
       "      <td>0.085714</td>\n",
       "      <td>0.133333</td>\n",
       "      <td>70.000000</td>\n",
       "    </tr>\n",
       "    <tr>\n",
       "      <th>6</th>\n",
       "      <td>0.687500</td>\n",
       "      <td>0.463158</td>\n",
       "      <td>0.553459</td>\n",
       "      <td>95.000000</td>\n",
       "    </tr>\n",
       "    <tr>\n",
       "      <th>7</th>\n",
       "      <td>0.156250</td>\n",
       "      <td>0.087719</td>\n",
       "      <td>0.112360</td>\n",
       "      <td>57.000000</td>\n",
       "    </tr>\n",
       "    <tr>\n",
       "      <th>accuracy</th>\n",
       "      <td>0.682822</td>\n",
       "      <td>0.682822</td>\n",
       "      <td>0.682822</td>\n",
       "      <td>0.682822</td>\n",
       "    </tr>\n",
       "    <tr>\n",
       "      <th>macro avg</th>\n",
       "      <td>0.435206</td>\n",
       "      <td>0.299724</td>\n",
       "      <td>0.329458</td>\n",
       "      <td>1857.000000</td>\n",
       "    </tr>\n",
       "    <tr>\n",
       "      <th>weighted avg</th>\n",
       "      <td>0.632834</td>\n",
       "      <td>0.682822</td>\n",
       "      <td>0.637928</td>\n",
       "      <td>1857.000000</td>\n",
       "    </tr>\n",
       "  </tbody>\n",
       "</table>\n",
       "</div>"
      ],
      "text/plain": [
       "              precision    recall  f1-score      support\n",
       "0              0.731405  0.930762  0.819128  1141.000000\n",
       "1              0.250000  0.017241  0.032258    58.000000\n",
       "2              0.333333  0.284091  0.306748    88.000000\n",
       "3              0.611399  0.404110  0.486598   292.000000\n",
       "4              0.411765  0.125000  0.191781    56.000000\n",
       "5              0.300000  0.085714  0.133333    70.000000\n",
       "6              0.687500  0.463158  0.553459    95.000000\n",
       "7              0.156250  0.087719  0.112360    57.000000\n",
       "accuracy       0.682822  0.682822  0.682822     0.682822\n",
       "macro avg      0.435206  0.299724  0.329458  1857.000000\n",
       "weighted avg   0.632834  0.682822  0.637928  1857.000000"
      ]
     },
     "execution_count": 36,
     "metadata": {},
     "output_type": "execute_result"
    }
   ],
   "source": [
    "report_mlp = classification_report(df_test['Labels'].to_list(),mlp_predictions,output_dict=True)\n",
    "df_mlp = pd.DataFrame(report_mlp).transpose()\n",
    "df_mlp"
   ]
  }
 ],
 "metadata": {
  "kernelspec": {
   "display_name": "Python 3",
   "language": "python",
   "name": "python3"
  },
  "language_info": {
   "codemirror_mode": {
    "name": "ipython",
    "version": 3
   },
   "file_extension": ".py",
   "mimetype": "text/x-python",
   "name": "python",
   "nbconvert_exporter": "python",
   "pygments_lexer": "ipython3",
   "version": "3.7.12"
  },
  "papermill": {
   "default_parameters": {},
   "duration": 718.680629,
   "end_time": "2022-03-06T17:10:22.871932",
   "environment_variables": {},
   "exception": null,
   "input_path": "__notebook__.ipynb",
   "output_path": "__notebook__.ipynb",
   "parameters": {},
   "start_time": "2022-03-06T16:58:24.191303",
   "version": "2.3.3"
  },
  "widgets": {
   "application/vnd.jupyter.widget-state+json": {
    "state": {
     "02fb8b506522494ea233202e7abeac16": {
      "model_module": "@jupyter-widgets/controls",
      "model_module_version": "1.5.0",
      "model_name": "HTMLModel",
      "state": {
       "_dom_classes": [],
       "_model_module": "@jupyter-widgets/controls",
       "_model_module_version": "1.5.0",
       "_model_name": "HTMLModel",
       "_view_count": null,
       "_view_module": "@jupyter-widgets/controls",
       "_view_module_version": "1.5.0",
       "_view_name": "HTMLView",
       "description": "",
       "description_tooltip": null,
       "layout": "IPY_MODEL_4913da19c0c4474d85496eb80dde3172",
       "placeholder": "​",
       "style": "IPY_MODEL_718b3401cea34866a6bfe2d5868b1a30",
       "value": " 29.0/29.0 [00:00&lt;00:00, 1.16kB/s]"
      }
     },
     "0a8a5184750e41d4acc9c5e8f8447c7d": {
      "model_module": "@jupyter-widgets/controls",
      "model_module_version": "1.5.0",
      "model_name": "ProgressStyleModel",
      "state": {
       "_model_module": "@jupyter-widgets/controls",
       "_model_module_version": "1.5.0",
       "_model_name": "ProgressStyleModel",
       "_view_count": null,
       "_view_module": "@jupyter-widgets/base",
       "_view_module_version": "1.2.0",
       "_view_name": "StyleView",
       "bar_color": null,
       "description_width": ""
      }
     },
     "0af049ca59d64f98b91b31bfd87f4f81": {
      "model_module": "@jupyter-widgets/controls",
      "model_module_version": "1.5.0",
      "model_name": "FloatProgressModel",
      "state": {
       "_dom_classes": [],
       "_model_module": "@jupyter-widgets/controls",
       "_model_module_version": "1.5.0",
       "_model_name": "FloatProgressModel",
       "_view_count": null,
       "_view_module": "@jupyter-widgets/controls",
       "_view_module_version": "1.5.0",
       "_view_name": "ProgressView",
       "bar_style": "success",
       "description": "",
       "description_tooltip": null,
       "layout": "IPY_MODEL_c0c0b7ea5d284cb7946d7058f841aab9",
       "max": 714314041.0,
       "min": 0.0,
       "orientation": "horizontal",
       "style": "IPY_MODEL_dffd1a19c6f74daa957abda9b2387608",
       "value": 714314041.0
      }
     },
     "0b633ab9537943a89d47eaa89645f38a": {
      "model_module": "@jupyter-widgets/controls",
      "model_module_version": "1.5.0",
      "model_name": "HBoxModel",
      "state": {
       "_dom_classes": [],
       "_model_module": "@jupyter-widgets/controls",
       "_model_module_version": "1.5.0",
       "_model_name": "HBoxModel",
       "_view_count": null,
       "_view_module": "@jupyter-widgets/controls",
       "_view_module_version": "1.5.0",
       "_view_name": "HBoxView",
       "box_style": "",
       "children": [
        "IPY_MODEL_12148239514a4568beb65e201f922f99",
        "IPY_MODEL_0af049ca59d64f98b91b31bfd87f4f81",
        "IPY_MODEL_8e458b8022534563a0039eef436f33a5"
       ],
       "layout": "IPY_MODEL_0e023cfc4b8347c4af37d47a2ea5d5d1"
      }
     },
     "0e023cfc4b8347c4af37d47a2ea5d5d1": {
      "model_module": "@jupyter-widgets/base",
      "model_module_version": "1.2.0",
      "model_name": "LayoutModel",
      "state": {
       "_model_module": "@jupyter-widgets/base",
       "_model_module_version": "1.2.0",
       "_model_name": "LayoutModel",
       "_view_count": null,
       "_view_module": "@jupyter-widgets/base",
       "_view_module_version": "1.2.0",
       "_view_name": "LayoutView",
       "align_content": null,
       "align_items": null,
       "align_self": null,
       "border": null,
       "bottom": null,
       "display": null,
       "flex": null,
       "flex_flow": null,
       "grid_area": null,
       "grid_auto_columns": null,
       "grid_auto_flow": null,
       "grid_auto_rows": null,
       "grid_column": null,
       "grid_gap": null,
       "grid_row": null,
       "grid_template_areas": null,
       "grid_template_columns": null,
       "grid_template_rows": null,
       "height": null,
       "justify_content": null,
       "justify_items": null,
       "left": null,
       "margin": null,
       "max_height": null,
       "max_width": null,
       "min_height": null,
       "min_width": null,
       "object_fit": null,
       "object_position": null,
       "order": null,
       "overflow": null,
       "overflow_x": null,
       "overflow_y": null,
       "padding": null,
       "right": null,
       "top": null,
       "visibility": null,
       "width": null
      }
     },
     "0fa4022fe736423e919cd93a43b32afa": {
      "model_module": "@jupyter-widgets/controls",
      "model_module_version": "1.5.0",
      "model_name": "FloatProgressModel",
      "state": {
       "_dom_classes": [],
       "_model_module": "@jupyter-widgets/controls",
       "_model_module_version": "1.5.0",
       "_model_name": "FloatProgressModel",
       "_view_count": null,
       "_view_module": "@jupyter-widgets/controls",
       "_view_module_version": "1.5.0",
       "_view_name": "ProgressView",
       "bar_style": "success",
       "description": "",
       "description_tooltip": null,
       "layout": "IPY_MODEL_70b3e66e13674ac7996f533e16e3ddd2",
       "max": 995526.0,
       "min": 0.0,
       "orientation": "horizontal",
       "style": "IPY_MODEL_f041b395462d46f59d7e99a474764060",
       "value": 995526.0
      }
     },
     "12148239514a4568beb65e201f922f99": {
      "model_module": "@jupyter-widgets/controls",
      "model_module_version": "1.5.0",
      "model_name": "HTMLModel",
      "state": {
       "_dom_classes": [],
       "_model_module": "@jupyter-widgets/controls",
       "_model_module_version": "1.5.0",
       "_model_name": "HTMLModel",
       "_view_count": null,
       "_view_module": "@jupyter-widgets/controls",
       "_view_module_version": "1.5.0",
       "_view_name": "HTMLView",
       "description": "",
       "description_tooltip": null,
       "layout": "IPY_MODEL_cb6e02bb043b4d32b1c6f706db8af4b4",
       "placeholder": "​",
       "style": "IPY_MODEL_580e3f8aed9249ca887174b33e0256c3",
       "value": "Downloading: 100%"
      }
     },
     "139422972cae4f52ab75397d029c55fe": {
      "model_module": "@jupyter-widgets/base",
      "model_module_version": "1.2.0",
      "model_name": "LayoutModel",
      "state": {
       "_model_module": "@jupyter-widgets/base",
       "_model_module_version": "1.2.0",
       "_model_name": "LayoutModel",
       "_view_count": null,
       "_view_module": "@jupyter-widgets/base",
       "_view_module_version": "1.2.0",
       "_view_name": "LayoutView",
       "align_content": null,
       "align_items": null,
       "align_self": null,
       "border": null,
       "bottom": null,
       "display": null,
       "flex": null,
       "flex_flow": null,
       "grid_area": null,
       "grid_auto_columns": null,
       "grid_auto_flow": null,
       "grid_auto_rows": null,
       "grid_column": null,
       "grid_gap": null,
       "grid_row": null,
       "grid_template_areas": null,
       "grid_template_columns": null,
       "grid_template_rows": null,
       "height": null,
       "justify_content": null,
       "justify_items": null,
       "left": null,
       "margin": null,
       "max_height": null,
       "max_width": null,
       "min_height": null,
       "min_width": null,
       "object_fit": null,
       "object_position": null,
       "order": null,
       "overflow": null,
       "overflow_x": null,
       "overflow_y": null,
       "padding": null,
       "right": null,
       "top": null,
       "visibility": null,
       "width": null
      }
     },
     "1471155daf3d41b186d992ba1fd9e98e": {
      "model_module": "@jupyter-widgets/base",
      "model_module_version": "1.2.0",
      "model_name": "LayoutModel",
      "state": {
       "_model_module": "@jupyter-widgets/base",
       "_model_module_version": "1.2.0",
       "_model_name": "LayoutModel",
       "_view_count": null,
       "_view_module": "@jupyter-widgets/base",
       "_view_module_version": "1.2.0",
       "_view_name": "LayoutView",
       "align_content": null,
       "align_items": null,
       "align_self": null,
       "border": null,
       "bottom": null,
       "display": null,
       "flex": null,
       "flex_flow": null,
       "grid_area": null,
       "grid_auto_columns": null,
       "grid_auto_flow": null,
       "grid_auto_rows": null,
       "grid_column": null,
       "grid_gap": null,
       "grid_row": null,
       "grid_template_areas": null,
       "grid_template_columns": null,
       "grid_template_rows": null,
       "height": null,
       "justify_content": null,
       "justify_items": null,
       "left": null,
       "margin": null,
       "max_height": null,
       "max_width": null,
       "min_height": null,
       "min_width": null,
       "object_fit": null,
       "object_position": null,
       "order": null,
       "overflow": null,
       "overflow_x": null,
       "overflow_y": null,
       "padding": null,
       "right": null,
       "top": null,
       "visibility": null,
       "width": null
      }
     },
     "20a2788c92314eafb15e52158ed80842": {
      "model_module": "@jupyter-widgets/base",
      "model_module_version": "1.2.0",
      "model_name": "LayoutModel",
      "state": {
       "_model_module": "@jupyter-widgets/base",
       "_model_module_version": "1.2.0",
       "_model_name": "LayoutModel",
       "_view_count": null,
       "_view_module": "@jupyter-widgets/base",
       "_view_module_version": "1.2.0",
       "_view_name": "LayoutView",
       "align_content": null,
       "align_items": null,
       "align_self": null,
       "border": null,
       "bottom": null,
       "display": null,
       "flex": null,
       "flex_flow": null,
       "grid_area": null,
       "grid_auto_columns": null,
       "grid_auto_flow": null,
       "grid_auto_rows": null,
       "grid_column": null,
       "grid_gap": null,
       "grid_row": null,
       "grid_template_areas": null,
       "grid_template_columns": null,
       "grid_template_rows": null,
       "height": null,
       "justify_content": null,
       "justify_items": null,
       "left": null,
       "margin": null,
       "max_height": null,
       "max_width": null,
       "min_height": null,
       "min_width": null,
       "object_fit": null,
       "object_position": null,
       "order": null,
       "overflow": null,
       "overflow_x": null,
       "overflow_y": null,
       "padding": null,
       "right": null,
       "top": null,
       "visibility": null,
       "width": null
      }
     },
     "29c9c53ec0ae43e8842fdd118a75f7d9": {
      "model_module": "@jupyter-widgets/base",
      "model_module_version": "1.2.0",
      "model_name": "LayoutModel",
      "state": {
       "_model_module": "@jupyter-widgets/base",
       "_model_module_version": "1.2.0",
       "_model_name": "LayoutModel",
       "_view_count": null,
       "_view_module": "@jupyter-widgets/base",
       "_view_module_version": "1.2.0",
       "_view_name": "LayoutView",
       "align_content": null,
       "align_items": null,
       "align_self": null,
       "border": null,
       "bottom": null,
       "display": null,
       "flex": null,
       "flex_flow": null,
       "grid_area": null,
       "grid_auto_columns": null,
       "grid_auto_flow": null,
       "grid_auto_rows": null,
       "grid_column": null,
       "grid_gap": null,
       "grid_row": null,
       "grid_template_areas": null,
       "grid_template_columns": null,
       "grid_template_rows": null,
       "height": null,
       "justify_content": null,
       "justify_items": null,
       "left": null,
       "margin": null,
       "max_height": null,
       "max_width": null,
       "min_height": null,
       "min_width": null,
       "object_fit": null,
       "object_position": null,
       "order": null,
       "overflow": null,
       "overflow_x": null,
       "overflow_y": null,
       "padding": null,
       "right": null,
       "top": null,
       "visibility": null,
       "width": null
      }
     },
     "3208e6242c594db0b1df8560a9bc8a89": {
      "model_module": "@jupyter-widgets/base",
      "model_module_version": "1.2.0",
      "model_name": "LayoutModel",
      "state": {
       "_model_module": "@jupyter-widgets/base",
       "_model_module_version": "1.2.0",
       "_model_name": "LayoutModel",
       "_view_count": null,
       "_view_module": "@jupyter-widgets/base",
       "_view_module_version": "1.2.0",
       "_view_name": "LayoutView",
       "align_content": null,
       "align_items": null,
       "align_self": null,
       "border": null,
       "bottom": null,
       "display": null,
       "flex": null,
       "flex_flow": null,
       "grid_area": null,
       "grid_auto_columns": null,
       "grid_auto_flow": null,
       "grid_auto_rows": null,
       "grid_column": null,
       "grid_gap": null,
       "grid_row": null,
       "grid_template_areas": null,
       "grid_template_columns": null,
       "grid_template_rows": null,
       "height": null,
       "justify_content": null,
       "justify_items": null,
       "left": null,
       "margin": null,
       "max_height": null,
       "max_width": null,
       "min_height": null,
       "min_width": null,
       "object_fit": null,
       "object_position": null,
       "order": null,
       "overflow": null,
       "overflow_x": null,
       "overflow_y": null,
       "padding": null,
       "right": null,
       "top": null,
       "visibility": null,
       "width": null
      }
     },
     "321cc9466b0f43c1a2e9729973d4f20a": {
      "model_module": "@jupyter-widgets/controls",
      "model_module_version": "1.5.0",
      "model_name": "HBoxModel",
      "state": {
       "_dom_classes": [],
       "_model_module": "@jupyter-widgets/controls",
       "_model_module_version": "1.5.0",
       "_model_name": "HBoxModel",
       "_view_count": null,
       "_view_module": "@jupyter-widgets/controls",
       "_view_module_version": "1.5.0",
       "_view_name": "HBoxView",
       "box_style": "",
       "children": [
        "IPY_MODEL_ccdb5b7bcdfe4ce99a26eefa0dad7751",
        "IPY_MODEL_61a47aa2ebba474f82850cb5f96f4a5f",
        "IPY_MODEL_02fb8b506522494ea233202e7abeac16"
       ],
       "layout": "IPY_MODEL_df080937539d481ca3f2198632be3309"
      }
     },
     "4913da19c0c4474d85496eb80dde3172": {
      "model_module": "@jupyter-widgets/base",
      "model_module_version": "1.2.0",
      "model_name": "LayoutModel",
      "state": {
       "_model_module": "@jupyter-widgets/base",
       "_model_module_version": "1.2.0",
       "_model_name": "LayoutModel",
       "_view_count": null,
       "_view_module": "@jupyter-widgets/base",
       "_view_module_version": "1.2.0",
       "_view_name": "LayoutView",
       "align_content": null,
       "align_items": null,
       "align_self": null,
       "border": null,
       "bottom": null,
       "display": null,
       "flex": null,
       "flex_flow": null,
       "grid_area": null,
       "grid_auto_columns": null,
       "grid_auto_flow": null,
       "grid_auto_rows": null,
       "grid_column": null,
       "grid_gap": null,
       "grid_row": null,
       "grid_template_areas": null,
       "grid_template_columns": null,
       "grid_template_rows": null,
       "height": null,
       "justify_content": null,
       "justify_items": null,
       "left": null,
       "margin": null,
       "max_height": null,
       "max_width": null,
       "min_height": null,
       "min_width": null,
       "object_fit": null,
       "object_position": null,
       "order": null,
       "overflow": null,
       "overflow_x": null,
       "overflow_y": null,
       "padding": null,
       "right": null,
       "top": null,
       "visibility": null,
       "width": null
      }
     },
     "580e3f8aed9249ca887174b33e0256c3": {
      "model_module": "@jupyter-widgets/controls",
      "model_module_version": "1.5.0",
      "model_name": "DescriptionStyleModel",
      "state": {
       "_model_module": "@jupyter-widgets/controls",
       "_model_module_version": "1.5.0",
       "_model_name": "DescriptionStyleModel",
       "_view_count": null,
       "_view_module": "@jupyter-widgets/base",
       "_view_module_version": "1.2.0",
       "_view_name": "StyleView",
       "description_width": ""
      }
     },
     "586ba40948224d2b83aabc9a5848f125": {
      "model_module": "@jupyter-widgets/controls",
      "model_module_version": "1.5.0",
      "model_name": "HTMLModel",
      "state": {
       "_dom_classes": [],
       "_model_module": "@jupyter-widgets/controls",
       "_model_module_version": "1.5.0",
       "_model_name": "HTMLModel",
       "_view_count": null,
       "_view_module": "@jupyter-widgets/controls",
       "_view_module_version": "1.5.0",
       "_view_name": "HTMLView",
       "description": "",
       "description_tooltip": null,
       "layout": "IPY_MODEL_a9d6e69ccebd4374aed4fd91bfc64db0",
       "placeholder": "​",
       "style": "IPY_MODEL_5b496fc0829245728729256e6318f439",
       "value": " 625/625 [00:00&lt;00:00, 24.4kB/s]"
      }
     },
     "5b496fc0829245728729256e6318f439": {
      "model_module": "@jupyter-widgets/controls",
      "model_module_version": "1.5.0",
      "model_name": "DescriptionStyleModel",
      "state": {
       "_model_module": "@jupyter-widgets/controls",
       "_model_module_version": "1.5.0",
       "_model_name": "DescriptionStyleModel",
       "_view_count": null,
       "_view_module": "@jupyter-widgets/base",
       "_view_module_version": "1.2.0",
       "_view_name": "StyleView",
       "description_width": ""
      }
     },
     "5fc9959e29954207ab3aa0187a2a82e4": {
      "model_module": "@jupyter-widgets/controls",
      "model_module_version": "1.5.0",
      "model_name": "DescriptionStyleModel",
      "state": {
       "_model_module": "@jupyter-widgets/controls",
       "_model_module_version": "1.5.0",
       "_model_name": "DescriptionStyleModel",
       "_view_count": null,
       "_view_module": "@jupyter-widgets/base",
       "_view_module_version": "1.2.0",
       "_view_name": "StyleView",
       "description_width": ""
      }
     },
     "61a47aa2ebba474f82850cb5f96f4a5f": {
      "model_module": "@jupyter-widgets/controls",
      "model_module_version": "1.5.0",
      "model_name": "FloatProgressModel",
      "state": {
       "_dom_classes": [],
       "_model_module": "@jupyter-widgets/controls",
       "_model_module_version": "1.5.0",
       "_model_name": "FloatProgressModel",
       "_view_count": null,
       "_view_module": "@jupyter-widgets/controls",
       "_view_module_version": "1.5.0",
       "_view_name": "ProgressView",
       "bar_style": "success",
       "description": "",
       "description_tooltip": null,
       "layout": "IPY_MODEL_1471155daf3d41b186d992ba1fd9e98e",
       "max": 29.0,
       "min": 0.0,
       "orientation": "horizontal",
       "style": "IPY_MODEL_0a8a5184750e41d4acc9c5e8f8447c7d",
       "value": 29.0
      }
     },
     "63f59189b1c145d193a6ce7404116405": {
      "model_module": "@jupyter-widgets/controls",
      "model_module_version": "1.5.0",
      "model_name": "HTMLModel",
      "state": {
       "_dom_classes": [],
       "_model_module": "@jupyter-widgets/controls",
       "_model_module_version": "1.5.0",
       "_model_name": "HTMLModel",
       "_view_count": null,
       "_view_module": "@jupyter-widgets/controls",
       "_view_module_version": "1.5.0",
       "_view_name": "HTMLView",
       "description": "",
       "description_tooltip": null,
       "layout": "IPY_MODEL_ddf7db18e938451c85d00a83695923fe",
       "placeholder": "​",
       "style": "IPY_MODEL_fc4c115ce8d64a36933163e8ce73d427",
       "value": "Downloading: 100%"
      }
     },
     "6d940edc48aa4dfdae069c900aa7a81a": {
      "model_module": "@jupyter-widgets/controls",
      "model_module_version": "1.5.0",
      "model_name": "DescriptionStyleModel",
      "state": {
       "_model_module": "@jupyter-widgets/controls",
       "_model_module_version": "1.5.0",
       "_model_name": "DescriptionStyleModel",
       "_view_count": null,
       "_view_module": "@jupyter-widgets/base",
       "_view_module_version": "1.2.0",
       "_view_name": "StyleView",
       "description_width": ""
      }
     },
     "70b3e66e13674ac7996f533e16e3ddd2": {
      "model_module": "@jupyter-widgets/base",
      "model_module_version": "1.2.0",
      "model_name": "LayoutModel",
      "state": {
       "_model_module": "@jupyter-widgets/base",
       "_model_module_version": "1.2.0",
       "_model_name": "LayoutModel",
       "_view_count": null,
       "_view_module": "@jupyter-widgets/base",
       "_view_module_version": "1.2.0",
       "_view_name": "LayoutView",
       "align_content": null,
       "align_items": null,
       "align_self": null,
       "border": null,
       "bottom": null,
       "display": null,
       "flex": null,
       "flex_flow": null,
       "grid_area": null,
       "grid_auto_columns": null,
       "grid_auto_flow": null,
       "grid_auto_rows": null,
       "grid_column": null,
       "grid_gap": null,
       "grid_row": null,
       "grid_template_areas": null,
       "grid_template_columns": null,
       "grid_template_rows": null,
       "height": null,
       "justify_content": null,
       "justify_items": null,
       "left": null,
       "margin": null,
       "max_height": null,
       "max_width": null,
       "min_height": null,
       "min_width": null,
       "object_fit": null,
       "object_position": null,
       "order": null,
       "overflow": null,
       "overflow_x": null,
       "overflow_y": null,
       "padding": null,
       "right": null,
       "top": null,
       "visibility": null,
       "width": null
      }
     },
     "718b3401cea34866a6bfe2d5868b1a30": {
      "model_module": "@jupyter-widgets/controls",
      "model_module_version": "1.5.0",
      "model_name": "DescriptionStyleModel",
      "state": {
       "_model_module": "@jupyter-widgets/controls",
       "_model_module_version": "1.5.0",
       "_model_name": "DescriptionStyleModel",
       "_view_count": null,
       "_view_module": "@jupyter-widgets/base",
       "_view_module_version": "1.2.0",
       "_view_name": "StyleView",
       "description_width": ""
      }
     },
     "779907d7312849cbb3f02955b48651e8": {
      "model_module": "@jupyter-widgets/base",
      "model_module_version": "1.2.0",
      "model_name": "LayoutModel",
      "state": {
       "_model_module": "@jupyter-widgets/base",
       "_model_module_version": "1.2.0",
       "_model_name": "LayoutModel",
       "_view_count": null,
       "_view_module": "@jupyter-widgets/base",
       "_view_module_version": "1.2.0",
       "_view_name": "LayoutView",
       "align_content": null,
       "align_items": null,
       "align_self": null,
       "border": null,
       "bottom": null,
       "display": null,
       "flex": null,
       "flex_flow": null,
       "grid_area": null,
       "grid_auto_columns": null,
       "grid_auto_flow": null,
       "grid_auto_rows": null,
       "grid_column": null,
       "grid_gap": null,
       "grid_row": null,
       "grid_template_areas": null,
       "grid_template_columns": null,
       "grid_template_rows": null,
       "height": null,
       "justify_content": null,
       "justify_items": null,
       "left": null,
       "margin": null,
       "max_height": null,
       "max_width": null,
       "min_height": null,
       "min_width": null,
       "object_fit": null,
       "object_position": null,
       "order": null,
       "overflow": null,
       "overflow_x": null,
       "overflow_y": null,
       "padding": null,
       "right": null,
       "top": null,
       "visibility": null,
       "width": null
      }
     },
     "85f2de035976490aa713cae2b7f704fc": {
      "model_module": "@jupyter-widgets/controls",
      "model_module_version": "1.5.0",
      "model_name": "DescriptionStyleModel",
      "state": {
       "_model_module": "@jupyter-widgets/controls",
       "_model_module_version": "1.5.0",
       "_model_name": "DescriptionStyleModel",
       "_view_count": null,
       "_view_module": "@jupyter-widgets/base",
       "_view_module_version": "1.2.0",
       "_view_name": "StyleView",
       "description_width": ""
      }
     },
     "87b7874a8d1c4b8d827649a36d10d9e0": {
      "model_module": "@jupyter-widgets/controls",
      "model_module_version": "1.5.0",
      "model_name": "HBoxModel",
      "state": {
       "_dom_classes": [],
       "_model_module": "@jupyter-widgets/controls",
       "_model_module_version": "1.5.0",
       "_model_name": "HBoxModel",
       "_view_count": null,
       "_view_module": "@jupyter-widgets/controls",
       "_view_module_version": "1.5.0",
       "_view_name": "HBoxView",
       "box_style": "",
       "children": [
        "IPY_MODEL_63f59189b1c145d193a6ce7404116405",
        "IPY_MODEL_ff0d7e9dca084f7db0f5acd79162e9ed",
        "IPY_MODEL_e9156d8305c14574a06c2dec60a8706f"
       ],
       "layout": "IPY_MODEL_e19d25c4a2a944bb8a6238d08620ae2b"
      }
     },
     "8b4f2b9853ce4d0bb8ed9dc3eec2778f": {
      "model_module": "@jupyter-widgets/base",
      "model_module_version": "1.2.0",
      "model_name": "LayoutModel",
      "state": {
       "_model_module": "@jupyter-widgets/base",
       "_model_module_version": "1.2.0",
       "_model_name": "LayoutModel",
       "_view_count": null,
       "_view_module": "@jupyter-widgets/base",
       "_view_module_version": "1.2.0",
       "_view_name": "LayoutView",
       "align_content": null,
       "align_items": null,
       "align_self": null,
       "border": null,
       "bottom": null,
       "display": null,
       "flex": null,
       "flex_flow": null,
       "grid_area": null,
       "grid_auto_columns": null,
       "grid_auto_flow": null,
       "grid_auto_rows": null,
       "grid_column": null,
       "grid_gap": null,
       "grid_row": null,
       "grid_template_areas": null,
       "grid_template_columns": null,
       "grid_template_rows": null,
       "height": null,
       "justify_content": null,
       "justify_items": null,
       "left": null,
       "margin": null,
       "max_height": null,
       "max_width": null,
       "min_height": null,
       "min_width": null,
       "object_fit": null,
       "object_position": null,
       "order": null,
       "overflow": null,
       "overflow_x": null,
       "overflow_y": null,
       "padding": null,
       "right": null,
       "top": null,
       "visibility": null,
       "width": null
      }
     },
     "8e458b8022534563a0039eef436f33a5": {
      "model_module": "@jupyter-widgets/controls",
      "model_module_version": "1.5.0",
      "model_name": "HTMLModel",
      "state": {
       "_dom_classes": [],
       "_model_module": "@jupyter-widgets/controls",
       "_model_module_version": "1.5.0",
       "_model_name": "HTMLModel",
       "_view_count": null,
       "_view_module": "@jupyter-widgets/controls",
       "_view_module_version": "1.5.0",
       "_view_name": "HTMLView",
       "description": "",
       "description_tooltip": null,
       "layout": "IPY_MODEL_8b4f2b9853ce4d0bb8ed9dc3eec2778f",
       "placeholder": "​",
       "style": "IPY_MODEL_e263051c37d446bb9a6a3fa100f59295",
       "value": " 681M/681M [00:16&lt;00:00, 49.1MB/s]"
      }
     },
     "9489079107674720a75113d8d81817f8": {
      "model_module": "@jupyter-widgets/controls",
      "model_module_version": "1.5.0",
      "model_name": "ProgressStyleModel",
      "state": {
       "_model_module": "@jupyter-widgets/controls",
       "_model_module_version": "1.5.0",
       "_model_name": "ProgressStyleModel",
       "_view_count": null,
       "_view_module": "@jupyter-widgets/base",
       "_view_module_version": "1.2.0",
       "_view_name": "StyleView",
       "bar_color": null,
       "description_width": ""
      }
     },
     "a0273a4f712d416186b1742b91b7af52": {
      "model_module": "@jupyter-widgets/base",
      "model_module_version": "1.2.0",
      "model_name": "LayoutModel",
      "state": {
       "_model_module": "@jupyter-widgets/base",
       "_model_module_version": "1.2.0",
       "_model_name": "LayoutModel",
       "_view_count": null,
       "_view_module": "@jupyter-widgets/base",
       "_view_module_version": "1.2.0",
       "_view_name": "LayoutView",
       "align_content": null,
       "align_items": null,
       "align_self": null,
       "border": null,
       "bottom": null,
       "display": null,
       "flex": null,
       "flex_flow": null,
       "grid_area": null,
       "grid_auto_columns": null,
       "grid_auto_flow": null,
       "grid_auto_rows": null,
       "grid_column": null,
       "grid_gap": null,
       "grid_row": null,
       "grid_template_areas": null,
       "grid_template_columns": null,
       "grid_template_rows": null,
       "height": null,
       "justify_content": null,
       "justify_items": null,
       "left": null,
       "margin": null,
       "max_height": null,
       "max_width": null,
       "min_height": null,
       "min_width": null,
       "object_fit": null,
       "object_position": null,
       "order": null,
       "overflow": null,
       "overflow_x": null,
       "overflow_y": null,
       "padding": null,
       "right": null,
       "top": null,
       "visibility": null,
       "width": null
      }
     },
     "a7c2ec3f27c7441b84a67d2e240a39fe": {
      "model_module": "@jupyter-widgets/controls",
      "model_module_version": "1.5.0",
      "model_name": "HTMLModel",
      "state": {
       "_dom_classes": [],
       "_model_module": "@jupyter-widgets/controls",
       "_model_module_version": "1.5.0",
       "_model_name": "HTMLModel",
       "_view_count": null,
       "_view_module": "@jupyter-widgets/controls",
       "_view_module_version": "1.5.0",
       "_view_name": "HTMLView",
       "description": "",
       "description_tooltip": null,
       "layout": "IPY_MODEL_a0273a4f712d416186b1742b91b7af52",
       "placeholder": "​",
       "style": "IPY_MODEL_5fc9959e29954207ab3aa0187a2a82e4",
       "value": "Downloading: 100%"
      }
     },
     "a9d6e69ccebd4374aed4fd91bfc64db0": {
      "model_module": "@jupyter-widgets/base",
      "model_module_version": "1.2.0",
      "model_name": "LayoutModel",
      "state": {
       "_model_module": "@jupyter-widgets/base",
       "_model_module_version": "1.2.0",
       "_model_name": "LayoutModel",
       "_view_count": null,
       "_view_module": "@jupyter-widgets/base",
       "_view_module_version": "1.2.0",
       "_view_name": "LayoutView",
       "align_content": null,
       "align_items": null,
       "align_self": null,
       "border": null,
       "bottom": null,
       "display": null,
       "flex": null,
       "flex_flow": null,
       "grid_area": null,
       "grid_auto_columns": null,
       "grid_auto_flow": null,
       "grid_auto_rows": null,
       "grid_column": null,
       "grid_gap": null,
       "grid_row": null,
       "grid_template_areas": null,
       "grid_template_columns": null,
       "grid_template_rows": null,
       "height": null,
       "justify_content": null,
       "justify_items": null,
       "left": null,
       "margin": null,
       "max_height": null,
       "max_width": null,
       "min_height": null,
       "min_width": null,
       "object_fit": null,
       "object_position": null,
       "order": null,
       "overflow": null,
       "overflow_x": null,
       "overflow_y": null,
       "padding": null,
       "right": null,
       "top": null,
       "visibility": null,
       "width": null
      }
     },
     "b5121f3c3a514923a6324ac19a35e039": {
      "model_module": "@jupyter-widgets/controls",
      "model_module_version": "1.5.0",
      "model_name": "DescriptionStyleModel",
      "state": {
       "_model_module": "@jupyter-widgets/controls",
       "_model_module_version": "1.5.0",
       "_model_name": "DescriptionStyleModel",
       "_view_count": null,
       "_view_module": "@jupyter-widgets/base",
       "_view_module_version": "1.2.0",
       "_view_name": "StyleView",
       "description_width": ""
      }
     },
     "bb0384edd6c14a9ba54b13f30641cc64": {
      "model_module": "@jupyter-widgets/controls",
      "model_module_version": "1.5.0",
      "model_name": "HBoxModel",
      "state": {
       "_dom_classes": [],
       "_model_module": "@jupyter-widgets/controls",
       "_model_module_version": "1.5.0",
       "_model_name": "HBoxModel",
       "_view_count": null,
       "_view_module": "@jupyter-widgets/controls",
       "_view_module_version": "1.5.0",
       "_view_name": "HBoxView",
       "box_style": "",
       "children": [
        "IPY_MODEL_a7c2ec3f27c7441b84a67d2e240a39fe",
        "IPY_MODEL_0fa4022fe736423e919cd93a43b32afa",
        "IPY_MODEL_fd45ca9b17a8415a8f71a81791c48af4"
       ],
       "layout": "IPY_MODEL_f905d4be83c44014a02704c88fde81f0"
      }
     },
     "c0c0b7ea5d284cb7946d7058f841aab9": {
      "model_module": "@jupyter-widgets/base",
      "model_module_version": "1.2.0",
      "model_name": "LayoutModel",
      "state": {
       "_model_module": "@jupyter-widgets/base",
       "_model_module_version": "1.2.0",
       "_model_name": "LayoutModel",
       "_view_count": null,
       "_view_module": "@jupyter-widgets/base",
       "_view_module_version": "1.2.0",
       "_view_name": "LayoutView",
       "align_content": null,
       "align_items": null,
       "align_self": null,
       "border": null,
       "bottom": null,
       "display": null,
       "flex": null,
       "flex_flow": null,
       "grid_area": null,
       "grid_auto_columns": null,
       "grid_auto_flow": null,
       "grid_auto_rows": null,
       "grid_column": null,
       "grid_gap": null,
       "grid_row": null,
       "grid_template_areas": null,
       "grid_template_columns": null,
       "grid_template_rows": null,
       "height": null,
       "justify_content": null,
       "justify_items": null,
       "left": null,
       "margin": null,
       "max_height": null,
       "max_width": null,
       "min_height": null,
       "min_width": null,
       "object_fit": null,
       "object_position": null,
       "order": null,
       "overflow": null,
       "overflow_x": null,
       "overflow_y": null,
       "padding": null,
       "right": null,
       "top": null,
       "visibility": null,
       "width": null
      }
     },
     "c41b140e36154efb84c06c221da08676": {
      "model_module": "@jupyter-widgets/controls",
      "model_module_version": "1.5.0",
      "model_name": "ProgressStyleModel",
      "state": {
       "_model_module": "@jupyter-widgets/controls",
       "_model_module_version": "1.5.0",
       "_model_name": "ProgressStyleModel",
       "_view_count": null,
       "_view_module": "@jupyter-widgets/base",
       "_view_module_version": "1.2.0",
       "_view_name": "StyleView",
       "bar_color": null,
       "description_width": ""
      }
     },
     "cb6e02bb043b4d32b1c6f706db8af4b4": {
      "model_module": "@jupyter-widgets/base",
      "model_module_version": "1.2.0",
      "model_name": "LayoutModel",
      "state": {
       "_model_module": "@jupyter-widgets/base",
       "_model_module_version": "1.2.0",
       "_model_name": "LayoutModel",
       "_view_count": null,
       "_view_module": "@jupyter-widgets/base",
       "_view_module_version": "1.2.0",
       "_view_name": "LayoutView",
       "align_content": null,
       "align_items": null,
       "align_self": null,
       "border": null,
       "bottom": null,
       "display": null,
       "flex": null,
       "flex_flow": null,
       "grid_area": null,
       "grid_auto_columns": null,
       "grid_auto_flow": null,
       "grid_auto_rows": null,
       "grid_column": null,
       "grid_gap": null,
       "grid_row": null,
       "grid_template_areas": null,
       "grid_template_columns": null,
       "grid_template_rows": null,
       "height": null,
       "justify_content": null,
       "justify_items": null,
       "left": null,
       "margin": null,
       "max_height": null,
       "max_width": null,
       "min_height": null,
       "min_width": null,
       "object_fit": null,
       "object_position": null,
       "order": null,
       "overflow": null,
       "overflow_x": null,
       "overflow_y": null,
       "padding": null,
       "right": null,
       "top": null,
       "visibility": null,
       "width": null
      }
     },
     "ccdb5b7bcdfe4ce99a26eefa0dad7751": {
      "model_module": "@jupyter-widgets/controls",
      "model_module_version": "1.5.0",
      "model_name": "HTMLModel",
      "state": {
       "_dom_classes": [],
       "_model_module": "@jupyter-widgets/controls",
       "_model_module_version": "1.5.0",
       "_model_name": "HTMLModel",
       "_view_count": null,
       "_view_module": "@jupyter-widgets/controls",
       "_view_module_version": "1.5.0",
       "_view_name": "HTMLView",
       "description": "",
       "description_tooltip": null,
       "layout": "IPY_MODEL_20a2788c92314eafb15e52158ed80842",
       "placeholder": "​",
       "style": "IPY_MODEL_85f2de035976490aa713cae2b7f704fc",
       "value": "Downloading: 100%"
      }
     },
     "d304dd14677f4d4dbd17bfb1aee6192c": {
      "model_module": "@jupyter-widgets/controls",
      "model_module_version": "1.5.0",
      "model_name": "FloatProgressModel",
      "state": {
       "_dom_classes": [],
       "_model_module": "@jupyter-widgets/controls",
       "_model_module_version": "1.5.0",
       "_model_name": "FloatProgressModel",
       "_view_count": null,
       "_view_module": "@jupyter-widgets/controls",
       "_view_module_version": "1.5.0",
       "_view_name": "ProgressView",
       "bar_style": "success",
       "description": "",
       "description_tooltip": null,
       "layout": "IPY_MODEL_fb0c27070869461b865f194f1b0f7b12",
       "max": 625.0,
       "min": 0.0,
       "orientation": "horizontal",
       "style": "IPY_MODEL_9489079107674720a75113d8d81817f8",
       "value": 625.0
      }
     },
     "d96b7502a74747269695226396e72896": {
      "model_module": "@jupyter-widgets/controls",
      "model_module_version": "1.5.0",
      "model_name": "DescriptionStyleModel",
      "state": {
       "_model_module": "@jupyter-widgets/controls",
       "_model_module_version": "1.5.0",
       "_model_name": "DescriptionStyleModel",
       "_view_count": null,
       "_view_module": "@jupyter-widgets/base",
       "_view_module_version": "1.2.0",
       "_view_name": "StyleView",
       "description_width": ""
      }
     },
     "ddf7db18e938451c85d00a83695923fe": {
      "model_module": "@jupyter-widgets/base",
      "model_module_version": "1.2.0",
      "model_name": "LayoutModel",
      "state": {
       "_model_module": "@jupyter-widgets/base",
       "_model_module_version": "1.2.0",
       "_model_name": "LayoutModel",
       "_view_count": null,
       "_view_module": "@jupyter-widgets/base",
       "_view_module_version": "1.2.0",
       "_view_name": "LayoutView",
       "align_content": null,
       "align_items": null,
       "align_self": null,
       "border": null,
       "bottom": null,
       "display": null,
       "flex": null,
       "flex_flow": null,
       "grid_area": null,
       "grid_auto_columns": null,
       "grid_auto_flow": null,
       "grid_auto_rows": null,
       "grid_column": null,
       "grid_gap": null,
       "grid_row": null,
       "grid_template_areas": null,
       "grid_template_columns": null,
       "grid_template_rows": null,
       "height": null,
       "justify_content": null,
       "justify_items": null,
       "left": null,
       "margin": null,
       "max_height": null,
       "max_width": null,
       "min_height": null,
       "min_width": null,
       "object_fit": null,
       "object_position": null,
       "order": null,
       "overflow": null,
       "overflow_x": null,
       "overflow_y": null,
       "padding": null,
       "right": null,
       "top": null,
       "visibility": null,
       "width": null
      }
     },
     "df080937539d481ca3f2198632be3309": {
      "model_module": "@jupyter-widgets/base",
      "model_module_version": "1.2.0",
      "model_name": "LayoutModel",
      "state": {
       "_model_module": "@jupyter-widgets/base",
       "_model_module_version": "1.2.0",
       "_model_name": "LayoutModel",
       "_view_count": null,
       "_view_module": "@jupyter-widgets/base",
       "_view_module_version": "1.2.0",
       "_view_name": "LayoutView",
       "align_content": null,
       "align_items": null,
       "align_self": null,
       "border": null,
       "bottom": null,
       "display": null,
       "flex": null,
       "flex_flow": null,
       "grid_area": null,
       "grid_auto_columns": null,
       "grid_auto_flow": null,
       "grid_auto_rows": null,
       "grid_column": null,
       "grid_gap": null,
       "grid_row": null,
       "grid_template_areas": null,
       "grid_template_columns": null,
       "grid_template_rows": null,
       "height": null,
       "justify_content": null,
       "justify_items": null,
       "left": null,
       "margin": null,
       "max_height": null,
       "max_width": null,
       "min_height": null,
       "min_width": null,
       "object_fit": null,
       "object_position": null,
       "order": null,
       "overflow": null,
       "overflow_x": null,
       "overflow_y": null,
       "padding": null,
       "right": null,
       "top": null,
       "visibility": null,
       "width": null
      }
     },
     "dfa93852ac224555882da75c445dab79": {
      "model_module": "@jupyter-widgets/controls",
      "model_module_version": "1.5.0",
      "model_name": "HTMLModel",
      "state": {
       "_dom_classes": [],
       "_model_module": "@jupyter-widgets/controls",
       "_model_module_version": "1.5.0",
       "_model_name": "HTMLModel",
       "_view_count": null,
       "_view_module": "@jupyter-widgets/controls",
       "_view_module_version": "1.5.0",
       "_view_name": "HTMLView",
       "description": "",
       "description_tooltip": null,
       "layout": "IPY_MODEL_e04919be03924a7fa4f584bcab0a3e3f",
       "placeholder": "​",
       "style": "IPY_MODEL_b5121f3c3a514923a6324ac19a35e039",
       "value": "Downloading: 100%"
      }
     },
     "dffd1a19c6f74daa957abda9b2387608": {
      "model_module": "@jupyter-widgets/controls",
      "model_module_version": "1.5.0",
      "model_name": "ProgressStyleModel",
      "state": {
       "_model_module": "@jupyter-widgets/controls",
       "_model_module_version": "1.5.0",
       "_model_name": "ProgressStyleModel",
       "_view_count": null,
       "_view_module": "@jupyter-widgets/base",
       "_view_module_version": "1.2.0",
       "_view_name": "StyleView",
       "bar_color": null,
       "description_width": ""
      }
     },
     "e04919be03924a7fa4f584bcab0a3e3f": {
      "model_module": "@jupyter-widgets/base",
      "model_module_version": "1.2.0",
      "model_name": "LayoutModel",
      "state": {
       "_model_module": "@jupyter-widgets/base",
       "_model_module_version": "1.2.0",
       "_model_name": "LayoutModel",
       "_view_count": null,
       "_view_module": "@jupyter-widgets/base",
       "_view_module_version": "1.2.0",
       "_view_name": "LayoutView",
       "align_content": null,
       "align_items": null,
       "align_self": null,
       "border": null,
       "bottom": null,
       "display": null,
       "flex": null,
       "flex_flow": null,
       "grid_area": null,
       "grid_auto_columns": null,
       "grid_auto_flow": null,
       "grid_auto_rows": null,
       "grid_column": null,
       "grid_gap": null,
       "grid_row": null,
       "grid_template_areas": null,
       "grid_template_columns": null,
       "grid_template_rows": null,
       "height": null,
       "justify_content": null,
       "justify_items": null,
       "left": null,
       "margin": null,
       "max_height": null,
       "max_width": null,
       "min_height": null,
       "min_width": null,
       "object_fit": null,
       "object_position": null,
       "order": null,
       "overflow": null,
       "overflow_x": null,
       "overflow_y": null,
       "padding": null,
       "right": null,
       "top": null,
       "visibility": null,
       "width": null
      }
     },
     "e19d25c4a2a944bb8a6238d08620ae2b": {
      "model_module": "@jupyter-widgets/base",
      "model_module_version": "1.2.0",
      "model_name": "LayoutModel",
      "state": {
       "_model_module": "@jupyter-widgets/base",
       "_model_module_version": "1.2.0",
       "_model_name": "LayoutModel",
       "_view_count": null,
       "_view_module": "@jupyter-widgets/base",
       "_view_module_version": "1.2.0",
       "_view_name": "LayoutView",
       "align_content": null,
       "align_items": null,
       "align_self": null,
       "border": null,
       "bottom": null,
       "display": null,
       "flex": null,
       "flex_flow": null,
       "grid_area": null,
       "grid_auto_columns": null,
       "grid_auto_flow": null,
       "grid_auto_rows": null,
       "grid_column": null,
       "grid_gap": null,
       "grid_row": null,
       "grid_template_areas": null,
       "grid_template_columns": null,
       "grid_template_rows": null,
       "height": null,
       "justify_content": null,
       "justify_items": null,
       "left": null,
       "margin": null,
       "max_height": null,
       "max_width": null,
       "min_height": null,
       "min_width": null,
       "object_fit": null,
       "object_position": null,
       "order": null,
       "overflow": null,
       "overflow_x": null,
       "overflow_y": null,
       "padding": null,
       "right": null,
       "top": null,
       "visibility": null,
       "width": null
      }
     },
     "e263051c37d446bb9a6a3fa100f59295": {
      "model_module": "@jupyter-widgets/controls",
      "model_module_version": "1.5.0",
      "model_name": "DescriptionStyleModel",
      "state": {
       "_model_module": "@jupyter-widgets/controls",
       "_model_module_version": "1.5.0",
       "_model_name": "DescriptionStyleModel",
       "_view_count": null,
       "_view_module": "@jupyter-widgets/base",
       "_view_module_version": "1.2.0",
       "_view_name": "StyleView",
       "description_width": ""
      }
     },
     "e9156d8305c14574a06c2dec60a8706f": {
      "model_module": "@jupyter-widgets/controls",
      "model_module_version": "1.5.0",
      "model_name": "HTMLModel",
      "state": {
       "_dom_classes": [],
       "_model_module": "@jupyter-widgets/controls",
       "_model_module_version": "1.5.0",
       "_model_name": "HTMLModel",
       "_view_count": null,
       "_view_module": "@jupyter-widgets/controls",
       "_view_module_version": "1.5.0",
       "_view_name": "HTMLView",
       "description": "",
       "description_tooltip": null,
       "layout": "IPY_MODEL_3208e6242c594db0b1df8560a9bc8a89",
       "placeholder": "​",
       "style": "IPY_MODEL_6d940edc48aa4dfdae069c900aa7a81a",
       "value": " 1.87M/1.87M [00:00&lt;00:00, 2.91MB/s]"
      }
     },
     "eaa196fefb61432b96ae24de1618c4f3": {
      "model_module": "@jupyter-widgets/controls",
      "model_module_version": "1.5.0",
      "model_name": "HBoxModel",
      "state": {
       "_dom_classes": [],
       "_model_module": "@jupyter-widgets/controls",
       "_model_module_version": "1.5.0",
       "_model_name": "HBoxModel",
       "_view_count": null,
       "_view_module": "@jupyter-widgets/controls",
       "_view_module_version": "1.5.0",
       "_view_name": "HBoxView",
       "box_style": "",
       "children": [
        "IPY_MODEL_dfa93852ac224555882da75c445dab79",
        "IPY_MODEL_d304dd14677f4d4dbd17bfb1aee6192c",
        "IPY_MODEL_586ba40948224d2b83aabc9a5848f125"
       ],
       "layout": "IPY_MODEL_779907d7312849cbb3f02955b48651e8"
      }
     },
     "f041b395462d46f59d7e99a474764060": {
      "model_module": "@jupyter-widgets/controls",
      "model_module_version": "1.5.0",
      "model_name": "ProgressStyleModel",
      "state": {
       "_model_module": "@jupyter-widgets/controls",
       "_model_module_version": "1.5.0",
       "_model_name": "ProgressStyleModel",
       "_view_count": null,
       "_view_module": "@jupyter-widgets/base",
       "_view_module_version": "1.2.0",
       "_view_name": "StyleView",
       "bar_color": null,
       "description_width": ""
      }
     },
     "f905d4be83c44014a02704c88fde81f0": {
      "model_module": "@jupyter-widgets/base",
      "model_module_version": "1.2.0",
      "model_name": "LayoutModel",
      "state": {
       "_model_module": "@jupyter-widgets/base",
       "_model_module_version": "1.2.0",
       "_model_name": "LayoutModel",
       "_view_count": null,
       "_view_module": "@jupyter-widgets/base",
       "_view_module_version": "1.2.0",
       "_view_name": "LayoutView",
       "align_content": null,
       "align_items": null,
       "align_self": null,
       "border": null,
       "bottom": null,
       "display": null,
       "flex": null,
       "flex_flow": null,
       "grid_area": null,
       "grid_auto_columns": null,
       "grid_auto_flow": null,
       "grid_auto_rows": null,
       "grid_column": null,
       "grid_gap": null,
       "grid_row": null,
       "grid_template_areas": null,
       "grid_template_columns": null,
       "grid_template_rows": null,
       "height": null,
       "justify_content": null,
       "justify_items": null,
       "left": null,
       "margin": null,
       "max_height": null,
       "max_width": null,
       "min_height": null,
       "min_width": null,
       "object_fit": null,
       "object_position": null,
       "order": null,
       "overflow": null,
       "overflow_x": null,
       "overflow_y": null,
       "padding": null,
       "right": null,
       "top": null,
       "visibility": null,
       "width": null
      }
     },
     "fb0c27070869461b865f194f1b0f7b12": {
      "model_module": "@jupyter-widgets/base",
      "model_module_version": "1.2.0",
      "model_name": "LayoutModel",
      "state": {
       "_model_module": "@jupyter-widgets/base",
       "_model_module_version": "1.2.0",
       "_model_name": "LayoutModel",
       "_view_count": null,
       "_view_module": "@jupyter-widgets/base",
       "_view_module_version": "1.2.0",
       "_view_name": "LayoutView",
       "align_content": null,
       "align_items": null,
       "align_self": null,
       "border": null,
       "bottom": null,
       "display": null,
       "flex": null,
       "flex_flow": null,
       "grid_area": null,
       "grid_auto_columns": null,
       "grid_auto_flow": null,
       "grid_auto_rows": null,
       "grid_column": null,
       "grid_gap": null,
       "grid_row": null,
       "grid_template_areas": null,
       "grid_template_columns": null,
       "grid_template_rows": null,
       "height": null,
       "justify_content": null,
       "justify_items": null,
       "left": null,
       "margin": null,
       "max_height": null,
       "max_width": null,
       "min_height": null,
       "min_width": null,
       "object_fit": null,
       "object_position": null,
       "order": null,
       "overflow": null,
       "overflow_x": null,
       "overflow_y": null,
       "padding": null,
       "right": null,
       "top": null,
       "visibility": null,
       "width": null
      }
     },
     "fc4c115ce8d64a36933163e8ce73d427": {
      "model_module": "@jupyter-widgets/controls",
      "model_module_version": "1.5.0",
      "model_name": "DescriptionStyleModel",
      "state": {
       "_model_module": "@jupyter-widgets/controls",
       "_model_module_version": "1.5.0",
       "_model_name": "DescriptionStyleModel",
       "_view_count": null,
       "_view_module": "@jupyter-widgets/base",
       "_view_module_version": "1.2.0",
       "_view_name": "StyleView",
       "description_width": ""
      }
     },
     "fd45ca9b17a8415a8f71a81791c48af4": {
      "model_module": "@jupyter-widgets/controls",
      "model_module_version": "1.5.0",
      "model_name": "HTMLModel",
      "state": {
       "_dom_classes": [],
       "_model_module": "@jupyter-widgets/controls",
       "_model_module_version": "1.5.0",
       "_model_name": "HTMLModel",
       "_view_count": null,
       "_view_module": "@jupyter-widgets/controls",
       "_view_module_version": "1.5.0",
       "_view_name": "HTMLView",
       "description": "",
       "description_tooltip": null,
       "layout": "IPY_MODEL_139422972cae4f52ab75397d029c55fe",
       "placeholder": "​",
       "style": "IPY_MODEL_d96b7502a74747269695226396e72896",
       "value": " 972k/972k [00:00&lt;00:00, 2.85MB/s]"
      }
     },
     "ff0d7e9dca084f7db0f5acd79162e9ed": {
      "model_module": "@jupyter-widgets/controls",
      "model_module_version": "1.5.0",
      "model_name": "FloatProgressModel",
      "state": {
       "_dom_classes": [],
       "_model_module": "@jupyter-widgets/controls",
       "_model_module_version": "1.5.0",
       "_model_name": "FloatProgressModel",
       "_view_count": null,
       "_view_module": "@jupyter-widgets/controls",
       "_view_module_version": "1.5.0",
       "_view_name": "ProgressView",
       "bar_style": "success",
       "description": "",
       "description_tooltip": null,
       "layout": "IPY_MODEL_29c9c53ec0ae43e8842fdd118a75f7d9",
       "max": 1961828.0,
       "min": 0.0,
       "orientation": "horizontal",
       "style": "IPY_MODEL_c41b140e36154efb84c06c221da08676",
       "value": 1961828.0
      }
     }
    },
    "version_major": 2,
    "version_minor": 0
   }
  }
 },
 "nbformat": 4,
 "nbformat_minor": 5
}
