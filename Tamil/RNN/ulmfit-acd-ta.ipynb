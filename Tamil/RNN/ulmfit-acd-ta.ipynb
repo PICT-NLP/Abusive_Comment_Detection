{
 "cells": [
  {
   "cell_type": "code",
   "execution_count": 1,
   "id": "7f1577ed",
   "metadata": {
    "_cell_guid": "b1076dfc-b9ad-4769-8c92-a6c4dae69d19",
    "_uuid": "8f2839f25d086af736a60e9eeb907d3b93b6e0e5",
    "execution": {
     "iopub.execute_input": "2022-03-03T19:14:22.764335Z",
     "iopub.status.busy": "2022-03-03T19:14:22.762847Z",
     "iopub.status.idle": "2022-03-03T19:16:05.458862Z",
     "shell.execute_reply": "2022-03-03T19:16:05.459375Z",
     "shell.execute_reply.started": "2022-03-02T16:31:31.755845Z"
    },
    "papermill": {
     "duration": 102.74915,
     "end_time": "2022-03-03T19:16:05.459663",
     "exception": false,
     "start_time": "2022-03-03T19:14:22.710513",
     "status": "completed"
    },
    "tags": []
   },
   "outputs": [
    {
     "name": "stdout",
     "output_type": "stream",
     "text": [
      "Collecting fastai==1.0.61\r\n",
      "  Downloading fastai-1.0.61-py3-none-any.whl (239 kB)\r\n",
      "     |████████████████████████████████| 239 kB 527 kB/s            \r\n",
      "\u001b[?25hRequirement already satisfied: torch>=1.0.0 in /opt/conda/lib/python3.7/site-packages (from fastai==1.0.61) (1.9.1)\r\n",
      "Requirement already satisfied: Pillow in /opt/conda/lib/python3.7/site-packages (from fastai==1.0.61) (8.2.0)\r\n",
      "Requirement already satisfied: numexpr in /opt/conda/lib/python3.7/site-packages (from fastai==1.0.61) (2.8.1)\r\n",
      "Requirement already satisfied: beautifulsoup4 in /opt/conda/lib/python3.7/site-packages (from fastai==1.0.61) (4.10.0)\r\n",
      "Requirement already satisfied: matplotlib in /opt/conda/lib/python3.7/site-packages (from fastai==1.0.61) (3.5.1)\r\n",
      "Requirement already satisfied: pyyaml in /opt/conda/lib/python3.7/site-packages (from fastai==1.0.61) (6.0)\r\n",
      "Requirement already satisfied: pandas in /opt/conda/lib/python3.7/site-packages (from fastai==1.0.61) (1.3.5)\r\n",
      "Requirement already satisfied: spacy>=2.0.18 in /opt/conda/lib/python3.7/site-packages (from fastai==1.0.61) (3.2.1)\r\n",
      "Requirement already satisfied: bottleneck in /opt/conda/lib/python3.7/site-packages (from fastai==1.0.61) (1.3.2)\r\n",
      "Requirement already satisfied: scipy in /opt/conda/lib/python3.7/site-packages (from fastai==1.0.61) (1.7.3)\r\n",
      "Requirement already satisfied: torchvision in /opt/conda/lib/python3.7/site-packages (from fastai==1.0.61) (0.10.1)\r\n",
      "Requirement already satisfied: requests in /opt/conda/lib/python3.7/site-packages (from fastai==1.0.61) (2.26.0)\r\n",
      "Requirement already satisfied: fastprogress>=0.2.1 in /opt/conda/lib/python3.7/site-packages (from fastai==1.0.61) (1.0.0)\r\n",
      "Requirement already satisfied: numpy>=1.15 in /opt/conda/lib/python3.7/site-packages (from fastai==1.0.61) (1.20.3)\r\n",
      "Requirement already satisfied: packaging in /opt/conda/lib/python3.7/site-packages (from fastai==1.0.61) (21.3)\r\n",
      "Collecting nvidia-ml-py3\r\n",
      "  Downloading nvidia-ml-py3-7.352.0.tar.gz (19 kB)\r\n",
      "  Preparing metadata (setup.py) ... \u001b[?25l-\b \bdone\r\n",
      "\u001b[?25hRequirement already satisfied: pathy>=0.3.5 in /opt/conda/lib/python3.7/site-packages (from spacy>=2.0.18->fastai==1.0.61) (0.6.1)\r\n",
      "Requirement already satisfied: wasabi<1.1.0,>=0.8.1 in /opt/conda/lib/python3.7/site-packages (from spacy>=2.0.18->fastai==1.0.61) (0.9.0)\r\n",
      "Requirement already satisfied: srsly<3.0.0,>=2.4.1 in /opt/conda/lib/python3.7/site-packages (from spacy>=2.0.18->fastai==1.0.61) (2.4.2)\r\n",
      "Requirement already satisfied: typer<0.5.0,>=0.3.0 in /opt/conda/lib/python3.7/site-packages (from spacy>=2.0.18->fastai==1.0.61) (0.4.0)\r\n",
      "Requirement already satisfied: pydantic!=1.8,!=1.8.1,<1.9.0,>=1.7.4 in /opt/conda/lib/python3.7/site-packages (from spacy>=2.0.18->fastai==1.0.61) (1.8.2)\r\n",
      "Requirement already satisfied: tqdm<5.0.0,>=4.38.0 in /opt/conda/lib/python3.7/site-packages (from spacy>=2.0.18->fastai==1.0.61) (4.62.3)\r\n",
      "Collecting typing-extensions<4.0.0.0,>=3.7.4\r\n",
      "  Downloading typing_extensions-3.10.0.2-py3-none-any.whl (26 kB)\r\n",
      "Requirement already satisfied: blis<0.8.0,>=0.4.0 in /opt/conda/lib/python3.7/site-packages (from spacy>=2.0.18->fastai==1.0.61) (0.7.5)\r\n",
      "Requirement already satisfied: cymem<2.1.0,>=2.0.2 in /opt/conda/lib/python3.7/site-packages (from spacy>=2.0.18->fastai==1.0.61) (2.0.6)\r\n",
      "Requirement already satisfied: thinc<8.1.0,>=8.0.12 in /opt/conda/lib/python3.7/site-packages (from spacy>=2.0.18->fastai==1.0.61) (8.0.13)\r\n",
      "Requirement already satisfied: preshed<3.1.0,>=3.0.2 in /opt/conda/lib/python3.7/site-packages (from spacy>=2.0.18->fastai==1.0.61) (3.0.6)\r\n",
      "Requirement already satisfied: setuptools in /opt/conda/lib/python3.7/site-packages (from spacy>=2.0.18->fastai==1.0.61) (59.5.0)\r\n",
      "Requirement already satisfied: langcodes<4.0.0,>=3.2.0 in /opt/conda/lib/python3.7/site-packages (from spacy>=2.0.18->fastai==1.0.61) (3.3.0)\r\n",
      "Requirement already satisfied: murmurhash<1.1.0,>=0.28.0 in /opt/conda/lib/python3.7/site-packages (from spacy>=2.0.18->fastai==1.0.61) (1.0.6)\r\n",
      "Requirement already satisfied: jinja2 in /opt/conda/lib/python3.7/site-packages (from spacy>=2.0.18->fastai==1.0.61) (3.0.3)\r\n",
      "Requirement already satisfied: spacy-loggers<2.0.0,>=1.0.0 in /opt/conda/lib/python3.7/site-packages (from spacy>=2.0.18->fastai==1.0.61) (1.0.1)\r\n",
      "Requirement already satisfied: spacy-legacy<3.1.0,>=3.0.8 in /opt/conda/lib/python3.7/site-packages (from spacy>=2.0.18->fastai==1.0.61) (3.0.8)\r\n",
      "Requirement already satisfied: catalogue<2.1.0,>=2.0.6 in /opt/conda/lib/python3.7/site-packages (from spacy>=2.0.18->fastai==1.0.61) (2.0.6)\r\n",
      "Requirement already satisfied: pyparsing!=3.0.5,>=2.0.2 in /opt/conda/lib/python3.7/site-packages (from packaging->fastai==1.0.61) (3.0.6)\r\n",
      "Requirement already satisfied: urllib3<1.27,>=1.21.1 in /opt/conda/lib/python3.7/site-packages (from requests->fastai==1.0.61) (1.26.7)\r\n",
      "Requirement already satisfied: idna<4,>=2.5 in /opt/conda/lib/python3.7/site-packages (from requests->fastai==1.0.61) (3.1)\r\n",
      "Requirement already satisfied: certifi>=2017.4.17 in /opt/conda/lib/python3.7/site-packages (from requests->fastai==1.0.61) (2021.10.8)\r\n",
      "Requirement already satisfied: charset-normalizer~=2.0.0 in /opt/conda/lib/python3.7/site-packages (from requests->fastai==1.0.61) (2.0.9)\r\n",
      "Requirement already satisfied: soupsieve>1.2 in /opt/conda/lib/python3.7/site-packages (from beautifulsoup4->fastai==1.0.61) (2.3.1)\r\n",
      "Requirement already satisfied: kiwisolver>=1.0.1 in /opt/conda/lib/python3.7/site-packages (from matplotlib->fastai==1.0.61) (1.3.2)\r\n",
      "Requirement already satisfied: fonttools>=4.22.0 in /opt/conda/lib/python3.7/site-packages (from matplotlib->fastai==1.0.61) (4.28.4)\r\n",
      "Requirement already satisfied: python-dateutil>=2.7 in /opt/conda/lib/python3.7/site-packages (from matplotlib->fastai==1.0.61) (2.8.2)\r\n",
      "Requirement already satisfied: cycler>=0.10 in /opt/conda/lib/python3.7/site-packages (from matplotlib->fastai==1.0.61) (0.11.0)\r\n",
      "Requirement already satisfied: pytz>=2017.3 in /opt/conda/lib/python3.7/site-packages (from pandas->fastai==1.0.61) (2021.3)\r\n",
      "Requirement already satisfied: zipp>=0.5 in /opt/conda/lib/python3.7/site-packages (from catalogue<2.1.0,>=2.0.6->spacy>=2.0.18->fastai==1.0.61) (3.6.0)\r\n",
      "Requirement already satisfied: smart-open<6.0.0,>=5.0.0 in /opt/conda/lib/python3.7/site-packages (from pathy>=0.3.5->spacy>=2.0.18->fastai==1.0.61) (5.2.1)\r\n",
      "Requirement already satisfied: six>=1.5 in /opt/conda/lib/python3.7/site-packages (from python-dateutil>=2.7->matplotlib->fastai==1.0.61) (1.16.0)\r\n",
      "Requirement already satisfied: click<9.0.0,>=7.1.1 in /opt/conda/lib/python3.7/site-packages (from typer<0.5.0,>=0.3.0->spacy>=2.0.18->fastai==1.0.61) (8.0.3)\r\n",
      "Requirement already satisfied: MarkupSafe>=2.0 in /opt/conda/lib/python3.7/site-packages (from jinja2->spacy>=2.0.18->fastai==1.0.61) (2.0.1)\r\n",
      "Requirement already satisfied: importlib-metadata in /opt/conda/lib/python3.7/site-packages (from click<9.0.0,>=7.1.1->typer<0.5.0,>=0.3.0->spacy>=2.0.18->fastai==1.0.61) (4.10.1)\r\n",
      "Building wheels for collected packages: nvidia-ml-py3\r\n",
      "  Building wheel for nvidia-ml-py3 (setup.py) ... \u001b[?25l-\b \b\\\b \bdone\r\n",
      "\u001b[?25h  Created wheel for nvidia-ml-py3: filename=nvidia_ml_py3-7.352.0-py3-none-any.whl size=19191 sha256=d30bebcaecfb90915dcb10ba74d2c9ab1b6e5e27aacfeace26c7a1372ca4ef4f\r\n",
      "  Stored in directory: /root/.cache/pip/wheels/df/99/da/c34f202dc8fd1dffd35e0ecf1a7d7f8374ca05fbcbaf974b83\r\n",
      "Successfully built nvidia-ml-py3\r\n",
      "Installing collected packages: typing-extensions, nvidia-ml-py3, fastai\r\n",
      "  Attempting uninstall: typing-extensions\r\n",
      "    Found existing installation: typing-extensions 4.0.1\r\n",
      "    Uninstalling typing-extensions-4.0.1:\r\n",
      "      Successfully uninstalled typing-extensions-4.0.1\r\n",
      "  Attempting uninstall: fastai\r\n",
      "    Found existing installation: fastai 2.5.3\r\n",
      "    Uninstalling fastai-2.5.3:\r\n",
      "      Successfully uninstalled fastai-2.5.3\r\n",
      "\u001b[31mERROR: pip's dependency resolver does not currently take into account all the packages that are installed. This behaviour is the source of the following dependency conflicts.\r\n",
      "tensorflow-io 0.21.0 requires tensorflow-io-gcs-filesystem==0.21.0, which is not installed.\r\n",
      "explainable-ai-sdk 1.3.2 requires xai-image-widget, which is not installed.\r\n",
      "tensorflow 2.6.2 requires numpy~=1.19.2, but you have numpy 1.20.3 which is incompatible.\r\n",
      "tensorflow 2.6.2 requires six~=1.15.0, but you have six 1.16.0 which is incompatible.\r\n",
      "tensorflow 2.6.2 requires typing-extensions~=3.7.4, but you have typing-extensions 3.10.0.2 which is incompatible.\r\n",
      "tensorflow 2.6.2 requires wrapt~=1.12.1, but you have wrapt 1.13.3 which is incompatible.\r\n",
      "tensorflow-transform 1.5.0 requires absl-py<0.13,>=0.9, but you have absl-py 0.15.0 which is incompatible.\r\n",
      "tensorflow-transform 1.5.0 requires numpy<1.20,>=1.16, but you have numpy 1.20.3 which is incompatible.\r\n",
      "tensorflow-transform 1.5.0 requires pyarrow<6,>=1, but you have pyarrow 6.0.1 which is incompatible.\r\n",
      "tensorflow-transform 1.5.0 requires tensorflow!=2.0.*,!=2.1.*,!=2.2.*,!=2.3.*,!=2.4.*,!=2.5.*,!=2.6.*,<2.8,>=1.15.2, but you have tensorflow 2.6.2 which is incompatible.\r\n",
      "tensorflow-serving-api 2.7.0 requires tensorflow<3,>=2.7.0, but you have tensorflow 2.6.2 which is incompatible.\r\n",
      "flake8 4.0.1 requires importlib-metadata<4.3; python_version < \"3.8\", but you have importlib-metadata 4.10.1 which is incompatible.\r\n",
      "apache-beam 2.34.0 requires dill<0.3.2,>=0.3.1.1, but you have dill 0.3.4 which is incompatible.\r\n",
      "apache-beam 2.34.0 requires httplib2<0.20.0,>=0.8, but you have httplib2 0.20.2 which is incompatible.\r\n",
      "apache-beam 2.34.0 requires pyarrow<6.0.0,>=0.15.1, but you have pyarrow 6.0.1 which is incompatible.\r\n",
      "aioitertools 0.9.0 requires typing_extensions>=4.0; python_version < \"3.10\", but you have typing-extensions 3.10.0.2 which is incompatible.\r\n",
      "aiobotocore 2.1.0 requires botocore<1.23.25,>=1.23.24, but you have botocore 1.23.51 which is incompatible.\u001b[0m\r\n",
      "Successfully installed fastai-1.0.61 nvidia-ml-py3-7.352.0 typing-extensions-3.10.0.2\r\n",
      "\u001b[33mWARNING: Running pip as the 'root' user can result in broken permissions and conflicting behaviour with the system package manager. It is recommended to use a virtual environment instead: https://pip.pypa.io/warnings/venv\u001b[0m\r\n",
      "Looking in links: https://download.pytorch.org/whl/torch_stable.html\r\n",
      "Collecting torch==1.9.0+cu102\r\n",
      "  Downloading https://download.pytorch.org/whl/cu102/torch-1.9.0%2Bcu102-cp37-cp37m-linux_x86_64.whl (831.4 MB)\r\n",
      "     |████████████████████████████████| 831.4 MB 1.6 kB/s             \r\n",
      "\u001b[?25hRequirement already satisfied: typing-extensions in /opt/conda/lib/python3.7/site-packages (from torch==1.9.0+cu102) (3.10.0.2)\r\n",
      "Installing collected packages: torch\r\n",
      "  Attempting uninstall: torch\r\n",
      "    Found existing installation: torch 1.9.1\r\n",
      "    Uninstalling torch-1.9.1:\r\n",
      "      Successfully uninstalled torch-1.9.1\r\n",
      "Successfully installed torch-1.9.0+cu102\r\n",
      "\u001b[33mWARNING: Running pip as the 'root' user can result in broken permissions and conflicting behaviour with the system package manager. It is recommended to use a virtual environment instead: https://pip.pypa.io/warnings/venv\u001b[0m\r\n"
     ]
    }
   ],
   "source": [
    "#!pip3 install http://download.pytorch.org/whl/cpu/torch-1.0.0-cp36-cp36m-linux_x86_64.whl\n",
    "\n",
    "!pip install fastai==1.0.61\n",
    "!pip install torch==1.9.0+cu102 -f https://download.pytorch.org/whl/torch_stable.html"
   ]
  },
  {
   "cell_type": "code",
   "execution_count": 2,
   "id": "9e9890c3",
   "metadata": {
    "execution": {
     "iopub.execute_input": "2022-03-03T19:16:06.716566Z",
     "iopub.status.busy": "2022-03-03T19:16:06.715679Z",
     "iopub.status.idle": "2022-03-03T19:16:15.006938Z",
     "shell.execute_reply": "2022-03-03T19:16:15.006165Z",
     "shell.execute_reply.started": "2022-03-02T16:31:46.902201Z"
    },
    "papermill": {
     "duration": 9.092508,
     "end_time": "2022-03-03T19:16:15.007122",
     "exception": false,
     "start_time": "2022-03-03T19:16:05.914614",
     "status": "completed"
    },
    "tags": []
   },
   "outputs": [
    {
     "name": "stdout",
     "output_type": "stream",
     "text": [
      "Requirement already satisfied: sentencepiece in /opt/conda/lib/python3.7/site-packages (0.1.96)\r\n",
      "\u001b[33mWARNING: Running pip as the 'root' user can result in broken permissions and conflicting behaviour with the system package manager. It is recommended to use a virtual environment instead: https://pip.pypa.io/warnings/venv\u001b[0m\r\n"
     ]
    }
   ],
   "source": [
    "!pip install sentencepiece"
   ]
  },
  {
   "cell_type": "code",
   "execution_count": 3,
   "id": "6e8fd8d1",
   "metadata": {
    "execution": {
     "iopub.execute_input": "2022-03-03T19:16:16.029439Z",
     "iopub.status.busy": "2022-03-03T19:16:16.028712Z",
     "iopub.status.idle": "2022-03-03T19:16:25.793990Z",
     "shell.execute_reply": "2022-03-03T19:16:25.794660Z",
     "shell.execute_reply.started": "2022-03-02T16:31:54.504616Z"
    },
    "papermill": {
     "duration": 10.217469,
     "end_time": "2022-03-03T19:16:25.794871",
     "exception": false,
     "start_time": "2022-03-03T19:16:15.577402",
     "status": "completed"
    },
    "tags": []
   },
   "outputs": [
    {
     "name": "stdout",
     "output_type": "stream",
     "text": [
      "[nltk_data] Downloading package words to /usr/share/nltk_data...\n",
      "[nltk_data]   Package words is already up-to-date!\n",
      "[nltk_data] Downloading package punkt to /usr/share/nltk_data...\n",
      "[nltk_data]   Package punkt is already up-to-date!\n"
     ]
    }
   ],
   "source": [
    "from fastai.text import *\n",
    "import numpy as np\n",
    "#import demoji\n",
    "import pandas as pd\n",
    "from sklearn.model_selection import train_test_split\n",
    "import pickle\n",
    "import sentencepiece as spm\n",
    "import re\n",
    "import pdb\n",
    "from sklearn.utils import shuffle\n",
    "from nltk.corpus import words\n",
    "from bs4 import BeautifulSoup\n",
    "import nltk\n",
    "nltk.download('words')\n",
    "import nltk, string, re, spacy,unicodedata, random\n",
    "nltk.download('punkt')\n",
    "from nltk.corpus import stopwords\n",
    "from nltk.tokenize import word_tokenize\n",
    "from nltk.tokenize import ToktokTokenizer\n",
    "import nltk, string, re, spacy,unicodedata, random\n",
    "from sklearn.metrics import classification_report\n",
    "from sklearn.metrics import f1_score"
   ]
  },
  {
   "cell_type": "code",
   "execution_count": 4,
   "id": "6611ceb6",
   "metadata": {
    "execution": {
     "iopub.execute_input": "2022-03-03T19:16:26.952233Z",
     "iopub.status.busy": "2022-03-03T19:16:26.951456Z",
     "iopub.status.idle": "2022-03-03T19:16:26.954798Z",
     "shell.execute_reply": "2022-03-03T19:16:26.955224Z",
     "shell.execute_reply.started": "2022-03-02T16:31:54.520034Z"
    },
    "papermill": {
     "duration": 0.464993,
     "end_time": "2022-03-03T19:16:26.955362",
     "exception": false,
     "start_time": "2022-03-03T19:16:26.490369",
     "status": "completed"
    },
    "tags": []
   },
   "outputs": [
    {
     "data": {
      "text/plain": [
       "('1.0.61', '1.9.0+cu102')"
      ]
     },
     "execution_count": 4,
     "metadata": {},
     "output_type": "execute_result"
    }
   ],
   "source": [
    "import fastai, torch\n",
    "fastai.__version__ , torch.__version__"
   ]
  },
  {
   "cell_type": "code",
   "execution_count": 5,
   "id": "fb990af6",
   "metadata": {
    "execution": {
     "iopub.execute_input": "2022-03-03T19:16:27.829691Z",
     "iopub.status.busy": "2022-03-03T19:16:27.828786Z",
     "iopub.status.idle": "2022-03-03T19:16:27.830302Z",
     "shell.execute_reply": "2022-03-03T19:16:27.830719Z",
     "shell.execute_reply.started": "2022-03-02T16:31:54.531477Z"
    },
    "papermill": {
     "duration": 0.443268,
     "end_time": "2022-03-03T19:16:27.830853",
     "exception": false,
     "start_time": "2022-03-03T19:16:27.387585",
     "status": "completed"
    },
    "tags": []
   },
   "outputs": [],
   "source": [
    "torch.cuda.set_device(0)"
   ]
  },
  {
   "cell_type": "code",
   "execution_count": 6,
   "id": "65eaab5b",
   "metadata": {
    "execution": {
     "iopub.execute_input": "2022-03-03T19:16:28.712459Z",
     "iopub.status.busy": "2022-03-03T19:16:28.711457Z",
     "iopub.status.idle": "2022-03-03T19:16:28.713111Z",
     "shell.execute_reply": "2022-03-03T19:16:28.713528Z",
     "shell.execute_reply.started": "2022-03-02T16:31:54.540174Z"
    },
    "papermill": {
     "duration": 0.449499,
     "end_time": "2022-03-03T19:16:28.713664",
     "exception": false,
     "start_time": "2022-03-03T19:16:28.264165",
     "status": "completed"
    },
    "tags": []
   },
   "outputs": [],
   "source": [
    "def random_seed(seed_value, use_cuda):\n",
    "    np.random.seed(seed_value)  \n",
    "    torch.manual_seed(seed_value)  \n",
    "    random.seed(seed_value)\n",
    "    if use_cuda:\n",
    "        torch.cuda.manual_seed(seed_value)\n",
    "        torch.cuda.manual_seed_all(seed_value)  \n",
    "        torch.backends.cudnn.deterministic = True\n",
    "        torch.backends.cudnn.benchmark = False"
   ]
  },
  {
   "cell_type": "code",
   "execution_count": 7,
   "id": "3352fc37",
   "metadata": {
    "execution": {
     "iopub.execute_input": "2022-03-03T19:16:29.603013Z",
     "iopub.status.busy": "2022-03-03T19:16:29.601441Z",
     "iopub.status.idle": "2022-03-03T19:16:29.607886Z",
     "shell.execute_reply": "2022-03-03T19:16:29.607473Z",
     "shell.execute_reply.started": "2022-03-02T16:31:54.54815Z"
    },
    "papermill": {
     "duration": 0.448775,
     "end_time": "2022-03-03T19:16:29.608027",
     "exception": false,
     "start_time": "2022-03-03T19:16:29.159252",
     "status": "completed"
    },
    "tags": []
   },
   "outputs": [],
   "source": [
    "random_seed(42, True)"
   ]
  },
  {
   "cell_type": "code",
   "execution_count": 8,
   "id": "acc5a15c",
   "metadata": {
    "execution": {
     "iopub.execute_input": "2022-03-03T19:16:30.517473Z",
     "iopub.status.busy": "2022-03-03T19:16:30.512984Z",
     "iopub.status.idle": "2022-03-03T19:16:30.623419Z",
     "shell.execute_reply": "2022-03-03T19:16:30.622922Z",
     "shell.execute_reply.started": "2022-03-02T16:31:54.557414Z"
    },
    "papermill": {
     "duration": 0.562495,
     "end_time": "2022-03-03T19:16:30.623541",
     "exception": false,
     "start_time": "2022-03-03T19:16:30.061046",
     "status": "completed"
    },
    "tags": []
   },
   "outputs": [],
   "source": [
    "# Train Data\n",
    "df_train_en = pd.read_csv('../input/tamilmisodatanew/ta-en-misogyny-train.csv', sep='\\t', header=None)\n",
    "df_train_ta = pd.read_csv('../input/tamilmisodatanew/ta-misogyny-train.csv', sep='\\t', header=None)\n",
    "\n",
    "# Dev Data\n",
    "df_dev_en = pd.read_csv('../input/tamilmisodatanew/ta-en-misogyny-dev.csv', sep='\\t', header=None)\n",
    "df_dev_ta = pd.read_csv('../input/tamilmisodatanew/ta-misogyny-dev.csv', sep='\\t', header=None)\n",
    "\n",
    "# Test Data\n",
    "df_test_en = pd.read_csv('../input/tamilmisodatanew/ta-en-misogyny-test.csv', sep='\\t', header=None)\n",
    "df_test_ta = pd.read_csv('../input/tamilmisodatanew/ta-misogyny-test.csv', sep='\\t', header=None)"
   ]
  },
  {
   "cell_type": "code",
   "execution_count": 9,
   "id": "09cf59d3",
   "metadata": {
    "execution": {
     "iopub.execute_input": "2022-03-03T19:16:31.515166Z",
     "iopub.status.busy": "2022-03-03T19:16:31.514530Z",
     "iopub.status.idle": "2022-03-03T19:16:31.517880Z",
     "shell.execute_reply": "2022-03-03T19:16:31.518319Z",
     "shell.execute_reply.started": "2022-03-02T16:31:54.638353Z"
    },
    "papermill": {
     "duration": 0.455843,
     "end_time": "2022-03-03T19:16:31.518472",
     "exception": false,
     "start_time": "2022-03-03T19:16:31.062629",
     "status": "completed"
    },
    "tags": []
   },
   "outputs": [],
   "source": [
    "path = Path('./')"
   ]
  },
  {
   "cell_type": "code",
   "execution_count": 10,
   "id": "a9fd5992",
   "metadata": {
    "execution": {
     "iopub.execute_input": "2022-03-03T19:16:32.468660Z",
     "iopub.status.busy": "2022-03-03T19:16:32.467632Z",
     "iopub.status.idle": "2022-03-03T19:16:33.166946Z",
     "shell.execute_reply": "2022-03-03T19:16:33.166117Z",
     "shell.execute_reply.started": "2022-03-02T16:31:54.646885Z"
    },
    "papermill": {
     "duration": 1.176977,
     "end_time": "2022-03-03T19:16:33.167153",
     "exception": false,
     "start_time": "2022-03-03T19:16:31.990176",
     "status": "completed"
    },
    "tags": []
   },
   "outputs": [
    {
     "name": "stdout",
     "output_type": "stream",
     "text": [
      "/kaggle/working\r\n"
     ]
    }
   ],
   "source": [
    "!pwd"
   ]
  },
  {
   "cell_type": "code",
   "execution_count": 11,
   "id": "799f3879",
   "metadata": {
    "execution": {
     "iopub.execute_input": "2022-03-03T19:16:34.111242Z",
     "iopub.status.busy": "2022-03-03T19:16:34.105725Z",
     "iopub.status.idle": "2022-03-03T19:16:34.113549Z",
     "shell.execute_reply": "2022-03-03T19:16:34.113107Z",
     "shell.execute_reply.started": "2022-03-02T16:31:55.367625Z"
    },
    "papermill": {
     "duration": 0.463041,
     "end_time": "2022-03-03T19:16:34.113664",
     "exception": false,
     "start_time": "2022-03-03T19:16:33.650623",
     "status": "completed"
    },
    "tags": []
   },
   "outputs": [],
   "source": [
    "cat2ind = {'None-of-the-above': 0,\n",
    " 'Transphobic': 1,\n",
    " 'Counter-speech': 2,\n",
    " 'Misandry': 3,\n",
    " 'Homophobia': 4,\n",
    " 'Hope-Speech': 5,\n",
    " 'Xenophobia': 6,\n",
    " 'Misogyny': 7,\n",
    " 'Not-Tamil': 8}\n",
    "\n",
    "ind2cat = dict()\n",
    "for i in cat2ind:\n",
    "    ind2cat[cat2ind[i]] = i\n",
    "\n",
    "def restructure_df(df):\n",
    "    txts = df[1].tolist()\n",
    "    labs = df[0].tolist()\n",
    "    labs_new = []\n",
    "    for i in labs:\n",
    "        labs_new.append(ind2cat[i])\n",
    "    return pd.DataFrame({0:labs_new, 1:txts})\n",
    "\n",
    "def over_under_sample(df, shuffle = True):\n",
    "    def sample(rows, req_len):\n",
    "        return [rows[i%len(rows)] for i in range(req_len)]\n",
    "\n",
    "    if shuffle:\n",
    "        df.sample(frac=1).reset_index(drop=True)\n",
    "    data_dict = {'Misandry': [], 'Misogyny': [], 'Xenophobia': [], 'None-of-the-above': [], 'Hope-Speech': [], 'Counter-speech': [], 'Transphobic': [], 'Homophobia': [], 'Not-Tamil': []}\n",
    "\n",
    "    for i in range(len(df)):\n",
    "        data_dict[df[0][i]].append(list(df.iloc[i]))\n",
    "    \n",
    "    req_len = len(df)//len(data_dict)\n",
    "\n",
    "    for lab in data_dict:\n",
    "        data_dict[lab] = sample(data_dict[lab], req_len)\n",
    "    df_rows = []\n",
    "    for lab in data_dict:\n",
    "        df_rows += data_dict[lab]\n",
    "    df_new = pd.DataFrame(df_rows, columns = list(df.columns))\n",
    "    if shuffle:\n",
    "        df_new = df_new.sample(frac=1).reset_index(drop=True)\n",
    "    return df_new"
   ]
  },
  {
   "cell_type": "code",
   "execution_count": 12,
   "id": "c005d16d",
   "metadata": {
    "execution": {
     "iopub.execute_input": "2022-03-03T19:16:34.994669Z",
     "iopub.status.busy": "2022-03-03T19:16:34.992947Z",
     "iopub.status.idle": "2022-03-03T19:16:34.997166Z",
     "shell.execute_reply": "2022-03-03T19:16:34.996719Z",
     "shell.execute_reply.started": "2022-03-02T16:31:55.384358Z"
    },
    "papermill": {
     "duration": 0.450164,
     "end_time": "2022-03-03T19:16:34.997287",
     "exception": false,
     "start_time": "2022-03-03T19:16:34.547123",
     "status": "completed"
    },
    "tags": []
   },
   "outputs": [],
   "source": [
    "# df_train.shape, df_valid.shape, df_test.shape"
   ]
  },
  {
   "cell_type": "code",
   "execution_count": 13,
   "id": "fb09e647",
   "metadata": {
    "execution": {
     "iopub.execute_input": "2022-03-03T19:16:35.879981Z",
     "iopub.status.busy": "2022-03-03T19:16:35.879349Z",
     "iopub.status.idle": "2022-03-03T19:16:35.880967Z",
     "shell.execute_reply": "2022-03-03T19:16:35.880539Z",
     "shell.execute_reply.started": "2022-03-02T16:31:55.394591Z"
    },
    "papermill": {
     "duration": 0.449223,
     "end_time": "2022-03-03T19:16:35.881091",
     "exception": false,
     "start_time": "2022-03-03T19:16:35.431868",
     "status": "completed"
    },
    "tags": []
   },
   "outputs": [],
   "source": [
    "#df_train = pd.DataFrame({0: df_train_ta[0].tolist() +df_train_en[0].tolist(), 1: df_train_ta[1].tolist() +df_train_en[1].tolist()})\n",
    "df_train = df_train_ta\n",
    "df_valid = df_dev_ta\n",
    "df_test = df_test_ta"
   ]
  },
  {
   "cell_type": "code",
   "execution_count": 14,
   "id": "4950b837",
   "metadata": {
    "execution": {
     "iopub.execute_input": "2022-03-03T19:16:36.795716Z",
     "iopub.status.busy": "2022-03-03T19:16:36.795061Z",
     "iopub.status.idle": "2022-03-03T19:16:36.829000Z",
     "shell.execute_reply": "2022-03-03T19:16:36.828235Z",
     "shell.execute_reply.started": "2022-03-02T16:31:55.404595Z"
    },
    "papermill": {
     "duration": 0.486628,
     "end_time": "2022-03-03T19:16:36.829205",
     "exception": false,
     "start_time": "2022-03-03T19:16:36.342577",
     "status": "completed"
    },
    "tags": []
   },
   "outputs": [
    {
     "data": {
      "text/html": [
       "<div>\n",
       "<style scoped>\n",
       "    .dataframe tbody tr th:only-of-type {\n",
       "        vertical-align: middle;\n",
       "    }\n",
       "\n",
       "    .dataframe tbody tr th {\n",
       "        vertical-align: top;\n",
       "    }\n",
       "\n",
       "    .dataframe thead th {\n",
       "        text-align: right;\n",
       "    }\n",
       "</style>\n",
       "<table border=\"1\" class=\"dataframe\">\n",
       "  <thead>\n",
       "    <tr style=\"text-align: right;\">\n",
       "      <th></th>\n",
       "      <th>0</th>\n",
       "      <th>1</th>\n",
       "    </tr>\n",
       "  </thead>\n",
       "  <tbody>\n",
       "    <tr>\n",
       "      <th>0</th>\n",
       "      <td>Hope-Speech</td>\n",
       "      <td>உங்கள் பேச்சை எதிர்பார்த்தேன். நல்ல விளக்கம்  ...</td>\n",
       "    </tr>\n",
       "    <tr>\n",
       "      <th>1</th>\n",
       "      <td>None-of-the-above</td>\n",
       "      <td>எச். ராசாவால் இராமருக்கே  இழிவு. இவர் எல்லாம் ...</td>\n",
       "    </tr>\n",
       "    <tr>\n",
       "      <th>2</th>\n",
       "      <td>None-of-the-above</td>\n",
       "      <td>கல்யாணம்னு  வரும்போது தான் சாதி முக்கியம் எங்க...</td>\n",
       "    </tr>\n",
       "    <tr>\n",
       "      <th>3</th>\n",
       "      <td>None-of-the-above</td>\n",
       "      <td>Tentu Kottai ஐயா நான் தமிழ் இந்து.</td>\n",
       "    </tr>\n",
       "    <tr>\n",
       "      <th>4</th>\n",
       "      <td>Homophobia</td>\n",
       "      <td>Tamil selvan  அடே தேவடியாவுக்கு பிரந்தவனே பச்ச...</td>\n",
       "    </tr>\n",
       "    <tr>\n",
       "      <th>...</th>\n",
       "      <td>...</td>\n",
       "      <td>...</td>\n",
       "    </tr>\n",
       "    <tr>\n",
       "      <th>2235</th>\n",
       "      <td>None-of-the-above</td>\n",
       "      <td>ராஜா ஏண்டா பின்னாடி பின்னாடி பார்த்து பேசுற......</td>\n",
       "    </tr>\n",
       "    <tr>\n",
       "      <th>2236</th>\n",
       "      <td>None-of-the-above</td>\n",
       "      <td>பழய சித்தாகதை கிளிக வேண்டும் ஆண்ணா</td>\n",
       "    </tr>\n",
       "    <tr>\n",
       "      <th>2237</th>\n",
       "      <td>None-of-the-above</td>\n",
       "      <td>SRI NARAYANA நீ ஒரு ஆரிய இந்து சரியா</td>\n",
       "    </tr>\n",
       "    <tr>\n",
       "      <th>2238</th>\n",
       "      <td>Counter-speech</td>\n",
       "      <td>அறியா  வயதில்  குழந்தைகளை  அடித்து  சொல்லிக்கொ...</td>\n",
       "    </tr>\n",
       "    <tr>\n",
       "      <th>2239</th>\n",
       "      <td>None-of-the-above</td>\n",
       "      <td>தயவு செய்து சாதி மதம் பேசதிர் நியாயம் மட்டும் ...</td>\n",
       "    </tr>\n",
       "  </tbody>\n",
       "</table>\n",
       "<p>2240 rows × 2 columns</p>\n",
       "</div>"
      ],
      "text/plain": [
       "                      0                                                  1\n",
       "0           Hope-Speech  உங்கள் பேச்சை எதிர்பார்த்தேன். நல்ல விளக்கம்  ...\n",
       "1     None-of-the-above  எச். ராசாவால் இராமருக்கே  இழிவு. இவர் எல்லாம் ...\n",
       "2     None-of-the-above  கல்யாணம்னு  வரும்போது தான் சாதி முக்கியம் எங்க...\n",
       "3     None-of-the-above                 Tentu Kottai ஐயா நான் தமிழ் இந்து.\n",
       "4            Homophobia  Tamil selvan  அடே தேவடியாவுக்கு பிரந்தவனே பச்ச...\n",
       "...                 ...                                                ...\n",
       "2235  None-of-the-above  ராஜா ஏண்டா பின்னாடி பின்னாடி பார்த்து பேசுற......\n",
       "2236  None-of-the-above                 பழய சித்தாகதை கிளிக வேண்டும் ஆண்ணா\n",
       "2237  None-of-the-above               SRI NARAYANA நீ ஒரு ஆரிய இந்து சரியா\n",
       "2238     Counter-speech  அறியா  வயதில்  குழந்தைகளை  அடித்து  சொல்லிக்கொ...\n",
       "2239  None-of-the-above  தயவு செய்து சாதி மதம் பேசதிர் நியாயம் மட்டும் ...\n",
       "\n",
       "[2240 rows x 2 columns]"
      ]
     },
     "execution_count": 14,
     "metadata": {},
     "output_type": "execute_result"
    }
   ],
   "source": [
    "df_train"
   ]
  },
  {
   "cell_type": "code",
   "execution_count": 15,
   "id": "46d93877",
   "metadata": {
    "execution": {
     "iopub.execute_input": "2022-03-03T19:16:37.964099Z",
     "iopub.status.busy": "2022-03-03T19:16:37.963496Z",
     "iopub.status.idle": "2022-03-03T19:16:37.977544Z",
     "shell.execute_reply": "2022-03-03T19:16:37.977087Z",
     "shell.execute_reply.started": "2022-03-02T16:31:55.421035Z"
    },
    "papermill": {
     "duration": 0.459576,
     "end_time": "2022-03-03T19:16:37.977660",
     "exception": false,
     "start_time": "2022-03-03T19:16:37.518084",
     "status": "completed"
    },
    "tags": []
   },
   "outputs": [],
   "source": [
    "df_train = shuffle(df_train, random_state = 10).reset_index(drop=True)\n",
    "df_valid = shuffle(df_valid, random_state = 10).reset_index(drop=True)\n",
    "df_test = shuffle(df_test, random_state = 10).reset_index(drop=True)\n",
    "\n",
    "df_train[1] = df_train[1].apply(str)\n",
    "df_valid[1] = df_valid[1].apply(str)\n",
    "df_test[1] = df_test[1].apply(str)"
   ]
  },
  {
   "cell_type": "code",
   "execution_count": 16,
   "id": "489e3224",
   "metadata": {
    "execution": {
     "iopub.execute_input": "2022-03-03T19:16:38.876782Z",
     "iopub.status.busy": "2022-03-03T19:16:38.875192Z",
     "iopub.status.idle": "2022-03-03T19:16:39.806118Z",
     "shell.execute_reply": "2022-03-03T19:16:39.805574Z",
     "shell.execute_reply.started": "2022-03-02T16:31:55.439601Z"
    },
    "papermill": {
     "duration": 1.394256,
     "end_time": "2022-03-03T19:16:39.806244",
     "exception": false,
     "start_time": "2022-03-03T19:16:38.411988",
     "status": "completed"
    },
    "tags": []
   },
   "outputs": [],
   "source": [
    "def deEmojify(string):\n",
    "    emoji_pattern = re.compile(\"[\"\n",
    "                              u\"\\U0001F600-\\U0001F64F\"  # emoticons\n",
    "                              u\"\\U0001F300-\\U0001F5FF\"  # symbols & pictographs\n",
    "                              u\"\\U0001F680-\\U0001F6FF\"  # transport & map symbols\n",
    "                              u\"\\U0001F1E0-\\U0001F1FF\"  # flags (iOS)\n",
    "                              u\"\\U00002500-\\U00002BEF\"  # chinese char\n",
    "                              u\"\\U00002702-\\U000027B0\"\n",
    "                              u\"\\U00002702-\\U000027B0\"\n",
    "                              u\"\\U000024C2-\\U0001F251\"\n",
    "                              u\"\\U0001f926-\\U0001f937\"\n",
    "                              u\"\\U00010000-\\U0010ffff\"\n",
    "                              u\"\\u2640-\\u2642\"\n",
    "                              u\"\\u2600-\\u2B55\"\n",
    "                              u\"\\u200d\"\n",
    "                              u\"\\u23cf\"\n",
    "                              u\"\\u23e9\"\n",
    "                              u\"\\u231a\"\n",
    "                              u\"\\ufe0f\"  # dingbats\n",
    "                              u\"\\u3030\"\n",
    "                              \"]+\", flags=re.UNICODE)\n",
    "    return emoji_pattern.sub(r'', string)\n",
    "\n",
    "def preprocess(text):\n",
    "    text = deEmojify(text) #convert emojis to their defns in words, they might be useful\n",
    "    text = re.sub(r'([\\.\\'\\\"\\/\\-\\_\\--])',' ', text) # remove punctuations , removes @USER / some abbreviatins\n",
    "    to_remove_url = ('http[s]?://(?:[a-zA-Z]|[0-9]|[$-_@.&+]|'\n",
    "      '[!*\\(\\),]|(?:%[0-9a-fA-F][0-9a-fA-F]))+')\n",
    "    text = re.sub(to_remove_url,'',text)  # remove url patterns\n",
    "    text = re.sub(\" \\d+\", \" \", text)\n",
    "    text = text.replace(\",\",\" \")\n",
    "    text = re.sub(r'(?:^| )\\w(?:$| )', ' ', text).strip()\n",
    "    punctuation='!!\"$%&()*+-/:;<=>?[\\\\]^_{|}~.'\n",
    "    text = ''.join(ch for ch in text if ch not in set(punctuation))\n",
    "    # text = text.translate(str.maketrans('', '', string.punctuation))\n",
    "    text = BeautifulSoup(text, 'html.parser').get_text()\n",
    "    # Stopword Removing\n",
    "    tokenizer = ToktokTokenizer()\n",
    "    # convert sentence into token of words\n",
    "    tokens = tokenizer.tokenize(text)\n",
    "    tokens = [token.strip() for token in tokens]\n",
    "    text = ' '.join(ch for ch in tokens)\n",
    "    return text \n",
    "\n",
    "def clean(df):\n",
    "    df[1] = df[1].apply(lambda x: preprocess(x))\n",
    "\n",
    "clean(df_train)\n",
    "clean(df_valid)\n",
    "clean(df_test)"
   ]
  },
  {
   "cell_type": "code",
   "execution_count": 17,
   "id": "554b5157",
   "metadata": {
    "execution": {
     "iopub.execute_input": "2022-03-03T19:16:40.700714Z",
     "iopub.status.busy": "2022-03-03T19:16:40.700100Z",
     "iopub.status.idle": "2022-03-03T19:16:40.702880Z",
     "shell.execute_reply": "2022-03-03T19:16:40.703305Z",
     "shell.execute_reply.started": "2022-03-02T16:31:57.794008Z"
    },
    "papermill": {
     "duration": 0.44942,
     "end_time": "2022-03-03T19:16:40.703443",
     "exception": false,
     "start_time": "2022-03-03T19:16:40.254023",
     "status": "completed"
    },
    "tags": []
   },
   "outputs": [
    {
     "data": {
      "text/plain": [
       "((0, 2), (0, 2), (0, 2))"
      ]
     },
     "execution_count": 17,
     "metadata": {},
     "output_type": "execute_result"
    }
   ],
   "source": [
    "df_train[df_train[0].isnull()].shape, df_valid[df_valid[0].isnull()].shape, df_test[df_test[0].isnull()].shape"
   ]
  },
  {
   "cell_type": "code",
   "execution_count": 18,
   "id": "02f8fdab",
   "metadata": {
    "execution": {
     "iopub.execute_input": "2022-03-03T19:16:41.585119Z",
     "iopub.status.busy": "2022-03-03T19:16:41.584163Z",
     "iopub.status.idle": "2022-03-03T19:16:41.585748Z",
     "shell.execute_reply": "2022-03-03T19:16:41.586212Z",
     "shell.execute_reply.started": "2022-03-02T16:31:57.80597Z"
    },
    "papermill": {
     "duration": 0.448214,
     "end_time": "2022-03-03T19:16:41.586365",
     "exception": false,
     "start_time": "2022-03-03T19:16:41.138151",
     "status": "completed"
    },
    "tags": []
   },
   "outputs": [],
   "source": [
    "class TamilTokenizer(BaseTokenizer):\n",
    "    def __init__(self, lang:str):\n",
    "        self.lang = lang\n",
    "        self.sp = spm.SentencePieceProcessor()\n",
    "        self.sp.Load(str('../input/spm-sota-models/tamil_spm_8k.model'))\n",
    "        \n",
    "    def tokenizer(self, t:str) -> List[str]:\n",
    "        return self.sp.EncodeAsPieces(t)"
   ]
  },
  {
   "cell_type": "code",
   "execution_count": 19,
   "id": "081e6f04",
   "metadata": {
    "execution": {
     "iopub.execute_input": "2022-03-03T19:16:42.569858Z",
     "iopub.status.busy": "2022-03-03T19:16:42.568934Z",
     "iopub.status.idle": "2022-03-03T19:16:42.571488Z",
     "shell.execute_reply": "2022-03-03T19:16:42.571056Z",
     "shell.execute_reply.started": "2022-03-02T16:31:57.818188Z"
    },
    "papermill": {
     "duration": 0.542357,
     "end_time": "2022-03-03T19:16:42.571613",
     "exception": false,
     "start_time": "2022-03-03T19:16:42.029256",
     "status": "completed"
    },
    "tags": []
   },
   "outputs": [],
   "source": [
    "sp = spm.SentencePieceProcessor()\n",
    "sp.Load(str('../input/spm-sota-models/tamil_spm_8k.model'))\n",
    "itos = [sp.IdToPiece(int(i)) for i in range(8000)]"
   ]
  },
  {
   "cell_type": "code",
   "execution_count": 20,
   "id": "a37c5d13",
   "metadata": {
    "execution": {
     "iopub.execute_input": "2022-03-03T19:16:43.752219Z",
     "iopub.status.busy": "2022-03-03T19:16:43.751445Z",
     "iopub.status.idle": "2022-03-03T19:16:43.754670Z",
     "shell.execute_reply": "2022-03-03T19:16:43.755263Z",
     "shell.execute_reply.started": "2022-03-02T16:31:57.866699Z"
    },
    "papermill": {
     "duration": 0.734162,
     "end_time": "2022-03-03T19:16:43.755450",
     "exception": false,
     "start_time": "2022-03-03T19:16:43.021288",
     "status": "completed"
    },
    "tags": []
   },
   "outputs": [],
   "source": [
    "tamil_vocab = Vocab(itos)"
   ]
  },
  {
   "cell_type": "code",
   "execution_count": 21,
   "id": "ae2d7b12",
   "metadata": {
    "execution": {
     "iopub.execute_input": "2022-03-03T19:16:44.876839Z",
     "iopub.status.busy": "2022-03-03T19:16:44.876106Z",
     "iopub.status.idle": "2022-03-03T19:16:44.877846Z",
     "shell.execute_reply": "2022-03-03T19:16:44.877384Z",
     "shell.execute_reply.started": "2022-03-02T16:31:57.876625Z"
    },
    "papermill": {
     "duration": 0.453851,
     "end_time": "2022-03-03T19:16:44.877969",
     "exception": false,
     "start_time": "2022-03-03T19:16:44.424118",
     "status": "completed"
    },
    "tags": []
   },
   "outputs": [],
   "source": [
    "tokenizer = Tokenizer(tok_func=TamilTokenizer, lang='ta')"
   ]
  },
  {
   "cell_type": "code",
   "execution_count": 22,
   "id": "acf97be3",
   "metadata": {
    "execution": {
     "iopub.execute_input": "2022-03-03T19:16:45.770305Z",
     "iopub.status.busy": "2022-03-03T19:16:45.769653Z",
     "iopub.status.idle": "2022-03-03T19:16:45.771181Z",
     "shell.execute_reply": "2022-03-03T19:16:45.770710Z",
     "shell.execute_reply.started": "2022-03-02T16:31:57.885519Z"
    },
    "papermill": {
     "duration": 0.445154,
     "end_time": "2022-03-03T19:16:45.771292",
     "exception": false,
     "start_time": "2022-03-03T19:16:45.326138",
     "status": "completed"
    },
    "tags": []
   },
   "outputs": [],
   "source": [
    "label_cols = [0]"
   ]
  },
  {
   "cell_type": "code",
   "execution_count": 23,
   "id": "eff10893",
   "metadata": {
    "execution": {
     "iopub.execute_input": "2022-03-03T19:16:46.648770Z",
     "iopub.status.busy": "2022-03-03T19:16:46.647778Z",
     "iopub.status.idle": "2022-03-03T19:16:47.367277Z",
     "shell.execute_reply": "2022-03-03T19:16:47.366823Z",
     "shell.execute_reply.started": "2022-03-02T16:31:57.893508Z"
    },
    "papermill": {
     "duration": 1.161693,
     "end_time": "2022-03-03T19:16:47.367417",
     "exception": false,
     "start_time": "2022-03-03T19:16:46.205724",
     "status": "completed"
    },
    "tags": []
   },
   "outputs": [
    {
     "data": {
      "text/html": [],
      "text/plain": [
       "<IPython.core.display.HTML object>"
      ]
     },
     "metadata": {},
     "output_type": "display_data"
    },
    {
     "name": "stderr",
     "output_type": "stream",
     "text": [
      "/opt/conda/lib/python3.7/site-packages/fastai/core.py:302: VisibleDeprecationWarning: Creating an ndarray from ragged nested sequences (which is a list-or-tuple of lists-or-tuples-or ndarrays with different lengths or shapes) is deprecated. If you meant to do this, you must specify 'dtype=object' when creating the ndarray.\n",
      "  return np.array(a, dtype=dtype, **kwargs)\n"
     ]
    },
    {
     "data": {
      "text/html": [],
      "text/plain": [
       "<IPython.core.display.HTML object>"
      ]
     },
     "metadata": {},
     "output_type": "display_data"
    },
    {
     "data": {
      "text/html": [],
      "text/plain": [
       "<IPython.core.display.HTML object>"
      ]
     },
     "metadata": {},
     "output_type": "display_data"
    }
   ],
   "source": [
    "data_lm = TextLMDataBunch.from_df(path=path, train_df=df_train, valid_df=df_valid, test_df=df_test, tokenizer=tokenizer, vocab=tamil_vocab)"
   ]
  },
  {
   "cell_type": "code",
   "execution_count": 24,
   "id": "74ec0650",
   "metadata": {
    "execution": {
     "iopub.execute_input": "2022-03-03T19:16:48.527448Z",
     "iopub.status.busy": "2022-03-03T19:16:48.526647Z",
     "iopub.status.idle": "2022-03-03T19:16:51.188914Z",
     "shell.execute_reply": "2022-03-03T19:16:51.189594Z",
     "shell.execute_reply.started": "2022-03-02T16:31:59.604577Z"
    },
    "papermill": {
     "duration": 3.37744,
     "end_time": "2022-03-03T19:16:51.189780",
     "exception": false,
     "start_time": "2022-03-03T19:16:47.812340",
     "status": "completed"
    },
    "tags": []
   },
   "outputs": [
    {
     "data": {
      "text/html": [
       "<table border=\"1\" class=\"dataframe\">\n",
       "  <thead>\n",
       "    <tr style=\"text-align: right;\">\n",
       "      <th>idx</th>\n",
       "      <th>text</th>\n",
       "    </tr>\n",
       "  </thead>\n",
       "  <tbody>\n",
       "    <tr>\n",
       "      <td>0</td>\n",
       "      <td>iya ▁கா மி டி ▁கூ தி யான ே ▁நல்ல ா ▁ஊ ம்பி ▁க த்து ட்டு ▁வா டா ▁ஓ லி ▁பு ண்ட ▁ x x b os ▁ந பி யை ▁எப்படி டா ▁பு ண்ட ▁நீ ▁இல ு க்க லாம் ▁தேவ டியா ▁பய லே ▁உ ன க்கு ▁தலை யை ▁அறு த்து ▁விடு வோ ம் ▁ x x b os ▁என் ▁மக னுக்கு ▁வயது ▁ஒரு வார ம் ▁நான் ▁ஆஸ் பி ட்ட ல்ல ▁உ</td>\n",
       "    </tr>\n",
       "    <tr>\n",
       "      <td>1</td>\n",
       "      <td>t v ▁ od a ▁ int en tion ▁m id d le ▁ cl ass ▁and ▁b el ow ▁m id d le ▁ cl ass ▁f am il y ▁எல்லாம் ▁கெ ட்டு ▁சீர ழி ந்து ▁நா ச மாய் ▁போக னும் ▁முடிந்த வரை ▁இந்த ▁டிவி ▁பார்க்க ▁வேண்ட ா ம் ▁b ro ▁ x x b os ▁மது வ ந்தி ▁ஒரு ▁பெண் ▁என்பதை ▁மற ந்து ▁பேச ▁கூடாது ▁பிராமண ர்கள் ▁இந்த</td>\n",
       "    </tr>\n",
       "    <tr>\n",
       "      <td>2</td>\n",
       "      <td>த்த ▁மகன் ▁சை மன் ▁சு ன் னிய ▁ஊ ம்பு ▁அலி ▁ஒ ம்ப து ▁நாய் களே ▁கட்டு ன ▁பொன் டா ட்டிய ▁பெ த்த ▁தா ய ▁அடுத்த வ னுக்கு ▁ஓ க்க ▁கூட்ட ி ▁குட ுக்கு ற ▁மல த்து ▁பு ழு க் களே ▁உ ங்க ▁சம் சார த்த ▁ஓ த்த வன் ▁சு ன் னிய ▁ஊ ம்பு ▁சுத்த ப்படுத்த ு ர ▁ஈ ன ▁நாய் களே ▁ டு மில் ▁ஈ ன ▁நாய் களே ▁நீங்க ▁எல்லாம்</td>\n",
       "    </tr>\n",
       "    <tr>\n",
       "      <td>3</td>\n",
       "      <td>▁கொடுப்ப தும் ▁ஒன்று தான் ▁ x x b os ▁ g an es an ▁p ▁ ம் ▁சொல்ல ு ங்க ▁ x x b os ▁மது வ ந்தி யால் ▁பிராமண ர் களுக்க ே ▁தலை கு னி வு ▁என்று ▁இவர் ▁சொல் வது ▁முற்றிலும் ▁உண்மை ▁ x x b os ▁உணர்வு களை ▁புரிந்து ▁கொள்ள ▁முடியாமல் ▁ x x b os ▁சாதி ▁வெ றி ▁காட்டு மி ரா ண்டி ▁நா யே ▁உ ன க்கு</td>\n",
       "    </tr>\n",
       "    <tr>\n",
       "      <td>4</td>\n",
       "      <td>▁தள ல த்தில் ▁இருக்கும் ▁உ ன் ▁போன்ற ▁கருத்து ▁க ய வா ளி கள் ▁நா வை ▁நடு ▁நிலைக்கு ▁உட்படுத்த வேண்டும் ▁உ ன் ▁முன் ▁மே தை களும் ▁இருக்கிறார் கள் ▁என்ற ▁அச்ச ம் ▁உ ன க்கு ▁வேண்டும் ▁அச்ச மும் ▁நா ண மும் ▁உடலை ▁ விற்கும் ▁விலை ▁மாத ர் களுக்கு ▁இருப்ப தில்லை ▁அதே ▁போல ▁அறிவ ற்ற வர்களுக்கு ம் ▁நடு ▁நிலை ▁மீது ▁பய ம் ▁இருப்ப தில்லை ▁நியூ ஸ் 7 ல் ▁இருந்து ▁வெளியேற்ற ப்பட்ட திலிருந்து ▁நீ</td>\n",
       "    </tr>\n",
       "  </tbody>\n",
       "</table>"
      ],
      "text/plain": [
       "<IPython.core.display.HTML object>"
      ]
     },
     "metadata": {},
     "output_type": "display_data"
    }
   ],
   "source": [
    "data_lm.show_batch()"
   ]
  },
  {
   "cell_type": "code",
   "execution_count": 25,
   "id": "c2147f88",
   "metadata": {
    "execution": {
     "iopub.execute_input": "2022-03-03T19:16:52.100266Z",
     "iopub.status.busy": "2022-03-03T19:16:52.099496Z",
     "iopub.status.idle": "2022-03-03T19:16:52.387231Z",
     "shell.execute_reply": "2022-03-03T19:16:52.386742Z",
     "shell.execute_reply.started": "2022-03-02T16:31:59.623379Z"
    },
    "papermill": {
     "duration": 0.736358,
     "end_time": "2022-03-03T19:16:52.387371",
     "exception": false,
     "start_time": "2022-03-03T19:16:51.651013",
     "status": "completed"
    },
    "tags": []
   },
   "outputs": [],
   "source": [
    "awd_lstm_config = awd_lstm_lm_config.copy()\n",
    "awd_lstm_config['n_hid'] = 1150\n",
    "learn = language_model_learner(data_lm, arch=AWD_LSTM, drop_mult=0.3, config=awd_lstm_config, pretrained=False)"
   ]
  },
  {
   "cell_type": "code",
   "execution_count": 26,
   "id": "cc9e2f48",
   "metadata": {
    "execution": {
     "iopub.execute_input": "2022-03-03T19:16:53.288658Z",
     "iopub.status.busy": "2022-03-03T19:16:53.287987Z",
     "iopub.status.idle": "2022-03-03T19:16:57.581778Z",
     "shell.execute_reply": "2022-03-03T19:16:57.581372Z",
     "shell.execute_reply.started": "2022-03-02T16:31:59.882597Z"
    },
    "papermill": {
     "duration": 4.745075,
     "end_time": "2022-03-03T19:16:57.581907",
     "exception": false,
     "start_time": "2022-03-03T19:16:52.836832",
     "status": "completed"
    },
    "tags": []
   },
   "outputs": [
    {
     "data": {
      "text/plain": [
       "LanguageLearner(data=TextLMDataBunch;\n",
       "\n",
       "Train: LabelList (2240 items)\n",
       "x: LMTextList\n",
       "▁ x x b os ▁வரலாறு ▁தெரியாத ா ▁கூ ▁முட்டை,▁ x x b os ▁டே ய் ▁எச்ச ▁ந யே ▁ஈ ன ப் ▁பிற வி,▁ x x b os ▁யார் ▁இது,▁ x x b os ▁அ த ▁மட்டும் ▁ப சங்க ▁தான் ▁பா த்து க்கண ும் ▁நீங்க ▁வேற,▁ x x b os ▁ஏ ண்டா ▁லூ சு ப்பு ண்டை\n",
       "y: LMLabelList\n",
       ",,,,\n",
       "Path: .;\n",
       "\n",
       "Valid: LabelList (560 items)\n",
       "x: LMTextList\n",
       "▁ x x b os ▁சோ ம் பே றி கள் ▁விரும்பி ▁வர த ட் ச ணை,▁ x x b os ▁சி மான் ▁கே வள மான ▁ஒ று ▁மனிதன் ▁ப ச் சோ ந்த ▁நாய் ▁வைர முத்து ▁ஒ று ▁கட்டு ▁பன்றி,▁ x x b os ▁சம த்துவம் ▁பேசும் ▁ஆன ந் சீ னி வா சன் ▁சா ருக்கு ▁நன் றி,▁ x x b os ▁p r iya ▁p r iya ▁அர வாணி ▁பு ண்ட ▁எ ங்க டா ▁ ங் ங ோ த்தா ▁கூ தி ▁கி ழி யு தா,▁ x x b os ▁பெ சி க்கொ ன் டி று க்கும் பொ து ▁பின்ன ால ▁இறுக்க ிற வ ங்க ல ▁பார்த்து ▁பார்த்து ▁பேச ுகிறார் ▁அ ப்போ ▁முன் னா டி ▁ஆட் களே ▁இல்ல யா\n",
       "y: LMLabelList\n",
       ",,,,\n",
       "Path: .;\n",
       "\n",
       "Test: LabelList (700 items)\n",
       "x: LMTextList\n",
       "▁ x x b os <unk> ▁a b ir am i <unk> <unk> i ja y ak um ar ▁என் ▁தலைவி தி ▁என்று ▁தான் ▁நா னும் ▁நினைத்த ு க்கொண்டு ▁வாழ் கிற ேன்,▁ x x b os ▁மா மனித ர் ▁அ ண்ண ன் ▁நீ ங்கள் ▁நீ டூ ழி ▁வாழ வேண்டும் உ ங்கள் பே ச்சு உ ண்மை சூ ப்பர்,▁ x x b os ▁ச ரியா ▁சோ லி ங்கா ▁சார்,▁ x x b os ▁ஆ மை க்க றி ▁அ ண்ண ன் ▁சீ மான்,▁ x x b os ▁ஆனந்த ▁சார் ▁நியாய மான ▁பேச்சு\n",
       "y: EmptyLabelList\n",
       ",,,,\n",
       "Path: ., model=SequentialRNN(\n",
       "  (0): AWD_LSTM(\n",
       "    (encoder): Embedding(8000, 400, padding_idx=1)\n",
       "    (encoder_dp): EmbeddingDropout(\n",
       "      (emb): Embedding(8000, 400, padding_idx=1)\n",
       "    )\n",
       "    (rnns): ModuleList(\n",
       "      (0): WeightDropout(\n",
       "        (module): LSTM(400, 1150, batch_first=True)\n",
       "      )\n",
       "      (1): WeightDropout(\n",
       "        (module): LSTM(1150, 1150, batch_first=True)\n",
       "      )\n",
       "      (2): WeightDropout(\n",
       "        (module): LSTM(1150, 400, batch_first=True)\n",
       "      )\n",
       "    )\n",
       "    (input_dp): RNNDropout()\n",
       "    (hidden_dps): ModuleList(\n",
       "      (0): RNNDropout()\n",
       "      (1): RNNDropout()\n",
       "      (2): RNNDropout()\n",
       "    )\n",
       "  )\n",
       "  (1): LinearDecoder(\n",
       "    (decoder): Linear(in_features=400, out_features=8000, bias=True)\n",
       "    (output_dp): RNNDropout()\n",
       "  )\n",
       "), opt_func=functools.partial(<class 'torch.optim.adam.Adam'>, betas=(0.9, 0.99)), loss_func=FlattenedLoss of CrossEntropyLoss(), metrics=[<function accuracy at 0x7fdd46e3ae60>], true_wd=True, bn_wd=True, wd=0.01, train_bn=True, path=PosixPath('.'), model_dir='models', callback_fns=[functools.partial(<class 'fastai.basic_train.Recorder'>, add_time=True, silent=False)], callbacks=[RNNTrainer\n",
       "learn: ...\n",
       "alpha: 2.0\n",
       "beta: 1.0], layer_groups=[Sequential(\n",
       "  (0): WeightDropout(\n",
       "    (module): LSTM(400, 1150, batch_first=True)\n",
       "  )\n",
       "  (1): RNNDropout()\n",
       "), Sequential(\n",
       "  (0): WeightDropout(\n",
       "    (module): LSTM(1150, 1150, batch_first=True)\n",
       "  )\n",
       "  (1): RNNDropout()\n",
       "), Sequential(\n",
       "  (0): WeightDropout(\n",
       "    (module): LSTM(1150, 400, batch_first=True)\n",
       "  )\n",
       "  (1): RNNDropout()\n",
       "), Sequential(\n",
       "  (0): Embedding(8000, 400, padding_idx=1)\n",
       "  (1): EmbeddingDropout(\n",
       "    (emb): Embedding(8000, 400, padding_idx=1)\n",
       "  )\n",
       "  (2): LinearDecoder(\n",
       "    (decoder): Linear(in_features=400, out_features=8000, bias=True)\n",
       "    (output_dp): RNNDropout()\n",
       "  )\n",
       ")], add_time=True, silent=False)"
      ]
     },
     "execution_count": 26,
     "metadata": {},
     "output_type": "execute_result"
    }
   ],
   "source": [
    "learn.load('/kaggle/input/pretrained-sota-models/wikitalm_8k_447_third')"
   ]
  },
  {
   "cell_type": "code",
   "execution_count": 27,
   "id": "ca223bd7",
   "metadata": {
    "execution": {
     "iopub.execute_input": "2022-03-03T19:16:58.482211Z",
     "iopub.status.busy": "2022-03-03T19:16:58.481390Z",
     "iopub.status.idle": "2022-03-03T19:16:58.491544Z",
     "shell.execute_reply": "2022-03-03T19:16:58.491948Z",
     "shell.execute_reply.started": "2022-03-02T16:32:00.346375Z"
    },
    "papermill": {
     "duration": 0.457012,
     "end_time": "2022-03-03T19:16:58.492112",
     "exception": false,
     "start_time": "2022-03-03T19:16:58.035100",
     "status": "completed"
    },
    "tags": []
   },
   "outputs": [
    {
     "data": {
      "text/plain": [
       "None-of-the-above    1296\n",
       "Misandry              445\n",
       "Counter-speech        149\n",
       "Misogyny              125\n",
       "Xenophobia             95\n",
       "Hope-Speech            86\n",
       "Homophobia             35\n",
       "Transphobic             6\n",
       "Not-Tamil               2\n",
       "Name: 0, dtype: int64"
      ]
     },
     "execution_count": 27,
     "metadata": {},
     "output_type": "execute_result"
    }
   ],
   "source": [
    "df_train = df_train.drop([0]).reset_index().drop([\"index\"], axis=1)\n",
    "df_train[0].value_counts()"
   ]
  },
  {
   "cell_type": "code",
   "execution_count": 28,
   "id": "072bbb19",
   "metadata": {
    "execution": {
     "iopub.execute_input": "2022-03-03T19:16:59.644714Z",
     "iopub.status.busy": "2022-03-03T19:16:59.643977Z",
     "iopub.status.idle": "2022-03-03T19:16:59.647111Z",
     "shell.execute_reply": "2022-03-03T19:16:59.647563Z",
     "shell.execute_reply.started": "2022-03-02T16:32:00.364691Z"
    },
    "papermill": {
     "duration": 0.676385,
     "end_time": "2022-03-03T19:16:59.647746",
     "exception": false,
     "start_time": "2022-03-03T19:16:58.971361",
     "status": "completed"
    },
    "tags": []
   },
   "outputs": [
    {
     "data": {
      "text/plain": [
       "None-of-the-above    346\n",
       "Misandry             104\n",
       "Counter-speech        36\n",
       "Xenophobia            29\n",
       "Misogyny              24\n",
       "Hope-Speech           11\n",
       "Homophobia             8\n",
       "Transphobic            2\n",
       "Name: 0, dtype: int64"
      ]
     },
     "execution_count": 28,
     "metadata": {},
     "output_type": "execute_result"
    }
   ],
   "source": [
    "df_valid[0].value_counts()"
   ]
  },
  {
   "cell_type": "code",
   "execution_count": 29,
   "id": "2221e941",
   "metadata": {
    "execution": {
     "iopub.execute_input": "2022-03-03T19:17:00.637660Z",
     "iopub.status.busy": "2022-03-03T19:17:00.637120Z",
     "iopub.status.idle": "2022-03-03T19:17:00.641982Z",
     "shell.execute_reply": "2022-03-03T19:17:00.642469Z",
     "shell.execute_reply.started": "2022-03-02T16:32:00.37395Z"
    },
    "papermill": {
     "duration": 0.509519,
     "end_time": "2022-03-03T19:17:00.642618",
     "exception": false,
     "start_time": "2022-03-03T19:17:00.133099",
     "status": "completed"
    },
    "tags": []
   },
   "outputs": [
    {
     "data": {
      "text/plain": [
       "None-of-the-above    417\n",
       "Misandry             127\n",
       "Misogyny              48\n",
       "Counter-speech        47\n",
       "Hope-Speech           26\n",
       "Xenophobia            25\n",
       "Homophobia             8\n",
       "Transphobic            2\n",
       "Name: 0, dtype: int64"
      ]
     },
     "execution_count": 29,
     "metadata": {},
     "output_type": "execute_result"
    }
   ],
   "source": [
    "df_test[0].value_counts()"
   ]
  },
  {
   "cell_type": "code",
   "execution_count": 30,
   "id": "0b979cb9",
   "metadata": {
    "execution": {
     "iopub.execute_input": "2022-03-03T19:17:01.600211Z",
     "iopub.status.busy": "2022-03-03T19:17:01.597715Z",
     "iopub.status.idle": "2022-03-03T19:17:01.603881Z",
     "shell.execute_reply": "2022-03-03T19:17:01.603444Z",
     "shell.execute_reply.started": "2022-03-02T16:32:00.386895Z"
    },
    "papermill": {
     "duration": 0.476797,
     "end_time": "2022-03-03T19:17:01.603997",
     "exception": false,
     "start_time": "2022-03-03T19:17:01.127200",
     "status": "completed"
    },
    "tags": []
   },
   "outputs": [],
   "source": [
    "learn.freeze()"
   ]
  },
  {
   "cell_type": "code",
   "execution_count": 31,
   "id": "628d512a",
   "metadata": {
    "execution": {
     "iopub.execute_input": "2022-03-03T19:17:02.504216Z",
     "iopub.status.busy": "2022-03-03T19:17:02.503316Z",
     "iopub.status.idle": "2022-03-03T19:17:04.476315Z",
     "shell.execute_reply": "2022-03-03T19:17:04.476780Z",
     "shell.execute_reply.started": "2022-03-02T16:32:00.393744Z"
    },
    "papermill": {
     "duration": 2.424152,
     "end_time": "2022-03-03T19:17:04.476936",
     "exception": false,
     "start_time": "2022-03-03T19:17:02.052784",
     "status": "completed"
    },
    "tags": []
   },
   "outputs": [
    {
     "data": {
      "text/html": [
       "<table border=\"1\" class=\"dataframe\">\n",
       "  <thead>\n",
       "    <tr style=\"text-align: left;\">\n",
       "      <th>epoch</th>\n",
       "      <th>train_loss</th>\n",
       "      <th>valid_loss</th>\n",
       "      <th>accuracy</th>\n",
       "      <th>time</th>\n",
       "    </tr>\n",
       "  </thead>\n",
       "  <tbody>\n",
       "    <tr>\n",
       "      <td>0</td>\n",
       "      <td>5.277541</td>\n",
       "      <td>4.862827</td>\n",
       "      <td>0.217355</td>\n",
       "      <td>00:01</td>\n",
       "    </tr>\n",
       "  </tbody>\n",
       "</table>"
      ],
      "text/plain": [
       "<IPython.core.display.HTML object>"
      ]
     },
     "metadata": {},
     "output_type": "display_data"
    }
   ],
   "source": [
    "learn.fit_one_cycle(1, 1e-2)"
   ]
  },
  {
   "cell_type": "code",
   "execution_count": 32,
   "id": "27e75fda",
   "metadata": {
    "execution": {
     "iopub.execute_input": "2022-03-03T19:17:05.390816Z",
     "iopub.status.busy": "2022-03-03T19:17:05.389841Z",
     "iopub.status.idle": "2022-03-03T19:17:05.391519Z",
     "shell.execute_reply": "2022-03-03T19:17:05.391932Z",
     "shell.execute_reply.started": "2022-03-02T16:32:09.070696Z"
    },
    "papermill": {
     "duration": 0.46899,
     "end_time": "2022-03-03T19:17:05.392085",
     "exception": false,
     "start_time": "2022-03-03T19:17:04.923095",
     "status": "completed"
    },
    "tags": []
   },
   "outputs": [],
   "source": [
    "learn.unfreeze()"
   ]
  },
  {
   "cell_type": "code",
   "execution_count": 33,
   "id": "4cebe577",
   "metadata": {
    "execution": {
     "iopub.execute_input": "2022-03-03T19:17:06.286304Z",
     "iopub.status.busy": "2022-03-03T19:17:06.285528Z",
     "iopub.status.idle": "2022-03-03T19:17:18.354870Z",
     "shell.execute_reply": "2022-03-03T19:17:18.354440Z",
     "shell.execute_reply.started": "2022-03-02T16:32:09.079298Z"
    },
    "papermill": {
     "duration": 12.524041,
     "end_time": "2022-03-03T19:17:18.354989",
     "exception": false,
     "start_time": "2022-03-03T19:17:05.830948",
     "status": "completed"
    },
    "tags": []
   },
   "outputs": [
    {
     "data": {
      "text/html": [
       "<table border=\"1\" class=\"dataframe\">\n",
       "  <thead>\n",
       "    <tr style=\"text-align: left;\">\n",
       "      <th>epoch</th>\n",
       "      <th>train_loss</th>\n",
       "      <th>valid_loss</th>\n",
       "      <th>accuracy</th>\n",
       "      <th>time</th>\n",
       "    </tr>\n",
       "  </thead>\n",
       "  <tbody>\n",
       "    <tr>\n",
       "      <td>0</td>\n",
       "      <td>4.791824</td>\n",
       "      <td>4.622920</td>\n",
       "      <td>0.267132</td>\n",
       "      <td>00:02</td>\n",
       "    </tr>\n",
       "    <tr>\n",
       "      <td>1</td>\n",
       "      <td>4.624503</td>\n",
       "      <td>4.420937</td>\n",
       "      <td>0.293694</td>\n",
       "      <td>00:02</td>\n",
       "    </tr>\n",
       "    <tr>\n",
       "      <td>2</td>\n",
       "      <td>4.468401</td>\n",
       "      <td>4.317780</td>\n",
       "      <td>0.306696</td>\n",
       "      <td>00:02</td>\n",
       "    </tr>\n",
       "    <tr>\n",
       "      <td>3</td>\n",
       "      <td>4.339531</td>\n",
       "      <td>4.275700</td>\n",
       "      <td>0.313114</td>\n",
       "      <td>00:02</td>\n",
       "    </tr>\n",
       "    <tr>\n",
       "      <td>4</td>\n",
       "      <td>4.257739</td>\n",
       "      <td>4.272144</td>\n",
       "      <td>0.314118</td>\n",
       "      <td>00:02</td>\n",
       "    </tr>\n",
       "  </tbody>\n",
       "</table>"
      ],
      "text/plain": [
       "<IPython.core.display.HTML object>"
      ]
     },
     "metadata": {},
     "output_type": "display_data"
    }
   ],
   "source": [
    "learn.fit_one_cycle(5, 1e-3)"
   ]
  },
  {
   "cell_type": "code",
   "execution_count": 34,
   "id": "6bbb7734",
   "metadata": {
    "execution": {
     "iopub.execute_input": "2022-03-03T19:17:19.274027Z",
     "iopub.status.busy": "2022-03-03T19:17:19.247830Z",
     "iopub.status.idle": "2022-03-03T19:17:19.299116Z",
     "shell.execute_reply": "2022-03-03T19:17:19.298646Z",
     "shell.execute_reply.started": "2022-03-02T16:33:02.775592Z"
    },
    "papermill": {
     "duration": 0.50748,
     "end_time": "2022-03-03T19:17:19.299241",
     "exception": false,
     "start_time": "2022-03-03T19:17:18.791761",
     "status": "completed"
    },
    "tags": []
   },
   "outputs": [
    {
     "data": {
      "text/plain": [
       "'▁தனது ▁சொந்த ▁அனுபவ ம் ▁காரணமாக ▁ஆ சி த்தி க் ▁கொலை ▁செய்த ▁நி'"
      ]
     },
     "execution_count": 34,
     "metadata": {},
     "output_type": "execute_result"
    }
   ],
   "source": [
    "learn.predict('▁தனது ▁சொந்த',n_words=10)"
   ]
  },
  {
   "cell_type": "code",
   "execution_count": 35,
   "id": "a5032d90",
   "metadata": {
    "execution": {
     "iopub.execute_input": "2022-03-03T19:17:20.201186Z",
     "iopub.status.busy": "2022-03-03T19:17:20.199969Z",
     "iopub.status.idle": "2022-03-03T19:17:20.357632Z",
     "shell.execute_reply": "2022-03-03T19:17:20.357097Z",
     "shell.execute_reply.started": "2022-03-02T16:33:02.864396Z"
    },
    "papermill": {
     "duration": 0.620342,
     "end_time": "2022-03-03T19:17:20.357754",
     "exception": false,
     "start_time": "2022-03-03T19:17:19.737412",
     "status": "completed"
    },
    "tags": []
   },
   "outputs": [],
   "source": [
    "learn.save_encoder('fine_tuned_enc')"
   ]
  },
  {
   "cell_type": "code",
   "execution_count": 36,
   "id": "c9b51f4d",
   "metadata": {
    "execution": {
     "iopub.execute_input": "2022-03-03T19:17:21.532502Z",
     "iopub.status.busy": "2022-03-03T19:17:21.531756Z",
     "iopub.status.idle": "2022-03-03T19:17:22.568585Z",
     "shell.execute_reply": "2022-03-03T19:17:22.567839Z",
     "shell.execute_reply.started": "2022-03-02T16:33:03.194513Z"
    },
    "papermill": {
     "duration": 1.764936,
     "end_time": "2022-03-03T19:17:22.568748",
     "exception": false,
     "start_time": "2022-03-03T19:17:20.803812",
     "status": "completed"
    },
    "tags": []
   },
   "outputs": [
    {
     "data": {
      "text/html": [],
      "text/plain": [
       "<IPython.core.display.HTML object>"
      ]
     },
     "metadata": {},
     "output_type": "display_data"
    },
    {
     "name": "stderr",
     "output_type": "stream",
     "text": [
      "/opt/conda/lib/python3.7/site-packages/fastai/core.py:302: VisibleDeprecationWarning: Creating an ndarray from ragged nested sequences (which is a list-or-tuple of lists-or-tuples-or ndarrays with different lengths or shapes) is deprecated. If you meant to do this, you must specify 'dtype=object' when creating the ndarray.\n",
      "  return np.array(a, dtype=dtype, **kwargs)\n"
     ]
    },
    {
     "data": {
      "text/html": [],
      "text/plain": [
       "<IPython.core.display.HTML object>"
      ]
     },
     "metadata": {},
     "output_type": "display_data"
    },
    {
     "data": {
      "text/html": [],
      "text/plain": [
       "<IPython.core.display.HTML object>"
      ]
     },
     "metadata": {},
     "output_type": "display_data"
    },
    {
     "name": "stderr",
     "output_type": "stream",
     "text": [
      "/opt/conda/lib/python3.7/site-packages/numpy/core/_asarray.py:102: VisibleDeprecationWarning: Creating an ndarray from ragged nested sequences (which is a list-or-tuple of lists-or-tuples-or ndarrays with different lengths or shapes) is deprecated. If you meant to do this, you must specify 'dtype=object' when creating the ndarray.\n",
      "  return array(a, dtype, copy=False, order=order)\n",
      "<string>:6: VisibleDeprecationWarning: Creating an ndarray from ragged nested sequences (which is a list-or-tuple of lists-or-tuples-or ndarrays with different lengths or shapes) is deprecated. If you meant to do this, you must specify 'dtype=object' when creating the ndarray.\n"
     ]
    }
   ],
   "source": [
    "data_clas = TextClasDataBunch.from_df(path=path, train_df=df_train, valid_df=df_valid, test_df=df_test, tokenizer=tokenizer, vocab=tamil_vocab, label_cols=label_cols, bs=64)"
   ]
  },
  {
   "cell_type": "code",
   "execution_count": 37,
   "id": "4077aeec",
   "metadata": {
    "execution": {
     "iopub.execute_input": "2022-03-03T19:17:23.474805Z",
     "iopub.status.busy": "2022-03-03T19:17:23.473956Z",
     "iopub.status.idle": "2022-03-03T19:17:23.555007Z",
     "shell.execute_reply": "2022-03-03T19:17:23.555450Z",
     "shell.execute_reply.started": "2022-03-02T16:33:05.251787Z"
    },
    "papermill": {
     "duration": 0.531613,
     "end_time": "2022-03-03T19:17:23.555592",
     "exception": false,
     "start_time": "2022-03-03T19:17:23.023979",
     "status": "completed"
    },
    "tags": []
   },
   "outputs": [
    {
     "data": {
      "text/html": [
       "<table border=\"1\" class=\"dataframe\">\n",
       "  <thead>\n",
       "    <tr style=\"text-align: right;\">\n",
       "      <th>text</th>\n",
       "      <th>target</th>\n",
       "    </tr>\n",
       "  </thead>\n",
       "  <tbody>\n",
       "    <tr>\n",
       "      <td>▁ x x b os ▁தேவ தா சி ▁என்ற ▁க தா பா த்தி த்தை ▁உருவாக்கிய வர் களே ▁பிராமண ர் தா னே ▁தேவ தா சி கள் ▁என்றால் ▁கடவுள ுக்காக ▁ஒப்பு க் கொடு க்கப்பட்ட ▁பெண்கள் ▁என்று ▁சொல்லி ▁உ ங்கள் ▁சு க பொ க த்து க்காக ▁மக்களை ▁அன்று ம் ▁இன்றும் ▁அடிமை ப்படுத்தி ▁வைத்திருக்க ின்ற ீர் கள் ▁கமல கா சன ும் ▁நீ ங்களும் ▁சொல் கின்ற ீர் கள் ▁தமிழ ை ▁முக வா ி ▁என்று ▁எந்த</td>\n",
       "      <td>Counter-speech</td>\n",
       "    </tr>\n",
       "    <tr>\n",
       "      <td>▁ x x b os ▁அரங்க த்தை ▁விட்டு ▁வெளியேற ினார் ▁ரா கு ல் ▁இந்தியா வுக்கு ▁கிடைத்த ▁இடத்தை ▁ஏ ன் ▁சீனா வுக்கு ▁கொடுத்த ீ ங்க ▁ஒரே ▁ஒரு ▁கேள்வி ▁கேட்ட ▁மாணவ ி ▁நிகழ்ச்சி யை ▁நிறுத்தி ▁வெளியேறி ய ▁ரா கு ல் ▁தமிழகத்தில் ▁ரா கு ல் ▁காந்தி ▁மாணவ ி களை ▁சந்தித்த ு ▁உரையாட ினார் ▁அதேபோல ் ▁அரியானா வில் ▁மாணவ ி களை ▁சந்தித்த ார் ▁ஒரு ▁கேள்வி ▁ஒரே ▁கேள்வி ▁அரங்க த்தை ▁விட்டு ▁வெளியேற ினார் ▁ரா கு</td>\n",
       "      <td>None-of-the-above</td>\n",
       "    </tr>\n",
       "    <tr>\n",
       "      <td>▁ x x b os ▁பொ ண்ண ு ங்க ▁கே க்கு ற து ▁த ப்பு ▁இல்ல ▁கே க்க ▁ஒரு ▁வரை ▁முறை ▁இரு க்கு ▁உ ங்க ▁அப்பா வா ல ▁என்ன ▁ப ன்ன ▁முடிய ு மோ ▁அ த ▁கே ளு ங்க ▁த ப்பே ▁இல்ல ▁அவ ் லோ ▁பெரிய ▁மன சு ▁இல்ல ▁அம்மா னு ▁சொல் ர து ▁ச ரியா ▁அ ண்ண ▁எ ப்போ ▁சா வா ரு ▁தி ண்ண ▁எ ப்போ ▁காலி யாகும் னு</td>\n",
       "      <td>Counter-speech</td>\n",
       "    </tr>\n",
       "    <tr>\n",
       "      <td>▁ x x b os &lt;unk&gt; ▁n ath an &lt;unk&gt; ▁m un ian ▁அய்ய ய் யோ ▁தோ ழ ரே ▁தமிழ ை ப்படி க்க ாமல் ▁தமிழ னாக ▁இருப்பது ▁எவ்வளவு ▁பெரிய ▁அவ மான ம் ▁என்று ▁உணர ▁வேண்ட ா மா ▁தமிழ ல்லாத வர்கள் ▁தமிழ ை ▁நன்றாக க்க ற்று ▁தமிழ்நாடு ▁வந்து ▁வியாபார ம் ▁செய்து ▁ஒரே ▁வருட த்தில் ▁கோ ட ீசுவரர் கள் ▁ஆக ிறார்கள் ▁மலையாள ி ▁த லி த் ▁நா ங்களே ▁தமிழ் ▁மொழியை ▁விரும்பி க்</td>\n",
       "      <td>Counter-speech</td>\n",
       "    </tr>\n",
       "    <tr>\n",
       "      <td>▁ x x b os ▁திரு ▁செந் தில் ▁அவர்களுக்கு ▁நன் றி ▁திரு ▁சீனிவாச ன் ▁அவர்கள் ▁மிக ▁அழக ாக ▁தெளிவாக ▁உண்மை யை ▁பதிவு ▁செய்த ிருக்கிறார் ▁இதில் ▁ஜா தி ▁ ரீதியான ▁தாக்குதல் ▁இல்லை ▁பிராமண ர்கள் ▁இந்த ▁நடவடிக்கை யை ▁ஆதரிக்க ிறார்கள் ▁என்ற ▁உண்மை யை ▁பதிவு செய்த ிருக்கிறார் ▁மிகவும் ▁நன் றி ▁இந்த ▁பத்ம ▁சே ஷா த் ரி ▁பள்ளி ▁கட்டிட ம் ▁முறையான ▁அங்கீகார ம் ▁இல்லாமல் ▁கட்டப்பட்ட ிருக்கிறது ▁மேலும் ▁இந்த ▁பள்ளி ▁வளாக த்திற்கு ள் ▁நீ ச்சல்</td>\n",
       "      <td>Counter-speech</td>\n",
       "    </tr>\n",
       "  </tbody>\n",
       "</table>"
      ],
      "text/plain": [
       "<IPython.core.display.HTML object>"
      ]
     },
     "metadata": {},
     "output_type": "display_data"
    }
   ],
   "source": [
    "data_clas.show_batch()"
   ]
  },
  {
   "cell_type": "code",
   "execution_count": 38,
   "id": "8041a004",
   "metadata": {
    "execution": {
     "iopub.execute_input": "2022-03-03T19:17:24.511343Z",
     "iopub.status.busy": "2022-03-03T19:17:24.510707Z",
     "iopub.status.idle": "2022-03-03T19:17:24.512253Z",
     "shell.execute_reply": "2022-03-03T19:17:24.511819Z",
     "shell.execute_reply.started": "2022-03-02T16:33:05.575352Z"
    },
    "papermill": {
     "duration": 0.50217,
     "end_time": "2022-03-03T19:17:24.512378",
     "exception": false,
     "start_time": "2022-03-03T19:17:24.010208",
     "status": "completed"
    },
    "tags": []
   },
   "outputs": [],
   "source": [
    "del awd_lstm_config['tie_weights']\n",
    "del awd_lstm_config['out_bias']"
   ]
  },
  {
   "cell_type": "code",
   "execution_count": 39,
   "id": "8856e621",
   "metadata": {
    "execution": {
     "iopub.execute_input": "2022-03-03T19:17:25.411343Z",
     "iopub.status.busy": "2022-03-03T19:17:25.410528Z",
     "iopub.status.idle": "2022-03-03T19:17:31.775249Z",
     "shell.execute_reply": "2022-03-03T19:17:31.774740Z",
     "shell.execute_reply.started": "2022-03-02T16:33:05.581275Z"
    },
    "papermill": {
     "duration": 6.820368,
     "end_time": "2022-03-03T19:17:31.775388",
     "exception": false,
     "start_time": "2022-03-03T19:17:24.955020",
     "status": "completed"
    },
    "tags": []
   },
   "outputs": [
    {
     "name": "stdout",
     "output_type": "stream",
     "text": [
      "Downloading https://s3.amazonaws.com/fast-ai-modelzoo/wt103-fwd.tgz\n"
     ]
    },
    {
     "data": {
      "text/html": [],
      "text/plain": [
       "<IPython.core.display.HTML object>"
      ]
     },
     "metadata": {},
     "output_type": "display_data"
    }
   ],
   "source": [
    "learn = text_classifier_learner(data_clas, arch=AWD_LSTM, drop_mult=0.5, config=awd_lstm_config)"
   ]
  },
  {
   "cell_type": "code",
   "execution_count": 40,
   "id": "bd4d7195",
   "metadata": {
    "execution": {
     "iopub.execute_input": "2022-03-03T19:17:32.941507Z",
     "iopub.status.busy": "2022-03-03T19:17:32.940019Z",
     "iopub.status.idle": "2022-03-03T19:17:32.996852Z",
     "shell.execute_reply": "2022-03-03T19:17:32.997287Z",
     "shell.execute_reply.started": "2022-03-02T16:33:05.991279Z"
    },
    "papermill": {
     "duration": 0.515983,
     "end_time": "2022-03-03T19:17:32.997436",
     "exception": false,
     "start_time": "2022-03-03T19:17:32.481453",
     "status": "completed"
    },
    "tags": []
   },
   "outputs": [
    {
     "data": {
      "text/plain": [
       "RNNLearner(data=TextClasDataBunch;\n",
       "\n",
       "Train: LabelList (2239 items)\n",
       "x: TextList\n",
       "▁ x x b os ▁டே ய் ▁எச்ச ▁ந யே ▁ஈ ன ப் ▁பிற வி,▁ x x b os ▁யார் ▁இது,▁ x x b os ▁அ த ▁மட்டும் ▁ப சங்க ▁தான் ▁பா த்து க்கண ும் ▁நீங்க ▁வேற,▁ x x b os ▁ஏ ண்டா ▁லூ சு ப்பு ண்டை,▁ x x b os ▁p r iya ▁p r iya ▁கா மி டி ▁கூ தி யான ே ▁நல்ல ா ▁ஊ ம்பி ▁க த்து ட்டு ▁வா டா ▁ஓ லி ▁பு ண்ட\n",
       "y: CategoryList\n",
       "Misandry,None-of-the-above,None-of-the-above,Misandry,Homophobia\n",
       "Path: .;\n",
       "\n",
       "Valid: LabelList (560 items)\n",
       "x: TextList\n",
       "▁ x x b os ▁சோ ம் பே றி கள் ▁விரும்பி ▁வர த ட் ச ணை,▁ x x b os ▁சி மான் ▁கே வள மான ▁ஒ று ▁மனிதன் ▁ப ச் சோ ந்த ▁நாய் ▁வைர முத்து ▁ஒ று ▁கட்டு ▁பன்றி,▁ x x b os ▁சம த்துவம் ▁பேசும் ▁ஆன ந் சீ னி வா சன் ▁சா ருக்கு ▁நன் றி,▁ x x b os ▁p r iya ▁p r iya ▁அர வாணி ▁பு ண்ட ▁எ ங்க டா ▁ ங் ங ோ த்தா ▁கூ தி ▁கி ழி யு தா,▁ x x b os ▁பெ சி க்கொ ன் டி று க்கும் பொ து ▁பின்ன ால ▁இறுக்க ிற வ ங்க ல ▁பார்த்து ▁பார்த்து ▁பேச ுகிறார் ▁அ ப்போ ▁முன் னா டி ▁ஆட் களே ▁இல்ல யா\n",
       "y: CategoryList\n",
       "None-of-the-above,Misandry,None-of-the-above,Transphobic,None-of-the-above\n",
       "Path: .;\n",
       "\n",
       "Test: LabelList (700 items)\n",
       "x: TextList\n",
       "▁ x x b os <unk> ▁a b ir am i <unk> <unk> i ja y ak um ar ▁என் ▁தலைவி தி ▁என்று ▁தான் ▁நா னும் ▁நினைத்த ு க்கொண்டு ▁வாழ் கிற ேன்,▁ x x b os ▁மா மனித ர் ▁அ ண்ண ன் ▁நீ ங்கள் ▁நீ டூ ழி ▁வாழ வேண்டும் உ ங்கள் பே ச்சு உ ண்மை சூ ப்பர்,▁ x x b os ▁ச ரியா ▁சோ லி ங்கா ▁சார்,▁ x x b os ▁ஆ மை க்க றி ▁அ ண்ண ன் ▁சீ மான்,▁ x x b os ▁ஆனந்த ▁சார் ▁நியாய மான ▁பேச்சு\n",
       "y: EmptyLabelList\n",
       ",,,,\n",
       "Path: ., model=SequentialRNN(\n",
       "  (0): MultiBatchEncoder(\n",
       "    (module): AWD_LSTM(\n",
       "      (encoder): Embedding(8000, 400, padding_idx=1)\n",
       "      (encoder_dp): EmbeddingDropout(\n",
       "        (emb): Embedding(8000, 400, padding_idx=1)\n",
       "      )\n",
       "      (rnns): ModuleList(\n",
       "        (0): WeightDropout(\n",
       "          (module): LSTM(400, 1150, batch_first=True)\n",
       "        )\n",
       "        (1): WeightDropout(\n",
       "          (module): LSTM(1150, 1150, batch_first=True)\n",
       "        )\n",
       "        (2): WeightDropout(\n",
       "          (module): LSTM(1150, 400, batch_first=True)\n",
       "        )\n",
       "      )\n",
       "      (input_dp): RNNDropout()\n",
       "      (hidden_dps): ModuleList(\n",
       "        (0): RNNDropout()\n",
       "        (1): RNNDropout()\n",
       "        (2): RNNDropout()\n",
       "      )\n",
       "    )\n",
       "  )\n",
       "  (1): PoolingLinearClassifier(\n",
       "    (layers): Sequential(\n",
       "      (0): BatchNorm1d(1200, eps=1e-05, momentum=0.1, affine=True, track_running_stats=True)\n",
       "      (1): Dropout(p=0.05, inplace=False)\n",
       "      (2): Linear(in_features=1200, out_features=50, bias=True)\n",
       "      (3): ReLU(inplace=True)\n",
       "      (4): BatchNorm1d(50, eps=1e-05, momentum=0.1, affine=True, track_running_stats=True)\n",
       "      (5): Dropout(p=0.1, inplace=False)\n",
       "      (6): Linear(in_features=50, out_features=9, bias=True)\n",
       "    )\n",
       "  )\n",
       "), opt_func=functools.partial(<class 'torch.optim.adam.Adam'>, betas=(0.9, 0.99)), loss_func=FlattenedLoss of CrossEntropyLoss(), metrics=[<function accuracy at 0x7fdd46e3ae60>], true_wd=True, bn_wd=True, wd=0.01, train_bn=True, path=PosixPath('.'), model_dir='models', callback_fns=[functools.partial(<class 'fastai.basic_train.Recorder'>, add_time=True, silent=False)], callbacks=[RNNTrainer\n",
       "learn: ...\n",
       "alpha: 2.0\n",
       "beta: 1.0], layer_groups=[Sequential(\n",
       "  (0): Embedding(8000, 400, padding_idx=1)\n",
       "  (1): EmbeddingDropout(\n",
       "    (emb): Embedding(8000, 400, padding_idx=1)\n",
       "  )\n",
       "), Sequential(\n",
       "  (0): WeightDropout(\n",
       "    (module): LSTM(400, 1150, batch_first=True)\n",
       "  )\n",
       "  (1): RNNDropout()\n",
       "), Sequential(\n",
       "  (0): WeightDropout(\n",
       "    (module): LSTM(1150, 1150, batch_first=True)\n",
       "  )\n",
       "  (1): RNNDropout()\n",
       "), Sequential(\n",
       "  (0): WeightDropout(\n",
       "    (module): LSTM(1150, 400, batch_first=True)\n",
       "  )\n",
       "  (1): RNNDropout()\n",
       "), Sequential(\n",
       "  (0): PoolingLinearClassifier(\n",
       "    (layers): Sequential(\n",
       "      (0): BatchNorm1d(1200, eps=1e-05, momentum=0.1, affine=True, track_running_stats=True)\n",
       "      (1): Dropout(p=0.05, inplace=False)\n",
       "      (2): Linear(in_features=1200, out_features=50, bias=True)\n",
       "      (3): ReLU(inplace=True)\n",
       "      (4): BatchNorm1d(50, eps=1e-05, momentum=0.1, affine=True, track_running_stats=True)\n",
       "      (5): Dropout(p=0.1, inplace=False)\n",
       "      (6): Linear(in_features=50, out_features=9, bias=True)\n",
       "    )\n",
       "  )\n",
       ")], add_time=True, silent=False)"
      ]
     },
     "execution_count": 40,
     "metadata": {},
     "output_type": "execute_result"
    }
   ],
   "source": [
    "learn.load_encoder('fine_tuned_enc')"
   ]
  },
  {
   "cell_type": "code",
   "execution_count": 41,
   "id": "295eb247",
   "metadata": {
    "execution": {
     "iopub.execute_input": "2022-03-03T19:17:33.914803Z",
     "iopub.status.busy": "2022-03-03T19:17:33.914072Z",
     "iopub.status.idle": "2022-03-03T19:17:33.916756Z",
     "shell.execute_reply": "2022-03-03T19:17:33.916324Z",
     "shell.execute_reply.started": "2022-03-02T16:33:06.048186Z"
    },
    "papermill": {
     "duration": 0.477183,
     "end_time": "2022-03-03T19:17:33.916869",
     "exception": false,
     "start_time": "2022-03-03T19:17:33.439686",
     "status": "completed"
    },
    "tags": []
   },
   "outputs": [],
   "source": [
    "learn.freeze()"
   ]
  },
  {
   "cell_type": "code",
   "execution_count": 42,
   "id": "9abd58aa",
   "metadata": {
    "execution": {
     "iopub.execute_input": "2022-03-03T19:17:34.821209Z",
     "iopub.status.busy": "2022-03-03T19:17:34.820252Z",
     "iopub.status.idle": "2022-03-03T19:17:34.822994Z",
     "shell.execute_reply": "2022-03-03T19:17:34.823422Z",
     "shell.execute_reply.started": "2022-03-02T16:33:06.05698Z"
    },
    "papermill": {
     "duration": 0.457805,
     "end_time": "2022-03-03T19:17:34.823560",
     "exception": false,
     "start_time": "2022-03-03T19:17:34.365755",
     "status": "completed"
    },
    "tags": []
   },
   "outputs": [
    {
     "data": {
      "text/plain": [
       "CrossEntropyLoss()"
      ]
     },
     "execution_count": 42,
     "metadata": {},
     "output_type": "execute_result"
    }
   ],
   "source": [
    "learn.loss_func.func"
   ]
  },
  {
   "cell_type": "code",
   "execution_count": 43,
   "id": "16c88a7b",
   "metadata": {
    "execution": {
     "iopub.execute_input": "2022-03-03T19:17:35.822245Z",
     "iopub.status.busy": "2022-03-03T19:17:35.821431Z",
     "iopub.status.idle": "2022-03-03T19:17:35.822824Z",
     "shell.execute_reply": "2022-03-03T19:17:35.823245Z",
     "shell.execute_reply.started": "2022-03-02T16:33:06.064938Z"
    },
    "papermill": {
     "duration": 0.542054,
     "end_time": "2022-03-03T19:17:35.823393",
     "exception": false,
     "start_time": "2022-03-03T19:17:35.281339",
     "status": "completed"
    },
    "tags": []
   },
   "outputs": [],
   "source": [
    "mcc = MatthewsCorreff()"
   ]
  },
  {
   "cell_type": "code",
   "execution_count": 44,
   "id": "b8adff24",
   "metadata": {
    "execution": {
     "iopub.execute_input": "2022-03-03T19:17:36.842957Z",
     "iopub.status.busy": "2022-03-03T19:17:36.842001Z",
     "iopub.status.idle": "2022-03-03T19:17:36.843431Z",
     "shell.execute_reply": "2022-03-03T19:17:36.842551Z"
    },
    "papermill": {
     "duration": 0.458741,
     "end_time": "2022-03-03T19:17:36.843540",
     "exception": false,
     "start_time": "2022-03-03T19:17:36.384799",
     "status": "completed"
    },
    "tags": []
   },
   "outputs": [],
   "source": [
    "f1 = FBeta(beta = 1,average = 'weighted')"
   ]
  },
  {
   "cell_type": "code",
   "execution_count": 45,
   "id": "33d8576c",
   "metadata": {
    "execution": {
     "iopub.execute_input": "2022-03-03T19:17:37.744485Z",
     "iopub.status.busy": "2022-03-03T19:17:37.742893Z",
     "iopub.status.idle": "2022-03-03T19:17:37.745117Z",
     "shell.execute_reply": "2022-03-03T19:17:37.745538Z",
     "shell.execute_reply.started": "2022-03-02T16:33:06.07257Z"
    },
    "papermill": {
     "duration": 0.459715,
     "end_time": "2022-03-03T19:17:37.745689",
     "exception": false,
     "start_time": "2022-03-03T19:17:37.285974",
     "status": "completed"
    },
    "tags": []
   },
   "outputs": [],
   "source": [
    "learn.metrics = [f1]"
   ]
  },
  {
   "cell_type": "code",
   "execution_count": 46,
   "id": "1b9ca38e",
   "metadata": {
    "execution": {
     "iopub.execute_input": "2022-03-03T19:17:38.671848Z",
     "iopub.status.busy": "2022-03-03T19:17:38.670930Z",
     "iopub.status.idle": "2022-03-03T19:17:40.220995Z",
     "shell.execute_reply": "2022-03-03T19:17:40.221451Z",
     "shell.execute_reply.started": "2022-03-02T16:33:06.080895Z"
    },
    "papermill": {
     "duration": 2.005052,
     "end_time": "2022-03-03T19:17:40.221603",
     "exception": false,
     "start_time": "2022-03-03T19:17:38.216551",
     "status": "completed"
    },
    "tags": []
   },
   "outputs": [
    {
     "data": {
      "text/html": [
       "<table border=\"1\" class=\"dataframe\">\n",
       "  <thead>\n",
       "    <tr style=\"text-align: left;\">\n",
       "      <th>epoch</th>\n",
       "      <th>train_loss</th>\n",
       "      <th>valid_loss</th>\n",
       "      <th>f_beta</th>\n",
       "      <th>time</th>\n",
       "    </tr>\n",
       "  </thead>\n",
       "  <tbody>\n",
       "    <tr>\n",
       "      <td>0</td>\n",
       "      <td>1.673444</td>\n",
       "      <td>1.287872</td>\n",
       "      <td>0.581406</td>\n",
       "      <td>00:01</td>\n",
       "    </tr>\n",
       "  </tbody>\n",
       "</table>"
      ],
      "text/plain": [
       "<IPython.core.display.HTML object>"
      ]
     },
     "metadata": {},
     "output_type": "display_data"
    },
    {
     "name": "stderr",
     "output_type": "stream",
     "text": [
      "/opt/conda/lib/python3.7/site-packages/numpy/core/_asarray.py:102: VisibleDeprecationWarning: Creating an ndarray from ragged nested sequences (which is a list-or-tuple of lists-or-tuples-or ndarrays with different lengths or shapes) is deprecated. If you meant to do this, you must specify 'dtype=object' when creating the ndarray.\n",
      "  return array(a, dtype, copy=False, order=order)\n",
      "<string>:6: VisibleDeprecationWarning: Creating an ndarray from ragged nested sequences (which is a list-or-tuple of lists-or-tuples-or ndarrays with different lengths or shapes) is deprecated. If you meant to do this, you must specify 'dtype=object' when creating the ndarray.\n",
      "[W pthreadpool-cpp.cc:90] Warning: Leaking Caffe2 thread-pool after fork. (function pthreadpool)\n",
      "[W pthreadpool-cpp.cc:90] Warning: Leaking Caffe2 thread-pool after fork. (function pthreadpool)\n"
     ]
    }
   ],
   "source": [
    "learn.fit_one_cycle(1, 1e-2)"
   ]
  },
  {
   "cell_type": "code",
   "execution_count": 47,
   "id": "bbe730c2",
   "metadata": {
    "execution": {
     "iopub.execute_input": "2022-03-03T19:17:41.144537Z",
     "iopub.status.busy": "2022-03-03T19:17:41.143582Z",
     "iopub.status.idle": "2022-03-03T19:17:43.215428Z",
     "shell.execute_reply": "2022-03-03T19:17:43.216375Z",
     "shell.execute_reply.started": "2022-03-02T16:33:12.277856Z"
    },
    "papermill": {
     "duration": 2.541952,
     "end_time": "2022-03-03T19:17:43.216597",
     "exception": false,
     "start_time": "2022-03-03T19:17:40.674645",
     "status": "completed"
    },
    "tags": []
   },
   "outputs": [
    {
     "data": {
      "text/html": [
       "<table border=\"1\" class=\"dataframe\">\n",
       "  <thead>\n",
       "    <tr style=\"text-align: left;\">\n",
       "      <th>epoch</th>\n",
       "      <th>train_loss</th>\n",
       "      <th>valid_loss</th>\n",
       "      <th>f_beta</th>\n",
       "      <th>time</th>\n",
       "    </tr>\n",
       "  </thead>\n",
       "  <tbody>\n",
       "    <tr>\n",
       "      <td>0</td>\n",
       "      <td>1.264015</td>\n",
       "      <td>1.052760</td>\n",
       "      <td>0.627959</td>\n",
       "      <td>00:02</td>\n",
       "    </tr>\n",
       "  </tbody>\n",
       "</table>"
      ],
      "text/plain": [
       "<IPython.core.display.HTML object>"
      ]
     },
     "metadata": {},
     "output_type": "display_data"
    },
    {
     "name": "stderr",
     "output_type": "stream",
     "text": [
      "[W pthreadpool-cpp.cc:90] Warning: Leaking Caffe2 thread-pool after fork. (function pthreadpool)\n",
      "[W pthreadpool-cpp.cc:90] Warning: Leaking Caffe2 thread-pool after fork. (function pthreadpool)\n",
      "/opt/conda/lib/python3.7/site-packages/numpy/core/_asarray.py:102: VisibleDeprecationWarning: Creating an ndarray from ragged nested sequences (which is a list-or-tuple of lists-or-tuples-or ndarrays with different lengths or shapes) is deprecated. If you meant to do this, you must specify 'dtype=object' when creating the ndarray.\n",
      "  return array(a, dtype, copy=False, order=order)\n",
      "<string>:6: VisibleDeprecationWarning: Creating an ndarray from ragged nested sequences (which is a list-or-tuple of lists-or-tuples-or ndarrays with different lengths or shapes) is deprecated. If you meant to do this, you must specify 'dtype=object' when creating the ndarray.\n",
      "[W pthreadpool-cpp.cc:90] Warning: Leaking Caffe2 thread-pool after fork. (function pthreadpool)\n",
      "[W pthreadpool-cpp.cc:90] Warning: Leaking Caffe2 thread-pool after fork. (function pthreadpool)\n"
     ]
    }
   ],
   "source": [
    "learn.freeze_to(-2)\n",
    "learn.fit_one_cycle(1, 1e-2)"
   ]
  },
  {
   "cell_type": "code",
   "execution_count": 48,
   "id": "bb40ccef",
   "metadata": {
    "execution": {
     "iopub.execute_input": "2022-03-03T19:17:44.268686Z",
     "iopub.status.busy": "2022-03-03T19:17:44.267883Z",
     "iopub.status.idle": "2022-03-03T19:18:13.425272Z",
     "shell.execute_reply": "2022-03-03T19:18:13.424767Z",
     "shell.execute_reply.started": "2022-03-02T16:33:18.81695Z"
    },
    "papermill": {
     "duration": 29.619638,
     "end_time": "2022-03-03T19:18:13.425435",
     "exception": false,
     "start_time": "2022-03-03T19:17:43.805797",
     "status": "completed"
    },
    "tags": []
   },
   "outputs": [
    {
     "data": {
      "text/html": [
       "<table border=\"1\" class=\"dataframe\">\n",
       "  <thead>\n",
       "    <tr style=\"text-align: left;\">\n",
       "      <th>epoch</th>\n",
       "      <th>train_loss</th>\n",
       "      <th>valid_loss</th>\n",
       "      <th>f_beta</th>\n",
       "      <th>time</th>\n",
       "    </tr>\n",
       "  </thead>\n",
       "  <tbody>\n",
       "    <tr>\n",
       "      <td>0</td>\n",
       "      <td>0.905676</td>\n",
       "      <td>1.026914</td>\n",
       "      <td>0.621826</td>\n",
       "      <td>00:03</td>\n",
       "    </tr>\n",
       "    <tr>\n",
       "      <td>1</td>\n",
       "      <td>0.861350</td>\n",
       "      <td>0.994255</td>\n",
       "      <td>0.625702</td>\n",
       "      <td>00:03</td>\n",
       "    </tr>\n",
       "    <tr>\n",
       "      <td>2</td>\n",
       "      <td>0.760667</td>\n",
       "      <td>1.025134</td>\n",
       "      <td>0.645973</td>\n",
       "      <td>00:03</td>\n",
       "    </tr>\n",
       "    <tr>\n",
       "      <td>3</td>\n",
       "      <td>0.646857</td>\n",
       "      <td>1.031100</td>\n",
       "      <td>0.630616</td>\n",
       "      <td>00:03</td>\n",
       "    </tr>\n",
       "    <tr>\n",
       "      <td>4</td>\n",
       "      <td>0.538767</td>\n",
       "      <td>1.051679</td>\n",
       "      <td>0.623251</td>\n",
       "      <td>00:03</td>\n",
       "    </tr>\n",
       "    <tr>\n",
       "      <td>5</td>\n",
       "      <td>0.441832</td>\n",
       "      <td>1.088643</td>\n",
       "      <td>0.627392</td>\n",
       "      <td>00:03</td>\n",
       "    </tr>\n",
       "    <tr>\n",
       "      <td>6</td>\n",
       "      <td>0.378062</td>\n",
       "      <td>1.097571</td>\n",
       "      <td>0.629828</td>\n",
       "      <td>00:03</td>\n",
       "    </tr>\n",
       "    <tr>\n",
       "      <td>7</td>\n",
       "      <td>0.341368</td>\n",
       "      <td>1.070499</td>\n",
       "      <td>0.633994</td>\n",
       "      <td>00:03</td>\n",
       "    </tr>\n",
       "  </tbody>\n",
       "</table>"
      ],
      "text/plain": [
       "<IPython.core.display.HTML object>"
      ]
     },
     "metadata": {},
     "output_type": "display_data"
    },
    {
     "name": "stderr",
     "output_type": "stream",
     "text": [
      "[W pthreadpool-cpp.cc:90] Warning: Leaking Caffe2 thread-pool after fork. (function pthreadpool)\n",
      "[W pthreadpool-cpp.cc:90] Warning: Leaking Caffe2 thread-pool after fork. (function pthreadpool)\n",
      "/opt/conda/lib/python3.7/site-packages/numpy/core/_asarray.py:102: VisibleDeprecationWarning: Creating an ndarray from ragged nested sequences (which is a list-or-tuple of lists-or-tuples-or ndarrays with different lengths or shapes) is deprecated. If you meant to do this, you must specify 'dtype=object' when creating the ndarray.\n",
      "  return array(a, dtype, copy=False, order=order)\n",
      "<string>:6: VisibleDeprecationWarning: Creating an ndarray from ragged nested sequences (which is a list-or-tuple of lists-or-tuples-or ndarrays with different lengths or shapes) is deprecated. If you meant to do this, you must specify 'dtype=object' when creating the ndarray.\n",
      "[W pthreadpool-cpp.cc:90] Warning: Leaking Caffe2 thread-pool after fork. (function pthreadpool)\n",
      "[W pthreadpool-cpp.cc:90] Warning: Leaking Caffe2 thread-pool after fork. (function pthreadpool)\n"
     ]
    },
    {
     "name": "stdout",
     "output_type": "stream",
     "text": [
      "Better model found at epoch 0 with f_beta value: 0.6218256950378418.\n"
     ]
    },
    {
     "name": "stderr",
     "output_type": "stream",
     "text": [
      "[W pthreadpool-cpp.cc:90] Warning: Leaking Caffe2 thread-pool after fork. (function pthreadpool)\n",
      "[W pthreadpool-cpp.cc:90] Warning: Leaking Caffe2 thread-pool after fork. (function pthreadpool)\n",
      "/opt/conda/lib/python3.7/site-packages/numpy/core/_asarray.py:102: VisibleDeprecationWarning: Creating an ndarray from ragged nested sequences (which is a list-or-tuple of lists-or-tuples-or ndarrays with different lengths or shapes) is deprecated. If you meant to do this, you must specify 'dtype=object' when creating the ndarray.\n",
      "  return array(a, dtype, copy=False, order=order)\n",
      "<string>:6: VisibleDeprecationWarning: Creating an ndarray from ragged nested sequences (which is a list-or-tuple of lists-or-tuples-or ndarrays with different lengths or shapes) is deprecated. If you meant to do this, you must specify 'dtype=object' when creating the ndarray.\n",
      "[W pthreadpool-cpp.cc:90] Warning: Leaking Caffe2 thread-pool after fork. (function pthreadpool)\n",
      "[W pthreadpool-cpp.cc:90] Warning: Leaking Caffe2 thread-pool after fork. (function pthreadpool)\n"
     ]
    },
    {
     "name": "stdout",
     "output_type": "stream",
     "text": [
      "Better model found at epoch 1 with f_beta value: 0.6257021427154541.\n"
     ]
    },
    {
     "name": "stderr",
     "output_type": "stream",
     "text": [
      "[W pthreadpool-cpp.cc:90] Warning: Leaking Caffe2 thread-pool after fork. (function pthreadpool)\n",
      "[W pthreadpool-cpp.cc:90] Warning: Leaking Caffe2 thread-pool after fork. (function pthreadpool)\n",
      "/opt/conda/lib/python3.7/site-packages/numpy/core/_asarray.py:102: VisibleDeprecationWarning: Creating an ndarray from ragged nested sequences (which is a list-or-tuple of lists-or-tuples-or ndarrays with different lengths or shapes) is deprecated. If you meant to do this, you must specify 'dtype=object' when creating the ndarray.\n",
      "  return array(a, dtype, copy=False, order=order)\n",
      "<string>:6: VisibleDeprecationWarning: Creating an ndarray from ragged nested sequences (which is a list-or-tuple of lists-or-tuples-or ndarrays with different lengths or shapes) is deprecated. If you meant to do this, you must specify 'dtype=object' when creating the ndarray.\n",
      "[W pthreadpool-cpp.cc:90] Warning: Leaking Caffe2 thread-pool after fork. (function pthreadpool)\n",
      "[W pthreadpool-cpp.cc:90] Warning: Leaking Caffe2 thread-pool after fork. (function pthreadpool)\n"
     ]
    },
    {
     "name": "stdout",
     "output_type": "stream",
     "text": [
      "Better model found at epoch 2 with f_beta value: 0.6459726691246033.\n"
     ]
    },
    {
     "name": "stderr",
     "output_type": "stream",
     "text": [
      "[W pthreadpool-cpp.cc:90] Warning: Leaking Caffe2 thread-pool after fork. (function pthreadpool)\n",
      "[W pthreadpool-cpp.cc:90] Warning: Leaking Caffe2 thread-pool after fork. (function pthreadpool)\n",
      "/opt/conda/lib/python3.7/site-packages/numpy/core/_asarray.py:102: VisibleDeprecationWarning: Creating an ndarray from ragged nested sequences (which is a list-or-tuple of lists-or-tuples-or ndarrays with different lengths or shapes) is deprecated. If you meant to do this, you must specify 'dtype=object' when creating the ndarray.\n",
      "  return array(a, dtype, copy=False, order=order)\n",
      "<string>:6: VisibleDeprecationWarning: Creating an ndarray from ragged nested sequences (which is a list-or-tuple of lists-or-tuples-or ndarrays with different lengths or shapes) is deprecated. If you meant to do this, you must specify 'dtype=object' when creating the ndarray.\n",
      "[W pthreadpool-cpp.cc:90] Warning: Leaking Caffe2 thread-pool after fork. (function pthreadpool)\n",
      "[W pthreadpool-cpp.cc:90] Warning: Leaking Caffe2 thread-pool after fork. (function pthreadpool)\n",
      "[W pthreadpool-cpp.cc:90] Warning: Leaking Caffe2 thread-pool after fork. (function pthreadpool)\n",
      "[W pthreadpool-cpp.cc:90] Warning: Leaking Caffe2 thread-pool after fork. (function pthreadpool)\n",
      "/opt/conda/lib/python3.7/site-packages/numpy/core/_asarray.py:102: VisibleDeprecationWarning: Creating an ndarray from ragged nested sequences (which is a list-or-tuple of lists-or-tuples-or ndarrays with different lengths or shapes) is deprecated. If you meant to do this, you must specify 'dtype=object' when creating the ndarray.\n",
      "  return array(a, dtype, copy=False, order=order)\n",
      "<string>:6: VisibleDeprecationWarning: Creating an ndarray from ragged nested sequences (which is a list-or-tuple of lists-or-tuples-or ndarrays with different lengths or shapes) is deprecated. If you meant to do this, you must specify 'dtype=object' when creating the ndarray.\n",
      "[W pthreadpool-cpp.cc:90] Warning: Leaking Caffe2 thread-pool after fork. (function pthreadpool)\n",
      "[W pthreadpool-cpp.cc:90] Warning: Leaking Caffe2 thread-pool after fork. (function pthreadpool)\n",
      "[W pthreadpool-cpp.cc:90] Warning: Leaking Caffe2 thread-pool after fork. (function pthreadpool)\n",
      "[W pthreadpool-cpp.cc:90] Warning: Leaking Caffe2 thread-pool after fork. (function pthreadpool)\n",
      "/opt/conda/lib/python3.7/site-packages/numpy/core/_asarray.py:102: VisibleDeprecationWarning: Creating an ndarray from ragged nested sequences (which is a list-or-tuple of lists-or-tuples-or ndarrays with different lengths or shapes) is deprecated. If you meant to do this, you must specify 'dtype=object' when creating the ndarray.\n",
      "  return array(a, dtype, copy=False, order=order)\n",
      "<string>:6: VisibleDeprecationWarning: Creating an ndarray from ragged nested sequences (which is a list-or-tuple of lists-or-tuples-or ndarrays with different lengths or shapes) is deprecated. If you meant to do this, you must specify 'dtype=object' when creating the ndarray.\n",
      "[W pthreadpool-cpp.cc:90] Warning: Leaking Caffe2 thread-pool after fork. (function pthreadpool)\n",
      "[W pthreadpool-cpp.cc:90] Warning: Leaking Caffe2 thread-pool after fork. (function pthreadpool)\n",
      "[W pthreadpool-cpp.cc:90] Warning: Leaking Caffe2 thread-pool after fork. (function pthreadpool)\n",
      "[W pthreadpool-cpp.cc:90] Warning: Leaking Caffe2 thread-pool after fork. (function pthreadpool)\n",
      "/opt/conda/lib/python3.7/site-packages/numpy/core/_asarray.py:102: VisibleDeprecationWarning: Creating an ndarray from ragged nested sequences (which is a list-or-tuple of lists-or-tuples-or ndarrays with different lengths or shapes) is deprecated. If you meant to do this, you must specify 'dtype=object' when creating the ndarray.\n",
      "  return array(a, dtype, copy=False, order=order)\n",
      "<string>:6: VisibleDeprecationWarning: Creating an ndarray from ragged nested sequences (which is a list-or-tuple of lists-or-tuples-or ndarrays with different lengths or shapes) is deprecated. If you meant to do this, you must specify 'dtype=object' when creating the ndarray.\n",
      "[W pthreadpool-cpp.cc:90] Warning: Leaking Caffe2 thread-pool after fork. (function pthreadpool)\n",
      "[W pthreadpool-cpp.cc:90] Warning: Leaking Caffe2 thread-pool after fork. (function pthreadpool)\n",
      "[W pthreadpool-cpp.cc:90] Warning: Leaking Caffe2 thread-pool after fork. (function pthreadpool)\n",
      "[W pthreadpool-cpp.cc:90] Warning: Leaking Caffe2 thread-pool after fork. (function pthreadpool)\n",
      "/opt/conda/lib/python3.7/site-packages/numpy/core/_asarray.py:102: VisibleDeprecationWarning: Creating an ndarray from ragged nested sequences (which is a list-or-tuple of lists-or-tuples-or ndarrays with different lengths or shapes) is deprecated. If you meant to do this, you must specify 'dtype=object' when creating the ndarray.\n",
      "  return array(a, dtype, copy=False, order=order)\n",
      "<string>:6: VisibleDeprecationWarning: Creating an ndarray from ragged nested sequences (which is a list-or-tuple of lists-or-tuples-or ndarrays with different lengths or shapes) is deprecated. If you meant to do this, you must specify 'dtype=object' when creating the ndarray.\n",
      "[W pthreadpool-cpp.cc:90] Warning: Leaking Caffe2 thread-pool after fork. (function pthreadpool)\n",
      "[W pthreadpool-cpp.cc:90] Warning: Leaking Caffe2 thread-pool after fork. (function pthreadpool)\n"
     ]
    }
   ],
   "source": [
    "learn.unfreeze()\n",
    "learn.fit_one_cycle(8, 1e-3, callbacks=[callbacks.SaveModelCallback(learn, every='improvement', monitor='f_beta', name='final')])"
   ]
  },
  {
   "cell_type": "code",
   "execution_count": 49,
   "id": "be2e8047",
   "metadata": {
    "execution": {
     "iopub.execute_input": "2022-03-03T19:18:14.375393Z",
     "iopub.status.busy": "2022-03-03T19:18:14.373915Z",
     "iopub.status.idle": "2022-03-03T19:18:15.025846Z",
     "shell.execute_reply": "2022-03-03T19:18:15.026361Z",
     "shell.execute_reply.started": "2022-03-02T16:35:16.86378Z"
    },
    "papermill": {
     "duration": 1.120466,
     "end_time": "2022-03-03T19:18:15.026519",
     "exception": false,
     "start_time": "2022-03-03T19:18:13.906053",
     "status": "completed"
    },
    "tags": []
   },
   "outputs": [
    {
     "data": {
      "text/html": [],
      "text/plain": [
       "<IPython.core.display.HTML object>"
      ]
     },
     "metadata": {},
     "output_type": "display_data"
    },
    {
     "name": "stderr",
     "output_type": "stream",
     "text": [
      "[W pthreadpool-cpp.cc:90] Warning: Leaking Caffe2 thread-pool after fork. (function pthreadpool)\n",
      "[W pthreadpool-cpp.cc:90] Warning: Leaking Caffe2 thread-pool after fork. (function pthreadpool)\n"
     ]
    },
    {
     "data": {
      "text/html": [
       "<div>\n",
       "<style scoped>\n",
       "    .dataframe tbody tr th:only-of-type {\n",
       "        vertical-align: middle;\n",
       "    }\n",
       "\n",
       "    .dataframe tbody tr th {\n",
       "        vertical-align: top;\n",
       "    }\n",
       "\n",
       "    .dataframe thead th {\n",
       "        text-align: right;\n",
       "    }\n",
       "</style>\n",
       "<table border=\"1\" class=\"dataframe\">\n",
       "  <thead>\n",
       "    <tr style=\"text-align: right;\">\n",
       "      <th></th>\n",
       "      <th>query</th>\n",
       "      <th>actual_label</th>\n",
       "      <th>predicted_label</th>\n",
       "      <th>Misandry</th>\n",
       "      <th>None-of-the-above</th>\n",
       "      <th>Transphobic</th>\n",
       "      <th>Counter-speech</th>\n",
       "      <th>Not-Tamil</th>\n",
       "      <th>Hope-Speech</th>\n",
       "      <th>Homophobia</th>\n",
       "      <th>Xenophobia</th>\n",
       "      <th>Misogyny</th>\n",
       "    </tr>\n",
       "  </thead>\n",
       "  <tbody>\n",
       "    <tr>\n",
       "      <th>0</th>\n",
       "      <td>Abirami Vijayakumar என் தலைவிதி என்று தான் நான...</td>\n",
       "      <td>None-of-the-above</td>\n",
       "      <td>None-of-the-above</td>\n",
       "      <td>0.003401</td>\n",
       "      <td>0.934279</td>\n",
       "      <td>0.003449</td>\n",
       "      <td>0.013012</td>\n",
       "      <td>0.00375</td>\n",
       "      <td>0.02794</td>\n",
       "      <td>0.003841</td>\n",
       "      <td>0.004633</td>\n",
       "      <td>0.005695</td>\n",
       "    </tr>\n",
       "    <tr>\n",
       "      <th>1</th>\n",
       "      <td>மாமனிதர் அண்ணன் நீங்கள் நீடூழி வாழவேண்டும்உங்க...</td>\n",
       "      <td>None-of-the-above</td>\n",
       "      <td>None-of-the-above</td>\n",
       "      <td>0.20237</td>\n",
       "      <td>0.550928</td>\n",
       "      <td>0.011259</td>\n",
       "      <td>0.035255</td>\n",
       "      <td>0.0096</td>\n",
       "      <td>0.045435</td>\n",
       "      <td>0.015561</td>\n",
       "      <td>0.02697</td>\n",
       "      <td>0.102622</td>\n",
       "    </tr>\n",
       "    <tr>\n",
       "      <th>2</th>\n",
       "      <td>சரியா சோலிங்கா சார்</td>\n",
       "      <td>None-of-the-above</td>\n",
       "      <td>None-of-the-above</td>\n",
       "      <td>0.087032</td>\n",
       "      <td>0.858675</td>\n",
       "      <td>0.00591</td>\n",
       "      <td>0.004073</td>\n",
       "      <td>0.001985</td>\n",
       "      <td>0.003506</td>\n",
       "      <td>0.016492</td>\n",
       "      <td>0.013087</td>\n",
       "      <td>0.00924</td>\n",
       "    </tr>\n",
       "    <tr>\n",
       "      <th>3</th>\n",
       "      <td>ஆமைக்கறி அண்ணன் சீமான்</td>\n",
       "      <td>None-of-the-above</td>\n",
       "      <td>None-of-the-above</td>\n",
       "      <td>0.136219</td>\n",
       "      <td>0.79077</td>\n",
       "      <td>0.005534</td>\n",
       "      <td>0.010419</td>\n",
       "      <td>0.002693</td>\n",
       "      <td>0.008782</td>\n",
       "      <td>0.008881</td>\n",
       "      <td>0.014414</td>\n",
       "      <td>0.022289</td>\n",
       "    </tr>\n",
       "    <tr>\n",
       "      <th>4</th>\n",
       "      <td>ஆனந்த சார் நியாயமான பேச்சு</td>\n",
       "      <td>None-of-the-above</td>\n",
       "      <td>None-of-the-above</td>\n",
       "      <td>0.001558</td>\n",
       "      <td>0.524809</td>\n",
       "      <td>0.017539</td>\n",
       "      <td>0.065723</td>\n",
       "      <td>0.01324</td>\n",
       "      <td>0.332849</td>\n",
       "      <td>0.023353</td>\n",
       "      <td>0.015338</td>\n",
       "      <td>0.005591</td>\n",
       "    </tr>\n",
       "  </tbody>\n",
       "</table>\n",
       "</div>"
      ],
      "text/plain": [
       "                                               query       actual_label  \\\n",
       "0  Abirami Vijayakumar என் தலைவிதி என்று தான் நான...  None-of-the-above   \n",
       "1  மாமனிதர் அண்ணன் நீங்கள் நீடூழி வாழவேண்டும்உங்க...  None-of-the-above   \n",
       "2                                சரியா சோலிங்கா சார்  None-of-the-above   \n",
       "3                             ஆமைக்கறி அண்ணன் சீமான்  None-of-the-above   \n",
       "4                         ஆனந்த சார் நியாயமான பேச்சு  None-of-the-above   \n",
       "\n",
       "     predicted_label  Misandry None-of-the-above Transphobic Counter-speech  \\\n",
       "0  None-of-the-above  0.003401          0.934279    0.003449       0.013012   \n",
       "1  None-of-the-above   0.20237          0.550928    0.011259       0.035255   \n",
       "2  None-of-the-above  0.087032          0.858675     0.00591       0.004073   \n",
       "3  None-of-the-above  0.136219           0.79077    0.005534       0.010419   \n",
       "4  None-of-the-above  0.001558          0.524809    0.017539       0.065723   \n",
       "\n",
       "  Not-Tamil Hope-Speech Homophobia Xenophobia  Misogyny  \n",
       "0   0.00375     0.02794   0.003841   0.004633  0.005695  \n",
       "1    0.0096    0.045435   0.015561    0.02697  0.102622  \n",
       "2  0.001985    0.003506   0.016492   0.013087   0.00924  \n",
       "3  0.002693    0.008782   0.008881   0.014414  0.022289  \n",
       "4   0.01324    0.332849   0.023353   0.015338  0.005591  "
      ]
     },
     "execution_count": 49,
     "metadata": {},
     "output_type": "execute_result"
    }
   ],
   "source": [
    "from sklearn.metrics import accuracy_score, matthews_corrcoef\n",
    "df_dict = {'query': list(df_test[1]), 'actual_label': list(df_test[0]), 'predicted_label': ['']*df_test.shape[0]}\n",
    "all_nodes = list(set(df_train[0]))\n",
    "for node in all_nodes:\n",
    "    df_dict[node] = ['']*df_test.shape[0]\n",
    "\n",
    "i2c = {}\n",
    "for key, value in learn.data.c2i.items():\n",
    "    i2c[value] = key\n",
    "\n",
    "df_result = pd.DataFrame(df_dict)\n",
    "preds = learn.get_preds(ds_type=DatasetType.Test, ordered=True)\n",
    "for index, row in df_result.iterrows():\n",
    "    for node in all_nodes:\n",
    "        row[node] = preds[0][index][learn.data.c2i[node]].item()\n",
    "    row['predicted_label'] = i2c[np.argmax(preds[0][index]).data.item()]\n",
    "df_result.head()"
   ]
  },
  {
   "cell_type": "code",
   "execution_count": 50,
   "id": "67c2975a",
   "metadata": {
    "execution": {
     "iopub.execute_input": "2022-03-03T19:18:16.075691Z",
     "iopub.status.busy": "2022-03-03T19:18:16.074849Z",
     "iopub.status.idle": "2022-03-03T19:18:16.086348Z",
     "shell.execute_reply": "2022-03-03T19:18:16.086971Z",
     "shell.execute_reply.started": "2022-03-02T16:35:18.645885Z"
    },
    "papermill": {
     "duration": 0.604027,
     "end_time": "2022-03-03T19:18:16.087186",
     "exception": false,
     "start_time": "2022-03-03T19:18:15.483159",
     "status": "completed"
    },
    "tags": []
   },
   "outputs": [
    {
     "data": {
      "text/plain": [
       "0.6685714285714286"
      ]
     },
     "execution_count": 50,
     "metadata": {},
     "output_type": "execute_result"
    }
   ],
   "source": [
    "accuracy_score(df_result['actual_label'], df_result['predicted_label'])"
   ]
  },
  {
   "cell_type": "code",
   "execution_count": 51,
   "id": "f0b92e8e",
   "metadata": {
    "execution": {
     "iopub.execute_input": "2022-03-03T19:18:17.138386Z",
     "iopub.status.busy": "2022-03-03T19:18:17.137540Z",
     "iopub.status.idle": "2022-03-03T19:18:17.146353Z",
     "shell.execute_reply": "2022-03-03T19:18:17.146758Z",
     "shell.execute_reply.started": "2022-03-02T16:35:18.657767Z"
    },
    "papermill": {
     "duration": 0.471652,
     "end_time": "2022-03-03T19:18:17.146904",
     "exception": false,
     "start_time": "2022-03-03T19:18:16.675252",
     "status": "completed"
    },
    "tags": []
   },
   "outputs": [
    {
     "data": {
      "text/plain": [
       "0.376739742933834"
      ]
     },
     "execution_count": 51,
     "metadata": {},
     "output_type": "execute_result"
    }
   ],
   "source": [
    "matthews_corrcoef(df_result['actual_label'], df_result['predicted_label'])"
   ]
  },
  {
   "cell_type": "code",
   "execution_count": 52,
   "id": "170930ef",
   "metadata": {
    "execution": {
     "iopub.execute_input": "2022-03-03T19:18:18.075929Z",
     "iopub.status.busy": "2022-03-03T19:18:18.069053Z",
     "iopub.status.idle": "2022-03-03T19:18:18.098212Z",
     "shell.execute_reply": "2022-03-03T19:18:18.098886Z",
     "shell.execute_reply.started": "2022-03-02T16:35:18.674503Z"
    },
    "papermill": {
     "duration": 0.491992,
     "end_time": "2022-03-03T19:18:18.099088",
     "exception": false,
     "start_time": "2022-03-03T19:18:17.607096",
     "status": "completed"
    },
    "tags": []
   },
   "outputs": [
    {
     "name": "stderr",
     "output_type": "stream",
     "text": [
      "/opt/conda/lib/python3.7/site-packages/sklearn/metrics/_classification.py:1221: UndefinedMetricWarning: Precision and F-score are ill-defined and being set to 0.0 in labels with no predicted samples. Use `zero_division` parameter to control this behavior.\n",
      "  _warn_prf(average, modifier, msg_start, len(result))\n"
     ]
    }
   ],
   "source": [
    "report = classification_report(df_result['actual_label'], df_result['predicted_label'],output_dict=True)"
   ]
  },
  {
   "cell_type": "code",
   "execution_count": 53,
   "id": "01745d0f",
   "metadata": {
    "execution": {
     "iopub.execute_input": "2022-03-03T19:18:19.034725Z",
     "iopub.status.busy": "2022-03-03T19:18:19.033861Z",
     "iopub.status.idle": "2022-03-03T19:18:19.043686Z",
     "shell.execute_reply": "2022-03-03T19:18:19.044115Z",
     "shell.execute_reply.started": "2022-03-02T16:35:18.747045Z"
    },
    "papermill": {
     "duration": 0.478749,
     "end_time": "2022-03-03T19:18:19.044256",
     "exception": false,
     "start_time": "2022-03-03T19:18:18.565507",
     "status": "completed"
    },
    "tags": []
   },
   "outputs": [
    {
     "data": {
      "text/html": [
       "<div>\n",
       "<style scoped>\n",
       "    .dataframe tbody tr th:only-of-type {\n",
       "        vertical-align: middle;\n",
       "    }\n",
       "\n",
       "    .dataframe tbody tr th {\n",
       "        vertical-align: top;\n",
       "    }\n",
       "\n",
       "    .dataframe thead th {\n",
       "        text-align: right;\n",
       "    }\n",
       "</style>\n",
       "<table border=\"1\" class=\"dataframe\">\n",
       "  <thead>\n",
       "    <tr style=\"text-align: right;\">\n",
       "      <th></th>\n",
       "      <th>precision</th>\n",
       "      <th>recall</th>\n",
       "      <th>f1-score</th>\n",
       "      <th>support</th>\n",
       "    </tr>\n",
       "  </thead>\n",
       "  <tbody>\n",
       "    <tr>\n",
       "      <th>Counter-speech</th>\n",
       "      <td>0.307692</td>\n",
       "      <td>0.170213</td>\n",
       "      <td>0.219178</td>\n",
       "      <td>47.000000</td>\n",
       "    </tr>\n",
       "    <tr>\n",
       "      <th>Homophobia</th>\n",
       "      <td>0.600000</td>\n",
       "      <td>0.375000</td>\n",
       "      <td>0.461538</td>\n",
       "      <td>8.000000</td>\n",
       "    </tr>\n",
       "    <tr>\n",
       "      <th>Hope-Speech</th>\n",
       "      <td>0.454545</td>\n",
       "      <td>0.192308</td>\n",
       "      <td>0.270270</td>\n",
       "      <td>26.000000</td>\n",
       "    </tr>\n",
       "    <tr>\n",
       "      <th>Misandry</th>\n",
       "      <td>0.598214</td>\n",
       "      <td>0.527559</td>\n",
       "      <td>0.560669</td>\n",
       "      <td>127.000000</td>\n",
       "    </tr>\n",
       "    <tr>\n",
       "      <th>Misogyny</th>\n",
       "      <td>0.705882</td>\n",
       "      <td>0.250000</td>\n",
       "      <td>0.369231</td>\n",
       "      <td>48.000000</td>\n",
       "    </tr>\n",
       "    <tr>\n",
       "      <th>None-of-the-above</th>\n",
       "      <td>0.706439</td>\n",
       "      <td>0.894484</td>\n",
       "      <td>0.789418</td>\n",
       "      <td>417.000000</td>\n",
       "    </tr>\n",
       "    <tr>\n",
       "      <th>Transphobic</th>\n",
       "      <td>0.000000</td>\n",
       "      <td>0.000000</td>\n",
       "      <td>0.000000</td>\n",
       "      <td>2.000000</td>\n",
       "    </tr>\n",
       "    <tr>\n",
       "      <th>Xenophobia</th>\n",
       "      <td>0.000000</td>\n",
       "      <td>0.000000</td>\n",
       "      <td>0.000000</td>\n",
       "      <td>25.000000</td>\n",
       "    </tr>\n",
       "    <tr>\n",
       "      <th>accuracy</th>\n",
       "      <td>0.668571</td>\n",
       "      <td>0.668571</td>\n",
       "      <td>0.668571</td>\n",
       "      <td>0.668571</td>\n",
       "    </tr>\n",
       "    <tr>\n",
       "      <th>macro avg</th>\n",
       "      <td>0.421597</td>\n",
       "      <td>0.301195</td>\n",
       "      <td>0.333788</td>\n",
       "      <td>700.000000</td>\n",
       "    </tr>\n",
       "    <tr>\n",
       "      <th>weighted avg</th>\n",
       "      <td>0.622172</td>\n",
       "      <td>0.668571</td>\n",
       "      <td>0.627337</td>\n",
       "      <td>700.000000</td>\n",
       "    </tr>\n",
       "  </tbody>\n",
       "</table>\n",
       "</div>"
      ],
      "text/plain": [
       "                   precision    recall  f1-score     support\n",
       "Counter-speech      0.307692  0.170213  0.219178   47.000000\n",
       "Homophobia          0.600000  0.375000  0.461538    8.000000\n",
       "Hope-Speech         0.454545  0.192308  0.270270   26.000000\n",
       "Misandry            0.598214  0.527559  0.560669  127.000000\n",
       "Misogyny            0.705882  0.250000  0.369231   48.000000\n",
       "None-of-the-above   0.706439  0.894484  0.789418  417.000000\n",
       "Transphobic         0.000000  0.000000  0.000000    2.000000\n",
       "Xenophobia          0.000000  0.000000  0.000000   25.000000\n",
       "accuracy            0.668571  0.668571  0.668571    0.668571\n",
       "macro avg           0.421597  0.301195  0.333788  700.000000\n",
       "weighted avg        0.622172  0.668571  0.627337  700.000000"
      ]
     },
     "execution_count": 53,
     "metadata": {},
     "output_type": "execute_result"
    }
   ],
   "source": [
    "pd.DataFrame(report).transpose()"
   ]
  },
  {
   "cell_type": "code",
   "execution_count": 54,
   "id": "8bf798e7",
   "metadata": {
    "execution": {
     "iopub.execute_input": "2022-03-03T19:18:19.969676Z",
     "iopub.status.busy": "2022-03-03T19:18:19.968647Z",
     "iopub.status.idle": "2022-03-03T19:18:19.990685Z",
     "shell.execute_reply": "2022-03-03T19:18:19.990257Z",
     "shell.execute_reply.started": "2022-03-02T16:35:18.762332Z"
    },
    "papermill": {
     "duration": 0.486649,
     "end_time": "2022-03-03T19:18:19.990808",
     "exception": false,
     "start_time": "2022-03-03T19:18:19.504159",
     "status": "completed"
    },
    "tags": []
   },
   "outputs": [],
   "source": [
    "df_result.to_csv('ULMFiT_ACD_TaEn_CD.csv', index=False)"
   ]
  },
  {
   "cell_type": "code",
   "execution_count": 55,
   "id": "b0bbb92a",
   "metadata": {
    "execution": {
     "iopub.execute_input": "2022-03-03T19:18:20.907367Z",
     "iopub.status.busy": "2022-03-03T19:18:20.905688Z",
     "iopub.status.idle": "2022-03-03T19:18:20.912545Z",
     "shell.execute_reply": "2022-03-03T19:18:20.912932Z",
     "shell.execute_reply.started": "2022-03-02T16:35:18.806614Z"
    },
    "papermill": {
     "duration": 0.468931,
     "end_time": "2022-03-03T19:18:20.913103",
     "exception": false,
     "start_time": "2022-03-03T19:18:20.444172",
     "status": "completed"
    },
    "tags": []
   },
   "outputs": [
    {
     "data": {
      "text/html": [
       "<a href='ULMFiT_ACD_TaEn_CD.csv' target='_blank'>ULMFiT_ACD_TaEn_CD.csv</a><br>"
      ],
      "text/plain": [
       "/kaggle/working/ULMFiT_ACD_TaEn_CD.csv"
      ]
     },
     "execution_count": 55,
     "metadata": {},
     "output_type": "execute_result"
    }
   ],
   "source": [
    "import os\n",
    "os.chdir(r'../working')\n",
    "from IPython.display import FileLink\n",
    "FileLink(r'ULMFiT_ACD_TaEn_CD.csv')"
   ]
  }
 ],
 "metadata": {
  "kernelspec": {
   "display_name": "Python 3",
   "language": "python",
   "name": "python3"
  },
  "language_info": {
   "codemirror_mode": {
    "name": "ipython",
    "version": 3
   },
   "file_extension": ".py",
   "mimetype": "text/x-python",
   "name": "python",
   "nbconvert_exporter": "python",
   "pygments_lexer": "ipython3",
   "version": "3.7.12"
  },
  "papermill": {
   "default_parameters": {},
   "duration": 250.206039,
   "end_time": "2022-03-03T19:18:24.632479",
   "environment_variables": {},
   "exception": null,
   "input_path": "__notebook__.ipynb",
   "output_path": "__notebook__.ipynb",
   "parameters": {},
   "start_time": "2022-03-03T19:14:14.426440",
   "version": "2.3.3"
  }
 },
 "nbformat": 4,
 "nbformat_minor": 5
}
