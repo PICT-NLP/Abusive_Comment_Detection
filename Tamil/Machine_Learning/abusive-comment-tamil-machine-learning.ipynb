{
 "cells": [
  {
   "cell_type": "markdown",
   "id": "f0ceee1f",
   "metadata": {
    "execution": {
     "iopub.execute_input": "2022-01-30T07:26:42.684138Z",
     "iopub.status.busy": "2022-01-30T07:26:42.683591Z",
     "iopub.status.idle": "2022-01-30T07:26:44.012599Z",
     "shell.execute_reply": "2022-01-30T07:26:44.011984Z",
     "shell.execute_reply.started": "2022-01-30T07:26:18.25528Z"
    },
    "papermill": {
     "duration": 0.052704,
     "end_time": "2022-03-06T14:48:56.631305",
     "exception": false,
     "start_time": "2022-03-06T14:48:56.578601",
     "status": "completed"
    },
    "tags": []
   },
   "source": [
    "# Importing Libraries"
   ]
  },
  {
   "cell_type": "code",
   "execution_count": 1,
   "id": "b6dd2c86",
   "metadata": {
    "execution": {
     "iopub.execute_input": "2022-03-06T14:48:56.777678Z",
     "iopub.status.busy": "2022-03-06T14:48:56.776610Z",
     "iopub.status.idle": "2022-03-06T14:49:29.704553Z",
     "shell.execute_reply": "2022-03-06T14:49:29.705505Z"
    },
    "papermill": {
     "duration": 33.02535,
     "end_time": "2022-03-06T14:49:29.706064",
     "exception": false,
     "start_time": "2022-03-06T14:48:56.680714",
     "status": "completed"
    },
    "tags": []
   },
   "outputs": [
    {
     "name": "stdout",
     "output_type": "stream",
     "text": [
      "\u001b[33mWARNING: Running pip as the 'root' user can result in broken permissions and conflicting behaviour with the system package manager. It is recommended to use a virtual environment instead: https://pip.pypa.io/warnings/venv\u001b[0m\r\n",
      "\u001b[33mWARNING: Running pip as the 'root' user can result in broken permissions and conflicting behaviour with the system package manager. It is recommended to use a virtual environment instead: https://pip.pypa.io/warnings/venv\u001b[0m\r\n"
     ]
    }
   ],
   "source": [
    "!pip -q install simpletransformers\n",
    "!pip -q install xgboost"
   ]
  },
  {
   "cell_type": "code",
   "execution_count": 2,
   "id": "2ac07921",
   "metadata": {
    "execution": {
     "iopub.execute_input": "2022-03-06T14:49:29.938227Z",
     "iopub.status.busy": "2022-03-06T14:49:29.937196Z",
     "iopub.status.idle": "2022-03-06T14:49:33.961662Z",
     "shell.execute_reply": "2022-03-06T14:49:33.960986Z"
    },
    "papermill": {
     "duration": 4.146791,
     "end_time": "2022-03-06T14:49:33.961824",
     "exception": false,
     "start_time": "2022-03-06T14:49:29.815033",
     "status": "completed"
    },
    "tags": []
   },
   "outputs": [],
   "source": [
    "import pandas as pd\n",
    "import torch\n",
    "from simpletransformers.language_representation import RepresentationModel\n",
    "from sklearn.linear_model import LogisticRegression\n",
    "from sklearn.utils.class_weight import compute_class_weight\n",
    "from sklearn.model_selection import GridSearchCV\n",
    "import numpy as np\n",
    "from sklearn.tree import DecisionTreeClassifier\n",
    "from sklearn.metrics import classification_report\n",
    "from sklearn.metrics import f1_score\n",
    "from sklearn.svm import SVC\n",
    "from sklearn.ensemble import RandomForestClassifier\n",
    "from xgboost import XGBClassifier\n",
    "from sklearn.neural_network import MLPClassifier"
   ]
  },
  {
   "cell_type": "markdown",
   "id": "863008b2",
   "metadata": {
    "papermill": {
     "duration": 0.049009,
     "end_time": "2022-03-06T14:49:34.060215",
     "exception": false,
     "start_time": "2022-03-06T14:49:34.011206",
     "status": "completed"
    },
    "tags": []
   },
   "source": [
    "# Loading the datasets"
   ]
  },
  {
   "cell_type": "code",
   "execution_count": 3,
   "id": "282d8c49",
   "metadata": {
    "execution": {
     "iopub.execute_input": "2022-03-06T14:49:34.165213Z",
     "iopub.status.busy": "2022-03-06T14:49:34.164436Z",
     "iopub.status.idle": "2022-03-06T14:49:34.250773Z",
     "shell.execute_reply": "2022-03-06T14:49:34.251717Z"
    },
    "papermill": {
     "duration": 0.142502,
     "end_time": "2022-03-06T14:49:34.251964",
     "exception": false,
     "start_time": "2022-03-06T14:49:34.109462",
     "status": "completed"
    },
    "tags": []
   },
   "outputs": [],
   "source": [
    "df = pd.read_csv('../input/abusive-comment-detection/Abusive_Comment_Tamil_train.csv',sep='\\t',header=None)\n",
    "df_test = pd.read_csv('../input/abusive-comment-detection/Abusive_Comment_Tamil_test.csv',sep='\\t',header=None)\n",
    "df_eval = pd.read_csv('../input/abusive-comment-detection/Abusive_Comment_Tamil_dev.csv',sep='\\t',header=None)"
   ]
  },
  {
   "cell_type": "code",
   "execution_count": 4,
   "id": "fb5f9304",
   "metadata": {
    "execution": {
     "iopub.execute_input": "2022-03-06T14:49:34.444442Z",
     "iopub.status.busy": "2022-03-06T14:49:34.443651Z",
     "iopub.status.idle": "2022-03-06T14:49:34.456214Z",
     "shell.execute_reply": "2022-03-06T14:49:34.457030Z"
    },
    "papermill": {
     "duration": 0.106405,
     "end_time": "2022-03-06T14:49:34.457281",
     "exception": false,
     "start_time": "2022-03-06T14:49:34.350876",
     "status": "completed"
    },
    "tags": []
   },
   "outputs": [],
   "source": [
    "df.rename(columns={0:'Labels',1:'Text'},inplace=True)\n",
    "df_test.rename(columns={0:'Labels',1:'Text'},inplace=True)\n",
    "df_test = df_test[['Text','Labels']]\n",
    "df_eval.rename(columns={0:'Labels',1:'Text'},inplace=True)\n",
    "df_eval = df_eval[['Text','Labels']]"
   ]
  },
  {
   "cell_type": "code",
   "execution_count": 5,
   "id": "600c111b",
   "metadata": {
    "execution": {
     "iopub.execute_input": "2022-03-06T14:49:34.645736Z",
     "iopub.status.busy": "2022-03-06T14:49:34.644747Z",
     "iopub.status.idle": "2022-03-06T14:49:34.660236Z",
     "shell.execute_reply": "2022-03-06T14:49:34.660936Z"
    },
    "papermill": {
     "duration": 0.1137,
     "end_time": "2022-03-06T14:49:34.661205",
     "exception": false,
     "start_time": "2022-03-06T14:49:34.547505",
     "status": "completed"
    },
    "tags": []
   },
   "outputs": [],
   "source": [
    "num_labels = len(df['Labels'].unique())\n",
    "keys = list(df['Labels'].unique())\n",
    "values = list(range(0, num_labels))\n",
    "label_dict = dict(zip(keys,values))\n",
    "df['Labels'] = df['Labels'].apply(lambda x:label_dict[x])\n",
    "df_test['Labels'] = df_test['Labels'].apply(lambda x:label_dict[x])\n",
    "df_eval['Labels'] = df_eval['Labels'].apply(lambda x:label_dict[x])"
   ]
  },
  {
   "cell_type": "code",
   "execution_count": 6,
   "id": "95eeea7e",
   "metadata": {
    "execution": {
     "iopub.execute_input": "2022-03-06T14:49:34.850488Z",
     "iopub.status.busy": "2022-03-06T14:49:34.849261Z",
     "iopub.status.idle": "2022-03-06T14:49:34.861188Z",
     "shell.execute_reply": "2022-03-06T14:49:34.861678Z"
    },
    "papermill": {
     "duration": 0.106026,
     "end_time": "2022-03-06T14:49:34.861841",
     "exception": false,
     "start_time": "2022-03-06T14:49:34.755815",
     "status": "completed"
    },
    "tags": []
   },
   "outputs": [],
   "source": [
    "df_test = df_test.dropna()\n",
    "df_test = df_test.reset_index().drop(['index'],axis=1)"
   ]
  },
  {
   "cell_type": "markdown",
   "id": "e7b9aa85",
   "metadata": {
    "papermill": {
     "duration": 0.077218,
     "end_time": "2022-03-06T14:49:35.032765",
     "exception": false,
     "start_time": "2022-03-06T14:49:34.955547",
     "status": "completed"
    },
    "tags": []
   },
   "source": [
    "# Getting Sentence Encodings with Context using Bert"
   ]
  },
  {
   "cell_type": "code",
   "execution_count": 7,
   "id": "a1caf77c",
   "metadata": {
    "execution": {
     "iopub.execute_input": "2022-03-06T14:49:35.190755Z",
     "iopub.status.busy": "2022-03-06T14:49:35.188416Z",
     "iopub.status.idle": "2022-03-06T14:50:13.200870Z",
     "shell.execute_reply": "2022-03-06T14:50:13.200291Z"
    },
    "papermill": {
     "duration": 38.09299,
     "end_time": "2022-03-06T14:50:13.201042",
     "exception": false,
     "start_time": "2022-03-06T14:49:35.108052",
     "status": "completed"
    },
    "tags": []
   },
   "outputs": [
    {
     "data": {
      "application/vnd.jupyter.widget-view+json": {
       "model_id": "d3d2bc44e303442badda49ddf0036fea",
       "version_major": 2,
       "version_minor": 0
      },
      "text/plain": [
       "Downloading:   0%|          | 0.00/625 [00:00<?, ?B/s]"
      ]
     },
     "metadata": {},
     "output_type": "display_data"
    },
    {
     "data": {
      "application/vnd.jupyter.widget-view+json": {
       "model_id": "576d94632ff1479d9f7a02833909d190",
       "version_major": 2,
       "version_minor": 0
      },
      "text/plain": [
       "Downloading:   0%|          | 0.00/681M [00:00<?, ?B/s]"
      ]
     },
     "metadata": {},
     "output_type": "display_data"
    },
    {
     "name": "stderr",
     "output_type": "stream",
     "text": [
      "Some weights of the model checkpoint at bert-base-multilingual-cased were not used when initializing BertForTextRepresentation: ['cls.seq_relationship.bias', 'cls.predictions.transform.LayerNorm.weight', 'cls.predictions.transform.dense.weight', 'cls.predictions.decoder.weight', 'cls.predictions.bias', 'cls.seq_relationship.weight', 'cls.predictions.transform.LayerNorm.bias', 'cls.predictions.transform.dense.bias']\n",
      "- This IS expected if you are initializing BertForTextRepresentation from the checkpoint of a model trained on another task or with another architecture (e.g. initializing a BertForSequenceClassification model from a BertForPreTraining model).\n",
      "- This IS NOT expected if you are initializing BertForTextRepresentation from the checkpoint of a model that you expect to be exactly identical (initializing a BertForSequenceClassification model from a BertForSequenceClassification model).\n"
     ]
    },
    {
     "data": {
      "application/vnd.jupyter.widget-view+json": {
       "model_id": "4e69084d6d404838b6c261343454f99e",
       "version_major": 2,
       "version_minor": 0
      },
      "text/plain": [
       "Downloading:   0%|          | 0.00/972k [00:00<?, ?B/s]"
      ]
     },
     "metadata": {},
     "output_type": "display_data"
    },
    {
     "data": {
      "application/vnd.jupyter.widget-view+json": {
       "model_id": "3719e1af3f014f788e08765bcbc3eb56",
       "version_major": 2,
       "version_minor": 0
      },
      "text/plain": [
       "Downloading:   0%|          | 0.00/29.0 [00:00<?, ?B/s]"
      ]
     },
     "metadata": {},
     "output_type": "display_data"
    },
    {
     "data": {
      "application/vnd.jupyter.widget-view+json": {
       "model_id": "4821c1ee1dd14db7bfc71ca9a5303dc1",
       "version_major": 2,
       "version_minor": 0
      },
      "text/plain": [
       "Downloading:   0%|          | 0.00/1.87M [00:00<?, ?B/s]"
      ]
     },
     "metadata": {},
     "output_type": "display_data"
    }
   ],
   "source": [
    "model = RepresentationModel(\n",
    "        model_type=\"bert\",\n",
    "        model_name=\"bert-base-multilingual-cased\",\n",
    "        use_cuda=True\n",
    "    )"
   ]
  },
  {
   "cell_type": "code",
   "execution_count": 8,
   "id": "7dad0024",
   "metadata": {
    "execution": {
     "iopub.execute_input": "2022-03-06T14:50:13.340829Z",
     "iopub.status.busy": "2022-03-06T14:50:13.339992Z",
     "iopub.status.idle": "2022-03-06T14:50:28.111673Z",
     "shell.execute_reply": "2022-03-06T14:50:28.111084Z"
    },
    "papermill": {
     "duration": 14.854407,
     "end_time": "2022-03-06T14:50:28.111832",
     "exception": false,
     "start_time": "2022-03-06T14:50:13.257425",
     "status": "completed"
    },
    "tags": []
   },
   "outputs": [],
   "source": [
    "train_sentence_vectors = model.encode_sentences(df['Text'].to_list(), combine_strategy=\"mean\")"
   ]
  },
  {
   "cell_type": "code",
   "execution_count": 9,
   "id": "f79f0f3e",
   "metadata": {
    "execution": {
     "iopub.execute_input": "2022-03-06T14:50:28.223864Z",
     "iopub.status.busy": "2022-03-06T14:50:28.222741Z",
     "iopub.status.idle": "2022-03-06T14:50:30.761162Z",
     "shell.execute_reply": "2022-03-06T14:50:30.760549Z"
    },
    "papermill": {
     "duration": 2.596357,
     "end_time": "2022-03-06T14:50:30.761321",
     "exception": false,
     "start_time": "2022-03-06T14:50:28.164964",
     "status": "completed"
    },
    "tags": []
   },
   "outputs": [],
   "source": [
    "eval_sentences = df_eval['Text'].to_list()\n",
    "eval_sentence_vectors = model.encode_sentences(eval_sentences, combine_strategy=\"mean\")"
   ]
  },
  {
   "cell_type": "code",
   "execution_count": 10,
   "id": "35fe05e8",
   "metadata": {
    "execution": {
     "iopub.execute_input": "2022-03-06T14:50:30.876811Z",
     "iopub.status.busy": "2022-03-06T14:50:30.875266Z",
     "iopub.status.idle": "2022-03-06T14:50:34.103696Z",
     "shell.execute_reply": "2022-03-06T14:50:34.102709Z"
    },
    "papermill": {
     "duration": 3.286857,
     "end_time": "2022-03-06T14:50:34.103867",
     "exception": false,
     "start_time": "2022-03-06T14:50:30.817010",
     "status": "completed"
    },
    "tags": []
   },
   "outputs": [],
   "source": [
    "test_sentences = df_test['Text'].to_list()\n",
    "test_sentence_vectors = model.encode_sentences(test_sentences, combine_strategy=\"mean\")"
   ]
  },
  {
   "cell_type": "code",
   "execution_count": 11,
   "id": "29c36d91",
   "metadata": {
    "execution": {
     "iopub.execute_input": "2022-03-06T14:50:34.222396Z",
     "iopub.status.busy": "2022-03-06T14:50:34.220787Z",
     "iopub.status.idle": "2022-03-06T14:50:34.224828Z",
     "shell.execute_reply": "2022-03-06T14:50:34.225394Z"
    },
    "papermill": {
     "duration": 0.067229,
     "end_time": "2022-03-06T14:50:34.225533",
     "exception": false,
     "start_time": "2022-03-06T14:50:34.158304",
     "status": "completed"
    },
    "tags": []
   },
   "outputs": [
    {
     "data": {
      "text/plain": [
       "(2240, 768)"
      ]
     },
     "execution_count": 11,
     "metadata": {},
     "output_type": "execute_result"
    }
   ],
   "source": [
    "train_sentence_vectors.shape"
   ]
  },
  {
   "cell_type": "markdown",
   "id": "00e026f5",
   "metadata": {
    "papermill": {
     "duration": 0.052462,
     "end_time": "2022-03-06T14:50:34.331764",
     "exception": false,
     "start_time": "2022-03-06T14:50:34.279302",
     "status": "completed"
    },
    "tags": []
   },
   "source": [
    "# Model Training"
   ]
  },
  {
   "cell_type": "markdown",
   "id": "d47e26de",
   "metadata": {
    "execution": {
     "iopub.execute_input": "2022-01-29T07:39:37.230723Z",
     "iopub.status.busy": "2022-01-29T07:39:37.229738Z",
     "iopub.status.idle": "2022-01-29T07:39:37.236298Z",
     "shell.execute_reply": "2022-01-29T07:39:37.235567Z",
     "shell.execute_reply.started": "2022-01-29T07:39:37.230671Z"
    },
    "papermill": {
     "duration": 0.053944,
     "end_time": "2022-03-06T14:50:34.438241",
     "exception": false,
     "start_time": "2022-03-06T14:50:34.384297",
     "status": "completed"
    },
    "tags": []
   },
   "source": [
    "## Logistic Regression"
   ]
  },
  {
   "cell_type": "code",
   "execution_count": 12,
   "id": "2dd10f0c",
   "metadata": {
    "execution": {
     "iopub.execute_input": "2022-03-06T14:50:34.557673Z",
     "iopub.status.busy": "2022-03-06T14:50:34.556561Z",
     "iopub.status.idle": "2022-03-06T14:50:34.558961Z",
     "shell.execute_reply": "2022-03-06T14:50:34.559611Z"
    },
    "papermill": {
     "duration": 0.065617,
     "end_time": "2022-03-06T14:50:34.559788",
     "exception": false,
     "start_time": "2022-03-06T14:50:34.494171",
     "status": "completed"
    },
    "tags": []
   },
   "outputs": [],
   "source": [
    "import warnings\n",
    "warnings.simplefilter(action='ignore', category=FutureWarning)"
   ]
  },
  {
   "cell_type": "markdown",
   "id": "1dbfe164",
   "metadata": {
    "papermill": {
     "duration": 0.055386,
     "end_time": "2022-03-06T14:50:34.670448",
     "exception": false,
     "start_time": "2022-03-06T14:50:34.615062",
     "status": "completed"
    },
    "tags": []
   },
   "source": [
    "#### Grid Search CV"
   ]
  },
  {
   "cell_type": "code",
   "execution_count": 13,
   "id": "24d70f2c",
   "metadata": {
    "execution": {
     "iopub.execute_input": "2022-03-06T14:50:34.812805Z",
     "iopub.status.busy": "2022-03-06T14:50:34.810477Z",
     "iopub.status.idle": "2022-03-06T14:50:34.813640Z",
     "shell.execute_reply": "2022-03-06T14:50:34.814210Z"
    },
    "papermill": {
     "duration": 0.068905,
     "end_time": "2022-03-06T14:50:34.814370",
     "exception": false,
     "start_time": "2022-03-06T14:50:34.745465",
     "status": "completed"
    },
    "tags": []
   },
   "outputs": [],
   "source": [
    "combined_df = pd.concat([df,df_eval],ignore_index=True)"
   ]
  },
  {
   "cell_type": "code",
   "execution_count": 14,
   "id": "b0058e04",
   "metadata": {
    "execution": {
     "iopub.execute_input": "2022-03-06T14:50:34.931036Z",
     "iopub.status.busy": "2022-03-06T14:50:34.929689Z",
     "iopub.status.idle": "2022-03-06T14:50:34.938096Z",
     "shell.execute_reply": "2022-03-06T14:50:34.937489Z"
    },
    "papermill": {
     "duration": 0.069721,
     "end_time": "2022-03-06T14:50:34.938253",
     "exception": false,
     "start_time": "2022-03-06T14:50:34.868532",
     "status": "completed"
    },
    "tags": []
   },
   "outputs": [
    {
     "data": {
      "text/plain": [
       "(2800, 768)"
      ]
     },
     "execution_count": 14,
     "metadata": {},
     "output_type": "execute_result"
    }
   ],
   "source": [
    "combined_encodings = np.concatenate((train_sentence_vectors, eval_sentence_vectors))\n",
    "combined_encodings.shape"
   ]
  },
  {
   "cell_type": "code",
   "execution_count": 15,
   "id": "bc6c6d93",
   "metadata": {
    "execution": {
     "iopub.execute_input": "2022-03-06T14:50:35.055869Z",
     "iopub.status.busy": "2022-03-06T14:50:35.052969Z",
     "iopub.status.idle": "2022-03-06T14:50:35.059052Z",
     "shell.execute_reply": "2022-03-06T14:50:35.058540Z"
    },
    "papermill": {
     "duration": 0.065318,
     "end_time": "2022-03-06T14:50:35.059228",
     "exception": false,
     "start_time": "2022-03-06T14:50:34.993910",
     "status": "completed"
    },
    "tags": []
   },
   "outputs": [],
   "source": [
    "# warnings.filterwarnings('ignore')\n",
    "# parameters = {\n",
    "#     'penalty' : ['l1','l2'], \n",
    "#     'C'       : np.logspace(-3,3,7),\n",
    "#     'solver'  : ['newton-cg', 'lbfgs', 'liblinear']\n",
    "# }\n",
    "\n",
    "# logreg = LogisticRegression()\n",
    "# clf = GridSearchCV(logreg,                    \n",
    "#                    param_grid = parameters,   \n",
    "#                    scoring='f1_weighted',        \n",
    "#                    cv=10)\n",
    "# clf.fit(combined_encodings,combined_df['Labels'].to_list())\n",
    "# print(\"Tuned Hyperparameters :\", clf.best_params_)\n",
    "# print(\"Weighted f1_score :\",clf.best_score_)"
   ]
  },
  {
   "cell_type": "markdown",
   "id": "68caed2c",
   "metadata": {
    "papermill": {
     "duration": 0.054363,
     "end_time": "2022-03-06T14:50:35.169988",
     "exception": false,
     "start_time": "2022-03-06T14:50:35.115625",
     "status": "completed"
    },
    "tags": []
   },
   "source": [
    "#### Model Training"
   ]
  },
  {
   "cell_type": "code",
   "execution_count": 16,
   "id": "d42ae088",
   "metadata": {
    "execution": {
     "iopub.execute_input": "2022-03-06T14:50:35.286031Z",
     "iopub.status.busy": "2022-03-06T14:50:35.284982Z",
     "iopub.status.idle": "2022-03-06T14:50:38.878050Z",
     "shell.execute_reply": "2022-03-06T14:50:38.878921Z"
    },
    "papermill": {
     "duration": 3.654782,
     "end_time": "2022-03-06T14:50:38.879241",
     "exception": false,
     "start_time": "2022-03-06T14:50:35.224459",
     "status": "completed"
    },
    "tags": []
   },
   "outputs": [
    {
     "data": {
      "text/plain": [
       "LogisticRegression(multi_class='ovr', penalty='l1', solver='liblinear')"
      ]
     },
     "execution_count": 16,
     "metadata": {},
     "output_type": "execute_result"
    }
   ],
   "source": [
    "lm = LogisticRegression(C=1.0,multi_class='ovr', solver='liblinear',penalty='l1')\n",
    "lm.fit(train_sentence_vectors, df['Labels'].to_list())"
   ]
  },
  {
   "cell_type": "code",
   "execution_count": 17,
   "id": "459f4785",
   "metadata": {
    "execution": {
     "iopub.execute_input": "2022-03-06T14:50:39.086992Z",
     "iopub.status.busy": "2022-03-06T14:50:39.086023Z",
     "iopub.status.idle": "2022-03-06T14:50:39.107805Z",
     "shell.execute_reply": "2022-03-06T14:50:39.108848Z"
    },
    "papermill": {
     "duration": 0.125423,
     "end_time": "2022-03-06T14:50:39.109057",
     "exception": false,
     "start_time": "2022-03-06T14:50:38.983634",
     "status": "completed"
    },
    "tags": []
   },
   "outputs": [],
   "source": [
    "log_test_preds = lm.predict(test_sentence_vectors)"
   ]
  },
  {
   "cell_type": "code",
   "execution_count": 18,
   "id": "49f05815",
   "metadata": {
    "execution": {
     "iopub.execute_input": "2022-03-06T14:50:39.390744Z",
     "iopub.status.busy": "2022-03-06T14:50:39.389655Z",
     "iopub.status.idle": "2022-03-06T14:50:39.408501Z",
     "shell.execute_reply": "2022-03-06T14:50:39.409332Z"
    },
    "papermill": {
     "duration": 0.138773,
     "end_time": "2022-03-06T14:50:39.409565",
     "exception": false,
     "start_time": "2022-03-06T14:50:39.270792",
     "status": "completed"
    },
    "tags": []
   },
   "outputs": [
    {
     "name": "stderr",
     "output_type": "stream",
     "text": [
      "/opt/conda/lib/python3.7/site-packages/sklearn/metrics/_classification.py:1221: UndefinedMetricWarning: Precision and F-score are ill-defined and being set to 0.0 in labels with no predicted samples. Use `zero_division` parameter to control this behavior.\n",
      "  _warn_prf(average, modifier, msg_start, len(result))\n"
     ]
    }
   ],
   "source": [
    "report_log = classification_report(df_test['Labels'].to_list(),log_test_preds,output_dict=True)"
   ]
  },
  {
   "cell_type": "code",
   "execution_count": 19,
   "id": "84ef4c50",
   "metadata": {
    "execution": {
     "iopub.execute_input": "2022-03-06T14:50:39.629450Z",
     "iopub.status.busy": "2022-03-06T14:50:39.628372Z",
     "iopub.status.idle": "2022-03-06T14:50:39.651327Z",
     "shell.execute_reply": "2022-03-06T14:50:39.650570Z"
    },
    "papermill": {
     "duration": 0.144351,
     "end_time": "2022-03-06T14:50:39.651519",
     "exception": false,
     "start_time": "2022-03-06T14:50:39.507168",
     "status": "completed"
    },
    "tags": []
   },
   "outputs": [
    {
     "data": {
      "text/html": [
       "<div>\n",
       "<style scoped>\n",
       "    .dataframe tbody tr th:only-of-type {\n",
       "        vertical-align: middle;\n",
       "    }\n",
       "\n",
       "    .dataframe tbody tr th {\n",
       "        vertical-align: top;\n",
       "    }\n",
       "\n",
       "    .dataframe thead th {\n",
       "        text-align: right;\n",
       "    }\n",
       "</style>\n",
       "<table border=\"1\" class=\"dataframe\">\n",
       "  <thead>\n",
       "    <tr style=\"text-align: right;\">\n",
       "      <th></th>\n",
       "      <th>precision</th>\n",
       "      <th>recall</th>\n",
       "      <th>f1-score</th>\n",
       "      <th>support</th>\n",
       "    </tr>\n",
       "  </thead>\n",
       "  <tbody>\n",
       "    <tr>\n",
       "      <th>0</th>\n",
       "      <td>0.272727</td>\n",
       "      <td>0.115385</td>\n",
       "      <td>0.162162</td>\n",
       "      <td>26.000000</td>\n",
       "    </tr>\n",
       "    <tr>\n",
       "      <th>1</th>\n",
       "      <td>0.698000</td>\n",
       "      <td>0.838942</td>\n",
       "      <td>0.762009</td>\n",
       "      <td>416.000000</td>\n",
       "    </tr>\n",
       "    <tr>\n",
       "      <th>2</th>\n",
       "      <td>1.000000</td>\n",
       "      <td>0.125000</td>\n",
       "      <td>0.222222</td>\n",
       "      <td>8.000000</td>\n",
       "    </tr>\n",
       "    <tr>\n",
       "      <th>3</th>\n",
       "      <td>0.569106</td>\n",
       "      <td>0.551181</td>\n",
       "      <td>0.560000</td>\n",
       "      <td>127.000000</td>\n",
       "    </tr>\n",
       "    <tr>\n",
       "      <th>4</th>\n",
       "      <td>0.250000</td>\n",
       "      <td>0.191489</td>\n",
       "      <td>0.216867</td>\n",
       "      <td>47.000000</td>\n",
       "    </tr>\n",
       "    <tr>\n",
       "      <th>5</th>\n",
       "      <td>0.631579</td>\n",
       "      <td>0.250000</td>\n",
       "      <td>0.358209</td>\n",
       "      <td>48.000000</td>\n",
       "    </tr>\n",
       "    <tr>\n",
       "      <th>6</th>\n",
       "      <td>0.000000</td>\n",
       "      <td>0.000000</td>\n",
       "      <td>0.000000</td>\n",
       "      <td>25.000000</td>\n",
       "    </tr>\n",
       "    <tr>\n",
       "      <th>7</th>\n",
       "      <td>0.000000</td>\n",
       "      <td>0.000000</td>\n",
       "      <td>0.000000</td>\n",
       "      <td>2.000000</td>\n",
       "    </tr>\n",
       "    <tr>\n",
       "      <th>accuracy</th>\n",
       "      <td>0.635193</td>\n",
       "      <td>0.635193</td>\n",
       "      <td>0.635193</td>\n",
       "      <td>0.635193</td>\n",
       "    </tr>\n",
       "    <tr>\n",
       "      <th>macro avg</th>\n",
       "      <td>0.427676</td>\n",
       "      <td>0.259000</td>\n",
       "      <td>0.285184</td>\n",
       "      <td>699.000000</td>\n",
       "    </tr>\n",
       "    <tr>\n",
       "      <th>weighted avg</th>\n",
       "      <td>0.600574</td>\n",
       "      <td>0.635193</td>\n",
       "      <td>0.602999</td>\n",
       "      <td>699.000000</td>\n",
       "    </tr>\n",
       "  </tbody>\n",
       "</table>\n",
       "</div>"
      ],
      "text/plain": [
       "              precision    recall  f1-score     support\n",
       "0              0.272727  0.115385  0.162162   26.000000\n",
       "1              0.698000  0.838942  0.762009  416.000000\n",
       "2              1.000000  0.125000  0.222222    8.000000\n",
       "3              0.569106  0.551181  0.560000  127.000000\n",
       "4              0.250000  0.191489  0.216867   47.000000\n",
       "5              0.631579  0.250000  0.358209   48.000000\n",
       "6              0.000000  0.000000  0.000000   25.000000\n",
       "7              0.000000  0.000000  0.000000    2.000000\n",
       "accuracy       0.635193  0.635193  0.635193    0.635193\n",
       "macro avg      0.427676  0.259000  0.285184  699.000000\n",
       "weighted avg   0.600574  0.635193  0.602999  699.000000"
      ]
     },
     "execution_count": 19,
     "metadata": {},
     "output_type": "execute_result"
    }
   ],
   "source": [
    "df_log = pd.DataFrame(report_log).transpose()\n",
    "df_log"
   ]
  },
  {
   "cell_type": "markdown",
   "id": "7fd4b5a6",
   "metadata": {
    "papermill": {
     "duration": 0.092483,
     "end_time": "2022-03-06T14:50:39.834215",
     "exception": false,
     "start_time": "2022-03-06T14:50:39.741732",
     "status": "completed"
    },
    "tags": []
   },
   "source": [
    "## Decision Trees"
   ]
  },
  {
   "cell_type": "markdown",
   "id": "5e3934c8",
   "metadata": {
    "papermill": {
     "duration": 0.095552,
     "end_time": "2022-03-06T14:50:40.023916",
     "exception": false,
     "start_time": "2022-03-06T14:50:39.928364",
     "status": "completed"
    },
    "tags": []
   },
   "source": [
    "#### Grid Search CV"
   ]
  },
  {
   "cell_type": "code",
   "execution_count": 20,
   "id": "2fd0ec80",
   "metadata": {
    "execution": {
     "iopub.execute_input": "2022-03-06T14:50:40.223302Z",
     "iopub.status.busy": "2022-03-06T14:50:40.220741Z",
     "iopub.status.idle": "2022-03-06T14:50:40.226376Z",
     "shell.execute_reply": "2022-03-06T14:50:40.224364Z"
    },
    "papermill": {
     "duration": 0.105706,
     "end_time": "2022-03-06T14:50:40.226552",
     "exception": false,
     "start_time": "2022-03-06T14:50:40.120846",
     "status": "completed"
    },
    "tags": []
   },
   "outputs": [],
   "source": [
    "# warnings.filterwarnings('ignore')\n",
    "# params = {'max_leaf_nodes': list(range(2, 100)), 'min_samples_split': [2, 3, 4]}\n",
    "# grid_search_cv = GridSearchCV(DecisionTreeClassifier(random_state=42), params, scoring='f1_weighted',verbose=1, cv=5)\n",
    "# grid_search_cv.fit(combined_encodings,combined_df['Labels'].to_list())\n",
    "# print(\"Tuned Hyperparameters :\", grid_search_cv.best_params_)\n",
    "# print(\"Weighted f1_score :\",grid_search_cv.best_score_)"
   ]
  },
  {
   "cell_type": "markdown",
   "id": "91046187",
   "metadata": {
    "papermill": {
     "duration": 0.053338,
     "end_time": "2022-03-06T14:50:40.350748",
     "exception": false,
     "start_time": "2022-03-06T14:50:40.297410",
     "status": "completed"
    },
    "tags": []
   },
   "source": [
    "Tuned Hyperparameters : {'max_leaf_nodes': 42, 'min_samples_split': 2}\n",
    "Weighted f1_score : 0.5224775860387323"
   ]
  },
  {
   "cell_type": "markdown",
   "id": "bc6df118",
   "metadata": {
    "papermill": {
     "duration": 0.058185,
     "end_time": "2022-03-06T14:50:40.466952",
     "exception": false,
     "start_time": "2022-03-06T14:50:40.408767",
     "status": "completed"
    },
    "tags": []
   },
   "source": [
    "#### Model Training"
   ]
  },
  {
   "cell_type": "code",
   "execution_count": 21,
   "id": "ee967f2f",
   "metadata": {
    "execution": {
     "iopub.execute_input": "2022-03-06T14:50:40.590784Z",
     "iopub.status.busy": "2022-03-06T14:50:40.589707Z",
     "iopub.status.idle": "2022-03-06T14:50:41.697412Z",
     "shell.execute_reply": "2022-03-06T14:50:41.696778Z"
    },
    "papermill": {
     "duration": 1.173304,
     "end_time": "2022-03-06T14:50:41.697552",
     "exception": false,
     "start_time": "2022-03-06T14:50:40.524248",
     "status": "completed"
    },
    "tags": []
   },
   "outputs": [],
   "source": [
    "dtree_model = DecisionTreeClassifier(max_leaf_nodes=42,min_samples_split=2).fit(train_sentence_vectors, df['Labels'].to_list())"
   ]
  },
  {
   "cell_type": "code",
   "execution_count": 22,
   "id": "ee74f6e2",
   "metadata": {
    "execution": {
     "iopub.execute_input": "2022-03-06T14:50:41.817920Z",
     "iopub.status.busy": "2022-03-06T14:50:41.816885Z",
     "iopub.status.idle": "2022-03-06T14:50:41.840974Z",
     "shell.execute_reply": "2022-03-06T14:50:41.841617Z"
    },
    "papermill": {
     "duration": 0.087061,
     "end_time": "2022-03-06T14:50:41.841776",
     "exception": false,
     "start_time": "2022-03-06T14:50:41.754715",
     "status": "completed"
    },
    "tags": []
   },
   "outputs": [
    {
     "name": "stderr",
     "output_type": "stream",
     "text": [
      "/opt/conda/lib/python3.7/site-packages/sklearn/metrics/_classification.py:1221: UndefinedMetricWarning: Precision and F-score are ill-defined and being set to 0.0 in labels with no predicted samples. Use `zero_division` parameter to control this behavior.\n",
      "  _warn_prf(average, modifier, msg_start, len(result))\n"
     ]
    },
    {
     "data": {
      "text/html": [
       "<div>\n",
       "<style scoped>\n",
       "    .dataframe tbody tr th:only-of-type {\n",
       "        vertical-align: middle;\n",
       "    }\n",
       "\n",
       "    .dataframe tbody tr th {\n",
       "        vertical-align: top;\n",
       "    }\n",
       "\n",
       "    .dataframe thead th {\n",
       "        text-align: right;\n",
       "    }\n",
       "</style>\n",
       "<table border=\"1\" class=\"dataframe\">\n",
       "  <thead>\n",
       "    <tr style=\"text-align: right;\">\n",
       "      <th></th>\n",
       "      <th>precision</th>\n",
       "      <th>recall</th>\n",
       "      <th>f1-score</th>\n",
       "      <th>support</th>\n",
       "    </tr>\n",
       "  </thead>\n",
       "  <tbody>\n",
       "    <tr>\n",
       "      <th>0</th>\n",
       "      <td>0.000000</td>\n",
       "      <td>0.000000</td>\n",
       "      <td>0.000000</td>\n",
       "      <td>26.000000</td>\n",
       "    </tr>\n",
       "    <tr>\n",
       "      <th>1</th>\n",
       "      <td>0.624549</td>\n",
       "      <td>0.831731</td>\n",
       "      <td>0.713402</td>\n",
       "      <td>416.000000</td>\n",
       "    </tr>\n",
       "    <tr>\n",
       "      <th>2</th>\n",
       "      <td>0.200000</td>\n",
       "      <td>0.125000</td>\n",
       "      <td>0.153846</td>\n",
       "      <td>8.000000</td>\n",
       "    </tr>\n",
       "    <tr>\n",
       "      <th>3</th>\n",
       "      <td>0.371901</td>\n",
       "      <td>0.354331</td>\n",
       "      <td>0.362903</td>\n",
       "      <td>127.000000</td>\n",
       "    </tr>\n",
       "    <tr>\n",
       "      <th>4</th>\n",
       "      <td>0.266667</td>\n",
       "      <td>0.085106</td>\n",
       "      <td>0.129032</td>\n",
       "      <td>47.000000</td>\n",
       "    </tr>\n",
       "    <tr>\n",
       "      <th>5</th>\n",
       "      <td>0.000000</td>\n",
       "      <td>0.000000</td>\n",
       "      <td>0.000000</td>\n",
       "      <td>48.000000</td>\n",
       "    </tr>\n",
       "    <tr>\n",
       "      <th>6</th>\n",
       "      <td>0.000000</td>\n",
       "      <td>0.000000</td>\n",
       "      <td>0.000000</td>\n",
       "      <td>25.000000</td>\n",
       "    </tr>\n",
       "    <tr>\n",
       "      <th>7</th>\n",
       "      <td>0.000000</td>\n",
       "      <td>0.000000</td>\n",
       "      <td>0.000000</td>\n",
       "      <td>2.000000</td>\n",
       "    </tr>\n",
       "    <tr>\n",
       "      <th>accuracy</th>\n",
       "      <td>0.566524</td>\n",
       "      <td>0.566524</td>\n",
       "      <td>0.566524</td>\n",
       "      <td>0.566524</td>\n",
       "    </tr>\n",
       "    <tr>\n",
       "      <th>macro avg</th>\n",
       "      <td>0.182890</td>\n",
       "      <td>0.174521</td>\n",
       "      <td>0.169898</td>\n",
       "      <td>699.000000</td>\n",
       "    </tr>\n",
       "    <tr>\n",
       "      <th>weighted avg</th>\n",
       "      <td>0.459481</td>\n",
       "      <td>0.566524</td>\n",
       "      <td>0.500943</td>\n",
       "      <td>699.000000</td>\n",
       "    </tr>\n",
       "  </tbody>\n",
       "</table>\n",
       "</div>"
      ],
      "text/plain": [
       "              precision    recall  f1-score     support\n",
       "0              0.000000  0.000000  0.000000   26.000000\n",
       "1              0.624549  0.831731  0.713402  416.000000\n",
       "2              0.200000  0.125000  0.153846    8.000000\n",
       "3              0.371901  0.354331  0.362903  127.000000\n",
       "4              0.266667  0.085106  0.129032   47.000000\n",
       "5              0.000000  0.000000  0.000000   48.000000\n",
       "6              0.000000  0.000000  0.000000   25.000000\n",
       "7              0.000000  0.000000  0.000000    2.000000\n",
       "accuracy       0.566524  0.566524  0.566524    0.566524\n",
       "macro avg      0.182890  0.174521  0.169898  699.000000\n",
       "weighted avg   0.459481  0.566524  0.500943  699.000000"
      ]
     },
     "execution_count": 22,
     "metadata": {},
     "output_type": "execute_result"
    }
   ],
   "source": [
    "tree_preds = dtree_model.predict(test_sentence_vectors)\n",
    "report = classification_report(df_test['Labels'].to_list(),tree_preds,output_dict=True)\n",
    "final_report = pd.DataFrame(report).transpose()\n",
    "final_report"
   ]
  },
  {
   "cell_type": "markdown",
   "id": "f1b93978",
   "metadata": {
    "papermill": {
     "duration": 0.058597,
     "end_time": "2022-03-06T14:50:41.958662",
     "exception": false,
     "start_time": "2022-03-06T14:50:41.900065",
     "status": "completed"
    },
    "tags": []
   },
   "source": [
    "## SVC"
   ]
  },
  {
   "cell_type": "markdown",
   "id": "8208a79d",
   "metadata": {
    "papermill": {
     "duration": 0.060452,
     "end_time": "2022-03-06T14:50:42.078683",
     "exception": false,
     "start_time": "2022-03-06T14:50:42.018231",
     "status": "completed"
    },
    "tags": []
   },
   "source": [
    "#### Grid Search CV"
   ]
  },
  {
   "cell_type": "code",
   "execution_count": 23,
   "id": "f9dcfb2d",
   "metadata": {
    "execution": {
     "iopub.execute_input": "2022-03-06T14:50:42.204924Z",
     "iopub.status.busy": "2022-03-06T14:50:42.203729Z",
     "iopub.status.idle": "2022-03-06T14:50:42.206991Z",
     "shell.execute_reply": "2022-03-06T14:50:42.206398Z"
    },
    "papermill": {
     "duration": 0.068399,
     "end_time": "2022-03-06T14:50:42.207179",
     "exception": false,
     "start_time": "2022-03-06T14:50:42.138780",
     "status": "completed"
    },
    "tags": []
   },
   "outputs": [],
   "source": [
    "# param_grid = {'C': [0.1, 1, 10, 100, 1000],\n",
    "#               'gamma': [1, 0.1, 0.01, 0.001, 0.0001],\n",
    "#               'kernel': ['rbf','linear','poly','sigmoid']}\n",
    "# grid = GridSearchCV(SVC(), param_grid, scoring='f1_weighted',cv=5)\n",
    "# grid.fit(combined_encodings,combined_df['Labels'].to_list())\n",
    "# print(\"Tuned Hyperparameters :\", grid.best_params_)\n",
    "# print(\"Weighted f1_score :\",grid.best_score_)"
   ]
  },
  {
   "cell_type": "markdown",
   "id": "003ef0c2",
   "metadata": {
    "papermill": {
     "duration": 0.059557,
     "end_time": "2022-03-06T14:50:42.327765",
     "exception": false,
     "start_time": "2022-03-06T14:50:42.268208",
     "status": "completed"
    },
    "tags": []
   },
   "source": [
    "Tuned Hyperparameters : {'C': 10, 'gamma': 0.01, 'kernel': 'rbf'}\n",
    "Weighted f1_score : 0.615556790854965"
   ]
  },
  {
   "cell_type": "markdown",
   "id": "17c95dc0",
   "metadata": {
    "papermill": {
     "duration": 0.05913,
     "end_time": "2022-03-06T14:50:42.446648",
     "exception": false,
     "start_time": "2022-03-06T14:50:42.387518",
     "status": "completed"
    },
    "tags": []
   },
   "source": [
    "#### Model Training"
   ]
  },
  {
   "cell_type": "code",
   "execution_count": 24,
   "id": "fe0afb59",
   "metadata": {
    "execution": {
     "iopub.execute_input": "2022-03-06T14:50:42.574874Z",
     "iopub.status.busy": "2022-03-06T14:50:42.573472Z",
     "iopub.status.idle": "2022-03-06T14:50:47.462985Z",
     "shell.execute_reply": "2022-03-06T14:50:47.462424Z"
    },
    "papermill": {
     "duration": 4.957334,
     "end_time": "2022-03-06T14:50:47.463194",
     "exception": false,
     "start_time": "2022-03-06T14:50:42.505860",
     "status": "completed"
    },
    "tags": []
   },
   "outputs": [],
   "source": [
    "svm = SVC(C=10,gamma=0.01,kernel='rbf').fit(train_sentence_vectors,df['Labels'].to_list())"
   ]
  },
  {
   "cell_type": "code",
   "execution_count": 25,
   "id": "0c5ecdf7",
   "metadata": {
    "execution": {
     "iopub.execute_input": "2022-03-06T14:50:47.588516Z",
     "iopub.status.busy": "2022-03-06T14:50:47.587490Z",
     "iopub.status.idle": "2022-03-06T14:50:48.700189Z",
     "shell.execute_reply": "2022-03-06T14:50:48.699534Z"
    },
    "papermill": {
     "duration": 1.178052,
     "end_time": "2022-03-06T14:50:48.700338",
     "exception": false,
     "start_time": "2022-03-06T14:50:47.522286",
     "status": "completed"
    },
    "tags": []
   },
   "outputs": [
    {
     "name": "stderr",
     "output_type": "stream",
     "text": [
      "/opt/conda/lib/python3.7/site-packages/sklearn/metrics/_classification.py:1221: UndefinedMetricWarning: Precision and F-score are ill-defined and being set to 0.0 in labels with no predicted samples. Use `zero_division` parameter to control this behavior.\n",
      "  _warn_prf(average, modifier, msg_start, len(result))\n"
     ]
    },
    {
     "data": {
      "text/html": [
       "<div>\n",
       "<style scoped>\n",
       "    .dataframe tbody tr th:only-of-type {\n",
       "        vertical-align: middle;\n",
       "    }\n",
       "\n",
       "    .dataframe tbody tr th {\n",
       "        vertical-align: top;\n",
       "    }\n",
       "\n",
       "    .dataframe thead th {\n",
       "        text-align: right;\n",
       "    }\n",
       "</style>\n",
       "<table border=\"1\" class=\"dataframe\">\n",
       "  <thead>\n",
       "    <tr style=\"text-align: right;\">\n",
       "      <th></th>\n",
       "      <th>precision</th>\n",
       "      <th>recall</th>\n",
       "      <th>f1-score</th>\n",
       "      <th>support</th>\n",
       "    </tr>\n",
       "  </thead>\n",
       "  <tbody>\n",
       "    <tr>\n",
       "      <th>0</th>\n",
       "      <td>0.214286</td>\n",
       "      <td>0.115385</td>\n",
       "      <td>0.150000</td>\n",
       "      <td>26.000000</td>\n",
       "    </tr>\n",
       "    <tr>\n",
       "      <th>1</th>\n",
       "      <td>0.696078</td>\n",
       "      <td>0.853365</td>\n",
       "      <td>0.766739</td>\n",
       "      <td>416.000000</td>\n",
       "    </tr>\n",
       "    <tr>\n",
       "      <th>2</th>\n",
       "      <td>0.600000</td>\n",
       "      <td>0.375000</td>\n",
       "      <td>0.461538</td>\n",
       "      <td>8.000000</td>\n",
       "    </tr>\n",
       "    <tr>\n",
       "      <th>3</th>\n",
       "      <td>0.564356</td>\n",
       "      <td>0.448819</td>\n",
       "      <td>0.500000</td>\n",
       "      <td>127.000000</td>\n",
       "    </tr>\n",
       "    <tr>\n",
       "      <th>4</th>\n",
       "      <td>0.305556</td>\n",
       "      <td>0.234043</td>\n",
       "      <td>0.265060</td>\n",
       "      <td>47.000000</td>\n",
       "    </tr>\n",
       "    <tr>\n",
       "      <th>5</th>\n",
       "      <td>0.600000</td>\n",
       "      <td>0.312500</td>\n",
       "      <td>0.410959</td>\n",
       "      <td>48.000000</td>\n",
       "    </tr>\n",
       "    <tr>\n",
       "      <th>6</th>\n",
       "      <td>0.250000</td>\n",
       "      <td>0.080000</td>\n",
       "      <td>0.121212</td>\n",
       "      <td>25.000000</td>\n",
       "    </tr>\n",
       "    <tr>\n",
       "      <th>7</th>\n",
       "      <td>0.000000</td>\n",
       "      <td>0.000000</td>\n",
       "      <td>0.000000</td>\n",
       "      <td>2.000000</td>\n",
       "    </tr>\n",
       "    <tr>\n",
       "      <th>accuracy</th>\n",
       "      <td>0.638054</td>\n",
       "      <td>0.638054</td>\n",
       "      <td>0.638054</td>\n",
       "      <td>0.638054</td>\n",
       "    </tr>\n",
       "    <tr>\n",
       "      <th>macro avg</th>\n",
       "      <td>0.403785</td>\n",
       "      <td>0.302389</td>\n",
       "      <td>0.334439</td>\n",
       "      <td>699.000000</td>\n",
       "    </tr>\n",
       "    <tr>\n",
       "      <th>weighted avg</th>\n",
       "      <td>0.602324</td>\n",
       "      <td>0.638054</td>\n",
       "      <td>0.608397</td>\n",
       "      <td>699.000000</td>\n",
       "    </tr>\n",
       "  </tbody>\n",
       "</table>\n",
       "</div>"
      ],
      "text/plain": [
       "              precision    recall  f1-score     support\n",
       "0              0.214286  0.115385  0.150000   26.000000\n",
       "1              0.696078  0.853365  0.766739  416.000000\n",
       "2              0.600000  0.375000  0.461538    8.000000\n",
       "3              0.564356  0.448819  0.500000  127.000000\n",
       "4              0.305556  0.234043  0.265060   47.000000\n",
       "5              0.600000  0.312500  0.410959   48.000000\n",
       "6              0.250000  0.080000  0.121212   25.000000\n",
       "7              0.000000  0.000000  0.000000    2.000000\n",
       "accuracy       0.638054  0.638054  0.638054    0.638054\n",
       "macro avg      0.403785  0.302389  0.334439  699.000000\n",
       "weighted avg   0.602324  0.638054  0.608397  699.000000"
      ]
     },
     "execution_count": 25,
     "metadata": {},
     "output_type": "execute_result"
    }
   ],
   "source": [
    "svm_preds = svm.predict(test_sentence_vectors)\n",
    "svm_report = classification_report(df_test['Labels'].to_list(),svm_preds,output_dict=True)\n",
    "svm_report = pd.DataFrame(svm_report).transpose()\n",
    "svm_report"
   ]
  },
  {
   "cell_type": "markdown",
   "id": "9ff5ae17",
   "metadata": {
    "papermill": {
     "duration": 0.05879,
     "end_time": "2022-03-06T14:50:48.819988",
     "exception": false,
     "start_time": "2022-03-06T14:50:48.761198",
     "status": "completed"
    },
    "tags": []
   },
   "source": [
    "## Random Forest"
   ]
  },
  {
   "cell_type": "markdown",
   "id": "891c1d27",
   "metadata": {
    "papermill": {
     "duration": 0.059309,
     "end_time": "2022-03-06T14:50:48.939827",
     "exception": false,
     "start_time": "2022-03-06T14:50:48.880518",
     "status": "completed"
    },
    "tags": []
   },
   "source": [
    "####  Grid Search CV"
   ]
  },
  {
   "cell_type": "code",
   "execution_count": 26,
   "id": "b9b82e2b",
   "metadata": {
    "execution": {
     "iopub.execute_input": "2022-03-06T14:50:49.068481Z",
     "iopub.status.busy": "2022-03-06T14:50:49.067430Z",
     "iopub.status.idle": "2022-03-06T14:50:49.070074Z",
     "shell.execute_reply": "2022-03-06T14:50:49.070571Z"
    },
    "papermill": {
     "duration": 0.068453,
     "end_time": "2022-03-06T14:50:49.070752",
     "exception": false,
     "start_time": "2022-03-06T14:50:49.002299",
     "status": "completed"
    },
    "tags": []
   },
   "outputs": [],
   "source": [
    "# # Number of trees in random forest\n",
    "# n_estimators = [10,100,200,500,1000]\n",
    "# # Number of features to consider at every split\n",
    "# max_features = ['auto', 'sqrt']\n",
    "# bootstrap = [True, False]\n",
    "\n",
    "# param_grid = {'n_estimators': n_estimators,\n",
    "#                'max_features': max_features,\n",
    "#                'bootstrap': bootstrap}\n",
    "# grid = GridSearchCV(RandomForestClassifier(), param_grid, scoring='f1_weighted',cv=2)\n",
    "# grid.fit(combined_encodings,combined_df['Labels'].to_list())\n",
    "# print(\"Tuned Hyperparameters :\", grid.best_params_)\n",
    "# print(\"Weighted f1_score :\",grid.best_score_)"
   ]
  },
  {
   "cell_type": "markdown",
   "id": "91eb837b",
   "metadata": {
    "papermill": {
     "duration": 0.059699,
     "end_time": "2022-03-06T14:50:49.189022",
     "exception": false,
     "start_time": "2022-03-06T14:50:49.129323",
     "status": "completed"
    },
    "tags": []
   },
   "source": [
    "Tuned Hyperparameters obtained from GridSearchCV: {'bootstrap': False, 'max_features': 'sqrt', 'n_estimators': 100}"
   ]
  },
  {
   "cell_type": "markdown",
   "id": "c6beb1ec",
   "metadata": {
    "papermill": {
     "duration": 0.058081,
     "end_time": "2022-03-06T14:50:49.305416",
     "exception": false,
     "start_time": "2022-03-06T14:50:49.247335",
     "status": "completed"
    },
    "tags": []
   },
   "source": [
    "#### Model Training"
   ]
  },
  {
   "cell_type": "code",
   "execution_count": 27,
   "id": "dd134c7d",
   "metadata": {
    "execution": {
     "iopub.execute_input": "2022-03-06T14:50:49.429986Z",
     "iopub.status.busy": "2022-03-06T14:50:49.428977Z",
     "iopub.status.idle": "2022-03-06T14:50:56.570056Z",
     "shell.execute_reply": "2022-03-06T14:50:56.569144Z"
    },
    "papermill": {
     "duration": 7.20635,
     "end_time": "2022-03-06T14:50:56.570242",
     "exception": false,
     "start_time": "2022-03-06T14:50:49.363892",
     "status": "completed"
    },
    "tags": []
   },
   "outputs": [],
   "source": [
    "rf_params = {'bootstrap': False, 'max_features': 'sqrt', 'n_estimators': 100}\n",
    "random_clf = RandomForestClassifier(n_estimators=rf_params['n_estimators'],max_features=rf_params['max_features'],bootstrap=rf_params['bootstrap']).fit(train_sentence_vectors, df['Labels'].to_list())"
   ]
  },
  {
   "cell_type": "code",
   "execution_count": 28,
   "id": "a128be06",
   "metadata": {
    "execution": {
     "iopub.execute_input": "2022-03-06T14:50:56.704207Z",
     "iopub.status.busy": "2022-03-06T14:50:56.703086Z",
     "iopub.status.idle": "2022-03-06T14:50:56.760841Z",
     "shell.execute_reply": "2022-03-06T14:50:56.759967Z"
    },
    "papermill": {
     "duration": 0.127262,
     "end_time": "2022-03-06T14:50:56.761048",
     "exception": false,
     "start_time": "2022-03-06T14:50:56.633786",
     "status": "completed"
    },
    "tags": []
   },
   "outputs": [
    {
     "name": "stderr",
     "output_type": "stream",
     "text": [
      "/opt/conda/lib/python3.7/site-packages/sklearn/metrics/_classification.py:1221: UndefinedMetricWarning: Precision and F-score are ill-defined and being set to 0.0 in labels with no predicted samples. Use `zero_division` parameter to control this behavior.\n",
      "  _warn_prf(average, modifier, msg_start, len(result))\n"
     ]
    },
    {
     "data": {
      "text/html": [
       "<div>\n",
       "<style scoped>\n",
       "    .dataframe tbody tr th:only-of-type {\n",
       "        vertical-align: middle;\n",
       "    }\n",
       "\n",
       "    .dataframe tbody tr th {\n",
       "        vertical-align: top;\n",
       "    }\n",
       "\n",
       "    .dataframe thead th {\n",
       "        text-align: right;\n",
       "    }\n",
       "</style>\n",
       "<table border=\"1\" class=\"dataframe\">\n",
       "  <thead>\n",
       "    <tr style=\"text-align: right;\">\n",
       "      <th></th>\n",
       "      <th>precision</th>\n",
       "      <th>recall</th>\n",
       "      <th>f1-score</th>\n",
       "      <th>support</th>\n",
       "    </tr>\n",
       "  </thead>\n",
       "  <tbody>\n",
       "    <tr>\n",
       "      <th>0</th>\n",
       "      <td>0.000000</td>\n",
       "      <td>0.000000</td>\n",
       "      <td>0.000000</td>\n",
       "      <td>26.000000</td>\n",
       "    </tr>\n",
       "    <tr>\n",
       "      <th>1</th>\n",
       "      <td>0.646965</td>\n",
       "      <td>0.973558</td>\n",
       "      <td>0.777351</td>\n",
       "      <td>416.000000</td>\n",
       "    </tr>\n",
       "    <tr>\n",
       "      <th>2</th>\n",
       "      <td>0.000000</td>\n",
       "      <td>0.000000</td>\n",
       "      <td>0.000000</td>\n",
       "      <td>8.000000</td>\n",
       "    </tr>\n",
       "    <tr>\n",
       "      <th>3</th>\n",
       "      <td>0.571429</td>\n",
       "      <td>0.283465</td>\n",
       "      <td>0.378947</td>\n",
       "      <td>127.000000</td>\n",
       "    </tr>\n",
       "    <tr>\n",
       "      <th>4</th>\n",
       "      <td>0.375000</td>\n",
       "      <td>0.063830</td>\n",
       "      <td>0.109091</td>\n",
       "      <td>47.000000</td>\n",
       "    </tr>\n",
       "    <tr>\n",
       "      <th>5</th>\n",
       "      <td>1.000000</td>\n",
       "      <td>0.041667</td>\n",
       "      <td>0.080000</td>\n",
       "      <td>48.000000</td>\n",
       "    </tr>\n",
       "    <tr>\n",
       "      <th>6</th>\n",
       "      <td>0.000000</td>\n",
       "      <td>0.000000</td>\n",
       "      <td>0.000000</td>\n",
       "      <td>25.000000</td>\n",
       "    </tr>\n",
       "    <tr>\n",
       "      <th>7</th>\n",
       "      <td>0.000000</td>\n",
       "      <td>0.000000</td>\n",
       "      <td>0.000000</td>\n",
       "      <td>2.000000</td>\n",
       "    </tr>\n",
       "    <tr>\n",
       "      <th>accuracy</th>\n",
       "      <td>0.638054</td>\n",
       "      <td>0.638054</td>\n",
       "      <td>0.638054</td>\n",
       "      <td>0.638054</td>\n",
       "    </tr>\n",
       "    <tr>\n",
       "      <th>macro avg</th>\n",
       "      <td>0.324174</td>\n",
       "      <td>0.170315</td>\n",
       "      <td>0.168174</td>\n",
       "      <td>699.000000</td>\n",
       "    </tr>\n",
       "    <tr>\n",
       "      <th>weighted avg</th>\n",
       "      <td>0.582738</td>\n",
       "      <td>0.638054</td>\n",
       "      <td>0.544309</td>\n",
       "      <td>699.000000</td>\n",
       "    </tr>\n",
       "  </tbody>\n",
       "</table>\n",
       "</div>"
      ],
      "text/plain": [
       "              precision    recall  f1-score     support\n",
       "0              0.000000  0.000000  0.000000   26.000000\n",
       "1              0.646965  0.973558  0.777351  416.000000\n",
       "2              0.000000  0.000000  0.000000    8.000000\n",
       "3              0.571429  0.283465  0.378947  127.000000\n",
       "4              0.375000  0.063830  0.109091   47.000000\n",
       "5              1.000000  0.041667  0.080000   48.000000\n",
       "6              0.000000  0.000000  0.000000   25.000000\n",
       "7              0.000000  0.000000  0.000000    2.000000\n",
       "accuracy       0.638054  0.638054  0.638054    0.638054\n",
       "macro avg      0.324174  0.170315  0.168174  699.000000\n",
       "weighted avg   0.582738  0.638054  0.544309  699.000000"
      ]
     },
     "execution_count": 28,
     "metadata": {},
     "output_type": "execute_result"
    }
   ],
   "source": [
    "random_pred = random_clf.predict(test_sentence_vectors)\n",
    "report_random = classification_report(df_test['Labels'].to_list(),random_pred,output_dict=True)\n",
    "df_random = pd.DataFrame(report_random).transpose()\n",
    "df_random"
   ]
  },
  {
   "cell_type": "markdown",
   "id": "3b8a213f",
   "metadata": {
    "papermill": {
     "duration": 0.063692,
     "end_time": "2022-03-06T14:50:56.888489",
     "exception": false,
     "start_time": "2022-03-06T14:50:56.824797",
     "status": "completed"
    },
    "tags": []
   },
   "source": [
    "## XG Boost\n"
   ]
  },
  {
   "cell_type": "markdown",
   "id": "849f165b",
   "metadata": {
    "papermill": {
     "duration": 0.062234,
     "end_time": "2022-03-06T14:50:57.014137",
     "exception": false,
     "start_time": "2022-03-06T14:50:56.951903",
     "status": "completed"
    },
    "tags": []
   },
   "source": [
    "#### Grid SearchCV"
   ]
  },
  {
   "cell_type": "code",
   "execution_count": 29,
   "id": "96ec9427",
   "metadata": {
    "execution": {
     "iopub.execute_input": "2022-03-06T14:50:57.147535Z",
     "iopub.status.busy": "2022-03-06T14:50:57.146436Z",
     "iopub.status.idle": "2022-03-06T14:50:57.149785Z",
     "shell.execute_reply": "2022-03-06T14:50:57.149233Z"
    },
    "papermill": {
     "duration": 0.071978,
     "end_time": "2022-03-06T14:50:57.149922",
     "exception": false,
     "start_time": "2022-03-06T14:50:57.077944",
     "status": "completed"
    },
    "tags": []
   },
   "outputs": [],
   "source": [
    "# xg_grid_params = {\n",
    "#     'gamma': range(0,100,20),\n",
    "#     'max_depth': [1,5,10],\n",
    "#     'lambda':[0.01,0.1,1,10,100],\n",
    "#     'alpha':[0.001,0.01,0.1,1,10],\n",
    "#     'learning_rate':[0.01,0.1,1,10]\n",
    "# }\n",
    "# warnings.filterwarnings('ignore')\n",
    "# grid_xg = grid = GridSearchCV(XGBClassifier(), xg_grid_params, scoring='f1_weighted')\n",
    "# grid_xg.fit(combined_encodings,combined_df['Labels'].to_list())\n",
    "# print(\"Tuned Hyperparameters :\", grid_xg.best_params_)\n",
    "# print(\"Weighted f1_score :\",grid_xg.best_score_)"
   ]
  },
  {
   "cell_type": "markdown",
   "id": "e113af2a",
   "metadata": {
    "papermill": {
     "duration": 0.065527,
     "end_time": "2022-03-06T14:50:57.278331",
     "exception": false,
     "start_time": "2022-03-06T14:50:57.212804",
     "status": "completed"
    },
    "tags": []
   },
   "source": [
    "#### Model Training"
   ]
  },
  {
   "cell_type": "code",
   "execution_count": 30,
   "id": "e6ea7e23",
   "metadata": {
    "execution": {
     "iopub.execute_input": "2022-03-06T14:50:57.412998Z",
     "iopub.status.busy": "2022-03-06T14:50:57.412169Z",
     "iopub.status.idle": "2022-03-06T14:53:19.042753Z",
     "shell.execute_reply": "2022-03-06T14:53:19.041821Z"
    },
    "papermill": {
     "duration": 141.700605,
     "end_time": "2022-03-06T14:53:19.042912",
     "exception": false,
     "start_time": "2022-03-06T14:50:57.342307",
     "status": "completed"
    },
    "tags": []
   },
   "outputs": [
    {
     "name": "stderr",
     "output_type": "stream",
     "text": [
      "/opt/conda/lib/python3.7/site-packages/xgboost/sklearn.py:1224: UserWarning: The use of label encoder in XGBClassifier is deprecated and will be removed in a future release. To remove this warning, do the following: 1) Pass option use_label_encoder=False when constructing XGBClassifier object; and 2) Encode your labels (y) as integers starting with 0, i.e. 0, 1, 2, ..., [num_class - 1].\n",
      "  warnings.warn(label_encoder_deprecation_msg, UserWarning)\n"
     ]
    },
    {
     "name": "stdout",
     "output_type": "stream",
     "text": [
      "[14:51:02] WARNING: ../src/learner.cc:1115: Starting in XGBoost 1.3.0, the default evaluation metric used with the objective 'multi:softprob' was changed from 'merror' to 'mlogloss'. Explicitly set eval_metric if you'd like to restore the old behavior.\n"
     ]
    }
   ],
   "source": [
    "model_xg = XGBClassifier().fit(train_sentence_vectors, df['Labels'].to_list())"
   ]
  },
  {
   "cell_type": "code",
   "execution_count": 31,
   "id": "8ba2bbdc",
   "metadata": {
    "execution": {
     "iopub.execute_input": "2022-03-06T14:53:19.180969Z",
     "iopub.status.busy": "2022-03-06T14:53:19.173829Z",
     "iopub.status.idle": "2022-03-06T14:53:19.219461Z",
     "shell.execute_reply": "2022-03-06T14:53:19.220371Z"
    },
    "papermill": {
     "duration": 0.114136,
     "end_time": "2022-03-06T14:53:19.220634",
     "exception": false,
     "start_time": "2022-03-06T14:53:19.106498",
     "status": "completed"
    },
    "tags": []
   },
   "outputs": [
    {
     "name": "stderr",
     "output_type": "stream",
     "text": [
      "/opt/conda/lib/python3.7/site-packages/sklearn/metrics/_classification.py:1221: UndefinedMetricWarning: Precision and F-score are ill-defined and being set to 0.0 in labels with no predicted samples. Use `zero_division` parameter to control this behavior.\n",
      "  _warn_prf(average, modifier, msg_start, len(result))\n"
     ]
    },
    {
     "data": {
      "text/html": [
       "<div>\n",
       "<style scoped>\n",
       "    .dataframe tbody tr th:only-of-type {\n",
       "        vertical-align: middle;\n",
       "    }\n",
       "\n",
       "    .dataframe tbody tr th {\n",
       "        vertical-align: top;\n",
       "    }\n",
       "\n",
       "    .dataframe thead th {\n",
       "        text-align: right;\n",
       "    }\n",
       "</style>\n",
       "<table border=\"1\" class=\"dataframe\">\n",
       "  <thead>\n",
       "    <tr style=\"text-align: right;\">\n",
       "      <th></th>\n",
       "      <th>precision</th>\n",
       "      <th>recall</th>\n",
       "      <th>f1-score</th>\n",
       "      <th>support</th>\n",
       "    </tr>\n",
       "  </thead>\n",
       "  <tbody>\n",
       "    <tr>\n",
       "      <th>0</th>\n",
       "      <td>0.000000</td>\n",
       "      <td>0.000000</td>\n",
       "      <td>0.000000</td>\n",
       "      <td>26.000000</td>\n",
       "    </tr>\n",
       "    <tr>\n",
       "      <th>1</th>\n",
       "      <td>0.676208</td>\n",
       "      <td>0.908654</td>\n",
       "      <td>0.775385</td>\n",
       "      <td>416.000000</td>\n",
       "    </tr>\n",
       "    <tr>\n",
       "      <th>2</th>\n",
       "      <td>0.500000</td>\n",
       "      <td>0.125000</td>\n",
       "      <td>0.200000</td>\n",
       "      <td>8.000000</td>\n",
       "    </tr>\n",
       "    <tr>\n",
       "      <th>3</th>\n",
       "      <td>0.554455</td>\n",
       "      <td>0.440945</td>\n",
       "      <td>0.491228</td>\n",
       "      <td>127.000000</td>\n",
       "    </tr>\n",
       "    <tr>\n",
       "      <th>4</th>\n",
       "      <td>0.333333</td>\n",
       "      <td>0.170213</td>\n",
       "      <td>0.225352</td>\n",
       "      <td>47.000000</td>\n",
       "    </tr>\n",
       "    <tr>\n",
       "      <th>5</th>\n",
       "      <td>0.700000</td>\n",
       "      <td>0.145833</td>\n",
       "      <td>0.241379</td>\n",
       "      <td>48.000000</td>\n",
       "    </tr>\n",
       "    <tr>\n",
       "      <th>6</th>\n",
       "      <td>0.500000</td>\n",
       "      <td>0.040000</td>\n",
       "      <td>0.074074</td>\n",
       "      <td>25.000000</td>\n",
       "    </tr>\n",
       "    <tr>\n",
       "      <th>7</th>\n",
       "      <td>0.000000</td>\n",
       "      <td>0.000000</td>\n",
       "      <td>0.000000</td>\n",
       "      <td>2.000000</td>\n",
       "    </tr>\n",
       "    <tr>\n",
       "      <th>accuracy</th>\n",
       "      <td>0.645207</td>\n",
       "      <td>0.645207</td>\n",
       "      <td>0.645207</td>\n",
       "      <td>0.645207</td>\n",
       "    </tr>\n",
       "    <tr>\n",
       "      <th>macro avg</th>\n",
       "      <td>0.408000</td>\n",
       "      <td>0.228831</td>\n",
       "      <td>0.250927</td>\n",
       "      <td>699.000000</td>\n",
       "    </tr>\n",
       "    <tr>\n",
       "      <th>weighted avg</th>\n",
       "      <td>0.597260</td>\n",
       "      <td>0.645207</td>\n",
       "      <td>0.587376</td>\n",
       "      <td>699.000000</td>\n",
       "    </tr>\n",
       "  </tbody>\n",
       "</table>\n",
       "</div>"
      ],
      "text/plain": [
       "              precision    recall  f1-score     support\n",
       "0              0.000000  0.000000  0.000000   26.000000\n",
       "1              0.676208  0.908654  0.775385  416.000000\n",
       "2              0.500000  0.125000  0.200000    8.000000\n",
       "3              0.554455  0.440945  0.491228  127.000000\n",
       "4              0.333333  0.170213  0.225352   47.000000\n",
       "5              0.700000  0.145833  0.241379   48.000000\n",
       "6              0.500000  0.040000  0.074074   25.000000\n",
       "7              0.000000  0.000000  0.000000    2.000000\n",
       "accuracy       0.645207  0.645207  0.645207    0.645207\n",
       "macro avg      0.408000  0.228831  0.250927  699.000000\n",
       "weighted avg   0.597260  0.645207  0.587376  699.000000"
      ]
     },
     "execution_count": 31,
     "metadata": {},
     "output_type": "execute_result"
    }
   ],
   "source": [
    "y_preds_xg = model_xg.predict(test_sentence_vectors)\n",
    "report_xg = classification_report(df_test['Labels'].to_list(),y_preds_xg,output_dict=True)\n",
    "df_xg = pd.DataFrame(report_xg).transpose()\n",
    "df_xg"
   ]
  },
  {
   "cell_type": "markdown",
   "id": "02fdb5ee",
   "metadata": {
    "papermill": {
     "duration": 0.063745,
     "end_time": "2022-03-06T14:53:19.348648",
     "exception": false,
     "start_time": "2022-03-06T14:53:19.284903",
     "status": "completed"
    },
    "tags": []
   },
   "source": [
    "## Multi Layer Perceptron"
   ]
  },
  {
   "cell_type": "markdown",
   "id": "de3d1fa7",
   "metadata": {
    "execution": {
     "iopub.execute_input": "2022-03-06T13:03:41.560247Z",
     "iopub.status.busy": "2022-03-06T13:03:41.559969Z",
     "iopub.status.idle": "2022-03-06T13:03:41.564734Z",
     "shell.execute_reply": "2022-03-06T13:03:41.563917Z",
     "shell.execute_reply.started": "2022-03-06T13:03:41.560218Z"
    },
    "papermill": {
     "duration": 0.067525,
     "end_time": "2022-03-06T14:53:19.481233",
     "exception": false,
     "start_time": "2022-03-06T14:53:19.413708",
     "status": "completed"
    },
    "tags": []
   },
   "source": [
    "#### Grid SearchCV"
   ]
  },
  {
   "cell_type": "code",
   "execution_count": 32,
   "id": "51614f63",
   "metadata": {
    "execution": {
     "iopub.execute_input": "2022-03-06T14:53:19.624159Z",
     "iopub.status.busy": "2022-03-06T14:53:19.623017Z",
     "iopub.status.idle": "2022-03-06T14:53:19.626389Z",
     "shell.execute_reply": "2022-03-06T14:53:19.625791Z"
    },
    "papermill": {
     "duration": 0.076074,
     "end_time": "2022-03-06T14:53:19.626532",
     "exception": false,
     "start_time": "2022-03-06T14:53:19.550458",
     "status": "completed"
    },
    "tags": []
   },
   "outputs": [],
   "source": [
    "# mlp_params = {\n",
    "#     'activation':['identity', 'logistic', 'tanh', 'relu'],\n",
    "#     'solver':['lbfgs', 'sgd', 'adam'],\n",
    "#     'alpha':[0.0001,0.001,0.01,0.1],\n",
    "# }\n",
    "# warnings.filterwarnings('ignore')\n",
    "# mlp_grid = GridSearchCV(MLPClassifier(), mlp_params, scoring='f1_weighted')\n",
    "# mlp_grid.fit(combined_encodings,combined_df['Labels'].to_list())\n",
    "# print(\"Tuned Hyperparameters :\", mlp_grid.best_params_)\n",
    "# print(\"Weighted f1_score :\",mlp_grid.best_score_)"
   ]
  },
  {
   "cell_type": "markdown",
   "id": "29f8bfff",
   "metadata": {
    "papermill": {
     "duration": 0.067636,
     "end_time": "2022-03-06T14:53:19.762864",
     "exception": false,
     "start_time": "2022-03-06T14:53:19.695228",
     "status": "completed"
    },
    "tags": []
   },
   "source": [
    "Tuned Hyperparameters obtained from grid search : {'activation': 'logistic', 'alpha': 0.1, 'solver': 'adam'}"
   ]
  },
  {
   "cell_type": "markdown",
   "id": "7e670445",
   "metadata": {
    "papermill": {
     "duration": 0.06491,
     "end_time": "2022-03-06T14:53:19.894516",
     "exception": false,
     "start_time": "2022-03-06T14:53:19.829606",
     "status": "completed"
    },
    "tags": []
   },
   "source": [
    "#### Model Training"
   ]
  },
  {
   "cell_type": "code",
   "execution_count": 33,
   "id": "2ee91c24",
   "metadata": {
    "execution": {
     "iopub.execute_input": "2022-03-06T14:53:20.036450Z",
     "iopub.status.busy": "2022-03-06T14:53:20.034601Z",
     "iopub.status.idle": "2022-03-06T14:53:37.410066Z",
     "shell.execute_reply": "2022-03-06T14:53:37.411087Z"
    },
    "papermill": {
     "duration": 17.449352,
     "end_time": "2022-03-06T14:53:37.411394",
     "exception": false,
     "start_time": "2022-03-06T14:53:19.962042",
     "status": "completed"
    },
    "tags": []
   },
   "outputs": [
    {
     "name": "stderr",
     "output_type": "stream",
     "text": [
      "/opt/conda/lib/python3.7/site-packages/sklearn/neural_network/_multilayer_perceptron.py:585: ConvergenceWarning: Stochastic Optimizer: Maximum iterations (200) reached and the optimization hasn't converged yet.\n",
      "  % self.max_iter, ConvergenceWarning)\n"
     ]
    }
   ],
   "source": [
    "clf = MLPClassifier(activation='logistic',alpha=0.1,solver='adam').fit(train_sentence_vectors, df['Labels'].to_list())\n",
    "mlp_predictions = clf.predict(test_sentence_vectors)"
   ]
  },
  {
   "cell_type": "code",
   "execution_count": 34,
   "id": "31168489",
   "metadata": {
    "execution": {
     "iopub.execute_input": "2022-03-06T14:53:37.608343Z",
     "iopub.status.busy": "2022-03-06T14:53:37.607253Z",
     "iopub.status.idle": "2022-03-06T14:53:37.628679Z",
     "shell.execute_reply": "2022-03-06T14:53:37.629410Z"
    },
    "papermill": {
     "duration": 0.096093,
     "end_time": "2022-03-06T14:53:37.629579",
     "exception": false,
     "start_time": "2022-03-06T14:53:37.533486",
     "status": "completed"
    },
    "tags": []
   },
   "outputs": [
    {
     "name": "stderr",
     "output_type": "stream",
     "text": [
      "/opt/conda/lib/python3.7/site-packages/sklearn/metrics/_classification.py:1221: UndefinedMetricWarning: Precision and F-score are ill-defined and being set to 0.0 in labels with no predicted samples. Use `zero_division` parameter to control this behavior.\n",
      "  _warn_prf(average, modifier, msg_start, len(result))\n"
     ]
    },
    {
     "data": {
      "text/html": [
       "<div>\n",
       "<style scoped>\n",
       "    .dataframe tbody tr th:only-of-type {\n",
       "        vertical-align: middle;\n",
       "    }\n",
       "\n",
       "    .dataframe tbody tr th {\n",
       "        vertical-align: top;\n",
       "    }\n",
       "\n",
       "    .dataframe thead th {\n",
       "        text-align: right;\n",
       "    }\n",
       "</style>\n",
       "<table border=\"1\" class=\"dataframe\">\n",
       "  <thead>\n",
       "    <tr style=\"text-align: right;\">\n",
       "      <th></th>\n",
       "      <th>precision</th>\n",
       "      <th>recall</th>\n",
       "      <th>f1-score</th>\n",
       "      <th>support</th>\n",
       "    </tr>\n",
       "  </thead>\n",
       "  <tbody>\n",
       "    <tr>\n",
       "      <th>0</th>\n",
       "      <td>0.315789</td>\n",
       "      <td>0.230769</td>\n",
       "      <td>0.266667</td>\n",
       "      <td>26.000000</td>\n",
       "    </tr>\n",
       "    <tr>\n",
       "      <th>1</th>\n",
       "      <td>0.742788</td>\n",
       "      <td>0.742788</td>\n",
       "      <td>0.742788</td>\n",
       "      <td>416.000000</td>\n",
       "    </tr>\n",
       "    <tr>\n",
       "      <th>2</th>\n",
       "      <td>0.500000</td>\n",
       "      <td>0.250000</td>\n",
       "      <td>0.333333</td>\n",
       "      <td>8.000000</td>\n",
       "    </tr>\n",
       "    <tr>\n",
       "      <th>3</th>\n",
       "      <td>0.510638</td>\n",
       "      <td>0.566929</td>\n",
       "      <td>0.537313</td>\n",
       "      <td>127.000000</td>\n",
       "    </tr>\n",
       "    <tr>\n",
       "      <th>4</th>\n",
       "      <td>0.269841</td>\n",
       "      <td>0.361702</td>\n",
       "      <td>0.309091</td>\n",
       "      <td>47.000000</td>\n",
       "    </tr>\n",
       "    <tr>\n",
       "      <th>5</th>\n",
       "      <td>0.461538</td>\n",
       "      <td>0.375000</td>\n",
       "      <td>0.413793</td>\n",
       "      <td>48.000000</td>\n",
       "    </tr>\n",
       "    <tr>\n",
       "      <th>6</th>\n",
       "      <td>0.176471</td>\n",
       "      <td>0.120000</td>\n",
       "      <td>0.142857</td>\n",
       "      <td>25.000000</td>\n",
       "    </tr>\n",
       "    <tr>\n",
       "      <th>7</th>\n",
       "      <td>0.000000</td>\n",
       "      <td>0.000000</td>\n",
       "      <td>0.000000</td>\n",
       "      <td>2.000000</td>\n",
       "    </tr>\n",
       "    <tr>\n",
       "      <th>accuracy</th>\n",
       "      <td>0.610873</td>\n",
       "      <td>0.610873</td>\n",
       "      <td>0.610873</td>\n",
       "      <td>0.610873</td>\n",
       "    </tr>\n",
       "    <tr>\n",
       "      <th>macro avg</th>\n",
       "      <td>0.372133</td>\n",
       "      <td>0.330899</td>\n",
       "      <td>0.343230</td>\n",
       "      <td>699.000000</td>\n",
       "    </tr>\n",
       "    <tr>\n",
       "      <th>weighted avg</th>\n",
       "      <td>0.608455</td>\n",
       "      <td>0.610873</td>\n",
       "      <td>0.607725</td>\n",
       "      <td>699.000000</td>\n",
       "    </tr>\n",
       "  </tbody>\n",
       "</table>\n",
       "</div>"
      ],
      "text/plain": [
       "              precision    recall  f1-score     support\n",
       "0              0.315789  0.230769  0.266667   26.000000\n",
       "1              0.742788  0.742788  0.742788  416.000000\n",
       "2              0.500000  0.250000  0.333333    8.000000\n",
       "3              0.510638  0.566929  0.537313  127.000000\n",
       "4              0.269841  0.361702  0.309091   47.000000\n",
       "5              0.461538  0.375000  0.413793   48.000000\n",
       "6              0.176471  0.120000  0.142857   25.000000\n",
       "7              0.000000  0.000000  0.000000    2.000000\n",
       "accuracy       0.610873  0.610873  0.610873    0.610873\n",
       "macro avg      0.372133  0.330899  0.343230  699.000000\n",
       "weighted avg   0.608455  0.610873  0.607725  699.000000"
      ]
     },
     "execution_count": 34,
     "metadata": {},
     "output_type": "execute_result"
    }
   ],
   "source": [
    "report_mlp = classification_report(df_test['Labels'].to_list(),mlp_predictions,output_dict=True)\n",
    "df_mlp = pd.DataFrame(report_mlp).transpose()\n",
    "df_mlp"
   ]
  }
 ],
 "metadata": {
  "kernelspec": {
   "display_name": "Python 3",
   "language": "python",
   "name": "python3"
  },
  "language_info": {
   "codemirror_mode": {
    "name": "ipython",
    "version": 3
   },
   "file_extension": ".py",
   "mimetype": "text/x-python",
   "name": "python",
   "nbconvert_exporter": "python",
   "pygments_lexer": "ipython3",
   "version": "3.7.12"
  },
  "papermill": {
   "default_parameters": {},
   "duration": 293.886639,
   "end_time": "2022-03-06T14:53:40.699559",
   "environment_variables": {},
   "exception": null,
   "input_path": "__notebook__.ipynb",
   "output_path": "__notebook__.ipynb",
   "parameters": {},
   "start_time": "2022-03-06T14:48:46.812920",
   "version": "2.3.3"
  },
  "widgets": {
   "application/vnd.jupyter.widget-state+json": {
    "state": {
     "04e72b50e5d64a55a6399a621fba7bf9": {
      "model_module": "@jupyter-widgets/controls",
      "model_module_version": "1.5.0",
      "model_name": "DescriptionStyleModel",
      "state": {
       "_model_module": "@jupyter-widgets/controls",
       "_model_module_version": "1.5.0",
       "_model_name": "DescriptionStyleModel",
       "_view_count": null,
       "_view_module": "@jupyter-widgets/base",
       "_view_module_version": "1.2.0",
       "_view_name": "StyleView",
       "description_width": ""
      }
     },
     "0d5aa5aacff241a7bf200569348689c9": {
      "model_module": "@jupyter-widgets/base",
      "model_module_version": "1.2.0",
      "model_name": "LayoutModel",
      "state": {
       "_model_module": "@jupyter-widgets/base",
       "_model_module_version": "1.2.0",
       "_model_name": "LayoutModel",
       "_view_count": null,
       "_view_module": "@jupyter-widgets/base",
       "_view_module_version": "1.2.0",
       "_view_name": "LayoutView",
       "align_content": null,
       "align_items": null,
       "align_self": null,
       "border": null,
       "bottom": null,
       "display": null,
       "flex": null,
       "flex_flow": null,
       "grid_area": null,
       "grid_auto_columns": null,
       "grid_auto_flow": null,
       "grid_auto_rows": null,
       "grid_column": null,
       "grid_gap": null,
       "grid_row": null,
       "grid_template_areas": null,
       "grid_template_columns": null,
       "grid_template_rows": null,
       "height": null,
       "justify_content": null,
       "justify_items": null,
       "left": null,
       "margin": null,
       "max_height": null,
       "max_width": null,
       "min_height": null,
       "min_width": null,
       "object_fit": null,
       "object_position": null,
       "order": null,
       "overflow": null,
       "overflow_x": null,
       "overflow_y": null,
       "padding": null,
       "right": null,
       "top": null,
       "visibility": null,
       "width": null
      }
     },
     "13b6de9957ff480a8dab04209994dfb8": {
      "model_module": "@jupyter-widgets/controls",
      "model_module_version": "1.5.0",
      "model_name": "DescriptionStyleModel",
      "state": {
       "_model_module": "@jupyter-widgets/controls",
       "_model_module_version": "1.5.0",
       "_model_name": "DescriptionStyleModel",
       "_view_count": null,
       "_view_module": "@jupyter-widgets/base",
       "_view_module_version": "1.2.0",
       "_view_name": "StyleView",
       "description_width": ""
      }
     },
     "1813737bd68b4007acaff79b009d6575": {
      "model_module": "@jupyter-widgets/controls",
      "model_module_version": "1.5.0",
      "model_name": "FloatProgressModel",
      "state": {
       "_dom_classes": [],
       "_model_module": "@jupyter-widgets/controls",
       "_model_module_version": "1.5.0",
       "_model_name": "FloatProgressModel",
       "_view_count": null,
       "_view_module": "@jupyter-widgets/controls",
       "_view_module_version": "1.5.0",
       "_view_name": "ProgressView",
       "bar_style": "success",
       "description": "",
       "description_tooltip": null,
       "layout": "IPY_MODEL_3c654dfdd8ff42b09f1a85a3cc0ad86e",
       "max": 714314041.0,
       "min": 0.0,
       "orientation": "horizontal",
       "style": "IPY_MODEL_73767e101805468aadbd41429262c29d",
       "value": 714314041.0
      }
     },
     "1b24abd6e5ee4737a79a9c89f49e81c1": {
      "model_module": "@jupyter-widgets/base",
      "model_module_version": "1.2.0",
      "model_name": "LayoutModel",
      "state": {
       "_model_module": "@jupyter-widgets/base",
       "_model_module_version": "1.2.0",
       "_model_name": "LayoutModel",
       "_view_count": null,
       "_view_module": "@jupyter-widgets/base",
       "_view_module_version": "1.2.0",
       "_view_name": "LayoutView",
       "align_content": null,
       "align_items": null,
       "align_self": null,
       "border": null,
       "bottom": null,
       "display": null,
       "flex": null,
       "flex_flow": null,
       "grid_area": null,
       "grid_auto_columns": null,
       "grid_auto_flow": null,
       "grid_auto_rows": null,
       "grid_column": null,
       "grid_gap": null,
       "grid_row": null,
       "grid_template_areas": null,
       "grid_template_columns": null,
       "grid_template_rows": null,
       "height": null,
       "justify_content": null,
       "justify_items": null,
       "left": null,
       "margin": null,
       "max_height": null,
       "max_width": null,
       "min_height": null,
       "min_width": null,
       "object_fit": null,
       "object_position": null,
       "order": null,
       "overflow": null,
       "overflow_x": null,
       "overflow_y": null,
       "padding": null,
       "right": null,
       "top": null,
       "visibility": null,
       "width": null
      }
     },
     "1f50d050c5f4400d97489961e764dbcc": {
      "model_module": "@jupyter-widgets/base",
      "model_module_version": "1.2.0",
      "model_name": "LayoutModel",
      "state": {
       "_model_module": "@jupyter-widgets/base",
       "_model_module_version": "1.2.0",
       "_model_name": "LayoutModel",
       "_view_count": null,
       "_view_module": "@jupyter-widgets/base",
       "_view_module_version": "1.2.0",
       "_view_name": "LayoutView",
       "align_content": null,
       "align_items": null,
       "align_self": null,
       "border": null,
       "bottom": null,
       "display": null,
       "flex": null,
       "flex_flow": null,
       "grid_area": null,
       "grid_auto_columns": null,
       "grid_auto_flow": null,
       "grid_auto_rows": null,
       "grid_column": null,
       "grid_gap": null,
       "grid_row": null,
       "grid_template_areas": null,
       "grid_template_columns": null,
       "grid_template_rows": null,
       "height": null,
       "justify_content": null,
       "justify_items": null,
       "left": null,
       "margin": null,
       "max_height": null,
       "max_width": null,
       "min_height": null,
       "min_width": null,
       "object_fit": null,
       "object_position": null,
       "order": null,
       "overflow": null,
       "overflow_x": null,
       "overflow_y": null,
       "padding": null,
       "right": null,
       "top": null,
       "visibility": null,
       "width": null
      }
     },
     "24c89214cfd8401391e158a617f1553c": {
      "model_module": "@jupyter-widgets/base",
      "model_module_version": "1.2.0",
      "model_name": "LayoutModel",
      "state": {
       "_model_module": "@jupyter-widgets/base",
       "_model_module_version": "1.2.0",
       "_model_name": "LayoutModel",
       "_view_count": null,
       "_view_module": "@jupyter-widgets/base",
       "_view_module_version": "1.2.0",
       "_view_name": "LayoutView",
       "align_content": null,
       "align_items": null,
       "align_self": null,
       "border": null,
       "bottom": null,
       "display": null,
       "flex": null,
       "flex_flow": null,
       "grid_area": null,
       "grid_auto_columns": null,
       "grid_auto_flow": null,
       "grid_auto_rows": null,
       "grid_column": null,
       "grid_gap": null,
       "grid_row": null,
       "grid_template_areas": null,
       "grid_template_columns": null,
       "grid_template_rows": null,
       "height": null,
       "justify_content": null,
       "justify_items": null,
       "left": null,
       "margin": null,
       "max_height": null,
       "max_width": null,
       "min_height": null,
       "min_width": null,
       "object_fit": null,
       "object_position": null,
       "order": null,
       "overflow": null,
       "overflow_x": null,
       "overflow_y": null,
       "padding": null,
       "right": null,
       "top": null,
       "visibility": null,
       "width": null
      }
     },
     "321b5feaa8a14bc4baa87a3e55750231": {
      "model_module": "@jupyter-widgets/controls",
      "model_module_version": "1.5.0",
      "model_name": "HTMLModel",
      "state": {
       "_dom_classes": [],
       "_model_module": "@jupyter-widgets/controls",
       "_model_module_version": "1.5.0",
       "_model_name": "HTMLModel",
       "_view_count": null,
       "_view_module": "@jupyter-widgets/controls",
       "_view_module_version": "1.5.0",
       "_view_name": "HTMLView",
       "description": "",
       "description_tooltip": null,
       "layout": "IPY_MODEL_1b24abd6e5ee4737a79a9c89f49e81c1",
       "placeholder": "​",
       "style": "IPY_MODEL_13b6de9957ff480a8dab04209994dfb8",
       "value": " 681M/681M [00:26&lt;00:00, 31.4MB/s]"
      }
     },
     "3719e1af3f014f788e08765bcbc3eb56": {
      "model_module": "@jupyter-widgets/controls",
      "model_module_version": "1.5.0",
      "model_name": "HBoxModel",
      "state": {
       "_dom_classes": [],
       "_model_module": "@jupyter-widgets/controls",
       "_model_module_version": "1.5.0",
       "_model_name": "HBoxModel",
       "_view_count": null,
       "_view_module": "@jupyter-widgets/controls",
       "_view_module_version": "1.5.0",
       "_view_name": "HBoxView",
       "box_style": "",
       "children": [
        "IPY_MODEL_3fafb90de4644f43ae7b322e24f5c79c",
        "IPY_MODEL_5564211cf5354834b65f669437c23439",
        "IPY_MODEL_90e488d5f0f34a8084a553ef05ff8639"
       ],
       "layout": "IPY_MODEL_8c68ec2936614571a4fc3a5fba86fb95"
      }
     },
     "375f8a7421b34c18addf5a3cdf311281": {
      "model_module": "@jupyter-widgets/controls",
      "model_module_version": "1.5.0",
      "model_name": "DescriptionStyleModel",
      "state": {
       "_model_module": "@jupyter-widgets/controls",
       "_model_module_version": "1.5.0",
       "_model_name": "DescriptionStyleModel",
       "_view_count": null,
       "_view_module": "@jupyter-widgets/base",
       "_view_module_version": "1.2.0",
       "_view_name": "StyleView",
       "description_width": ""
      }
     },
     "39285650720a444db60818ec2aa97664": {
      "model_module": "@jupyter-widgets/controls",
      "model_module_version": "1.5.0",
      "model_name": "HTMLModel",
      "state": {
       "_dom_classes": [],
       "_model_module": "@jupyter-widgets/controls",
       "_model_module_version": "1.5.0",
       "_model_name": "HTMLModel",
       "_view_count": null,
       "_view_module": "@jupyter-widgets/controls",
       "_view_module_version": "1.5.0",
       "_view_name": "HTMLView",
       "description": "",
       "description_tooltip": null,
       "layout": "IPY_MODEL_cfe787802ee44ac8ae17c1d6e46aaec7",
       "placeholder": "​",
       "style": "IPY_MODEL_977f2d11e97e45c48e3afc5ce3f50c44",
       "value": "Downloading: 100%"
      }
     },
     "3ad1e863a94a472d9cdb2bd3c675af78": {
      "model_module": "@jupyter-widgets/controls",
      "model_module_version": "1.5.0",
      "model_name": "HTMLModel",
      "state": {
       "_dom_classes": [],
       "_model_module": "@jupyter-widgets/controls",
       "_model_module_version": "1.5.0",
       "_model_name": "HTMLModel",
       "_view_count": null,
       "_view_module": "@jupyter-widgets/controls",
       "_view_module_version": "1.5.0",
       "_view_name": "HTMLView",
       "description": "",
       "description_tooltip": null,
       "layout": "IPY_MODEL_8599d9d29df649fcb847c32ce3f9a5b8",
       "placeholder": "​",
       "style": "IPY_MODEL_854edd71063c44448f66634af722eef0",
       "value": "Downloading: 100%"
      }
     },
     "3c654dfdd8ff42b09f1a85a3cc0ad86e": {
      "model_module": "@jupyter-widgets/base",
      "model_module_version": "1.2.0",
      "model_name": "LayoutModel",
      "state": {
       "_model_module": "@jupyter-widgets/base",
       "_model_module_version": "1.2.0",
       "_model_name": "LayoutModel",
       "_view_count": null,
       "_view_module": "@jupyter-widgets/base",
       "_view_module_version": "1.2.0",
       "_view_name": "LayoutView",
       "align_content": null,
       "align_items": null,
       "align_self": null,
       "border": null,
       "bottom": null,
       "display": null,
       "flex": null,
       "flex_flow": null,
       "grid_area": null,
       "grid_auto_columns": null,
       "grid_auto_flow": null,
       "grid_auto_rows": null,
       "grid_column": null,
       "grid_gap": null,
       "grid_row": null,
       "grid_template_areas": null,
       "grid_template_columns": null,
       "grid_template_rows": null,
       "height": null,
       "justify_content": null,
       "justify_items": null,
       "left": null,
       "margin": null,
       "max_height": null,
       "max_width": null,
       "min_height": null,
       "min_width": null,
       "object_fit": null,
       "object_position": null,
       "order": null,
       "overflow": null,
       "overflow_x": null,
       "overflow_y": null,
       "padding": null,
       "right": null,
       "top": null,
       "visibility": null,
       "width": null
      }
     },
     "3fafb90de4644f43ae7b322e24f5c79c": {
      "model_module": "@jupyter-widgets/controls",
      "model_module_version": "1.5.0",
      "model_name": "HTMLModel",
      "state": {
       "_dom_classes": [],
       "_model_module": "@jupyter-widgets/controls",
       "_model_module_version": "1.5.0",
       "_model_name": "HTMLModel",
       "_view_count": null,
       "_view_module": "@jupyter-widgets/controls",
       "_view_module_version": "1.5.0",
       "_view_name": "HTMLView",
       "description": "",
       "description_tooltip": null,
       "layout": "IPY_MODEL_0d5aa5aacff241a7bf200569348689c9",
       "placeholder": "​",
       "style": "IPY_MODEL_b39226b3bef54017bd93cf201fb6805a",
       "value": "Downloading: 100%"
      }
     },
     "42f00165752f40ceb4a227d86f748cd0": {
      "model_module": "@jupyter-widgets/base",
      "model_module_version": "1.2.0",
      "model_name": "LayoutModel",
      "state": {
       "_model_module": "@jupyter-widgets/base",
       "_model_module_version": "1.2.0",
       "_model_name": "LayoutModel",
       "_view_count": null,
       "_view_module": "@jupyter-widgets/base",
       "_view_module_version": "1.2.0",
       "_view_name": "LayoutView",
       "align_content": null,
       "align_items": null,
       "align_self": null,
       "border": null,
       "bottom": null,
       "display": null,
       "flex": null,
       "flex_flow": null,
       "grid_area": null,
       "grid_auto_columns": null,
       "grid_auto_flow": null,
       "grid_auto_rows": null,
       "grid_column": null,
       "grid_gap": null,
       "grid_row": null,
       "grid_template_areas": null,
       "grid_template_columns": null,
       "grid_template_rows": null,
       "height": null,
       "justify_content": null,
       "justify_items": null,
       "left": null,
       "margin": null,
       "max_height": null,
       "max_width": null,
       "min_height": null,
       "min_width": null,
       "object_fit": null,
       "object_position": null,
       "order": null,
       "overflow": null,
       "overflow_x": null,
       "overflow_y": null,
       "padding": null,
       "right": null,
       "top": null,
       "visibility": null,
       "width": null
      }
     },
     "46c388a6433649e7a78cd7fa3a52c69e": {
      "model_module": "@jupyter-widgets/controls",
      "model_module_version": "1.5.0",
      "model_name": "ProgressStyleModel",
      "state": {
       "_model_module": "@jupyter-widgets/controls",
       "_model_module_version": "1.5.0",
       "_model_name": "ProgressStyleModel",
       "_view_count": null,
       "_view_module": "@jupyter-widgets/base",
       "_view_module_version": "1.2.0",
       "_view_name": "StyleView",
       "bar_color": null,
       "description_width": ""
      }
     },
     "47e4e18928da4fc995f7cd464c57c913": {
      "model_module": "@jupyter-widgets/controls",
      "model_module_version": "1.5.0",
      "model_name": "ProgressStyleModel",
      "state": {
       "_model_module": "@jupyter-widgets/controls",
       "_model_module_version": "1.5.0",
       "_model_name": "ProgressStyleModel",
       "_view_count": null,
       "_view_module": "@jupyter-widgets/base",
       "_view_module_version": "1.2.0",
       "_view_name": "StyleView",
       "bar_color": null,
       "description_width": ""
      }
     },
     "4821c1ee1dd14db7bfc71ca9a5303dc1": {
      "model_module": "@jupyter-widgets/controls",
      "model_module_version": "1.5.0",
      "model_name": "HBoxModel",
      "state": {
       "_dom_classes": [],
       "_model_module": "@jupyter-widgets/controls",
       "_model_module_version": "1.5.0",
       "_model_name": "HBoxModel",
       "_view_count": null,
       "_view_module": "@jupyter-widgets/controls",
       "_view_module_version": "1.5.0",
       "_view_name": "HBoxView",
       "box_style": "",
       "children": [
        "IPY_MODEL_3ad1e863a94a472d9cdb2bd3c675af78",
        "IPY_MODEL_8e1864b5e1ee4c73830d1d4b191a6465",
        "IPY_MODEL_dca9f8f6cdb041959ebcab46dcef8834"
       ],
       "layout": "IPY_MODEL_4a8b4ed1fde84f938a13a1532e24cf61"
      }
     },
     "4a8b4ed1fde84f938a13a1532e24cf61": {
      "model_module": "@jupyter-widgets/base",
      "model_module_version": "1.2.0",
      "model_name": "LayoutModel",
      "state": {
       "_model_module": "@jupyter-widgets/base",
       "_model_module_version": "1.2.0",
       "_model_name": "LayoutModel",
       "_view_count": null,
       "_view_module": "@jupyter-widgets/base",
       "_view_module_version": "1.2.0",
       "_view_name": "LayoutView",
       "align_content": null,
       "align_items": null,
       "align_self": null,
       "border": null,
       "bottom": null,
       "display": null,
       "flex": null,
       "flex_flow": null,
       "grid_area": null,
       "grid_auto_columns": null,
       "grid_auto_flow": null,
       "grid_auto_rows": null,
       "grid_column": null,
       "grid_gap": null,
       "grid_row": null,
       "grid_template_areas": null,
       "grid_template_columns": null,
       "grid_template_rows": null,
       "height": null,
       "justify_content": null,
       "justify_items": null,
       "left": null,
       "margin": null,
       "max_height": null,
       "max_width": null,
       "min_height": null,
       "min_width": null,
       "object_fit": null,
       "object_position": null,
       "order": null,
       "overflow": null,
       "overflow_x": null,
       "overflow_y": null,
       "padding": null,
       "right": null,
       "top": null,
       "visibility": null,
       "width": null
      }
     },
     "4e69084d6d404838b6c261343454f99e": {
      "model_module": "@jupyter-widgets/controls",
      "model_module_version": "1.5.0",
      "model_name": "HBoxModel",
      "state": {
       "_dom_classes": [],
       "_model_module": "@jupyter-widgets/controls",
       "_model_module_version": "1.5.0",
       "_model_name": "HBoxModel",
       "_view_count": null,
       "_view_module": "@jupyter-widgets/controls",
       "_view_module_version": "1.5.0",
       "_view_name": "HBoxView",
       "box_style": "",
       "children": [
        "IPY_MODEL_a6d91af6f56f43409d73250198a19b61",
        "IPY_MODEL_d8944ccbc9434b0490bdf51ed28a34d8",
        "IPY_MODEL_8ee2247df4f44862bcfb8848091d5e6c"
       ],
       "layout": "IPY_MODEL_bca9d596bf374cf3973ae302ca2f08fa"
      }
     },
     "50de8cb054bd414db75ddc106fc0c0a8": {
      "model_module": "@jupyter-widgets/base",
      "model_module_version": "1.2.0",
      "model_name": "LayoutModel",
      "state": {
       "_model_module": "@jupyter-widgets/base",
       "_model_module_version": "1.2.0",
       "_model_name": "LayoutModel",
       "_view_count": null,
       "_view_module": "@jupyter-widgets/base",
       "_view_module_version": "1.2.0",
       "_view_name": "LayoutView",
       "align_content": null,
       "align_items": null,
       "align_self": null,
       "border": null,
       "bottom": null,
       "display": null,
       "flex": null,
       "flex_flow": null,
       "grid_area": null,
       "grid_auto_columns": null,
       "grid_auto_flow": null,
       "grid_auto_rows": null,
       "grid_column": null,
       "grid_gap": null,
       "grid_row": null,
       "grid_template_areas": null,
       "grid_template_columns": null,
       "grid_template_rows": null,
       "height": null,
       "justify_content": null,
       "justify_items": null,
       "left": null,
       "margin": null,
       "max_height": null,
       "max_width": null,
       "min_height": null,
       "min_width": null,
       "object_fit": null,
       "object_position": null,
       "order": null,
       "overflow": null,
       "overflow_x": null,
       "overflow_y": null,
       "padding": null,
       "right": null,
       "top": null,
       "visibility": null,
       "width": null
      }
     },
     "5564211cf5354834b65f669437c23439": {
      "model_module": "@jupyter-widgets/controls",
      "model_module_version": "1.5.0",
      "model_name": "FloatProgressModel",
      "state": {
       "_dom_classes": [],
       "_model_module": "@jupyter-widgets/controls",
       "_model_module_version": "1.5.0",
       "_model_name": "FloatProgressModel",
       "_view_count": null,
       "_view_module": "@jupyter-widgets/controls",
       "_view_module_version": "1.5.0",
       "_view_name": "ProgressView",
       "bar_style": "success",
       "description": "",
       "description_tooltip": null,
       "layout": "IPY_MODEL_80bf98bbf5fb4364a9688aa26369e7ad",
       "max": 29.0,
       "min": 0.0,
       "orientation": "horizontal",
       "style": "IPY_MODEL_47e4e18928da4fc995f7cd464c57c913",
       "value": 29.0
      }
     },
     "576d94632ff1479d9f7a02833909d190": {
      "model_module": "@jupyter-widgets/controls",
      "model_module_version": "1.5.0",
      "model_name": "HBoxModel",
      "state": {
       "_dom_classes": [],
       "_model_module": "@jupyter-widgets/controls",
       "_model_module_version": "1.5.0",
       "_model_name": "HBoxModel",
       "_view_count": null,
       "_view_module": "@jupyter-widgets/controls",
       "_view_module_version": "1.5.0",
       "_view_name": "HBoxView",
       "box_style": "",
       "children": [
        "IPY_MODEL_39285650720a444db60818ec2aa97664",
        "IPY_MODEL_1813737bd68b4007acaff79b009d6575",
        "IPY_MODEL_321b5feaa8a14bc4baa87a3e55750231"
       ],
       "layout": "IPY_MODEL_50de8cb054bd414db75ddc106fc0c0a8"
      }
     },
     "5ffbc0e41ed940719363bd5ea1f4b70a": {
      "model_module": "@jupyter-widgets/controls",
      "model_module_version": "1.5.0",
      "model_name": "ProgressStyleModel",
      "state": {
       "_model_module": "@jupyter-widgets/controls",
       "_model_module_version": "1.5.0",
       "_model_name": "ProgressStyleModel",
       "_view_count": null,
       "_view_module": "@jupyter-widgets/base",
       "_view_module_version": "1.2.0",
       "_view_name": "StyleView",
       "bar_color": null,
       "description_width": ""
      }
     },
     "62d766c38969494cb9e1ac319247d822": {
      "model_module": "@jupyter-widgets/base",
      "model_module_version": "1.2.0",
      "model_name": "LayoutModel",
      "state": {
       "_model_module": "@jupyter-widgets/base",
       "_model_module_version": "1.2.0",
       "_model_name": "LayoutModel",
       "_view_count": null,
       "_view_module": "@jupyter-widgets/base",
       "_view_module_version": "1.2.0",
       "_view_name": "LayoutView",
       "align_content": null,
       "align_items": null,
       "align_self": null,
       "border": null,
       "bottom": null,
       "display": null,
       "flex": null,
       "flex_flow": null,
       "grid_area": null,
       "grid_auto_columns": null,
       "grid_auto_flow": null,
       "grid_auto_rows": null,
       "grid_column": null,
       "grid_gap": null,
       "grid_row": null,
       "grid_template_areas": null,
       "grid_template_columns": null,
       "grid_template_rows": null,
       "height": null,
       "justify_content": null,
       "justify_items": null,
       "left": null,
       "margin": null,
       "max_height": null,
       "max_width": null,
       "min_height": null,
       "min_width": null,
       "object_fit": null,
       "object_position": null,
       "order": null,
       "overflow": null,
       "overflow_x": null,
       "overflow_y": null,
       "padding": null,
       "right": null,
       "top": null,
       "visibility": null,
       "width": null
      }
     },
     "72bb97afb53446e099848d01aeb5d825": {
      "model_module": "@jupyter-widgets/controls",
      "model_module_version": "1.5.0",
      "model_name": "FloatProgressModel",
      "state": {
       "_dom_classes": [],
       "_model_module": "@jupyter-widgets/controls",
       "_model_module_version": "1.5.0",
       "_model_name": "FloatProgressModel",
       "_view_count": null,
       "_view_module": "@jupyter-widgets/controls",
       "_view_module_version": "1.5.0",
       "_view_name": "ProgressView",
       "bar_style": "success",
       "description": "",
       "description_tooltip": null,
       "layout": "IPY_MODEL_62d766c38969494cb9e1ac319247d822",
       "max": 625.0,
       "min": 0.0,
       "orientation": "horizontal",
       "style": "IPY_MODEL_46c388a6433649e7a78cd7fa3a52c69e",
       "value": 625.0
      }
     },
     "73767e101805468aadbd41429262c29d": {
      "model_module": "@jupyter-widgets/controls",
      "model_module_version": "1.5.0",
      "model_name": "ProgressStyleModel",
      "state": {
       "_model_module": "@jupyter-widgets/controls",
       "_model_module_version": "1.5.0",
       "_model_name": "ProgressStyleModel",
       "_view_count": null,
       "_view_module": "@jupyter-widgets/base",
       "_view_module_version": "1.2.0",
       "_view_name": "StyleView",
       "bar_color": null,
       "description_width": ""
      }
     },
     "8023987c4cfd4b1fba0aab43894ca1e5": {
      "model_module": "@jupyter-widgets/controls",
      "model_module_version": "1.5.0",
      "model_name": "DescriptionStyleModel",
      "state": {
       "_model_module": "@jupyter-widgets/controls",
       "_model_module_version": "1.5.0",
       "_model_name": "DescriptionStyleModel",
       "_view_count": null,
       "_view_module": "@jupyter-widgets/base",
       "_view_module_version": "1.2.0",
       "_view_name": "StyleView",
       "description_width": ""
      }
     },
     "80bf98bbf5fb4364a9688aa26369e7ad": {
      "model_module": "@jupyter-widgets/base",
      "model_module_version": "1.2.0",
      "model_name": "LayoutModel",
      "state": {
       "_model_module": "@jupyter-widgets/base",
       "_model_module_version": "1.2.0",
       "_model_name": "LayoutModel",
       "_view_count": null,
       "_view_module": "@jupyter-widgets/base",
       "_view_module_version": "1.2.0",
       "_view_name": "LayoutView",
       "align_content": null,
       "align_items": null,
       "align_self": null,
       "border": null,
       "bottom": null,
       "display": null,
       "flex": null,
       "flex_flow": null,
       "grid_area": null,
       "grid_auto_columns": null,
       "grid_auto_flow": null,
       "grid_auto_rows": null,
       "grid_column": null,
       "grid_gap": null,
       "grid_row": null,
       "grid_template_areas": null,
       "grid_template_columns": null,
       "grid_template_rows": null,
       "height": null,
       "justify_content": null,
       "justify_items": null,
       "left": null,
       "margin": null,
       "max_height": null,
       "max_width": null,
       "min_height": null,
       "min_width": null,
       "object_fit": null,
       "object_position": null,
       "order": null,
       "overflow": null,
       "overflow_x": null,
       "overflow_y": null,
       "padding": null,
       "right": null,
       "top": null,
       "visibility": null,
       "width": null
      }
     },
     "854edd71063c44448f66634af722eef0": {
      "model_module": "@jupyter-widgets/controls",
      "model_module_version": "1.5.0",
      "model_name": "DescriptionStyleModel",
      "state": {
       "_model_module": "@jupyter-widgets/controls",
       "_model_module_version": "1.5.0",
       "_model_name": "DescriptionStyleModel",
       "_view_count": null,
       "_view_module": "@jupyter-widgets/base",
       "_view_module_version": "1.2.0",
       "_view_name": "StyleView",
       "description_width": ""
      }
     },
     "8599d9d29df649fcb847c32ce3f9a5b8": {
      "model_module": "@jupyter-widgets/base",
      "model_module_version": "1.2.0",
      "model_name": "LayoutModel",
      "state": {
       "_model_module": "@jupyter-widgets/base",
       "_model_module_version": "1.2.0",
       "_model_name": "LayoutModel",
       "_view_count": null,
       "_view_module": "@jupyter-widgets/base",
       "_view_module_version": "1.2.0",
       "_view_name": "LayoutView",
       "align_content": null,
       "align_items": null,
       "align_self": null,
       "border": null,
       "bottom": null,
       "display": null,
       "flex": null,
       "flex_flow": null,
       "grid_area": null,
       "grid_auto_columns": null,
       "grid_auto_flow": null,
       "grid_auto_rows": null,
       "grid_column": null,
       "grid_gap": null,
       "grid_row": null,
       "grid_template_areas": null,
       "grid_template_columns": null,
       "grid_template_rows": null,
       "height": null,
       "justify_content": null,
       "justify_items": null,
       "left": null,
       "margin": null,
       "max_height": null,
       "max_width": null,
       "min_height": null,
       "min_width": null,
       "object_fit": null,
       "object_position": null,
       "order": null,
       "overflow": null,
       "overflow_x": null,
       "overflow_y": null,
       "padding": null,
       "right": null,
       "top": null,
       "visibility": null,
       "width": null
      }
     },
     "8912944a8e334e75aacf87b71b0273fe": {
      "model_module": "@jupyter-widgets/base",
      "model_module_version": "1.2.0",
      "model_name": "LayoutModel",
      "state": {
       "_model_module": "@jupyter-widgets/base",
       "_model_module_version": "1.2.0",
       "_model_name": "LayoutModel",
       "_view_count": null,
       "_view_module": "@jupyter-widgets/base",
       "_view_module_version": "1.2.0",
       "_view_name": "LayoutView",
       "align_content": null,
       "align_items": null,
       "align_self": null,
       "border": null,
       "bottom": null,
       "display": null,
       "flex": null,
       "flex_flow": null,
       "grid_area": null,
       "grid_auto_columns": null,
       "grid_auto_flow": null,
       "grid_auto_rows": null,
       "grid_column": null,
       "grid_gap": null,
       "grid_row": null,
       "grid_template_areas": null,
       "grid_template_columns": null,
       "grid_template_rows": null,
       "height": null,
       "justify_content": null,
       "justify_items": null,
       "left": null,
       "margin": null,
       "max_height": null,
       "max_width": null,
       "min_height": null,
       "min_width": null,
       "object_fit": null,
       "object_position": null,
       "order": null,
       "overflow": null,
       "overflow_x": null,
       "overflow_y": null,
       "padding": null,
       "right": null,
       "top": null,
       "visibility": null,
       "width": null
      }
     },
     "8c68ec2936614571a4fc3a5fba86fb95": {
      "model_module": "@jupyter-widgets/base",
      "model_module_version": "1.2.0",
      "model_name": "LayoutModel",
      "state": {
       "_model_module": "@jupyter-widgets/base",
       "_model_module_version": "1.2.0",
       "_model_name": "LayoutModel",
       "_view_count": null,
       "_view_module": "@jupyter-widgets/base",
       "_view_module_version": "1.2.0",
       "_view_name": "LayoutView",
       "align_content": null,
       "align_items": null,
       "align_self": null,
       "border": null,
       "bottom": null,
       "display": null,
       "flex": null,
       "flex_flow": null,
       "grid_area": null,
       "grid_auto_columns": null,
       "grid_auto_flow": null,
       "grid_auto_rows": null,
       "grid_column": null,
       "grid_gap": null,
       "grid_row": null,
       "grid_template_areas": null,
       "grid_template_columns": null,
       "grid_template_rows": null,
       "height": null,
       "justify_content": null,
       "justify_items": null,
       "left": null,
       "margin": null,
       "max_height": null,
       "max_width": null,
       "min_height": null,
       "min_width": null,
       "object_fit": null,
       "object_position": null,
       "order": null,
       "overflow": null,
       "overflow_x": null,
       "overflow_y": null,
       "padding": null,
       "right": null,
       "top": null,
       "visibility": null,
       "width": null
      }
     },
     "8e1864b5e1ee4c73830d1d4b191a6465": {
      "model_module": "@jupyter-widgets/controls",
      "model_module_version": "1.5.0",
      "model_name": "FloatProgressModel",
      "state": {
       "_dom_classes": [],
       "_model_module": "@jupyter-widgets/controls",
       "_model_module_version": "1.5.0",
       "_model_name": "FloatProgressModel",
       "_view_count": null,
       "_view_module": "@jupyter-widgets/controls",
       "_view_module_version": "1.5.0",
       "_view_name": "ProgressView",
       "bar_style": "success",
       "description": "",
       "description_tooltip": null,
       "layout": "IPY_MODEL_ab1391d56c6b47be882d3e4d3cf41ae6",
       "max": 1961828.0,
       "min": 0.0,
       "orientation": "horizontal",
       "style": "IPY_MODEL_5ffbc0e41ed940719363bd5ea1f4b70a",
       "value": 1961828.0
      }
     },
     "8ee2247df4f44862bcfb8848091d5e6c": {
      "model_module": "@jupyter-widgets/controls",
      "model_module_version": "1.5.0",
      "model_name": "HTMLModel",
      "state": {
       "_dom_classes": [],
       "_model_module": "@jupyter-widgets/controls",
       "_model_module_version": "1.5.0",
       "_model_name": "HTMLModel",
       "_view_count": null,
       "_view_module": "@jupyter-widgets/controls",
       "_view_module_version": "1.5.0",
       "_view_name": "HTMLView",
       "description": "",
       "description_tooltip": null,
       "layout": "IPY_MODEL_42f00165752f40ceb4a227d86f748cd0",
       "placeholder": "​",
       "style": "IPY_MODEL_375f8a7421b34c18addf5a3cdf311281",
       "value": " 972k/972k [00:00&lt;00:00, 1.89MB/s]"
      }
     },
     "90e488d5f0f34a8084a553ef05ff8639": {
      "model_module": "@jupyter-widgets/controls",
      "model_module_version": "1.5.0",
      "model_name": "HTMLModel",
      "state": {
       "_dom_classes": [],
       "_model_module": "@jupyter-widgets/controls",
       "_model_module_version": "1.5.0",
       "_model_name": "HTMLModel",
       "_view_count": null,
       "_view_module": "@jupyter-widgets/controls",
       "_view_module_version": "1.5.0",
       "_view_name": "HTMLView",
       "description": "",
       "description_tooltip": null,
       "layout": "IPY_MODEL_983bcbdd29d14407bdf60c384d8b897a",
       "placeholder": "​",
       "style": "IPY_MODEL_9fbcf8c0eb784b159efa2a1a06cac90b",
       "value": " 29.0/29.0 [00:00&lt;00:00, 864B/s]"
      }
     },
     "977f2d11e97e45c48e3afc5ce3f50c44": {
      "model_module": "@jupyter-widgets/controls",
      "model_module_version": "1.5.0",
      "model_name": "DescriptionStyleModel",
      "state": {
       "_model_module": "@jupyter-widgets/controls",
       "_model_module_version": "1.5.0",
       "_model_name": "DescriptionStyleModel",
       "_view_count": null,
       "_view_module": "@jupyter-widgets/base",
       "_view_module_version": "1.2.0",
       "_view_name": "StyleView",
       "description_width": ""
      }
     },
     "983bcbdd29d14407bdf60c384d8b897a": {
      "model_module": "@jupyter-widgets/base",
      "model_module_version": "1.2.0",
      "model_name": "LayoutModel",
      "state": {
       "_model_module": "@jupyter-widgets/base",
       "_model_module_version": "1.2.0",
       "_model_name": "LayoutModel",
       "_view_count": null,
       "_view_module": "@jupyter-widgets/base",
       "_view_module_version": "1.2.0",
       "_view_name": "LayoutView",
       "align_content": null,
       "align_items": null,
       "align_self": null,
       "border": null,
       "bottom": null,
       "display": null,
       "flex": null,
       "flex_flow": null,
       "grid_area": null,
       "grid_auto_columns": null,
       "grid_auto_flow": null,
       "grid_auto_rows": null,
       "grid_column": null,
       "grid_gap": null,
       "grid_row": null,
       "grid_template_areas": null,
       "grid_template_columns": null,
       "grid_template_rows": null,
       "height": null,
       "justify_content": null,
       "justify_items": null,
       "left": null,
       "margin": null,
       "max_height": null,
       "max_width": null,
       "min_height": null,
       "min_width": null,
       "object_fit": null,
       "object_position": null,
       "order": null,
       "overflow": null,
       "overflow_x": null,
       "overflow_y": null,
       "padding": null,
       "right": null,
       "top": null,
       "visibility": null,
       "width": null
      }
     },
     "9fbcf8c0eb784b159efa2a1a06cac90b": {
      "model_module": "@jupyter-widgets/controls",
      "model_module_version": "1.5.0",
      "model_name": "DescriptionStyleModel",
      "state": {
       "_model_module": "@jupyter-widgets/controls",
       "_model_module_version": "1.5.0",
       "_model_name": "DescriptionStyleModel",
       "_view_count": null,
       "_view_module": "@jupyter-widgets/base",
       "_view_module_version": "1.2.0",
       "_view_name": "StyleView",
       "description_width": ""
      }
     },
     "9fc5adb708fc495eac2c3dd7b676ddac": {
      "model_module": "@jupyter-widgets/controls",
      "model_module_version": "1.5.0",
      "model_name": "DescriptionStyleModel",
      "state": {
       "_model_module": "@jupyter-widgets/controls",
       "_model_module_version": "1.5.0",
       "_model_name": "DescriptionStyleModel",
       "_view_count": null,
       "_view_module": "@jupyter-widgets/base",
       "_view_module_version": "1.2.0",
       "_view_name": "StyleView",
       "description_width": ""
      }
     },
     "a6d91af6f56f43409d73250198a19b61": {
      "model_module": "@jupyter-widgets/controls",
      "model_module_version": "1.5.0",
      "model_name": "HTMLModel",
      "state": {
       "_dom_classes": [],
       "_model_module": "@jupyter-widgets/controls",
       "_model_module_version": "1.5.0",
       "_model_name": "HTMLModel",
       "_view_count": null,
       "_view_module": "@jupyter-widgets/controls",
       "_view_module_version": "1.5.0",
       "_view_name": "HTMLView",
       "description": "",
       "description_tooltip": null,
       "layout": "IPY_MODEL_24c89214cfd8401391e158a617f1553c",
       "placeholder": "​",
       "style": "IPY_MODEL_8023987c4cfd4b1fba0aab43894ca1e5",
       "value": "Downloading: 100%"
      }
     },
     "a9a2419bcfa44f2c9feab1cb14d5fdeb": {
      "model_module": "@jupyter-widgets/base",
      "model_module_version": "1.2.0",
      "model_name": "LayoutModel",
      "state": {
       "_model_module": "@jupyter-widgets/base",
       "_model_module_version": "1.2.0",
       "_model_name": "LayoutModel",
       "_view_count": null,
       "_view_module": "@jupyter-widgets/base",
       "_view_module_version": "1.2.0",
       "_view_name": "LayoutView",
       "align_content": null,
       "align_items": null,
       "align_self": null,
       "border": null,
       "bottom": null,
       "display": null,
       "flex": null,
       "flex_flow": null,
       "grid_area": null,
       "grid_auto_columns": null,
       "grid_auto_flow": null,
       "grid_auto_rows": null,
       "grid_column": null,
       "grid_gap": null,
       "grid_row": null,
       "grid_template_areas": null,
       "grid_template_columns": null,
       "grid_template_rows": null,
       "height": null,
       "justify_content": null,
       "justify_items": null,
       "left": null,
       "margin": null,
       "max_height": null,
       "max_width": null,
       "min_height": null,
       "min_width": null,
       "object_fit": null,
       "object_position": null,
       "order": null,
       "overflow": null,
       "overflow_x": null,
       "overflow_y": null,
       "padding": null,
       "right": null,
       "top": null,
       "visibility": null,
       "width": null
      }
     },
     "ab1391d56c6b47be882d3e4d3cf41ae6": {
      "model_module": "@jupyter-widgets/base",
      "model_module_version": "1.2.0",
      "model_name": "LayoutModel",
      "state": {
       "_model_module": "@jupyter-widgets/base",
       "_model_module_version": "1.2.0",
       "_model_name": "LayoutModel",
       "_view_count": null,
       "_view_module": "@jupyter-widgets/base",
       "_view_module_version": "1.2.0",
       "_view_name": "LayoutView",
       "align_content": null,
       "align_items": null,
       "align_self": null,
       "border": null,
       "bottom": null,
       "display": null,
       "flex": null,
       "flex_flow": null,
       "grid_area": null,
       "grid_auto_columns": null,
       "grid_auto_flow": null,
       "grid_auto_rows": null,
       "grid_column": null,
       "grid_gap": null,
       "grid_row": null,
       "grid_template_areas": null,
       "grid_template_columns": null,
       "grid_template_rows": null,
       "height": null,
       "justify_content": null,
       "justify_items": null,
       "left": null,
       "margin": null,
       "max_height": null,
       "max_width": null,
       "min_height": null,
       "min_width": null,
       "object_fit": null,
       "object_position": null,
       "order": null,
       "overflow": null,
       "overflow_x": null,
       "overflow_y": null,
       "padding": null,
       "right": null,
       "top": null,
       "visibility": null,
       "width": null
      }
     },
     "b39226b3bef54017bd93cf201fb6805a": {
      "model_module": "@jupyter-widgets/controls",
      "model_module_version": "1.5.0",
      "model_name": "DescriptionStyleModel",
      "state": {
       "_model_module": "@jupyter-widgets/controls",
       "_model_module_version": "1.5.0",
       "_model_name": "DescriptionStyleModel",
       "_view_count": null,
       "_view_module": "@jupyter-widgets/base",
       "_view_module_version": "1.2.0",
       "_view_name": "StyleView",
       "description_width": ""
      }
     },
     "b6163e8d7a6c4c6bb81622ce972a0269": {
      "model_module": "@jupyter-widgets/controls",
      "model_module_version": "1.5.0",
      "model_name": "HTMLModel",
      "state": {
       "_dom_classes": [],
       "_model_module": "@jupyter-widgets/controls",
       "_model_module_version": "1.5.0",
       "_model_name": "HTMLModel",
       "_view_count": null,
       "_view_module": "@jupyter-widgets/controls",
       "_view_module_version": "1.5.0",
       "_view_name": "HTMLView",
       "description": "",
       "description_tooltip": null,
       "layout": "IPY_MODEL_a9a2419bcfa44f2c9feab1cb14d5fdeb",
       "placeholder": "​",
       "style": "IPY_MODEL_de975e681db94ea5a42fcb3b4d9414ca",
       "value": " 625/625 [00:00&lt;00:00, 18.8kB/s]"
      }
     },
     "b69c550afe0d495799bd2984cbba07ec": {
      "model_module": "@jupyter-widgets/base",
      "model_module_version": "1.2.0",
      "model_name": "LayoutModel",
      "state": {
       "_model_module": "@jupyter-widgets/base",
       "_model_module_version": "1.2.0",
       "_model_name": "LayoutModel",
       "_view_count": null,
       "_view_module": "@jupyter-widgets/base",
       "_view_module_version": "1.2.0",
       "_view_name": "LayoutView",
       "align_content": null,
       "align_items": null,
       "align_self": null,
       "border": null,
       "bottom": null,
       "display": null,
       "flex": null,
       "flex_flow": null,
       "grid_area": null,
       "grid_auto_columns": null,
       "grid_auto_flow": null,
       "grid_auto_rows": null,
       "grid_column": null,
       "grid_gap": null,
       "grid_row": null,
       "grid_template_areas": null,
       "grid_template_columns": null,
       "grid_template_rows": null,
       "height": null,
       "justify_content": null,
       "justify_items": null,
       "left": null,
       "margin": null,
       "max_height": null,
       "max_width": null,
       "min_height": null,
       "min_width": null,
       "object_fit": null,
       "object_position": null,
       "order": null,
       "overflow": null,
       "overflow_x": null,
       "overflow_y": null,
       "padding": null,
       "right": null,
       "top": null,
       "visibility": null,
       "width": null
      }
     },
     "bca9d596bf374cf3973ae302ca2f08fa": {
      "model_module": "@jupyter-widgets/base",
      "model_module_version": "1.2.0",
      "model_name": "LayoutModel",
      "state": {
       "_model_module": "@jupyter-widgets/base",
       "_model_module_version": "1.2.0",
       "_model_name": "LayoutModel",
       "_view_count": null,
       "_view_module": "@jupyter-widgets/base",
       "_view_module_version": "1.2.0",
       "_view_name": "LayoutView",
       "align_content": null,
       "align_items": null,
       "align_self": null,
       "border": null,
       "bottom": null,
       "display": null,
       "flex": null,
       "flex_flow": null,
       "grid_area": null,
       "grid_auto_columns": null,
       "grid_auto_flow": null,
       "grid_auto_rows": null,
       "grid_column": null,
       "grid_gap": null,
       "grid_row": null,
       "grid_template_areas": null,
       "grid_template_columns": null,
       "grid_template_rows": null,
       "height": null,
       "justify_content": null,
       "justify_items": null,
       "left": null,
       "margin": null,
       "max_height": null,
       "max_width": null,
       "min_height": null,
       "min_width": null,
       "object_fit": null,
       "object_position": null,
       "order": null,
       "overflow": null,
       "overflow_x": null,
       "overflow_y": null,
       "padding": null,
       "right": null,
       "top": null,
       "visibility": null,
       "width": null
      }
     },
     "cfe787802ee44ac8ae17c1d6e46aaec7": {
      "model_module": "@jupyter-widgets/base",
      "model_module_version": "1.2.0",
      "model_name": "LayoutModel",
      "state": {
       "_model_module": "@jupyter-widgets/base",
       "_model_module_version": "1.2.0",
       "_model_name": "LayoutModel",
       "_view_count": null,
       "_view_module": "@jupyter-widgets/base",
       "_view_module_version": "1.2.0",
       "_view_name": "LayoutView",
       "align_content": null,
       "align_items": null,
       "align_self": null,
       "border": null,
       "bottom": null,
       "display": null,
       "flex": null,
       "flex_flow": null,
       "grid_area": null,
       "grid_auto_columns": null,
       "grid_auto_flow": null,
       "grid_auto_rows": null,
       "grid_column": null,
       "grid_gap": null,
       "grid_row": null,
       "grid_template_areas": null,
       "grid_template_columns": null,
       "grid_template_rows": null,
       "height": null,
       "justify_content": null,
       "justify_items": null,
       "left": null,
       "margin": null,
       "max_height": null,
       "max_width": null,
       "min_height": null,
       "min_width": null,
       "object_fit": null,
       "object_position": null,
       "order": null,
       "overflow": null,
       "overflow_x": null,
       "overflow_y": null,
       "padding": null,
       "right": null,
       "top": null,
       "visibility": null,
       "width": null
      }
     },
     "d3d2bc44e303442badda49ddf0036fea": {
      "model_module": "@jupyter-widgets/controls",
      "model_module_version": "1.5.0",
      "model_name": "HBoxModel",
      "state": {
       "_dom_classes": [],
       "_model_module": "@jupyter-widgets/controls",
       "_model_module_version": "1.5.0",
       "_model_name": "HBoxModel",
       "_view_count": null,
       "_view_module": "@jupyter-widgets/controls",
       "_view_module_version": "1.5.0",
       "_view_name": "HBoxView",
       "box_style": "",
       "children": [
        "IPY_MODEL_e62dbc005c0849beb41cbd67c66dde46",
        "IPY_MODEL_72bb97afb53446e099848d01aeb5d825",
        "IPY_MODEL_b6163e8d7a6c4c6bb81622ce972a0269"
       ],
       "layout": "IPY_MODEL_8912944a8e334e75aacf87b71b0273fe"
      }
     },
     "d8944ccbc9434b0490bdf51ed28a34d8": {
      "model_module": "@jupyter-widgets/controls",
      "model_module_version": "1.5.0",
      "model_name": "FloatProgressModel",
      "state": {
       "_dom_classes": [],
       "_model_module": "@jupyter-widgets/controls",
       "_model_module_version": "1.5.0",
       "_model_name": "FloatProgressModel",
       "_view_count": null,
       "_view_module": "@jupyter-widgets/controls",
       "_view_module_version": "1.5.0",
       "_view_name": "ProgressView",
       "bar_style": "success",
       "description": "",
       "description_tooltip": null,
       "layout": "IPY_MODEL_1f50d050c5f4400d97489961e764dbcc",
       "max": 995526.0,
       "min": 0.0,
       "orientation": "horizontal",
       "style": "IPY_MODEL_eb79fea9cb6e404da3e197ea596453b6",
       "value": 995526.0
      }
     },
     "dca9f8f6cdb041959ebcab46dcef8834": {
      "model_module": "@jupyter-widgets/controls",
      "model_module_version": "1.5.0",
      "model_name": "HTMLModel",
      "state": {
       "_dom_classes": [],
       "_model_module": "@jupyter-widgets/controls",
       "_model_module_version": "1.5.0",
       "_model_name": "HTMLModel",
       "_view_count": null,
       "_view_module": "@jupyter-widgets/controls",
       "_view_module_version": "1.5.0",
       "_view_name": "HTMLView",
       "description": "",
       "description_tooltip": null,
       "layout": "IPY_MODEL_b69c550afe0d495799bd2984cbba07ec",
       "placeholder": "​",
       "style": "IPY_MODEL_04e72b50e5d64a55a6399a621fba7bf9",
       "value": " 1.87M/1.87M [00:00&lt;00:00, 2.21MB/s]"
      }
     },
     "de975e681db94ea5a42fcb3b4d9414ca": {
      "model_module": "@jupyter-widgets/controls",
      "model_module_version": "1.5.0",
      "model_name": "DescriptionStyleModel",
      "state": {
       "_model_module": "@jupyter-widgets/controls",
       "_model_module_version": "1.5.0",
       "_model_name": "DescriptionStyleModel",
       "_view_count": null,
       "_view_module": "@jupyter-widgets/base",
       "_view_module_version": "1.2.0",
       "_view_name": "StyleView",
       "description_width": ""
      }
     },
     "e62dbc005c0849beb41cbd67c66dde46": {
      "model_module": "@jupyter-widgets/controls",
      "model_module_version": "1.5.0",
      "model_name": "HTMLModel",
      "state": {
       "_dom_classes": [],
       "_model_module": "@jupyter-widgets/controls",
       "_model_module_version": "1.5.0",
       "_model_name": "HTMLModel",
       "_view_count": null,
       "_view_module": "@jupyter-widgets/controls",
       "_view_module_version": "1.5.0",
       "_view_name": "HTMLView",
       "description": "",
       "description_tooltip": null,
       "layout": "IPY_MODEL_f476ccfe9903454f942402bf85942e56",
       "placeholder": "​",
       "style": "IPY_MODEL_9fc5adb708fc495eac2c3dd7b676ddac",
       "value": "Downloading: 100%"
      }
     },
     "eb79fea9cb6e404da3e197ea596453b6": {
      "model_module": "@jupyter-widgets/controls",
      "model_module_version": "1.5.0",
      "model_name": "ProgressStyleModel",
      "state": {
       "_model_module": "@jupyter-widgets/controls",
       "_model_module_version": "1.5.0",
       "_model_name": "ProgressStyleModel",
       "_view_count": null,
       "_view_module": "@jupyter-widgets/base",
       "_view_module_version": "1.2.0",
       "_view_name": "StyleView",
       "bar_color": null,
       "description_width": ""
      }
     },
     "f476ccfe9903454f942402bf85942e56": {
      "model_module": "@jupyter-widgets/base",
      "model_module_version": "1.2.0",
      "model_name": "LayoutModel",
      "state": {
       "_model_module": "@jupyter-widgets/base",
       "_model_module_version": "1.2.0",
       "_model_name": "LayoutModel",
       "_view_count": null,
       "_view_module": "@jupyter-widgets/base",
       "_view_module_version": "1.2.0",
       "_view_name": "LayoutView",
       "align_content": null,
       "align_items": null,
       "align_self": null,
       "border": null,
       "bottom": null,
       "display": null,
       "flex": null,
       "flex_flow": null,
       "grid_area": null,
       "grid_auto_columns": null,
       "grid_auto_flow": null,
       "grid_auto_rows": null,
       "grid_column": null,
       "grid_gap": null,
       "grid_row": null,
       "grid_template_areas": null,
       "grid_template_columns": null,
       "grid_template_rows": null,
       "height": null,
       "justify_content": null,
       "justify_items": null,
       "left": null,
       "margin": null,
       "max_height": null,
       "max_width": null,
       "min_height": null,
       "min_width": null,
       "object_fit": null,
       "object_position": null,
       "order": null,
       "overflow": null,
       "overflow_x": null,
       "overflow_y": null,
       "padding": null,
       "right": null,
       "top": null,
       "visibility": null,
       "width": null
      }
     }
    },
    "version_major": 2,
    "version_minor": 0
   }
  }
 },
 "nbformat": 4,
 "nbformat_minor": 5
}
