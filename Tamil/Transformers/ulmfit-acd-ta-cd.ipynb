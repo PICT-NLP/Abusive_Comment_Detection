{
 "cells": [
  {
   "cell_type": "code",
   "execution_count": 1,
   "id": "f265d583",
   "metadata": {
    "_cell_guid": "b1076dfc-b9ad-4769-8c92-a6c4dae69d19",
    "_uuid": "8f2839f25d086af736a60e9eeb907d3b93b6e0e5",
    "execution": {
     "iopub.execute_input": "2022-03-03T18:27:03.682066Z",
     "iopub.status.busy": "2022-03-03T18:27:03.678827Z",
     "iopub.status.idle": "2022-03-03T18:28:55.713110Z",
     "shell.execute_reply": "2022-03-03T18:28:55.713690Z",
     "shell.execute_reply.started": "2022-03-02T16:31:31.755845Z"
    },
    "papermill": {
     "duration": 112.198331,
     "end_time": "2022-03-03T18:28:55.714003",
     "exception": false,
     "start_time": "2022-03-03T18:27:03.515672",
     "status": "completed"
    },
    "tags": []
   },
   "outputs": [
    {
     "name": "stdout",
     "output_type": "stream",
     "text": [
      "Collecting fastai==1.0.61\r\n",
      "  Downloading fastai-1.0.61-py3-none-any.whl (239 kB)\r\n",
      "     |████████████████████████████████| 239 kB 627 kB/s            \r\n",
      "\u001b[?25hRequirement already satisfied: Pillow in /opt/conda/lib/python3.7/site-packages (from fastai==1.0.61) (8.2.0)\r\n",
      "Requirement already satisfied: torchvision in /opt/conda/lib/python3.7/site-packages (from fastai==1.0.61) (0.10.1)\r\n",
      "Requirement already satisfied: fastprogress>=0.2.1 in /opt/conda/lib/python3.7/site-packages (from fastai==1.0.61) (1.0.0)\r\n",
      "Requirement already satisfied: requests in /opt/conda/lib/python3.7/site-packages (from fastai==1.0.61) (2.26.0)\r\n",
      "Requirement already satisfied: beautifulsoup4 in /opt/conda/lib/python3.7/site-packages (from fastai==1.0.61) (4.10.0)\r\n",
      "Requirement already satisfied: numpy>=1.15 in /opt/conda/lib/python3.7/site-packages (from fastai==1.0.61) (1.20.3)\r\n",
      "Collecting nvidia-ml-py3\r\n",
      "  Downloading nvidia-ml-py3-7.352.0.tar.gz (19 kB)\r\n",
      "  Preparing metadata (setup.py) ... \u001b[?25l-\b \bdone\r\n",
      "\u001b[?25hRequirement already satisfied: torch>=1.0.0 in /opt/conda/lib/python3.7/site-packages (from fastai==1.0.61) (1.9.1)\r\n",
      "Requirement already satisfied: numexpr in /opt/conda/lib/python3.7/site-packages (from fastai==1.0.61) (2.8.1)\r\n",
      "Requirement already satisfied: spacy>=2.0.18 in /opt/conda/lib/python3.7/site-packages (from fastai==1.0.61) (3.2.1)\r\n",
      "Requirement already satisfied: packaging in /opt/conda/lib/python3.7/site-packages (from fastai==1.0.61) (21.3)\r\n",
      "Requirement already satisfied: bottleneck in /opt/conda/lib/python3.7/site-packages (from fastai==1.0.61) (1.3.2)\r\n",
      "Requirement already satisfied: scipy in /opt/conda/lib/python3.7/site-packages (from fastai==1.0.61) (1.7.3)\r\n",
      "Requirement already satisfied: matplotlib in /opt/conda/lib/python3.7/site-packages (from fastai==1.0.61) (3.5.1)\r\n",
      "Requirement already satisfied: pandas in /opt/conda/lib/python3.7/site-packages (from fastai==1.0.61) (1.3.5)\r\n",
      "Requirement already satisfied: pyyaml in /opt/conda/lib/python3.7/site-packages (from fastai==1.0.61) (6.0)\r\n",
      "Requirement already satisfied: setuptools in /opt/conda/lib/python3.7/site-packages (from spacy>=2.0.18->fastai==1.0.61) (59.5.0)\r\n",
      "Requirement already satisfied: cymem<2.1.0,>=2.0.2 in /opt/conda/lib/python3.7/site-packages (from spacy>=2.0.18->fastai==1.0.61) (2.0.6)\r\n",
      "Requirement already satisfied: jinja2 in /opt/conda/lib/python3.7/site-packages (from spacy>=2.0.18->fastai==1.0.61) (3.0.3)\r\n",
      "Requirement already satisfied: typer<0.5.0,>=0.3.0 in /opt/conda/lib/python3.7/site-packages (from spacy>=2.0.18->fastai==1.0.61) (0.4.0)\r\n",
      "Requirement already satisfied: thinc<8.1.0,>=8.0.12 in /opt/conda/lib/python3.7/site-packages (from spacy>=2.0.18->fastai==1.0.61) (8.0.13)\r\n",
      "Requirement already satisfied: langcodes<4.0.0,>=3.2.0 in /opt/conda/lib/python3.7/site-packages (from spacy>=2.0.18->fastai==1.0.61) (3.3.0)\r\n",
      "Requirement already satisfied: wasabi<1.1.0,>=0.8.1 in /opt/conda/lib/python3.7/site-packages (from spacy>=2.0.18->fastai==1.0.61) (0.9.0)\r\n",
      "Requirement already satisfied: catalogue<2.1.0,>=2.0.6 in /opt/conda/lib/python3.7/site-packages (from spacy>=2.0.18->fastai==1.0.61) (2.0.6)\r\n",
      "Collecting typing-extensions<4.0.0.0,>=3.7.4\r\n",
      "  Downloading typing_extensions-3.10.0.2-py3-none-any.whl (26 kB)\r\n",
      "Requirement already satisfied: srsly<3.0.0,>=2.4.1 in /opt/conda/lib/python3.7/site-packages (from spacy>=2.0.18->fastai==1.0.61) (2.4.2)\r\n",
      "Requirement already satisfied: tqdm<5.0.0,>=4.38.0 in /opt/conda/lib/python3.7/site-packages (from spacy>=2.0.18->fastai==1.0.61) (4.62.3)\r\n",
      "Requirement already satisfied: preshed<3.1.0,>=3.0.2 in /opt/conda/lib/python3.7/site-packages (from spacy>=2.0.18->fastai==1.0.61) (3.0.6)\r\n",
      "Requirement already satisfied: blis<0.8.0,>=0.4.0 in /opt/conda/lib/python3.7/site-packages (from spacy>=2.0.18->fastai==1.0.61) (0.7.5)\r\n",
      "Requirement already satisfied: spacy-loggers<2.0.0,>=1.0.0 in /opt/conda/lib/python3.7/site-packages (from spacy>=2.0.18->fastai==1.0.61) (1.0.1)\r\n",
      "Requirement already satisfied: pathy>=0.3.5 in /opt/conda/lib/python3.7/site-packages (from spacy>=2.0.18->fastai==1.0.61) (0.6.1)\r\n",
      "Requirement already satisfied: murmurhash<1.1.0,>=0.28.0 in /opt/conda/lib/python3.7/site-packages (from spacy>=2.0.18->fastai==1.0.61) (1.0.6)\r\n",
      "Requirement already satisfied: spacy-legacy<3.1.0,>=3.0.8 in /opt/conda/lib/python3.7/site-packages (from spacy>=2.0.18->fastai==1.0.61) (3.0.8)\r\n",
      "Requirement already satisfied: pydantic!=1.8,!=1.8.1,<1.9.0,>=1.7.4 in /opt/conda/lib/python3.7/site-packages (from spacy>=2.0.18->fastai==1.0.61) (1.8.2)\r\n",
      "Requirement already satisfied: pyparsing!=3.0.5,>=2.0.2 in /opt/conda/lib/python3.7/site-packages (from packaging->fastai==1.0.61) (3.0.6)\r\n",
      "Requirement already satisfied: certifi>=2017.4.17 in /opt/conda/lib/python3.7/site-packages (from requests->fastai==1.0.61) (2021.10.8)\r\n",
      "Requirement already satisfied: idna<4,>=2.5 in /opt/conda/lib/python3.7/site-packages (from requests->fastai==1.0.61) (3.1)\r\n",
      "Requirement already satisfied: urllib3<1.27,>=1.21.1 in /opt/conda/lib/python3.7/site-packages (from requests->fastai==1.0.61) (1.26.7)\r\n",
      "Requirement already satisfied: charset-normalizer~=2.0.0 in /opt/conda/lib/python3.7/site-packages (from requests->fastai==1.0.61) (2.0.9)\r\n",
      "Requirement already satisfied: soupsieve>1.2 in /opt/conda/lib/python3.7/site-packages (from beautifulsoup4->fastai==1.0.61) (2.3.1)\r\n",
      "Requirement already satisfied: fonttools>=4.22.0 in /opt/conda/lib/python3.7/site-packages (from matplotlib->fastai==1.0.61) (4.28.4)\r\n",
      "Requirement already satisfied: cycler>=0.10 in /opt/conda/lib/python3.7/site-packages (from matplotlib->fastai==1.0.61) (0.11.0)\r\n",
      "Requirement already satisfied: python-dateutil>=2.7 in /opt/conda/lib/python3.7/site-packages (from matplotlib->fastai==1.0.61) (2.8.2)\r\n",
      "Requirement already satisfied: kiwisolver>=1.0.1 in /opt/conda/lib/python3.7/site-packages (from matplotlib->fastai==1.0.61) (1.3.2)\r\n",
      "Requirement already satisfied: pytz>=2017.3 in /opt/conda/lib/python3.7/site-packages (from pandas->fastai==1.0.61) (2021.3)\r\n",
      "Requirement already satisfied: zipp>=0.5 in /opt/conda/lib/python3.7/site-packages (from catalogue<2.1.0,>=2.0.6->spacy>=2.0.18->fastai==1.0.61) (3.6.0)\r\n",
      "Requirement already satisfied: smart-open<6.0.0,>=5.0.0 in /opt/conda/lib/python3.7/site-packages (from pathy>=0.3.5->spacy>=2.0.18->fastai==1.0.61) (5.2.1)\r\n",
      "Requirement already satisfied: six>=1.5 in /opt/conda/lib/python3.7/site-packages (from python-dateutil>=2.7->matplotlib->fastai==1.0.61) (1.16.0)\r\n",
      "Requirement already satisfied: click<9.0.0,>=7.1.1 in /opt/conda/lib/python3.7/site-packages (from typer<0.5.0,>=0.3.0->spacy>=2.0.18->fastai==1.0.61) (8.0.3)\r\n",
      "Requirement already satisfied: MarkupSafe>=2.0 in /opt/conda/lib/python3.7/site-packages (from jinja2->spacy>=2.0.18->fastai==1.0.61) (2.0.1)\r\n",
      "Requirement already satisfied: importlib-metadata in /opt/conda/lib/python3.7/site-packages (from click<9.0.0,>=7.1.1->typer<0.5.0,>=0.3.0->spacy>=2.0.18->fastai==1.0.61) (4.10.1)\r\n",
      "Building wheels for collected packages: nvidia-ml-py3\r\n",
      "  Building wheel for nvidia-ml-py3 (setup.py) ... \u001b[?25l-\b \b\\\b \bdone\r\n",
      "\u001b[?25h  Created wheel for nvidia-ml-py3: filename=nvidia_ml_py3-7.352.0-py3-none-any.whl size=19191 sha256=74e10a66766dc04bc85340df16869b0559ddb580beb516fa37ff356a7798337e\r\n",
      "  Stored in directory: /root/.cache/pip/wheels/df/99/da/c34f202dc8fd1dffd35e0ecf1a7d7f8374ca05fbcbaf974b83\r\n",
      "Successfully built nvidia-ml-py3\r\n",
      "Installing collected packages: typing-extensions, nvidia-ml-py3, fastai\r\n",
      "  Attempting uninstall: typing-extensions\r\n",
      "    Found existing installation: typing-extensions 4.0.1\r\n",
      "    Uninstalling typing-extensions-4.0.1:\r\n",
      "      Successfully uninstalled typing-extensions-4.0.1\r\n",
      "  Attempting uninstall: fastai\r\n",
      "    Found existing installation: fastai 2.5.3\r\n",
      "    Uninstalling fastai-2.5.3:\r\n",
      "      Successfully uninstalled fastai-2.5.3\r\n",
      "\u001b[31mERROR: pip's dependency resolver does not currently take into account all the packages that are installed. This behaviour is the source of the following dependency conflicts.\r\n",
      "tensorflow-io 0.21.0 requires tensorflow-io-gcs-filesystem==0.21.0, which is not installed.\r\n",
      "explainable-ai-sdk 1.3.2 requires xai-image-widget, which is not installed.\r\n",
      "tensorflow 2.6.2 requires numpy~=1.19.2, but you have numpy 1.20.3 which is incompatible.\r\n",
      "tensorflow 2.6.2 requires six~=1.15.0, but you have six 1.16.0 which is incompatible.\r\n",
      "tensorflow 2.6.2 requires typing-extensions~=3.7.4, but you have typing-extensions 3.10.0.2 which is incompatible.\r\n",
      "tensorflow 2.6.2 requires wrapt~=1.12.1, but you have wrapt 1.13.3 which is incompatible.\r\n",
      "tensorflow-transform 1.5.0 requires absl-py<0.13,>=0.9, but you have absl-py 0.15.0 which is incompatible.\r\n",
      "tensorflow-transform 1.5.0 requires numpy<1.20,>=1.16, but you have numpy 1.20.3 which is incompatible.\r\n",
      "tensorflow-transform 1.5.0 requires pyarrow<6,>=1, but you have pyarrow 6.0.1 which is incompatible.\r\n",
      "tensorflow-transform 1.5.0 requires tensorflow!=2.0.*,!=2.1.*,!=2.2.*,!=2.3.*,!=2.4.*,!=2.5.*,!=2.6.*,<2.8,>=1.15.2, but you have tensorflow 2.6.2 which is incompatible.\r\n",
      "tensorflow-serving-api 2.7.0 requires tensorflow<3,>=2.7.0, but you have tensorflow 2.6.2 which is incompatible.\r\n",
      "flake8 4.0.1 requires importlib-metadata<4.3; python_version < \"3.8\", but you have importlib-metadata 4.10.1 which is incompatible.\r\n",
      "apache-beam 2.34.0 requires dill<0.3.2,>=0.3.1.1, but you have dill 0.3.4 which is incompatible.\r\n",
      "apache-beam 2.34.0 requires httplib2<0.20.0,>=0.8, but you have httplib2 0.20.2 which is incompatible.\r\n",
      "apache-beam 2.34.0 requires pyarrow<6.0.0,>=0.15.1, but you have pyarrow 6.0.1 which is incompatible.\r\n",
      "aioitertools 0.9.0 requires typing_extensions>=4.0; python_version < \"3.10\", but you have typing-extensions 3.10.0.2 which is incompatible.\r\n",
      "aiobotocore 2.1.0 requires botocore<1.23.25,>=1.23.24, but you have botocore 1.23.51 which is incompatible.\u001b[0m\r\n",
      "Successfully installed fastai-1.0.61 nvidia-ml-py3-7.352.0 typing-extensions-3.10.0.2\r\n",
      "\u001b[33mWARNING: Running pip as the 'root' user can result in broken permissions and conflicting behaviour with the system package manager. It is recommended to use a virtual environment instead: https://pip.pypa.io/warnings/venv\u001b[0m\r\n",
      "Looking in links: https://download.pytorch.org/whl/torch_stable.html\r\n",
      "Collecting torch==1.9.0+cu102\r\n",
      "  Downloading https://download.pytorch.org/whl/cu102/torch-1.9.0%2Bcu102-cp37-cp37m-linux_x86_64.whl (831.4 MB)\r\n",
      "     |████████████████████████████████| 831.4 MB 2.4 kB/s             \r\n",
      "\u001b[?25hRequirement already satisfied: typing-extensions in /opt/conda/lib/python3.7/site-packages (from torch==1.9.0+cu102) (3.10.0.2)\r\n",
      "Installing collected packages: torch\r\n",
      "  Attempting uninstall: torch\r\n",
      "    Found existing installation: torch 1.9.1\r\n",
      "    Uninstalling torch-1.9.1:\r\n",
      "      Successfully uninstalled torch-1.9.1\r\n",
      "Successfully installed torch-1.9.0+cu102\r\n",
      "\u001b[33mWARNING: Running pip as the 'root' user can result in broken permissions and conflicting behaviour with the system package manager. It is recommended to use a virtual environment instead: https://pip.pypa.io/warnings/venv\u001b[0m\r\n"
     ]
    }
   ],
   "source": [
    "#!pip3 install http://download.pytorch.org/whl/cpu/torch-1.0.0-cp36-cp36m-linux_x86_64.whl\n",
    "\n",
    "!pip install fastai==1.0.61\n",
    "!pip install torch==1.9.0+cu102 -f https://download.pytorch.org/whl/torch_stable.html"
   ]
  },
  {
   "cell_type": "code",
   "execution_count": 2,
   "id": "d76be783",
   "metadata": {
    "execution": {
     "iopub.execute_input": "2022-03-03T18:28:56.700675Z",
     "iopub.status.busy": "2022-03-03T18:28:56.699713Z",
     "iopub.status.idle": "2022-03-03T18:29:07.558932Z",
     "shell.execute_reply": "2022-03-03T18:29:07.558091Z",
     "shell.execute_reply.started": "2022-03-02T16:31:46.902201Z"
    },
    "papermill": {
     "duration": 11.362141,
     "end_time": "2022-03-03T18:29:07.559094",
     "exception": false,
     "start_time": "2022-03-03T18:28:56.196953",
     "status": "completed"
    },
    "tags": []
   },
   "outputs": [
    {
     "name": "stdout",
     "output_type": "stream",
     "text": [
      "Requirement already satisfied: sentencepiece in /opt/conda/lib/python3.7/site-packages (0.1.96)\r\n",
      "\u001b[33mWARNING: Running pip as the 'root' user can result in broken permissions and conflicting behaviour with the system package manager. It is recommended to use a virtual environment instead: https://pip.pypa.io/warnings/venv\u001b[0m\r\n"
     ]
    }
   ],
   "source": [
    "!pip install sentencepiece"
   ]
  },
  {
   "cell_type": "code",
   "execution_count": 3,
   "id": "3bd9bad5",
   "metadata": {
    "execution": {
     "iopub.execute_input": "2022-03-03T18:29:08.559100Z",
     "iopub.status.busy": "2022-03-03T18:29:08.558049Z",
     "iopub.status.idle": "2022-03-03T18:29:20.756855Z",
     "shell.execute_reply": "2022-03-03T18:29:20.757390Z",
     "shell.execute_reply.started": "2022-03-02T16:31:54.504616Z"
    },
    "papermill": {
     "duration": 12.700491,
     "end_time": "2022-03-03T18:29:20.757583",
     "exception": false,
     "start_time": "2022-03-03T18:29:08.057092",
     "status": "completed"
    },
    "tags": []
   },
   "outputs": [
    {
     "name": "stdout",
     "output_type": "stream",
     "text": [
      "[nltk_data] Downloading package words to /usr/share/nltk_data...\n",
      "[nltk_data]   Package words is already up-to-date!\n",
      "[nltk_data] Downloading package punkt to /usr/share/nltk_data...\n",
      "[nltk_data]   Package punkt is already up-to-date!\n"
     ]
    }
   ],
   "source": [
    "from fastai.text import *\n",
    "import numpy as np\n",
    "#import demoji\n",
    "import pandas as pd\n",
    "from sklearn.model_selection import train_test_split\n",
    "import pickle\n",
    "import sentencepiece as spm\n",
    "import re\n",
    "import pdb\n",
    "from sklearn.utils import shuffle\n",
    "from nltk.corpus import words\n",
    "from bs4 import BeautifulSoup\n",
    "import nltk\n",
    "nltk.download('words')\n",
    "import nltk, string, re, spacy,unicodedata, random\n",
    "nltk.download('punkt')\n",
    "from nltk.corpus import stopwords\n",
    "from nltk.tokenize import word_tokenize\n",
    "from nltk.tokenize import ToktokTokenizer\n",
    "import nltk, string, re, spacy,unicodedata, random\n",
    "from sklearn.metrics import classification_report\n",
    "from sklearn.metrics import f1_score"
   ]
  },
  {
   "cell_type": "code",
   "execution_count": 4,
   "id": "906fbaab",
   "metadata": {
    "execution": {
     "iopub.execute_input": "2022-03-03T18:29:21.749094Z",
     "iopub.status.busy": "2022-03-03T18:29:21.747184Z",
     "iopub.status.idle": "2022-03-03T18:29:21.763400Z",
     "shell.execute_reply": "2022-03-03T18:29:21.763877Z",
     "shell.execute_reply.started": "2022-03-02T16:31:54.520034Z"
    },
    "papermill": {
     "duration": 0.521433,
     "end_time": "2022-03-03T18:29:21.764050",
     "exception": false,
     "start_time": "2022-03-03T18:29:21.242617",
     "status": "completed"
    },
    "tags": []
   },
   "outputs": [
    {
     "data": {
      "text/plain": [
       "('1.0.61', '1.9.0+cu102')"
      ]
     },
     "execution_count": 4,
     "metadata": {},
     "output_type": "execute_result"
    }
   ],
   "source": [
    "import fastai, torch\n",
    "fastai.__version__ , torch.__version__"
   ]
  },
  {
   "cell_type": "code",
   "execution_count": 5,
   "id": "3bf6b9fb",
   "metadata": {
    "execution": {
     "iopub.execute_input": "2022-03-03T18:29:22.742476Z",
     "iopub.status.busy": "2022-03-03T18:29:22.740378Z",
     "iopub.status.idle": "2022-03-03T18:29:22.748127Z",
     "shell.execute_reply": "2022-03-03T18:29:22.747515Z",
     "shell.execute_reply.started": "2022-03-02T16:31:54.531477Z"
    },
    "papermill": {
     "duration": 0.502525,
     "end_time": "2022-03-03T18:29:22.748283",
     "exception": false,
     "start_time": "2022-03-03T18:29:22.245758",
     "status": "completed"
    },
    "tags": []
   },
   "outputs": [],
   "source": [
    "torch.cuda.set_device(0)"
   ]
  },
  {
   "cell_type": "code",
   "execution_count": 6,
   "id": "6f0c86d8",
   "metadata": {
    "execution": {
     "iopub.execute_input": "2022-03-03T18:29:23.757077Z",
     "iopub.status.busy": "2022-03-03T18:29:23.755954Z",
     "iopub.status.idle": "2022-03-03T18:29:23.759711Z",
     "shell.execute_reply": "2022-03-03T18:29:23.760437Z",
     "shell.execute_reply.started": "2022-03-02T16:31:54.540174Z"
    },
    "papermill": {
     "duration": 0.508674,
     "end_time": "2022-03-03T18:29:23.760626",
     "exception": false,
     "start_time": "2022-03-03T18:29:23.251952",
     "status": "completed"
    },
    "tags": []
   },
   "outputs": [],
   "source": [
    "def random_seed(seed_value, use_cuda):\n",
    "    np.random.seed(seed_value)  \n",
    "    torch.manual_seed(seed_value)  \n",
    "    random.seed(seed_value)\n",
    "    if use_cuda:\n",
    "        torch.cuda.manual_seed(seed_value)\n",
    "        torch.cuda.manual_seed_all(seed_value)  \n",
    "        torch.backends.cudnn.deterministic = True\n",
    "        torch.backends.cudnn.benchmark = False"
   ]
  },
  {
   "cell_type": "code",
   "execution_count": 7,
   "id": "938b890f",
   "metadata": {
    "execution": {
     "iopub.execute_input": "2022-03-03T18:29:24.782758Z",
     "iopub.status.busy": "2022-03-03T18:29:24.781608Z",
     "iopub.status.idle": "2022-03-03T18:29:24.784314Z",
     "shell.execute_reply": "2022-03-03T18:29:24.783646Z",
     "shell.execute_reply.started": "2022-03-02T16:31:54.54815Z"
    },
    "papermill": {
     "duration": 0.517768,
     "end_time": "2022-03-03T18:29:24.784456",
     "exception": false,
     "start_time": "2022-03-03T18:29:24.266688",
     "status": "completed"
    },
    "tags": []
   },
   "outputs": [],
   "source": [
    "random_seed(42, True)"
   ]
  },
  {
   "cell_type": "code",
   "execution_count": 8,
   "id": "16a8c9cd",
   "metadata": {
    "execution": {
     "iopub.execute_input": "2022-03-03T18:29:25.823656Z",
     "iopub.status.busy": "2022-03-03T18:29:25.822699Z",
     "iopub.status.idle": "2022-03-03T18:29:25.965831Z",
     "shell.execute_reply": "2022-03-03T18:29:25.965268Z",
     "shell.execute_reply.started": "2022-03-02T16:31:54.557414Z"
    },
    "papermill": {
     "duration": 0.649337,
     "end_time": "2022-03-03T18:29:25.965979",
     "exception": false,
     "start_time": "2022-03-03T18:29:25.316642",
     "status": "completed"
    },
    "tags": []
   },
   "outputs": [],
   "source": [
    "# Train Data\n",
    "df_train_en = pd.read_csv('../input/tamilmisodatanew/ta-en-misogyny-train.csv', sep='\\t', header=None)\n",
    "df_train_ta = pd.read_csv('../input/tamilmisodatanew/ta-misogyny-train.csv', sep='\\t', header=None)\n",
    "\n",
    "# Dev Data\n",
    "df_dev_en = pd.read_csv('../input/tamilmisodatanew/ta-en-misogyny-dev.csv', sep='\\t', header=None)\n",
    "df_dev_ta = pd.read_csv('../input/tamilmisodatanew/ta-misogyny-dev.csv', sep='\\t', header=None)\n",
    "\n",
    "# Test Data\n",
    "df_test_en = pd.read_csv('../input/tamilmisodatanew/ta-en-misogyny-test.csv', sep='\\t', header=None)\n",
    "df_test_ta = pd.read_csv('../input/tamilmisodatanew/ta-misogyny-test.csv', sep='\\t', header=None)"
   ]
  },
  {
   "cell_type": "code",
   "execution_count": 9,
   "id": "ee516c53",
   "metadata": {
    "execution": {
     "iopub.execute_input": "2022-03-03T18:29:27.727114Z",
     "iopub.status.busy": "2022-03-03T18:29:27.725738Z",
     "iopub.status.idle": "2022-03-03T18:29:27.728897Z",
     "shell.execute_reply": "2022-03-03T18:29:27.728056Z",
     "shell.execute_reply.started": "2022-03-02T16:31:54.638353Z"
    },
    "papermill": {
     "duration": 1.271384,
     "end_time": "2022-03-03T18:29:27.729104",
     "exception": false,
     "start_time": "2022-03-03T18:29:26.457720",
     "status": "completed"
    },
    "tags": []
   },
   "outputs": [],
   "source": [
    "path = Path('./')"
   ]
  },
  {
   "cell_type": "code",
   "execution_count": 10,
   "id": "2406222e",
   "metadata": {
    "execution": {
     "iopub.execute_input": "2022-03-03T18:29:28.981719Z",
     "iopub.status.busy": "2022-03-03T18:29:28.980526Z",
     "iopub.status.idle": "2022-03-03T18:29:29.745519Z",
     "shell.execute_reply": "2022-03-03T18:29:29.744958Z",
     "shell.execute_reply.started": "2022-03-02T16:31:54.646885Z"
    },
    "papermill": {
     "duration": 1.269385,
     "end_time": "2022-03-03T18:29:29.745676",
     "exception": false,
     "start_time": "2022-03-03T18:29:28.476291",
     "status": "completed"
    },
    "tags": []
   },
   "outputs": [
    {
     "name": "stdout",
     "output_type": "stream",
     "text": [
      "/kaggle/working\r\n"
     ]
    }
   ],
   "source": [
    "!pwd"
   ]
  },
  {
   "cell_type": "code",
   "execution_count": 11,
   "id": "4fe23cad",
   "metadata": {
    "execution": {
     "iopub.execute_input": "2022-03-03T18:29:30.743415Z",
     "iopub.status.busy": "2022-03-03T18:29:30.742365Z",
     "iopub.status.idle": "2022-03-03T18:29:30.756240Z",
     "shell.execute_reply": "2022-03-03T18:29:30.755626Z",
     "shell.execute_reply.started": "2022-03-02T16:31:55.367625Z"
    },
    "papermill": {
     "duration": 0.515297,
     "end_time": "2022-03-03T18:29:30.756385",
     "exception": false,
     "start_time": "2022-03-03T18:29:30.241088",
     "status": "completed"
    },
    "tags": []
   },
   "outputs": [],
   "source": [
    "cat2ind = {'None-of-the-above': 0,\n",
    " 'Transphobic': 1,\n",
    " 'Counter-speech': 2,\n",
    " 'Misandry': 3,\n",
    " 'Homophobia': 4,\n",
    " 'Hope-Speech': 5,\n",
    " 'Xenophobia': 6,\n",
    " 'Misogyny': 7,\n",
    " 'Not-Tamil': 8}\n",
    "\n",
    "ind2cat = dict()\n",
    "for i in cat2ind:\n",
    "    ind2cat[cat2ind[i]] = i\n",
    "\n",
    "def restructure_df(df):\n",
    "    txts = df[1].tolist()\n",
    "    labs = df[0].tolist()\n",
    "    labs_new = []\n",
    "    for i in labs:\n",
    "        labs_new.append(ind2cat[i])\n",
    "    return pd.DataFrame({0:labs_new, 1:txts})\n",
    "\n",
    "def over_under_sample(df, shuffle = True):\n",
    "    def sample(rows, req_len):\n",
    "        return [rows[i%len(rows)] for i in range(req_len)]\n",
    "\n",
    "    if shuffle:\n",
    "        df.sample(frac=1).reset_index(drop=True)\n",
    "    data_dict = {'Misandry': [], 'Misogyny': [], 'Xenophobia': [], 'None-of-the-above': [], 'Hope-Speech': [], 'Counter-speech': [], 'Transphobic': [], 'Homophobia': [], 'Not-Tamil': []}\n",
    "\n",
    "    for i in range(len(df)):\n",
    "        data_dict[df[0][i]].append(list(df.iloc[i]))\n",
    "    \n",
    "    req_len = len(df)//len(data_dict)\n",
    "\n",
    "    for lab in data_dict:\n",
    "        data_dict[lab] = sample(data_dict[lab], req_len)\n",
    "    df_rows = []\n",
    "    for lab in data_dict:\n",
    "        df_rows += data_dict[lab]\n",
    "    df_new = pd.DataFrame(df_rows, columns = list(df.columns))\n",
    "    if shuffle:\n",
    "        df_new = df_new.sample(frac=1).reset_index(drop=True)\n",
    "    return df_new"
   ]
  },
  {
   "cell_type": "code",
   "execution_count": 12,
   "id": "2cdeecfc",
   "metadata": {
    "execution": {
     "iopub.execute_input": "2022-03-03T18:29:31.744407Z",
     "iopub.status.busy": "2022-03-03T18:29:31.742638Z",
     "iopub.status.idle": "2022-03-03T18:29:31.745832Z",
     "shell.execute_reply": "2022-03-03T18:29:31.746408Z",
     "shell.execute_reply.started": "2022-03-02T16:31:55.384358Z"
    },
    "papermill": {
     "duration": 0.507485,
     "end_time": "2022-03-03T18:29:31.746608",
     "exception": false,
     "start_time": "2022-03-03T18:29:31.239123",
     "status": "completed"
    },
    "tags": []
   },
   "outputs": [],
   "source": [
    "# df_train.shape, df_valid.shape, df_test.shape"
   ]
  },
  {
   "cell_type": "code",
   "execution_count": 13,
   "id": "05286530",
   "metadata": {
    "execution": {
     "iopub.execute_input": "2022-03-03T18:29:32.752884Z",
     "iopub.status.busy": "2022-03-03T18:29:32.752230Z",
     "iopub.status.idle": "2022-03-03T18:29:32.757154Z",
     "shell.execute_reply": "2022-03-03T18:29:32.757870Z",
     "shell.execute_reply.started": "2022-03-02T16:31:55.394591Z"
    },
    "papermill": {
     "duration": 0.507144,
     "end_time": "2022-03-03T18:29:32.758039",
     "exception": false,
     "start_time": "2022-03-03T18:29:32.250895",
     "status": "completed"
    },
    "tags": []
   },
   "outputs": [],
   "source": [
    "df_train = pd.DataFrame({0: df_train_ta[0].tolist() +df_train_en[0].tolist(), 1: df_train_ta[1].tolist() +df_train_en[1].tolist()})\n",
    "df_valid = df_dev_ta\n",
    "df_test = df_test_ta"
   ]
  },
  {
   "cell_type": "code",
   "execution_count": 14,
   "id": "f8c3368a",
   "metadata": {
    "execution": {
     "iopub.execute_input": "2022-03-03T18:29:33.730807Z",
     "iopub.status.busy": "2022-03-03T18:29:33.730013Z",
     "iopub.status.idle": "2022-03-03T18:29:33.744634Z",
     "shell.execute_reply": "2022-03-03T18:29:33.745220Z",
     "shell.execute_reply.started": "2022-03-02T16:31:55.404595Z"
    },
    "papermill": {
     "duration": 0.508981,
     "end_time": "2022-03-03T18:29:33.745382",
     "exception": false,
     "start_time": "2022-03-03T18:29:33.236401",
     "status": "completed"
    },
    "tags": []
   },
   "outputs": [
    {
     "data": {
      "text/html": [
       "<div>\n",
       "<style scoped>\n",
       "    .dataframe tbody tr th:only-of-type {\n",
       "        vertical-align: middle;\n",
       "    }\n",
       "\n",
       "    .dataframe tbody tr th {\n",
       "        vertical-align: top;\n",
       "    }\n",
       "\n",
       "    .dataframe thead th {\n",
       "        text-align: right;\n",
       "    }\n",
       "</style>\n",
       "<table border=\"1\" class=\"dataframe\">\n",
       "  <thead>\n",
       "    <tr style=\"text-align: right;\">\n",
       "      <th></th>\n",
       "      <th>0</th>\n",
       "      <th>1</th>\n",
       "    </tr>\n",
       "  </thead>\n",
       "  <tbody>\n",
       "    <tr>\n",
       "      <th>0</th>\n",
       "      <td>Hope-Speech</td>\n",
       "      <td>உங்கள் பேச்சை எதிர்பார்த்தேன். நல்ல விளக்கம்  ...</td>\n",
       "    </tr>\n",
       "    <tr>\n",
       "      <th>1</th>\n",
       "      <td>None-of-the-above</td>\n",
       "      <td>எச். ராசாவால் இராமருக்கே  இழிவு. இவர் எல்லாம் ...</td>\n",
       "    </tr>\n",
       "    <tr>\n",
       "      <th>2</th>\n",
       "      <td>None-of-the-above</td>\n",
       "      <td>கல்யாணம்னு  வரும்போது தான் சாதி முக்கியம் எங்க...</td>\n",
       "    </tr>\n",
       "    <tr>\n",
       "      <th>3</th>\n",
       "      <td>None-of-the-above</td>\n",
       "      <td>Tentu Kottai ஐயா நான் தமிழ் இந்து.</td>\n",
       "    </tr>\n",
       "    <tr>\n",
       "      <th>4</th>\n",
       "      <td>Homophobia</td>\n",
       "      <td>Tamil selvan  அடே தேவடியாவுக்கு பிரந்தவனே பச்ச...</td>\n",
       "    </tr>\n",
       "    <tr>\n",
       "      <th>...</th>\n",
       "      <td>...</td>\n",
       "      <td>...</td>\n",
       "    </tr>\n",
       "    <tr>\n",
       "      <th>8183</th>\n",
       "      <td>None-of-the-above</td>\n",
       "      <td>Noq day having no caste no religious certificate</td>\n",
       "    </tr>\n",
       "    <tr>\n",
       "      <th>8184</th>\n",
       "      <td>None-of-the-above</td>\n",
       "      <td>Mimicry escape aitaru bro. 😂</td>\n",
       "    </tr>\n",
       "    <tr>\n",
       "      <th>8185</th>\n",
       "      <td>None-of-the-above</td>\n",
       "      <td>Rajesh R  u age u from</td>\n",
       "    </tr>\n",
       "    <tr>\n",
       "      <th>8186</th>\n",
       "      <td>Counter-speech</td>\n",
       "      <td>Bro unga videos nallarukku but don't do prank ...</td>\n",
       "    </tr>\n",
       "    <tr>\n",
       "      <th>8187</th>\n",
       "      <td>None-of-the-above</td>\n",
       "      <td>avaga...eaduthu kili kilinu...kilichitalum...p...</td>\n",
       "    </tr>\n",
       "  </tbody>\n",
       "</table>\n",
       "<p>8188 rows × 2 columns</p>\n",
       "</div>"
      ],
      "text/plain": [
       "                      0                                                  1\n",
       "0           Hope-Speech  உங்கள் பேச்சை எதிர்பார்த்தேன். நல்ல விளக்கம்  ...\n",
       "1     None-of-the-above  எச். ராசாவால் இராமருக்கே  இழிவு. இவர் எல்லாம் ...\n",
       "2     None-of-the-above  கல்யாணம்னு  வரும்போது தான் சாதி முக்கியம் எங்க...\n",
       "3     None-of-the-above                 Tentu Kottai ஐயா நான் தமிழ் இந்து.\n",
       "4            Homophobia  Tamil selvan  அடே தேவடியாவுக்கு பிரந்தவனே பச்ச...\n",
       "...                 ...                                                ...\n",
       "8183  None-of-the-above   Noq day having no caste no religious certificate\n",
       "8184  None-of-the-above                       Mimicry escape aitaru bro. 😂\n",
       "8185  None-of-the-above                             Rajesh R  u age u from\n",
       "8186     Counter-speech  Bro unga videos nallarukku but don't do prank ...\n",
       "8187  None-of-the-above  avaga...eaduthu kili kilinu...kilichitalum...p...\n",
       "\n",
       "[8188 rows x 2 columns]"
      ]
     },
     "execution_count": 14,
     "metadata": {},
     "output_type": "execute_result"
    }
   ],
   "source": [
    "df_train"
   ]
  },
  {
   "cell_type": "code",
   "execution_count": 15,
   "id": "4d878721",
   "metadata": {
    "execution": {
     "iopub.execute_input": "2022-03-03T18:29:34.743542Z",
     "iopub.status.busy": "2022-03-03T18:29:34.742829Z",
     "iopub.status.idle": "2022-03-03T18:29:34.757538Z",
     "shell.execute_reply": "2022-03-03T18:29:34.758065Z",
     "shell.execute_reply.started": "2022-03-02T16:31:55.421035Z"
    },
    "papermill": {
     "duration": 0.523607,
     "end_time": "2022-03-03T18:29:34.758249",
     "exception": false,
     "start_time": "2022-03-03T18:29:34.234642",
     "status": "completed"
    },
    "tags": []
   },
   "outputs": [],
   "source": [
    "df_train = shuffle(df_train, random_state = 10).reset_index(drop=True)\n",
    "df_valid = shuffle(df_valid, random_state = 10).reset_index(drop=True)\n",
    "df_test = shuffle(df_test, random_state = 10).reset_index(drop=True)\n",
    "\n",
    "df_train[1] = df_train[1].apply(str)\n",
    "df_valid[1] = df_valid[1].apply(str)\n",
    "df_test[1] = df_test[1].apply(str)"
   ]
  },
  {
   "cell_type": "code",
   "execution_count": 16,
   "id": "e4f0f67b",
   "metadata": {
    "execution": {
     "iopub.execute_input": "2022-03-03T18:29:35.915004Z",
     "iopub.status.busy": "2022-03-03T18:29:35.853314Z",
     "iopub.status.idle": "2022-03-03T18:29:39.053632Z",
     "shell.execute_reply": "2022-03-03T18:29:39.052596Z",
     "shell.execute_reply.started": "2022-03-02T16:31:55.439601Z"
    },
    "papermill": {
     "duration": 3.801999,
     "end_time": "2022-03-03T18:29:39.053780",
     "exception": false,
     "start_time": "2022-03-03T18:29:35.251781",
     "status": "completed"
    },
    "tags": []
   },
   "outputs": [],
   "source": [
    "def deEmojify(string):\n",
    "    emoji_pattern = re.compile(\"[\"\n",
    "                              u\"\\U0001F600-\\U0001F64F\"  # emoticons\n",
    "                              u\"\\U0001F300-\\U0001F5FF\"  # symbols & pictographs\n",
    "                              u\"\\U0001F680-\\U0001F6FF\"  # transport & map symbols\n",
    "                              u\"\\U0001F1E0-\\U0001F1FF\"  # flags (iOS)\n",
    "                              u\"\\U00002500-\\U00002BEF\"  # chinese char\n",
    "                              u\"\\U00002702-\\U000027B0\"\n",
    "                              u\"\\U00002702-\\U000027B0\"\n",
    "                              u\"\\U000024C2-\\U0001F251\"\n",
    "                              u\"\\U0001f926-\\U0001f937\"\n",
    "                              u\"\\U00010000-\\U0010ffff\"\n",
    "                              u\"\\u2640-\\u2642\"\n",
    "                              u\"\\u2600-\\u2B55\"\n",
    "                              u\"\\u200d\"\n",
    "                              u\"\\u23cf\"\n",
    "                              u\"\\u23e9\"\n",
    "                              u\"\\u231a\"\n",
    "                              u\"\\ufe0f\"  # dingbats\n",
    "                              u\"\\u3030\"\n",
    "                              \"]+\", flags=re.UNICODE)\n",
    "    return emoji_pattern.sub(r'', string)\n",
    "\n",
    "def preprocess(text):\n",
    "    text = deEmojify(text) #convert emojis to their defns in words, they might be useful\n",
    "    text = re.sub(r'([\\.\\'\\\"\\/\\-\\_\\--])',' ', text) # remove punctuations , removes @USER / some abbreviatins\n",
    "    to_remove_url = ('http[s]?://(?:[a-zA-Z]|[0-9]|[$-_@.&+]|'\n",
    "      '[!*\\(\\),]|(?:%[0-9a-fA-F][0-9a-fA-F]))+')\n",
    "    text = re.sub(to_remove_url,'',text)  # remove url patterns\n",
    "    text = re.sub(\" \\d+\", \" \", text)\n",
    "    text = text.replace(\",\",\" \")\n",
    "    text = re.sub(r'(?:^| )\\w(?:$| )', ' ', text).strip()\n",
    "    punctuation='!!\"$%&()*+-/:;<=>?[\\\\]^_{|}~.'\n",
    "    text = ''.join(ch for ch in text if ch not in set(punctuation))\n",
    "    # text = text.translate(str.maketrans('', '', string.punctuation))\n",
    "    text = BeautifulSoup(text, 'html.parser').get_text()\n",
    "    # Stopword Removing\n",
    "    tokenizer = ToktokTokenizer()\n",
    "    # convert sentence into token of words\n",
    "    tokens = tokenizer.tokenize(text)\n",
    "    tokens = [token.strip() for token in tokens]\n",
    "    text = ' '.join(ch for ch in tokens)\n",
    "    return text \n",
    "\n",
    "def clean(df):\n",
    "    df[1] = df[1].apply(lambda x: preprocess(x))\n",
    "\n",
    "clean(df_train)\n",
    "clean(df_valid)\n",
    "clean(df_test)"
   ]
  },
  {
   "cell_type": "code",
   "execution_count": 17,
   "id": "494af1c6",
   "metadata": {
    "execution": {
     "iopub.execute_input": "2022-03-03T18:29:40.060077Z",
     "iopub.status.busy": "2022-03-03T18:29:40.059471Z",
     "iopub.status.idle": "2022-03-03T18:29:40.066305Z",
     "shell.execute_reply": "2022-03-03T18:29:40.065755Z",
     "shell.execute_reply.started": "2022-03-02T16:31:57.794008Z"
    },
    "papermill": {
     "duration": 0.519343,
     "end_time": "2022-03-03T18:29:40.066449",
     "exception": false,
     "start_time": "2022-03-03T18:29:39.547106",
     "status": "completed"
    },
    "tags": []
   },
   "outputs": [
    {
     "data": {
      "text/plain": [
       "((0, 2), (0, 2), (0, 2))"
      ]
     },
     "execution_count": 17,
     "metadata": {},
     "output_type": "execute_result"
    }
   ],
   "source": [
    "df_train[df_train[0].isnull()].shape, df_valid[df_valid[0].isnull()].shape, df_test[df_test[0].isnull()].shape"
   ]
  },
  {
   "cell_type": "code",
   "execution_count": 18,
   "id": "4ac3f50d",
   "metadata": {
    "execution": {
     "iopub.execute_input": "2022-03-03T18:29:41.098869Z",
     "iopub.status.busy": "2022-03-03T18:29:41.097829Z",
     "iopub.status.idle": "2022-03-03T18:29:41.101483Z",
     "shell.execute_reply": "2022-03-03T18:29:41.100905Z",
     "shell.execute_reply.started": "2022-03-02T16:31:57.80597Z"
    },
    "papermill": {
     "duration": 0.522883,
     "end_time": "2022-03-03T18:29:41.101659",
     "exception": false,
     "start_time": "2022-03-03T18:29:40.578776",
     "status": "completed"
    },
    "tags": []
   },
   "outputs": [],
   "source": [
    "class TamilTokenizer(BaseTokenizer):\n",
    "    def __init__(self, lang:str):\n",
    "        self.lang = lang\n",
    "        self.sp = spm.SentencePieceProcessor()\n",
    "        self.sp.Load(str('../input/spm-sota-models/tamil_spm_8k.model'))\n",
    "        \n",
    "    def tokenizer(self, t:str) -> List[str]:\n",
    "        return self.sp.EncodeAsPieces(t)"
   ]
  },
  {
   "cell_type": "code",
   "execution_count": 19,
   "id": "ca18bdf4",
   "metadata": {
    "execution": {
     "iopub.execute_input": "2022-03-03T18:29:42.182446Z",
     "iopub.status.busy": "2022-03-03T18:29:42.181422Z",
     "iopub.status.idle": "2022-03-03T18:29:42.197799Z",
     "shell.execute_reply": "2022-03-03T18:29:42.197297Z",
     "shell.execute_reply.started": "2022-03-02T16:31:57.818188Z"
    },
    "papermill": {
     "duration": 0.580611,
     "end_time": "2022-03-03T18:29:42.197935",
     "exception": false,
     "start_time": "2022-03-03T18:29:41.617324",
     "status": "completed"
    },
    "tags": []
   },
   "outputs": [],
   "source": [
    "sp = spm.SentencePieceProcessor()\n",
    "sp.Load(str('../input/spm-sota-models/tamil_spm_8k.model'))\n",
    "itos = [sp.IdToPiece(int(i)) for i in range(8000)]"
   ]
  },
  {
   "cell_type": "code",
   "execution_count": 20,
   "id": "69e017ad",
   "metadata": {
    "execution": {
     "iopub.execute_input": "2022-03-03T18:29:43.246362Z",
     "iopub.status.busy": "2022-03-03T18:29:43.243983Z",
     "iopub.status.idle": "2022-03-03T18:29:43.247299Z",
     "shell.execute_reply": "2022-03-03T18:29:43.247853Z",
     "shell.execute_reply.started": "2022-03-02T16:31:57.866699Z"
    },
    "papermill": {
     "duration": 0.533332,
     "end_time": "2022-03-03T18:29:43.248057",
     "exception": false,
     "start_time": "2022-03-03T18:29:42.714725",
     "status": "completed"
    },
    "tags": []
   },
   "outputs": [],
   "source": [
    "tamil_vocab = Vocab(itos)"
   ]
  },
  {
   "cell_type": "code",
   "execution_count": 21,
   "id": "1c52ccd4",
   "metadata": {
    "execution": {
     "iopub.execute_input": "2022-03-03T18:29:44.286547Z",
     "iopub.status.busy": "2022-03-03T18:29:44.285406Z",
     "iopub.status.idle": "2022-03-03T18:29:44.287388Z",
     "shell.execute_reply": "2022-03-03T18:29:44.287934Z",
     "shell.execute_reply.started": "2022-03-02T16:31:57.876625Z"
    },
    "papermill": {
     "duration": 0.528803,
     "end_time": "2022-03-03T18:29:44.288085",
     "exception": false,
     "start_time": "2022-03-03T18:29:43.759282",
     "status": "completed"
    },
    "tags": []
   },
   "outputs": [],
   "source": [
    "tokenizer = Tokenizer(tok_func=TamilTokenizer, lang='ta')"
   ]
  },
  {
   "cell_type": "code",
   "execution_count": 22,
   "id": "1ea0ceac",
   "metadata": {
    "execution": {
     "iopub.execute_input": "2022-03-03T18:29:45.360947Z",
     "iopub.status.busy": "2022-03-03T18:29:45.359926Z",
     "iopub.status.idle": "2022-03-03T18:29:45.363477Z",
     "shell.execute_reply": "2022-03-03T18:29:45.362927Z",
     "shell.execute_reply.started": "2022-03-02T16:31:57.885519Z"
    },
    "papermill": {
     "duration": 0.555964,
     "end_time": "2022-03-03T18:29:45.363627",
     "exception": false,
     "start_time": "2022-03-03T18:29:44.807663",
     "status": "completed"
    },
    "tags": []
   },
   "outputs": [],
   "source": [
    "label_cols = [0]"
   ]
  },
  {
   "cell_type": "code",
   "execution_count": 23,
   "id": "8fd81d90",
   "metadata": {
    "execution": {
     "iopub.execute_input": "2022-03-03T18:29:46.410495Z",
     "iopub.status.busy": "2022-03-03T18:29:46.400622Z",
     "iopub.status.idle": "2022-03-03T18:29:48.198759Z",
     "shell.execute_reply": "2022-03-03T18:29:48.199300Z",
     "shell.execute_reply.started": "2022-03-02T16:31:57.893508Z"
    },
    "papermill": {
     "duration": 2.326273,
     "end_time": "2022-03-03T18:29:48.199539",
     "exception": false,
     "start_time": "2022-03-03T18:29:45.873266",
     "status": "completed"
    },
    "tags": []
   },
   "outputs": [
    {
     "data": {
      "text/html": [],
      "text/plain": [
       "<IPython.core.display.HTML object>"
      ]
     },
     "metadata": {},
     "output_type": "display_data"
    },
    {
     "name": "stderr",
     "output_type": "stream",
     "text": [
      "/opt/conda/lib/python3.7/site-packages/fastai/core.py:302: VisibleDeprecationWarning: Creating an ndarray from ragged nested sequences (which is a list-or-tuple of lists-or-tuples-or ndarrays with different lengths or shapes) is deprecated. If you meant to do this, you must specify 'dtype=object' when creating the ndarray.\n",
      "  return np.array(a, dtype=dtype, **kwargs)\n"
     ]
    },
    {
     "data": {
      "text/html": [],
      "text/plain": [
       "<IPython.core.display.HTML object>"
      ]
     },
     "metadata": {},
     "output_type": "display_data"
    },
    {
     "data": {
      "text/html": [],
      "text/plain": [
       "<IPython.core.display.HTML object>"
      ]
     },
     "metadata": {},
     "output_type": "display_data"
    }
   ],
   "source": [
    "data_lm = TextLMDataBunch.from_df(path=path, train_df=df_train, valid_df=df_valid, test_df=df_test, tokenizer=tokenizer, vocab=tamil_vocab)"
   ]
  },
  {
   "cell_type": "code",
   "execution_count": 24,
   "id": "4e20b333",
   "metadata": {
    "execution": {
     "iopub.execute_input": "2022-03-03T18:29:49.508072Z",
     "iopub.status.busy": "2022-03-03T18:29:49.506925Z",
     "iopub.status.idle": "2022-03-03T18:29:52.484597Z",
     "shell.execute_reply": "2022-03-03T18:29:52.485187Z",
     "shell.execute_reply.started": "2022-03-02T16:31:59.604577Z"
    },
    "papermill": {
     "duration": 3.631541,
     "end_time": "2022-03-03T18:29:52.485372",
     "exception": false,
     "start_time": "2022-03-03T18:29:48.853831",
     "status": "completed"
    },
    "tags": []
   },
   "outputs": [
    {
     "data": {
      "text/html": [
       "<table border=\"1\" class=\"dataframe\">\n",
       "  <thead>\n",
       "    <tr style=\"text-align: right;\">\n",
       "      <th>idx</th>\n",
       "      <th>text</th>\n",
       "    </tr>\n",
       "  </thead>\n",
       "  <tbody>\n",
       "    <tr>\n",
       "      <td>0</td>\n",
       "      <td>a ▁ vi t tu ▁ va ik a ▁ ma at ing a ▁ d a ▁ x x b os ▁ li ke ▁ v j ▁ an na ▁ x x b os ▁உண்மை ▁சொன்ன தற்கு ▁நன் றி ▁ x x b os ▁ஏ ண்டா ▁உ ங்களுக்கு ▁பேச ▁வேற ▁மத மே ▁இல்லை யா ▁இந்துக் கள் ▁என்ன ▁ஏ மா ளி யா ▁ராஜா ▁பேச ியது ▁சரி யே ▁ x</td>\n",
       "    </tr>\n",
       "    <tr>\n",
       "      <td>1</td>\n",
       "      <td>tu ▁ han d s ome ▁ ah ▁ ir uk ing a ▁ x x b os ▁வீட்டில் ▁பெண்கள் ▁இல்லை ▁என்ன ▁செய்வது ▁ x x b os ▁சாதி ▁வெ றி ▁காட்டு மி ரா ண்டி ▁நா யே ▁உ ன க்கு ▁சாதி ▁தவிர ▁வேற ▁என்ன ▁இரு க்கு ▁டா ▁பொ ட்ட ▁பு ண்டை ▁ x x b os ▁அ ய்யா ▁நீ ங்கள் ▁பேச ியது ▁நல்ல ▁மணி த த்துவம் ▁ x x b</td>\n",
       "    </tr>\n",
       "    <tr>\n",
       "      <td>2</td>\n",
       "      <td>an p adu ▁ ka la ach ar am ▁p al ak av al ak am ▁ sa ap ad a ▁ ma ath un ath u ▁ ma ath i ri ▁ el ath ai y um ▁ ma ath ir ath ing a ▁ d a ▁ ma at uk u ▁ ep di ▁ ka la ach ara ma ▁p a ak ur ing al a ▁</td>\n",
       "    </tr>\n",
       "    <tr>\n",
       "      <td>3</td>\n",
       "      <td>ai ▁ y a ▁p or ag al an u ▁ x x b os ▁ &lt;unk&gt; se en u &lt;unk&gt; &lt;unk&gt; ow th am &lt;unk&gt; ▁a ma ▁a ma ▁n an b a &lt;unk&gt; &lt;unk&gt; van ung a ▁ va z n th u ▁ an ub a vi ch ut u ▁ na ma la ▁ va z ha ▁ vi d am a ▁p and ran ga</td>\n",
       "    </tr>\n",
       "    <tr>\n",
       "      <td>4</td>\n",
       "      <td>முத்து ▁பேச லாம் ▁என்ன ங்க ▁சீ மான் ▁இப் டி ▁பண ் ற ீ ங்க ▁போய் ▁வைர முத்து ▁கி ட்ட ▁கேட்டு டு வா ங்க ▁அ ப்புற ம் ▁பேச ிக்க லாம் ▁ x x b os ▁ la ▁p es ur a ▁ g ir l ▁ k u &lt;unk&gt; ▁c or on a ▁ ir uk u ▁ po la ▁ x x b os &lt;unk&gt; &lt;unk&gt; ir sh &lt;unk&gt; &lt;unk&gt;</td>\n",
       "    </tr>\n",
       "  </tbody>\n",
       "</table>"
      ],
      "text/plain": [
       "<IPython.core.display.HTML object>"
      ]
     },
     "metadata": {},
     "output_type": "display_data"
    }
   ],
   "source": [
    "data_lm.show_batch()"
   ]
  },
  {
   "cell_type": "code",
   "execution_count": 25,
   "id": "6489e161",
   "metadata": {
    "execution": {
     "iopub.execute_input": "2022-03-03T18:29:53.507038Z",
     "iopub.status.busy": "2022-03-03T18:29:53.504599Z",
     "iopub.status.idle": "2022-03-03T18:29:53.812085Z",
     "shell.execute_reply": "2022-03-03T18:29:53.812625Z",
     "shell.execute_reply.started": "2022-03-02T16:31:59.623379Z"
    },
    "papermill": {
     "duration": 0.817931,
     "end_time": "2022-03-03T18:29:53.812818",
     "exception": false,
     "start_time": "2022-03-03T18:29:52.994887",
     "status": "completed"
    },
    "tags": []
   },
   "outputs": [],
   "source": [
    "awd_lstm_config = awd_lstm_lm_config.copy()\n",
    "awd_lstm_config['n_hid'] = 1150\n",
    "learn = language_model_learner(data_lm, arch=AWD_LSTM, drop_mult=0.3, config=awd_lstm_config, pretrained=False)"
   ]
  },
  {
   "cell_type": "code",
   "execution_count": 26,
   "id": "b0fff068",
   "metadata": {
    "execution": {
     "iopub.execute_input": "2022-03-03T18:29:54.843442Z",
     "iopub.status.busy": "2022-03-03T18:29:54.842511Z",
     "iopub.status.idle": "2022-03-03T18:30:01.164594Z",
     "shell.execute_reply": "2022-03-03T18:30:01.164001Z",
     "shell.execute_reply.started": "2022-03-02T16:31:59.882597Z"
    },
    "papermill": {
     "duration": 6.838124,
     "end_time": "2022-03-03T18:30:01.164858",
     "exception": false,
     "start_time": "2022-03-03T18:29:54.326734",
     "status": "completed"
    },
    "tags": []
   },
   "outputs": [
    {
     "data": {
      "text/plain": [
       "LanguageLearner(data=TextLMDataBunch;\n",
       "\n",
       "Train: LabelList (8188 items)\n",
       "x: LMTextList\n",
       "▁ x x b os <unk> ▁m a y i z h <unk> <unk> e l a n ▁p on ▁n am er ▁s ent ▁ me,▁ x x b os ▁ x m s r k s ▁ j i ▁ ent ha ▁ ch ur ch ▁n u ▁s ol l ung a,▁ x x b os ▁ ed ha y um ▁ e van ung a ▁ vi t tu ▁ va ik a ▁ ma at ing a ▁ d a,▁ x x b os ▁ li ke ▁ v j ▁ an na,▁ x x b os ▁உண்மை ▁சொன்ன தற்கு ▁நன் றி\n",
       "y: LMLabelList\n",
       ",,,,\n",
       "Path: .;\n",
       "\n",
       "Valid: LabelList (560 items)\n",
       "x: LMTextList\n",
       "▁ x x b os ▁சோ ம் பே றி கள் ▁விரும்பி ▁வர த ட் ச ணை,▁ x x b os ▁சி மான் ▁கே வள மான ▁ஒ று ▁மனிதன் ▁ப ச் சோ ந்த ▁நாய் ▁வைர முத்து ▁ஒ று ▁கட்டு ▁பன்றி,▁ x x b os ▁சம த்துவம் ▁பேசும் ▁ஆன ந் சீ னி வா சன் ▁சா ருக்கு ▁நன் றி,▁ x x b os ▁p r iya ▁p r iya ▁அர வாணி ▁பு ண்ட ▁எ ங்க டா ▁ ங் ங ோ த்தா ▁கூ தி ▁கி ழி யு தா,▁ x x b os ▁பெ சி க்கொ ன் டி று க்கும் பொ து ▁பின்ன ால ▁இறுக்க ிற வ ங்க ல ▁பார்த்து ▁பார்த்து ▁பேச ுகிறார் ▁அ ப்போ ▁முன் னா டி ▁ஆட் களே ▁இல்ல யா\n",
       "y: LMLabelList\n",
       ",,,,\n",
       "Path: .;\n",
       "\n",
       "Test: LabelList (700 items)\n",
       "x: LMTextList\n",
       "▁ x x b os <unk> ▁a b ir am i <unk> <unk> i ja y ak um ar ▁என் ▁தலைவி தி ▁என்று ▁தான் ▁நா னும் ▁நினைத்த ு க்கொண்டு ▁வாழ் கிற ேன்,▁ x x b os ▁மா மனித ர் ▁அ ண்ண ன் ▁நீ ங்கள் ▁நீ டூ ழி ▁வாழ வேண்டும் உ ங்கள் பே ச்சு உ ண்மை சூ ப்பர்,▁ x x b os ▁ச ரியா ▁சோ லி ங்கா ▁சார்,▁ x x b os ▁ஆ மை க்க றி ▁அ ண்ண ன் ▁சீ மான்,▁ x x b os ▁ஆனந்த ▁சார் ▁நியாய மான ▁பேச்சு\n",
       "y: EmptyLabelList\n",
       ",,,,\n",
       "Path: ., model=SequentialRNN(\n",
       "  (0): AWD_LSTM(\n",
       "    (encoder): Embedding(8000, 400, padding_idx=1)\n",
       "    (encoder_dp): EmbeddingDropout(\n",
       "      (emb): Embedding(8000, 400, padding_idx=1)\n",
       "    )\n",
       "    (rnns): ModuleList(\n",
       "      (0): WeightDropout(\n",
       "        (module): LSTM(400, 1150, batch_first=True)\n",
       "      )\n",
       "      (1): WeightDropout(\n",
       "        (module): LSTM(1150, 1150, batch_first=True)\n",
       "      )\n",
       "      (2): WeightDropout(\n",
       "        (module): LSTM(1150, 400, batch_first=True)\n",
       "      )\n",
       "    )\n",
       "    (input_dp): RNNDropout()\n",
       "    (hidden_dps): ModuleList(\n",
       "      (0): RNNDropout()\n",
       "      (1): RNNDropout()\n",
       "      (2): RNNDropout()\n",
       "    )\n",
       "  )\n",
       "  (1): LinearDecoder(\n",
       "    (decoder): Linear(in_features=400, out_features=8000, bias=True)\n",
       "    (output_dp): RNNDropout()\n",
       "  )\n",
       "), opt_func=functools.partial(<class 'torch.optim.adam.Adam'>, betas=(0.9, 0.99)), loss_func=FlattenedLoss of CrossEntropyLoss(), metrics=[<function accuracy at 0x7fd46068bef0>], true_wd=True, bn_wd=True, wd=0.01, train_bn=True, path=PosixPath('.'), model_dir='models', callback_fns=[functools.partial(<class 'fastai.basic_train.Recorder'>, add_time=True, silent=False)], callbacks=[RNNTrainer\n",
       "learn: ...\n",
       "alpha: 2.0\n",
       "beta: 1.0], layer_groups=[Sequential(\n",
       "  (0): WeightDropout(\n",
       "    (module): LSTM(400, 1150, batch_first=True)\n",
       "  )\n",
       "  (1): RNNDropout()\n",
       "), Sequential(\n",
       "  (0): WeightDropout(\n",
       "    (module): LSTM(1150, 1150, batch_first=True)\n",
       "  )\n",
       "  (1): RNNDropout()\n",
       "), Sequential(\n",
       "  (0): WeightDropout(\n",
       "    (module): LSTM(1150, 400, batch_first=True)\n",
       "  )\n",
       "  (1): RNNDropout()\n",
       "), Sequential(\n",
       "  (0): Embedding(8000, 400, padding_idx=1)\n",
       "  (1): EmbeddingDropout(\n",
       "    (emb): Embedding(8000, 400, padding_idx=1)\n",
       "  )\n",
       "  (2): LinearDecoder(\n",
       "    (decoder): Linear(in_features=400, out_features=8000, bias=True)\n",
       "    (output_dp): RNNDropout()\n",
       "  )\n",
       ")], add_time=True, silent=False)"
      ]
     },
     "execution_count": 26,
     "metadata": {},
     "output_type": "execute_result"
    }
   ],
   "source": [
    "learn.load('/kaggle/input/pretrained-sota-models/wikitalm_8k_447_third')"
   ]
  },
  {
   "cell_type": "code",
   "execution_count": 27,
   "id": "0a62c532",
   "metadata": {
    "execution": {
     "iopub.execute_input": "2022-03-03T18:30:02.266406Z",
     "iopub.status.busy": "2022-03-03T18:30:02.265290Z",
     "iopub.status.idle": "2022-03-03T18:30:02.280035Z",
     "shell.execute_reply": "2022-03-03T18:30:02.280616Z",
     "shell.execute_reply.started": "2022-03-02T16:32:00.346375Z"
    },
    "papermill": {
     "duration": 0.538826,
     "end_time": "2022-03-03T18:30:02.280768",
     "exception": false,
     "start_time": "2022-03-03T18:30:01.741942",
     "status": "completed"
    },
    "tags": []
   },
   "outputs": [
    {
     "data": {
      "text/plain": [
       "None-of-the-above    5015\n",
       "Misandry             1276\n",
       "Counter-speech        497\n",
       "Xenophobia            392\n",
       "Misogyny              336\n",
       "Hope-Speech           299\n",
       "Homophobia            207\n",
       "Transphobic           163\n",
       "Not-Tamil               2\n",
       "Name: 0, dtype: int64"
      ]
     },
     "execution_count": 27,
     "metadata": {},
     "output_type": "execute_result"
    }
   ],
   "source": [
    "df_train = df_train.drop([0]).reset_index().drop([\"index\"], axis=1)\n",
    "df_train[0].value_counts()"
   ]
  },
  {
   "cell_type": "code",
   "execution_count": 28,
   "id": "dad4d12e",
   "metadata": {
    "execution": {
     "iopub.execute_input": "2022-03-03T18:30:03.309653Z",
     "iopub.status.busy": "2022-03-03T18:30:03.308722Z",
     "iopub.status.idle": "2022-03-03T18:30:03.312362Z",
     "shell.execute_reply": "2022-03-03T18:30:03.312966Z",
     "shell.execute_reply.started": "2022-03-02T16:32:00.364691Z"
    },
    "papermill": {
     "duration": 0.523855,
     "end_time": "2022-03-03T18:30:03.313149",
     "exception": false,
     "start_time": "2022-03-03T18:30:02.789294",
     "status": "completed"
    },
    "tags": []
   },
   "outputs": [
    {
     "data": {
      "text/plain": [
       "None-of-the-above    346\n",
       "Misandry             104\n",
       "Counter-speech        36\n",
       "Xenophobia            29\n",
       "Misogyny              24\n",
       "Hope-Speech           11\n",
       "Homophobia             8\n",
       "Transphobic            2\n",
       "Name: 0, dtype: int64"
      ]
     },
     "execution_count": 28,
     "metadata": {},
     "output_type": "execute_result"
    }
   ],
   "source": [
    "df_valid[0].value_counts()"
   ]
  },
  {
   "cell_type": "code",
   "execution_count": 29,
   "id": "3af6c86d",
   "metadata": {
    "execution": {
     "iopub.execute_input": "2022-03-03T18:30:04.342602Z",
     "iopub.status.busy": "2022-03-03T18:30:04.341756Z",
     "iopub.status.idle": "2022-03-03T18:30:04.345507Z",
     "shell.execute_reply": "2022-03-03T18:30:04.346059Z",
     "shell.execute_reply.started": "2022-03-02T16:32:00.37395Z"
    },
    "papermill": {
     "duration": 0.522899,
     "end_time": "2022-03-03T18:30:04.346339",
     "exception": false,
     "start_time": "2022-03-03T18:30:03.823440",
     "status": "completed"
    },
    "tags": []
   },
   "outputs": [
    {
     "data": {
      "text/plain": [
       "None-of-the-above    417\n",
       "Misandry             127\n",
       "Misogyny              48\n",
       "Counter-speech        47\n",
       "Hope-Speech           26\n",
       "Xenophobia            25\n",
       "Homophobia             8\n",
       "Transphobic            2\n",
       "Name: 0, dtype: int64"
      ]
     },
     "execution_count": 29,
     "metadata": {},
     "output_type": "execute_result"
    }
   ],
   "source": [
    "df_test[0].value_counts()"
   ]
  },
  {
   "cell_type": "code",
   "execution_count": 30,
   "id": "c4f73936",
   "metadata": {
    "execution": {
     "iopub.execute_input": "2022-03-03T18:30:05.368231Z",
     "iopub.status.busy": "2022-03-03T18:30:05.367114Z",
     "iopub.status.idle": "2022-03-03T18:30:05.371873Z",
     "shell.execute_reply": "2022-03-03T18:30:05.371303Z",
     "shell.execute_reply.started": "2022-03-02T16:32:00.386895Z"
    },
    "papermill": {
     "duration": 0.515976,
     "end_time": "2022-03-03T18:30:05.372012",
     "exception": false,
     "start_time": "2022-03-03T18:30:04.856036",
     "status": "completed"
    },
    "tags": []
   },
   "outputs": [],
   "source": [
    "learn.freeze()"
   ]
  },
  {
   "cell_type": "code",
   "execution_count": 31,
   "id": "8c67a66f",
   "metadata": {
    "execution": {
     "iopub.execute_input": "2022-03-03T18:30:06.381982Z",
     "iopub.status.busy": "2022-03-03T18:30:06.380891Z",
     "iopub.status.idle": "2022-03-03T18:30:16.181523Z",
     "shell.execute_reply": "2022-03-03T18:30:16.182079Z",
     "shell.execute_reply.started": "2022-03-02T16:32:00.393744Z"
    },
    "papermill": {
     "duration": 10.311458,
     "end_time": "2022-03-03T18:30:16.182290",
     "exception": false,
     "start_time": "2022-03-03T18:30:05.870832",
     "status": "completed"
    },
    "tags": []
   },
   "outputs": [
    {
     "data": {
      "text/html": [
       "<table border=\"1\" class=\"dataframe\">\n",
       "  <thead>\n",
       "    <tr style=\"text-align: left;\">\n",
       "      <th>epoch</th>\n",
       "      <th>train_loss</th>\n",
       "      <th>valid_loss</th>\n",
       "      <th>accuracy</th>\n",
       "      <th>time</th>\n",
       "    </tr>\n",
       "  </thead>\n",
       "  <tbody>\n",
       "    <tr>\n",
       "      <td>0</td>\n",
       "      <td>3.718938</td>\n",
       "      <td>4.569289</td>\n",
       "      <td>0.278181</td>\n",
       "      <td>00:09</td>\n",
       "    </tr>\n",
       "  </tbody>\n",
       "</table>"
      ],
      "text/plain": [
       "<IPython.core.display.HTML object>"
      ]
     },
     "metadata": {},
     "output_type": "display_data"
    }
   ],
   "source": [
    "learn.fit_one_cycle(1, 1e-2)"
   ]
  },
  {
   "cell_type": "code",
   "execution_count": 32,
   "id": "5512ff0a",
   "metadata": {
    "execution": {
     "iopub.execute_input": "2022-03-03T18:30:17.218909Z",
     "iopub.status.busy": "2022-03-03T18:30:17.218119Z",
     "iopub.status.idle": "2022-03-03T18:30:17.222068Z",
     "shell.execute_reply": "2022-03-03T18:30:17.221523Z",
     "shell.execute_reply.started": "2022-03-02T16:32:09.070696Z"
    },
    "papermill": {
     "duration": 0.524974,
     "end_time": "2022-03-03T18:30:17.222245",
     "exception": false,
     "start_time": "2022-03-03T18:30:16.697271",
     "status": "completed"
    },
    "tags": []
   },
   "outputs": [],
   "source": [
    "learn.unfreeze()"
   ]
  },
  {
   "cell_type": "code",
   "execution_count": 33,
   "id": "60047ece",
   "metadata": {
    "execution": {
     "iopub.execute_input": "2022-03-03T18:30:18.248695Z",
     "iopub.status.busy": "2022-03-03T18:30:18.247587Z",
     "iopub.status.idle": "2022-03-03T18:31:20.083704Z",
     "shell.execute_reply": "2022-03-03T18:31:20.073332Z",
     "shell.execute_reply.started": "2022-03-02T16:32:09.079298Z"
    },
    "papermill": {
     "duration": 62.352368,
     "end_time": "2022-03-03T18:31:20.083878",
     "exception": false,
     "start_time": "2022-03-03T18:30:17.731510",
     "status": "completed"
    },
    "tags": []
   },
   "outputs": [
    {
     "data": {
      "text/html": [
       "<table border=\"1\" class=\"dataframe\">\n",
       "  <thead>\n",
       "    <tr style=\"text-align: left;\">\n",
       "      <th>epoch</th>\n",
       "      <th>train_loss</th>\n",
       "      <th>valid_loss</th>\n",
       "      <th>accuracy</th>\n",
       "      <th>time</th>\n",
       "    </tr>\n",
       "  </thead>\n",
       "  <tbody>\n",
       "    <tr>\n",
       "      <td>0</td>\n",
       "      <td>3.395640</td>\n",
       "      <td>4.412742</td>\n",
       "      <td>0.293248</td>\n",
       "      <td>00:12</td>\n",
       "    </tr>\n",
       "    <tr>\n",
       "      <td>1</td>\n",
       "      <td>3.192381</td>\n",
       "      <td>4.244159</td>\n",
       "      <td>0.316741</td>\n",
       "      <td>00:12</td>\n",
       "    </tr>\n",
       "    <tr>\n",
       "      <td>2</td>\n",
       "      <td>3.030974</td>\n",
       "      <td>4.181168</td>\n",
       "      <td>0.323605</td>\n",
       "      <td>00:12</td>\n",
       "    </tr>\n",
       "    <tr>\n",
       "      <td>3</td>\n",
       "      <td>2.924587</td>\n",
       "      <td>4.170158</td>\n",
       "      <td>0.328237</td>\n",
       "      <td>00:12</td>\n",
       "    </tr>\n",
       "    <tr>\n",
       "      <td>4</td>\n",
       "      <td>2.881798</td>\n",
       "      <td>4.167700</td>\n",
       "      <td>0.328571</td>\n",
       "      <td>00:12</td>\n",
       "    </tr>\n",
       "  </tbody>\n",
       "</table>"
      ],
      "text/plain": [
       "<IPython.core.display.HTML object>"
      ]
     },
     "metadata": {},
     "output_type": "display_data"
    }
   ],
   "source": [
    "learn.fit_one_cycle(5, 1e-3)"
   ]
  },
  {
   "cell_type": "code",
   "execution_count": 34,
   "id": "aecf0388",
   "metadata": {
    "execution": {
     "iopub.execute_input": "2022-03-03T18:31:21.154535Z",
     "iopub.status.busy": "2022-03-03T18:31:21.153354Z",
     "iopub.status.idle": "2022-03-03T18:31:21.214916Z",
     "shell.execute_reply": "2022-03-03T18:31:21.214400Z",
     "shell.execute_reply.started": "2022-03-02T16:33:02.775592Z"
    },
    "papermill": {
     "duration": 0.595257,
     "end_time": "2022-03-03T18:31:21.215086",
     "exception": false,
     "start_time": "2022-03-03T18:31:20.619829",
     "status": "completed"
    },
    "tags": []
   },
   "outputs": [
    {
     "data": {
      "text/plain": [
       "'▁தனது ▁சொந்த ▁அனுபவ ம் ▁அ சிங்க மான து ▁ x x b'"
      ]
     },
     "execution_count": 34,
     "metadata": {},
     "output_type": "execute_result"
    }
   ],
   "source": [
    "learn.predict('▁தனது ▁சொந்த',n_words=10)"
   ]
  },
  {
   "cell_type": "code",
   "execution_count": 35,
   "id": "6cc6e5f8",
   "metadata": {
    "execution": {
     "iopub.execute_input": "2022-03-03T18:31:22.336743Z",
     "iopub.status.busy": "2022-03-03T18:31:22.335563Z",
     "iopub.status.idle": "2022-03-03T18:31:22.505227Z",
     "shell.execute_reply": "2022-03-03T18:31:22.503966Z",
     "shell.execute_reply.started": "2022-03-02T16:33:02.864396Z"
    },
    "papermill": {
     "duration": 0.726762,
     "end_time": "2022-03-03T18:31:22.505376",
     "exception": false,
     "start_time": "2022-03-03T18:31:21.778614",
     "status": "completed"
    },
    "tags": []
   },
   "outputs": [],
   "source": [
    "learn.save_encoder('fine_tuned_enc')"
   ]
  },
  {
   "cell_type": "code",
   "execution_count": 36,
   "id": "11e6e270",
   "metadata": {
    "execution": {
     "iopub.execute_input": "2022-03-03T18:31:23.607201Z",
     "iopub.status.busy": "2022-03-03T18:31:23.598745Z",
     "iopub.status.idle": "2022-03-03T18:31:26.271535Z",
     "shell.execute_reply": "2022-03-03T18:31:26.270946Z",
     "shell.execute_reply.started": "2022-03-02T16:33:03.194513Z"
    },
    "papermill": {
     "duration": 3.229541,
     "end_time": "2022-03-03T18:31:26.271679",
     "exception": false,
     "start_time": "2022-03-03T18:31:23.042138",
     "status": "completed"
    },
    "tags": []
   },
   "outputs": [
    {
     "data": {
      "text/html": [],
      "text/plain": [
       "<IPython.core.display.HTML object>"
      ]
     },
     "metadata": {},
     "output_type": "display_data"
    },
    {
     "name": "stderr",
     "output_type": "stream",
     "text": [
      "/opt/conda/lib/python3.7/site-packages/fastai/core.py:302: VisibleDeprecationWarning: Creating an ndarray from ragged nested sequences (which is a list-or-tuple of lists-or-tuples-or ndarrays with different lengths or shapes) is deprecated. If you meant to do this, you must specify 'dtype=object' when creating the ndarray.\n",
      "  return np.array(a, dtype=dtype, **kwargs)\n"
     ]
    },
    {
     "data": {
      "text/html": [],
      "text/plain": [
       "<IPython.core.display.HTML object>"
      ]
     },
     "metadata": {},
     "output_type": "display_data"
    },
    {
     "data": {
      "text/html": [],
      "text/plain": [
       "<IPython.core.display.HTML object>"
      ]
     },
     "metadata": {},
     "output_type": "display_data"
    },
    {
     "name": "stderr",
     "output_type": "stream",
     "text": [
      "/opt/conda/lib/python3.7/site-packages/numpy/core/_asarray.py:102: VisibleDeprecationWarning: Creating an ndarray from ragged nested sequences (which is a list-or-tuple of lists-or-tuples-or ndarrays with different lengths or shapes) is deprecated. If you meant to do this, you must specify 'dtype=object' when creating the ndarray.\n",
      "  return array(a, dtype, copy=False, order=order)\n",
      "<string>:6: VisibleDeprecationWarning: Creating an ndarray from ragged nested sequences (which is a list-or-tuple of lists-or-tuples-or ndarrays with different lengths or shapes) is deprecated. If you meant to do this, you must specify 'dtype=object' when creating the ndarray.\n"
     ]
    }
   ],
   "source": [
    "data_clas = TextClasDataBunch.from_df(path=path, train_df=df_train, valid_df=df_valid, test_df=df_test, tokenizer=tokenizer, vocab=tamil_vocab, label_cols=label_cols, bs=64)"
   ]
  },
  {
   "cell_type": "code",
   "execution_count": 37,
   "id": "a179fb6a",
   "metadata": {
    "execution": {
     "iopub.execute_input": "2022-03-03T18:31:27.349659Z",
     "iopub.status.busy": "2022-03-03T18:31:27.348569Z",
     "iopub.status.idle": "2022-03-03T18:31:27.914864Z",
     "shell.execute_reply": "2022-03-03T18:31:27.916078Z",
     "shell.execute_reply.started": "2022-03-02T16:33:05.251787Z"
    },
    "papermill": {
     "duration": 1.099721,
     "end_time": "2022-03-03T18:31:27.916394",
     "exception": false,
     "start_time": "2022-03-03T18:31:26.816673",
     "status": "completed"
    },
    "tags": []
   },
   "outputs": [
    {
     "data": {
      "text/html": [
       "<table border=\"1\" class=\"dataframe\">\n",
       "  <thead>\n",
       "    <tr style=\"text-align: right;\">\n",
       "      <th>text</th>\n",
       "      <th>target</th>\n",
       "    </tr>\n",
       "  </thead>\n",
       "  <tbody>\n",
       "    <tr>\n",
       "      <td>▁ x x b os &lt;unk&gt; ▁s w ath i &lt;unk&gt; ▁s ank ar ra j ▁c ore ect ▁ ip o ▁ ne en ga le y ▁ o th uk ut ing a ▁p ud h u ▁ ed ath uk u ▁ po na ▁ ka ka ▁b ay am a ▁ er uk um ▁n u ▁ ad he y ▁ min d s et ▁</td>\n",
       "      <td>Counter-speech</td>\n",
       "    </tr>\n",
       "    <tr>\n",
       "      <td>▁ x x b os &lt;unk&gt; &lt;unk&gt; van ga la &lt;unk&gt; &lt;unk&gt; id a ▁the li va ▁ y a ara al ay um ▁ cl ear ▁ ex p lan ation ▁ k ud uk ka ▁m id iya ad h u &lt;unk&gt; &lt;unk&gt; r uth an ▁in n or uth ana ▁ adi ch u ▁ k ol ran &lt;unk&gt; &lt;unk&gt; d ha &lt;unk&gt; &lt;unk&gt; id a ▁</td>\n",
       "      <td>Misandry</td>\n",
       "    </tr>\n",
       "    <tr>\n",
       "      <td>▁ x x b os &lt;unk&gt; &lt;unk&gt; aj a ▁ mo ha me d ▁ ne en ga ▁m ad ha ▁ sa ar b a ▁ pe y s ur e en ga ▁n an ▁ ad ha ▁m ad hi k ir en &lt;unk&gt; &lt;unk&gt; n ag al uk u ▁ or u ▁a an um ▁a an um ▁s er ur ad h u ▁ ep di</td>\n",
       "      <td>Counter-speech</td>\n",
       "    </tr>\n",
       "    <tr>\n",
       "      <td>▁ x x b os &lt;unk&gt; ▁s ex ▁ va ch ik ur ath uk u ▁m att um ▁ d han ▁ or u ▁p on n um ▁ or u ▁p ai y an um ▁ on n u ▁ se ran um a ▁ ap ram ▁in ga ▁ lo ve ▁ en ga ▁ ir uk u ▁ pl s ▁p pl ▁ g r ow</td>\n",
       "      <td>None-of-the-above</td>\n",
       "    </tr>\n",
       "    <tr>\n",
       "      <td>▁ x x b os &lt;unk&gt; ▁p o ▁ di ▁ lo os u ▁ k ood hi ▁s ug an y a ▁ y en d ra ▁m ot ta i ▁s un ni ▁ om b od h u ▁ th ay vi d y a a ▁p ay al ay &lt;unk&gt; ▁m o ot hi ra ▁s att i ▁ k an na d a ▁ th</td>\n",
       "      <td>Misogyny</td>\n",
       "    </tr>\n",
       "  </tbody>\n",
       "</table>"
      ],
      "text/plain": [
       "<IPython.core.display.HTML object>"
      ]
     },
     "metadata": {},
     "output_type": "display_data"
    }
   ],
   "source": [
    "data_clas.show_batch()"
   ]
  },
  {
   "cell_type": "code",
   "execution_count": 38,
   "id": "ccf20d6f",
   "metadata": {
    "execution": {
     "iopub.execute_input": "2022-03-03T18:31:29.124008Z",
     "iopub.status.busy": "2022-03-03T18:31:29.122879Z",
     "iopub.status.idle": "2022-03-03T18:31:29.125444Z",
     "shell.execute_reply": "2022-03-03T18:31:29.125896Z",
     "shell.execute_reply.started": "2022-03-02T16:33:05.575352Z"
    },
    "papermill": {
     "duration": 0.5438,
     "end_time": "2022-03-03T18:31:29.126132",
     "exception": false,
     "start_time": "2022-03-03T18:31:28.582332",
     "status": "completed"
    },
    "tags": []
   },
   "outputs": [],
   "source": [
    "del awd_lstm_config['tie_weights']\n",
    "del awd_lstm_config['out_bias']"
   ]
  },
  {
   "cell_type": "code",
   "execution_count": 39,
   "id": "617ed146",
   "metadata": {
    "execution": {
     "iopub.execute_input": "2022-03-03T18:31:30.183010Z",
     "iopub.status.busy": "2022-03-03T18:31:30.181945Z",
     "iopub.status.idle": "2022-03-03T18:31:37.026431Z",
     "shell.execute_reply": "2022-03-03T18:31:37.025749Z",
     "shell.execute_reply.started": "2022-03-02T16:33:05.581275Z"
    },
    "papermill": {
     "duration": 7.375855,
     "end_time": "2022-03-03T18:31:37.026611",
     "exception": false,
     "start_time": "2022-03-03T18:31:29.650756",
     "status": "completed"
    },
    "tags": []
   },
   "outputs": [
    {
     "name": "stdout",
     "output_type": "stream",
     "text": [
      "Downloading https://s3.amazonaws.com/fast-ai-modelzoo/wt103-fwd.tgz\n"
     ]
    },
    {
     "data": {
      "text/html": [],
      "text/plain": [
       "<IPython.core.display.HTML object>"
      ]
     },
     "metadata": {},
     "output_type": "display_data"
    }
   ],
   "source": [
    "learn = text_classifier_learner(data_clas, arch=AWD_LSTM, drop_mult=0.5, config=awd_lstm_config)"
   ]
  },
  {
   "cell_type": "code",
   "execution_count": 40,
   "id": "99d2c0d3",
   "metadata": {
    "execution": {
     "iopub.execute_input": "2022-03-03T18:31:38.107566Z",
     "iopub.status.busy": "2022-03-03T18:31:38.106080Z",
     "iopub.status.idle": "2022-03-03T18:31:38.156141Z",
     "shell.execute_reply": "2022-03-03T18:31:38.156687Z",
     "shell.execute_reply.started": "2022-03-02T16:33:05.991279Z"
    },
    "papermill": {
     "duration": 0.589916,
     "end_time": "2022-03-03T18:31:38.156891",
     "exception": false,
     "start_time": "2022-03-03T18:31:37.566975",
     "status": "completed"
    },
    "tags": []
   },
   "outputs": [
    {
     "data": {
      "text/plain": [
       "RNNLearner(data=TextClasDataBunch;\n",
       "\n",
       "Train: LabelList (8187 items)\n",
       "x: TextList\n",
       "▁ x x b os ▁ x m s r k s ▁ j i ▁ ent ha ▁ ch ur ch ▁n u ▁s ol l ung a,▁ x x b os ▁ ed ha y um ▁ e van ung a ▁ vi t tu ▁ va ik a ▁ ma at ing a ▁ d a,▁ x x b os ▁ li ke ▁ v j ▁ an na,▁ x x b os ▁உண்மை ▁சொன்ன தற்கு ▁நன் றி,▁ x x b os ▁ஏ ண்டா ▁உ ங்களுக்கு ▁பேச ▁வேற ▁மத மே ▁இல்லை யா ▁இந்துக் கள் ▁என்ன ▁ஏ மா ளி யா ▁ராஜா ▁பேச ியது ▁சரி யே\n",
       "y: CategoryList\n",
       "None-of-the-above,None-of-the-above,None-of-the-above,None-of-the-above,None-of-the-above\n",
       "Path: .;\n",
       "\n",
       "Valid: LabelList (560 items)\n",
       "x: TextList\n",
       "▁ x x b os ▁சோ ம் பே றி கள் ▁விரும்பி ▁வர த ட் ச ணை,▁ x x b os ▁சி மான் ▁கே வள மான ▁ஒ று ▁மனிதன் ▁ப ச் சோ ந்த ▁நாய் ▁வைர முத்து ▁ஒ று ▁கட்டு ▁பன்றி,▁ x x b os ▁சம த்துவம் ▁பேசும் ▁ஆன ந் சீ னி வா சன் ▁சா ருக்கு ▁நன் றி,▁ x x b os ▁p r iya ▁p r iya ▁அர வாணி ▁பு ண்ட ▁எ ங்க டா ▁ ங் ங ோ த்தா ▁கூ தி ▁கி ழி யு தா,▁ x x b os ▁பெ சி க்கொ ன் டி று க்கும் பொ து ▁பின்ன ால ▁இறுக்க ிற வ ங்க ல ▁பார்த்து ▁பார்த்து ▁பேச ுகிறார் ▁அ ப்போ ▁முன் னா டி ▁ஆட் களே ▁இல்ல யா\n",
       "y: CategoryList\n",
       "None-of-the-above,Misandry,None-of-the-above,Transphobic,None-of-the-above\n",
       "Path: .;\n",
       "\n",
       "Test: LabelList (700 items)\n",
       "x: TextList\n",
       "▁ x x b os <unk> ▁a b ir am i <unk> <unk> i ja y ak um ar ▁என் ▁தலைவி தி ▁என்று ▁தான் ▁நா னும் ▁நினைத்த ு க்கொண்டு ▁வாழ் கிற ேன்,▁ x x b os ▁மா மனித ர் ▁அ ண்ண ன் ▁நீ ங்கள் ▁நீ டூ ழி ▁வாழ வேண்டும் உ ங்கள் பே ச்சு உ ண்மை சூ ப்பர்,▁ x x b os ▁ச ரியா ▁சோ லி ங்கா ▁சார்,▁ x x b os ▁ஆ மை க்க றி ▁அ ண்ண ன் ▁சீ மான்,▁ x x b os ▁ஆனந்த ▁சார் ▁நியாய மான ▁பேச்சு\n",
       "y: EmptyLabelList\n",
       ",,,,\n",
       "Path: ., model=SequentialRNN(\n",
       "  (0): MultiBatchEncoder(\n",
       "    (module): AWD_LSTM(\n",
       "      (encoder): Embedding(8000, 400, padding_idx=1)\n",
       "      (encoder_dp): EmbeddingDropout(\n",
       "        (emb): Embedding(8000, 400, padding_idx=1)\n",
       "      )\n",
       "      (rnns): ModuleList(\n",
       "        (0): WeightDropout(\n",
       "          (module): LSTM(400, 1150, batch_first=True)\n",
       "        )\n",
       "        (1): WeightDropout(\n",
       "          (module): LSTM(1150, 1150, batch_first=True)\n",
       "        )\n",
       "        (2): WeightDropout(\n",
       "          (module): LSTM(1150, 400, batch_first=True)\n",
       "        )\n",
       "      )\n",
       "      (input_dp): RNNDropout()\n",
       "      (hidden_dps): ModuleList(\n",
       "        (0): RNNDropout()\n",
       "        (1): RNNDropout()\n",
       "        (2): RNNDropout()\n",
       "      )\n",
       "    )\n",
       "  )\n",
       "  (1): PoolingLinearClassifier(\n",
       "    (layers): Sequential(\n",
       "      (0): BatchNorm1d(1200, eps=1e-05, momentum=0.1, affine=True, track_running_stats=True)\n",
       "      (1): Dropout(p=0.05, inplace=False)\n",
       "      (2): Linear(in_features=1200, out_features=50, bias=True)\n",
       "      (3): ReLU(inplace=True)\n",
       "      (4): BatchNorm1d(50, eps=1e-05, momentum=0.1, affine=True, track_running_stats=True)\n",
       "      (5): Dropout(p=0.1, inplace=False)\n",
       "      (6): Linear(in_features=50, out_features=9, bias=True)\n",
       "    )\n",
       "  )\n",
       "), opt_func=functools.partial(<class 'torch.optim.adam.Adam'>, betas=(0.9, 0.99)), loss_func=FlattenedLoss of CrossEntropyLoss(), metrics=[<function accuracy at 0x7fd46068bef0>], true_wd=True, bn_wd=True, wd=0.01, train_bn=True, path=PosixPath('.'), model_dir='models', callback_fns=[functools.partial(<class 'fastai.basic_train.Recorder'>, add_time=True, silent=False)], callbacks=[RNNTrainer\n",
       "learn: ...\n",
       "alpha: 2.0\n",
       "beta: 1.0], layer_groups=[Sequential(\n",
       "  (0): Embedding(8000, 400, padding_idx=1)\n",
       "  (1): EmbeddingDropout(\n",
       "    (emb): Embedding(8000, 400, padding_idx=1)\n",
       "  )\n",
       "), Sequential(\n",
       "  (0): WeightDropout(\n",
       "    (module): LSTM(400, 1150, batch_first=True)\n",
       "  )\n",
       "  (1): RNNDropout()\n",
       "), Sequential(\n",
       "  (0): WeightDropout(\n",
       "    (module): LSTM(1150, 1150, batch_first=True)\n",
       "  )\n",
       "  (1): RNNDropout()\n",
       "), Sequential(\n",
       "  (0): WeightDropout(\n",
       "    (module): LSTM(1150, 400, batch_first=True)\n",
       "  )\n",
       "  (1): RNNDropout()\n",
       "), Sequential(\n",
       "  (0): PoolingLinearClassifier(\n",
       "    (layers): Sequential(\n",
       "      (0): BatchNorm1d(1200, eps=1e-05, momentum=0.1, affine=True, track_running_stats=True)\n",
       "      (1): Dropout(p=0.05, inplace=False)\n",
       "      (2): Linear(in_features=1200, out_features=50, bias=True)\n",
       "      (3): ReLU(inplace=True)\n",
       "      (4): BatchNorm1d(50, eps=1e-05, momentum=0.1, affine=True, track_running_stats=True)\n",
       "      (5): Dropout(p=0.1, inplace=False)\n",
       "      (6): Linear(in_features=50, out_features=9, bias=True)\n",
       "    )\n",
       "  )\n",
       ")], add_time=True, silent=False)"
      ]
     },
     "execution_count": 40,
     "metadata": {},
     "output_type": "execute_result"
    }
   ],
   "source": [
    "learn.load_encoder('fine_tuned_enc')"
   ]
  },
  {
   "cell_type": "code",
   "execution_count": 41,
   "id": "31406af8",
   "metadata": {
    "execution": {
     "iopub.execute_input": "2022-03-03T18:31:40.031764Z",
     "iopub.status.busy": "2022-03-03T18:31:40.030785Z",
     "iopub.status.idle": "2022-03-03T18:31:40.034692Z",
     "shell.execute_reply": "2022-03-03T18:31:40.035465Z",
     "shell.execute_reply.started": "2022-03-02T16:33:06.048186Z"
    },
    "papermill": {
     "duration": 1.206033,
     "end_time": "2022-03-03T18:31:40.035689",
     "exception": false,
     "start_time": "2022-03-03T18:31:38.829656",
     "status": "completed"
    },
    "tags": []
   },
   "outputs": [],
   "source": [
    "learn.freeze()"
   ]
  },
  {
   "cell_type": "code",
   "execution_count": 42,
   "id": "9c743b17",
   "metadata": {
    "execution": {
     "iopub.execute_input": "2022-03-03T18:31:41.264155Z",
     "iopub.status.busy": "2022-03-03T18:31:41.263015Z",
     "iopub.status.idle": "2022-03-03T18:31:41.269405Z",
     "shell.execute_reply": "2022-03-03T18:31:41.270307Z",
     "shell.execute_reply.started": "2022-03-02T16:33:06.05698Z"
    },
    "papermill": {
     "duration": 0.570871,
     "end_time": "2022-03-03T18:31:41.270561",
     "exception": false,
     "start_time": "2022-03-03T18:31:40.699690",
     "status": "completed"
    },
    "tags": []
   },
   "outputs": [
    {
     "data": {
      "text/plain": [
       "CrossEntropyLoss()"
      ]
     },
     "execution_count": 42,
     "metadata": {},
     "output_type": "execute_result"
    }
   ],
   "source": [
    "learn.loss_func.func"
   ]
  },
  {
   "cell_type": "code",
   "execution_count": 43,
   "id": "0ae9f483",
   "metadata": {
    "execution": {
     "iopub.execute_input": "2022-03-03T18:31:42.537622Z",
     "iopub.status.busy": "2022-03-03T18:31:42.535272Z",
     "iopub.status.idle": "2022-03-03T18:31:42.538388Z",
     "shell.execute_reply": "2022-03-03T18:31:42.538912Z",
     "shell.execute_reply.started": "2022-03-02T16:33:06.064938Z"
    },
    "papermill": {
     "duration": 0.549442,
     "end_time": "2022-03-03T18:31:42.539069",
     "exception": false,
     "start_time": "2022-03-03T18:31:41.989627",
     "status": "completed"
    },
    "tags": []
   },
   "outputs": [],
   "source": [
    "mcc = MatthewsCorreff()"
   ]
  },
  {
   "cell_type": "code",
   "execution_count": 44,
   "id": "05718f9c",
   "metadata": {
    "execution": {
     "iopub.execute_input": "2022-03-03T18:31:43.632855Z",
     "iopub.status.busy": "2022-03-03T18:31:43.631770Z",
     "iopub.status.idle": "2022-03-03T18:31:43.635020Z",
     "shell.execute_reply": "2022-03-03T18:31:43.634448Z",
     "shell.execute_reply.started": "2022-03-02T16:33:06.07257Z"
    },
    "papermill": {
     "duration": 0.543856,
     "end_time": "2022-03-03T18:31:43.635186",
     "exception": false,
     "start_time": "2022-03-03T18:31:43.091330",
     "status": "completed"
    },
    "tags": []
   },
   "outputs": [],
   "source": [
    "learn.metrics = [mcc, accuracy]"
   ]
  },
  {
   "cell_type": "code",
   "execution_count": 45,
   "id": "a10956d1",
   "metadata": {
    "execution": {
     "iopub.execute_input": "2022-03-03T18:31:44.697047Z",
     "iopub.status.busy": "2022-03-03T18:31:44.695950Z",
     "iopub.status.idle": "2022-03-03T18:31:50.868197Z",
     "shell.execute_reply": "2022-03-03T18:31:50.867600Z",
     "shell.execute_reply.started": "2022-03-02T16:33:06.080895Z"
    },
    "papermill": {
     "duration": 6.708285,
     "end_time": "2022-03-03T18:31:50.868353",
     "exception": false,
     "start_time": "2022-03-03T18:31:44.160068",
     "status": "completed"
    },
    "tags": []
   },
   "outputs": [
    {
     "data": {
      "text/html": [
       "<table border=\"1\" class=\"dataframe\">\n",
       "  <thead>\n",
       "    <tr style=\"text-align: left;\">\n",
       "      <th>epoch</th>\n",
       "      <th>train_loss</th>\n",
       "      <th>valid_loss</th>\n",
       "      <th>matthews_correff</th>\n",
       "      <th>accuracy</th>\n",
       "      <th>time</th>\n",
       "    </tr>\n",
       "  </thead>\n",
       "  <tbody>\n",
       "    <tr>\n",
       "      <td>0</td>\n",
       "      <td>1.232277</td>\n",
       "      <td>1.114377</td>\n",
       "      <td>0.280259</td>\n",
       "      <td>0.633929</td>\n",
       "      <td>00:06</td>\n",
       "    </tr>\n",
       "  </tbody>\n",
       "</table>"
      ],
      "text/plain": [
       "<IPython.core.display.HTML object>"
      ]
     },
     "metadata": {},
     "output_type": "display_data"
    },
    {
     "name": "stderr",
     "output_type": "stream",
     "text": [
      "/opt/conda/lib/python3.7/site-packages/numpy/core/_asarray.py:102: VisibleDeprecationWarning: Creating an ndarray from ragged nested sequences (which is a list-or-tuple of lists-or-tuples-or ndarrays with different lengths or shapes) is deprecated. If you meant to do this, you must specify 'dtype=object' when creating the ndarray.\n",
      "  return array(a, dtype, copy=False, order=order)\n",
      "<string>:6: VisibleDeprecationWarning: Creating an ndarray from ragged nested sequences (which is a list-or-tuple of lists-or-tuples-or ndarrays with different lengths or shapes) is deprecated. If you meant to do this, you must specify 'dtype=object' when creating the ndarray.\n",
      "[W pthreadpool-cpp.cc:90] Warning: Leaking Caffe2 thread-pool after fork. (function pthreadpool)\n",
      "[W pthreadpool-cpp.cc:90] Warning: Leaking Caffe2 thread-pool after fork. (function pthreadpool)\n"
     ]
    }
   ],
   "source": [
    "learn.fit_one_cycle(1, 1e-2)"
   ]
  },
  {
   "cell_type": "code",
   "execution_count": 46,
   "id": "8358d51b",
   "metadata": {
    "execution": {
     "iopub.execute_input": "2022-03-03T18:31:51.990529Z",
     "iopub.status.busy": "2022-03-03T18:31:51.989407Z",
     "iopub.status.idle": "2022-03-03T18:31:59.965042Z",
     "shell.execute_reply": "2022-03-03T18:31:59.964443Z",
     "shell.execute_reply.started": "2022-03-02T16:33:12.277856Z"
    },
    "papermill": {
     "duration": 8.559327,
     "end_time": "2022-03-03T18:31:59.965241",
     "exception": false,
     "start_time": "2022-03-03T18:31:51.405914",
     "status": "completed"
    },
    "tags": []
   },
   "outputs": [
    {
     "data": {
      "text/html": [
       "<table border=\"1\" class=\"dataframe\">\n",
       "  <thead>\n",
       "    <tr style=\"text-align: left;\">\n",
       "      <th>epoch</th>\n",
       "      <th>train_loss</th>\n",
       "      <th>valid_loss</th>\n",
       "      <th>matthews_correff</th>\n",
       "      <th>accuracy</th>\n",
       "      <th>time</th>\n",
       "    </tr>\n",
       "  </thead>\n",
       "  <tbody>\n",
       "    <tr>\n",
       "      <td>0</td>\n",
       "      <td>1.070057</td>\n",
       "      <td>0.997211</td>\n",
       "      <td>0.389691</td>\n",
       "      <td>0.696429</td>\n",
       "      <td>00:07</td>\n",
       "    </tr>\n",
       "  </tbody>\n",
       "</table>"
      ],
      "text/plain": [
       "<IPython.core.display.HTML object>"
      ]
     },
     "metadata": {},
     "output_type": "display_data"
    },
    {
     "name": "stderr",
     "output_type": "stream",
     "text": [
      "[W pthreadpool-cpp.cc:90] Warning: Leaking Caffe2 thread-pool after fork. (function pthreadpool)\n",
      "[W pthreadpool-cpp.cc:90] Warning: Leaking Caffe2 thread-pool after fork. (function pthreadpool)\n",
      "/opt/conda/lib/python3.7/site-packages/numpy/core/_asarray.py:102: VisibleDeprecationWarning: Creating an ndarray from ragged nested sequences (which is a list-or-tuple of lists-or-tuples-or ndarrays with different lengths or shapes) is deprecated. If you meant to do this, you must specify 'dtype=object' when creating the ndarray.\n",
      "  return array(a, dtype, copy=False, order=order)\n",
      "<string>:6: VisibleDeprecationWarning: Creating an ndarray from ragged nested sequences (which is a list-or-tuple of lists-or-tuples-or ndarrays with different lengths or shapes) is deprecated. If you meant to do this, you must specify 'dtype=object' when creating the ndarray.\n",
      "[W pthreadpool-cpp.cc:90] Warning: Leaking Caffe2 thread-pool after fork. (function pthreadpool)\n",
      "[W pthreadpool-cpp.cc:90] Warning: Leaking Caffe2 thread-pool after fork. (function pthreadpool)\n"
     ]
    }
   ],
   "source": [
    "learn.freeze_to(-2)\n",
    "learn.fit_one_cycle(1, 1e-2)"
   ]
  },
  {
   "cell_type": "code",
   "execution_count": 47,
   "id": "0c2b3f0e",
   "metadata": {
    "execution": {
     "iopub.execute_input": "2022-03-03T18:32:01.395686Z",
     "iopub.status.busy": "2022-03-03T18:32:01.394464Z",
     "iopub.status.idle": "2022-03-03T18:34:19.053026Z",
     "shell.execute_reply": "2022-03-03T18:34:19.053622Z",
     "shell.execute_reply.started": "2022-03-02T16:33:18.81695Z"
    },
    "papermill": {
     "duration": 138.542783,
     "end_time": "2022-03-03T18:34:19.053846",
     "exception": false,
     "start_time": "2022-03-03T18:32:00.511063",
     "status": "completed"
    },
    "tags": []
   },
   "outputs": [
    {
     "data": {
      "text/html": [
       "<table border=\"1\" class=\"dataframe\">\n",
       "  <thead>\n",
       "    <tr style=\"text-align: left;\">\n",
       "      <th>epoch</th>\n",
       "      <th>train_loss</th>\n",
       "      <th>valid_loss</th>\n",
       "      <th>matthews_correff</th>\n",
       "      <th>accuracy</th>\n",
       "      <th>time</th>\n",
       "    </tr>\n",
       "  </thead>\n",
       "  <tbody>\n",
       "    <tr>\n",
       "      <td>0</td>\n",
       "      <td>0.902292</td>\n",
       "      <td>1.019348</td>\n",
       "      <td>0.352414</td>\n",
       "      <td>0.666071</td>\n",
       "      <td>00:18</td>\n",
       "    </tr>\n",
       "    <tr>\n",
       "      <td>1</td>\n",
       "      <td>0.873637</td>\n",
       "      <td>1.026243</td>\n",
       "      <td>0.361655</td>\n",
       "      <td>0.658929</td>\n",
       "      <td>00:15</td>\n",
       "    </tr>\n",
       "    <tr>\n",
       "      <td>2</td>\n",
       "      <td>0.856329</td>\n",
       "      <td>1.232639</td>\n",
       "      <td>0.351417</td>\n",
       "      <td>0.600000</td>\n",
       "      <td>00:15</td>\n",
       "    </tr>\n",
       "    <tr>\n",
       "      <td>3</td>\n",
       "      <td>0.779987</td>\n",
       "      <td>1.080215</td>\n",
       "      <td>0.383797</td>\n",
       "      <td>0.675000</td>\n",
       "      <td>00:15</td>\n",
       "    </tr>\n",
       "    <tr>\n",
       "      <td>4</td>\n",
       "      <td>0.701850</td>\n",
       "      <td>1.113537</td>\n",
       "      <td>0.378843</td>\n",
       "      <td>0.653571</td>\n",
       "      <td>00:19</td>\n",
       "    </tr>\n",
       "    <tr>\n",
       "      <td>5</td>\n",
       "      <td>0.644573</td>\n",
       "      <td>1.176700</td>\n",
       "      <td>0.398509</td>\n",
       "      <td>0.657143</td>\n",
       "      <td>00:18</td>\n",
       "    </tr>\n",
       "    <tr>\n",
       "      <td>6</td>\n",
       "      <td>0.619053</td>\n",
       "      <td>1.227636</td>\n",
       "      <td>0.393032</td>\n",
       "      <td>0.646429</td>\n",
       "      <td>00:15</td>\n",
       "    </tr>\n",
       "    <tr>\n",
       "      <td>7</td>\n",
       "      <td>0.631276</td>\n",
       "      <td>1.252194</td>\n",
       "      <td>0.385740</td>\n",
       "      <td>0.637500</td>\n",
       "      <td>00:18</td>\n",
       "    </tr>\n",
       "  </tbody>\n",
       "</table>"
      ],
      "text/plain": [
       "<IPython.core.display.HTML object>"
      ]
     },
     "metadata": {},
     "output_type": "display_data"
    },
    {
     "name": "stderr",
     "output_type": "stream",
     "text": [
      "[W pthreadpool-cpp.cc:90] Warning: Leaking Caffe2 thread-pool after fork. (function pthreadpool)\n",
      "[W pthreadpool-cpp.cc:90] Warning: Leaking Caffe2 thread-pool after fork. (function pthreadpool)\n",
      "/opt/conda/lib/python3.7/site-packages/numpy/core/_asarray.py:102: VisibleDeprecationWarning: Creating an ndarray from ragged nested sequences (which is a list-or-tuple of lists-or-tuples-or ndarrays with different lengths or shapes) is deprecated. If you meant to do this, you must specify 'dtype=object' when creating the ndarray.\n",
      "  return array(a, dtype, copy=False, order=order)\n",
      "<string>:6: VisibleDeprecationWarning: Creating an ndarray from ragged nested sequences (which is a list-or-tuple of lists-or-tuples-or ndarrays with different lengths or shapes) is deprecated. If you meant to do this, you must specify 'dtype=object' when creating the ndarray.\n",
      "[W pthreadpool-cpp.cc:90] Warning: Leaking Caffe2 thread-pool after fork. (function pthreadpool)\n",
      "[W pthreadpool-cpp.cc:90] Warning: Leaking Caffe2 thread-pool after fork. (function pthreadpool)\n",
      "/opt/conda/lib/python3.7/site-packages/fastai/callbacks/tracker.py:50: UserWarning: <class 'fastai.callbacks.tracker.SaveModelCallback'> conditioned on metric `f_beta` which is not available. Available metrics are: train_loss, valid_loss, matthews_correff, accuracy\n",
      "  warn(f'{self.__class__} conditioned on metric `{self.monitor}` which is not available. Available metrics are: {\", \".join(map(str, self.learn.recorder.names[1:-1]))}')\n",
      "[W pthreadpool-cpp.cc:90] Warning: Leaking Caffe2 thread-pool after fork. (function pthreadpool)\n",
      "[W pthreadpool-cpp.cc:90] Warning: Leaking Caffe2 thread-pool after fork. (function pthreadpool)\n",
      "/opt/conda/lib/python3.7/site-packages/numpy/core/_asarray.py:102: VisibleDeprecationWarning: Creating an ndarray from ragged nested sequences (which is a list-or-tuple of lists-or-tuples-or ndarrays with different lengths or shapes) is deprecated. If you meant to do this, you must specify 'dtype=object' when creating the ndarray.\n",
      "  return array(a, dtype, copy=False, order=order)\n",
      "<string>:6: VisibleDeprecationWarning: Creating an ndarray from ragged nested sequences (which is a list-or-tuple of lists-or-tuples-or ndarrays with different lengths or shapes) is deprecated. If you meant to do this, you must specify 'dtype=object' when creating the ndarray.\n",
      "[W pthreadpool-cpp.cc:90] Warning: Leaking Caffe2 thread-pool after fork. (function pthreadpool)\n",
      "[W pthreadpool-cpp.cc:90] Warning: Leaking Caffe2 thread-pool after fork. (function pthreadpool)\n",
      "/opt/conda/lib/python3.7/site-packages/fastai/callbacks/tracker.py:50: UserWarning: <class 'fastai.callbacks.tracker.SaveModelCallback'> conditioned on metric `f_beta` which is not available. Available metrics are: train_loss, valid_loss, matthews_correff, accuracy\n",
      "  warn(f'{self.__class__} conditioned on metric `{self.monitor}` which is not available. Available metrics are: {\", \".join(map(str, self.learn.recorder.names[1:-1]))}')\n",
      "[W pthreadpool-cpp.cc:90] Warning: Leaking Caffe2 thread-pool after fork. (function pthreadpool)\n",
      "[W pthreadpool-cpp.cc:90] Warning: Leaking Caffe2 thread-pool after fork. (function pthreadpool)\n",
      "/opt/conda/lib/python3.7/site-packages/numpy/core/_asarray.py:102: VisibleDeprecationWarning: Creating an ndarray from ragged nested sequences (which is a list-or-tuple of lists-or-tuples-or ndarrays with different lengths or shapes) is deprecated. If you meant to do this, you must specify 'dtype=object' when creating the ndarray.\n",
      "  return array(a, dtype, copy=False, order=order)\n",
      "<string>:6: VisibleDeprecationWarning: Creating an ndarray from ragged nested sequences (which is a list-or-tuple of lists-or-tuples-or ndarrays with different lengths or shapes) is deprecated. If you meant to do this, you must specify 'dtype=object' when creating the ndarray.\n",
      "[W pthreadpool-cpp.cc:90] Warning: Leaking Caffe2 thread-pool after fork. (function pthreadpool)\n",
      "[W pthreadpool-cpp.cc:90] Warning: Leaking Caffe2 thread-pool after fork. (function pthreadpool)\n",
      "/opt/conda/lib/python3.7/site-packages/fastai/callbacks/tracker.py:50: UserWarning: <class 'fastai.callbacks.tracker.SaveModelCallback'> conditioned on metric `f_beta` which is not available. Available metrics are: train_loss, valid_loss, matthews_correff, accuracy\n",
      "  warn(f'{self.__class__} conditioned on metric `{self.monitor}` which is not available. Available metrics are: {\", \".join(map(str, self.learn.recorder.names[1:-1]))}')\n",
      "[W pthreadpool-cpp.cc:90] Warning: Leaking Caffe2 thread-pool after fork. (function pthreadpool)\n",
      "[W pthreadpool-cpp.cc:90] Warning: Leaking Caffe2 thread-pool after fork. (function pthreadpool)\n",
      "/opt/conda/lib/python3.7/site-packages/numpy/core/_asarray.py:102: VisibleDeprecationWarning: Creating an ndarray from ragged nested sequences (which is a list-or-tuple of lists-or-tuples-or ndarrays with different lengths or shapes) is deprecated. If you meant to do this, you must specify 'dtype=object' when creating the ndarray.\n",
      "  return array(a, dtype, copy=False, order=order)\n",
      "<string>:6: VisibleDeprecationWarning: Creating an ndarray from ragged nested sequences (which is a list-or-tuple of lists-or-tuples-or ndarrays with different lengths or shapes) is deprecated. If you meant to do this, you must specify 'dtype=object' when creating the ndarray.\n",
      "[W pthreadpool-cpp.cc:90] Warning: Leaking Caffe2 thread-pool after fork. (function pthreadpool)\n",
      "[W pthreadpool-cpp.cc:90] Warning: Leaking Caffe2 thread-pool after fork. (function pthreadpool)\n",
      "/opt/conda/lib/python3.7/site-packages/fastai/callbacks/tracker.py:50: UserWarning: <class 'fastai.callbacks.tracker.SaveModelCallback'> conditioned on metric `f_beta` which is not available. Available metrics are: train_loss, valid_loss, matthews_correff, accuracy\n",
      "  warn(f'{self.__class__} conditioned on metric `{self.monitor}` which is not available. Available metrics are: {\", \".join(map(str, self.learn.recorder.names[1:-1]))}')\n",
      "[W pthreadpool-cpp.cc:90] Warning: Leaking Caffe2 thread-pool after fork. (function pthreadpool)\n",
      "[W pthreadpool-cpp.cc:90] Warning: Leaking Caffe2 thread-pool after fork. (function pthreadpool)\n",
      "/opt/conda/lib/python3.7/site-packages/numpy/core/_asarray.py:102: VisibleDeprecationWarning: Creating an ndarray from ragged nested sequences (which is a list-or-tuple of lists-or-tuples-or ndarrays with different lengths or shapes) is deprecated. If you meant to do this, you must specify 'dtype=object' when creating the ndarray.\n",
      "  return array(a, dtype, copy=False, order=order)\n",
      "<string>:6: VisibleDeprecationWarning: Creating an ndarray from ragged nested sequences (which is a list-or-tuple of lists-or-tuples-or ndarrays with different lengths or shapes) is deprecated. If you meant to do this, you must specify 'dtype=object' when creating the ndarray.\n",
      "[W pthreadpool-cpp.cc:90] Warning: Leaking Caffe2 thread-pool after fork. (function pthreadpool)\n",
      "[W pthreadpool-cpp.cc:90] Warning: Leaking Caffe2 thread-pool after fork. (function pthreadpool)\n",
      "/opt/conda/lib/python3.7/site-packages/fastai/callbacks/tracker.py:50: UserWarning: <class 'fastai.callbacks.tracker.SaveModelCallback'> conditioned on metric `f_beta` which is not available. Available metrics are: train_loss, valid_loss, matthews_correff, accuracy\n",
      "  warn(f'{self.__class__} conditioned on metric `{self.monitor}` which is not available. Available metrics are: {\", \".join(map(str, self.learn.recorder.names[1:-1]))}')\n",
      "[W pthreadpool-cpp.cc:90] Warning: Leaking Caffe2 thread-pool after fork. (function pthreadpool)\n",
      "[W pthreadpool-cpp.cc:90] Warning: Leaking Caffe2 thread-pool after fork. (function pthreadpool)\n",
      "/opt/conda/lib/python3.7/site-packages/numpy/core/_asarray.py:102: VisibleDeprecationWarning: Creating an ndarray from ragged nested sequences (which is a list-or-tuple of lists-or-tuples-or ndarrays with different lengths or shapes) is deprecated. If you meant to do this, you must specify 'dtype=object' when creating the ndarray.\n",
      "  return array(a, dtype, copy=False, order=order)\n",
      "<string>:6: VisibleDeprecationWarning: Creating an ndarray from ragged nested sequences (which is a list-or-tuple of lists-or-tuples-or ndarrays with different lengths or shapes) is deprecated. If you meant to do this, you must specify 'dtype=object' when creating the ndarray.\n",
      "[W pthreadpool-cpp.cc:90] Warning: Leaking Caffe2 thread-pool after fork. (function pthreadpool)\n",
      "[W pthreadpool-cpp.cc:90] Warning: Leaking Caffe2 thread-pool after fork. (function pthreadpool)\n",
      "/opt/conda/lib/python3.7/site-packages/fastai/callbacks/tracker.py:50: UserWarning: <class 'fastai.callbacks.tracker.SaveModelCallback'> conditioned on metric `f_beta` which is not available. Available metrics are: train_loss, valid_loss, matthews_correff, accuracy\n",
      "  warn(f'{self.__class__} conditioned on metric `{self.monitor}` which is not available. Available metrics are: {\", \".join(map(str, self.learn.recorder.names[1:-1]))}')\n",
      "[W pthreadpool-cpp.cc:90] Warning: Leaking Caffe2 thread-pool after fork. (function pthreadpool)\n",
      "[W pthreadpool-cpp.cc:90] Warning: Leaking Caffe2 thread-pool after fork. (function pthreadpool)\n",
      "/opt/conda/lib/python3.7/site-packages/numpy/core/_asarray.py:102: VisibleDeprecationWarning: Creating an ndarray from ragged nested sequences (which is a list-or-tuple of lists-or-tuples-or ndarrays with different lengths or shapes) is deprecated. If you meant to do this, you must specify 'dtype=object' when creating the ndarray.\n",
      "  return array(a, dtype, copy=False, order=order)\n",
      "<string>:6: VisibleDeprecationWarning: Creating an ndarray from ragged nested sequences (which is a list-or-tuple of lists-or-tuples-or ndarrays with different lengths or shapes) is deprecated. If you meant to do this, you must specify 'dtype=object' when creating the ndarray.\n",
      "[W pthreadpool-cpp.cc:90] Warning: Leaking Caffe2 thread-pool after fork. (function pthreadpool)\n",
      "[W pthreadpool-cpp.cc:90] Warning: Leaking Caffe2 thread-pool after fork. (function pthreadpool)\n",
      "/opt/conda/lib/python3.7/site-packages/fastai/callbacks/tracker.py:50: UserWarning: <class 'fastai.callbacks.tracker.SaveModelCallback'> conditioned on metric `f_beta` which is not available. Available metrics are: train_loss, valid_loss, matthews_correff, accuracy\n",
      "  warn(f'{self.__class__} conditioned on metric `{self.monitor}` which is not available. Available metrics are: {\", \".join(map(str, self.learn.recorder.names[1:-1]))}')\n",
      "[W pthreadpool-cpp.cc:90] Warning: Leaking Caffe2 thread-pool after fork. (function pthreadpool)\n",
      "[W pthreadpool-cpp.cc:90] Warning: Leaking Caffe2 thread-pool after fork. (function pthreadpool)\n",
      "/opt/conda/lib/python3.7/site-packages/numpy/core/_asarray.py:102: VisibleDeprecationWarning: Creating an ndarray from ragged nested sequences (which is a list-or-tuple of lists-or-tuples-or ndarrays with different lengths or shapes) is deprecated. If you meant to do this, you must specify 'dtype=object' when creating the ndarray.\n",
      "  return array(a, dtype, copy=False, order=order)\n",
      "<string>:6: VisibleDeprecationWarning: Creating an ndarray from ragged nested sequences (which is a list-or-tuple of lists-or-tuples-or ndarrays with different lengths or shapes) is deprecated. If you meant to do this, you must specify 'dtype=object' when creating the ndarray.\n",
      "[W pthreadpool-cpp.cc:90] Warning: Leaking Caffe2 thread-pool after fork. (function pthreadpool)\n",
      "[W pthreadpool-cpp.cc:90] Warning: Leaking Caffe2 thread-pool after fork. (function pthreadpool)\n",
      "/opt/conda/lib/python3.7/site-packages/fastai/callbacks/tracker.py:50: UserWarning: <class 'fastai.callbacks.tracker.SaveModelCallback'> conditioned on metric `f_beta` which is not available. Available metrics are: train_loss, valid_loss, matthews_correff, accuracy\n",
      "  warn(f'{self.__class__} conditioned on metric `{self.monitor}` which is not available. Available metrics are: {\", \".join(map(str, self.learn.recorder.names[1:-1]))}')\n"
     ]
    }
   ],
   "source": [
    "learn.unfreeze()\n",
    "learn.fit_one_cycle(8, 1e-3, callbacks=[callbacks.SaveModelCallback(learn, every='improvement', monitor='f_beta', name='final')])"
   ]
  },
  {
   "cell_type": "code",
   "execution_count": 48,
   "id": "b6629c31",
   "metadata": {
    "execution": {
     "iopub.execute_input": "2022-03-03T18:34:20.161508Z",
     "iopub.status.busy": "2022-03-03T18:34:20.160198Z",
     "iopub.status.idle": "2022-03-03T18:34:20.980645Z",
     "shell.execute_reply": "2022-03-03T18:34:20.981198Z",
     "shell.execute_reply.started": "2022-03-02T16:35:16.86378Z"
    },
    "papermill": {
     "duration": 1.379589,
     "end_time": "2022-03-03T18:34:20.981376",
     "exception": false,
     "start_time": "2022-03-03T18:34:19.601787",
     "status": "completed"
    },
    "tags": []
   },
   "outputs": [
    {
     "data": {
      "text/html": [],
      "text/plain": [
       "<IPython.core.display.HTML object>"
      ]
     },
     "metadata": {},
     "output_type": "display_data"
    },
    {
     "name": "stderr",
     "output_type": "stream",
     "text": [
      "[W pthreadpool-cpp.cc:90] Warning: Leaking Caffe2 thread-pool after fork. (function pthreadpool)\n",
      "[W pthreadpool-cpp.cc:90] Warning: Leaking Caffe2 thread-pool after fork. (function pthreadpool)\n"
     ]
    },
    {
     "data": {
      "text/html": [
       "<div>\n",
       "<style scoped>\n",
       "    .dataframe tbody tr th:only-of-type {\n",
       "        vertical-align: middle;\n",
       "    }\n",
       "\n",
       "    .dataframe tbody tr th {\n",
       "        vertical-align: top;\n",
       "    }\n",
       "\n",
       "    .dataframe thead th {\n",
       "        text-align: right;\n",
       "    }\n",
       "</style>\n",
       "<table border=\"1\" class=\"dataframe\">\n",
       "  <thead>\n",
       "    <tr style=\"text-align: right;\">\n",
       "      <th></th>\n",
       "      <th>query</th>\n",
       "      <th>actual_label</th>\n",
       "      <th>predicted_label</th>\n",
       "      <th>Xenophobia</th>\n",
       "      <th>Hope-Speech</th>\n",
       "      <th>None-of-the-above</th>\n",
       "      <th>Not-Tamil</th>\n",
       "      <th>Transphobic</th>\n",
       "      <th>Misogyny</th>\n",
       "      <th>Counter-speech</th>\n",
       "      <th>Misandry</th>\n",
       "      <th>Homophobia</th>\n",
       "    </tr>\n",
       "  </thead>\n",
       "  <tbody>\n",
       "    <tr>\n",
       "      <th>0</th>\n",
       "      <td>Abirami Vijayakumar என் தலைவிதி என்று தான் நான...</td>\n",
       "      <td>None-of-the-above</td>\n",
       "      <td>None-of-the-above</td>\n",
       "      <td>0.004449</td>\n",
       "      <td>0.316857</td>\n",
       "      <td>0.648226</td>\n",
       "      <td>0.000022</td>\n",
       "      <td>0.000108</td>\n",
       "      <td>0.001</td>\n",
       "      <td>0.028375</td>\n",
       "      <td>0.000767</td>\n",
       "      <td>0.000195</td>\n",
       "    </tr>\n",
       "    <tr>\n",
       "      <th>1</th>\n",
       "      <td>மாமனிதர் அண்ணன் நீங்கள் நீடூழி வாழவேண்டும்உங்க...</td>\n",
       "      <td>None-of-the-above</td>\n",
       "      <td>None-of-the-above</td>\n",
       "      <td>0.00339</td>\n",
       "      <td>0.061938</td>\n",
       "      <td>0.782963</td>\n",
       "      <td>0.000015</td>\n",
       "      <td>0.000622</td>\n",
       "      <td>0.014177</td>\n",
       "      <td>0.097893</td>\n",
       "      <td>0.034947</td>\n",
       "      <td>0.004055</td>\n",
       "    </tr>\n",
       "    <tr>\n",
       "      <th>2</th>\n",
       "      <td>சரியா சோலிங்கா சார்</td>\n",
       "      <td>None-of-the-above</td>\n",
       "      <td>None-of-the-above</td>\n",
       "      <td>0.007454</td>\n",
       "      <td>0.001127</td>\n",
       "      <td>0.929226</td>\n",
       "      <td>0.000002</td>\n",
       "      <td>0.00244</td>\n",
       "      <td>0.011092</td>\n",
       "      <td>0.011043</td>\n",
       "      <td>0.023955</td>\n",
       "      <td>0.013662</td>\n",
       "    </tr>\n",
       "    <tr>\n",
       "      <th>3</th>\n",
       "      <td>ஆமைக்கறி அண்ணன் சீமான்</td>\n",
       "      <td>None-of-the-above</td>\n",
       "      <td>None-of-the-above</td>\n",
       "      <td>0.008961</td>\n",
       "      <td>0.004119</td>\n",
       "      <td>0.736981</td>\n",
       "      <td>0.000002</td>\n",
       "      <td>0.001131</td>\n",
       "      <td>0.00513</td>\n",
       "      <td>0.027813</td>\n",
       "      <td>0.206483</td>\n",
       "      <td>0.00938</td>\n",
       "    </tr>\n",
       "    <tr>\n",
       "      <th>4</th>\n",
       "      <td>ஆனந்த சார் நியாயமான பேச்சு</td>\n",
       "      <td>None-of-the-above</td>\n",
       "      <td>Hope-Speech</td>\n",
       "      <td>0.002903</td>\n",
       "      <td>0.59448</td>\n",
       "      <td>0.377297</td>\n",
       "      <td>0.000043</td>\n",
       "      <td>0.000714</td>\n",
       "      <td>0.000532</td>\n",
       "      <td>0.015599</td>\n",
       "      <td>0.000718</td>\n",
       "      <td>0.007715</td>\n",
       "    </tr>\n",
       "  </tbody>\n",
       "</table>\n",
       "</div>"
      ],
      "text/plain": [
       "                                               query       actual_label  \\\n",
       "0  Abirami Vijayakumar என் தலைவிதி என்று தான் நான...  None-of-the-above   \n",
       "1  மாமனிதர் அண்ணன் நீங்கள் நீடூழி வாழவேண்டும்உங்க...  None-of-the-above   \n",
       "2                                சரியா சோலிங்கா சார்  None-of-the-above   \n",
       "3                             ஆமைக்கறி அண்ணன் சீமான்  None-of-the-above   \n",
       "4                         ஆனந்த சார் நியாயமான பேச்சு  None-of-the-above   \n",
       "\n",
       "     predicted_label Xenophobia Hope-Speech None-of-the-above Not-Tamil  \\\n",
       "0  None-of-the-above   0.004449    0.316857          0.648226  0.000022   \n",
       "1  None-of-the-above    0.00339    0.061938          0.782963  0.000015   \n",
       "2  None-of-the-above   0.007454    0.001127          0.929226  0.000002   \n",
       "3  None-of-the-above   0.008961    0.004119          0.736981  0.000002   \n",
       "4        Hope-Speech   0.002903     0.59448          0.377297  0.000043   \n",
       "\n",
       "  Transphobic  Misogyny Counter-speech  Misandry Homophobia  \n",
       "0    0.000108     0.001       0.028375  0.000767   0.000195  \n",
       "1    0.000622  0.014177       0.097893  0.034947   0.004055  \n",
       "2     0.00244  0.011092       0.011043  0.023955   0.013662  \n",
       "3    0.001131   0.00513       0.027813  0.206483    0.00938  \n",
       "4    0.000714  0.000532       0.015599  0.000718   0.007715  "
      ]
     },
     "execution_count": 48,
     "metadata": {},
     "output_type": "execute_result"
    }
   ],
   "source": [
    "from sklearn.metrics import accuracy_score, matthews_corrcoef\n",
    "df_dict = {'query': list(df_test[1]), 'actual_label': list(df_test[0]), 'predicted_label': ['']*df_test.shape[0]}\n",
    "all_nodes = list(set(df_train[0]))\n",
    "for node in all_nodes:\n",
    "    df_dict[node] = ['']*df_test.shape[0]\n",
    "\n",
    "i2c = {}\n",
    "for key, value in learn.data.c2i.items():\n",
    "    i2c[value] = key\n",
    "\n",
    "df_result = pd.DataFrame(df_dict)\n",
    "preds = learn.get_preds(ds_type=DatasetType.Test, ordered=True)\n",
    "for index, row in df_result.iterrows():\n",
    "    for node in all_nodes:\n",
    "        row[node] = preds[0][index][learn.data.c2i[node]].item()\n",
    "    row['predicted_label'] = i2c[np.argmax(preds[0][index]).data.item()]\n",
    "df_result.head()"
   ]
  },
  {
   "cell_type": "code",
   "execution_count": 49,
   "id": "9413126a",
   "metadata": {
    "execution": {
     "iopub.execute_input": "2022-03-03T18:34:22.099058Z",
     "iopub.status.busy": "2022-03-03T18:34:22.098295Z",
     "iopub.status.idle": "2022-03-03T18:34:22.107247Z",
     "shell.execute_reply": "2022-03-03T18:34:22.106698Z",
     "shell.execute_reply.started": "2022-03-02T16:35:18.645885Z"
    },
    "papermill": {
     "duration": 0.566813,
     "end_time": "2022-03-03T18:34:22.107386",
     "exception": false,
     "start_time": "2022-03-03T18:34:21.540573",
     "status": "completed"
    },
    "tags": []
   },
   "outputs": [
    {
     "data": {
      "text/plain": [
       "0.6128571428571429"
      ]
     },
     "execution_count": 49,
     "metadata": {},
     "output_type": "execute_result"
    }
   ],
   "source": [
    "accuracy_score(df_result['actual_label'], df_result['predicted_label'])"
   ]
  },
  {
   "cell_type": "code",
   "execution_count": 50,
   "id": "90572a12",
   "metadata": {
    "execution": {
     "iopub.execute_input": "2022-03-03T18:34:23.212746Z",
     "iopub.status.busy": "2022-03-03T18:34:23.211721Z",
     "iopub.status.idle": "2022-03-03T18:34:23.226061Z",
     "shell.execute_reply": "2022-03-03T18:34:23.226580Z",
     "shell.execute_reply.started": "2022-03-02T16:35:18.657767Z"
    },
    "papermill": {
     "duration": 0.56801,
     "end_time": "2022-03-03T18:34:23.226743",
     "exception": false,
     "start_time": "2022-03-03T18:34:22.658733",
     "status": "completed"
    },
    "tags": []
   },
   "outputs": [
    {
     "data": {
      "text/plain": [
       "0.3681207978524583"
      ]
     },
     "execution_count": 50,
     "metadata": {},
     "output_type": "execute_result"
    }
   ],
   "source": [
    "matthews_corrcoef(df_result['actual_label'], df_result['predicted_label'])"
   ]
  },
  {
   "cell_type": "code",
   "execution_count": 51,
   "id": "7d87b4d9",
   "metadata": {
    "execution": {
     "iopub.execute_input": "2022-03-03T18:34:25.286412Z",
     "iopub.status.busy": "2022-03-03T18:34:25.285413Z",
     "iopub.status.idle": "2022-03-03T18:34:25.345589Z",
     "shell.execute_reply": "2022-03-03T18:34:25.347156Z",
     "shell.execute_reply.started": "2022-03-02T16:35:18.674503Z"
    },
    "papermill": {
     "duration": 1.127891,
     "end_time": "2022-03-03T18:34:25.347404",
     "exception": false,
     "start_time": "2022-03-03T18:34:24.219513",
     "status": "completed"
    },
    "tags": []
   },
   "outputs": [
    {
     "name": "stderr",
     "output_type": "stream",
     "text": [
      "/opt/conda/lib/python3.7/site-packages/sklearn/metrics/_classification.py:1221: UndefinedMetricWarning: Precision and F-score are ill-defined and being set to 0.0 in labels with no predicted samples. Use `zero_division` parameter to control this behavior.\n",
      "  _warn_prf(average, modifier, msg_start, len(result))\n"
     ]
    }
   ],
   "source": [
    "report = classification_report(df_result['actual_label'], df_result['predicted_label'],output_dict=True)"
   ]
  },
  {
   "cell_type": "code",
   "execution_count": 52,
   "id": "ec1ec323",
   "metadata": {
    "execution": {
     "iopub.execute_input": "2022-03-03T18:34:26.477673Z",
     "iopub.status.busy": "2022-03-03T18:34:26.476797Z",
     "iopub.status.idle": "2022-03-03T18:34:26.480938Z",
     "shell.execute_reply": "2022-03-03T18:34:26.481483Z",
     "shell.execute_reply.started": "2022-03-02T16:35:18.747045Z"
    },
    "papermill": {
     "duration": 0.575198,
     "end_time": "2022-03-03T18:34:26.481655",
     "exception": false,
     "start_time": "2022-03-03T18:34:25.906457",
     "status": "completed"
    },
    "tags": []
   },
   "outputs": [
    {
     "data": {
      "text/html": [
       "<div>\n",
       "<style scoped>\n",
       "    .dataframe tbody tr th:only-of-type {\n",
       "        vertical-align: middle;\n",
       "    }\n",
       "\n",
       "    .dataframe tbody tr th {\n",
       "        vertical-align: top;\n",
       "    }\n",
       "\n",
       "    .dataframe thead th {\n",
       "        text-align: right;\n",
       "    }\n",
       "</style>\n",
       "<table border=\"1\" class=\"dataframe\">\n",
       "  <thead>\n",
       "    <tr style=\"text-align: right;\">\n",
       "      <th></th>\n",
       "      <th>precision</th>\n",
       "      <th>recall</th>\n",
       "      <th>f1-score</th>\n",
       "      <th>support</th>\n",
       "    </tr>\n",
       "  </thead>\n",
       "  <tbody>\n",
       "    <tr>\n",
       "      <th>Counter-speech</th>\n",
       "      <td>0.266667</td>\n",
       "      <td>0.255319</td>\n",
       "      <td>0.260870</td>\n",
       "      <td>47.000000</td>\n",
       "    </tr>\n",
       "    <tr>\n",
       "      <th>Homophobia</th>\n",
       "      <td>0.500000</td>\n",
       "      <td>0.500000</td>\n",
       "      <td>0.500000</td>\n",
       "      <td>8.000000</td>\n",
       "    </tr>\n",
       "    <tr>\n",
       "      <th>Hope-Speech</th>\n",
       "      <td>0.250000</td>\n",
       "      <td>0.384615</td>\n",
       "      <td>0.303030</td>\n",
       "      <td>26.000000</td>\n",
       "    </tr>\n",
       "    <tr>\n",
       "      <th>Misandry</th>\n",
       "      <td>0.500000</td>\n",
       "      <td>0.653543</td>\n",
       "      <td>0.566553</td>\n",
       "      <td>127.000000</td>\n",
       "    </tr>\n",
       "    <tr>\n",
       "      <th>Misogyny</th>\n",
       "      <td>0.529412</td>\n",
       "      <td>0.375000</td>\n",
       "      <td>0.439024</td>\n",
       "      <td>48.000000</td>\n",
       "    </tr>\n",
       "    <tr>\n",
       "      <th>None-of-the-above</th>\n",
       "      <td>0.761421</td>\n",
       "      <td>0.719424</td>\n",
       "      <td>0.739827</td>\n",
       "      <td>417.000000</td>\n",
       "    </tr>\n",
       "    <tr>\n",
       "      <th>Transphobic</th>\n",
       "      <td>0.000000</td>\n",
       "      <td>0.000000</td>\n",
       "      <td>0.000000</td>\n",
       "      <td>2.000000</td>\n",
       "    </tr>\n",
       "    <tr>\n",
       "      <th>Xenophobia</th>\n",
       "      <td>0.153846</td>\n",
       "      <td>0.080000</td>\n",
       "      <td>0.105263</td>\n",
       "      <td>25.000000</td>\n",
       "    </tr>\n",
       "    <tr>\n",
       "      <th>accuracy</th>\n",
       "      <td>0.612857</td>\n",
       "      <td>0.612857</td>\n",
       "      <td>0.612857</td>\n",
       "      <td>0.612857</td>\n",
       "    </tr>\n",
       "    <tr>\n",
       "      <th>macro avg</th>\n",
       "      <td>0.370168</td>\n",
       "      <td>0.370988</td>\n",
       "      <td>0.364321</td>\n",
       "      <td>700.000000</td>\n",
       "    </tr>\n",
       "    <tr>\n",
       "      <th>weighted avg</th>\n",
       "      <td>0.619006</td>\n",
       "      <td>0.612857</td>\n",
       "      <td>0.611864</td>\n",
       "      <td>700.000000</td>\n",
       "    </tr>\n",
       "  </tbody>\n",
       "</table>\n",
       "</div>"
      ],
      "text/plain": [
       "                   precision    recall  f1-score     support\n",
       "Counter-speech      0.266667  0.255319  0.260870   47.000000\n",
       "Homophobia          0.500000  0.500000  0.500000    8.000000\n",
       "Hope-Speech         0.250000  0.384615  0.303030   26.000000\n",
       "Misandry            0.500000  0.653543  0.566553  127.000000\n",
       "Misogyny            0.529412  0.375000  0.439024   48.000000\n",
       "None-of-the-above   0.761421  0.719424  0.739827  417.000000\n",
       "Transphobic         0.000000  0.000000  0.000000    2.000000\n",
       "Xenophobia          0.153846  0.080000  0.105263   25.000000\n",
       "accuracy            0.612857  0.612857  0.612857    0.612857\n",
       "macro avg           0.370168  0.370988  0.364321  700.000000\n",
       "weighted avg        0.619006  0.612857  0.611864  700.000000"
      ]
     },
     "execution_count": 52,
     "metadata": {},
     "output_type": "execute_result"
    }
   ],
   "source": [
    "pd.DataFrame(report).transpose()"
   ]
  },
  {
   "cell_type": "code",
   "execution_count": 53,
   "id": "1617b4fc",
   "metadata": {
    "execution": {
     "iopub.execute_input": "2022-03-03T18:34:27.603057Z",
     "iopub.status.busy": "2022-03-03T18:34:27.601809Z",
     "iopub.status.idle": "2022-03-03T18:34:27.626883Z",
     "shell.execute_reply": "2022-03-03T18:34:27.626298Z",
     "shell.execute_reply.started": "2022-03-02T16:35:18.762332Z"
    },
    "papermill": {
     "duration": 0.592525,
     "end_time": "2022-03-03T18:34:27.627044",
     "exception": false,
     "start_time": "2022-03-03T18:34:27.034519",
     "status": "completed"
    },
    "tags": []
   },
   "outputs": [],
   "source": [
    "df_result.to_csv('ULMFiT_ACD_TaEn_CD.csv', index=False)"
   ]
  },
  {
   "cell_type": "code",
   "execution_count": 54,
   "id": "d50f92a9",
   "metadata": {
    "execution": {
     "iopub.execute_input": "2022-03-03T18:34:28.745457Z",
     "iopub.status.busy": "2022-03-03T18:34:28.744280Z",
     "iopub.status.idle": "2022-03-03T18:34:28.749631Z",
     "shell.execute_reply": "2022-03-03T18:34:28.750150Z",
     "shell.execute_reply.started": "2022-03-02T16:35:18.806614Z"
    },
    "papermill": {
     "duration": 0.570051,
     "end_time": "2022-03-03T18:34:28.750324",
     "exception": false,
     "start_time": "2022-03-03T18:34:28.180273",
     "status": "completed"
    },
    "tags": []
   },
   "outputs": [
    {
     "data": {
      "text/html": [
       "<a href='ULMFiT_ACD_TaEn_CD.csv' target='_blank'>ULMFiT_ACD_TaEn_CD.csv</a><br>"
      ],
      "text/plain": [
       "/kaggle/working/ULMFiT_ACD_TaEn_CD.csv"
      ]
     },
     "execution_count": 54,
     "metadata": {},
     "output_type": "execute_result"
    }
   ],
   "source": [
    "import os\n",
    "os.chdir(r'../working')\n",
    "from IPython.display import FileLink\n",
    "FileLink(r'ULMFiT_ACD_TaEn_CD.csv')"
   ]
  }
 ],
 "metadata": {
  "kernelspec": {
   "display_name": "Python 3",
   "language": "python",
   "name": "python3"
  },
  "language_info": {
   "codemirror_mode": {
    "name": "ipython",
    "version": 3
   },
   "file_extension": ".py",
   "mimetype": "text/x-python",
   "name": "python",
   "nbconvert_exporter": "python",
   "pygments_lexer": "ipython3",
   "version": "3.7.12"
  },
  "papermill": {
   "default_parameters": {},
   "duration": 458.79057,
   "end_time": "2022-03-03T18:34:32.581716",
   "environment_variables": {},
   "exception": null,
   "input_path": "__notebook__.ipynb",
   "output_path": "__notebook__.ipynb",
   "parameters": {},
   "start_time": "2022-03-03T18:26:53.791146",
   "version": "2.3.3"
  }
 },
 "nbformat": 4,
 "nbformat_minor": 5
}
